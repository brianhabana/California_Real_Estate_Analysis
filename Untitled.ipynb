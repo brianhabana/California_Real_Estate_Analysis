{
 "cells": [
  {
   "cell_type": "code",
   "execution_count": 1,
   "metadata": {},
   "outputs": [
    {
     "ename": "NameError",
     "evalue": "name 'pd' is not defined",
     "output_type": "error",
     "traceback": [
      "\u001b[0;31m---------------------------------------------------------------------------\u001b[0m",
      "\u001b[0;31mNameError\u001b[0m                                 Traceback (most recent call last)",
      "\u001b[0;32m<ipython-input-1-9c84945062ef>\u001b[0m in \u001b[0;36m<module>\u001b[0;34m\u001b[0m\n\u001b[0;32m----> 1\u001b[0;31m santa_rosa_sales_df = pd.read_csv(\n\u001b[0m\u001b[1;32m      2\u001b[0m     \u001b[0mPath\u001b[0m\u001b[0;34m(\u001b[0m\u001b[0;34m'../California_Real_Estate_Analysis/Resources/Santa_Rosa.csv'\u001b[0m\u001b[0;34m)\u001b[0m\u001b[0;34m,\u001b[0m\u001b[0;34m\u001b[0m\u001b[0;34m\u001b[0m\u001b[0m\n\u001b[1;32m      3\u001b[0m )\n",
      "\u001b[0;31mNameError\u001b[0m: name 'pd' is not defined"
     ]
    }
   ],
   "source": [
    "santa_rosa_sales_df = pd.read_csv(\n",
    "    Path('../California_Real_Estate_Analysis/Resources/Santa_Rosa.csv'),\n",
    ")"
   ]
  },
  {
   "cell_type": "code",
   "execution_count": null,
   "metadata": {},
   "outputs": [],
   "source": [
    "display(santa_rosa_sales_df.head())\n",
    "display(santa_rosa_sales_df.tail())"
   ]
  },
  {
   "cell_type": "code",
   "execution_count": null,
   "metadata": {},
   "outputs": [],
   "source": [
    "santa_rosa_sales_df[\"sold_date\"] = pd.to_datetime(santa_rosa_sales_df[\"sold_date\"])\n",
    "santa_rosa_sales_df.sort_values(by=\"sold_date\")"
   ]
  },
  {
   "cell_type": "code",
   "execution_count": null,
   "metadata": {},
   "outputs": [],
   "source": [
    "santa_rosa_sales_df[['price', 'address']].hvplot(\n",
    "    kind='bar',\n",
    "    height=500,\n",
    "    width=1500,\n",
    ")"
   ]
  },
  {
   "cell_type": "code",
   "execution_count": null,
   "metadata": {},
   "outputs": [],
   "source": [
    "santa_rosa_sales_df['price'].describe()"
   ]
  },
  {
   "cell_type": "code",
   "execution_count": null,
   "metadata": {},
   "outputs": [],
   "source": [
    "santa_rosa_sales_sliced = santa_rosa_sales_df.loc[:, ['address', 'latitude', 'longitude', 'price', 'redfin_estimate', 'property_type',]]"
   ]
  },
  {
   "cell_type": "code",
   "execution_count": null,
   "metadata": {},
   "outputs": [],
   "source": [
    "santa_rosa_sales_sliced.dtypes"
   ]
  },
  {
   "cell_type": "code",
   "execution_count": null,
   "metadata": {},
   "outputs": [],
   "source": [
    "santa_rosa_sales_sliced.isnull().sum()"
   ]
  },
  {
   "cell_type": "code",
   "execution_count": null,
   "metadata": {},
   "outputs": [],
   "source": [
    "santa_rosa_sales_sliced = santa_rosa_sales_sliced.dropna()"
   ]
  },
  {
   "cell_type": "code",
   "execution_count": null,
   "metadata": {},
   "outputs": [],
   "source": [
    "display(santa_rosa_sales_sliced.head())"
   ]
  },
  {
   "cell_type": "code",
   "execution_count": null,
   "metadata": {},
   "outputs": [],
   "source": [
    "sr_foreclosure_data = bay_area_foreclosure_sliced[bay_area_foreclosure_sliced.City == 'SANTA ROSA']"
   ]
  },
  {
   "cell_type": "code",
   "execution_count": null,
   "metadata": {},
   "outputs": [],
   "source": [
    "avg_sr_foreclosure_value = (\n",
    "    sr_foreclosure_data[['Est Value', 'Est Equity','City',]]\n",
    "    .groupby('City')\n",
    "    .mean()\n",
    "    .sort_values('City')\n",
    ").round()"
   ]
  },
  {
   "cell_type": "code",
   "execution_count": null,
   "metadata": {},
   "outputs": [],
   "source": [
    "display(avg_sr_foreclosure_value)"
   ]
  },
  {
   "cell_type": "code",
   "execution_count": null,
   "metadata": {},
   "outputs": [],
   "source": [
    "avg_sr_foreclosure_value.hvplot.bar(\n",
    "    title='Avg Foreclosure Value in Santa Rosa',\n",
    "    rot = 90\n",
    ")"
   ]
  },
  {
   "cell_type": "code",
   "execution_count": null,
   "metadata": {},
   "outputs": [],
   "source": [
    "avg_sr_sale = (\n",
    "    santa_rosa_sales_df[['price']]\n",
    "    .mean()\n",
    ").round()"
   ]
  },
  {
   "cell_type": "code",
   "execution_count": null,
   "metadata": {},
   "outputs": [],
   "source": [
    "avg_sr_sale.hvplot.bar(\n",
    "    title='Avg Sale price in Santa Rosa',\n",
    "    rot = 90\n",
    ")"
   ]
  },
  {
   "cell_type": "code",
   "execution_count": null,
   "metadata": {},
   "outputs": [],
   "source": [
    "plot_sr_foreclosues = avg_sr_foreclosure_value.hvplot.bar(\n",
    "    title='Avg Foreclosure Value in Santa Rosa',\n",
    "    rot = 90\n",
    ")"
   ]
  },
  {
   "cell_type": "code",
   "execution_count": null,
   "metadata": {},
   "outputs": [],
   "source": [
    "plot_sr_sales = avg_oakland_sale.hvplot.bar(\n",
    "    title='Avg Foreclosure Value in Santa Rosa',\n",
    "    rot = 90\n",
    ")"
   ]
  },
  {
   "cell_type": "code",
   "execution_count": null,
   "metadata": {},
   "outputs": [],
   "source": [
    "sr_overlay_plot = plot_sr_foreclosues * plot_sr_salessr_overlay_plot.opts(\n",
    "    title=\"Average sale of a home in Santa Rosa vs the cost of a forclosed home\", \n",
    "    ylabel=\"$$$\", \n",
    "    width=1000, \n",
    "    height=500)"
   ]
  }
 ],
 "metadata": {
  "kernelspec": {
   "display_name": "Python 3",
   "language": "python",
   "name": "python3"
  },
  "language_info": {
   "codemirror_mode": {
    "name": "ipython",
    "version": 3
   },
   "file_extension": ".py",
   "mimetype": "text/x-python",
   "name": "python",
   "nbconvert_exporter": "python",
   "pygments_lexer": "ipython3",
   "version": "3.8.5"
  }
 },
 "nbformat": 4,
 "nbformat_minor": 4
}
