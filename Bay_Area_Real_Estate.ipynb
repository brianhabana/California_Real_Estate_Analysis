{
 "cells": [
  {
   "cell_type": "code",
   "execution_count": 25,
   "metadata": {},
   "outputs": [],
   "source": [
    "#import the required libraries and dependencies\n",
    "import pandas as pd\n",
    "import hvplot.pandas\n",
    "import os\n",
    "import requests\n",
    "import plotly.express as px\n",
    "\n",
    "from pathlib import Path\n",
    "from dotenv import load_dotenv"
   ]
  },
  {
   "cell_type": "code",
   "execution_count": 26,
   "metadata": {},
   "outputs": [
    {
     "data": {
      "text/plain": [
       "True"
      ]
     },
     "execution_count": 26,
     "metadata": {},
     "output_type": "execute_result"
    }
   ],
   "source": [
    "# Load the Mapbox API access token from the .env file\n",
    "load_dotenv()"
   ]
  },
  {
   "cell_type": "code",
   "execution_count": 27,
   "metadata": {},
   "outputs": [
    {
     "data": {
      "text/plain": [
       "str"
      ]
     },
     "execution_count": 27,
     "metadata": {},
     "output_type": "execute_result"
    }
   ],
   "source": [
    "# Create the Mapbox API access token variable\n",
    "map_box_api_access_token = os.getenv(\"MAPBOX_API_ACCESS_TOKEN\")\n",
    "\n",
    "# Confirm that Mapbox API access token is available by checking the type\n",
    "type(map_box_api_access_token)"
   ]
  },
  {
   "cell_type": "code",
   "execution_count": 28,
   "metadata": {},
   "outputs": [],
   "source": [
    "# Set the Mapbox API access token to the users API key\n",
    "px.set_mapbox_access_token(map_box_api_access_token)"
   ]
  },
  {
   "cell_type": "code",
   "execution_count": 29,
   "metadata": {},
   "outputs": [],
   "source": [
    "# Using the `read_csv` function and Path module, read `foreclosures` file \n",
    "# and create the Pandas DataFrame.\n",
    "foreclosure_df = pd.read_csv(\n",
    "    Path('../California_Real_Estate_Analysis/Resources/foreclosures.csv')\n",
    ").set_index('Address')\n",
    "\n",
    "# For all the rows in the \"Est Value\", use the str.replace function \n",
    "# to replace the \"$\" with empty strings (\"\")\n",
    "foreclosure_df.loc[:, \"Est Value\"] = foreclosure_df.loc[:, \"Est Value\"].str.replace(\"$\", \"\")\n",
    "\n",
    "# For all the rows in the \"Est Value\", use the str.replace function \n",
    "# to replace the \",\" with empty strings (\"\")\n",
    "foreclosure_df.loc[:, \"Est Value\"] = foreclosure_df.loc[:, \"Est Value\"].str.replace(\",\", \"\")\n",
    "\n",
    "# For all the rows in the \"Est Value\", use the str.replace function \n",
    "#convert Est value to float\n",
    "foreclosure_df.loc[:, \"Est Value\"] = foreclosure_df.loc[:, \"Est Value\"].astype(float)\n",
    "\n",
    "# For all the rows in the \"Est Equity\", use the str.replace function \n",
    "# to replace the \"$\" with empty strings (\"\")\n",
    "foreclosure_df.loc[:, \"Est Equity\"] = foreclosure_df.loc[:, \"Est Equity\"].str.replace(\"$\", \"\")\n",
    "\n",
    "# For all the rows in the \"Est Equity\", use the str.replace function \n",
    "# to replace the \",\" with empty strings (\"\")\n",
    "foreclosure_df.loc[:, \"Est Equity\"] = foreclosure_df.loc[:, \"Est Equity\"].str.replace(\",\", \"\")\n",
    "\n",
    "# For all the rows in the \"Est Equity\", use the str.replace function \n",
    "#convert Est Equity to float\n",
    "foreclosure_df.loc[:, \"Est Equity\"] = foreclosure_df.loc[:, \"Est Equity\"].astype(float)\n",
    "\n",
    "#preview new dataframe\n",
    "#foreclosures_equity_county.head()\n",
    "\n",
    "#foreclosures_equity_county.dtypes"
   ]
  },
  {
   "cell_type": "markdown",
   "metadata": {},
   "source": [
    "# SF BAY AREA REAL ESTATE ANALYSIS   \n",
    "#    \n",
    "#    \n",
    "#    \n",
    "# CURRENT FORECLOSURE DATA - ALL COUNTIES - SORTED BY ESTIMATED EQUITY\n",
    "#    "
   ]
  },
  {
   "cell_type": "code",
   "execution_count": 30,
   "metadata": {},
   "outputs": [
    {
     "data": {
      "text/html": [
       "<div>\n",
       "<style scoped>\n",
       "    .dataframe tbody tr th:only-of-type {\n",
       "        vertical-align: middle;\n",
       "    }\n",
       "\n",
       "    .dataframe tbody tr th {\n",
       "        vertical-align: top;\n",
       "    }\n",
       "\n",
       "    .dataframe thead th {\n",
       "        text-align: right;\n",
       "    }\n",
       "</style>\n",
       "<table border=\"1\" class=\"dataframe\">\n",
       "  <thead>\n",
       "    <tr style=\"text-align: right;\">\n",
       "      <th></th>\n",
       "      <th>County</th>\n",
       "      <th>City</th>\n",
       "      <th>Sq Ft</th>\n",
       "      <th>Beds</th>\n",
       "      <th>Baths</th>\n",
       "      <th>Est Value</th>\n",
       "      <th>Est Equity</th>\n",
       "      <th>Owner</th>\n",
       "      <th>Owner Occ?</th>\n",
       "      <th>Listed for Sale?</th>\n",
       "      <th>Foreclosure</th>\n",
       "      <th>Concatenated Address</th>\n",
       "      <th>Latitude</th>\n",
       "      <th>Longitude</th>\n",
       "    </tr>\n",
       "    <tr>\n",
       "      <th>Address</th>\n",
       "      <th></th>\n",
       "      <th></th>\n",
       "      <th></th>\n",
       "      <th></th>\n",
       "      <th></th>\n",
       "      <th></th>\n",
       "      <th></th>\n",
       "      <th></th>\n",
       "      <th></th>\n",
       "      <th></th>\n",
       "      <th></th>\n",
       "      <th></th>\n",
       "      <th></th>\n",
       "      <th></th>\n",
       "    </tr>\n",
       "  </thead>\n",
       "  <tbody>\n",
       "    <tr>\n",
       "      <th>4328 Edwards Ln</th>\n",
       "      <td>Alameda</td>\n",
       "      <td>CASTRO VALLEY</td>\n",
       "      <td>2,000</td>\n",
       "      <td>3.0</td>\n",
       "      <td>1.5</td>\n",
       "      <td>1126100.0</td>\n",
       "      <td>-58496161.0</td>\n",
       "      <td>CHRISTENSEN,JAY &amp; ANNE</td>\n",
       "      <td>Yes</td>\n",
       "      <td>No</td>\n",
       "      <td>Yes</td>\n",
       "      <td>4328 Edwards Ln CASTRO VALLEY CA</td>\n",
       "      <td>37.7011386</td>\n",
       "      <td>-122.0636672</td>\n",
       "    </tr>\n",
       "    <tr>\n",
       "      <th>86 Mesa Ct</th>\n",
       "      <td>San Mateo</td>\n",
       "      <td>ATHERTON</td>\n",
       "      <td>2,630</td>\n",
       "      <td>3.0</td>\n",
       "      <td>2.5</td>\n",
       "      <td>6608100.0</td>\n",
       "      <td>-9868906.0</td>\n",
       "      <td>BELSHE,MICHAEL</td>\n",
       "      <td>No</td>\n",
       "      <td>No</td>\n",
       "      <td>Yes</td>\n",
       "      <td>86 Mesa Ct ATHERTON CA</td>\n",
       "      <td>???</td>\n",
       "      <td>???</td>\n",
       "    </tr>\n",
       "    <tr>\n",
       "      <th>86 Mesa Ct</th>\n",
       "      <td>Santa Clara</td>\n",
       "      <td>ATHERTON</td>\n",
       "      <td>2,630</td>\n",
       "      <td>3.0</td>\n",
       "      <td>2.5</td>\n",
       "      <td>6608100.0</td>\n",
       "      <td>-9868906.0</td>\n",
       "      <td>BELSHE,MICHAEL</td>\n",
       "      <td>No</td>\n",
       "      <td>No</td>\n",
       "      <td>Yes</td>\n",
       "      <td>86 Mesa Ct ATHERTON CA</td>\n",
       "      <td>???</td>\n",
       "      <td>???</td>\n",
       "    </tr>\n",
       "    <tr>\n",
       "      <th>15735 Ibiza Ln</th>\n",
       "      <td>Santa Clara</td>\n",
       "      <td>MORGAN HILL</td>\n",
       "      <td>2,426</td>\n",
       "      <td>4.0</td>\n",
       "      <td>4.5</td>\n",
       "      <td>933800.0</td>\n",
       "      <td>-8842370.0</td>\n",
       "      <td>DIAMOND CREEK VILLA LLC</td>\n",
       "      <td>No</td>\n",
       "      <td>No</td>\n",
       "      <td>Yes</td>\n",
       "      <td>15735 Ibiza Ln MORGAN HILL CA</td>\n",
       "      <td>???</td>\n",
       "      <td>???</td>\n",
       "    </tr>\n",
       "    <tr>\n",
       "      <th>224 Sea Cliff Ave</th>\n",
       "      <td>San Francisco</td>\n",
       "      <td>SAN FRANCISCO</td>\n",
       "      <td>5,552</td>\n",
       "      <td>7.0</td>\n",
       "      <td>5.0</td>\n",
       "      <td>9270259.0</td>\n",
       "      <td>-7430282.0</td>\n",
       "      <td>BRUGNARA PROPERTIES VI</td>\n",
       "      <td>Yes</td>\n",
       "      <td>No</td>\n",
       "      <td>Yes</td>\n",
       "      <td>224 Sea Cliff Ave SAN FRANCISCO CA</td>\n",
       "      <td>???</td>\n",
       "      <td>???</td>\n",
       "    </tr>\n",
       "  </tbody>\n",
       "</table>\n",
       "</div>"
      ],
      "text/plain": [
       "                          County           City  Sq Ft  Beds  Baths  \\\n",
       "Address                                                               \n",
       "4328 Edwards Ln          Alameda  CASTRO VALLEY  2,000   3.0    1.5   \n",
       "86 Mesa Ct             San Mateo       ATHERTON  2,630   3.0    2.5   \n",
       "86 Mesa Ct           Santa Clara       ATHERTON  2,630   3.0    2.5   \n",
       "15735 Ibiza Ln       Santa Clara    MORGAN HILL  2,426   4.0    4.5   \n",
       "224 Sea Cliff Ave  San Francisco  SAN FRANCISCO  5,552   7.0    5.0   \n",
       "\n",
       "                   Est Value  Est Equity                    Owner Owner Occ?  \\\n",
       "Address                                                                        \n",
       "4328 Edwards Ln    1126100.0 -58496161.0   CHRISTENSEN,JAY & ANNE        Yes   \n",
       "86 Mesa Ct         6608100.0  -9868906.0           BELSHE,MICHAEL         No   \n",
       "86 Mesa Ct         6608100.0  -9868906.0           BELSHE,MICHAEL         No   \n",
       "15735 Ibiza Ln      933800.0  -8842370.0  DIAMOND CREEK VILLA LLC         No   \n",
       "224 Sea Cliff Ave  9270259.0  -7430282.0   BRUGNARA PROPERTIES VI        Yes   \n",
       "\n",
       "                  Listed for Sale? Foreclosure  \\\n",
       "Address                                          \n",
       "4328 Edwards Ln                 No         Yes   \n",
       "86 Mesa Ct                      No         Yes   \n",
       "86 Mesa Ct                      No         Yes   \n",
       "15735 Ibiza Ln                  No         Yes   \n",
       "224 Sea Cliff Ave               No         Yes   \n",
       "\n",
       "                                 Concatenated Address    Latitude  \\\n",
       "Address                                                             \n",
       "4328 Edwards Ln      4328 Edwards Ln CASTRO VALLEY CA  37.7011386   \n",
       "86 Mesa Ct                     86 Mesa Ct ATHERTON CA         ???   \n",
       "86 Mesa Ct                     86 Mesa Ct ATHERTON CA         ???   \n",
       "15735 Ibiza Ln          15735 Ibiza Ln MORGAN HILL CA         ???   \n",
       "224 Sea Cliff Ave  224 Sea Cliff Ave SAN FRANCISCO CA         ???   \n",
       "\n",
       "                      Longitude  \n",
       "Address                          \n",
       "4328 Edwards Ln    -122.0636672  \n",
       "86 Mesa Ct                  ???  \n",
       "86 Mesa Ct                  ???  \n",
       "15735 Ibiza Ln              ???  \n",
       "224 Sea Cliff Ave           ???  "
      ]
     },
     "metadata": {},
     "output_type": "display_data"
    },
    {
     "data": {
      "text/html": [
       "<div>\n",
       "<style scoped>\n",
       "    .dataframe tbody tr th:only-of-type {\n",
       "        vertical-align: middle;\n",
       "    }\n",
       "\n",
       "    .dataframe tbody tr th {\n",
       "        vertical-align: top;\n",
       "    }\n",
       "\n",
       "    .dataframe thead th {\n",
       "        text-align: right;\n",
       "    }\n",
       "</style>\n",
       "<table border=\"1\" class=\"dataframe\">\n",
       "  <thead>\n",
       "    <tr style=\"text-align: right;\">\n",
       "      <th></th>\n",
       "      <th>County</th>\n",
       "      <th>City</th>\n",
       "      <th>Sq Ft</th>\n",
       "      <th>Beds</th>\n",
       "      <th>Baths</th>\n",
       "      <th>Est Value</th>\n",
       "      <th>Est Equity</th>\n",
       "      <th>Owner</th>\n",
       "      <th>Owner Occ?</th>\n",
       "      <th>Listed for Sale?</th>\n",
       "      <th>Foreclosure</th>\n",
       "      <th>Concatenated Address</th>\n",
       "      <th>Latitude</th>\n",
       "      <th>Longitude</th>\n",
       "    </tr>\n",
       "    <tr>\n",
       "      <th>Address</th>\n",
       "      <th></th>\n",
       "      <th></th>\n",
       "      <th></th>\n",
       "      <th></th>\n",
       "      <th></th>\n",
       "      <th></th>\n",
       "      <th></th>\n",
       "      <th></th>\n",
       "      <th></th>\n",
       "      <th></th>\n",
       "      <th></th>\n",
       "      <th></th>\n",
       "      <th></th>\n",
       "      <th></th>\n",
       "    </tr>\n",
       "  </thead>\n",
       "  <tbody>\n",
       "    <tr>\n",
       "      <th>505 Chateau Dr</th>\n",
       "      <td>San Mateo</td>\n",
       "      <td>HILLSBOROUGH</td>\n",
       "      <td>5,440</td>\n",
       "      <td>5.0</td>\n",
       "      <td>4.5</td>\n",
       "      <td>4894400.0</td>\n",
       "      <td>4894400.0</td>\n",
       "      <td>JAIN,UDAY &amp; RASHMI</td>\n",
       "      <td>Yes</td>\n",
       "      <td>No</td>\n",
       "      <td>Yes</td>\n",
       "      <td>505 Chateau Dr HILLSBOROUGH CA</td>\n",
       "      <td>37.5612492</td>\n",
       "      <td>-122.3088034</td>\n",
       "    </tr>\n",
       "    <tr>\n",
       "      <th>789 El Camino Real</th>\n",
       "      <td>Santa Clara</td>\n",
       "      <td>BURLINGAME</td>\n",
       "      <td>26,952</td>\n",
       "      <td>25.0</td>\n",
       "      <td>3.0</td>\n",
       "      <td>5857366.0</td>\n",
       "      <td>5857366.0</td>\n",
       "      <td>CALIFORNIA PACIFIC BANK</td>\n",
       "      <td>No</td>\n",
       "      <td>No</td>\n",
       "      <td>Yes</td>\n",
       "      <td>789 El Camino Real BURLINGAME CA</td>\n",
       "      <td>???</td>\n",
       "      <td>???</td>\n",
       "    </tr>\n",
       "    <tr>\n",
       "      <th>789 El Camino Real</th>\n",
       "      <td>San Mateo</td>\n",
       "      <td>BURLINGAME</td>\n",
       "      <td>26,952</td>\n",
       "      <td>25.0</td>\n",
       "      <td>3.0</td>\n",
       "      <td>5857366.0</td>\n",
       "      <td>5857366.0</td>\n",
       "      <td>CALIFORNIA PACIFIC BANK</td>\n",
       "      <td>No</td>\n",
       "      <td>No</td>\n",
       "      <td>Yes</td>\n",
       "      <td>789 El Camino Real BURLINGAME CA</td>\n",
       "      <td>37.5842528</td>\n",
       "      <td>-122.3663781</td>\n",
       "    </tr>\n",
       "    <tr>\n",
       "      <th>2900 Paradise Dr</th>\n",
       "      <td>Marin</td>\n",
       "      <td>TIBURON</td>\n",
       "      <td>10,944</td>\n",
       "      <td>3.0</td>\n",
       "      <td>6.0</td>\n",
       "      <td>11434538.0</td>\n",
       "      <td>11434538.0</td>\n",
       "      <td>JPMORGAN CHASE BK NA</td>\n",
       "      <td>Yes</td>\n",
       "      <td>No</td>\n",
       "      <td>Yes</td>\n",
       "      <td>2900 Paradise Dr TIBURON CA</td>\n",
       "      <td>37.8730004</td>\n",
       "      <td>-122.4527133</td>\n",
       "    </tr>\n",
       "    <tr>\n",
       "      <th>707 Leahy St</th>\n",
       "      <td>San Mateo</td>\n",
       "      <td>REDWOOD CITY</td>\n",
       "      <td>99,999</td>\n",
       "      <td>147.0</td>\n",
       "      <td>1.0</td>\n",
       "      <td>28176588.0</td>\n",
       "      <td>16669017.0</td>\n",
       "      <td>AIMCO LEAHY SQUARE APARTM</td>\n",
       "      <td>No</td>\n",
       "      <td>No</td>\n",
       "      <td>Yes</td>\n",
       "      <td>707 Leahy St REDWOOD CITY CA</td>\n",
       "      <td>37.4700038</td>\n",
       "      <td>-122.2154054</td>\n",
       "    </tr>\n",
       "  </tbody>\n",
       "</table>\n",
       "</div>"
      ],
      "text/plain": [
       "                         County          City   Sq Ft   Beds  Baths  \\\n",
       "Address                                                               \n",
       "505 Chateau Dr        San Mateo  HILLSBOROUGH   5,440    5.0    4.5   \n",
       "789 El Camino Real  Santa Clara    BURLINGAME  26,952   25.0    3.0   \n",
       "789 El Camino Real    San Mateo    BURLINGAME  26,952   25.0    3.0   \n",
       "2900 Paradise Dr          Marin       TIBURON  10,944    3.0    6.0   \n",
       "707 Leahy St          San Mateo  REDWOOD CITY  99,999  147.0    1.0   \n",
       "\n",
       "                     Est Value  Est Equity                      Owner  \\\n",
       "Address                                                                 \n",
       "505 Chateau Dr       4894400.0   4894400.0         JAIN,UDAY & RASHMI   \n",
       "789 El Camino Real   5857366.0   5857366.0    CALIFORNIA PACIFIC BANK   \n",
       "789 El Camino Real   5857366.0   5857366.0    CALIFORNIA PACIFIC BANK   \n",
       "2900 Paradise Dr    11434538.0  11434538.0       JPMORGAN CHASE BK NA   \n",
       "707 Leahy St        28176588.0  16669017.0  AIMCO LEAHY SQUARE APARTM   \n",
       "\n",
       "                   Owner Occ? Listed for Sale? Foreclosure  \\\n",
       "Address                                                      \n",
       "505 Chateau Dr            Yes               No         Yes   \n",
       "789 El Camino Real         No               No         Yes   \n",
       "789 El Camino Real         No               No         Yes   \n",
       "2900 Paradise Dr          Yes               No         Yes   \n",
       "707 Leahy St               No               No         Yes   \n",
       "\n",
       "                                Concatenated Address    Latitude     Longitude  \n",
       "Address                                                                         \n",
       "505 Chateau Dr        505 Chateau Dr HILLSBOROUGH CA  37.5612492  -122.3088034  \n",
       "789 El Camino Real  789 El Camino Real BURLINGAME CA         ???           ???  \n",
       "789 El Camino Real  789 El Camino Real BURLINGAME CA  37.5842528  -122.3663781  \n",
       "2900 Paradise Dr         2900 Paradise Dr TIBURON CA  37.8730004  -122.4527133  \n",
       "707 Leahy St            707 Leahy St REDWOOD CITY CA  37.4700038  -122.2154054  "
      ]
     },
     "metadata": {},
     "output_type": "display_data"
    }
   ],
   "source": [
    "#sort by estimated Equity\n",
    "foreclosure_df_sorted_equity = foreclosure_df.sort_values('Est Equity').dropna()\n",
    "\n",
    "#Review the first and last five rows of the DataFrame\n",
    "display(foreclosure_df_sorted_equity.head())\n",
    "display(foreclosure_df_sorted_equity.tail())"
   ]
  },
  {
   "cell_type": "markdown",
   "metadata": {},
   "source": [
    "# CURRENT FORECLOSURE DATA - ALL COUNTIES - SORTED BY ESTIMATED VALUE\n",
    "#   \n"
   ]
  },
  {
   "cell_type": "code",
   "execution_count": 31,
   "metadata": {},
   "outputs": [
    {
     "data": {
      "text/html": [
       "<div>\n",
       "<style scoped>\n",
       "    .dataframe tbody tr th:only-of-type {\n",
       "        vertical-align: middle;\n",
       "    }\n",
       "\n",
       "    .dataframe tbody tr th {\n",
       "        vertical-align: top;\n",
       "    }\n",
       "\n",
       "    .dataframe thead th {\n",
       "        text-align: right;\n",
       "    }\n",
       "</style>\n",
       "<table border=\"1\" class=\"dataframe\">\n",
       "  <thead>\n",
       "    <tr style=\"text-align: right;\">\n",
       "      <th></th>\n",
       "      <th>County</th>\n",
       "      <th>City</th>\n",
       "      <th>Sq Ft</th>\n",
       "      <th>Beds</th>\n",
       "      <th>Baths</th>\n",
       "      <th>Est Value</th>\n",
       "      <th>Est Equity</th>\n",
       "      <th>Owner</th>\n",
       "      <th>Owner Occ?</th>\n",
       "      <th>Listed for Sale?</th>\n",
       "      <th>Foreclosure</th>\n",
       "      <th>Concatenated Address</th>\n",
       "      <th>Latitude</th>\n",
       "      <th>Longitude</th>\n",
       "    </tr>\n",
       "    <tr>\n",
       "      <th>Address</th>\n",
       "      <th></th>\n",
       "      <th></th>\n",
       "      <th></th>\n",
       "      <th></th>\n",
       "      <th></th>\n",
       "      <th></th>\n",
       "      <th></th>\n",
       "      <th></th>\n",
       "      <th></th>\n",
       "      <th></th>\n",
       "      <th></th>\n",
       "      <th></th>\n",
       "      <th></th>\n",
       "      <th></th>\n",
       "    </tr>\n",
       "  </thead>\n",
       "  <tbody>\n",
       "    <tr>\n",
       "      <th>583 Haight St</th>\n",
       "      <td>San Francisco</td>\n",
       "      <td>SAN FRANCISCO</td>\n",
       "      <td>4,395</td>\n",
       "      <td>4.0</td>\n",
       "      <td>3.0</td>\n",
       "      <td>116934.0</td>\n",
       "      <td>-2680596.0</td>\n",
       "      <td>CREAR,MILDRED</td>\n",
       "      <td>No</td>\n",
       "      <td>No</td>\n",
       "      <td>Yes</td>\n",
       "      <td>583 Haight St SAN FRANCISCO CA</td>\n",
       "      <td>37.771842</td>\n",
       "      <td>-122.4317409</td>\n",
       "    </tr>\n",
       "    <tr>\n",
       "      <th>8250 Saint Helena Rd</th>\n",
       "      <td>Sonoma</td>\n",
       "      <td>SANTA ROSA</td>\n",
       "      <td>814</td>\n",
       "      <td>1.0</td>\n",
       "      <td>1.0</td>\n",
       "      <td>182500.0</td>\n",
       "      <td>-642160.0</td>\n",
       "      <td>VANYA,JAMES</td>\n",
       "      <td>No</td>\n",
       "      <td>No</td>\n",
       "      <td>Yes</td>\n",
       "      <td>8250 Saint Helena Rd SANTA ROSA CA</td>\n",
       "      <td>???</td>\n",
       "      <td>???</td>\n",
       "    </tr>\n",
       "    <tr>\n",
       "      <th>1910 Grande Cir 112</th>\n",
       "      <td>Solano</td>\n",
       "      <td>FAIRFIELD</td>\n",
       "      <td>1,095</td>\n",
       "      <td>2.0</td>\n",
       "      <td>2.0</td>\n",
       "      <td>191900.0</td>\n",
       "      <td>17908.0</td>\n",
       "      <td>DYAS,ALISHA</td>\n",
       "      <td>Yes</td>\n",
       "      <td>No</td>\n",
       "      <td>Yes</td>\n",
       "      <td>1910 Grande Cir 112 FAIRFIELD CA</td>\n",
       "      <td>38.2623665</td>\n",
       "      <td>-122.0116657</td>\n",
       "    </tr>\n",
       "    <tr>\n",
       "      <th>1970 Peabody Rd 2</th>\n",
       "      <td>Solano</td>\n",
       "      <td>VACAVILLE</td>\n",
       "      <td>882</td>\n",
       "      <td>2.0</td>\n",
       "      <td>1.0</td>\n",
       "      <td>213900.0</td>\n",
       "      <td>137434.0</td>\n",
       "      <td>REDWOOD HOLDINGS LLC</td>\n",
       "      <td>Yes</td>\n",
       "      <td>No</td>\n",
       "      <td>Yes</td>\n",
       "      <td>1970 Peabody Rd 2 VACAVILLE CA</td>\n",
       "      <td>???</td>\n",
       "      <td>???</td>\n",
       "    </tr>\n",
       "    <tr>\n",
       "      <th>1771 Broadway St 320</th>\n",
       "      <td>Contra Costa</td>\n",
       "      <td>CONCORD</td>\n",
       "      <td>560</td>\n",
       "      <td>1.0</td>\n",
       "      <td>1.0</td>\n",
       "      <td>230500.0</td>\n",
       "      <td>219918.0</td>\n",
       "      <td>IP,MONA MO YIN</td>\n",
       "      <td>Yes</td>\n",
       "      <td>No</td>\n",
       "      <td>Yes</td>\n",
       "      <td>1771 Broadway St 320 CONCORD CA</td>\n",
       "      <td>???</td>\n",
       "      <td>???</td>\n",
       "    </tr>\n",
       "    <tr>\n",
       "      <th>3755 Doverton Ct</th>\n",
       "      <td>Sonoma</td>\n",
       "      <td>SANTA ROSA</td>\n",
       "      <td>3,100</td>\n",
       "      <td>5.0</td>\n",
       "      <td>4.0</td>\n",
       "      <td>234291.0</td>\n",
       "      <td>234291.0</td>\n",
       "      <td>KAILASAM,GOPALAKRISHNAN</td>\n",
       "      <td>Yes</td>\n",
       "      <td>No</td>\n",
       "      <td>Yes</td>\n",
       "      <td>3755 Doverton Ct SANTA ROSA CA</td>\n",
       "      <td>???</td>\n",
       "      <td>???</td>\n",
       "    </tr>\n",
       "    <tr>\n",
       "      <th>1921 Aletha Ln 4</th>\n",
       "      <td>Solano</td>\n",
       "      <td>VACAVILLE</td>\n",
       "      <td>966</td>\n",
       "      <td>2.0</td>\n",
       "      <td>2.0</td>\n",
       "      <td>234900.0</td>\n",
       "      <td>14959.0</td>\n",
       "      <td>REID,ZACHARY M</td>\n",
       "      <td>No</td>\n",
       "      <td>No</td>\n",
       "      <td>Yes</td>\n",
       "      <td>1921 Aletha Ln 4 VACAVILLE CA</td>\n",
       "      <td>???</td>\n",
       "      <td>???</td>\n",
       "    </tr>\n",
       "    <tr>\n",
       "      <th>53 Baldwin St</th>\n",
       "      <td>Solano</td>\n",
       "      <td>VALLEJO</td>\n",
       "      <td>988</td>\n",
       "      <td>3.0</td>\n",
       "      <td>1.0</td>\n",
       "      <td>236400.0</td>\n",
       "      <td>228612.0</td>\n",
       "      <td>SEPULVEDA,DANIEL</td>\n",
       "      <td>Yes</td>\n",
       "      <td>No</td>\n",
       "      <td>Yes</td>\n",
       "      <td>53 Baldwin St VALLEJO CA</td>\n",
       "      <td>38.122817</td>\n",
       "      <td>-122.264997</td>\n",
       "    </tr>\n",
       "    <tr>\n",
       "      <th>1771 Broadway St 121</th>\n",
       "      <td>Contra Costa</td>\n",
       "      <td>CONCORD</td>\n",
       "      <td>465</td>\n",
       "      <td>1.0</td>\n",
       "      <td>1.0</td>\n",
       "      <td>238100.0</td>\n",
       "      <td>37817.0</td>\n",
       "      <td>JACOBSEN,RACHEL A</td>\n",
       "      <td>Yes</td>\n",
       "      <td>No</td>\n",
       "      <td>Yes</td>\n",
       "      <td>1771 Broadway St 121 CONCORD CA</td>\n",
       "      <td>???</td>\n",
       "      <td>???</td>\n",
       "    </tr>\n",
       "    <tr>\n",
       "      <th>100 Thorndale Dr 206</th>\n",
       "      <td>Marin</td>\n",
       "      <td>SAN RAFAEL</td>\n",
       "      <td>660</td>\n",
       "      <td>1.0</td>\n",
       "      <td>1.0</td>\n",
       "      <td>239100.0</td>\n",
       "      <td>239100.0</td>\n",
       "      <td>FEDERAL NATL MTG ASSN</td>\n",
       "      <td>Yes</td>\n",
       "      <td>Yes</td>\n",
       "      <td>Yes</td>\n",
       "      <td>100 Thorndale Dr 206 SAN RAFAEL CA</td>\n",
       "      <td>38.0034037</td>\n",
       "      <td>-122.5483138</td>\n",
       "    </tr>\n",
       "  </tbody>\n",
       "</table>\n",
       "</div>"
      ],
      "text/plain": [
       "                             County           City  Sq Ft  Beds  Baths  \\\n",
       "Address                                                                  \n",
       "583 Haight St         San Francisco  SAN FRANCISCO  4,395   4.0    3.0   \n",
       "8250 Saint Helena Rd         Sonoma     SANTA ROSA    814   1.0    1.0   \n",
       "1910 Grande Cir 112          Solano      FAIRFIELD  1,095   2.0    2.0   \n",
       "1970 Peabody Rd 2            Solano      VACAVILLE    882   2.0    1.0   \n",
       "1771 Broadway St 320   Contra Costa        CONCORD    560   1.0    1.0   \n",
       "3755 Doverton Ct             Sonoma     SANTA ROSA  3,100   5.0    4.0   \n",
       "1921 Aletha Ln 4             Solano      VACAVILLE    966   2.0    2.0   \n",
       "53 Baldwin St                Solano        VALLEJO    988   3.0    1.0   \n",
       "1771 Broadway St 121   Contra Costa        CONCORD    465   1.0    1.0   \n",
       "100 Thorndale Dr 206          Marin     SAN RAFAEL    660   1.0    1.0   \n",
       "\n",
       "                      Est Value  Est Equity                    Owner  \\\n",
       "Address                                                                \n",
       "583 Haight St          116934.0  -2680596.0            CREAR,MILDRED   \n",
       "8250 Saint Helena Rd   182500.0   -642160.0              VANYA,JAMES   \n",
       "1910 Grande Cir 112    191900.0     17908.0              DYAS,ALISHA   \n",
       "1970 Peabody Rd 2      213900.0    137434.0     REDWOOD HOLDINGS LLC   \n",
       "1771 Broadway St 320   230500.0    219918.0           IP,MONA MO YIN   \n",
       "3755 Doverton Ct       234291.0    234291.0  KAILASAM,GOPALAKRISHNAN   \n",
       "1921 Aletha Ln 4       234900.0     14959.0           REID,ZACHARY M   \n",
       "53 Baldwin St          236400.0    228612.0         SEPULVEDA,DANIEL   \n",
       "1771 Broadway St 121   238100.0     37817.0        JACOBSEN,RACHEL A   \n",
       "100 Thorndale Dr 206   239100.0    239100.0    FEDERAL NATL MTG ASSN   \n",
       "\n",
       "                     Owner Occ? Listed for Sale? Foreclosure  \\\n",
       "Address                                                        \n",
       "583 Haight St                No               No         Yes   \n",
       "8250 Saint Helena Rd         No               No         Yes   \n",
       "1910 Grande Cir 112         Yes               No         Yes   \n",
       "1970 Peabody Rd 2           Yes               No         Yes   \n",
       "1771 Broadway St 320        Yes               No         Yes   \n",
       "3755 Doverton Ct            Yes               No         Yes   \n",
       "1921 Aletha Ln 4             No               No         Yes   \n",
       "53 Baldwin St               Yes               No         Yes   \n",
       "1771 Broadway St 121        Yes               No         Yes   \n",
       "100 Thorndale Dr 206        Yes              Yes         Yes   \n",
       "\n",
       "                                    Concatenated Address    Latitude  \\\n",
       "Address                                                                \n",
       "583 Haight St             583 Haight St SAN FRANCISCO CA   37.771842   \n",
       "8250 Saint Helena Rd  8250 Saint Helena Rd SANTA ROSA CA         ???   \n",
       "1910 Grande Cir 112     1910 Grande Cir 112 FAIRFIELD CA  38.2623665   \n",
       "1970 Peabody Rd 2         1970 Peabody Rd 2 VACAVILLE CA         ???   \n",
       "1771 Broadway St 320     1771 Broadway St 320 CONCORD CA         ???   \n",
       "3755 Doverton Ct          3755 Doverton Ct SANTA ROSA CA         ???   \n",
       "1921 Aletha Ln 4           1921 Aletha Ln 4 VACAVILLE CA         ???   \n",
       "53 Baldwin St                   53 Baldwin St VALLEJO CA   38.122817   \n",
       "1771 Broadway St 121     1771 Broadway St 121 CONCORD CA         ???   \n",
       "100 Thorndale Dr 206  100 Thorndale Dr 206 SAN RAFAEL CA  38.0034037   \n",
       "\n",
       "                         Longitude  \n",
       "Address                             \n",
       "583 Haight St         -122.4317409  \n",
       "8250 Saint Helena Rd           ???  \n",
       "1910 Grande Cir 112   -122.0116657  \n",
       "1970 Peabody Rd 2              ???  \n",
       "1771 Broadway St 320           ???  \n",
       "3755 Doverton Ct               ???  \n",
       "1921 Aletha Ln 4               ???  \n",
       "53 Baldwin St          -122.264997  \n",
       "1771 Broadway St 121           ???  \n",
       "100 Thorndale Dr 206  -122.5483138  "
      ]
     },
     "metadata": {},
     "output_type": "display_data"
    },
    {
     "data": {
      "text/html": [
       "<div>\n",
       "<style scoped>\n",
       "    .dataframe tbody tr th:only-of-type {\n",
       "        vertical-align: middle;\n",
       "    }\n",
       "\n",
       "    .dataframe tbody tr th {\n",
       "        vertical-align: top;\n",
       "    }\n",
       "\n",
       "    .dataframe thead th {\n",
       "        text-align: right;\n",
       "    }\n",
       "</style>\n",
       "<table border=\"1\" class=\"dataframe\">\n",
       "  <thead>\n",
       "    <tr style=\"text-align: right;\">\n",
       "      <th></th>\n",
       "      <th>County</th>\n",
       "      <th>City</th>\n",
       "      <th>Sq Ft</th>\n",
       "      <th>Beds</th>\n",
       "      <th>Baths</th>\n",
       "      <th>Est Value</th>\n",
       "      <th>Est Equity</th>\n",
       "      <th>Owner</th>\n",
       "      <th>Owner Occ?</th>\n",
       "      <th>Listed for Sale?</th>\n",
       "      <th>Foreclosure</th>\n",
       "      <th>Concatenated Address</th>\n",
       "      <th>Latitude</th>\n",
       "      <th>Longitude</th>\n",
       "    </tr>\n",
       "    <tr>\n",
       "      <th>Address</th>\n",
       "      <th></th>\n",
       "      <th></th>\n",
       "      <th></th>\n",
       "      <th></th>\n",
       "      <th></th>\n",
       "      <th></th>\n",
       "      <th></th>\n",
       "      <th></th>\n",
       "      <th></th>\n",
       "      <th></th>\n",
       "      <th></th>\n",
       "      <th></th>\n",
       "      <th></th>\n",
       "      <th></th>\n",
       "    </tr>\n",
       "  </thead>\n",
       "  <tbody>\n",
       "    <tr>\n",
       "      <th>789 El Camino Real</th>\n",
       "      <td>San Mateo</td>\n",
       "      <td>BURLINGAME</td>\n",
       "      <td>26,952</td>\n",
       "      <td>25.0</td>\n",
       "      <td>3.0</td>\n",
       "      <td>5857366.0</td>\n",
       "      <td>5857366.0</td>\n",
       "      <td>CALIFORNIA PACIFIC BANK</td>\n",
       "      <td>No</td>\n",
       "      <td>No</td>\n",
       "      <td>Yes</td>\n",
       "      <td>789 El Camino Real BURLINGAME CA</td>\n",
       "      <td>37.5842528</td>\n",
       "      <td>-122.3663781</td>\n",
       "    </tr>\n",
       "    <tr>\n",
       "      <th>789 El Camino Real</th>\n",
       "      <td>Santa Clara</td>\n",
       "      <td>BURLINGAME</td>\n",
       "      <td>26,952</td>\n",
       "      <td>25.0</td>\n",
       "      <td>3.0</td>\n",
       "      <td>5857366.0</td>\n",
       "      <td>5857366.0</td>\n",
       "      <td>CALIFORNIA PACIFIC BANK</td>\n",
       "      <td>No</td>\n",
       "      <td>No</td>\n",
       "      <td>Yes</td>\n",
       "      <td>789 El Camino Real BURLINGAME CA</td>\n",
       "      <td>???</td>\n",
       "      <td>???</td>\n",
       "    </tr>\n",
       "    <tr>\n",
       "      <th>77 Belgrave Ave</th>\n",
       "      <td>San Francisco</td>\n",
       "      <td>SAN FRANCISCO</td>\n",
       "      <td>4,411</td>\n",
       "      <td>2.0</td>\n",
       "      <td>3.0</td>\n",
       "      <td>6044300.0</td>\n",
       "      <td>1136732.0</td>\n",
       "      <td>WEBER,HUNG &amp; GEOFFREY L</td>\n",
       "      <td>No</td>\n",
       "      <td>No</td>\n",
       "      <td>Yes</td>\n",
       "      <td>77 Belgrave Ave SAN FRANCISCO CA</td>\n",
       "      <td>37.7596177</td>\n",
       "      <td>-122.4492343</td>\n",
       "    </tr>\n",
       "    <tr>\n",
       "      <th>18771 E Homestead Rd</th>\n",
       "      <td>Santa Clara</td>\n",
       "      <td>SUNNYVALE</td>\n",
       "      <td>1,839</td>\n",
       "      <td>2.0</td>\n",
       "      <td>2.0</td>\n",
       "      <td>6417200.0</td>\n",
       "      <td>48012.0</td>\n",
       "      <td>18771 HOMESTEAD ROAD LLC</td>\n",
       "      <td>No</td>\n",
       "      <td>No</td>\n",
       "      <td>Yes</td>\n",
       "      <td>18771 E Homestead Rd SUNNYVALE CA</td>\n",
       "      <td>37.3376839</td>\n",
       "      <td>-122.0183715</td>\n",
       "    </tr>\n",
       "    <tr>\n",
       "      <th>86 Mesa Ct</th>\n",
       "      <td>Santa Clara</td>\n",
       "      <td>ATHERTON</td>\n",
       "      <td>2,630</td>\n",
       "      <td>3.0</td>\n",
       "      <td>2.0</td>\n",
       "      <td>6608100.0</td>\n",
       "      <td>-9868906.0</td>\n",
       "      <td>BELSHE,MICHAEL</td>\n",
       "      <td>No</td>\n",
       "      <td>No</td>\n",
       "      <td>Yes</td>\n",
       "      <td>86 Mesa Ct ATHERTON CA</td>\n",
       "      <td>???</td>\n",
       "      <td>???</td>\n",
       "    </tr>\n",
       "    <tr>\n",
       "      <th>86 Mesa Ct</th>\n",
       "      <td>San Mateo</td>\n",
       "      <td>ATHERTON</td>\n",
       "      <td>2,630</td>\n",
       "      <td>3.0</td>\n",
       "      <td>2.0</td>\n",
       "      <td>6608100.0</td>\n",
       "      <td>-9868906.0</td>\n",
       "      <td>BELSHE,MICHAEL</td>\n",
       "      <td>No</td>\n",
       "      <td>No</td>\n",
       "      <td>Yes</td>\n",
       "      <td>86 Mesa Ct ATHERTON CA</td>\n",
       "      <td>???</td>\n",
       "      <td>???</td>\n",
       "    </tr>\n",
       "    <tr>\n",
       "      <th>3 Via Paraiso W</th>\n",
       "      <td>Marin</td>\n",
       "      <td>BELVEDERE TIBURON</td>\n",
       "      <td>7,158</td>\n",
       "      <td>5.0</td>\n",
       "      <td>7.0</td>\n",
       "      <td>7152500.0</td>\n",
       "      <td>937204.0</td>\n",
       "      <td>HONCHARIW,NICHOLAS J &amp; SHA</td>\n",
       "      <td>Yes</td>\n",
       "      <td>No</td>\n",
       "      <td>Yes</td>\n",
       "      <td>3 Via Paraiso W BELVEDERE TIBURON CA</td>\n",
       "      <td>???</td>\n",
       "      <td>???</td>\n",
       "    </tr>\n",
       "    <tr>\n",
       "      <th>224 Sea Cliff Ave</th>\n",
       "      <td>San Francisco</td>\n",
       "      <td>SAN FRANCISCO</td>\n",
       "      <td>5,552</td>\n",
       "      <td>7.0</td>\n",
       "      <td>5.0</td>\n",
       "      <td>9270259.0</td>\n",
       "      <td>-7430282.0</td>\n",
       "      <td>BRUGNARA PROPERTIES VI</td>\n",
       "      <td>Yes</td>\n",
       "      <td>No</td>\n",
       "      <td>Yes</td>\n",
       "      <td>224 Sea Cliff Ave SAN FRANCISCO CA</td>\n",
       "      <td>???</td>\n",
       "      <td>???</td>\n",
       "    </tr>\n",
       "    <tr>\n",
       "      <th>2900 Paradise Dr</th>\n",
       "      <td>Marin</td>\n",
       "      <td>TIBURON</td>\n",
       "      <td>10,944</td>\n",
       "      <td>3.0</td>\n",
       "      <td>6.0</td>\n",
       "      <td>11434538.0</td>\n",
       "      <td>11434538.0</td>\n",
       "      <td>JPMORGAN CHASE BK NA</td>\n",
       "      <td>Yes</td>\n",
       "      <td>No</td>\n",
       "      <td>Yes</td>\n",
       "      <td>2900 Paradise Dr TIBURON CA</td>\n",
       "      <td>37.8730004</td>\n",
       "      <td>-122.4527133</td>\n",
       "    </tr>\n",
       "    <tr>\n",
       "      <th>707 Leahy St</th>\n",
       "      <td>San Mateo</td>\n",
       "      <td>REDWOOD CITY</td>\n",
       "      <td>99,999</td>\n",
       "      <td>147.0</td>\n",
       "      <td>1.0</td>\n",
       "      <td>28176588.0</td>\n",
       "      <td>16669017.0</td>\n",
       "      <td>AIMCO LEAHY SQUARE APARTM</td>\n",
       "      <td>No</td>\n",
       "      <td>No</td>\n",
       "      <td>Yes</td>\n",
       "      <td>707 Leahy St REDWOOD CITY CA</td>\n",
       "      <td>37.4700038</td>\n",
       "      <td>-122.2154054</td>\n",
       "    </tr>\n",
       "  </tbody>\n",
       "</table>\n",
       "</div>"
      ],
      "text/plain": [
       "                             County               City   Sq Ft   Beds  Baths  \\\n",
       "Address                                                                        \n",
       "789 El Camino Real        San Mateo         BURLINGAME  26,952   25.0    3.0   \n",
       "789 El Camino Real      Santa Clara         BURLINGAME  26,952   25.0    3.0   \n",
       "77 Belgrave Ave       San Francisco      SAN FRANCISCO   4,411    2.0    3.0   \n",
       "18771 E Homestead Rd    Santa Clara          SUNNYVALE   1,839    2.0    2.0   \n",
       "86 Mesa Ct              Santa Clara           ATHERTON   2,630    3.0    2.0   \n",
       "86 Mesa Ct                San Mateo           ATHERTON   2,630    3.0    2.0   \n",
       "3 Via Paraiso W               Marin  BELVEDERE TIBURON   7,158    5.0    7.0   \n",
       "224 Sea Cliff Ave     San Francisco      SAN FRANCISCO   5,552    7.0    5.0   \n",
       "2900 Paradise Dr              Marin            TIBURON  10,944    3.0    6.0   \n",
       "707 Leahy St              San Mateo       REDWOOD CITY  99,999  147.0    1.0   \n",
       "\n",
       "                       Est Value  Est Equity                       Owner  \\\n",
       "Address                                                                    \n",
       "789 El Camino Real     5857366.0   5857366.0     CALIFORNIA PACIFIC BANK   \n",
       "789 El Camino Real     5857366.0   5857366.0     CALIFORNIA PACIFIC BANK   \n",
       "77 Belgrave Ave        6044300.0   1136732.0     WEBER,HUNG & GEOFFREY L   \n",
       "18771 E Homestead Rd   6417200.0     48012.0    18771 HOMESTEAD ROAD LLC   \n",
       "86 Mesa Ct             6608100.0  -9868906.0              BELSHE,MICHAEL   \n",
       "86 Mesa Ct             6608100.0  -9868906.0              BELSHE,MICHAEL   \n",
       "3 Via Paraiso W        7152500.0    937204.0  HONCHARIW,NICHOLAS J & SHA   \n",
       "224 Sea Cliff Ave      9270259.0  -7430282.0      BRUGNARA PROPERTIES VI   \n",
       "2900 Paradise Dr      11434538.0  11434538.0        JPMORGAN CHASE BK NA   \n",
       "707 Leahy St          28176588.0  16669017.0   AIMCO LEAHY SQUARE APARTM   \n",
       "\n",
       "                     Owner Occ? Listed for Sale? Foreclosure  \\\n",
       "Address                                                        \n",
       "789 El Camino Real           No               No         Yes   \n",
       "789 El Camino Real           No               No         Yes   \n",
       "77 Belgrave Ave              No               No         Yes   \n",
       "18771 E Homestead Rd         No               No         Yes   \n",
       "86 Mesa Ct                   No               No         Yes   \n",
       "86 Mesa Ct                   No               No         Yes   \n",
       "3 Via Paraiso W             Yes               No         Yes   \n",
       "224 Sea Cliff Ave           Yes               No         Yes   \n",
       "2900 Paradise Dr            Yes               No         Yes   \n",
       "707 Leahy St                 No               No         Yes   \n",
       "\n",
       "                                      Concatenated Address    Latitude  \\\n",
       "Address                                                                  \n",
       "789 El Camino Real        789 El Camino Real BURLINGAME CA  37.5842528   \n",
       "789 El Camino Real        789 El Camino Real BURLINGAME CA         ???   \n",
       "77 Belgrave Ave           77 Belgrave Ave SAN FRANCISCO CA  37.7596177   \n",
       "18771 E Homestead Rd     18771 E Homestead Rd SUNNYVALE CA  37.3376839   \n",
       "86 Mesa Ct                          86 Mesa Ct ATHERTON CA         ???   \n",
       "86 Mesa Ct                          86 Mesa Ct ATHERTON CA         ???   \n",
       "3 Via Paraiso W       3 Via Paraiso W BELVEDERE TIBURON CA         ???   \n",
       "224 Sea Cliff Ave       224 Sea Cliff Ave SAN FRANCISCO CA         ???   \n",
       "2900 Paradise Dr               2900 Paradise Dr TIBURON CA  37.8730004   \n",
       "707 Leahy St                  707 Leahy St REDWOOD CITY CA  37.4700038   \n",
       "\n",
       "                         Longitude  \n",
       "Address                             \n",
       "789 El Camino Real    -122.3663781  \n",
       "789 El Camino Real             ???  \n",
       "77 Belgrave Ave       -122.4492343  \n",
       "18771 E Homestead Rd  -122.0183715  \n",
       "86 Mesa Ct                     ???  \n",
       "86 Mesa Ct                     ???  \n",
       "3 Via Paraiso W                ???  \n",
       "224 Sea Cliff Ave              ???  \n",
       "2900 Paradise Dr      -122.4527133  \n",
       "707 Leahy St          -122.2154054  "
      ]
     },
     "metadata": {},
     "output_type": "display_data"
    }
   ],
   "source": [
    "#sort by estimated value\n",
    "foreclosure_df_sorted_value = foreclosure_df.sort_values('Est Value').dropna()\n",
    "\n",
    "#Review the first and last five rows of the DataFrame\n",
    "display(foreclosure_df_sorted_value.round().head(10))\n",
    "display(foreclosure_df_sorted_value.round().tail(10))"
   ]
  },
  {
   "cell_type": "markdown",
   "metadata": {},
   "source": [
    "# CURRENT FORECLOSURE DATA - MEAN HOME EQUITY BY COUNTY\n",
    "#   "
   ]
  },
  {
   "cell_type": "code",
   "execution_count": 32,
   "metadata": {},
   "outputs": [
    {
     "data": {
      "text/html": [
       "<div>\n",
       "<style scoped>\n",
       "    .dataframe tbody tr th:only-of-type {\n",
       "        vertical-align: middle;\n",
       "    }\n",
       "\n",
       "    .dataframe tbody tr th {\n",
       "        vertical-align: top;\n",
       "    }\n",
       "\n",
       "    .dataframe thead th {\n",
       "        text-align: right;\n",
       "    }\n",
       "</style>\n",
       "<table border=\"1\" class=\"dataframe\">\n",
       "  <thead>\n",
       "    <tr style=\"text-align: right;\">\n",
       "      <th></th>\n",
       "      <th>Est Equity</th>\n",
       "    </tr>\n",
       "    <tr>\n",
       "      <th>County</th>\n",
       "      <th></th>\n",
       "    </tr>\n",
       "  </thead>\n",
       "  <tbody>\n",
       "    <tr>\n",
       "      <th>San Francisco</th>\n",
       "      <td>-530919.0</td>\n",
       "    </tr>\n",
       "    <tr>\n",
       "      <th>Alameda</th>\n",
       "      <td>195102.0</td>\n",
       "    </tr>\n",
       "    <tr>\n",
       "      <th>Solano</th>\n",
       "      <td>241245.0</td>\n",
       "    </tr>\n",
       "    <tr>\n",
       "      <th>Sonoma</th>\n",
       "      <td>244413.0</td>\n",
       "    </tr>\n",
       "    <tr>\n",
       "      <th>Napa</th>\n",
       "      <td>368489.0</td>\n",
       "    </tr>\n",
       "  </tbody>\n",
       "</table>\n",
       "</div>"
      ],
      "text/plain": [
       "               Est Equity\n",
       "County                   \n",
       "San Francisco   -530919.0\n",
       "Alameda          195102.0\n",
       "Solano           241245.0\n",
       "Sonoma           244413.0\n",
       "Napa             368489.0"
      ]
     },
     "metadata": {},
     "output_type": "display_data"
    },
    {
     "data": {
      "text/html": [
       "<div>\n",
       "<style scoped>\n",
       "    .dataframe tbody tr th:only-of-type {\n",
       "        vertical-align: middle;\n",
       "    }\n",
       "\n",
       "    .dataframe tbody tr th {\n",
       "        vertical-align: top;\n",
       "    }\n",
       "\n",
       "    .dataframe thead th {\n",
       "        text-align: right;\n",
       "    }\n",
       "</style>\n",
       "<table border=\"1\" class=\"dataframe\">\n",
       "  <thead>\n",
       "    <tr style=\"text-align: right;\">\n",
       "      <th></th>\n",
       "      <th>Est Equity</th>\n",
       "    </tr>\n",
       "    <tr>\n",
       "      <th>County</th>\n",
       "      <th></th>\n",
       "    </tr>\n",
       "  </thead>\n",
       "  <tbody>\n",
       "    <tr>\n",
       "      <th>Napa</th>\n",
       "      <td>368489.0</td>\n",
       "    </tr>\n",
       "    <tr>\n",
       "      <th>Contra Costa</th>\n",
       "      <td>369941.0</td>\n",
       "    </tr>\n",
       "    <tr>\n",
       "      <th>Marin</th>\n",
       "      <td>682757.0</td>\n",
       "    </tr>\n",
       "    <tr>\n",
       "      <th>Santa Clara</th>\n",
       "      <td>844800.0</td>\n",
       "    </tr>\n",
       "    <tr>\n",
       "      <th>San Mateo</th>\n",
       "      <td>1141406.0</td>\n",
       "    </tr>\n",
       "  </tbody>\n",
       "</table>\n",
       "</div>"
      ],
      "text/plain": [
       "              Est Equity\n",
       "County                  \n",
       "Napa            368489.0\n",
       "Contra Costa    369941.0\n",
       "Marin           682757.0\n",
       "Santa Clara     844800.0\n",
       "San Mateo      1141406.0"
      ]
     },
     "metadata": {},
     "output_type": "display_data"
    }
   ],
   "source": [
    "avg_foreclosure_equity_county = (\n",
    "    foreclosure_df[['Est Equity','County']]\n",
    "    .groupby('County')\n",
    "    .mean()\n",
    "    .sort_values('Est Equity')\n",
    ").round()\n",
    "\n",
    "display(avg_foreclosure_equity_county.head())\n",
    "display(avg_foreclosure_equity_county.tail())"
   ]
  },
  {
   "cell_type": "code",
   "execution_count": 9,
   "metadata": {},
   "outputs": [
    {
     "data": {},
     "metadata": {},
     "output_type": "display_data"
    },
    {
     "data": {
      "application/vnd.holoviews_exec.v0+json": "",
      "text/html": [
       "<div id='1001'>\n",
       "\n",
       "\n",
       "\n",
       "\n",
       "\n",
       "  <div class=\"bk-root\" id=\"4a6aac20-e0de-465e-b9fa-475414229456\" data-root-id=\"1001\"></div>\n",
       "</div>\n",
       "<script type=\"application/javascript\">(function(root) {\n",
       "  function embed_document(root) {\n",
       "    var docs_json = {\"cdbadb5b-9e21-48fc-a858-80e63f364f67\":{\"roots\":{\"references\":[{\"attributes\":{},\"id\":\"1044\",\"type\":\"CategoricalTickFormatter\"},{\"attributes\":{\"margin\":[5,5,5,5],\"name\":\"HSpacer01580\",\"sizing_mode\":\"stretch_width\"},\"id\":\"1002\",\"type\":\"Spacer\"},{\"attributes\":{},\"id\":\"1036\",\"type\":\"Selection\"},{\"attributes\":{},\"id\":\"1013\",\"type\":\"LinearScale\"},{\"attributes\":{\"axis_label\":\"Est Equity\",\"bounds\":\"auto\",\"formatter\":{\"id\":\"1043\"},\"major_label_orientation\":\"horizontal\",\"ticker\":{\"id\":\"1019\"}},\"id\":\"1018\",\"type\":\"LinearAxis\"},{\"attributes\":{\"data\":{\"County\":[\"San Francisco\",\"Alameda\",\"Solano\",\"Sonoma\",\"Napa\",\"Contra Costa\",\"Marin\",\"Santa Clara\",\"San Mateo\"],\"Est_Equity\":{\"__ndarray__\":\"AAAAAM4zIMEAAAAA8NAHQQAAAADocg1BAAAAAOjVDUEAAAAApH0WQQAAAABUlBZBAAAAAArWJEEAAAAAAMgpQQAAAACeajFB\",\"dtype\":\"float64\",\"order\":\"little\",\"shape\":[9]}},\"selected\":{\"id\":\"1036\"},\"selection_policy\":{\"id\":\"1055\"}},\"id\":\"1035\",\"type\":\"ColumnDataSource\"},{\"attributes\":{\"data_source\":{\"id\":\"1035\"},\"glyph\":{\"id\":\"1038\"},\"hover_glyph\":null,\"muted_glyph\":{\"id\":\"1040\"},\"nonselection_glyph\":{\"id\":\"1039\"},\"selection_glyph\":null,\"view\":{\"id\":\"1042\"}},\"id\":\"1041\",\"type\":\"GlyphRenderer\"},{\"attributes\":{\"fill_color\":{\"value\":\"blue\"},\"top\":{\"field\":\"Est_Equity\"},\"width\":{\"value\":0.8},\"x\":{\"field\":\"County\"}},\"id\":\"1038\",\"type\":\"VBar\"},{\"attributes\":{\"end\":1308638.5,\"reset_end\":1308638.5,\"reset_start\":-698151.5,\"start\":-698151.5,\"tags\":[[[\"Est Equity\",\"Est Equity\",null]]]},\"id\":\"1004\",\"type\":\"Range1d\"},{\"attributes\":{\"children\":[{\"id\":\"1002\"},{\"id\":\"1006\"},{\"id\":\"1064\"}],\"margin\":[0,0,0,0],\"name\":\"Row01576\",\"tags\":[\"embedded\"]},\"id\":\"1001\",\"type\":\"Row\"},{\"attributes\":{},\"id\":\"1016\",\"type\":\"CategoricalTicker\"},{\"attributes\":{},\"id\":\"1023\",\"type\":\"PanTool\"},{\"attributes\":{\"text\":\"Foreclosures - Mean Home Equity - Sorted by County\",\"text_color\":{\"value\":\"black\"},\"text_font_size\":{\"value\":\"12pt\"}},\"id\":\"1007\",\"type\":\"Title\"},{\"attributes\":{},\"id\":\"1022\",\"type\":\"SaveTool\"},{\"attributes\":{\"bottom_units\":\"screen\",\"fill_alpha\":0.5,\"fill_color\":\"lightgrey\",\"left_units\":\"screen\",\"level\":\"overlay\",\"line_alpha\":1.0,\"line_color\":\"black\",\"line_dash\":[4,4],\"line_width\":2,\"right_units\":\"screen\",\"top_units\":\"screen\"},\"id\":\"1027\",\"type\":\"BoxAnnotation\"},{\"attributes\":{\"active_drag\":\"auto\",\"active_inspect\":\"auto\",\"active_multi\":null,\"active_scroll\":\"auto\",\"active_tap\":\"auto\",\"tools\":[{\"id\":\"1005\"},{\"id\":\"1022\"},{\"id\":\"1023\"},{\"id\":\"1024\"},{\"id\":\"1025\"},{\"id\":\"1026\"}]},\"id\":\"1028\",\"type\":\"Toolbar\"},{\"attributes\":{\"axis\":{\"id\":\"1015\"},\"grid_line_color\":null,\"ticker\":null},\"id\":\"1017\",\"type\":\"Grid\"},{\"attributes\":{\"factors\":[\"San Francisco\",\"Alameda\",\"Solano\",\"Sonoma\",\"Napa\",\"Contra Costa\",\"Marin\",\"Santa Clara\",\"San Mateo\"],\"tags\":[[[\"County\",\"County\",null]]]},\"id\":\"1003\",\"type\":\"FactorRange\"},{\"attributes\":{},\"id\":\"1011\",\"type\":\"CategoricalScale\"},{\"attributes\":{\"source\":{\"id\":\"1035\"}},\"id\":\"1042\",\"type\":\"CDSView\"},{\"attributes\":{\"margin\":[5,5,5,5],\"name\":\"HSpacer01581\",\"sizing_mode\":\"stretch_width\"},\"id\":\"1064\",\"type\":\"Spacer\"},{\"attributes\":{},\"id\":\"1019\",\"type\":\"BasicTicker\"},{\"attributes\":{\"fill_alpha\":{\"value\":0.1},\"fill_color\":{\"value\":\"blue\"},\"line_alpha\":{\"value\":0.1},\"top\":{\"field\":\"Est_Equity\"},\"width\":{\"value\":0.8},\"x\":{\"field\":\"County\"}},\"id\":\"1039\",\"type\":\"VBar\"},{\"attributes\":{},\"id\":\"1055\",\"type\":\"UnionRenderers\"},{\"attributes\":{\"fill_alpha\":{\"value\":0.2},\"fill_color\":{\"value\":\"blue\"},\"line_alpha\":{\"value\":0.2},\"top\":{\"field\":\"Est_Equity\"},\"width\":{\"value\":0.8},\"x\":{\"field\":\"County\"}},\"id\":\"1040\",\"type\":\"VBar\"},{\"attributes\":{\"overlay\":{\"id\":\"1027\"}},\"id\":\"1025\",\"type\":\"BoxZoomTool\"},{\"attributes\":{\"axis\":{\"id\":\"1018\"},\"dimension\":1,\"grid_line_color\":null,\"ticker\":null},\"id\":\"1021\",\"type\":\"Grid\"},{\"attributes\":{\"axis_label\":\"County\",\"bounds\":\"auto\",\"formatter\":{\"id\":\"1044\"},\"major_label_orientation\":1.5707963267948966,\"ticker\":{\"id\":\"1016\"}},\"id\":\"1015\",\"type\":\"CategoricalAxis\"},{\"attributes\":{},\"id\":\"1024\",\"type\":\"WheelZoomTool\"},{\"attributes\":{},\"id\":\"1026\",\"type\":\"ResetTool\"},{\"attributes\":{\"below\":[{\"id\":\"1015\"}],\"center\":[{\"id\":\"1017\"},{\"id\":\"1021\"}],\"left\":[{\"id\":\"1018\"}],\"margin\":[5,5,5,5],\"min_border_bottom\":10,\"min_border_left\":10,\"min_border_right\":10,\"min_border_top\":10,\"plot_height\":500,\"plot_width\":1500,\"renderers\":[{\"id\":\"1041\"}],\"sizing_mode\":\"fixed\",\"title\":{\"id\":\"1007\"},\"toolbar\":{\"id\":\"1028\"},\"x_range\":{\"id\":\"1003\"},\"x_scale\":{\"id\":\"1011\"},\"y_range\":{\"id\":\"1004\"},\"y_scale\":{\"id\":\"1013\"}},\"id\":\"1006\",\"subtype\":\"Figure\",\"type\":\"Plot\"},{\"attributes\":{\"format\":\"%.0f\"},\"id\":\"1043\",\"type\":\"PrintfTickFormatter\"},{\"attributes\":{\"callback\":null,\"renderers\":[{\"id\":\"1041\"}],\"tags\":[\"hv_created\"],\"tooltips\":[[\"County\",\"@{County}\"],[\"Est Equity\",\"@{Est_Equity}\"]]},\"id\":\"1005\",\"type\":\"HoverTool\"}],\"root_ids\":[\"1001\"]},\"title\":\"Bokeh Application\",\"version\":\"2.2.3\"}};\n",
       "    var render_items = [{\"docid\":\"cdbadb5b-9e21-48fc-a858-80e63f364f67\",\"root_ids\":[\"1001\"],\"roots\":{\"1001\":\"4a6aac20-e0de-465e-b9fa-475414229456\"}}];\n",
       "    root.Bokeh.embed.embed_items_notebook(docs_json, render_items);\n",
       "  }\n",
       "  if (root.Bokeh !== undefined && root.Bokeh.Panel !== undefined) {\n",
       "    embed_document(root);\n",
       "  } else {\n",
       "    var attempts = 0;\n",
       "    var timer = setInterval(function(root) {\n",
       "      if (root.Bokeh !== undefined && root.Bokeh.Panel !== undefined) {\n",
       "        clearInterval(timer);\n",
       "        embed_document(root);\n",
       "      } else if (document.readyState == \"complete\") {\n",
       "        attempts++;\n",
       "        if (attempts > 100) {\n",
       "          clearInterval(timer);\n",
       "          console.log(\"Bokeh: ERROR: Unable to run BokehJS code because BokehJS library is missing\");\n",
       "        }\n",
       "      }\n",
       "    }, 10, root)\n",
       "  }\n",
       "})(window);</script>"
      ],
      "text/plain": [
       ":Bars   [County]   (Est Equity)"
      ]
     },
     "execution_count": 9,
     "metadata": {
      "application/vnd.holoviews_exec.v0+json": {
       "id": "1001"
      }
     },
     "output_type": "execute_result"
    }
   ],
   "source": [
    "avg_foreclosure_equity_county.hvplot.bar(\n",
    "    title='Foreclosures - Mean Home Equity - Sorted by County',\n",
    "    rot=90,\n",
    "    height=500,\n",
    "    width=1500,\n",
    ").opts(yformatter = '%.0f',\n",
    "      color='blue')"
   ]
  },
  {
   "cell_type": "markdown",
   "metadata": {},
   "source": [
    "# CURRENT FORECLOSURE DATA - MEAN HOME EQUITY BY CITY\n",
    "#   "
   ]
  },
  {
   "cell_type": "code",
   "execution_count": 33,
   "metadata": {},
   "outputs": [
    {
     "data": {
      "text/html": [
       "<div>\n",
       "<style scoped>\n",
       "    .dataframe tbody tr th:only-of-type {\n",
       "        vertical-align: middle;\n",
       "    }\n",
       "\n",
       "    .dataframe tbody tr th {\n",
       "        vertical-align: top;\n",
       "    }\n",
       "\n",
       "    .dataframe thead th {\n",
       "        text-align: right;\n",
       "    }\n",
       "</style>\n",
       "<table border=\"1\" class=\"dataframe\">\n",
       "  <thead>\n",
       "    <tr style=\"text-align: right;\">\n",
       "      <th></th>\n",
       "      <th>Est Equity</th>\n",
       "    </tr>\n",
       "    <tr>\n",
       "      <th>City</th>\n",
       "      <th></th>\n",
       "    </tr>\n",
       "  </thead>\n",
       "  <tbody>\n",
       "    <tr>\n",
       "      <th>CASTRO VALLEY</th>\n",
       "      <td>-8755123.0</td>\n",
       "    </tr>\n",
       "    <tr>\n",
       "      <th>MOUNTAIN VIEW</th>\n",
       "      <td>-4958535.0</td>\n",
       "    </tr>\n",
       "    <tr>\n",
       "      <th>BELVEDERE</th>\n",
       "      <td>-3400888.0</td>\n",
       "    </tr>\n",
       "    <tr>\n",
       "      <th>HALF MOON BAY</th>\n",
       "      <td>-2755874.0</td>\n",
       "    </tr>\n",
       "    <tr>\n",
       "      <th>ATHERTON</th>\n",
       "      <td>-2642911.0</td>\n",
       "    </tr>\n",
       "  </tbody>\n",
       "</table>\n",
       "</div>"
      ],
      "text/plain": [
       "               Est Equity\n",
       "City                     \n",
       "CASTRO VALLEY  -8755123.0\n",
       "MOUNTAIN VIEW  -4958535.0\n",
       "BELVEDERE      -3400888.0\n",
       "HALF MOON BAY  -2755874.0\n",
       "ATHERTON       -2642911.0"
      ]
     },
     "metadata": {},
     "output_type": "display_data"
    },
    {
     "data": {
      "text/html": [
       "<div>\n",
       "<style scoped>\n",
       "    .dataframe tbody tr th:only-of-type {\n",
       "        vertical-align: middle;\n",
       "    }\n",
       "\n",
       "    .dataframe tbody tr th {\n",
       "        vertical-align: top;\n",
       "    }\n",
       "\n",
       "    .dataframe thead th {\n",
       "        text-align: right;\n",
       "    }\n",
       "</style>\n",
       "<table border=\"1\" class=\"dataframe\">\n",
       "  <thead>\n",
       "    <tr style=\"text-align: right;\">\n",
       "      <th></th>\n",
       "      <th>Est Equity</th>\n",
       "    </tr>\n",
       "    <tr>\n",
       "      <th>City</th>\n",
       "      <th></th>\n",
       "    </tr>\n",
       "  </thead>\n",
       "  <tbody>\n",
       "    <tr>\n",
       "      <th>BURLINGAME</th>\n",
       "      <td>3412682.0</td>\n",
       "    </tr>\n",
       "    <tr>\n",
       "      <th>REDWOOD CITY</th>\n",
       "      <td>3597857.0</td>\n",
       "    </tr>\n",
       "    <tr>\n",
       "      <th>SUNNYVALE</th>\n",
       "      <td>4000520.0</td>\n",
       "    </tr>\n",
       "    <tr>\n",
       "      <th>SAINT HELENA</th>\n",
       "      <td>4605100.0</td>\n",
       "    </tr>\n",
       "    <tr>\n",
       "      <th>MENLO PARK</th>\n",
       "      <td>9462658.0</td>\n",
       "    </tr>\n",
       "  </tbody>\n",
       "</table>\n",
       "</div>"
      ],
      "text/plain": [
       "              Est Equity\n",
       "City                    \n",
       "BURLINGAME     3412682.0\n",
       "REDWOOD CITY   3597857.0\n",
       "SUNNYVALE      4000520.0\n",
       "SAINT HELENA   4605100.0\n",
       "MENLO PARK     9462658.0"
      ]
     },
     "metadata": {},
     "output_type": "display_data"
    }
   ],
   "source": [
    "avg_foreclosure_equity_city = (\n",
    "    foreclosure_df[['Est Equity','City']]\n",
    "    .groupby('City')\n",
    "    .mean()\n",
    "    .sort_values('Est Equity')\n",
    ").round()\n",
    "\n",
    "display(avg_foreclosure_equity_city.head())\n",
    "display(avg_foreclosure_equity_city.tail())"
   ]
  },
  {
   "cell_type": "code",
   "execution_count": 11,
   "metadata": {},
   "outputs": [
    {
     "data": {},
     "metadata": {},
     "output_type": "display_data"
    },
    {
     "data": {
      "application/vnd.holoviews_exec.v0+json": "",
      "text/html": [
       "<div id='1101'>\n",
       "\n",
       "\n",
       "\n",
       "\n",
       "\n",
       "  <div class=\"bk-root\" id=\"e78e375e-b923-4e12-b7ac-d652190c64b3\" data-root-id=\"1101\"></div>\n",
       "</div>\n",
       "<script type=\"application/javascript\">(function(root) {\n",
       "  function embed_document(root) {\n",
       "    var docs_json = {\"195bf5db-7eb0-497a-ac0f-e08185c6d57f\":{\"roots\":{\"references\":[{\"attributes\":{\"margin\":[5,5,5,5],\"name\":\"HSpacer01774\",\"sizing_mode\":\"stretch_width\"},\"id\":\"1164\",\"type\":\"Spacer\"},{\"attributes\":{\"axis_label\":\"City\",\"bounds\":\"auto\",\"formatter\":{\"id\":\"1144\"},\"major_label_orientation\":1.5707963267948966,\"ticker\":{\"id\":\"1116\"}},\"id\":\"1115\",\"type\":\"CategoricalAxis\"},{\"attributes\":{\"data_source\":{\"id\":\"1135\"},\"glyph\":{\"id\":\"1138\"},\"hover_glyph\":null,\"muted_glyph\":{\"id\":\"1140\"},\"nonselection_glyph\":{\"id\":\"1139\"},\"selection_glyph\":null,\"view\":{\"id\":\"1142\"}},\"id\":\"1141\",\"type\":\"GlyphRenderer\"},{\"attributes\":{},\"id\":\"1126\",\"type\":\"ResetTool\"},{\"attributes\":{\"margin\":[5,5,5,5],\"name\":\"HSpacer01773\",\"sizing_mode\":\"stretch_width\"},\"id\":\"1102\",\"type\":\"Spacer\"},{\"attributes\":{},\"id\":\"1113\",\"type\":\"LinearScale\"},{\"attributes\":{\"children\":[{\"id\":\"1102\"},{\"id\":\"1106\"},{\"id\":\"1164\"}],\"margin\":[0,0,0,0],\"name\":\"Row01769\",\"tags\":[\"embedded\"]},\"id\":\"1101\",\"type\":\"Row\"},{\"attributes\":{\"text\":\"Foreclosures - Mean Home Equity - Sorted by City\",\"text_color\":{\"value\":\"black\"},\"text_font_size\":{\"value\":\"12pt\"}},\"id\":\"1107\",\"type\":\"Title\"},{\"attributes\":{},\"id\":\"1136\",\"type\":\"Selection\"},{\"attributes\":{},\"id\":\"1116\",\"type\":\"CategoricalTicker\"},{\"attributes\":{},\"id\":\"1155\",\"type\":\"UnionRenderers\"},{\"attributes\":{\"axis\":{\"id\":\"1115\"},\"grid_line_color\":null,\"ticker\":null},\"id\":\"1117\",\"type\":\"Grid\"},{\"attributes\":{},\"id\":\"1119\",\"type\":\"BasicTicker\"},{\"attributes\":{},\"id\":\"1111\",\"type\":\"CategoricalScale\"},{\"attributes\":{\"axis_label\":\"Est Equity\",\"bounds\":\"auto\",\"formatter\":{\"id\":\"1143\"},\"major_label_orientation\":\"horizontal\",\"ticker\":{\"id\":\"1119\"}},\"id\":\"1118\",\"type\":\"LinearAxis\"},{\"attributes\":{\"format\":\"%.0f\"},\"id\":\"1143\",\"type\":\"PrintfTickFormatter\"},{\"attributes\":{\"below\":[{\"id\":\"1115\"}],\"center\":[{\"id\":\"1117\"},{\"id\":\"1121\"}],\"left\":[{\"id\":\"1118\"}],\"margin\":[5,5,5,5],\"min_border_bottom\":10,\"min_border_left\":10,\"min_border_right\":10,\"min_border_top\":10,\"plot_height\":500,\"plot_width\":1500,\"renderers\":[{\"id\":\"1141\"}],\"sizing_mode\":\"fixed\",\"title\":{\"id\":\"1107\"},\"toolbar\":{\"id\":\"1128\"},\"x_range\":{\"id\":\"1103\"},\"x_scale\":{\"id\":\"1111\"},\"y_range\":{\"id\":\"1104\"},\"y_scale\":{\"id\":\"1113\"}},\"id\":\"1106\",\"subtype\":\"Figure\",\"type\":\"Plot\"},{\"attributes\":{},\"id\":\"1144\",\"type\":\"CategoricalTickFormatter\"},{\"attributes\":{\"bottom_units\":\"screen\",\"fill_alpha\":0.5,\"fill_color\":\"lightgrey\",\"left_units\":\"screen\",\"level\":\"overlay\",\"line_alpha\":1.0,\"line_color\":\"black\",\"line_dash\":[4,4],\"line_width\":2,\"right_units\":\"screen\",\"top_units\":\"screen\"},\"id\":\"1127\",\"type\":\"BoxAnnotation\"},{\"attributes\":{\"fill_alpha\":{\"value\":0.1},\"fill_color\":{\"value\":\"blue\"},\"line_alpha\":{\"value\":0.1},\"top\":{\"field\":\"Est_Equity\"},\"width\":{\"value\":0.8},\"x\":{\"field\":\"City\"}},\"id\":\"1139\",\"type\":\"VBar\"},{\"attributes\":{\"active_drag\":\"auto\",\"active_inspect\":\"auto\",\"active_multi\":null,\"active_scroll\":\"auto\",\"active_tap\":\"auto\",\"tools\":[{\"id\":\"1105\"},{\"id\":\"1122\"},{\"id\":\"1123\"},{\"id\":\"1124\"},{\"id\":\"1125\"},{\"id\":\"1126\"}]},\"id\":\"1128\",\"type\":\"Toolbar\"},{\"attributes\":{\"fill_alpha\":{\"value\":0.2},\"fill_color\":{\"value\":\"blue\"},\"line_alpha\":{\"value\":0.2},\"top\":{\"field\":\"Est_Equity\"},\"width\":{\"value\":0.8},\"x\":{\"field\":\"City\"}},\"id\":\"1140\",\"type\":\"VBar\"},{\"attributes\":{\"callback\":null,\"renderers\":[{\"id\":\"1141\"}],\"tags\":[\"hv_created\"],\"tooltips\":[[\"City\",\"@{City}\"],[\"Est Equity\",\"@{Est_Equity}\"]]},\"id\":\"1105\",\"type\":\"HoverTool\"},{\"attributes\":{\"data\":{\"City\":[\"CASTRO VALLEY\",\"MOUNTAIN VIEW\",\"BELVEDERE\",\"HALF MOON BAY\",\"ATHERTON\",\"GREENBRAE\",\"WINDSOR\",\"Unkno<n\",\"SAN FRANCISCO\",\"LOS ALTOS HILLS\",\"OAKLEY\",\"PACHECO\",\"SAUSALITO\",\"SAN GREGORIO\",\"GILROY\",\"FAIRFIELD\",\"MONTE SERENO\",\"NOVATO\",\"Unknown\",\"AMERICAN CANYON\",\"VALLEJO\",\"CAZADERO\",\"ALAMEDA\",\"RIO VISTA\",\"SAN LEANDRO\",\"CLOVERDALE\",\"LIVERMORE\",\"ANTIOCH\",\"SANTA ROSA\",\"FREMONT\",\"WOODSIDE\",\"HAYWARD\",\"RICHMOND\",\"SAN PABLO\",\"DIXON\",\"NAPA\",\"PITTSBURG\",\"OCCIDENTAL\",\"GUERNEVILLE\",\"BENICIA\",\"CONCORD\",\"DISCOVERY BAY\",\"VACAVILLE\",\"COTATI\",\"SEBASTOPOL\",\"PLEASANT HILL\",\"RIO NIDO\",\"RODEO\",\"PINOLE\",\"EMERYVILLE\",\"EL SOBRANTE\",\"FOSTER CITY\",\"WALNUT CREEK\",\"FORESTVILLE\",\"BRENTWOOD\",\"MORGAN HILL\",\"SAN LORENZO\",\"HEALDSBURG\",\"PESCADERO\",\"CALISTOGA\",\"SONOMA\",\"UNION CITY\",\"MARTINEZ\",\"LARKSPUR\",\"CLAYTON\",\"BERKELEY\",\"HERCULES\",\"OAKLAND\",\"BOLINAS\",\"MONTARA\",\"MOSS BEACH\",\"EAST PALO ALTO\",\"DILLON BEACH\",\"BODEGA BAY\",\"CAMPBELL\",\"ROHNERT PARK\",\"SAN MATEO\",\"DALY CITY\",\"ORINDA\",\"SAN RAFAEL\",\"MORAGA\",\"PETALUMA\",\"SAN JOSE\",\"NEWARK\",\"SAN ANSELMO\",\"SANTA CLARA\",\"MILPITAS\",\"PENNGROVE\",\"ALVISO\",\"DANVILLE\",\"PACIFICA\",\"FAIRFAX\",\"ALBANY\",\"EL CERRITO\",\"CORTE MADERA\",\"SAN BRUNO\",\"ALAMO\",\"LOS GATOS\",\"CUPERTINO\",\"PLEASANTON\",\"THE SEA RANCH\",\"SAN MARTIN\",\"DUBLIN\",\"BRISBANE\",\"PALO ALTO\",\"SAN CARLOS\",\"KENSINGTON\",\"SOUTH SAN FRANCISCO\",\"LAFAYETTE\",\"MILLBRAE\",\"MILL VALLEY\",\"EL GRANADA\",\"BELMONT\",\"BELVEDERE TIBURON\",\"HILLSBOROUGH\",\"SAN RAMON\",\"PIEDMONT\",\"ANGWIN\",\"SUISUN CITY\",\"SARATOGA\",\"LOS ALTOS\",\"TIBURON\",\"BURLINGAME\",\"REDWOOD CITY\",\"SUNNYVALE\",\"SAINT HELENA\",\"MENLO PARK\"],\"Est_Equity\":{\"__ndarray__\":\"AAAAYPayYMEAAADAUepSwQAAAABc8knBAAAAAJEGRcEAAACA7ylEwQAAAADfQzTBAAAAAFT1KMEAAAAAfo8owQAAAADOMyDBAAAAAPTNGcEAAAAAIGcWwQAAAACsKRXBAAAAALCNBsEAAAAAeNcBwQAAAABAGPXAAAAAAKBH8sAAAAAAgCbhwAAAAABAmdvAAAAAAIBqyMAAAAAAAAi+wAAAAABAmNZAAAAAAADs40AAAAAAgKXmQAAAAABAdPZAAAAAALjPBEEAAAAAWF8FQQAAAAAYPwlBAAAAABirCUEAAAAAkHgKQQAAAAAYqApBAAAAAAguC0EAAAAAsAkNQQAAAADgKw5BAAAAADByDkEAAAAAmPkOQQAAAADsKhBBAAAAAFRMEEEAAAAAcE0QQQAAAABIbBBBAAAAAFyTEEEAAAAAOKIQQQAAAABIvhBBAAAAAGAqEkEAAAAACMQSQQAAAAAwIRNBAAAAADw6FEEAAAAAoNwUQQAAAACwJhVBAAAAAARDFUEAAAAAGNMVQQAAAABo4RVBAAAAAKRgFkEAAAAA5EIXQQAAAABwlxhBAAAAAGCaGEEAAAAA6C4ZQQAAAAAcqBlBAAAAAKhPGkEAAAAAoG0aQQAAAABIZBxBAAAAACxqHEEAAAAALJkdQQAAAABEsx1BAAAAANT9HUEAAAAA+PQeQQAAAAB0EB9BAAAAAJSWH0EAAAAA/gEgQQAAAAD8eCBBAAAAADgDIkEAAAAAXIoiQQAAAAB2iyJBAAAAALaRIkEAAAAAgLMiQQAAAACwziJBAAAAAKb8IkEAAAAAngAjQQAAAACESiNBAAAAAFaII0EAAAAAhJcjQQAAAADG9iNBAAAAANILJEEAAAAA8KAkQQAAAABiUSVBAAAAAMKYJUEAAAAAurAlQQAAAAAw6yVBAAAAAOA/JkEAAAAAol8mQQAAAABoXidBAAAAAFJuJ0EAAAAAFFMoQQAAAAAUaihBAAAAANTqKEEAAAAAarUpQQAAAAC46SlBAAAAAEwxK0EAAAAA/gosQQAAAACYGyxBAAAAAJKcLkEAAAAAKH0vQQAAAABeiC9BAAAAAP71L0EAAAAAtn0wQQAAAADelTFBAAAAAELbMUEAAAAA6PsxQQAAAABn/DFBAAAAAPl6MkEAAAAAdQczQQAAAADouTNBAAAAADB6NEEAAAAACPc0QQAAAAB0sjVBAAAAAOJeNkEAAAAA8f82QQAAAACqQztBAAAAANCqO0EAAAAA8+E9QQAAAICHjkBBAAAAAOSsR0EAAAAA5dFIQQAAAABlCUpBAAAAgBBzS0EAAAAAhIVOQQAAAAArkVFBAAAAQHAMYkE=\",\"dtype\":\"float64\",\"order\":\"little\",\"shape\":[127]}},\"selected\":{\"id\":\"1136\"},\"selection_policy\":{\"id\":\"1155\"}},\"id\":\"1135\",\"type\":\"ColumnDataSource\"},{\"attributes\":{\"factors\":[\"CASTRO VALLEY\",\"MOUNTAIN VIEW\",\"BELVEDERE\",\"HALF MOON BAY\",\"ATHERTON\",\"GREENBRAE\",\"WINDSOR\",\"Unkno<n\",\"SAN FRANCISCO\",\"LOS ALTOS HILLS\",\"OAKLEY\",\"PACHECO\",\"SAUSALITO\",\"SAN GREGORIO\",\"GILROY\",\"FAIRFIELD\",\"MONTE SERENO\",\"NOVATO\",\"Unknown\",\"AMERICAN CANYON\",\"VALLEJO\",\"CAZADERO\",\"ALAMEDA\",\"RIO VISTA\",\"SAN LEANDRO\",\"CLOVERDALE\",\"LIVERMORE\",\"ANTIOCH\",\"SANTA ROSA\",\"FREMONT\",\"WOODSIDE\",\"HAYWARD\",\"RICHMOND\",\"SAN PABLO\",\"DIXON\",\"NAPA\",\"PITTSBURG\",\"OCCIDENTAL\",\"GUERNEVILLE\",\"BENICIA\",\"CONCORD\",\"DISCOVERY BAY\",\"VACAVILLE\",\"COTATI\",\"SEBASTOPOL\",\"PLEASANT HILL\",\"RIO NIDO\",\"RODEO\",\"PINOLE\",\"EMERYVILLE\",\"EL SOBRANTE\",\"FOSTER CITY\",\"WALNUT CREEK\",\"FORESTVILLE\",\"BRENTWOOD\",\"MORGAN HILL\",\"SAN LORENZO\",\"HEALDSBURG\",\"PESCADERO\",\"CALISTOGA\",\"SONOMA\",\"UNION CITY\",\"MARTINEZ\",\"LARKSPUR\",\"CLAYTON\",\"BERKELEY\",\"HERCULES\",\"OAKLAND\",\"BOLINAS\",\"MONTARA\",\"MOSS BEACH\",\"EAST PALO ALTO\",\"DILLON BEACH\",\"BODEGA BAY\",\"CAMPBELL\",\"ROHNERT PARK\",\"SAN MATEO\",\"DALY CITY\",\"ORINDA\",\"SAN RAFAEL\",\"MORAGA\",\"PETALUMA\",\"SAN JOSE\",\"NEWARK\",\"SAN ANSELMO\",\"SANTA CLARA\",\"MILPITAS\",\"PENNGROVE\",\"ALVISO\",\"DANVILLE\",\"PACIFICA\",\"FAIRFAX\",\"ALBANY\",\"EL CERRITO\",\"CORTE MADERA\",\"SAN BRUNO\",\"ALAMO\",\"LOS GATOS\",\"CUPERTINO\",\"PLEASANTON\",\"THE SEA RANCH\",\"SAN MARTIN\",\"DUBLIN\",\"BRISBANE\",\"PALO ALTO\",\"SAN CARLOS\",\"KENSINGTON\",\"SOUTH SAN FRANCISCO\",\"LAFAYETTE\",\"MILLBRAE\",\"MILL VALLEY\",\"EL GRANADA\",\"BELMONT\",\"BELVEDERE TIBURON\",\"HILLSBOROUGH\",\"SAN RAMON\",\"PIEDMONT\",\"ANGWIN\",\"SUISUN CITY\",\"SARATOGA\",\"LOS ALTOS\",\"TIBURON\",\"BURLINGAME\",\"REDWOOD CITY\",\"SUNNYVALE\",\"SAINT HELENA\",\"MENLO PARK\"],\"tags\":[[[\"City\",\"City\",null]]]},\"id\":\"1103\",\"type\":\"FactorRange\"},{\"attributes\":{\"fill_color\":{\"value\":\"blue\"},\"top\":{\"field\":\"Est_Equity\"},\"width\":{\"value\":0.8},\"x\":{\"field\":\"City\"}},\"id\":\"1138\",\"type\":\"VBar\"},{\"attributes\":{},\"id\":\"1122\",\"type\":\"SaveTool\"},{\"attributes\":{\"source\":{\"id\":\"1135\"}},\"id\":\"1142\",\"type\":\"CDSView\"},{\"attributes\":{},\"id\":\"1123\",\"type\":\"PanTool\"},{\"attributes\":{\"axis\":{\"id\":\"1118\"},\"dimension\":1,\"grid_line_color\":null,\"ticker\":null},\"id\":\"1121\",\"type\":\"Grid\"},{\"attributes\":{},\"id\":\"1124\",\"type\":\"WheelZoomTool\"},{\"attributes\":{\"overlay\":{\"id\":\"1127\"}},\"id\":\"1125\",\"type\":\"BoxZoomTool\"},{\"attributes\":{\"end\":11284436.1,\"reset_end\":11284436.1,\"reset_start\":-10576901.1,\"start\":-10576901.1,\"tags\":[[[\"Est Equity\",\"Est Equity\",null]]]},\"id\":\"1104\",\"type\":\"Range1d\"}],\"root_ids\":[\"1101\"]},\"title\":\"Bokeh Application\",\"version\":\"2.2.3\"}};\n",
       "    var render_items = [{\"docid\":\"195bf5db-7eb0-497a-ac0f-e08185c6d57f\",\"root_ids\":[\"1101\"],\"roots\":{\"1101\":\"e78e375e-b923-4e12-b7ac-d652190c64b3\"}}];\n",
       "    root.Bokeh.embed.embed_items_notebook(docs_json, render_items);\n",
       "  }\n",
       "  if (root.Bokeh !== undefined && root.Bokeh.Panel !== undefined) {\n",
       "    embed_document(root);\n",
       "  } else {\n",
       "    var attempts = 0;\n",
       "    var timer = setInterval(function(root) {\n",
       "      if (root.Bokeh !== undefined && root.Bokeh.Panel !== undefined) {\n",
       "        clearInterval(timer);\n",
       "        embed_document(root);\n",
       "      } else if (document.readyState == \"complete\") {\n",
       "        attempts++;\n",
       "        if (attempts > 100) {\n",
       "          clearInterval(timer);\n",
       "          console.log(\"Bokeh: ERROR: Unable to run BokehJS code because BokehJS library is missing\");\n",
       "        }\n",
       "      }\n",
       "    }, 10, root)\n",
       "  }\n",
       "})(window);</script>"
      ],
      "text/plain": [
       ":Bars   [City]   (Est Equity)"
      ]
     },
     "execution_count": 11,
     "metadata": {
      "application/vnd.holoviews_exec.v0+json": {
       "id": "1101"
      }
     },
     "output_type": "execute_result"
    }
   ],
   "source": [
    "avg_foreclosure_equity_city.hvplot.bar(\n",
    "    title='Foreclosures - Mean Home Equity - Sorted by City',\n",
    "    rot=90,\n",
    "    height=500,\n",
    "    width=1500,\n",
    ").opts(yformatter = '%.0f',\n",
    "      color='blue')"
   ]
  },
  {
   "cell_type": "code",
   "execution_count": 34,
   "metadata": {},
   "outputs": [
    {
     "data": {},
     "metadata": {},
     "output_type": "display_data"
    },
    {
     "data": {
      "application/vnd.holoviews_exec.v0+json": "",
      "text/html": [
       "<div id='2406'>\n",
       "\n",
       "\n",
       "\n",
       "\n",
       "\n",
       "  <div class=\"bk-root\" id=\"e5280a30-c356-4e56-be38-8e38bec4a9f4\" data-root-id=\"2406\"></div>\n",
       "</div>\n",
       "<script type=\"application/javascript\">(function(root) {\n",
       "  function embed_document(root) {\n",
       "    var docs_json = {\"17bf41e9-b56f-4bb1-ac88-f72393625e01\":{\"roots\":{\"references\":[{\"attributes\":{\"children\":[{\"id\":\"2477\"}],\"css_classes\":[\"panel-widget-box\"],\"margin\":[5,5,5,5],\"name\":\"WidgetBox04663\"},\"id\":\"2476\",\"type\":\"Column\"},{\"attributes\":{\"children\":[{\"id\":\"2475\"},{\"id\":\"2476\"},{\"id\":\"2478\"}],\"margin\":[0,0,0,0],\"name\":\"Column04670\"},\"id\":\"2474\",\"type\":\"Column\"},{\"attributes\":{},\"id\":\"2428\",\"type\":\"PanTool\"},{\"attributes\":{\"fill_color\":{\"value\":\"blue\"},\"height\":{\"value\":0.8},\"right\":{\"field\":\"Est_Equity\"},\"y\":{\"field\":\"Address\"}},\"id\":\"2443\",\"type\":\"HBar\"},{\"attributes\":{},\"id\":\"2427\",\"type\":\"SaveTool\"},{\"attributes\":{\"active_drag\":\"auto\",\"active_inspect\":\"auto\",\"active_multi\":null,\"active_scroll\":\"auto\",\"active_tap\":\"auto\",\"tools\":[{\"id\":\"2410\"},{\"id\":\"2427\"},{\"id\":\"2428\"},{\"id\":\"2429\"},{\"id\":\"2430\"},{\"id\":\"2431\"}]},\"id\":\"2433\",\"type\":\"Toolbar\"},{\"attributes\":{\"margin\":[5,5,5,5],\"name\":\"HSpacer04672\",\"sizing_mode\":\"stretch_width\"},\"id\":\"2473\",\"type\":\"Spacer\"},{\"attributes\":{},\"id\":\"2453\",\"type\":\"CategoricalTickFormatter\"},{\"attributes\":{\"below\":[{\"id\":\"2420\"}],\"center\":[{\"id\":\"2423\"},{\"id\":\"2426\"}],\"left\":[{\"id\":\"2424\"}],\"margin\":[5,5,5,5],\"min_border_bottom\":10,\"min_border_left\":10,\"min_border_right\":10,\"min_border_top\":10,\"plot_height\":500,\"plot_width\":1500,\"renderers\":[{\"id\":\"2446\"}],\"sizing_mode\":\"fixed\",\"title\":{\"id\":\"2412\"},\"toolbar\":{\"id\":\"2433\"},\"x_range\":{\"id\":\"2408\"},\"x_scale\":{\"id\":\"2416\"},\"y_range\":{\"id\":\"2409\"},\"y_scale\":{\"id\":\"2418\"}},\"id\":\"2411\",\"subtype\":\"Figure\",\"type\":\"Plot\"},{\"attributes\":{\"data_source\":{\"id\":\"2440\"},\"glyph\":{\"id\":\"2443\"},\"hover_glyph\":null,\"muted_glyph\":{\"id\":\"2445\"},\"nonselection_glyph\":{\"id\":\"2444\"},\"selection_glyph\":null,\"view\":{\"id\":\"2447\"}},\"id\":\"2446\",\"type\":\"GlyphRenderer\"},{\"attributes\":{\"fill_alpha\":{\"value\":0.1},\"fill_color\":{\"value\":\"blue\"},\"height\":{\"value\":0.8},\"line_alpha\":{\"value\":0.1},\"right\":{\"field\":\"Est_Equity\"},\"y\":{\"field\":\"Address\"}},\"id\":\"2444\",\"type\":\"HBar\"},{\"attributes\":{\"format\":\"%.0f\"},\"id\":\"2448\",\"type\":\"PrintfTickFormatter\"},{\"attributes\":{\"source\":{\"id\":\"2440\"}},\"id\":\"2447\",\"type\":\"CDSView\"},{\"attributes\":{\"margin\":[20,20,20,20],\"min_width\":250,\"options\":[\"Alameda\",\"San Mateo\",\"Santa Clara\",\"San Francisco\",\"Solano\",\"Marin\",\"Sonoma\",\"Contra Costa\",\"Napa\"],\"title\":\"County\",\"value\":\"Alameda\",\"width\":250},\"id\":\"2477\",\"type\":\"Select\"},{\"attributes\":{\"axis\":{\"id\":\"2424\"},\"dimension\":1,\"grid_line_color\":null,\"ticker\":null},\"id\":\"2426\",\"type\":\"Grid\"},{\"attributes\":{},\"id\":\"2429\",\"type\":\"WheelZoomTool\"},{\"attributes\":{\"end\":8739316.100000001,\"reset_end\":8739316.100000001,\"reset_start\":-64608477.1,\"start\":-64608477.1,\"tags\":[[[\"Est Equity\",\"Est Equity\",null]]]},\"id\":\"2408\",\"type\":\"Range1d\"},{\"attributes\":{\"axis\":{\"id\":\"2420\"},\"grid_line_color\":null,\"ticker\":null},\"id\":\"2423\",\"type\":\"Grid\"},{\"attributes\":{\"fill_alpha\":{\"value\":0.2},\"fill_color\":{\"value\":\"blue\"},\"height\":{\"value\":0.8},\"line_alpha\":{\"value\":0.2},\"right\":{\"field\":\"Est_Equity\"},\"y\":{\"field\":\"Address\"}},\"id\":\"2445\",\"type\":\"HBar\"},{\"attributes\":{\"bottom_units\":\"screen\",\"fill_alpha\":0.5,\"fill_color\":\"lightgrey\",\"left_units\":\"screen\",\"level\":\"overlay\",\"line_alpha\":1.0,\"line_color\":\"black\",\"line_dash\":[4,4],\"line_width\":2,\"right_units\":\"screen\",\"top_units\":\"screen\"},\"id\":\"2432\",\"type\":\"BoxAnnotation\"},{\"attributes\":{\"children\":[{\"id\":\"2407\"},{\"id\":\"2411\"},{\"id\":\"2473\"},{\"id\":\"2474\"}],\"margin\":[0,0,0,0],\"name\":\"Row04662\"},\"id\":\"2406\",\"type\":\"Row\"},{\"attributes\":{\"data\":{\"Address\":[\"4328 Edwards Ln\",\"41965 Osgood Rd\",\"1351 Chapel Ave\",\"8656 Macarthur Blvd\",\"2409 College Ave\",\"1422 44Th Ave\",\"1919 Curtis St\",\"811 Mohawk Dr\",\"2684 73Rd Ave\",\"168 Laurel Ave\",\"2868 38Th Ave 8\",\"9227 Hillside St 4\",\"6666 Brann St\",\"6474 Outlook Ave\",\"11250 Elvessa St\",\"27828 Mandarin Ave\",\"1515 E 19Th St\",\"3061 Pleitner Ave\",\"19225 Lakeridge Rd\",\"1141 Straub Way\",\"2422 Cedar St\",\"325 Kitty Hawk Rd 304\",\"4082 Polonius Cir\",\"1920 College Ave\",\"1800 Blake St\",\"815 Arlington Ave\",\"1291 55Th St\",\"3202 Nicol Ave\",\"1710 Myrtle St\",\"513 F St\",\"496 Capistrano Dr\",\"926 Ventura Ave\",\"945 Fletcher Ln B230\",\"5277 Flagg Ln\",\"988 91St Ave\",\"2910 E 16Th St\",\"3428 Elmwood Ave\",\"4113 Sugar Pine Way\",\"1146 86Th Ave\",\"20725 Marion St 8\",\"7201 Favor St\",\"25938 Kay Ave 218\",\"27862 Bruno St\",\"1526 Glenn St\",\"725 Essex Ct 193\",\"1425 Lakeside Dr 206\",\"707 Nevada St\",\"669 Clara St\",\"9715 Olive St\",\"2300 Havenscourt Blvd\",\"4246 Miramonte Way\",\"948 91St Ave\",\"1400 Carpentier St 330\",\"845 W Sunset Blvd A\",\"1531 Morton St\",\"3932 Edgemoor Pl\",\"16770 Rolando Ave\",\"7412 Arthur St\",\"822 Voyager Way 24\",\"1556 Manzanita Ave\",\"21433 Gary Dr 3\",\"4536 Thompson St\",\"22121 Moyers St\",\"3968 Turnley Ave\",\"3245 Kelly St\",\"44 Newhall St\",\"1141 Bancroft Way\",\"5468 Dekker Ter\",\"27714 Seminole Way\",\"10326 Voltaire Ave\",\"3442 Monterey Blvd\",\"1262 Linton St\",\"66 Fairmount Ave 110\",\"782 Horton Ct\",\"43673 Southerland Way\",\"39078 Guardino Dr 111\",\"1601 90Th Ave\",\"4626 Ewing Rd\",\"3177 Zuni Way\",\"9032 Palmera Ct\",\"22144 Montgomery St\",\"1101 Peralta St\",\"9908 D St\",\"4354 Agena Cir\",\"39034 Guardino Dr 305\",\"1063 D St\",\"601 Willow St E\",\"3489 Capoterra Way\",\"1257 George Cir\",\"4770 Tompkins Ave\",\"4441 Callecita Ct\",\"291 Farrelly Dr\",\"17352 Via Carmen\",\"1616 11Th St\",\"4616 Stauffer Pl\",\"25850 Kay Ave 231\",\"28285 Rochelle Ave\",\"1828 Florida St\",\"29176 Marshbrook Dr\",\"1511 Jefferson St 207\",\"7957 Greenly Dr\",\"2218 Ashby Ave\",\"16066 Silverleaf Dr\",\"7144 Holly St\",\"24877 Broadmore Ave\",\"9062 Palmera Ct\",\"38 Kimberley Ct C\",\"93 La Brea Ter\",\"155 Pearl St 204\",\"1418 67Th St\",\"1470 Plaza Dr\",\"3057 Modesto Ave\",\"27493 Orlando Ave\",\"29051 Rosecliff Ln\",\"1705 Chestnut St\",\"6222 Boulder Ln 4909\",\"2764 Gamble Ct\",\"26318 Peterman Ave\",\"32510 Endeavour Way\",\"1726 Via Redondo\",\"39149 Guardino Dr 156\",\"26306 Adrian Ave\",\"7569 Brighton Dr\",\"35027 Lido Blvd\",\"1027 76Th Ave\",\"16110 Via Media\",\"2762 Parker Ave\",\"6608 Brann St\",\"814 Evelyn Ave\",\"3719 West St\",\"24471 Machado Ct\",\"39975 Cedar Blvd 139\",\"8483 Bandon Dr\",\"25700 University Ct 104\",\"4533 Santa Cruz Ct\",\"43936 Rosemere Dr\",\"36124 Fanshawe Ct\",\"6063 Old Quarry Loop\",\"5579 Oakmont Cir\",\"2558 14Th Ave\",\"6600 Brann St\",\"6125 Bromley Ave\",\"2686 Oliver Dr\",\"21601 Pheasant Woods Dr\",\"41 Shasta St\",\"22735 Woodridge Dr\",\"650 Bergedo Dr\",\"892 Grant Ave\",\"2458 Early Rivers Pl\",\"545 Pierce St 2204\",\"15 Samaria Ln\",\"36774 Munyan St\",\"4232 Oliver Way\",\"1303 Hubbard Ave\",\"6400 Christie Ave 1107\",\"2016 38Th Ave\",\"1496 Adeline St\",\"5671 Spry Cmn 9\",\"311 Oak St 509\",\"3180 Chateau Way\",\"2744 Rawson St\",\"3614 Green Acre Rd 8\",\"3602 Green Acre Rd 2\",\"5939 Laird Ave\",\"337 Dolores Ave\",\"3604 Green Acre Rd 3\",\"948 39Th St\",\"2702 99Th Ave\",\"7835 Canyon Meadow Cir B\",\"38234 Parkmont Dr\",\"27677 Miami Ave\",\"7721 Sunset Ave\",\"4989 Macarthur Blvd\",\"978 40Th St\",\"5163 Genovesio Dr\",\"33919 Milton St\",\"999 Panoramic Way\",\"40839 Ingersoll Ter\",\"38754 Almaden Pl\",\"938 Park St\",\"25891 Peterman Ave\",\"24746 Stone Ct\",\"5523 Fleming Ave\",\"5903 Sterling Greens Cir\",\"5133 Damiano Ct\",\"5726 Shepherd Canyon Rd\",\"825 51St St\",\"3115 Bona St\",\"2975 Liberty Dr\",\"21287 Birch St\",\"251 Rishell Dr\",\"2525 College Ave 2\",\"750 43Rd St\",\"3655 Malcolm Ave\",\"2727 Rawson St\",\"1632 Walnut St\",\"2132 Longview Dr\",\"6193 Oakdale Ave\",\"3800 Sequoyah Rd\",\"1414 Fairview St\",\"2859 Sterne Pl\",\"4841 Shafter Ave\",\"1257 Otis Dr\",\"21 Pembroke Ct\",\"1547 Kingsport Ave\",\"118 Lurene Dr\",\"2989 Hedge Ct\",\"5038 Colebrook Ct\",\"11105 Sun Valley Dr\",\"34329 Xanadu Ter\",\"1112 Kains Ave\",\"6409 Hillegass Ave\",\"43625 Southerland Way\",\"29 Armanino Ct\",\"130 El Cerrito Ave\",\"7555 Skyline Blvd\",\"5350 Bacon Rd\",\"48867 Eagle View Ter\",\"6 Perth Pl\",\"5401 Claremont Ave\",\"726 Foxbrough Pl\"],\"Est_Equity\":{\"__ndarray__\":\"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\",\"dtype\":\"float64\",\"order\":\"little\",\"shape\":[221]}},\"selected\":{\"id\":\"2441\"},\"selection_policy\":{\"id\":\"2464\"}},\"id\":\"2440\",\"type\":\"ColumnDataSource\"},{\"attributes\":{},\"id\":\"2464\",\"type\":\"UnionRenderers\"},{\"attributes\":{},\"id\":\"2418\",\"type\":\"CategoricalScale\"},{\"attributes\":{\"axis_label\":\"Est Equity\",\"bounds\":\"auto\",\"formatter\":{\"id\":\"2448\"},\"major_label_orientation\":\"horizontal\",\"ticker\":{\"id\":\"2421\"}},\"id\":\"2420\",\"type\":\"LinearAxis\"},{\"attributes\":{\"client_comm_id\":\"4614bd2e16254d10b06a75f85d9fc8a4\",\"comm_id\":\"8109ce0d1d594b2c889f3a35224a9f19\",\"plot_id\":\"2406\"},\"id\":\"2500\",\"type\":\"panel.models.comm_manager.CommManager\"},{\"attributes\":{\"margin\":[5,5,5,5],\"name\":\"VSpacer04668\",\"sizing_mode\":\"stretch_height\"},\"id\":\"2475\",\"type\":\"Spacer\"},{\"attributes\":{},\"id\":\"2421\",\"type\":\"BasicTicker\"},{\"attributes\":{},\"id\":\"2425\",\"type\":\"CategoricalTicker\"},{\"attributes\":{\"factors\":[\"4328 Edwards Ln\",\"41965 Osgood Rd\",\"1351 Chapel Ave\",\"8656 Macarthur Blvd\",\"2409 College Ave\",\"1422 44Th Ave\",\"1919 Curtis St\",\"811 Mohawk Dr\",\"2684 73Rd Ave\",\"168 Laurel Ave\",\"2868 38Th Ave 8\",\"9227 Hillside St 4\",\"6666 Brann St\",\"6474 Outlook Ave\",\"11250 Elvessa St\",\"27828 Mandarin Ave\",\"1515 E 19Th St\",\"3061 Pleitner Ave\",\"19225 Lakeridge Rd\",\"1141 Straub Way\",\"2422 Cedar St\",\"325 Kitty Hawk Rd 304\",\"4082 Polonius Cir\",\"1920 College Ave\",\"1800 Blake St\",\"815 Arlington Ave\",\"1291 55Th St\",\"3202 Nicol Ave\",\"1710 Myrtle St\",\"513 F St\",\"496 Capistrano Dr\",\"926 Ventura Ave\",\"945 Fletcher Ln B230\",\"5277 Flagg Ln\",\"988 91St Ave\",\"2910 E 16Th St\",\"3428 Elmwood Ave\",\"4113 Sugar Pine Way\",\"1146 86Th Ave\",\"20725 Marion St 8\",\"7201 Favor St\",\"25938 Kay Ave 218\",\"27862 Bruno St\",\"1526 Glenn St\",\"725 Essex Ct 193\",\"1425 Lakeside Dr 206\",\"707 Nevada St\",\"669 Clara St\",\"9715 Olive St\",\"2300 Havenscourt Blvd\",\"4246 Miramonte Way\",\"948 91St Ave\",\"1400 Carpentier St 330\",\"845 W Sunset Blvd A\",\"1531 Morton St\",\"3932 Edgemoor Pl\",\"16770 Rolando Ave\",\"7412 Arthur St\",\"822 Voyager Way 24\",\"1556 Manzanita Ave\",\"21433 Gary Dr 3\",\"4536 Thompson St\",\"22121 Moyers St\",\"3968 Turnley Ave\",\"3245 Kelly St\",\"44 Newhall St\",\"1141 Bancroft Way\",\"5468 Dekker Ter\",\"27714 Seminole Way\",\"10326 Voltaire Ave\",\"3442 Monterey Blvd\",\"1262 Linton St\",\"66 Fairmount Ave 110\",\"782 Horton Ct\",\"43673 Southerland Way\",\"39078 Guardino Dr 111\",\"1601 90Th Ave\",\"4626 Ewing Rd\",\"3177 Zuni Way\",\"9032 Palmera Ct\",\"22144 Montgomery St\",\"1101 Peralta St\",\"9908 D St\",\"4354 Agena Cir\",\"39034 Guardino Dr 305\",\"1063 D St\",\"601 Willow St E\",\"3489 Capoterra Way\",\"1257 George Cir\",\"4770 Tompkins Ave\",\"4441 Callecita Ct\",\"291 Farrelly Dr\",\"17352 Via Carmen\",\"1616 11Th St\",\"4616 Stauffer Pl\",\"25850 Kay Ave 231\",\"28285 Rochelle Ave\",\"1828 Florida St\",\"29176 Marshbrook Dr\",\"1511 Jefferson St 207\",\"7957 Greenly Dr\",\"2218 Ashby Ave\",\"16066 Silverleaf Dr\",\"7144 Holly St\",\"24877 Broadmore Ave\",\"9062 Palmera Ct\",\"38 Kimberley Ct C\",\"93 La Brea Ter\",\"155 Pearl St 204\",\"1418 67Th St\",\"1470 Plaza Dr\",\"3057 Modesto Ave\",\"27493 Orlando Ave\",\"29051 Rosecliff Ln\",\"1705 Chestnut St\",\"6222 Boulder Ln 4909\",\"2764 Gamble Ct\",\"26318 Peterman Ave\",\"32510 Endeavour Way\",\"1726 Via Redondo\",\"39149 Guardino Dr 156\",\"26306 Adrian Ave\",\"7569 Brighton Dr\",\"35027 Lido Blvd\",\"1027 76Th Ave\",\"16110 Via Media\",\"2762 Parker Ave\",\"6608 Brann St\",\"814 Evelyn Ave\",\"3719 West St\",\"24471 Machado Ct\",\"39975 Cedar Blvd 139\",\"8483 Bandon Dr\",\"25700 University Ct 104\",\"4533 Santa Cruz Ct\",\"43936 Rosemere Dr\",\"36124 Fanshawe Ct\",\"6063 Old Quarry Loop\",\"5579 Oakmont Cir\",\"2558 14Th Ave\",\"6600 Brann St\",\"6125 Bromley Ave\",\"2686 Oliver Dr\",\"21601 Pheasant Woods Dr\",\"41 Shasta St\",\"22735 Woodridge Dr\",\"650 Bergedo Dr\",\"892 Grant Ave\",\"2458 Early Rivers Pl\",\"545 Pierce St 2204\",\"15 Samaria Ln\",\"36774 Munyan St\",\"4232 Oliver Way\",\"1303 Hubbard Ave\",\"6400 Christie Ave 1107\",\"2016 38Th Ave\",\"1496 Adeline St\",\"5671 Spry Cmn 9\",\"311 Oak St 509\",\"3180 Chateau Way\",\"2744 Rawson St\",\"3614 Green Acre Rd 8\",\"3602 Green Acre Rd 2\",\"5939 Laird Ave\",\"337 Dolores Ave\",\"3604 Green Acre Rd 3\",\"948 39Th St\",\"2702 99Th Ave\",\"7835 Canyon Meadow Cir B\",\"38234 Parkmont Dr\",\"27677 Miami Ave\",\"7721 Sunset Ave\",\"4989 Macarthur Blvd\",\"978 40Th St\",\"5163 Genovesio Dr\",\"33919 Milton St\",\"999 Panoramic Way\",\"40839 Ingersoll Ter\",\"38754 Almaden Pl\",\"938 Park St\",\"25891 Peterman Ave\",\"24746 Stone Ct\",\"5523 Fleming Ave\",\"5903 Sterling Greens Cir\",\"5133 Damiano Ct\",\"5726 Shepherd Canyon Rd\",\"825 51St St\",\"3115 Bona St\",\"2975 Liberty Dr\",\"21287 Birch St\",\"251 Rishell Dr\",\"2525 College Ave 2\",\"750 43Rd St\",\"3655 Malcolm Ave\",\"2727 Rawson St\",\"1632 Walnut St\",\"2132 Longview Dr\",\"6193 Oakdale Ave\",\"3800 Sequoyah Rd\",\"1414 Fairview St\",\"2859 Sterne Pl\",\"4841 Shafter Ave\",\"1257 Otis Dr\",\"21 Pembroke Ct\",\"1547 Kingsport Ave\",\"118 Lurene Dr\",\"2989 Hedge Ct\",\"5038 Colebrook Ct\",\"11105 Sun Valley Dr\",\"34329 Xanadu Ter\",\"1112 Kains Ave\",\"6409 Hillegass Ave\",\"43625 Southerland Way\",\"29 Armanino Ct\",\"130 El Cerrito Ave\",\"7555 Skyline Blvd\",\"5350 Bacon Rd\",\"48867 Eagle View Ter\",\"6 Perth Pl\",\"5401 Claremont Ave\",\"726 Foxbrough Pl\"],\"tags\":[[[\"Address\",\"Address\",null]]]},\"id\":\"2409\",\"type\":\"FactorRange\"},{\"attributes\":{\"text\":\"Estimated Foreclosue Equity by County\",\"text_color\":{\"value\":\"black\"},\"text_font_size\":{\"value\":\"12pt\"}},\"id\":\"2412\",\"type\":\"Title\"},{\"attributes\":{\"axis_label\":\"Address\",\"bounds\":\"auto\",\"formatter\":{\"id\":\"2453\"},\"major_label_orientation\":\"horizontal\",\"ticker\":{\"id\":\"2425\"}},\"id\":\"2424\",\"type\":\"CategoricalAxis\"},{\"attributes\":{},\"id\":\"2416\",\"type\":\"LinearScale\"},{\"attributes\":{},\"id\":\"2431\",\"type\":\"ResetTool\"},{\"attributes\":{\"margin\":[5,5,5,5],\"name\":\"HSpacer04671\",\"sizing_mode\":\"stretch_width\"},\"id\":\"2407\",\"type\":\"Spacer\"},{\"attributes\":{\"callback\":null,\"renderers\":[{\"id\":\"2446\"}],\"tags\":[\"hv_created\"],\"tooltips\":[[\"Address\",\"@{Address}\"],[\"Est Equity\",\"@{Est_Equity}\"]]},\"id\":\"2410\",\"type\":\"HoverTool\"},{\"attributes\":{},\"id\":\"2441\",\"type\":\"Selection\"},{\"attributes\":{\"margin\":[5,5,5,5],\"name\":\"VSpacer04669\",\"sizing_mode\":\"stretch_height\"},\"id\":\"2478\",\"type\":\"Spacer\"},{\"attributes\":{\"overlay\":{\"id\":\"2432\"}},\"id\":\"2430\",\"type\":\"BoxZoomTool\"}],\"root_ids\":[\"2406\",\"2500\"]},\"title\":\"Bokeh Application\",\"version\":\"2.2.3\"}};\n",
       "    var render_items = [{\"docid\":\"17bf41e9-b56f-4bb1-ac88-f72393625e01\",\"root_ids\":[\"2406\"],\"roots\":{\"2406\":\"e5280a30-c356-4e56-be38-8e38bec4a9f4\"}}];\n",
       "    root.Bokeh.embed.embed_items_notebook(docs_json, render_items);\n",
       "  }\n",
       "  if (root.Bokeh !== undefined && root.Bokeh.Panel !== undefined) {\n",
       "    embed_document(root);\n",
       "  } else {\n",
       "    var attempts = 0;\n",
       "    var timer = setInterval(function(root) {\n",
       "      if (root.Bokeh !== undefined && root.Bokeh.Panel !== undefined) {\n",
       "        clearInterval(timer);\n",
       "        embed_document(root);\n",
       "      } else if (document.readyState == \"complete\") {\n",
       "        attempts++;\n",
       "        if (attempts > 100) {\n",
       "          clearInterval(timer);\n",
       "          console.log(\"Bokeh: ERROR: Unable to run BokehJS code because BokehJS library is missing\");\n",
       "        }\n",
       "      }\n",
       "    }, 10, root)\n",
       "  }\n",
       "})(window);</script>"
      ],
      "text/plain": [
       ":DynamicMap   [County]\n",
       "   :Bars   [Address]   (Est Equity)"
      ]
     },
     "execution_count": 34,
     "metadata": {
      "application/vnd.holoviews_exec.v0+json": {
       "id": "2406"
      }
     },
     "output_type": "execute_result"
    }
   ],
   "source": [
    "foreclosure_equity_plot_county = foreclosure_df_sorted_equity[['County','City','Est Equity']].hvplot(\n",
    "    kind='bar',\n",
    "    height=500,\n",
    "    width=1500,\n",
    "    groupby='County',  \n",
    "    title='Estimated Foreclosue Equity by County',\n",
    "    y='Est Equity',\n",
    ").opts(xformatter = '%.0f',\n",
    "      invert_axes=True,\n",
    "      color='blue')\n",
    "\n",
    "foreclosure_equity_plot_county"
   ]
  },
  {
   "cell_type": "code",
   "execution_count": 35,
   "metadata": {},
   "outputs": [
    {
     "data": {},
     "metadata": {},
     "output_type": "display_data"
    },
    {
     "data": {
      "application/vnd.holoviews_exec.v0+json": "",
      "text/html": [
       "<div id='2572'>\n",
       "\n",
       "\n",
       "\n",
       "\n",
       "\n",
       "  <div class=\"bk-root\" id=\"63fe7f12-6177-4631-b772-77ddae414504\" data-root-id=\"2572\"></div>\n",
       "</div>\n",
       "<script type=\"application/javascript\">(function(root) {\n",
       "  function embed_document(root) {\n",
       "    var docs_json = {\"dca79aec-6976-4e60-95fc-90c87709f0d7\":{\"roots\":{\"references\":[{\"attributes\":{},\"id\":\"2595\",\"type\":\"WheelZoomTool\"},{\"attributes\":{\"children\":[{\"id\":\"2573\"},{\"id\":\"2577\"},{\"id\":\"2639\"},{\"id\":\"2640\"}],\"margin\":[0,0,0,0],\"name\":\"Row05877\"},\"id\":\"2572\",\"type\":\"Row\"},{\"attributes\":{\"callback\":null,\"renderers\":[{\"id\":\"2612\"}],\"tags\":[\"hv_created\"],\"tooltips\":[[\"Address\",\"@{Address}\"],[\"Est Equity\",\"@{Est_Equity}\"]]},\"id\":\"2576\",\"type\":\"HoverTool\"},{\"attributes\":{\"margin\":[5,5,5,5],\"name\":\"HSpacer05887\",\"sizing_mode\":\"stretch_width\"},\"id\":\"2639\",\"type\":\"Spacer\"},{\"attributes\":{\"end\":6493320.7,\"reset_end\":6493320.7,\"reset_start\":-64404295.7,\"start\":-64404295.7,\"tags\":[[[\"Est Equity\",\"Est Equity\",null]]]},\"id\":\"2574\",\"type\":\"Range1d\"},{\"attributes\":{\"data_source\":{\"id\":\"2606\"},\"glyph\":{\"id\":\"2609\"},\"hover_glyph\":null,\"muted_glyph\":{\"id\":\"2611\"},\"nonselection_glyph\":{\"id\":\"2610\"},\"selection_glyph\":null,\"view\":{\"id\":\"2613\"}},\"id\":\"2612\",\"type\":\"GlyphRenderer\"},{\"attributes\":{},\"id\":\"2607\",\"type\":\"Selection\"},{\"attributes\":{},\"id\":\"2630\",\"type\":\"UnionRenderers\"},{\"attributes\":{\"format\":\"%.0f\"},\"id\":\"2614\",\"type\":\"PrintfTickFormatter\"},{\"attributes\":{},\"id\":\"2587\",\"type\":\"BasicTicker\"},{\"attributes\":{},\"id\":\"2619\",\"type\":\"CategoricalTickFormatter\"},{\"attributes\":{\"source\":{\"id\":\"2606\"}},\"id\":\"2613\",\"type\":\"CDSView\"},{\"attributes\":{\"factors\":[\"4328 Edwards Ln\",\"19225 Lakeridge Rd\",\"22121 Moyers St\",\"4626 Ewing Rd\",\"21601 Pheasant Woods Dr\"],\"tags\":[[[\"Address\",\"Address\",null]]]},\"id\":\"2575\",\"type\":\"FactorRange\"},{\"attributes\":{\"fill_alpha\":{\"value\":0.2},\"fill_color\":{\"value\":\"blue\"},\"height\":{\"value\":0.8},\"line_alpha\":{\"value\":0.2},\"right\":{\"field\":\"Est_Equity\"},\"y\":{\"field\":\"Address\"}},\"id\":\"2611\",\"type\":\"HBar\"},{\"attributes\":{\"margin\":[20,20,20,20],\"min_width\":250,\"options\":[\"CASTRO VALLEY\",\"ATHERTON\",\"MORGAN HILL\",\"SAN FRANCISCO\",\"FREMONT\",\"GILROY\",\"VALLEJO\",\"SAN LEANDRO\",\"WOODSIDE\",\"BELVEDERE\",\"LOS ALTOS HILLS\",\"NOVATO\",\"PALO ALTO\",\"MOUNTAIN VIEW\",\"HILLSBOROUGH\",\"OAKLAND\",\"SANTA ROSA\",\"CONCORD\",\"GREENBRAE\",\"ORINDA\",\"LOS GATOS\",\"SAN RAFAEL\",\"BERKELEY\",\"CLOVERDALE\",\"SEBASTOPOL\",\"ANTIOCH\",\"DANVILLE\",\"WALNUT CREEK\",\"SAN MATEO\",\"SAN JOSE\",\"LIVERMORE\",\"VACAVILLE\",\"PLEASANT HILL\",\"AMERICAN CANYON\",\"FAIRFIELD\",\"HAYWARD\",\"SUISUN CITY\",\"SAN PABLO\",\"MONTE SERENO\",\"RIO VISTA\",\"SARATOGA\",\"SOUTH SAN FRANCISCO\",\"PITTSBURG\",\"DALY CITY\",\"DIXON\",\"SAN RAMON\",\"DISCOVERY BAY\",\"NAPA\",\"EL SOBRANTE\",\"ALAMEDA\",\"SANTA CLARA\",\"PETALUMA\",\"SUNNYVALE\",\"SONOMA\",\"RICHMOND\",\"BENICIA\",\"OAKLEY\",\"ROHNERT PARK\",\"EMERYVILLE\",\"PINOLE\",\"UNION CITY\",\"BRENTWOOD\",\"COTATI\",\"GUERNEVILLE\",\"MORAGA\",\"TIBURON\",\"CAMPBELL\",\"HERCULES\",\"MILPITAS\",\"EAST PALO ALTO\",\"MARTINEZ\",\"WINDSOR\",\"OCCIDENTAL\",\"SAN LORENZO\",\"RODEO\",\"HEALDSBURG\",\"PLEASANTON\",\"LAFAYETTE\",\"PACHECO\",\"DUBLIN\",\"RIO NIDO\",\"PACIFICA\",\"FOSTER CITY\",\"SAN BRUNO\",\"CALISTOGA\",\"EL CERRITO\",\"FAIRFAX\",\"FORESTVILLE\",\"PESCADERO\",\"MILL VALLEY\",\"NEWARK\",\"LARKSPUR\",\"CLAYTON\",\"ALBANY\",\"BOLINAS\",\"REDWOOD CITY\",\"MONTARA\",\"MOSS BEACH\",\"DILLON BEACH\",\"SAN ANSELMO\",\"CUPERTINO\",\"SAN MARTIN\",\"THE SEA RANCH\",\"ALAMO\",\"PENNGROVE\",\"ALVISO\",\"MILLBRAE\",\"BRISBANE\",\"CORTE MADERA\",\"LOS ALTOS\",\"BURLINGAME\",\"BELVEDERE TIBURON\",\"BELMONT\",\"HALF MOON BAY\",\"SAN CARLOS\",\"KENSINGTON\",\"EL GRANADA\",\"MENLO PARK\",\"PIEDMONT\",\"ANGWIN\",\"SAINT HELENA\"],\"title\":\"City\",\"value\":\"CASTRO VALLEY\",\"width\":250},\"id\":\"2643\",\"type\":\"Select\"},{\"attributes\":{\"axis\":{\"id\":\"2586\"},\"grid_line_color\":null,\"ticker\":null},\"id\":\"2589\",\"type\":\"Grid\"},{\"attributes\":{\"active_drag\":\"auto\",\"active_inspect\":\"auto\",\"active_multi\":null,\"active_scroll\":\"auto\",\"active_tap\":\"auto\",\"tools\":[{\"id\":\"2576\"},{\"id\":\"2593\"},{\"id\":\"2594\"},{\"id\":\"2595\"},{\"id\":\"2596\"},{\"id\":\"2597\"}]},\"id\":\"2599\",\"type\":\"Toolbar\"},{\"attributes\":{},\"id\":\"2597\",\"type\":\"ResetTool\"},{\"attributes\":{\"axis_label\":\"Address\",\"bounds\":\"auto\",\"formatter\":{\"id\":\"2619\"},\"major_label_orientation\":\"horizontal\",\"ticker\":{\"id\":\"2591\"}},\"id\":\"2590\",\"type\":\"CategoricalAxis\"},{\"attributes\":{\"overlay\":{\"id\":\"2598\"}},\"id\":\"2596\",\"type\":\"BoxZoomTool\"},{\"attributes\":{\"fill_alpha\":{\"value\":0.1},\"fill_color\":{\"value\":\"blue\"},\"height\":{\"value\":0.8},\"line_alpha\":{\"value\":0.1},\"right\":{\"field\":\"Est_Equity\"},\"y\":{\"field\":\"Address\"}},\"id\":\"2610\",\"type\":\"HBar\"},{\"attributes\":{},\"id\":\"2593\",\"type\":\"SaveTool\"},{\"attributes\":{\"client_comm_id\":\"c19c1434dc1f492e93b33840de4959ee\",\"comm_id\":\"28fb3cc4d8884dd4a856abc5c1a26d3f\",\"plot_id\":\"2572\"},\"id\":\"2666\",\"type\":\"panel.models.comm_manager.CommManager\"},{\"attributes\":{},\"id\":\"2594\",\"type\":\"PanTool\"},{\"attributes\":{},\"id\":\"2591\",\"type\":\"CategoricalTicker\"},{\"attributes\":{\"margin\":[5,5,5,5],\"name\":\"VSpacer05883\",\"sizing_mode\":\"stretch_height\"},\"id\":\"2641\",\"type\":\"Spacer\"},{\"attributes\":{\"fill_color\":{\"value\":\"blue\"},\"height\":{\"value\":0.8},\"right\":{\"field\":\"Est_Equity\"},\"y\":{\"field\":\"Address\"}},\"id\":\"2609\",\"type\":\"HBar\"},{\"attributes\":{\"children\":[{\"id\":\"2641\"},{\"id\":\"2642\"},{\"id\":\"2644\"}],\"margin\":[0,0,0,0],\"name\":\"Column05885\"},\"id\":\"2640\",\"type\":\"Column\"},{\"attributes\":{},\"id\":\"2582\",\"type\":\"LinearScale\"},{\"attributes\":{},\"id\":\"2584\",\"type\":\"CategoricalScale\"},{\"attributes\":{\"axis_label\":\"Estimated Equity\",\"bounds\":\"auto\",\"formatter\":{\"id\":\"2614\"},\"major_label_orientation\":\"horizontal\",\"ticker\":{\"id\":\"2587\"}},\"id\":\"2586\",\"type\":\"LinearAxis\"},{\"attributes\":{\"margin\":[5,5,5,5],\"name\":\"HSpacer05886\",\"sizing_mode\":\"stretch_width\"},\"id\":\"2573\",\"type\":\"Spacer\"},{\"attributes\":{\"below\":[{\"id\":\"2586\"}],\"center\":[{\"id\":\"2589\"},{\"id\":\"2592\"}],\"left\":[{\"id\":\"2590\"}],\"margin\":[5,5,5,5],\"min_border_bottom\":10,\"min_border_left\":10,\"min_border_right\":10,\"min_border_top\":10,\"plot_height\":500,\"plot_width\":1500,\"renderers\":[{\"id\":\"2612\"}],\"sizing_mode\":\"fixed\",\"title\":{\"id\":\"2578\"},\"toolbar\":{\"id\":\"2599\"},\"x_range\":{\"id\":\"2574\"},\"x_scale\":{\"id\":\"2582\"},\"y_range\":{\"id\":\"2575\"},\"y_scale\":{\"id\":\"2584\"}},\"id\":\"2577\",\"subtype\":\"Figure\",\"type\":\"Plot\"},{\"attributes\":{\"data\":{\"Address\":[\"4328 Edwards Ln\",\"19225 Lakeridge Rd\",\"22121 Moyers St\",\"4626 Ewing Rd\",\"21601 Pheasant Woods Dr\"],\"Est_Equity\":{\"__ndarray__\":\"AAAACKXki8EAAAAAQPrUQAAAAAAwAQ9BAAAAAAijEkEAAAAAxNshQQ==\",\"dtype\":\"float64\",\"order\":\"little\",\"shape\":[5]}},\"selected\":{\"id\":\"2607\"},\"selection_policy\":{\"id\":\"2630\"}},\"id\":\"2606\",\"type\":\"ColumnDataSource\"},{\"attributes\":{\"text\":\"Estimated Foreclosue Equity by City\",\"text_color\":{\"value\":\"black\"},\"text_font_size\":{\"value\":\"12pt\"}},\"id\":\"2578\",\"type\":\"Title\"},{\"attributes\":{\"axis\":{\"id\":\"2590\"},\"dimension\":1,\"grid_line_color\":null,\"ticker\":null},\"id\":\"2592\",\"type\":\"Grid\"},{\"attributes\":{\"margin\":[5,5,5,5],\"name\":\"VSpacer05884\",\"sizing_mode\":\"stretch_height\"},\"id\":\"2644\",\"type\":\"Spacer\"},{\"attributes\":{\"bottom_units\":\"screen\",\"fill_alpha\":0.5,\"fill_color\":\"lightgrey\",\"left_units\":\"screen\",\"level\":\"overlay\",\"line_alpha\":1.0,\"line_color\":\"black\",\"line_dash\":[4,4],\"line_width\":2,\"right_units\":\"screen\",\"top_units\":\"screen\"},\"id\":\"2598\",\"type\":\"BoxAnnotation\"},{\"attributes\":{\"children\":[{\"id\":\"2643\"}],\"css_classes\":[\"panel-widget-box\"],\"margin\":[5,5,5,5],\"name\":\"WidgetBox05878\"},\"id\":\"2642\",\"type\":\"Column\"}],\"root_ids\":[\"2572\",\"2666\"]},\"title\":\"Bokeh Application\",\"version\":\"2.2.3\"}};\n",
       "    var render_items = [{\"docid\":\"dca79aec-6976-4e60-95fc-90c87709f0d7\",\"root_ids\":[\"2572\"],\"roots\":{\"2572\":\"63fe7f12-6177-4631-b772-77ddae414504\"}}];\n",
       "    root.Bokeh.embed.embed_items_notebook(docs_json, render_items);\n",
       "  }\n",
       "  if (root.Bokeh !== undefined && root.Bokeh.Panel !== undefined) {\n",
       "    embed_document(root);\n",
       "  } else {\n",
       "    var attempts = 0;\n",
       "    var timer = setInterval(function(root) {\n",
       "      if (root.Bokeh !== undefined && root.Bokeh.Panel !== undefined) {\n",
       "        clearInterval(timer);\n",
       "        embed_document(root);\n",
       "      } else if (document.readyState == \"complete\") {\n",
       "        attempts++;\n",
       "        if (attempts > 100) {\n",
       "          clearInterval(timer);\n",
       "          console.log(\"Bokeh: ERROR: Unable to run BokehJS code because BokehJS library is missing\");\n",
       "        }\n",
       "      }\n",
       "    }, 10, root)\n",
       "  }\n",
       "})(window);</script>"
      ],
      "text/plain": [
       ":DynamicMap   [City]\n",
       "   :Bars   [Address]   (Est Equity)"
      ]
     },
     "execution_count": 35,
     "metadata": {
      "application/vnd.holoviews_exec.v0+json": {
       "id": "2572"
      }
     },
     "output_type": "execute_result"
    }
   ],
   "source": [
    "foreclosure_value_plot_city = foreclosure_df_sorted_equity[['County','City','Est Equity']].hvplot(\n",
    "    kind='bar',\n",
    "    height=500,\n",
    "    width=1500,\n",
    "    groupby='City',  \n",
    "    title='Estimated Foreclosue Equity by City',\n",
    "    y='Est Equity',\n",
    "    ylabel='Estimated Equity'\n",
    ").opts(xformatter = '%.0f',\n",
    "      invert_axes=True,\n",
    "      color='blue')\n",
    "\n",
    "foreclosure_value_plot_city"
   ]
  },
  {
   "cell_type": "markdown",
   "metadata": {},
   "source": [
    "# CURRENT FORECLOSURE DATA - MEAN HOME VALUES BY COUNTY - SORTED BY ESTIMATED VALUE\n",
    "#   "
   ]
  },
  {
   "cell_type": "code",
   "execution_count": 36,
   "metadata": {},
   "outputs": [
    {
     "data": {
      "text/html": [
       "<div>\n",
       "<style scoped>\n",
       "    .dataframe tbody tr th:only-of-type {\n",
       "        vertical-align: middle;\n",
       "    }\n",
       "\n",
       "    .dataframe tbody tr th {\n",
       "        vertical-align: top;\n",
       "    }\n",
       "\n",
       "    .dataframe thead th {\n",
       "        text-align: right;\n",
       "    }\n",
       "</style>\n",
       "<table border=\"1\" class=\"dataframe\">\n",
       "  <thead>\n",
       "    <tr style=\"text-align: right;\">\n",
       "      <th></th>\n",
       "      <th>Est Value</th>\n",
       "    </tr>\n",
       "    <tr>\n",
       "      <th>County</th>\n",
       "      <th></th>\n",
       "    </tr>\n",
       "  </thead>\n",
       "  <tbody>\n",
       "    <tr>\n",
       "      <th>Sonoma</th>\n",
       "      <td>750057.0</td>\n",
       "    </tr>\n",
       "    <tr>\n",
       "      <th>Solano</th>\n",
       "      <td>893498.0</td>\n",
       "    </tr>\n",
       "    <tr>\n",
       "      <th>Contra Costa</th>\n",
       "      <td>978474.0</td>\n",
       "    </tr>\n",
       "    <tr>\n",
       "      <th>Alameda</th>\n",
       "      <td>1080014.0</td>\n",
       "    </tr>\n",
       "    <tr>\n",
       "      <th>Marin</th>\n",
       "      <td>1667221.0</td>\n",
       "    </tr>\n",
       "    <tr>\n",
       "      <th>San Mateo</th>\n",
       "      <td>2217653.0</td>\n",
       "    </tr>\n",
       "    <tr>\n",
       "      <th>Santa Clara</th>\n",
       "      <td>2327215.0</td>\n",
       "    </tr>\n",
       "    <tr>\n",
       "      <th>San Francisco</th>\n",
       "      <td>2846074.0</td>\n",
       "    </tr>\n",
       "    <tr>\n",
       "      <th>Napa</th>\n",
       "      <td>4409971.0</td>\n",
       "    </tr>\n",
       "  </tbody>\n",
       "</table>\n",
       "</div>"
      ],
      "text/plain": [
       "               Est Value\n",
       "County                  \n",
       "Sonoma          750057.0\n",
       "Solano          893498.0\n",
       "Contra Costa    978474.0\n",
       "Alameda        1080014.0\n",
       "Marin          1667221.0\n",
       "San Mateo      2217653.0\n",
       "Santa Clara    2327215.0\n",
       "San Francisco  2846074.0\n",
       "Napa           4409971.0"
      ]
     },
     "execution_count": 36,
     "metadata": {},
     "output_type": "execute_result"
    }
   ],
   "source": [
    "avg_foreclosure_value_county = (\n",
    "    foreclosure_df[['Est Value', 'County']]\n",
    "    .groupby('County')\n",
    "    .mean()\n",
    "    .sort_values('Est Value')\n",
    ").round()\n",
    "\n",
    "avg_foreclosure_value_county"
   ]
  },
  {
   "cell_type": "code",
   "execution_count": 14,
   "metadata": {},
   "outputs": [
    {
     "data": {},
     "metadata": {},
     "output_type": "display_data"
    },
    {
     "data": {
      "application/vnd.holoviews_exec.v0+json": "",
      "text/html": [
       "<div id='1331'>\n",
       "\n",
       "\n",
       "\n",
       "\n",
       "\n",
       "  <div class=\"bk-root\" id=\"4810f2f7-6ff2-4ca6-aacf-454d258b94ec\" data-root-id=\"1331\"></div>\n",
       "</div>\n",
       "<script type=\"application/javascript\">(function(root) {\n",
       "  function embed_document(root) {\n",
       "    var docs_json = {\"6be5c916-f667-4361-8e6d-981fcda9016a\":{\"roots\":{\"references\":[{\"attributes\":{\"below\":[{\"id\":\"1345\"}],\"center\":[{\"id\":\"1347\"},{\"id\":\"1351\"}],\"left\":[{\"id\":\"1348\"}],\"margin\":[5,5,5,5],\"min_border_bottom\":10,\"min_border_left\":10,\"min_border_right\":10,\"min_border_top\":10,\"plot_height\":500,\"plot_width\":1500,\"renderers\":[{\"id\":\"1371\"}],\"sizing_mode\":\"fixed\",\"title\":{\"id\":\"1337\"},\"toolbar\":{\"id\":\"1358\"},\"x_range\":{\"id\":\"1333\"},\"x_scale\":{\"id\":\"1341\"},\"y_range\":{\"id\":\"1334\"},\"y_scale\":{\"id\":\"1343\"}},\"id\":\"1336\",\"subtype\":\"Figure\",\"type\":\"Plot\"},{\"attributes\":{},\"id\":\"1341\",\"type\":\"CategoricalScale\"},{\"attributes\":{\"overlay\":{\"id\":\"1357\"}},\"id\":\"1355\",\"type\":\"BoxZoomTool\"},{\"attributes\":{\"axis_label\":\"County\",\"bounds\":\"auto\",\"formatter\":{\"id\":\"1374\"},\"major_label_orientation\":1.5707963267948966,\"ticker\":{\"id\":\"1346\"}},\"id\":\"1345\",\"type\":\"CategoricalAxis\"},{\"attributes\":{\"data_source\":{\"id\":\"1365\"},\"glyph\":{\"id\":\"1368\"},\"hover_glyph\":null,\"muted_glyph\":{\"id\":\"1370\"},\"nonselection_glyph\":{\"id\":\"1369\"},\"selection_glyph\":null,\"view\":{\"id\":\"1372\"}},\"id\":\"1371\",\"type\":\"GlyphRenderer\"},{\"attributes\":{},\"id\":\"1356\",\"type\":\"ResetTool\"},{\"attributes\":{},\"id\":\"1343\",\"type\":\"LinearScale\"},{\"attributes\":{\"data\":{\"County\":[\"Sonoma\",\"Solano\",\"Contra Costa\",\"Alameda\",\"Marin\",\"San Mateo\",\"Santa Clara\",\"San Francisco\",\"Napa\"],\"Est_Value\":{\"__ndarray__\":\"AAAAANLjJkEAAAAAdEQrQQAAAABU3C1BAAAAAM56MEEAAAAAlXA5QQAAAIBa60BBAAAAgFfBQUEAAAAAvbZFQQAAAMCc0lBB\",\"dtype\":\"float64\",\"order\":\"little\",\"shape\":[9]}},\"selected\":{\"id\":\"1366\"},\"selection_policy\":{\"id\":\"1385\"}},\"id\":\"1365\",\"type\":\"ColumnDataSource\"},{\"attributes\":{},\"id\":\"1366\",\"type\":\"Selection\"},{\"attributes\":{\"text\":\"Foreclosures - Mean Home Values - Sorted by County\",\"text_color\":{\"value\":\"black\"},\"text_font_size\":{\"value\":\"12pt\"}},\"id\":\"1337\",\"type\":\"Title\"},{\"attributes\":{\"format\":\"%.0f\"},\"id\":\"1373\",\"type\":\"PrintfTickFormatter\"},{\"attributes\":{},\"id\":\"1346\",\"type\":\"CategoricalTicker\"},{\"attributes\":{\"end\":4775962.4,\"reset_end\":4775962.4,\"reset_start\":0.0,\"tags\":[[[\"Est Value\",\"Est Value\",null]]]},\"id\":\"1334\",\"type\":\"Range1d\"},{\"attributes\":{\"axis\":{\"id\":\"1345\"},\"grid_line_color\":null,\"ticker\":null},\"id\":\"1347\",\"type\":\"Grid\"},{\"attributes\":{\"factors\":[\"Sonoma\",\"Solano\",\"Contra Costa\",\"Alameda\",\"Marin\",\"San Mateo\",\"Santa Clara\",\"San Francisco\",\"Napa\"],\"tags\":[[[\"County\",\"County\",null]]]},\"id\":\"1333\",\"type\":\"FactorRange\"},{\"attributes\":{},\"id\":\"1385\",\"type\":\"UnionRenderers\"},{\"attributes\":{\"children\":[{\"id\":\"1332\"},{\"id\":\"1336\"},{\"id\":\"1394\"}],\"margin\":[0,0,0,0],\"name\":\"Row02229\",\"tags\":[\"embedded\"]},\"id\":\"1331\",\"type\":\"Row\"},{\"attributes\":{},\"id\":\"1349\",\"type\":\"BasicTicker\"},{\"attributes\":{\"callback\":null,\"renderers\":[{\"id\":\"1371\"}],\"tags\":[\"hv_created\"],\"tooltips\":[[\"County\",\"@{County}\"],[\"Est Value\",\"@{Est_Value}\"]]},\"id\":\"1335\",\"type\":\"HoverTool\"},{\"attributes\":{\"axis_label\":\"Est Value\",\"bounds\":\"auto\",\"formatter\":{\"id\":\"1373\"},\"major_label_orientation\":\"horizontal\",\"ticker\":{\"id\":\"1349\"}},\"id\":\"1348\",\"type\":\"LinearAxis\"},{\"attributes\":{\"source\":{\"id\":\"1365\"}},\"id\":\"1372\",\"type\":\"CDSView\"},{\"attributes\":{\"margin\":[5,5,5,5],\"name\":\"HSpacer02234\",\"sizing_mode\":\"stretch_width\"},\"id\":\"1394\",\"type\":\"Spacer\"},{\"attributes\":{\"bottom_units\":\"screen\",\"fill_alpha\":0.5,\"fill_color\":\"lightgrey\",\"left_units\":\"screen\",\"level\":\"overlay\",\"line_alpha\":1.0,\"line_color\":\"black\",\"line_dash\":[4,4],\"line_width\":2,\"right_units\":\"screen\",\"top_units\":\"screen\"},\"id\":\"1357\",\"type\":\"BoxAnnotation\"},{\"attributes\":{\"fill_alpha\":{\"value\":0.1},\"fill_color\":{\"value\":\"orange\"},\"line_alpha\":{\"value\":0.1},\"top\":{\"field\":\"Est_Value\"},\"width\":{\"value\":0.8},\"x\":{\"field\":\"County\"}},\"id\":\"1369\",\"type\":\"VBar\"},{\"attributes\":{\"margin\":[5,5,5,5],\"name\":\"HSpacer02233\",\"sizing_mode\":\"stretch_width\"},\"id\":\"1332\",\"type\":\"Spacer\"},{\"attributes\":{\"fill_color\":{\"value\":\"orange\"},\"top\":{\"field\":\"Est_Value\"},\"width\":{\"value\":0.8},\"x\":{\"field\":\"County\"}},\"id\":\"1368\",\"type\":\"VBar\"},{\"attributes\":{\"active_drag\":\"auto\",\"active_inspect\":\"auto\",\"active_multi\":null,\"active_scroll\":\"auto\",\"active_tap\":\"auto\",\"tools\":[{\"id\":\"1335\"},{\"id\":\"1352\"},{\"id\":\"1353\"},{\"id\":\"1354\"},{\"id\":\"1355\"},{\"id\":\"1356\"}]},\"id\":\"1358\",\"type\":\"Toolbar\"},{\"attributes\":{\"fill_alpha\":{\"value\":0.2},\"fill_color\":{\"value\":\"orange\"},\"line_alpha\":{\"value\":0.2},\"top\":{\"field\":\"Est_Value\"},\"width\":{\"value\":0.8},\"x\":{\"field\":\"County\"}},\"id\":\"1370\",\"type\":\"VBar\"},{\"attributes\":{},\"id\":\"1374\",\"type\":\"CategoricalTickFormatter\"},{\"attributes\":{},\"id\":\"1352\",\"type\":\"SaveTool\"},{\"attributes\":{},\"id\":\"1354\",\"type\":\"WheelZoomTool\"},{\"attributes\":{},\"id\":\"1353\",\"type\":\"PanTool\"},{\"attributes\":{\"axis\":{\"id\":\"1348\"},\"dimension\":1,\"grid_line_color\":null,\"ticker\":null},\"id\":\"1351\",\"type\":\"Grid\"}],\"root_ids\":[\"1331\"]},\"title\":\"Bokeh Application\",\"version\":\"2.2.3\"}};\n",
       "    var render_items = [{\"docid\":\"6be5c916-f667-4361-8e6d-981fcda9016a\",\"root_ids\":[\"1331\"],\"roots\":{\"1331\":\"4810f2f7-6ff2-4ca6-aacf-454d258b94ec\"}}];\n",
       "    root.Bokeh.embed.embed_items_notebook(docs_json, render_items);\n",
       "  }\n",
       "  if (root.Bokeh !== undefined && root.Bokeh.Panel !== undefined) {\n",
       "    embed_document(root);\n",
       "  } else {\n",
       "    var attempts = 0;\n",
       "    var timer = setInterval(function(root) {\n",
       "      if (root.Bokeh !== undefined && root.Bokeh.Panel !== undefined) {\n",
       "        clearInterval(timer);\n",
       "        embed_document(root);\n",
       "      } else if (document.readyState == \"complete\") {\n",
       "        attempts++;\n",
       "        if (attempts > 100) {\n",
       "          clearInterval(timer);\n",
       "          console.log(\"Bokeh: ERROR: Unable to run BokehJS code because BokehJS library is missing\");\n",
       "        }\n",
       "      }\n",
       "    }, 10, root)\n",
       "  }\n",
       "})(window);</script>"
      ],
      "text/plain": [
       ":Bars   [County]   (Est Value)"
      ]
     },
     "execution_count": 14,
     "metadata": {
      "application/vnd.holoviews_exec.v0+json": {
       "id": "1331"
      }
     },
     "output_type": "execute_result"
    }
   ],
   "source": [
    "avg_foreclosure_value_county.hvplot.bar(\n",
    "    title='Foreclosures - Mean Home Values - Sorted by County',\n",
    "    rot=90,\n",
    "    height=500,\n",
    "    width=1500,\n",
    ").opts(yformatter = '%.0f',\n",
    "      color='orange')"
   ]
  },
  {
   "cell_type": "code",
   "execution_count": 37,
   "metadata": {},
   "outputs": [
    {
     "data": {
      "text/html": [
       "<div>\n",
       "<style scoped>\n",
       "    .dataframe tbody tr th:only-of-type {\n",
       "        vertical-align: middle;\n",
       "    }\n",
       "\n",
       "    .dataframe tbody tr th {\n",
       "        vertical-align: top;\n",
       "    }\n",
       "\n",
       "    .dataframe thead th {\n",
       "        text-align: right;\n",
       "    }\n",
       "</style>\n",
       "<table border=\"1\" class=\"dataframe\">\n",
       "  <thead>\n",
       "    <tr style=\"text-align: right;\">\n",
       "      <th></th>\n",
       "      <th>Est Value</th>\n",
       "    </tr>\n",
       "    <tr>\n",
       "      <th>City</th>\n",
       "      <th></th>\n",
       "    </tr>\n",
       "  </thead>\n",
       "  <tbody>\n",
       "    <tr>\n",
       "      <th>CAZADERO</th>\n",
       "      <td>40800.0</td>\n",
       "    </tr>\n",
       "    <tr>\n",
       "      <th>SAUSALITO</th>\n",
       "      <td>105335.0</td>\n",
       "    </tr>\n",
       "    <tr>\n",
       "      <th>BELVEDERE</th>\n",
       "      <td>338755.0</td>\n",
       "    </tr>\n",
       "    <tr>\n",
       "      <th>RIO NIDO</th>\n",
       "      <td>341800.0</td>\n",
       "    </tr>\n",
       "    <tr>\n",
       "      <th>RIO VISTA</th>\n",
       "      <td>377567.0</td>\n",
       "    </tr>\n",
       "    <tr>\n",
       "      <th>...</th>\n",
       "      <td>...</td>\n",
       "    </tr>\n",
       "    <tr>\n",
       "      <th>PACHECO</th>\n",
       "      <td>6011783.0</td>\n",
       "    </tr>\n",
       "    <tr>\n",
       "      <th>NAPA</th>\n",
       "      <td>6156907.0</td>\n",
       "    </tr>\n",
       "    <tr>\n",
       "      <th>MENLO PARK</th>\n",
       "      <td>10039420.0</td>\n",
       "    </tr>\n",
       "    <tr>\n",
       "      <th>SUNNYVALE</th>\n",
       "      <td>10234661.0</td>\n",
       "    </tr>\n",
       "    <tr>\n",
       "      <th>LOS ALTOS</th>\n",
       "      <td>12982000.0</td>\n",
       "    </tr>\n",
       "  </tbody>\n",
       "</table>\n",
       "<p>127 rows × 1 columns</p>\n",
       "</div>"
      ],
      "text/plain": [
       "             Est Value\n",
       "City                  \n",
       "CAZADERO       40800.0\n",
       "SAUSALITO     105335.0\n",
       "BELVEDERE     338755.0\n",
       "RIO NIDO      341800.0\n",
       "RIO VISTA     377567.0\n",
       "...                ...\n",
       "PACHECO      6011783.0\n",
       "NAPA         6156907.0\n",
       "MENLO PARK  10039420.0\n",
       "SUNNYVALE   10234661.0\n",
       "LOS ALTOS   12982000.0\n",
       "\n",
       "[127 rows x 1 columns]"
      ]
     },
     "execution_count": 37,
     "metadata": {},
     "output_type": "execute_result"
    }
   ],
   "source": [
    "avg_foreclosure_value_city = (\n",
    "    foreclosure_df[['Est Value', 'City']]\n",
    "    .groupby('City')\n",
    "    .mean()\n",
    "    .sort_values('Est Value')\n",
    ").round()\n",
    "\n",
    "avg_foreclosure_value_city"
   ]
  },
  {
   "cell_type": "code",
   "execution_count": 17,
   "metadata": {},
   "outputs": [
    {
     "data": {},
     "metadata": {},
     "output_type": "display_data"
    },
    {
     "data": {
      "application/vnd.holoviews_exec.v0+json": "",
      "text/html": [
       "<div id='1431'>\n",
       "\n",
       "\n",
       "\n",
       "\n",
       "\n",
       "  <div class=\"bk-root\" id=\"8674e5aa-0f77-47fc-aeb6-23a807650d84\" data-root-id=\"1431\"></div>\n",
       "</div>\n",
       "<script type=\"application/javascript\">(function(root) {\n",
       "  function embed_document(root) {\n",
       "    var docs_json = {\"6bd81f7e-94c7-4b18-8afe-336c55daecbb\":{\"roots\":{\"references\":[{\"attributes\":{\"children\":[{\"id\":\"1432\"},{\"id\":\"1436\"},{\"id\":\"1494\"}],\"margin\":[0,0,0,0],\"name\":\"Row02422\",\"tags\":[\"embedded\"]},\"id\":\"1431\",\"type\":\"Row\"},{\"attributes\":{\"axis\":{\"id\":\"1448\"},\"dimension\":1,\"grid_line_color\":null,\"ticker\":null},\"id\":\"1451\",\"type\":\"Grid\"},{\"attributes\":{},\"id\":\"1446\",\"type\":\"CategoricalTicker\"},{\"attributes\":{},\"id\":\"1466\",\"type\":\"Selection\"},{\"attributes\":{},\"id\":\"1449\",\"type\":\"BasicTicker\"},{\"attributes\":{\"axis_label\":\"Est Value\",\"bounds\":\"auto\",\"formatter\":{\"id\":\"1473\"},\"major_label_orientation\":\"horizontal\",\"ticker\":{\"id\":\"1449\"}},\"id\":\"1448\",\"type\":\"LinearAxis\"},{\"attributes\":{\"end\":14276120.0,\"reset_end\":14276120.0,\"reset_start\":0.0,\"tags\":[[[\"Est Value\",\"Est Value\",null]]]},\"id\":\"1434\",\"type\":\"Range1d\"},{\"attributes\":{\"data\":{\"City\":[\"CAZADERO\",\"SAUSALITO\",\"BELVEDERE\",\"RIO NIDO\",\"RIO VISTA\",\"PESCADERO\",\"DIXON\",\"CLAYTON\",\"SAN PABLO\",\"FORESTVILLE\",\"RICHMOND\",\"ANTIOCH\",\"GUERNEVILLE\",\"Unknown\",\"BOLINAS\",\"SAN GREGORIO\",\"BENICIA\",\"PITTSBURG\",\"VACAVILLE\",\"EL SOBRANTE\",\"CLOVERDALE\",\"GREENBRAE\",\"BODEGA BAY\",\"CONCORD\",\"COTATI\",\"OAKLEY\",\"WINDSOR\",\"BRENTWOOD\",\"RODEO\",\"SANTA ROSA\",\"OCCIDENTAL\",\"PINOLE\",\"MARTINEZ\",\"EMERYVILLE\",\"WALNUT CREEK\",\"HERCULES\",\"HAYWARD\",\"SAN LORENZO\",\"DISCOVERY BAY\",\"HEALDSBURG\",\"SAN LEANDRO\",\"FAIRFAX\",\"LIVERMORE\",\"CASTRO VALLEY\",\"UNION CITY\",\"FAIRFIELD\",\"NEWARK\",\"MILPITAS\",\"PLEASANT HILL\",\"ROHNERT PARK\",\"NOVATO\",\"SEBASTOPOL\",\"ALBANY\",\"VALLEJO\",\"OAKLAND\",\"PENNGROVE\",\"SONOMA\",\"DALY CITY\",\"PETALUMA\",\"Unkno<n\",\"EAST PALO ALTO\",\"GILROY\",\"SAN ANSELMO\",\"MORAGA\",\"CAMPBELL\",\"EL CERRITO\",\"CALISTOGA\",\"KENSINGTON\",\"ALVISO\",\"SAN MATEO\",\"PACIFICA\",\"THE SEA RANCH\",\"DILLON BEACH\",\"MONTARA\",\"SAN BRUNO\",\"HALF MOON BAY\",\"AMERICAN CANYON\",\"SAN MARTIN\",\"EL GRANADA\",\"ALAMEDA\",\"BRISBANE\",\"SAN RAFAEL\",\"SAN JOSE\",\"CORTE MADERA\",\"DANVILLE\",\"DUBLIN\",\"BERKELEY\",\"SOUTH SAN FRANCISCO\",\"SANTA CLARA\",\"PLEASANTON\",\"FREMONT\",\"ANGWIN\",\"BELMONT\",\"CUPERTINO\",\"SAN CARLOS\",\"ORINDA\",\"MOSS BEACH\",\"MILLBRAE\",\"SUISUN CITY\",\"LAFAYETTE\",\"PIEDMONT\",\"ALAMO\",\"FOSTER CITY\",\"MILL VALLEY\",\"MONTE SERENO\",\"LOS GATOS\",\"MORGAN HILL\",\"SAN FRANCISCO\",\"MOUNTAIN VIEW\",\"LARKSPUR\",\"WOODSIDE\",\"SARATOGA\",\"PALO ALTO\",\"BURLINGAME\",\"TIBURON\",\"ATHERTON\",\"LOS ALTOS HILLS\",\"SAN RAMON\",\"HILLSBOROUGH\",\"SAINT HELENA\",\"REDWOOD CITY\",\"BELVEDERE TIBURON\",\"PACHECO\",\"NAPA\",\"MENLO PARK\",\"SUNNYVALE\",\"LOS ALTOS\"],\"Est_Value\":{\"__ndarray__\":\"AAAAAADs40AAAAAAcLf5QAAAAAAMrRRBAAAAAKDcFEEAAAAAfAsXQQAAAACgbRpBAAAAAPCtG0EAAAAA8JUfQQAAAADAth9BAAAAAAAEIEEAAAAAyhogQQAAAABCqiBBAAAAAM7AIEEAAAAAjvggQQAAAADE/SBBAAAAAGANIUEAAAAAYFIhQQAAAADYZSFBAAAAALqcIUEAAAAAML4hQQAAAABK5CFBAAAAAFACIkEAAAAAgLMiQQAAAABG6CJBAAAAAN41I0EAAAAAeqgjQQAAAAA8viNBAAAAACTyI0EAAAAAxPUjQQAAAAAe2SRBAAAAAPxSJUEAAAAAVk0mQQAAAAD0WSZBAAAAAPCAJkEAAAAAKJYmQQAAAABGmyZBAAAAAM4JJ0EAAAAA6j4nQQAAAADwUydBAAAAAAJoJ0EAAAAAejgpQQAAAAAsfilBAAAAAFC0KkEAAAAAfskqQQAAAAC4AStBAAAAALweK0EAAAAA7G8rQQAAAAAK7ytBAAAAAJoJLEEAAAAAFoQsQQAAAAD4xyxBAAAAACz0LEEAAAAATgItQQAAAAAigy1BAAAAACrzLUEAAAAAwPQtQQAAAADwbi5BAAAAAJ6XLkEAAAAA6hEvQQAAAABAMi9BAAAAAPQoMEEAAAAALlUwQQAAAAB0XTBBAAAAAMyPMEEAAAAALPAwQQAAAACIHTFBAAAAAPY0MUEAAAAA6PsxQQAAAADgWDJBAAAAACm1MkEAAAAAX8UyQQAAAAAG2DJBAAAAAKTfMkEAAAAApBEzQQAAAABcwjNBAAAAAArXM0EAAAAAfAA0QQAAAAAnEjRBAAAAADB6NEEAAAAAnI00QQAAAABMHDVBAAAAAO6nNUEAAAAA2+g1QQAAAADo/DVBAAAAAO3HNkEAAAAAZwI3QQAAAAAkqTdBAAAAAJNcOEEAAAAAf3s4QQAAAAB+pzlBAAAAAMduO0EAAAAA0Ko7QQAAAADE8TxBAAAAAEsyPkEAAAAAhPg+QQAAAABAIz9BAAAAABASQEEAAAAAcm5AQQAAAIB9kUBBAAAAAP6bQEEAAAAAOLJAQQAAAIDIvkBBAAAAANQVQUEAAAAAN9tBQQAAAAA2kkRBAAAAAPhCRUEAAAAApptFQQAAAAC9tkVBAAAAgOlDSUEAAAAAUO9KQQAAAICPNUtBAAAAAECQS0EAAACAWNRLQQAAAIBfT0xBAAAAAOm8TUEAAAAA4lNQQQAAAMCfflBBAAAAgBTCUEEAAACACQtRQQAAAAArkVFBAAAAgL4NVUEAAACAVRBVQQAAAMDh7lZBAAAAwJp8V0EAAACADyZjQQAAAKBkhWNBAAAAAN7CaEE=\",\"dtype\":\"float64\",\"order\":\"little\",\"shape\":[127]}},\"selected\":{\"id\":\"1466\"},\"selection_policy\":{\"id\":\"1485\"}},\"id\":\"1465\",\"type\":\"ColumnDataSource\"},{\"attributes\":{\"margin\":[5,5,5,5],\"name\":\"HSpacer02427\",\"sizing_mode\":\"stretch_width\"},\"id\":\"1494\",\"type\":\"Spacer\"},{\"attributes\":{\"bottom_units\":\"screen\",\"fill_alpha\":0.5,\"fill_color\":\"lightgrey\",\"left_units\":\"screen\",\"level\":\"overlay\",\"line_alpha\":1.0,\"line_color\":\"black\",\"line_dash\":[4,4],\"line_width\":2,\"right_units\":\"screen\",\"top_units\":\"screen\"},\"id\":\"1457\",\"type\":\"BoxAnnotation\"},{\"attributes\":{\"source\":{\"id\":\"1465\"}},\"id\":\"1472\",\"type\":\"CDSView\"},{\"attributes\":{},\"id\":\"1485\",\"type\":\"UnionRenderers\"},{\"attributes\":{\"data_source\":{\"id\":\"1465\"},\"glyph\":{\"id\":\"1468\"},\"hover_glyph\":null,\"muted_glyph\":{\"id\":\"1470\"},\"nonselection_glyph\":{\"id\":\"1469\"},\"selection_glyph\":null,\"view\":{\"id\":\"1472\"}},\"id\":\"1471\",\"type\":\"GlyphRenderer\"},{\"attributes\":{},\"id\":\"1474\",\"type\":\"CategoricalTickFormatter\"},{\"attributes\":{\"active_drag\":\"auto\",\"active_inspect\":\"auto\",\"active_multi\":null,\"active_scroll\":\"auto\",\"active_tap\":\"auto\",\"tools\":[{\"id\":\"1435\"},{\"id\":\"1452\"},{\"id\":\"1453\"},{\"id\":\"1454\"},{\"id\":\"1455\"},{\"id\":\"1456\"}]},\"id\":\"1458\",\"type\":\"Toolbar\"},{\"attributes\":{\"fill_alpha\":{\"value\":0.2},\"fill_color\":{\"value\":\"orange\"},\"line_alpha\":{\"value\":0.2},\"top\":{\"field\":\"Est_Value\"},\"width\":{\"value\":0.8},\"x\":{\"field\":\"City\"}},\"id\":\"1470\",\"type\":\"VBar\"},{\"attributes\":{},\"id\":\"1452\",\"type\":\"SaveTool\"},{\"attributes\":{\"factors\":[\"CAZADERO\",\"SAUSALITO\",\"BELVEDERE\",\"RIO NIDO\",\"RIO VISTA\",\"PESCADERO\",\"DIXON\",\"CLAYTON\",\"SAN PABLO\",\"FORESTVILLE\",\"RICHMOND\",\"ANTIOCH\",\"GUERNEVILLE\",\"Unknown\",\"BOLINAS\",\"SAN GREGORIO\",\"BENICIA\",\"PITTSBURG\",\"VACAVILLE\",\"EL SOBRANTE\",\"CLOVERDALE\",\"GREENBRAE\",\"BODEGA BAY\",\"CONCORD\",\"COTATI\",\"OAKLEY\",\"WINDSOR\",\"BRENTWOOD\",\"RODEO\",\"SANTA ROSA\",\"OCCIDENTAL\",\"PINOLE\",\"MARTINEZ\",\"EMERYVILLE\",\"WALNUT CREEK\",\"HERCULES\",\"HAYWARD\",\"SAN LORENZO\",\"DISCOVERY BAY\",\"HEALDSBURG\",\"SAN LEANDRO\",\"FAIRFAX\",\"LIVERMORE\",\"CASTRO VALLEY\",\"UNION CITY\",\"FAIRFIELD\",\"NEWARK\",\"MILPITAS\",\"PLEASANT HILL\",\"ROHNERT PARK\",\"NOVATO\",\"SEBASTOPOL\",\"ALBANY\",\"VALLEJO\",\"OAKLAND\",\"PENNGROVE\",\"SONOMA\",\"DALY CITY\",\"PETALUMA\",\"Unkno<n\",\"EAST PALO ALTO\",\"GILROY\",\"SAN ANSELMO\",\"MORAGA\",\"CAMPBELL\",\"EL CERRITO\",\"CALISTOGA\",\"KENSINGTON\",\"ALVISO\",\"SAN MATEO\",\"PACIFICA\",\"THE SEA RANCH\",\"DILLON BEACH\",\"MONTARA\",\"SAN BRUNO\",\"HALF MOON BAY\",\"AMERICAN CANYON\",\"SAN MARTIN\",\"EL GRANADA\",\"ALAMEDA\",\"BRISBANE\",\"SAN RAFAEL\",\"SAN JOSE\",\"CORTE MADERA\",\"DANVILLE\",\"DUBLIN\",\"BERKELEY\",\"SOUTH SAN FRANCISCO\",\"SANTA CLARA\",\"PLEASANTON\",\"FREMONT\",\"ANGWIN\",\"BELMONT\",\"CUPERTINO\",\"SAN CARLOS\",\"ORINDA\",\"MOSS BEACH\",\"MILLBRAE\",\"SUISUN CITY\",\"LAFAYETTE\",\"PIEDMONT\",\"ALAMO\",\"FOSTER CITY\",\"MILL VALLEY\",\"MONTE SERENO\",\"LOS GATOS\",\"MORGAN HILL\",\"SAN FRANCISCO\",\"MOUNTAIN VIEW\",\"LARKSPUR\",\"WOODSIDE\",\"SARATOGA\",\"PALO ALTO\",\"BURLINGAME\",\"TIBURON\",\"ATHERTON\",\"LOS ALTOS HILLS\",\"SAN RAMON\",\"HILLSBOROUGH\",\"SAINT HELENA\",\"REDWOOD CITY\",\"BELVEDERE TIBURON\",\"PACHECO\",\"NAPA\",\"MENLO PARK\",\"SUNNYVALE\",\"LOS ALTOS\"],\"tags\":[[[\"City\",\"City\",null]]]},\"id\":\"1433\",\"type\":\"FactorRange\"},{\"attributes\":{},\"id\":\"1453\",\"type\":\"PanTool\"},{\"attributes\":{\"format\":\"%.0f\"},\"id\":\"1473\",\"type\":\"PrintfTickFormatter\"},{\"attributes\":{\"fill_color\":{\"value\":\"orange\"},\"top\":{\"field\":\"Est_Value\"},\"width\":{\"value\":0.8},\"x\":{\"field\":\"City\"}},\"id\":\"1468\",\"type\":\"VBar\"},{\"attributes\":{\"callback\":null,\"renderers\":[{\"id\":\"1471\"}],\"tags\":[\"hv_created\"],\"tooltips\":[[\"City\",\"@{City}\"],[\"Est Value\",\"@{Est_Value}\"]]},\"id\":\"1435\",\"type\":\"HoverTool\"},{\"attributes\":{\"below\":[{\"id\":\"1445\"}],\"center\":[{\"id\":\"1447\"},{\"id\":\"1451\"}],\"left\":[{\"id\":\"1448\"}],\"margin\":[5,5,5,5],\"min_border_bottom\":10,\"min_border_left\":10,\"min_border_right\":10,\"min_border_top\":10,\"plot_height\":500,\"plot_width\":1500,\"renderers\":[{\"id\":\"1471\"}],\"sizing_mode\":\"fixed\",\"title\":{\"id\":\"1437\"},\"toolbar\":{\"id\":\"1458\"},\"x_range\":{\"id\":\"1433\"},\"x_scale\":{\"id\":\"1441\"},\"y_range\":{\"id\":\"1434\"},\"y_scale\":{\"id\":\"1443\"}},\"id\":\"1436\",\"subtype\":\"Figure\",\"type\":\"Plot\"},{\"attributes\":{},\"id\":\"1454\",\"type\":\"WheelZoomTool\"},{\"attributes\":{},\"id\":\"1441\",\"type\":\"CategoricalScale\"},{\"attributes\":{\"overlay\":{\"id\":\"1457\"}},\"id\":\"1455\",\"type\":\"BoxZoomTool\"},{\"attributes\":{\"axis_label\":\"City\",\"bounds\":\"auto\",\"formatter\":{\"id\":\"1474\"},\"major_label_orientation\":1.5707963267948966,\"ticker\":{\"id\":\"1446\"}},\"id\":\"1445\",\"type\":\"CategoricalAxis\"},{\"attributes\":{\"fill_alpha\":{\"value\":0.1},\"fill_color\":{\"value\":\"orange\"},\"line_alpha\":{\"value\":0.1},\"top\":{\"field\":\"Est_Value\"},\"width\":{\"value\":0.8},\"x\":{\"field\":\"City\"}},\"id\":\"1469\",\"type\":\"VBar\"},{\"attributes\":{},\"id\":\"1456\",\"type\":\"ResetTool\"},{\"attributes\":{},\"id\":\"1443\",\"type\":\"LinearScale\"},{\"attributes\":{\"axis\":{\"id\":\"1445\"},\"grid_line_color\":null,\"ticker\":null},\"id\":\"1447\",\"type\":\"Grid\"},{\"attributes\":{\"text\":\"Foreclosures - Mean Home Values - Sorted by City\",\"text_color\":{\"value\":\"black\"},\"text_font_size\":{\"value\":\"12pt\"}},\"id\":\"1437\",\"type\":\"Title\"},{\"attributes\":{\"margin\":[5,5,5,5],\"name\":\"HSpacer02426\",\"sizing_mode\":\"stretch_width\"},\"id\":\"1432\",\"type\":\"Spacer\"}],\"root_ids\":[\"1431\"]},\"title\":\"Bokeh Application\",\"version\":\"2.2.3\"}};\n",
       "    var render_items = [{\"docid\":\"6bd81f7e-94c7-4b18-8afe-336c55daecbb\",\"root_ids\":[\"1431\"],\"roots\":{\"1431\":\"8674e5aa-0f77-47fc-aeb6-23a807650d84\"}}];\n",
       "    root.Bokeh.embed.embed_items_notebook(docs_json, render_items);\n",
       "  }\n",
       "  if (root.Bokeh !== undefined && root.Bokeh.Panel !== undefined) {\n",
       "    embed_document(root);\n",
       "  } else {\n",
       "    var attempts = 0;\n",
       "    var timer = setInterval(function(root) {\n",
       "      if (root.Bokeh !== undefined && root.Bokeh.Panel !== undefined) {\n",
       "        clearInterval(timer);\n",
       "        embed_document(root);\n",
       "      } else if (document.readyState == \"complete\") {\n",
       "        attempts++;\n",
       "        if (attempts > 100) {\n",
       "          clearInterval(timer);\n",
       "          console.log(\"Bokeh: ERROR: Unable to run BokehJS code because BokehJS library is missing\");\n",
       "        }\n",
       "      }\n",
       "    }, 10, root)\n",
       "  }\n",
       "})(window);</script>"
      ],
      "text/plain": [
       ":Bars   [City]   (Est Value)"
      ]
     },
     "execution_count": 17,
     "metadata": {
      "application/vnd.holoviews_exec.v0+json": {
       "id": "1431"
      }
     },
     "output_type": "execute_result"
    }
   ],
   "source": [
    "avg_foreclosure_value_city.hvplot.bar(\n",
    "    title='Foreclosures - Mean Home Values - Sorted by City',\n",
    "    rot=90,\n",
    "    height=500,\n",
    "    width=1500,\n",
    ").opts(yformatter = '%.0f',\n",
    "      color='orange')"
   ]
  },
  {
   "cell_type": "markdown",
   "metadata": {},
   "source": [
    "# CURRENT FORECLOSURE DATA - MEAN HOME EQUITY BY COUNTY - SORTED BY ESTIMATE VALUE\n",
    "#  "
   ]
  },
  {
   "cell_type": "code",
   "execution_count": 38,
   "metadata": {},
   "outputs": [
    {
     "data": {},
     "metadata": {},
     "output_type": "display_data"
    },
    {
     "data": {
      "application/vnd.holoviews_exec.v0+json": "",
      "text/html": [
       "<div id='2702'>\n",
       "\n",
       "\n",
       "\n",
       "\n",
       "\n",
       "  <div class=\"bk-root\" id=\"421b8ee4-abfa-48d9-bfe8-5224060cdb3f\" data-root-id=\"2702\"></div>\n",
       "</div>\n",
       "<script type=\"application/javascript\">(function(root) {\n",
       "  function embed_document(root) {\n",
       "    var docs_json = {\"1b059df5-3cff-4062-983f-8d0bcb3c50a4\":{\"roots\":{\"references\":[{\"attributes\":{\"callback\":null,\"renderers\":[{\"id\":\"2742\"}],\"tags\":[\"hv_created\"],\"tooltips\":[[\"Address\",\"@{Address}\"],[\"Est Value\",\"@{Est_Value}\"]]},\"id\":\"2706\",\"type\":\"HoverTool\"},{\"attributes\":{\"fill_alpha\":{\"value\":0.1},\"fill_color\":{\"value\":\"orange\"},\"height\":{\"value\":0.8},\"line_alpha\":{\"value\":0.1},\"right\":{\"field\":\"Est_Value\"},\"y\":{\"field\":\"Address\"}},\"id\":\"2740\",\"type\":\"HBar\"},{\"attributes\":{\"factors\":[\"583 Haight St\",\"1376 Quesada Ave\",\"1200 Gough St 19B\",\"1135 Palou Ave\",\"100 5Th Ave\",\"159 Harold Ave\",\"36 Harold Ave\",\"439 Argonaut Ave\",\"148 Bepler St\",\"1169 Hollister Ave\",\"825 La Playa St 322\",\"169 Raymond Ave\",\"120 Rolph St\",\"2 Stanley St\",\"301 Mission St 4D\",\"1148 Jamestown Ave\",\"32 Gaven St\",\"225 Farallones St\",\"380 14Th St 506\",\"243 Granada Ave\",\"420 Harkness Ave\",\"330 Head St\",\"26 Hawkins Ln\",\"242 Joost Ave\",\"1099 Mississippi St 5\",\"1800 Bryant St 309\",\"200 Brannan St 304\",\"1100 Felton St\",\"1 Carpenter Ct\",\"1177 California St 1107\",\"8 Southern Heights Ave 2\",\"45 Greenwood Ave\",\"1350 Geneva Ave\",\"1025 Prague St\",\"926 Garfield St\",\"1000 Crescent Ave\",\"1149 Divisadero St 212\",\"300 Ivy St 414\",\"2511 42Nd Ave\",\"1308 Anza St\",\"1347 Hayes St\",\"1 Putnam St\",\"1177 California St 1424\",\"328 Mississippi St\",\"155 Park St\",\"2820 Greenwich St 1\",\"1722 21St Ave\",\"712 Bryant St 6\",\"46 Lapidge St\",\"2166 20Th Ave\",\"1401 Diamond St\",\"219 Chattanooga St\",\"4407 18Th St\",\"440 29Th St\",\"222 Hyde St\",\"140 Brentwood Ave\",\"250 Santa Paula Ave\",\"401 Harrison St 41D\",\"185 Haight St\",\"201 Folsom St 33B\",\"77 Belgrave Ave\",\"224 Sea Cliff Ave\"],\"tags\":[[[\"Address\",\"Address\",null]]]},\"id\":\"2705\",\"type\":\"FactorRange\"},{\"attributes\":{\"margin\":[5,5,5,5],\"name\":\"VSpacer06151\",\"sizing_mode\":\"stretch_height\"},\"id\":\"2774\",\"type\":\"Spacer\"},{\"attributes\":{\"margin\":[20,20,20,20],\"min_width\":250,\"options\":[\"San Francisco\",\"Sonoma\",\"Solano\",\"Contra Costa\",\"Marin\",\"Alameda\",\"Santa Clara\",\"San Mateo\",\"Napa\"],\"title\":\"County\",\"value\":\"San Francisco\",\"width\":250},\"id\":\"2773\",\"type\":\"Select\"},{\"attributes\":{\"axis\":{\"id\":\"2720\"},\"dimension\":1,\"grid_line_color\":null,\"ticker\":null},\"id\":\"2722\",\"type\":\"Grid\"},{\"attributes\":{},\"id\":\"2749\",\"type\":\"CategoricalTickFormatter\"},{\"attributes\":{},\"id\":\"2714\",\"type\":\"CategoricalScale\"},{\"attributes\":{\"text\":\"Estimated Foreclosue Value by County\",\"text_color\":{\"value\":\"black\"},\"text_font_size\":{\"value\":\"12pt\"}},\"id\":\"2708\",\"type\":\"Title\"},{\"attributes\":{\"fill_alpha\":{\"value\":0.2},\"fill_color\":{\"value\":\"orange\"},\"height\":{\"value\":0.8},\"line_alpha\":{\"value\":0.2},\"right\":{\"field\":\"Est_Value\"},\"y\":{\"field\":\"Address\"}},\"id\":\"2741\",\"type\":\"HBar\"},{\"attributes\":{\"data_source\":{\"id\":\"2736\"},\"glyph\":{\"id\":\"2739\"},\"hover_glyph\":null,\"muted_glyph\":{\"id\":\"2741\"},\"nonselection_glyph\":{\"id\":\"2740\"},\"selection_glyph\":null,\"view\":{\"id\":\"2743\"}},\"id\":\"2742\",\"type\":\"GlyphRenderer\"},{\"attributes\":{\"overlay\":{\"id\":\"2728\"}},\"id\":\"2726\",\"type\":\"BoxZoomTool\"},{\"attributes\":{\"source\":{\"id\":\"2736\"}},\"id\":\"2743\",\"type\":\"CDSView\"},{\"attributes\":{\"children\":[{\"id\":\"2703\"},{\"id\":\"2707\"},{\"id\":\"2769\"},{\"id\":\"2770\"}],\"margin\":[0,0,0,0],\"name\":\"Row06144\"},\"id\":\"2702\",\"type\":\"Row\"},{\"attributes\":{\"margin\":[5,5,5,5],\"name\":\"VSpacer06150\",\"sizing_mode\":\"stretch_height\"},\"id\":\"2771\",\"type\":\"Spacer\"},{\"attributes\":{\"children\":[{\"id\":\"2773\"}],\"css_classes\":[\"panel-widget-box\"],\"margin\":[5,5,5,5],\"name\":\"WidgetBox06145\"},\"id\":\"2772\",\"type\":\"Column\"},{\"attributes\":{},\"id\":\"2723\",\"type\":\"SaveTool\"},{\"attributes\":{\"fill_color\":{\"value\":\"orange\"},\"height\":{\"value\":0.8},\"right\":{\"field\":\"Est_Value\"},\"y\":{\"field\":\"Address\"}},\"id\":\"2739\",\"type\":\"HBar\"},{\"attributes\":{},\"id\":\"2737\",\"type\":\"Selection\"},{\"attributes\":{\"data\":{\"Address\":[\"583 Haight St\",\"1376 Quesada Ave\",\"1200 Gough St 19B\",\"1135 Palou Ave\",\"100 5Th Ave\",\"159 Harold Ave\",\"36 Harold Ave\",\"439 Argonaut Ave\",\"148 Bepler St\",\"1169 Hollister Ave\",\"825 La Playa St 322\",\"169 Raymond Ave\",\"120 Rolph St\",\"2 Stanley St\",\"301 Mission St 4D\",\"1148 Jamestown Ave\",\"32 Gaven St\",\"225 Farallones St\",\"380 14Th St 506\",\"243 Granada Ave\",\"420 Harkness Ave\",\"330 Head St\",\"26 Hawkins Ln\",\"242 Joost Ave\",\"1099 Mississippi St 5\",\"1800 Bryant St 309\",\"200 Brannan St 304\",\"1100 Felton St\",\"1 Carpenter Ct\",\"1177 California St 1107\",\"8 Southern Heights Ave 2\",\"45 Greenwood Ave\",\"1350 Geneva Ave\",\"1025 Prague St\",\"926 Garfield St\",\"1000 Crescent Ave\",\"1149 Divisadero St 212\",\"300 Ivy St 414\",\"2511 42Nd Ave\",\"1308 Anza St\",\"1347 Hayes St\",\"1 Putnam St\",\"1177 California St 1424\",\"328 Mississippi St\",\"155 Park St\",\"2820 Greenwich St 1\",\"1722 21St Ave\",\"712 Bryant St 6\",\"46 Lapidge St\",\"2166 20Th Ave\",\"1401 Diamond St\",\"219 Chattanooga St\",\"4407 18Th St\",\"440 29Th St\",\"222 Hyde St\",\"140 Brentwood Ave\",\"250 Santa Paula Ave\",\"401 Harrison St 41D\",\"185 Haight St\",\"201 Folsom St 33B\",\"77 Belgrave Ave\",\"224 Sea Cliff Ave\"],\"Est_Value\":{\"__ndarray__\":\"AAAAAGCM/EAAAAAA4J4fQQAAAABAXCNBAAAAABi9JkEAAAAA3tInQQAAAAAYmChBAAAAAGA7KUEAAAAAGPYpQQAAAABI6CpBAAAAABiGK0EAAAAAIB0tQQAAAADITC1BAAAAAOiaLUEAAAAAIEMvQQAAAABQny9BAAAAAEQBMEEAAAAAuA8wQQAAAAC4KDBBAAAAALBsMEEAAAAAMFoxQQAAAAD8gzFBAAAAACyuMUEAAAAAFBYyQQAAAABIgjJBAAAAAJzxMkEAAAAAsEEzQQAAAACQVzNBAAAAADBnM0EAAAAAMGczQQAAAACAezNBAAAAACztM0EAAAAAWCA0QQAAAADwKDRBAAAAAPjeNEEAAAAAeP41QQAAAAD4CjZBAAAAABCENkEAAAAAYOM2QQAAAADcXDdBAAAAAFSUN0EAAAAAiOc3QQAAAABc/zdBAAAAAKB5OEEAAAAAXK44QQAAAAAIUjlBAAAAACCAOUEAAAAAMKc5QQAAAABYkjpBAAAAAIwwO0EAAAAAgKk8QQAAAABa7j1BAAAAALz3PkEAAAAALCtCQQAAAACGk0NBAAAAAHaSRUEAAAAAKDVGQQAAAABkj0ZBAAAAAD7NTEEAAAAA5FJOQQAAAADVvFNBAAAAAKMOV0EAAABgfq5hQQ==\",\"dtype\":\"float64\",\"order\":\"little\",\"shape\":[62]}},\"selected\":{\"id\":\"2737\"},\"selection_policy\":{\"id\":\"2760\"}},\"id\":\"2736\",\"type\":\"ColumnDataSource\"},{\"attributes\":{\"axis\":{\"id\":\"2716\"},\"grid_line_color\":null,\"ticker\":null},\"id\":\"2719\",\"type\":\"Grid\"},{\"attributes\":{},\"id\":\"2760\",\"type\":\"UnionRenderers\"},{\"attributes\":{\"bottom_units\":\"screen\",\"fill_alpha\":0.5,\"fill_color\":\"lightgrey\",\"left_units\":\"screen\",\"level\":\"overlay\",\"line_alpha\":1.0,\"line_color\":\"black\",\"line_dash\":[4,4],\"line_width\":2,\"right_units\":\"screen\",\"top_units\":\"screen\"},\"id\":\"2728\",\"type\":\"BoxAnnotation\"},{\"attributes\":{\"below\":[{\"id\":\"2716\"}],\"center\":[{\"id\":\"2719\"},{\"id\":\"2722\"}],\"left\":[{\"id\":\"2720\"}],\"margin\":[5,5,5,5],\"min_border_bottom\":10,\"min_border_left\":10,\"min_border_right\":10,\"min_border_top\":10,\"plot_height\":500,\"plot_width\":1500,\"renderers\":[{\"id\":\"2742\"}],\"sizing_mode\":\"fixed\",\"title\":{\"id\":\"2708\"},\"toolbar\":{\"id\":\"2729\"},\"x_range\":{\"id\":\"2704\"},\"x_scale\":{\"id\":\"2712\"},\"y_range\":{\"id\":\"2705\"},\"y_scale\":{\"id\":\"2714\"}},\"id\":\"2707\",\"subtype\":\"Figure\",\"type\":\"Plot\"},{\"attributes\":{},\"id\":\"2725\",\"type\":\"WheelZoomTool\"},{\"attributes\":{\"end\":10185591.5,\"reset_end\":10185591.5,\"reset_start\":0.0,\"tags\":[[[\"Est Value\",\"Est Value\",null]]]},\"id\":\"2704\",\"type\":\"Range1d\"},{\"attributes\":{\"children\":[{\"id\":\"2771\"},{\"id\":\"2772\"},{\"id\":\"2774\"}],\"margin\":[0,0,0,0],\"name\":\"Column06152\"},\"id\":\"2770\",\"type\":\"Column\"},{\"attributes\":{\"axis_label\":\"Address\",\"bounds\":\"auto\",\"formatter\":{\"id\":\"2749\"},\"major_label_orientation\":\"horizontal\",\"ticker\":{\"id\":\"2721\"}},\"id\":\"2720\",\"type\":\"CategoricalAxis\"},{\"attributes\":{\"format\":\"%.0f\"},\"id\":\"2744\",\"type\":\"PrintfTickFormatter\"},{\"attributes\":{\"client_comm_id\":\"a829bde707a04fc8a6cdb80d150efe5f\",\"comm_id\":\"f3d9302f4ef14758929caed12277a9a0\",\"plot_id\":\"2702\"},\"id\":\"2796\",\"type\":\"panel.models.comm_manager.CommManager\"},{\"attributes\":{},\"id\":\"2727\",\"type\":\"ResetTool\"},{\"attributes\":{},\"id\":\"2724\",\"type\":\"PanTool\"},{\"attributes\":{\"margin\":[5,5,5,5],\"name\":\"HSpacer06153\",\"sizing_mode\":\"stretch_width\"},\"id\":\"2703\",\"type\":\"Spacer\"},{\"attributes\":{\"margin\":[5,5,5,5],\"name\":\"HSpacer06154\",\"sizing_mode\":\"stretch_width\"},\"id\":\"2769\",\"type\":\"Spacer\"},{\"attributes\":{},\"id\":\"2717\",\"type\":\"BasicTicker\"},{\"attributes\":{},\"id\":\"2721\",\"type\":\"CategoricalTicker\"},{\"attributes\":{},\"id\":\"2712\",\"type\":\"LinearScale\"},{\"attributes\":{\"active_drag\":\"auto\",\"active_inspect\":\"auto\",\"active_multi\":null,\"active_scroll\":\"auto\",\"active_tap\":\"auto\",\"tools\":[{\"id\":\"2706\"},{\"id\":\"2723\"},{\"id\":\"2724\"},{\"id\":\"2725\"},{\"id\":\"2726\"},{\"id\":\"2727\"}]},\"id\":\"2729\",\"type\":\"Toolbar\"},{\"attributes\":{\"axis_label\":\"Estimated Value\",\"bounds\":\"auto\",\"formatter\":{\"id\":\"2744\"},\"major_label_orientation\":\"horizontal\",\"ticker\":{\"id\":\"2717\"}},\"id\":\"2716\",\"type\":\"LinearAxis\"}],\"root_ids\":[\"2702\",\"2796\"]},\"title\":\"Bokeh Application\",\"version\":\"2.2.3\"}};\n",
       "    var render_items = [{\"docid\":\"1b059df5-3cff-4062-983f-8d0bcb3c50a4\",\"root_ids\":[\"2702\"],\"roots\":{\"2702\":\"421b8ee4-abfa-48d9-bfe8-5224060cdb3f\"}}];\n",
       "    root.Bokeh.embed.embed_items_notebook(docs_json, render_items);\n",
       "  }\n",
       "  if (root.Bokeh !== undefined && root.Bokeh.Panel !== undefined) {\n",
       "    embed_document(root);\n",
       "  } else {\n",
       "    var attempts = 0;\n",
       "    var timer = setInterval(function(root) {\n",
       "      if (root.Bokeh !== undefined && root.Bokeh.Panel !== undefined) {\n",
       "        clearInterval(timer);\n",
       "        embed_document(root);\n",
       "      } else if (document.readyState == \"complete\") {\n",
       "        attempts++;\n",
       "        if (attempts > 100) {\n",
       "          clearInterval(timer);\n",
       "          console.log(\"Bokeh: ERROR: Unable to run BokehJS code because BokehJS library is missing\");\n",
       "        }\n",
       "      }\n",
       "    }, 10, root)\n",
       "  }\n",
       "})(window);</script>"
      ],
      "text/plain": [
       ":DynamicMap   [County]\n",
       "   :Bars   [Address]   (Est Value)"
      ]
     },
     "execution_count": 38,
     "metadata": {
      "application/vnd.holoviews_exec.v0+json": {
       "id": "2702"
      }
     },
     "output_type": "execute_result"
    }
   ],
   "source": [
    "foreclosure_value_plot_county = foreclosure_df_sorted_value[['County','City','Est Value']].hvplot(\n",
    "    kind='bar',\n",
    "    height=500,\n",
    "    width=1500,\n",
    "    groupby='County',  \n",
    "    title='Estimated Foreclosue Value by County',\n",
    "    y='Est Value',\n",
    "    ylabel='Estimated Value'\n",
    ").opts(xformatter = '%.0f',\n",
    "      invert_axes=True,\n",
    "      color='orange')\n",
    "\n",
    "foreclosure_value_plot_county"
   ]
  },
  {
   "cell_type": "code",
   "execution_count": 39,
   "metadata": {},
   "outputs": [
    {
     "data": {},
     "metadata": {},
     "output_type": "display_data"
    },
    {
     "data": {
      "application/vnd.holoviews_exec.v0+json": "",
      "text/html": [
       "<div id='2838'>\n",
       "\n",
       "\n",
       "\n",
       "\n",
       "\n",
       "  <div class=\"bk-root\" id=\"6f26451f-c85e-4297-93ec-df2d5f776e7b\" data-root-id=\"2838\"></div>\n",
       "</div>\n",
       "<script type=\"application/javascript\">(function(root) {\n",
       "  function embed_document(root) {\n",
       "    var docs_json = {\"27a5d50a-d537-444a-8727-20ecfd77d085\":{\"roots\":{\"references\":[{\"attributes\":{},\"id\":\"2850\",\"type\":\"CategoricalScale\"},{\"attributes\":{\"children\":[{\"id\":\"2907\"},{\"id\":\"2908\"},{\"id\":\"2910\"}],\"margin\":[0,0,0,0],\"name\":\"Column06577\"},\"id\":\"2906\",\"type\":\"Column\"},{\"attributes\":{},\"id\":\"2896\",\"type\":\"UnionRenderers\"},{\"attributes\":{\"margin\":[5,5,5,5],\"name\":\"HSpacer06578\",\"sizing_mode\":\"stretch_width\"},\"id\":\"2839\",\"type\":\"Spacer\"},{\"attributes\":{\"text\":\"Estimated Foreclosue Value by City\",\"text_color\":{\"value\":\"black\"},\"text_font_size\":{\"value\":\"12pt\"}},\"id\":\"2844\",\"type\":\"Title\"},{\"attributes\":{},\"id\":\"2853\",\"type\":\"BasicTicker\"},{\"attributes\":{\"axis\":{\"id\":\"2852\"},\"grid_line_color\":null,\"ticker\":null},\"id\":\"2855\",\"type\":\"Grid\"},{\"attributes\":{},\"id\":\"2857\",\"type\":\"CategoricalTicker\"},{\"attributes\":{\"axis_label\":\"Address\",\"bounds\":\"auto\",\"formatter\":{\"id\":\"2885\"},\"major_label_orientation\":\"horizontal\",\"ticker\":{\"id\":\"2857\"}},\"id\":\"2856\",\"type\":\"CategoricalAxis\"},{\"attributes\":{\"margin\":[5,5,5,5],\"name\":\"HSpacer06579\",\"sizing_mode\":\"stretch_width\"},\"id\":\"2905\",\"type\":\"Spacer\"},{\"attributes\":{\"callback\":null,\"renderers\":[{\"id\":\"2878\"}],\"tags\":[\"hv_created\"],\"tooltips\":[[\"Address\",\"@{Address}\"],[\"Est Value\",\"@{Est_Value}\"]]},\"id\":\"2842\",\"type\":\"HoverTool\"},{\"attributes\":{\"fill_alpha\":{\"value\":0.1},\"fill_color\":{\"value\":\"orange\"},\"height\":{\"value\":0.8},\"line_alpha\":{\"value\":0.1},\"right\":{\"field\":\"Est_Value\"},\"y\":{\"field\":\"Address\"}},\"id\":\"2876\",\"type\":\"HBar\"},{\"attributes\":{\"source\":{\"id\":\"2872\"}},\"id\":\"2879\",\"type\":\"CDSView\"},{\"attributes\":{\"bottom_units\":\"screen\",\"fill_alpha\":0.5,\"fill_color\":\"lightgrey\",\"left_units\":\"screen\",\"level\":\"overlay\",\"line_alpha\":1.0,\"line_color\":\"black\",\"line_dash\":[4,4],\"line_width\":2,\"right_units\":\"screen\",\"top_units\":\"screen\"},\"id\":\"2864\",\"type\":\"BoxAnnotation\"},{\"attributes\":{\"client_comm_id\":\"510cc780acab4c50b4bd0cd344002bb7\",\"comm_id\":\"f2426873eaba4e8ea495dda1635deba3\",\"plot_id\":\"2838\"},\"id\":\"2932\",\"type\":\"panel.models.comm_manager.CommManager\"},{\"attributes\":{\"fill_alpha\":{\"value\":0.2},\"fill_color\":{\"value\":\"orange\"},\"height\":{\"value\":0.8},\"line_alpha\":{\"value\":0.2},\"right\":{\"field\":\"Est_Value\"},\"y\":{\"field\":\"Address\"}},\"id\":\"2877\",\"type\":\"HBar\"},{\"attributes\":{},\"id\":\"2873\",\"type\":\"Selection\"},{\"attributes\":{\"margin\":[5,5,5,5],\"name\":\"VSpacer06576\",\"sizing_mode\":\"stretch_height\"},\"id\":\"2910\",\"type\":\"Spacer\"},{\"attributes\":{\"axis\":{\"id\":\"2856\"},\"dimension\":1,\"grid_line_color\":null,\"ticker\":null},\"id\":\"2858\",\"type\":\"Grid\"},{\"attributes\":{\"children\":[{\"id\":\"2909\"}],\"css_classes\":[\"panel-widget-box\"],\"margin\":[5,5,5,5],\"name\":\"WidgetBox06570\"},\"id\":\"2908\",\"type\":\"Column\"},{\"attributes\":{\"margin\":[20,20,20,20],\"min_width\":250,\"options\":[\"SAN FRANCISCO\",\"SANTA ROSA\",\"FAIRFIELD\",\"VACAVILLE\",\"CONCORD\",\"VALLEJO\",\"SAN RAFAEL\",\"CLOVERDALE\",\"ANTIOCH\",\"PITTSBURG\",\"WALNUT CREEK\",\"ROHNERT PARK\",\"NOVATO\",\"DIXON\",\"COTATI\",\"OAKLAND\",\"BELVEDERE\",\"RIO VISTA\",\"RIO NIDO\",\"BENICIA\",\"SAN PABLO\",\"OAKLEY\",\"GUERNEVILLE\",\"RICHMOND\",\"EL SOBRANTE\",\"SUISUN CITY\",\"HAYWARD\",\"BRENTWOOD\",\"PESCADERO\",\"DISCOVERY BAY\",\"SAN JOSE\",\"SANTA CLARA\",\"WINDSOR\",\"FREMONT\",\"AMERICAN CANYON\",\"MARTINEZ\",\"PLEASANT HILL\",\"HEALDSBURG\",\"PACHECO\",\"CLAYTON\",\"DALY CITY\",\"FORESTVILLE\",\"SEBASTOPOL\",\"SAN LEANDRO\",\"NAPA\",\"FAIRFAX\",\"BOLINAS\",\"NEWARK\",\"PINOLE\",\"SAN RAMON\",\"ALAMEDA\",\"GREENBRAE\",\"HERCULES\",\"UNION CITY\",\"MORAGA\",\"MORGAN HILL\",\"SONOMA\",\"EMERYVILLE\",\"RODEO\",\"SAN LORENZO\",\"ALBANY\",\"CAMPBELL\",\"SAN MATEO\",\"LIVERMORE\",\"PLEASANTON\",\"PETALUMA\",\"SAN BRUNO\",\"OCCIDENTAL\",\"EL CERRITO\",\"GILROY\",\"CASTRO VALLEY\",\"MILPITAS\",\"DUBLIN\",\"TIBURON\",\"SOUTH SAN FRANCISCO\",\"BERKELEY\",\"PALO ALTO\",\"ATHERTON\",\"EAST PALO ALTO\",\"LOS GATOS\",\"PENNGROVE\",\"SAN ANSELMO\",\"SAN MARTIN\",\"SUNNYVALE\",\"THE SEA RANCH\",\"REDWOOD CITY\",\"DANVILLE\",\"PACIFICA\",\"KENSINGTON\",\"LAFAYETTE\",\"ALVISO\",\"ORINDA\",\"DILLON BEACH\",\"MONTARA\",\"HALF MOON BAY\",\"MOUNTAIN VIEW\",\"BRISBANE\",\"MILLBRAE\",\"EL GRANADA\",\"CUPERTINO\",\"MENLO PARK\",\"CORTE MADERA\",\"MILL VALLEY\",\"ALAMO\",\"CALISTOGA\",\"BELMONT\",\"ANGWIN\",\"BURLINGAME\",\"WOODSIDE\",\"SARATOGA\",\"SAN CARLOS\",\"LOS ALTOS\",\"MOSS BEACH\",\"PIEDMONT\",\"FOSTER CITY\",\"MONTE SERENO\",\"LARKSPUR\",\"LOS ALTOS HILLS\",\"BELVEDERE TIBURON\",\"HILLSBOROUGH\",\"SAINT HELENA\"],\"title\":\"City\",\"value\":\"SAN FRANCISCO\",\"width\":250},\"id\":\"2909\",\"type\":\"Select\"},{\"attributes\":{},\"id\":\"2859\",\"type\":\"SaveTool\"},{\"attributes\":{\"format\":\"%.0f\"},\"id\":\"2880\",\"type\":\"PrintfTickFormatter\"},{\"attributes\":{\"fill_color\":{\"value\":\"orange\"},\"height\":{\"value\":0.8},\"right\":{\"field\":\"Est_Value\"},\"y\":{\"field\":\"Address\"}},\"id\":\"2875\",\"type\":\"HBar\"},{\"attributes\":{\"factors\":[\"583 Haight St\",\"1376 Quesada Ave\",\"1200 Gough St 19B\",\"1135 Palou Ave\",\"100 5Th Ave\",\"159 Harold Ave\",\"36 Harold Ave\",\"439 Argonaut Ave\",\"148 Bepler St\",\"1169 Hollister Ave\",\"825 La Playa St 322\",\"169 Raymond Ave\",\"120 Rolph St\",\"2 Stanley St\",\"301 Mission St 4D\",\"1148 Jamestown Ave\",\"32 Gaven St\",\"225 Farallones St\",\"380 14Th St 506\",\"243 Granada Ave\",\"420 Harkness Ave\",\"330 Head St\",\"26 Hawkins Ln\",\"242 Joost Ave\",\"1099 Mississippi St 5\",\"1800 Bryant St 309\",\"200 Brannan St 304\",\"1100 Felton St\",\"1 Carpenter Ct\",\"1177 California St 1107\",\"8 Southern Heights Ave 2\",\"45 Greenwood Ave\",\"1350 Geneva Ave\",\"1025 Prague St\",\"926 Garfield St\",\"1000 Crescent Ave\",\"1149 Divisadero St 212\",\"300 Ivy St 414\",\"2511 42Nd Ave\",\"1308 Anza St\",\"1347 Hayes St\",\"1 Putnam St\",\"1177 California St 1424\",\"328 Mississippi St\",\"155 Park St\",\"2820 Greenwich St 1\",\"1722 21St Ave\",\"712 Bryant St 6\",\"46 Lapidge St\",\"2166 20Th Ave\",\"1401 Diamond St\",\"219 Chattanooga St\",\"4407 18Th St\",\"440 29Th St\",\"222 Hyde St\",\"140 Brentwood Ave\",\"250 Santa Paula Ave\",\"401 Harrison St 41D\",\"185 Haight St\",\"201 Folsom St 33B\",\"77 Belgrave Ave\",\"224 Sea Cliff Ave\"],\"tags\":[[[\"Address\",\"Address\",null]]]},\"id\":\"2841\",\"type\":\"FactorRange\"},{\"attributes\":{\"data\":{\"Address\":[\"583 Haight St\",\"1376 Quesada Ave\",\"1200 Gough St 19B\",\"1135 Palou Ave\",\"100 5Th Ave\",\"159 Harold Ave\",\"36 Harold Ave\",\"439 Argonaut Ave\",\"148 Bepler St\",\"1169 Hollister Ave\",\"825 La Playa St 322\",\"169 Raymond Ave\",\"120 Rolph St\",\"2 Stanley St\",\"301 Mission St 4D\",\"1148 Jamestown Ave\",\"32 Gaven St\",\"225 Farallones St\",\"380 14Th St 506\",\"243 Granada Ave\",\"420 Harkness Ave\",\"330 Head St\",\"26 Hawkins Ln\",\"242 Joost Ave\",\"1099 Mississippi St 5\",\"1800 Bryant St 309\",\"200 Brannan St 304\",\"1100 Felton St\",\"1 Carpenter Ct\",\"1177 California St 1107\",\"8 Southern Heights Ave 2\",\"45 Greenwood Ave\",\"1350 Geneva Ave\",\"1025 Prague St\",\"926 Garfield St\",\"1000 Crescent Ave\",\"1149 Divisadero St 212\",\"300 Ivy St 414\",\"2511 42Nd Ave\",\"1308 Anza St\",\"1347 Hayes St\",\"1 Putnam St\",\"1177 California St 1424\",\"328 Mississippi St\",\"155 Park St\",\"2820 Greenwich St 1\",\"1722 21St Ave\",\"712 Bryant St 6\",\"46 Lapidge St\",\"2166 20Th Ave\",\"1401 Diamond St\",\"219 Chattanooga St\",\"4407 18Th St\",\"440 29Th St\",\"222 Hyde St\",\"140 Brentwood Ave\",\"250 Santa Paula Ave\",\"401 Harrison St 41D\",\"185 Haight St\",\"201 Folsom St 33B\",\"77 Belgrave Ave\",\"224 Sea Cliff Ave\"],\"Est_Value\":{\"__ndarray__\":\"AAAAAGCM/EAAAAAA4J4fQQAAAABAXCNBAAAAABi9JkEAAAAA3tInQQAAAAAYmChBAAAAAGA7KUEAAAAAGPYpQQAAAABI6CpBAAAAABiGK0EAAAAAIB0tQQAAAADITC1BAAAAAOiaLUEAAAAAIEMvQQAAAABQny9BAAAAAEQBMEEAAAAAuA8wQQAAAAC4KDBBAAAAALBsMEEAAAAAMFoxQQAAAAD8gzFBAAAAACyuMUEAAAAAFBYyQQAAAABIgjJBAAAAAJzxMkEAAAAAsEEzQQAAAACQVzNBAAAAADBnM0EAAAAAMGczQQAAAACAezNBAAAAACztM0EAAAAAWCA0QQAAAADwKDRBAAAAAPjeNEEAAAAAeP41QQAAAAD4CjZBAAAAABCENkEAAAAAYOM2QQAAAADcXDdBAAAAAFSUN0EAAAAAiOc3QQAAAABc/zdBAAAAAKB5OEEAAAAAXK44QQAAAAAIUjlBAAAAACCAOUEAAAAAMKc5QQAAAABYkjpBAAAAAIwwO0EAAAAAgKk8QQAAAABa7j1BAAAAALz3PkEAAAAALCtCQQAAAACGk0NBAAAAAHaSRUEAAAAAKDVGQQAAAABkj0ZBAAAAAD7NTEEAAAAA5FJOQQAAAADVvFNBAAAAAKMOV0EAAABgfq5hQQ==\",\"dtype\":\"float64\",\"order\":\"little\",\"shape\":[62]}},\"selected\":{\"id\":\"2873\"},\"selection_policy\":{\"id\":\"2896\"}},\"id\":\"2872\",\"type\":\"ColumnDataSource\"},{\"attributes\":{},\"id\":\"2860\",\"type\":\"PanTool\"},{\"attributes\":{\"end\":10185591.5,\"reset_end\":10185591.5,\"reset_start\":0.0,\"tags\":[[[\"Est Value\",\"Est Value\",null]]]},\"id\":\"2840\",\"type\":\"Range1d\"},{\"attributes\":{\"data_source\":{\"id\":\"2872\"},\"glyph\":{\"id\":\"2875\"},\"hover_glyph\":null,\"muted_glyph\":{\"id\":\"2877\"},\"nonselection_glyph\":{\"id\":\"2876\"},\"selection_glyph\":null,\"view\":{\"id\":\"2879\"}},\"id\":\"2878\",\"type\":\"GlyphRenderer\"},{\"attributes\":{},\"id\":\"2885\",\"type\":\"CategoricalTickFormatter\"},{\"attributes\":{},\"id\":\"2861\",\"type\":\"WheelZoomTool\"},{\"attributes\":{\"active_drag\":\"auto\",\"active_inspect\":\"auto\",\"active_multi\":null,\"active_scroll\":\"auto\",\"active_tap\":\"auto\",\"tools\":[{\"id\":\"2842\"},{\"id\":\"2859\"},{\"id\":\"2860\"},{\"id\":\"2861\"},{\"id\":\"2862\"},{\"id\":\"2863\"}]},\"id\":\"2865\",\"type\":\"Toolbar\"},{\"attributes\":{\"children\":[{\"id\":\"2839\"},{\"id\":\"2843\"},{\"id\":\"2905\"},{\"id\":\"2906\"}],\"margin\":[0,0,0,0],\"name\":\"Row06569\"},\"id\":\"2838\",\"type\":\"Row\"},{\"attributes\":{\"below\":[{\"id\":\"2852\"}],\"center\":[{\"id\":\"2855\"},{\"id\":\"2858\"}],\"left\":[{\"id\":\"2856\"}],\"margin\":[5,5,5,5],\"min_border_bottom\":10,\"min_border_left\":10,\"min_border_right\":10,\"min_border_top\":10,\"plot_height\":500,\"plot_width\":1500,\"renderers\":[{\"id\":\"2878\"}],\"sizing_mode\":\"fixed\",\"title\":{\"id\":\"2844\"},\"toolbar\":{\"id\":\"2865\"},\"x_range\":{\"id\":\"2840\"},\"x_scale\":{\"id\":\"2848\"},\"y_range\":{\"id\":\"2841\"},\"y_scale\":{\"id\":\"2850\"}},\"id\":\"2843\",\"subtype\":\"Figure\",\"type\":\"Plot\"},{\"attributes\":{\"overlay\":{\"id\":\"2864\"}},\"id\":\"2862\",\"type\":\"BoxZoomTool\"},{\"attributes\":{},\"id\":\"2848\",\"type\":\"LinearScale\"},{\"attributes\":{\"axis_label\":\"Estimated Value\",\"bounds\":\"auto\",\"formatter\":{\"id\":\"2880\"},\"major_label_orientation\":\"horizontal\",\"ticker\":{\"id\":\"2853\"}},\"id\":\"2852\",\"type\":\"LinearAxis\"},{\"attributes\":{},\"id\":\"2863\",\"type\":\"ResetTool\"},{\"attributes\":{\"margin\":[5,5,5,5],\"name\":\"VSpacer06575\",\"sizing_mode\":\"stretch_height\"},\"id\":\"2907\",\"type\":\"Spacer\"}],\"root_ids\":[\"2838\",\"2932\"]},\"title\":\"Bokeh Application\",\"version\":\"2.2.3\"}};\n",
       "    var render_items = [{\"docid\":\"27a5d50a-d537-444a-8727-20ecfd77d085\",\"root_ids\":[\"2838\"],\"roots\":{\"2838\":\"6f26451f-c85e-4297-93ec-df2d5f776e7b\"}}];\n",
       "    root.Bokeh.embed.embed_items_notebook(docs_json, render_items);\n",
       "  }\n",
       "  if (root.Bokeh !== undefined && root.Bokeh.Panel !== undefined) {\n",
       "    embed_document(root);\n",
       "  } else {\n",
       "    var attempts = 0;\n",
       "    var timer = setInterval(function(root) {\n",
       "      if (root.Bokeh !== undefined && root.Bokeh.Panel !== undefined) {\n",
       "        clearInterval(timer);\n",
       "        embed_document(root);\n",
       "      } else if (document.readyState == \"complete\") {\n",
       "        attempts++;\n",
       "        if (attempts > 100) {\n",
       "          clearInterval(timer);\n",
       "          console.log(\"Bokeh: ERROR: Unable to run BokehJS code because BokehJS library is missing\");\n",
       "        }\n",
       "      }\n",
       "    }, 10, root)\n",
       "  }\n",
       "})(window);</script>"
      ],
      "text/plain": [
       ":DynamicMap   [City]\n",
       "   :Bars   [Address]   (Est Value)"
      ]
     },
     "execution_count": 39,
     "metadata": {
      "application/vnd.holoviews_exec.v0+json": {
       "id": "2838"
      }
     },
     "output_type": "execute_result"
    }
   ],
   "source": [
    "foreclosure_value_plot_city = foreclosure_df_sorted_value[['County','City','Est Value']].hvplot(\n",
    "    kind='bar',\n",
    "    height=500,\n",
    "    width=1500,\n",
    "    groupby='City',  \n",
    "    title='Estimated Foreclosue Value by City',\n",
    "    y='Est Value',\n",
    "    ylabel='Estimated Value'\n",
    ").opts(xformatter = '%.0f',\n",
    "      invert_axes=True,\n",
    "      color='orange')\n",
    "\n",
    "foreclosure_value_plot_city"
   ]
  },
  {
   "cell_type": "markdown",
   "metadata": {},
   "source": [
    "# CURRENT FORECLOSURE DATA - ESTIMATED HOME VALUE / ESTIMATED HOME EQUITY COMPARISION\n",
    "#  "
   ]
  },
  {
   "cell_type": "code",
   "execution_count": 43,
   "metadata": {},
   "outputs": [
    {
     "data": {},
     "metadata": {},
     "output_type": "display_data"
    },
    {
     "data": {
      "application/vnd.holoviews_exec.v0+json": "",
      "text/html": [
       "<div id='3427'>\n",
       "\n",
       "\n",
       "\n",
       "\n",
       "\n",
       "  <div class=\"bk-root\" id=\"064d64c5-7e5c-4623-b2e4-9dd5aa50a8bf\" data-root-id=\"3427\"></div>\n",
       "</div>\n",
       "<script type=\"application/javascript\">(function(root) {\n",
       "  function embed_document(root) {\n",
       "    var docs_json = {\"6e809614-8570-4275-8784-55c3cbd45cdc\":{\"roots\":{\"references\":[{\"attributes\":{\"callback\":null,\"renderers\":[{\"id\":\"3476\"}],\"tags\":[\"hv_created\"],\"tooltips\":[[\"Address\",\"@{Address}\"],[\"Est Value\",\"@{Est_Value}\"]]},\"id\":\"3431\",\"type\":\"HoverTool\"},{\"attributes\":{\"data_source\":{\"id\":\"3478\"},\"glyph\":{\"id\":\"3481\"},\"hover_glyph\":null,\"muted_glyph\":{\"id\":\"3483\"},\"nonselection_glyph\":{\"id\":\"3482\"},\"selection_glyph\":null,\"view\":{\"id\":\"3485\"}},\"id\":\"3484\",\"type\":\"GlyphRenderer\"},{\"attributes\":{\"callback\":null,\"renderers\":[{\"id\":\"3484\"}],\"tags\":[\"hv_created\"],\"tooltips\":[[\"Address\",\"@{Address}\"],[\"Est Equity\",\"@{Est_Equity}\"]]},\"id\":\"3432\",\"type\":\"HoverTool\"},{\"attributes\":{\"overlay\":{\"id\":\"3454\"}},\"id\":\"3452\",\"type\":\"BoxZoomTool\"},{\"attributes\":{\"children\":[{\"id\":\"3573\"},{\"id\":\"3574\"},{\"id\":\"3576\"}],\"margin\":[0,0,0,0],\"name\":\"Column08722\"},\"id\":\"3572\",\"type\":\"Column\"},{\"attributes\":{\"children\":[{\"id\":\"3575\"}],\"css_classes\":[\"panel-widget-box\"],\"margin\":[5,5,5,5],\"name\":\"WidgetBox08715\"},\"id\":\"3574\",\"type\":\"Column\"},{\"attributes\":{\"below\":[{\"id\":\"3442\"}],\"center\":[{\"id\":\"3445\"},{\"id\":\"3448\"}],\"left\":[{\"id\":\"3446\"}],\"margin\":[5,5,5,5],\"min_border_bottom\":10,\"min_border_left\":10,\"min_border_right\":10,\"min_border_top\":10,\"plot_height\":500,\"plot_width\":1000,\"renderers\":[{\"id\":\"3476\"},{\"id\":\"3484\"}],\"sizing_mode\":\"fixed\",\"title\":{\"id\":\"3434\"},\"toolbar\":{\"id\":\"3455\"},\"x_range\":{\"id\":\"3429\"},\"x_scale\":{\"id\":\"3438\"},\"y_range\":{\"id\":\"3430\"},\"y_scale\":{\"id\":\"3440\"}},\"id\":\"3433\",\"subtype\":\"Figure\",\"type\":\"Plot\"},{\"attributes\":{\"factors\":[\"2868 38Th Ave 8\",\"155 Pearl St 204\",\"988 91St Ave\",\"945 Fletcher Ln B230\",\"9227 Hillside St 4\",\"39034 Guardino Dr 305\",\"707 Nevada St\",\"39149 Guardino Dr 156\",\"9715 Olive St\",\"25850 Kay Ave 231\",\"7412 Arthur St\",\"669 Clara St\",\"3428 Elmwood Ave\",\"1425 Lakeside Dr 206\",\"1027 76Th Ave\",\"7144 Holly St\",\"25938 Kay Ave 218\",\"9908 D St\",\"2762 Parker Ave\",\"1146 86Th Ave\",\"725 Essex Ct 193\",\"6608 Brann St\",\"822 Voyager Way 24\",\"1601 90Th Ave\",\"1400 Carpentier St 330\",\"21433 Gary Dr 3\",\"948 91St Ave\",\"20725 Marion St 8\",\"25700 University Ct 104\",\"9062 Palmera Ct\",\"496 Capistrano Dr\",\"39975 Cedar Blvd 139\",\"2558 14Th Ave\",\"6125 Bromley Ave\",\"3932 Edgemoor Pl\",\"9032 Palmera Ct\",\"22144 Montgomery St\",\"1063 D St\",\"41 Shasta St\",\"601 Willow St E\",\"4441 Callecita Ct\",\"2686 Oliver Dr\",\"650 Bergedo Dr\",\"325 Kitty Hawk Rd 304\",\"66 Fairmount Ave 110\",\"6400 Christie Ave 1107\",\"845 W Sunset Blvd A\",\"7201 Favor St\",\"1496 Adeline St\",\"545 Pierce St 2204\",\"6600 Brann St\",\"4113 Sugar Pine Way\",\"10326 Voltaire Ave\",\"3614 Green Acre Rd 8\",\"39078 Guardino Dr 111\",\"3177 Zuni Way\",\"3602 Green Acre Rd 2\",\"5939 Laird Ave\",\"2016 38Th Ave\",\"1828 Florida St\",\"27862 Bruno St\",\"337 Dolores Ave\",\"3604 Green Acre Rd 3\",\"27714 Seminole Way\",\"892 Grant Ave\",\"2300 Havenscourt Blvd\",\"6666 Brann St\",\"4354 Agena Cir\",\"2910 E 16Th St\",\"2702 99Th Ave\",\"1515 E 19Th St\",\"1470 Plaza Dr\",\"7835 Canyon Meadow Cir B\",\"4246 Miramonte Way\",\"44 Newhall St\",\"168 Laurel Ave\",\"7957 Greenly Dr\",\"35027 Lido Blvd\",\"6474 Outlook Ave\",\"27677 Miami Ave\",\"27828 Mandarin Ave\",\"6222 Boulder Ln 4909\",\"926 Ventura Ave\",\"22121 Moyers St\",\"32510 Endeavour Way\",\"3202 Nicol Ave\",\"6063 Old Quarry Loop\",\"513 F St\",\"40839 Ingersoll Ter\",\"17352 Via Carmen\",\"26318 Peterman Ave\",\"311 Oak St 509\",\"25891 Peterman Ave\",\"3489 Capoterra Way\",\"24746 Stone Ct\",\"1556 Manzanita Ave\",\"1511 Jefferson St 207\",\"26306 Adrian Ave\",\"16110 Via Media\",\"291 Farrelly Dr\",\"2744 Rawson St\",\"4536 Thompson St\",\"3442 Monterey Blvd\",\"3057 Modesto Ave\",\"1710 Myrtle St\",\"28285 Rochelle Ave\",\"5579 Oakmont Cir\",\"27493 Orlando Ave\",\"3061 Pleitner Ave\",\"1303 Hubbard Ave\",\"22735 Woodridge Dr\",\"1257 George Cir\",\"16770 Rolando Ave\",\"1726 Via Redondo\",\"3719 West St\",\"5671 Spry Cmn 9\",\"825 51St St\",\"782 Horton Ct\",\"5523 Fleming Ave\",\"3115 Bona St\",\"2422 Cedar St\",\"24877 Broadmore Ave\",\"3245 Kelly St\",\"1291 55Th St\",\"1351 Chapel Ave\",\"16066 Silverleaf Dr\",\"814 Evelyn Ave\",\"2764 Gamble Ct\",\"811 Mohawk Dr\",\"2684 73Rd Ave\",\"8483 Bandon Dr\",\"93 La Brea Ter\",\"1526 Glenn St\",\"36774 Munyan St\",\"3180 Chateau Way\",\"21287 Birch St\",\"4082 Polonius Cir\",\"5903 Sterling Greens Cir\",\"2525 College Ave 2\",\"1262 Linton St\",\"750 43Rd St\",\"7569 Brighton Dr\",\"3655 Malcolm Ave\",\"2727 Rawson St\",\"24471 Machado Ct\",\"29051 Rosecliff Ln\",\"1705 Chestnut St\",\"4616 Stauffer Pl\",\"4770 Tompkins Ave\",\"978 40Th St\",\"2132 Longview Dr\",\"938 Park St\",\"5133 Damiano Ct\",\"2218 Ashby Ave\",\"6193 Oakdale Ave\",\"3800 Sequoyah Rd\",\"2458 Early Rivers Pl\",\"948 39Th St\",\"3968 Turnley Ave\",\"21 Pembroke Ct\",\"19225 Lakeridge Rd\",\"1101 Peralta St\",\"1547 Kingsport Ave\",\"21601 Pheasant Woods Dr\",\"815 Arlington Ave\",\"1141 Bancroft Way\",\"1141 Straub Way\",\"4328 Edwards Ln\",\"4841 Shafter Ave\",\"1414 Fairview St\",\"11250 Elvessa St\",\"118 Lurene Dr\",\"1418 67Th St\",\"1920 College Ave\",\"1422 44Th Ave\",\"1616 11Th St\",\"38234 Parkmont Dr\",\"7721 Sunset Ave\",\"5163 Genovesio Dr\",\"2859 Sterne Pl\",\"5726 Shepherd Canyon Rd\",\"251 Rishell Dr\",\"4533 Santa Cruz Ct\",\"999 Panoramic Way\",\"38754 Almaden Pl\",\"4232 Oliver Way\",\"2989 Hedge Ct\",\"2975 Liberty Dr\",\"1531 Morton St\",\"1112 Kains Ave\",\"4989 Macarthur Blvd\",\"34329 Xanadu Ter\",\"1800 Blake St\",\"5468 Dekker Ter\",\"1257 Otis Dr\",\"15 Samaria Ln\",\"36124 Fanshawe Ct\",\"38 Kimberley Ct C\",\"5277 Flagg Ln\",\"29176 Marshbrook Dr\",\"5038 Colebrook Ct\",\"1632 Walnut St\",\"7555 Skyline Blvd\",\"4626 Ewing Rd\",\"43625 Southerland Way\",\"1919 Curtis St\",\"43673 Southerland Way\",\"8656 Macarthur Blvd\",\"6409 Hillegass Ave\",\"43936 Rosemere Dr\",\"130 El Cerrito Ave\",\"29 Armanino Ct\",\"5350 Bacon Rd\",\"11105 Sun Valley Dr\",\"6 Perth Pl\",\"33919 Milton St\",\"48867 Eagle View Ter\",\"5401 Claremont Ave\",\"726 Foxbrough Pl\",\"41965 Osgood Rd\",\"2409 College Ave\"],\"tags\":[[[\"Address\",\"Address\",null]]]},\"id\":\"3430\",\"type\":\"FactorRange\"},{\"attributes\":{},\"id\":\"3453\",\"type\":\"ResetTool\"},{\"attributes\":{\"axis\":{\"id\":\"3446\"},\"dimension\":1,\"grid_line_color\":null,\"ticker\":null},\"id\":\"3448\",\"type\":\"Grid\"},{\"attributes\":{\"axis_label\":\"Est Value and Equity\",\"bounds\":\"auto\",\"formatter\":{\"id\":\"3463\"},\"major_label_orientation\":\"horizontal\",\"ticker\":{\"id\":\"3443\"}},\"id\":\"3442\",\"type\":\"LinearAxis\"},{\"attributes\":{\"fill_alpha\":{\"value\":0.1},\"fill_color\":{\"value\":\"blue\"},\"height\":{\"value\":0.8},\"line_alpha\":{\"value\":0.1},\"right\":{\"field\":\"Est_Equity\"},\"y\":{\"field\":\"Address\"}},\"id\":\"3482\",\"type\":\"HBar\"},{\"attributes\":{\"fill_alpha\":{\"value\":0.1},\"fill_color\":{\"value\":\"orange\"},\"height\":{\"value\":0.8},\"line_alpha\":{\"value\":0.1},\"right\":{\"field\":\"Est_Value\"},\"y\":{\"field\":\"Address\"}},\"id\":\"3474\",\"type\":\"HBar\"},{\"attributes\":{},\"id\":\"3438\",\"type\":\"LinearScale\"},{\"attributes\":{\"fill_alpha\":{\"value\":0.2},\"fill_color\":{\"value\":\"orange\"},\"height\":{\"value\":0.8},\"line_alpha\":{\"value\":0.2},\"right\":{\"field\":\"Est_Value\"},\"y\":{\"field\":\"Address\"}},\"id\":\"3475\",\"type\":\"HBar\"},{\"attributes\":{\"data\":{\"Address\":[\"4328 Edwards Ln\",\"41965 Osgood Rd\",\"1351 Chapel Ave\",\"8656 Macarthur Blvd\",\"2409 College Ave\",\"1422 44Th Ave\",\"1919 Curtis St\",\"811 Mohawk Dr\",\"2684 73Rd Ave\",\"168 Laurel Ave\",\"2868 38Th Ave 8\",\"9227 Hillside St 4\",\"6666 Brann St\",\"6474 Outlook Ave\",\"11250 Elvessa St\",\"27828 Mandarin Ave\",\"1515 E 19Th St\",\"3061 Pleitner Ave\",\"19225 Lakeridge Rd\",\"1141 Straub Way\",\"2422 Cedar St\",\"325 Kitty Hawk Rd 304\",\"4082 Polonius Cir\",\"1920 College Ave\",\"1800 Blake St\",\"815 Arlington Ave\",\"1291 55Th St\",\"3202 Nicol Ave\",\"1710 Myrtle St\",\"513 F St\",\"496 Capistrano Dr\",\"926 Ventura Ave\",\"945 Fletcher Ln B230\",\"5277 Flagg Ln\",\"988 91St Ave\",\"2910 E 16Th St\",\"3428 Elmwood Ave\",\"4113 Sugar Pine Way\",\"1146 86Th Ave\",\"20725 Marion St 8\",\"7201 Favor St\",\"25938 Kay Ave 218\",\"27862 Bruno St\",\"1526 Glenn St\",\"725 Essex Ct 193\",\"1425 Lakeside Dr 206\",\"707 Nevada St\",\"669 Clara St\",\"9715 Olive St\",\"2300 Havenscourt Blvd\",\"4246 Miramonte Way\",\"948 91St Ave\",\"1400 Carpentier St 330\",\"845 W Sunset Blvd A\",\"1531 Morton St\",\"3932 Edgemoor Pl\",\"16770 Rolando Ave\",\"7412 Arthur St\",\"822 Voyager Way 24\",\"1556 Manzanita Ave\",\"21433 Gary Dr 3\",\"4536 Thompson St\",\"22121 Moyers St\",\"3968 Turnley Ave\",\"3245 Kelly St\",\"44 Newhall St\",\"1141 Bancroft Way\",\"5468 Dekker Ter\",\"27714 Seminole Way\",\"10326 Voltaire Ave\",\"3442 Monterey Blvd\",\"1262 Linton St\",\"66 Fairmount Ave 110\",\"782 Horton Ct\",\"43673 Southerland Way\",\"39078 Guardino Dr 111\",\"1601 90Th Ave\",\"4626 Ewing Rd\",\"3177 Zuni Way\",\"9032 Palmera Ct\",\"22144 Montgomery St\",\"1101 Peralta St\",\"9908 D St\",\"4354 Agena Cir\",\"39034 Guardino Dr 305\",\"1063 D St\",\"601 Willow St E\",\"3489 Capoterra Way\",\"1257 George Cir\",\"4770 Tompkins Ave\",\"4441 Callecita Ct\",\"291 Farrelly Dr\",\"17352 Via Carmen\",\"1616 11Th St\",\"4616 Stauffer Pl\",\"25850 Kay Ave 231\",\"28285 Rochelle Ave\",\"1828 Florida St\",\"29176 Marshbrook Dr\",\"1511 Jefferson St 207\",\"7957 Greenly Dr\",\"2218 Ashby Ave\",\"16066 Silverleaf Dr\",\"7144 Holly St\",\"24877 Broadmore Ave\",\"9062 Palmera Ct\",\"38 Kimberley Ct C\",\"93 La Brea Ter\",\"155 Pearl St 204\",\"1418 67Th St\",\"1470 Plaza Dr\",\"3057 Modesto Ave\",\"27493 Orlando Ave\",\"29051 Rosecliff Ln\",\"1705 Chestnut St\",\"6222 Boulder Ln 4909\",\"2764 Gamble Ct\",\"26318 Peterman Ave\",\"32510 Endeavour Way\",\"1726 Via Redondo\",\"39149 Guardino Dr 156\",\"26306 Adrian Ave\",\"7569 Brighton Dr\",\"35027 Lido Blvd\",\"1027 76Th Ave\",\"16110 Via Media\",\"2762 Parker Ave\",\"6608 Brann St\",\"814 Evelyn Ave\",\"3719 West St\",\"24471 Machado Ct\",\"39975 Cedar Blvd 139\",\"8483 Bandon Dr\",\"25700 University Ct 104\",\"4533 Santa Cruz Ct\",\"43936 Rosemere Dr\",\"36124 Fanshawe Ct\",\"6063 Old Quarry Loop\",\"5579 Oakmont Cir\",\"2558 14Th Ave\",\"6600 Brann St\",\"6125 Bromley Ave\",\"2686 Oliver Dr\",\"21601 Pheasant Woods Dr\",\"41 Shasta St\",\"22735 Woodridge Dr\",\"650 Bergedo Dr\",\"892 Grant Ave\",\"2458 Early Rivers Pl\",\"545 Pierce St 2204\",\"15 Samaria Ln\",\"36774 Munyan St\",\"4232 Oliver Way\",\"1303 Hubbard Ave\",\"6400 Christie Ave 1107\",\"2016 38Th Ave\",\"1496 Adeline St\",\"5671 Spry Cmn 9\",\"311 Oak St 509\",\"3180 Chateau Way\",\"2744 Rawson St\",\"3614 Green Acre Rd 8\",\"3602 Green Acre Rd 2\",\"5939 Laird Ave\",\"337 Dolores Ave\",\"3604 Green Acre Rd 3\",\"948 39Th St\",\"2702 99Th Ave\",\"7835 Canyon Meadow Cir B\",\"38234 Parkmont Dr\",\"27677 Miami Ave\",\"7721 Sunset Ave\",\"4989 Macarthur Blvd\",\"978 40Th St\",\"5163 Genovesio Dr\",\"33919 Milton St\",\"999 Panoramic Way\",\"40839 Ingersoll Ter\",\"38754 Almaden Pl\",\"938 Park St\",\"25891 Peterman Ave\",\"24746 Stone Ct\",\"5523 Fleming Ave\",\"5903 Sterling Greens Cir\",\"5133 Damiano Ct\",\"5726 Shepherd Canyon Rd\",\"825 51St St\",\"3115 Bona St\",\"2975 Liberty Dr\",\"21287 Birch St\",\"251 Rishell Dr\",\"2525 College Ave 2\",\"750 43Rd St\",\"3655 Malcolm Ave\",\"2727 Rawson St\",\"1632 Walnut St\",\"2132 Longview Dr\",\"6193 Oakdale Ave\",\"3800 Sequoyah Rd\",\"1414 Fairview St\",\"2859 Sterne Pl\",\"4841 Shafter Ave\",\"1257 Otis Dr\",\"21 Pembroke Ct\",\"1547 Kingsport Ave\",\"118 Lurene Dr\",\"2989 Hedge Ct\",\"5038 Colebrook Ct\",\"11105 Sun Valley Dr\",\"34329 Xanadu Ter\",\"1112 Kains Ave\",\"6409 Hillegass Ave\",\"43625 Southerland Way\",\"29 Armanino Ct\",\"130 El Cerrito Ave\",\"7555 Skyline Blvd\",\"5350 Bacon Rd\",\"48867 Eagle View Ter\",\"6 Perth Pl\",\"5401 Claremont Ave\",\"726 Foxbrough Pl\"],\"Est_Equity\":{\"__ndarray__\":\"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\",\"dtype\":\"float64\",\"order\":\"little\",\"shape\":[221]}},\"selected\":{\"id\":\"3479\"},\"selection_policy\":{\"id\":\"3493\"}},\"id\":\"3478\",\"type\":\"ColumnDataSource\"},{\"attributes\":{\"margin\":[5,5,5,5],\"name\":\"HSpacer08724\",\"sizing_mode\":\"stretch_width\"},\"id\":\"3571\",\"type\":\"Spacer\"},{\"attributes\":{\"text\":\"Estimated Value and Equity comparison by County\",\"text_color\":{\"value\":\"black\"},\"text_font_size\":{\"value\":\"12pt\"}},\"id\":\"3434\",\"type\":\"Title\"},{\"attributes\":{},\"id\":\"3443\",\"type\":\"BasicTicker\"},{\"attributes\":{\"source\":{\"id\":\"3470\"}},\"id\":\"3477\",\"type\":\"CDSView\"},{\"attributes\":{\"margin\":[20,20,20,20],\"min_width\":250,\"options\":[\"Alameda\",\"San Mateo\",\"Santa Clara\",\"San Francisco\",\"Solano\",\"Marin\",\"Sonoma\",\"Contra Costa\",\"Napa\"],\"title\":\"County\",\"value\":\"Alameda\",\"width\":250},\"id\":\"3575\",\"type\":\"Select\"},{\"attributes\":{\"margin\":[5,5,5,5],\"name\":\"HSpacer08723\",\"sizing_mode\":\"stretch_width\"},\"id\":\"3428\",\"type\":\"Spacer\"},{\"attributes\":{\"data_source\":{\"id\":\"3470\"},\"glyph\":{\"id\":\"3473\"},\"hover_glyph\":null,\"muted_glyph\":{\"id\":\"3475\"},\"nonselection_glyph\":{\"id\":\"3474\"},\"selection_glyph\":null,\"view\":{\"id\":\"3477\"}},\"id\":\"3476\",\"type\":\"GlyphRenderer\"},{\"attributes\":{\"end\":9010799.4,\"reset_end\":9010799.4,\"reset_start\":-64633157.4,\"start\":-64633157.4,\"tags\":[[[\"Est Value\",\"Est Value\",null]]]},\"id\":\"3429\",\"type\":\"Range1d\"},{\"attributes\":{\"axis\":{\"id\":\"3442\"},\"grid_line_color\":null,\"ticker\":null},\"id\":\"3445\",\"type\":\"Grid\"},{\"attributes\":{\"children\":[{\"id\":\"3428\"},{\"id\":\"3433\"},{\"id\":\"3571\"},{\"id\":\"3572\"}],\"margin\":[0,0,0,0],\"name\":\"Row08714\"},\"id\":\"3427\",\"type\":\"Row\"},{\"attributes\":{},\"id\":\"3447\",\"type\":\"CategoricalTicker\"},{\"attributes\":{\"axis_label\":\"Address\",\"bounds\":\"auto\",\"formatter\":{\"id\":\"3468\"},\"major_label_orientation\":\"horizontal\",\"ticker\":{\"id\":\"3447\"}},\"id\":\"3446\",\"type\":\"CategoricalAxis\"},{\"attributes\":{},\"id\":\"3468\",\"type\":\"CategoricalTickFormatter\"},{\"attributes\":{\"data\":{\"Address\":[\"2868 38Th Ave 8\",\"155 Pearl St 204\",\"988 91St Ave\",\"945 Fletcher Ln B230\",\"9227 Hillside St 4\",\"39034 Guardino Dr 305\",\"707 Nevada St\",\"39149 Guardino Dr 156\",\"9715 Olive St\",\"25850 Kay Ave 231\",\"7412 Arthur St\",\"669 Clara St\",\"3428 Elmwood Ave\",\"1425 Lakeside Dr 206\",\"1027 76Th Ave\",\"7144 Holly St\",\"25938 Kay Ave 218\",\"9908 D St\",\"2762 Parker Ave\",\"1146 86Th Ave\",\"725 Essex Ct 193\",\"6608 Brann St\",\"822 Voyager Way 24\",\"1601 90Th Ave\",\"1400 Carpentier St 330\",\"21433 Gary Dr 3\",\"948 91St Ave\",\"20725 Marion St 8\",\"25700 University Ct 104\",\"9062 Palmera Ct\",\"496 Capistrano Dr\",\"39975 Cedar Blvd 139\",\"2558 14Th Ave\",\"6125 Bromley Ave\",\"3932 Edgemoor Pl\",\"9032 Palmera Ct\",\"22144 Montgomery St\",\"1063 D St\",\"41 Shasta St\",\"601 Willow St E\",\"4441 Callecita Ct\",\"2686 Oliver Dr\",\"650 Bergedo Dr\",\"325 Kitty Hawk Rd 304\",\"66 Fairmount Ave 110\",\"6400 Christie Ave 1107\",\"845 W Sunset Blvd A\",\"7201 Favor St\",\"1496 Adeline St\",\"545 Pierce St 2204\",\"6600 Brann St\",\"4113 Sugar Pine Way\",\"10326 Voltaire Ave\",\"3614 Green Acre Rd 8\",\"39078 Guardino Dr 111\",\"3177 Zuni Way\",\"3602 Green Acre Rd 2\",\"5939 Laird Ave\",\"2016 38Th Ave\",\"1828 Florida St\",\"27862 Bruno St\",\"337 Dolores Ave\",\"3604 Green Acre Rd 3\",\"27714 Seminole Way\",\"892 Grant Ave\",\"2300 Havenscourt Blvd\",\"6666 Brann St\",\"4354 Agena Cir\",\"2910 E 16Th St\",\"2702 99Th Ave\",\"1515 E 19Th St\",\"1470 Plaza Dr\",\"7835 Canyon Meadow Cir B\",\"4246 Miramonte Way\",\"44 Newhall St\",\"168 Laurel Ave\",\"7957 Greenly Dr\",\"35027 Lido Blvd\",\"6474 Outlook Ave\",\"27677 Miami Ave\",\"27828 Mandarin Ave\",\"6222 Boulder Ln 4909\",\"926 Ventura Ave\",\"22121 Moyers St\",\"32510 Endeavour Way\",\"3202 Nicol Ave\",\"6063 Old Quarry Loop\",\"513 F St\",\"40839 Ingersoll Ter\",\"17352 Via Carmen\",\"26318 Peterman Ave\",\"311 Oak St 509\",\"25891 Peterman Ave\",\"3489 Capoterra Way\",\"24746 Stone Ct\",\"1556 Manzanita Ave\",\"1511 Jefferson St 207\",\"26306 Adrian Ave\",\"16110 Via Media\",\"291 Farrelly Dr\",\"2744 Rawson St\",\"4536 Thompson St\",\"3442 Monterey Blvd\",\"3057 Modesto Ave\",\"1710 Myrtle St\",\"28285 Rochelle Ave\",\"5579 Oakmont Cir\",\"27493 Orlando Ave\",\"3061 Pleitner Ave\",\"1303 Hubbard Ave\",\"22735 Woodridge Dr\",\"1257 George Cir\",\"16770 Rolando Ave\",\"1726 Via Redondo\",\"3719 West St\",\"5671 Spry Cmn 9\",\"825 51St St\",\"782 Horton Ct\",\"5523 Fleming Ave\",\"3115 Bona St\",\"2422 Cedar St\",\"24877 Broadmore Ave\",\"3245 Kelly St\",\"1291 55Th St\",\"1351 Chapel Ave\",\"16066 Silverleaf Dr\",\"814 Evelyn Ave\",\"2764 Gamble Ct\",\"811 Mohawk Dr\",\"2684 73Rd Ave\",\"8483 Bandon Dr\",\"93 La Brea Ter\",\"1526 Glenn St\",\"36774 Munyan St\",\"3180 Chateau Way\",\"21287 Birch St\",\"4082 Polonius Cir\",\"5903 Sterling Greens Cir\",\"2525 College Ave 2\",\"1262 Linton St\",\"750 43Rd St\",\"7569 Brighton Dr\",\"3655 Malcolm Ave\",\"2727 Rawson St\",\"24471 Machado Ct\",\"29051 Rosecliff Ln\",\"1705 Chestnut St\",\"4616 Stauffer Pl\",\"4770 Tompkins Ave\",\"978 40Th St\",\"2132 Longview Dr\",\"938 Park St\",\"5133 Damiano Ct\",\"2218 Ashby Ave\",\"6193 Oakdale Ave\",\"3800 Sequoyah Rd\",\"2458 Early Rivers Pl\",\"948 39Th St\",\"3968 Turnley Ave\",\"21 Pembroke Ct\",\"19225 Lakeridge Rd\",\"1101 Peralta St\",\"1547 Kingsport Ave\",\"21601 Pheasant Woods Dr\",\"815 Arlington Ave\",\"1141 Bancroft Way\",\"1141 Straub Way\",\"4328 Edwards Ln\",\"4841 Shafter Ave\",\"1414 Fairview St\",\"11250 Elvessa St\",\"118 Lurene Dr\",\"1418 67Th St\",\"1920 College Ave\",\"1422 44Th Ave\",\"1616 11Th St\",\"38234 Parkmont Dr\",\"7721 Sunset Ave\",\"5163 Genovesio Dr\",\"2859 Sterne Pl\",\"5726 Shepherd Canyon Rd\",\"251 Rishell Dr\",\"4533 Santa Cruz Ct\",\"999 Panoramic Way\",\"38754 Almaden Pl\",\"4232 Oliver Way\",\"2989 Hedge Ct\",\"2975 Liberty Dr\",\"1531 Morton St\",\"1112 Kains Ave\",\"4989 Macarthur Blvd\",\"34329 Xanadu Ter\",\"1800 Blake St\",\"5468 Dekker Ter\",\"1257 Otis Dr\",\"15 Samaria Ln\",\"36124 Fanshawe Ct\",\"38 Kimberley Ct C\",\"5277 Flagg Ln\",\"29176 Marshbrook Dr\",\"5038 Colebrook Ct\",\"1632 Walnut St\",\"7555 Skyline Blvd\",\"4626 Ewing Rd\",\"43625 Southerland Way\",\"1919 Curtis St\",\"43673 Southerland Way\",\"8656 Macarthur Blvd\",\"6409 Hillegass Ave\",\"43936 Rosemere Dr\",\"130 El Cerrito Ave\",\"29 Armanino Ct\",\"5350 Bacon Rd\",\"11105 Sun Valley Dr\",\"6 Perth Pl\",\"33919 Milton St\",\"48867 Eagle View Ter\",\"5401 Claremont Ave\",\"726 Foxbrough Pl\",\"41965 Osgood Rd\",\"2409 College Ave\"],\"Est_Value\":{\"__ndarray__\":\"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\",\"dtype\":\"float64\",\"order\":\"little\",\"shape\":[221]}},\"selected\":{\"id\":\"3471\"},\"selection_policy\":{\"id\":\"3491\"}},\"id\":\"3470\",\"type\":\"ColumnDataSource\"},{\"attributes\":{},\"id\":\"3491\",\"type\":\"UnionRenderers\"},{\"attributes\":{},\"id\":\"3440\",\"type\":\"CategoricalScale\"},{\"attributes\":{},\"id\":\"3493\",\"type\":\"UnionRenderers\"},{\"attributes\":{\"margin\":[5,5,5,5],\"name\":\"VSpacer08720\",\"sizing_mode\":\"stretch_height\"},\"id\":\"3573\",\"type\":\"Spacer\"},{\"attributes\":{\"bottom_units\":\"screen\",\"fill_alpha\":0.5,\"fill_color\":\"lightgrey\",\"left_units\":\"screen\",\"level\":\"overlay\",\"line_alpha\":1.0,\"line_color\":\"black\",\"line_dash\":[4,4],\"line_width\":2,\"right_units\":\"screen\",\"top_units\":\"screen\"},\"id\":\"3454\",\"type\":\"BoxAnnotation\"},{\"attributes\":{\"active_drag\":\"auto\",\"active_inspect\":\"auto\",\"active_multi\":null,\"active_scroll\":\"auto\",\"active_tap\":\"auto\",\"tools\":[{\"id\":\"3431\"},{\"id\":\"3432\"},{\"id\":\"3449\"},{\"id\":\"3450\"},{\"id\":\"3451\"},{\"id\":\"3452\"},{\"id\":\"3453\"}]},\"id\":\"3455\",\"type\":\"Toolbar\"},{\"attributes\":{\"fill_color\":{\"value\":\"blue\"},\"height\":{\"value\":0.8},\"right\":{\"field\":\"Est_Equity\"},\"y\":{\"field\":\"Address\"}},\"id\":\"3481\",\"type\":\"HBar\"},{\"attributes\":{\"client_comm_id\":\"27291e8f6b7a42cb8f4580c6645fce8c\",\"comm_id\":\"8682a4b4e2a94448b2f0500f59304cc3\",\"plot_id\":\"3427\"},\"id\":\"3604\",\"type\":\"panel.models.comm_manager.CommManager\"},{\"attributes\":{\"format\":\"%.0f\"},\"id\":\"3463\",\"type\":\"PrintfTickFormatter\"},{\"attributes\":{\"fill_color\":{\"value\":\"orange\"},\"height\":{\"value\":0.8},\"right\":{\"field\":\"Est_Value\"},\"y\":{\"field\":\"Address\"}},\"id\":\"3473\",\"type\":\"HBar\"},{\"attributes\":{},\"id\":\"3449\",\"type\":\"SaveTool\"},{\"attributes\":{},\"id\":\"3471\",\"type\":\"Selection\"},{\"attributes\":{},\"id\":\"3479\",\"type\":\"Selection\"},{\"attributes\":{\"margin\":[5,5,5,5],\"name\":\"VSpacer08721\",\"sizing_mode\":\"stretch_height\"},\"id\":\"3576\",\"type\":\"Spacer\"},{\"attributes\":{\"fill_alpha\":{\"value\":0.2},\"fill_color\":{\"value\":\"blue\"},\"height\":{\"value\":0.8},\"line_alpha\":{\"value\":0.2},\"right\":{\"field\":\"Est_Equity\"},\"y\":{\"field\":\"Address\"}},\"id\":\"3483\",\"type\":\"HBar\"},{\"attributes\":{},\"id\":\"3450\",\"type\":\"PanTool\"},{\"attributes\":{},\"id\":\"3451\",\"type\":\"WheelZoomTool\"},{\"attributes\":{\"source\":{\"id\":\"3478\"}},\"id\":\"3485\",\"type\":\"CDSView\"}],\"root_ids\":[\"3427\",\"3604\"]},\"title\":\"Bokeh Application\",\"version\":\"2.2.3\"}};\n",
       "    var render_items = [{\"docid\":\"6e809614-8570-4275-8784-55c3cbd45cdc\",\"root_ids\":[\"3427\"],\"roots\":{\"3427\":\"064d64c5-7e5c-4623-b2e4-9dd5aa50a8bf\"}}];\n",
       "    root.Bokeh.embed.embed_items_notebook(docs_json, render_items);\n",
       "  }\n",
       "  if (root.Bokeh !== undefined && root.Bokeh.Panel !== undefined) {\n",
       "    embed_document(root);\n",
       "  } else {\n",
       "    var attempts = 0;\n",
       "    var timer = setInterval(function(root) {\n",
       "      if (root.Bokeh !== undefined && root.Bokeh.Panel !== undefined) {\n",
       "        clearInterval(timer);\n",
       "        embed_document(root);\n",
       "      } else if (document.readyState == \"complete\") {\n",
       "        attempts++;\n",
       "        if (attempts > 100) {\n",
       "          clearInterval(timer);\n",
       "          console.log(\"Bokeh: ERROR: Unable to run BokehJS code because BokehJS library is missing\");\n",
       "        }\n",
       "      }\n",
       "    }, 10, root)\n",
       "  }\n",
       "})(window);</script>"
      ],
      "text/plain": [
       ":DynamicMap   [County]\n",
       "   :Overlay\n",
       "      .Bars.I  :Bars   [Address]   (Est Value)\n",
       "      .Bars.II :Bars   [Address]   (Est Equity)"
      ]
     },
     "execution_count": 43,
     "metadata": {
      "application/vnd.holoviews_exec.v0+json": {
       "id": "3427"
      }
     },
     "output_type": "execute_result"
    }
   ],
   "source": [
    "overlay_plot_county =  foreclosure_value_plot_county * foreclosure_equity_plot_county\n",
    "\n",
    "# Style the operlay plot\n",
    "overlay_plot_county.opts(\n",
    "    title=\"Estimated Value and Equity comparison by County\", \n",
    "    ylabel=\"Est Value and Equity\", \n",
    "    width=1000, \n",
    "    height=500,\n",
    ")"
   ]
  },
  {
   "cell_type": "code",
   "execution_count": 45,
   "metadata": {},
   "outputs": [
    {
     "data": {},
     "metadata": {},
     "output_type": "display_data"
    },
    {
     "data": {
      "application/vnd.holoviews_exec.v0+json": "",
      "text/html": [
       "<div id='3786'>\n",
       "\n",
       "\n",
       "\n",
       "\n",
       "\n",
       "  <div class=\"bk-root\" id=\"3cd6fb76-2a6e-4091-8059-192d1417c256\" data-root-id=\"3786\"></div>\n",
       "</div>\n",
       "<script type=\"application/javascript\">(function(root) {\n",
       "  function embed_document(root) {\n",
       "    var docs_json = {\"ec9cdb72-1b0b-408d-a599-34dd8e78e78e\":{\"roots\":{\"references\":[{\"attributes\":{},\"id\":\"3802\",\"type\":\"BasicTicker\"},{\"attributes\":{\"margin\":[5,5,5,5],\"name\":\"HSpacer09770\",\"sizing_mode\":\"stretch_width\"},\"id\":\"3930\",\"type\":\"Spacer\"},{\"attributes\":{\"axis\":{\"id\":\"3801\"},\"grid_line_color\":null,\"ticker\":null},\"id\":\"3804\",\"type\":\"Grid\"},{\"attributes\":{\"source\":{\"id\":\"3837\"}},\"id\":\"3844\",\"type\":\"CDSView\"},{\"attributes\":{},\"id\":\"3830\",\"type\":\"Selection\"},{\"attributes\":{},\"id\":\"3806\",\"type\":\"CategoricalTicker\"},{\"attributes\":{},\"id\":\"3850\",\"type\":\"UnionRenderers\"},{\"attributes\":{\"client_comm_id\":\"ebb7044be30845b18fd2efc8501eab04\",\"comm_id\":\"a46a828ce4f94fa0aa8ede3c91b77548\",\"plot_id\":\"3786\"},\"id\":\"3963\",\"type\":\"panel.models.comm_manager.CommManager\"},{\"attributes\":{\"axis_label\":\"Address\",\"bounds\":\"auto\",\"formatter\":{\"id\":\"3827\"},\"major_label_orientation\":\"horizontal\",\"ticker\":{\"id\":\"3806\"}},\"id\":\"3805\",\"type\":\"CategoricalAxis\"},{\"attributes\":{\"children\":[{\"id\":\"3932\"},{\"id\":\"3933\"},{\"id\":\"3935\"}],\"margin\":[0,0,0,0],\"name\":\"Column09768\"},\"id\":\"3931\",\"type\":\"Column\"},{\"attributes\":{\"data_source\":{\"id\":\"3837\"},\"glyph\":{\"id\":\"3840\"},\"hover_glyph\":null,\"muted_glyph\":{\"id\":\"3842\"},\"nonselection_glyph\":{\"id\":\"3841\"},\"selection_glyph\":null,\"view\":{\"id\":\"3844\"}},\"id\":\"3843\",\"type\":\"GlyphRenderer\"},{\"attributes\":{\"end\":7887146.100000001,\"reset_end\":7887146.100000001,\"reset_start\":-64531007.1,\"start\":-64531007.1,\"tags\":[[[\"Est Value\",\"Est Value\",null]]]},\"id\":\"3788\",\"type\":\"Range1d\"},{\"attributes\":{\"below\":[{\"id\":\"3801\"}],\"center\":[{\"id\":\"3804\"},{\"id\":\"3807\"}],\"left\":[{\"id\":\"3805\"}],\"margin\":[5,5,5,5],\"min_border_bottom\":10,\"min_border_left\":10,\"min_border_right\":10,\"min_border_top\":10,\"plot_height\":500,\"plot_width\":1000,\"renderers\":[{\"id\":\"3835\"},{\"id\":\"3843\"}],\"sizing_mode\":\"fixed\",\"title\":{\"id\":\"3793\"},\"toolbar\":{\"id\":\"3814\"},\"x_range\":{\"id\":\"3788\"},\"x_scale\":{\"id\":\"3797\"},\"y_range\":{\"id\":\"3789\"},\"y_scale\":{\"id\":\"3799\"}},\"id\":\"3792\",\"subtype\":\"Figure\",\"type\":\"Plot\"},{\"attributes\":{\"margin\":[5,5,5,5],\"name\":\"HSpacer09769\",\"sizing_mode\":\"stretch_width\"},\"id\":\"3787\",\"type\":\"Spacer\"},{\"attributes\":{\"bottom_units\":\"screen\",\"fill_alpha\":0.5,\"fill_color\":\"lightgrey\",\"left_units\":\"screen\",\"level\":\"overlay\",\"line_alpha\":1.0,\"line_color\":\"black\",\"line_dash\":[4,4],\"line_width\":2,\"right_units\":\"screen\",\"top_units\":\"screen\"},\"id\":\"3813\",\"type\":\"BoxAnnotation\"},{\"attributes\":{\"format\":\"%.0f\"},\"id\":\"3822\",\"type\":\"PrintfTickFormatter\"},{\"attributes\":{\"data\":{\"Address\":[\"4328 Edwards Ln\",\"19225 Lakeridge Rd\",\"22121 Moyers St\",\"4626 Ewing Rd\",\"21601 Pheasant Woods Dr\"],\"Est_Equity\":{\"__ndarray__\":\"AAAACKXki8EAAAAAQPrUQAAAAAAwAQ9BAAAAAAijEkEAAAAAxNshQQ==\",\"dtype\":\"float64\",\"order\":\"little\",\"shape\":[5]}},\"selected\":{\"id\":\"3838\"},\"selection_policy\":{\"id\":\"3852\"}},\"id\":\"3837\",\"type\":\"ColumnDataSource\"},{\"attributes\":{\"fill_alpha\":{\"value\":0.2},\"fill_color\":{\"value\":\"blue\"},\"height\":{\"value\":0.8},\"line_alpha\":{\"value\":0.2},\"right\":{\"field\":\"Est_Equity\"},\"y\":{\"field\":\"Address\"}},\"id\":\"3842\",\"type\":\"HBar\"},{\"attributes\":{\"callback\":null,\"renderers\":[{\"id\":\"3835\"}],\"tags\":[\"hv_created\"],\"tooltips\":[[\"Address\",\"@{Address}\"],[\"Est Value\",\"@{Est_Value}\"]]},\"id\":\"3790\",\"type\":\"HoverTool\"},{\"attributes\":{\"margin\":[5,5,5,5],\"name\":\"VSpacer09766\",\"sizing_mode\":\"stretch_height\"},\"id\":\"3932\",\"type\":\"Spacer\"},{\"attributes\":{\"fill_color\":{\"value\":\"orange\"},\"height\":{\"value\":0.8},\"right\":{\"field\":\"Est_Value\"},\"y\":{\"field\":\"Address\"}},\"id\":\"3832\",\"type\":\"HBar\"},{\"attributes\":{\"fill_alpha\":{\"value\":0.1},\"fill_color\":{\"value\":\"blue\"},\"height\":{\"value\":0.8},\"line_alpha\":{\"value\":0.1},\"right\":{\"field\":\"Est_Equity\"},\"y\":{\"field\":\"Address\"}},\"id\":\"3841\",\"type\":\"HBar\"},{\"attributes\":{\"margin\":[5,5,5,5],\"name\":\"VSpacer09767\",\"sizing_mode\":\"stretch_height\"},\"id\":\"3935\",\"type\":\"Spacer\"},{\"attributes\":{},\"id\":\"3808\",\"type\":\"SaveTool\"},{\"attributes\":{},\"id\":\"3852\",\"type\":\"UnionRenderers\"},{\"attributes\":{\"callback\":null,\"renderers\":[{\"id\":\"3843\"}],\"tags\":[\"hv_created\"],\"tooltips\":[[\"Address\",\"@{Address}\"],[\"Est Equity\",\"@{Est_Equity}\"]]},\"id\":\"3791\",\"type\":\"HoverTool\"},{\"attributes\":{\"fill_alpha\":{\"value\":0.2},\"fill_color\":{\"value\":\"orange\"},\"height\":{\"value\":0.8},\"line_alpha\":{\"value\":0.2},\"right\":{\"field\":\"Est_Value\"},\"y\":{\"field\":\"Address\"}},\"id\":\"3834\",\"type\":\"HBar\"},{\"attributes\":{},\"id\":\"3809\",\"type\":\"PanTool\"},{\"attributes\":{},\"id\":\"3827\",\"type\":\"CategoricalTickFormatter\"},{\"attributes\":{\"margin\":[20,20,20,20],\"min_width\":250,\"options\":[\"CASTRO VALLEY\",\"ATHERTON\",\"MORGAN HILL\",\"SAN FRANCISCO\",\"FREMONT\",\"GILROY\",\"VALLEJO\",\"SAN LEANDRO\",\"WOODSIDE\",\"BELVEDERE\",\"LOS ALTOS HILLS\",\"NOVATO\",\"PALO ALTO\",\"MOUNTAIN VIEW\",\"HILLSBOROUGH\",\"OAKLAND\",\"SANTA ROSA\",\"CONCORD\",\"GREENBRAE\",\"ORINDA\",\"LOS GATOS\",\"SAN RAFAEL\",\"BERKELEY\",\"CLOVERDALE\",\"SEBASTOPOL\",\"ANTIOCH\",\"DANVILLE\",\"WALNUT CREEK\",\"SAN MATEO\",\"SAN JOSE\",\"LIVERMORE\",\"VACAVILLE\",\"PLEASANT HILL\",\"AMERICAN CANYON\",\"FAIRFIELD\",\"HAYWARD\",\"SUISUN CITY\",\"SAN PABLO\",\"MONTE SERENO\",\"RIO VISTA\",\"SARATOGA\",\"SOUTH SAN FRANCISCO\",\"PITTSBURG\",\"DALY CITY\",\"DIXON\",\"SAN RAMON\",\"DISCOVERY BAY\",\"NAPA\",\"EL SOBRANTE\",\"ALAMEDA\",\"SANTA CLARA\",\"PETALUMA\",\"SUNNYVALE\",\"SONOMA\",\"RICHMOND\",\"BENICIA\",\"OAKLEY\",\"ROHNERT PARK\",\"EMERYVILLE\",\"PINOLE\",\"UNION CITY\",\"BRENTWOOD\",\"COTATI\",\"GUERNEVILLE\",\"MORAGA\",\"TIBURON\",\"CAMPBELL\",\"HERCULES\",\"MILPITAS\",\"EAST PALO ALTO\",\"MARTINEZ\",\"WINDSOR\",\"OCCIDENTAL\",\"SAN LORENZO\",\"RODEO\",\"HEALDSBURG\",\"PLEASANTON\",\"LAFAYETTE\",\"PACHECO\",\"DUBLIN\",\"RIO NIDO\",\"PACIFICA\",\"FOSTER CITY\",\"SAN BRUNO\",\"CALISTOGA\",\"EL CERRITO\",\"FAIRFAX\",\"FORESTVILLE\",\"PESCADERO\",\"MILL VALLEY\",\"NEWARK\",\"LARKSPUR\",\"CLAYTON\",\"ALBANY\",\"BOLINAS\",\"REDWOOD CITY\",\"MONTARA\",\"MOSS BEACH\",\"DILLON BEACH\",\"SAN ANSELMO\",\"CUPERTINO\",\"SAN MARTIN\",\"THE SEA RANCH\",\"ALAMO\",\"PENNGROVE\",\"ALVISO\",\"MILLBRAE\",\"BRISBANE\",\"CORTE MADERA\",\"LOS ALTOS\",\"BURLINGAME\",\"BELVEDERE TIBURON\",\"BELMONT\",\"HALF MOON BAY\",\"SAN CARLOS\",\"KENSINGTON\",\"EL GRANADA\",\"MENLO PARK\",\"PIEDMONT\",\"ANGWIN\",\"SAINT HELENA\"],\"title\":\"City\",\"value\":\"CASTRO VALLEY\",\"width\":250},\"id\":\"3934\",\"type\":\"Select\"},{\"attributes\":{\"source\":{\"id\":\"3829\"}},\"id\":\"3836\",\"type\":\"CDSView\"},{\"attributes\":{},\"id\":\"3810\",\"type\":\"WheelZoomTool\"},{\"attributes\":{\"fill_alpha\":{\"value\":0.1},\"fill_color\":{\"value\":\"orange\"},\"height\":{\"value\":0.8},\"line_alpha\":{\"value\":0.1},\"right\":{\"field\":\"Est_Value\"},\"y\":{\"field\":\"Address\"}},\"id\":\"3833\",\"type\":\"HBar\"},{\"attributes\":{},\"id\":\"3812\",\"type\":\"ResetTool\"},{\"attributes\":{\"children\":[{\"id\":\"3787\"},{\"id\":\"3792\"},{\"id\":\"3930\"},{\"id\":\"3931\"}],\"margin\":[0,0,0,0],\"name\":\"Row09760\"},\"id\":\"3786\",\"type\":\"Row\"},{\"attributes\":{\"fill_color\":{\"value\":\"blue\"},\"height\":{\"value\":0.8},\"right\":{\"field\":\"Est_Equity\"},\"y\":{\"field\":\"Address\"}},\"id\":\"3840\",\"type\":\"HBar\"},{\"attributes\":{\"factors\":[\"22121 Moyers St\",\"19225 Lakeridge Rd\",\"21601 Pheasant Woods Dr\",\"4328 Edwards Ln\",\"4626 Ewing Rd\"],\"tags\":[[[\"Address\",\"Address\",null]]]},\"id\":\"3789\",\"type\":\"FactorRange\"},{\"attributes\":{\"data_source\":{\"id\":\"3829\"},\"glyph\":{\"id\":\"3832\"},\"hover_glyph\":null,\"muted_glyph\":{\"id\":\"3834\"},\"nonselection_glyph\":{\"id\":\"3833\"},\"selection_glyph\":null,\"view\":{\"id\":\"3836\"}},\"id\":\"3835\",\"type\":\"GlyphRenderer\"},{\"attributes\":{},\"id\":\"3799\",\"type\":\"CategoricalScale\"},{\"attributes\":{\"overlay\":{\"id\":\"3813\"}},\"id\":\"3811\",\"type\":\"BoxZoomTool\"},{\"attributes\":{\"data\":{\"Address\":[\"22121 Moyers St\",\"19225 Lakeridge Rd\",\"21601 Pheasant Woods Dr\",\"4328 Edwards Ln\",\"4626 Ewing Rd\"],\"Est_Value\":{\"__ndarray__\":\"AAAAAGDKJkEAAAAAmIkwQQAAAACApjBBAAAAANQuMUEAAAAAjEM8QQ==\",\"dtype\":\"float64\",\"order\":\"little\",\"shape\":[5]}},\"selected\":{\"id\":\"3830\"},\"selection_policy\":{\"id\":\"3850\"}},\"id\":\"3829\",\"type\":\"ColumnDataSource\"},{\"attributes\":{\"active_drag\":\"auto\",\"active_inspect\":\"auto\",\"active_multi\":null,\"active_scroll\":\"auto\",\"active_tap\":\"auto\",\"tools\":[{\"id\":\"3790\"},{\"id\":\"3791\"},{\"id\":\"3808\"},{\"id\":\"3809\"},{\"id\":\"3810\"},{\"id\":\"3811\"},{\"id\":\"3812\"}]},\"id\":\"3814\",\"type\":\"Toolbar\"},{\"attributes\":{\"axis\":{\"id\":\"3805\"},\"dimension\":1,\"grid_line_color\":null,\"ticker\":null},\"id\":\"3807\",\"type\":\"Grid\"},{\"attributes\":{\"children\":[{\"id\":\"3934\"}],\"css_classes\":[\"panel-widget-box\"],\"margin\":[5,5,5,5],\"name\":\"WidgetBox09761\"},\"id\":\"3933\",\"type\":\"Column\"},{\"attributes\":{},\"id\":\"3838\",\"type\":\"Selection\"},{\"attributes\":{\"axis_label\":\"Est Value and Equity\",\"bounds\":\"auto\",\"formatter\":{\"id\":\"3822\"},\"major_label_orientation\":\"horizontal\",\"ticker\":{\"id\":\"3802\"}},\"id\":\"3801\",\"type\":\"LinearAxis\"},{\"attributes\":{},\"id\":\"3797\",\"type\":\"LinearScale\"},{\"attributes\":{\"text\":\"Estimated Value and Equity Comparison by City\",\"text_color\":{\"value\":\"black\"},\"text_font_size\":{\"value\":\"12pt\"}},\"id\":\"3793\",\"type\":\"Title\"}],\"root_ids\":[\"3786\",\"3963\"]},\"title\":\"Bokeh Application\",\"version\":\"2.2.3\"}};\n",
       "    var render_items = [{\"docid\":\"ec9cdb72-1b0b-408d-a599-34dd8e78e78e\",\"root_ids\":[\"3786\"],\"roots\":{\"3786\":\"3cd6fb76-2a6e-4091-8059-192d1417c256\"}}];\n",
       "    root.Bokeh.embed.embed_items_notebook(docs_json, render_items);\n",
       "  }\n",
       "  if (root.Bokeh !== undefined && root.Bokeh.Panel !== undefined) {\n",
       "    embed_document(root);\n",
       "  } else {\n",
       "    var attempts = 0;\n",
       "    var timer = setInterval(function(root) {\n",
       "      if (root.Bokeh !== undefined && root.Bokeh.Panel !== undefined) {\n",
       "        clearInterval(timer);\n",
       "        embed_document(root);\n",
       "      } else if (document.readyState == \"complete\") {\n",
       "        attempts++;\n",
       "        if (attempts > 100) {\n",
       "          clearInterval(timer);\n",
       "          console.log(\"Bokeh: ERROR: Unable to run BokehJS code because BokehJS library is missing\");\n",
       "        }\n",
       "      }\n",
       "    }, 10, root)\n",
       "  }\n",
       "})(window);</script>"
      ],
      "text/plain": [
       ":DynamicMap   [City]\n",
       "   :Overlay\n",
       "      .Bars.I  :Bars   [Address]   (Est Value)\n",
       "      .Bars.II :Bars   [Address]   (Est Equity)"
      ]
     },
     "execution_count": 45,
     "metadata": {
      "application/vnd.holoviews_exec.v0+json": {
       "id": "3786"
      }
     },
     "output_type": "execute_result"
    }
   ],
   "source": [
    "overlay_plot_city =  foreclosure_value_plot_city * foreclosure_equity_plot_city\n",
    "\n",
    "# Style the operlay plot\n",
    "overlay_plot_city.opts(\n",
    "    title=\"Estimated Value and Equity Comparison by City\", \n",
    "    ylabel=\"Est Value and Equity\", \n",
    "    width=1000, \n",
    "    height=500,\n",
    ")"
   ]
  },
  {
   "cell_type": "code",
   "execution_count": 46,
   "metadata": {},
   "outputs": [
    {
     "data": {},
     "metadata": {},
     "output_type": "display_data"
    },
    {
     "data": {
      "application/vnd.holoviews_exec.v0+json": "",
      "text/html": [
       "<div id='4009'>\n",
       "\n",
       "\n",
       "\n",
       "\n",
       "\n",
       "  <div class=\"bk-root\" id=\"3a2e079a-32b8-4ce8-8066-14aea1a94070\" data-root-id=\"4009\"></div>\n",
       "</div>\n",
       "<script type=\"application/javascript\">(function(root) {\n",
       "  function embed_document(root) {\n",
       "    var docs_json = {\"a436d0ed-a1cd-4152-969e-fea3eee4714d\":{\"roots\":{\"references\":[{\"attributes\":{\"below\":[{\"id\":\"4023\"}],\"center\":[{\"id\":\"4026\"},{\"id\":\"4029\"}],\"left\":[{\"id\":\"4027\"}],\"margin\":[5,5,5,5],\"min_border_bottom\":10,\"min_border_left\":10,\"min_border_right\":10,\"min_border_top\":10,\"plot_height\":500,\"plot_width\":1500,\"renderers\":[{\"id\":\"4049\"}],\"sizing_mode\":\"fixed\",\"title\":{\"id\":\"4015\"},\"toolbar\":{\"id\":\"4036\"},\"x_range\":{\"id\":\"4011\"},\"x_scale\":{\"id\":\"4019\"},\"y_range\":{\"id\":\"4012\"},\"y_scale\":{\"id\":\"4021\"}},\"id\":\"4014\",\"subtype\":\"Figure\",\"type\":\"Plot\"},{\"attributes\":{\"fill_alpha\":{\"value\":0.1},\"fill_color\":{\"value\":\"blue\"},\"height\":{\"value\":0.8},\"line_alpha\":{\"value\":0.1},\"right\":{\"field\":\"Est_Equity\"},\"y\":{\"field\":\"Address\"}},\"id\":\"4047\",\"type\":\"HBar\"},{\"attributes\":{\"data\":{\"Address\":[\"8250 Saint Helena Rd\",\"2868 38Th Ave 8\",\"1236 Walker Ave 209\",\"1 Mandalay Pl 603\",\"1 Mandalay Pl 603\",\"155 Sharene Ln 213\",\"1771 Broadway St 121\",\"945 Fletcher Ln B230\",\"566 4Th St\",\"1550 Center Rd 39\",\"45 Harbor Oak Dr 48\",\"1425 Lakeside Dr 206\",\"1771 Broadway St 226\",\"23 Shoreline Ct\",\"1771 Broadway St 320\",\"1201 Glen Cove Pkwy 1010\",\"100 Thorndale Dr 206\",\"100 Thorndale Dr 146\",\"320 N Civic Dr 311\",\"39034 Guardino Dr 305\",\"814 N Delaware St 502\",\"814 N Delaware St 502\",\"15390 Canyon 3 Rd\",\"155 Sharene Ln 116\",\"1 Herrera Dr\",\"376 Imperial Way 115\",\"376 Imperial Way 115\",\"155 Pearl St 204\",\"97 E Saint James St 46\",\"942 Kiely Blvd A\",\"159 Harold Ave\",\"39149 Guardino Dr 156\",\"628 2Nd Ave\",\"357 Half Moon Ln 4\",\"357 Half Moon Ln 4\",\"334 Santana Row 310\",\"1200 Gough St 19B\",\"1800 Bryant St 309\",\"311 Oak St 509\",\"410 Milan Dr 121\",\"64 Mountain View Rd\",\"242 Joost Ave\",\"2350 La Terrace Cir\",\"7721 Sunset Ave\",\"200 Brannan St 304\",\"999 Panoramic Way\",\"36 Harold Ave\",\"333 Santana Row 207\",\"3421 El Camino Real 29\",\"3421 El Camino Real 29\",\"301 Mission St 4D\",\"111 Hillside Dr\",\"111 Hillside Dr\"],\"Est_Equity\":{\"__ndarray__\":\"AAAAAOCYI8EAAAAAoOX8wAAAAABglObAAAAAAACvycAAAAAAAK/JwAAAAAAA48DAAAAAACB34kAAAAAA0A7/QAAAAAAYpgNBAAAAABjABEEAAAAAYKgFQQAAAABI1gZBAAAAANDECEEAAAAAyMgKQQAAAABw2ApBAAAAABC/DEEAAAAA4C8NQQAAAADANhBBAAAAAPhcEUEAAAAAuO4TQQAAAADcNBRBAAAAANw0FEEAAAAAoNwUQQAAAABQbRhBAAAAAGiCGEEAAAAAIJ0YQQAAAAAgnRhBAAAAAFj9GEEAAAAAGFkZQQAAAAAkthpBAAAAAEQ1G0EAAAAAcFAcQQAAAAD83B5BAAAAAEA2IUEAAAAAQDYhQQAAAACQYyFBAAAAAMD/IUEAAAAANo8iQQAAAADSSyNBAAAAAA7aI0EAAAAAWO4jQQAAAACoESRBAAAAAOo7JEEAAAAAJL0lQQAAAAD4dCZBAAAAACj6JkEAAAAAYDspQQAAAADSZilBAAAAAHDZKkEAAAAAcNkqQQAAAABQny9BAAAAAB7dO0EAAAAAHt07QQ==\",\"dtype\":\"float64\",\"order\":\"little\",\"shape\":[53]}},\"selected\":{\"id\":\"4044\"},\"selection_policy\":{\"id\":\"4067\"}},\"id\":\"4043\",\"type\":\"ColumnDataSource\"},{\"attributes\":{\"factors\":[\"8250 Saint Helena Rd\",\"2868 38Th Ave 8\",\"1236 Walker Ave 209\",\"1 Mandalay Pl 603\",\"155 Sharene Ln 213\",\"1771 Broadway St 121\",\"945 Fletcher Ln B230\",\"566 4Th St\",\"1550 Center Rd 39\",\"45 Harbor Oak Dr 48\",\"1425 Lakeside Dr 206\",\"1771 Broadway St 226\",\"23 Shoreline Ct\",\"1771 Broadway St 320\",\"1201 Glen Cove Pkwy 1010\",\"100 Thorndale Dr 206\",\"100 Thorndale Dr 146\",\"320 N Civic Dr 311\",\"39034 Guardino Dr 305\",\"814 N Delaware St 502\",\"15390 Canyon 3 Rd\",\"155 Sharene Ln 116\",\"1 Herrera Dr\",\"376 Imperial Way 115\",\"155 Pearl St 204\",\"97 E Saint James St 46\",\"942 Kiely Blvd A\",\"159 Harold Ave\",\"39149 Guardino Dr 156\",\"628 2Nd Ave\",\"357 Half Moon Ln 4\",\"334 Santana Row 310\",\"1200 Gough St 19B\",\"1800 Bryant St 309\",\"311 Oak St 509\",\"410 Milan Dr 121\",\"64 Mountain View Rd\",\"242 Joost Ave\",\"2350 La Terrace Cir\",\"7721 Sunset Ave\",\"200 Brannan St 304\",\"999 Panoramic Way\",\"36 Harold Ave\",\"333 Santana Row 207\",\"3421 El Camino Real 29\",\"301 Mission St 4D\",\"111 Hillside Dr\"],\"tags\":[[[\"Address\",\"Address\",null]]]},\"id\":\"4012\",\"type\":\"FactorRange\"},{\"attributes\":{\"end\":15,\"format\":\"0[.]00\",\"js_property_callbacks\":{\"change:value\":[{\"id\":\"4091\"}]},\"margin\":[0,20,20,20],\"min_width\":250,\"show_value\":false,\"start\":0,\"tooltips\":false,\"value\":0,\"value_throttled\":0,\"width\":250},\"id\":\"4082\",\"type\":\"Slider\"},{\"attributes\":{\"margin\":[5,5,5,5],\"name\":\"HSpacer10537\",\"sizing_mode\":\"stretch_width\"},\"id\":\"4076\",\"type\":\"Spacer\"},{\"attributes\":{},\"id\":\"4034\",\"type\":\"ResetTool\"},{\"attributes\":{\"margin\":[5,5,5,5],\"name\":\"HSpacer10536\",\"sizing_mode\":\"stretch_width\"},\"id\":\"4010\",\"type\":\"Spacer\"},{\"attributes\":{\"end\":2072901.8,\"reset_end\":2072901.8,\"reset_start\":-888983.8,\"start\":-888983.8,\"tags\":[[[\"Est Equity\",\"Est Equity\",null]]]},\"id\":\"4011\",\"type\":\"Range1d\"},{\"attributes\":{\"data_source\":{\"id\":\"4043\"},\"glyph\":{\"id\":\"4046\"},\"hover_glyph\":null,\"muted_glyph\":{\"id\":\"4048\"},\"nonselection_glyph\":{\"id\":\"4047\"},\"selection_glyph\":null,\"view\":{\"id\":\"4050\"}},\"id\":\"4049\",\"type\":\"GlyphRenderer\"},{\"attributes\":{\"children\":[{\"id\":\"4081\"},{\"id\":\"4082\"}],\"margin\":[0,0,0,0],\"min_width\":290,\"name\":\"Column10530\",\"width\":290},\"id\":\"4080\",\"type\":\"Column\"},{\"attributes\":{\"axis\":{\"id\":\"4027\"},\"dimension\":1,\"grid_line_color\":null,\"ticker\":null},\"id\":\"4029\",\"type\":\"Grid\"},{\"attributes\":{},\"id\":\"4021\",\"type\":\"CategoricalScale\"},{\"attributes\":{},\"id\":\"4019\",\"type\":\"LinearScale\"},{\"attributes\":{\"axis\":{\"id\":\"4023\"},\"grid_line_color\":null,\"ticker\":null},\"id\":\"4026\",\"type\":\"Grid\"},{\"attributes\":{\"args\":{\"bidirectional\":false,\"properties\":{},\"source\":{\"id\":\"4082\"},\"target\":{\"id\":\"4081\"}},\"code\":\"try { \\n    var labels = ['Beds: <b>1</b>', 'Beds: <b>2</b>', 'Beds: <b>3</b>', 'Beds: <b>4</b>', 'Beds: <b>5</b>', 'Beds: <b>6</b>', 'Beds: <b>7</b>', 'Beds: <b>8</b>', 'Beds: <b>9</b>', 'Beds: <b>10</b>', 'Beds: <b>11</b>', 'Beds: <b>15</b>', 'Beds: <b>16</b>', 'Beds: <b>24</b>', 'Beds: <b>25</b>', 'Beds: <b>147</b>']\\n    target.text = labels[source.value]\\n     } catch(err) { console.log(err) }\",\"tags\":[140492660280784]},\"id\":\"4091\",\"type\":\"CustomJS\"},{\"attributes\":{\"text\":\"Estimated Foreclosue Equity Value - Grouped by Bedrooms\",\"text_color\":{\"value\":\"black\"},\"text_font_size\":{\"value\":\"12pt\"}},\"id\":\"4015\",\"type\":\"Title\"},{\"attributes\":{},\"id\":\"4056\",\"type\":\"CategoricalTickFormatter\"},{\"attributes\":{},\"id\":\"4028\",\"type\":\"CategoricalTicker\"},{\"attributes\":{\"fill_alpha\":{\"value\":0.2},\"fill_color\":{\"value\":\"blue\"},\"height\":{\"value\":0.8},\"line_alpha\":{\"value\":0.2},\"right\":{\"field\":\"Est_Equity\"},\"y\":{\"field\":\"Address\"}},\"id\":\"4048\",\"type\":\"HBar\"},{\"attributes\":{},\"id\":\"4044\",\"type\":\"Selection\"},{\"attributes\":{\"margin\":[5,5,5,5],\"name\":\"VSpacer10534\",\"sizing_mode\":\"stretch_height\"},\"id\":\"4083\",\"type\":\"Spacer\"},{\"attributes\":{\"axis_label\":\"Address\",\"bounds\":\"auto\",\"formatter\":{\"id\":\"4056\"},\"major_label_orientation\":\"horizontal\",\"ticker\":{\"id\":\"4028\"}},\"id\":\"4027\",\"type\":\"CategoricalAxis\"},{\"attributes\":{\"children\":[{\"id\":\"4078\"},{\"id\":\"4079\"},{\"id\":\"4083\"}],\"margin\":[0,0,0,0],\"name\":\"Column10535\"},\"id\":\"4077\",\"type\":\"Column\"},{\"attributes\":{\"client_comm_id\":\"f37acf04ba6c44039b048dcad0b86d40\",\"comm_id\":\"e20d875f6b8e44dcb3b89af05b8202cd\",\"plot_id\":\"4009\"},\"id\":\"4106\",\"type\":\"panel.models.comm_manager.CommManager\"},{\"attributes\":{\"axis_label\":\"Est Equity\",\"bounds\":\"auto\",\"formatter\":{\"id\":\"4051\"},\"major_label_orientation\":\"horizontal\",\"ticker\":{\"id\":\"4024\"}},\"id\":\"4023\",\"type\":\"LinearAxis\"},{\"attributes\":{\"source\":{\"id\":\"4043\"}},\"id\":\"4050\",\"type\":\"CDSView\"},{\"attributes\":{\"margin\":[5,5,5,5],\"name\":\"VSpacer10533\",\"sizing_mode\":\"stretch_height\"},\"id\":\"4078\",\"type\":\"Spacer\"},{\"attributes\":{\"bottom_units\":\"screen\",\"fill_alpha\":0.5,\"fill_color\":\"lightgrey\",\"left_units\":\"screen\",\"level\":\"overlay\",\"line_alpha\":1.0,\"line_color\":\"black\",\"line_dash\":[4,4],\"line_width\":2,\"right_units\":\"screen\",\"top_units\":\"screen\"},\"id\":\"4035\",\"type\":\"BoxAnnotation\"},{\"attributes\":{\"format\":\"%.0f\"},\"id\":\"4051\",\"type\":\"PrintfTickFormatter\"},{\"attributes\":{\"active_drag\":\"auto\",\"active_inspect\":\"auto\",\"active_multi\":null,\"active_scroll\":\"auto\",\"active_tap\":\"auto\",\"tools\":[{\"id\":\"4013\"},{\"id\":\"4030\"},{\"id\":\"4031\"},{\"id\":\"4032\"},{\"id\":\"4033\"},{\"id\":\"4034\"}]},\"id\":\"4036\",\"type\":\"Toolbar\"},{\"attributes\":{},\"id\":\"4067\",\"type\":\"UnionRenderers\"},{\"attributes\":{\"children\":[{\"id\":\"4010\"},{\"id\":\"4014\"},{\"id\":\"4076\"},{\"id\":\"4077\"}],\"margin\":[0,0,0,0],\"name\":\"Row10520\"},\"id\":\"4009\",\"type\":\"Row\"},{\"attributes\":{},\"id\":\"4030\",\"type\":\"SaveTool\"},{\"attributes\":{\"margin\":[20,0,0,20],\"name\":\"\",\"style\":{\"white-space\":\"nowrap\"},\"text\":\"Beds: <b>1</b>\",\"width\":250},\"id\":\"4081\",\"type\":\"Div\"},{\"attributes\":{\"children\":[{\"id\":\"4080\"}],\"css_classes\":[\"panel-widget-box\"],\"margin\":[5,5,5,5],\"name\":\"WidgetBox10521\"},\"id\":\"4079\",\"type\":\"Column\"},{\"attributes\":{},\"id\":\"4031\",\"type\":\"PanTool\"},{\"attributes\":{\"callback\":null,\"renderers\":[{\"id\":\"4049\"}],\"tags\":[\"hv_created\"],\"tooltips\":[[\"Address\",\"@{Address}\"],[\"Est Equity\",\"@{Est_Equity}\"]]},\"id\":\"4013\",\"type\":\"HoverTool\"},{\"attributes\":{\"fill_color\":{\"value\":\"blue\"},\"height\":{\"value\":0.8},\"right\":{\"field\":\"Est_Equity\"},\"y\":{\"field\":\"Address\"}},\"id\":\"4046\",\"type\":\"HBar\"},{\"attributes\":{},\"id\":\"4032\",\"type\":\"WheelZoomTool\"},{\"attributes\":{\"overlay\":{\"id\":\"4035\"}},\"id\":\"4033\",\"type\":\"BoxZoomTool\"},{\"attributes\":{},\"id\":\"4024\",\"type\":\"BasicTicker\"}],\"root_ids\":[\"4009\",\"4106\"]},\"title\":\"Bokeh Application\",\"version\":\"2.2.3\"}};\n",
       "    var render_items = [{\"docid\":\"a436d0ed-a1cd-4152-969e-fea3eee4714d\",\"root_ids\":[\"4009\"],\"roots\":{\"4009\":\"3a2e079a-32b8-4ce8-8066-14aea1a94070\"}}];\n",
       "    root.Bokeh.embed.embed_items_notebook(docs_json, render_items);\n",
       "  }\n",
       "  if (root.Bokeh !== undefined && root.Bokeh.Panel !== undefined) {\n",
       "    embed_document(root);\n",
       "  } else {\n",
       "    var attempts = 0;\n",
       "    var timer = setInterval(function(root) {\n",
       "      if (root.Bokeh !== undefined && root.Bokeh.Panel !== undefined) {\n",
       "        clearInterval(timer);\n",
       "        embed_document(root);\n",
       "      } else if (document.readyState == \"complete\") {\n",
       "        attempts++;\n",
       "        if (attempts > 100) {\n",
       "          clearInterval(timer);\n",
       "          console.log(\"Bokeh: ERROR: Unable to run BokehJS code because BokehJS library is missing\");\n",
       "        }\n",
       "      }\n",
       "    }, 10, root)\n",
       "  }\n",
       "})(window);</script>"
      ],
      "text/plain": [
       ":DynamicMap   [Beds]\n",
       "   :Bars   [Address]   (Est Equity)"
      ]
     },
     "execution_count": 46,
     "metadata": {
      "application/vnd.holoviews_exec.v0+json": {
       "id": "4009"
      }
     },
     "output_type": "execute_result"
    }
   ],
   "source": [
    "foreclosure_equity_plot_city = foreclosure_df_sorted_equity[['County','City','Est Equity', 'Beds']].hvplot(\n",
    "    kind='bar',\n",
    "    height=500,\n",
    "    width=1500,\n",
    "    groupby='Beds',  \n",
    "    title='Estimated Foreclosue Equity Value - Grouped by Bedrooms',\n",
    "    y='Est Equity',\n",
    ").opts(xformatter = '%.0f',\n",
    "      invert_axes=True,\n",
    "      color='blue')\n",
    "\n",
    "foreclosure_equity_plot_city"
   ]
  },
  {
   "cell_type": "code",
   "execution_count": 47,
   "metadata": {},
   "outputs": [
    {
     "data": {},
     "metadata": {},
     "output_type": "display_data"
    },
    {
     "data": {
      "application/vnd.holoviews_exec.v0+json": "",
      "text/html": [
       "<div id='4142'>\n",
       "\n",
       "\n",
       "\n",
       "\n",
       "\n",
       "  <div class=\"bk-root\" id=\"e79b330a-3c03-4494-ba6f-29cd0bad9411\" data-root-id=\"4142\"></div>\n",
       "</div>\n",
       "<script type=\"application/javascript\">(function(root) {\n",
       "  function embed_document(root) {\n",
       "    var docs_json = {\"2dcbfecd-d5a9-4969-925a-7af2f0acba10\":{\"roots\":{\"references\":[{\"attributes\":{},\"id\":\"4164\",\"type\":\"PanTool\"},{\"attributes\":{\"margin\":[20,20,20,20],\"min_width\":250,\"options\":[\"CHRISTENSEN,JAY & ANNE\",\"BELSHE,MICHAEL\",\"DIAMOND CREEK VILLA LLC\",\"BRUGNARA PROPERTIES VI\",\"SAGE AT IRVINGTON LLC\",\"EAGLE GARDEN LLC\",\"EMGEM LLC\",\"TORO,MARTIN\",\"EVERGREEN PROPERTY GROU\",\"TRIEBER PHYLLIS M 2015 TRUS\",\"CENTRAL LAH LLC\",\"PALERMO,GEOFFREY & DEBRA\",\"CREAR,MILDRED\",\"YURTSAN,MAKSIM\",\"MEI TRUST\",\"CORMAN,TEDD\",\"TASHJIAN,MADELEINE\",\"HARRISON,XIANQIN WANG & JA\",\"CAPITAL HOMES INVESTMENTS\",\"CKD ENTERPRISES INC\",\"GIANNI FAMILY PROPERTIES LL\",\"PECK,DAVID R\",\"JOOBLAY INC\",\"ATTARD,TAMARA L\",\"HODGES,LARON\",\"PRIMO FARMS LLC\",\"3070 BROOK LLC\",\"STIEBEL,INGE\",\"BEAR HAVEN LLC\",\"AMP PROPERTY MANAGEMENT\",\"VANYA,JAMES\",\"DE ROSIER,GARRY L & TERESA\",\"NICHOLS,KATHERINE\",\"NAVARRO,FERNANDO CASTELL\",\"KISACK IDA JEAN (TE)\",\"HEAVEY,MICHAEL B & NOREEN\",\"CUELLAR,JUAN CARLOS\",\"PRITCHARD ROY (TE)\",\"VARNEL,ARDEN K\",\"YU,STEVEN KUOCHUN\",\"KNOTT,MICHAEL J\",\"GUTIERREZ PERLA S (TE)\",\"BLANC,SHEILA ANN\",\"DICKSON,BENITA A\",\"BOZZO,LINDA A\",\"MCMAHON,CARL F & LEE\",\"CROWLEY,PETER M\",\"CALDERON,ELSA G & JOSE A\",\"LEE,JISUN\",\"FRIEDMAN,JAMES\",\"SCOTT,MARY F\",\"946 BAY CAPITAL INC\",\"STEIN,JOAN\",\"VEGA,DANIEL\",\"PRASAD,ASHA L\",\"BERRY,WILLIAM R\",\"GRENLAND,MARY DIANNE\",\"LYLES,ARTHUR J & JILLIAN C\",\"TERRELL,CLIFFORD R\",\"ANSO LLC\",\"PERALES,EDWARD J\",\"CHEUNG,TIFFANY X\",\"CAETANO,BONNIE LYNNE\",\"REDON,OLIVIER\",\"TASKEY,RANDY & YVONNE\",\"AKILAH,CHYNA\",\"GRAHAM,JOHN K & COURTNEY\",\"JOHNSON,KURT\",\"TASHJIAN SHOUSHAN P (TE)\",\"RENTERIA,HECTOR R\",\"PAGTAKHAN,MARIA L\",\"GOMEZ,VERONIDIA F\",\"RIVERS,ANITA\",\"SINGLETON,KELLEY\",\"COMMUNITY FIRST USA LLC\",\"NG,BARNEY J\",\"HARDY,JOHN\",\"ALAMPAYKAR,ARMAN A\",\"RANIGA,BIMLA\",\"THOMPSON,DEBBIE A\",\"NOORI,HAMID S\",\"WEBB,WILLIE\",\"L & L RESIDL PROP LLC\",\"SILFIES,RANDALL\",\"CAMESAS,NICHOLAS J\",\"GUINTU,ARNOLD\",\"LEE,WAN K\",\"VERADOR,WAGNER A & MERCE\",\"MEDINA,MARIA LUISA\",\"MANWARREN,KATHERINE A\",\"JACKSON,GILBERT M\",\"REID,ZACHARY M\",\"KHURANA,MAHESH & ANITA\",\"DYAS,ALISHA\",\"CHRISTENSEN,REGIN & BREND\",\"OSBORNE,GERALDINE C\",\"CHAVEZ,JAIME & MICHELLE R\",\"CARDICH,EVA SONIA\",\"BLANKENHORN,BRUCE\",\"MENZISE,TANGELA\",\"CORDOVA,WENDY\",\"CHAN,ALFRED K\",\"HOLLOWAY,STEVEN JOHN\",\"THORNTON,JEREMY JOSEPH &\",\"THOMAS,JOYCE C\",\"KNOX,ISIAH\",\"PALMORE,COTHELL\",\"JACOBSEN,RACHEL A\",\"NAVARRO,JUAN M & CARLOS A\",\"ZAMORA,RENEL L & YOLANDA\",\"JOHNSON,DERRICK DWAYNE\",\"PEDROZA,DONNA R\",\"AMADOR,MARIA TERESA\",\"PARAS,ALEXANDER C & CANDE\",\"18771 HOMESTEAD ROAD LLC\",\"CROCKETT,FRANCES MARIE\",\"LOOMIS,LAURIE\",\"DARDIS,RONALD J\",\"ROBLES,MICHAEL R\",\"SMITH LUVERTA (TE)\",\"SANDERS,STEPHEN C & TINA\",\"ISMAIL,SALEEM R\",\"CHANG,HAI J\",\"REID,JAMES\",\"TYLER,JOHN A\",\"LEE,MING-LUNG\",\"DAVILLIER,DEMETRIUS\",\"FLORES,MARIA\",\"WEISS,FRANCESCA S\",\"BOND VECINA HOLDINGS\",\"STRAUB,SUSAN L\",\"MARTIN R I & O LIVING TRUST\",\"ROMERO,LOREN M\",\"MULINDWA,JOSEPH M\",\"LOPEZ,JAVIER & TRINIDAD\",\"ROBERTS,TENESHIA\",\"TAYLOR,JESSE\",\"MOE,METWALLI\",\"ALLEN,CHARLES DAVID\",\"1291 55TH LLC\",\"SOLOMON,DONALD A\",\"BATES,WALTER J\",\"AVILLA,WAYNE A & HIROMI\",\"DANIELS,LORRIANE D\",\"HARRIS,MARCIA D\",\"SCHULER,ROSARIO\",\"KNOWLTON,GLADYS L\",\"SHARPE,GEORGIA E\",\"MORALES,MARTIN & ROSELIA\",\"MAZZUCA,BRADLEY S\",\"ALHARK,IBRAHEYMA\",\"QUARTERMAN,LUCY L\",\"FAIRLEY HELEN LIVING TRUST\",\"HIDALGO,NORA\",\"BARRETO,MERCEDES\",\"ARROY,THOMAS & ROSEMARY\",\"BRECKENRIDGE PROP FUND 20\",\"SOLTANI,ARMAN\",\"HOWARD,KATHY\",\"PACAS,CARLOS A\",\"DUMAS DESIGN & CONST LLC\",\"APPLE ROBOTICS\",\"GOODLOE,ROBERT\",\"PASKEVICH J & C TRUST\",\"926 VENTURA LLC\",\"MORRIS,MONIQUE\",\"DADE,JAMES O\",\"UHL,CHARLES\",\"BOCKHOLD,ROBERT J\",\"ARMSTRONG,ROBERT\",\"MALLORY,RACHAEL\",\"ESPINOZA,CARLOS & PATRICIA\",\"FAIRBANKS,MARK & KATHY L\",\"REDWOOD HOLDINGS LLC\",\"HORBAKHT,ARASH\",\"KLOPP,CHRIS & VANESSA\",\"ARRIAGA,FERNANDO\",\"GARDOU GROUP LLC\",\"CASILLAS,FIDEL P & DOLORES\",\"GARCIA,ELBERT & MARIVIC\",\"WILLS,DARRYL L & ANN M\",\"VERA,ROSA M D\",\"GRIGORYEV,VICTOR\",\"TRINITY FINANCIAL SERVICES L\",\"TINDALL,DWAYNE & KRISHNA\",\"KNIGHT,MARY\",\"GONZALEZ,JAIME & FABIOLA\",\"SCHMIDTBERGER,ERIC F & E D\",\"PADILLA,JAIME M\",\"RUSSO,RICHARD J\",\"CRC566 LLC\",\"MENDOZA,CHRISTIAN & GINGER\",\"SEIDLER,JOHN\",\"CORTTI,JOSE O & LORI ANN\",\"MARTINEZ,PABLO\",\"RIVERA,VIRGIE G\",\"JANPANAH,FOROUGH\",\"OWENS FINL GRP\",\"RAMIREZ,ANNETTE A\",\"RAMOS,JOSE L\",\"BELGUM,ELENA J\",\"SHUGART,NATALIE\",\"BACHO,RENE & MARIE E\",\"SRU PROPERTIES LLC\",\"ASH,KYLE\",\"LATIGUE,GREIG A\",\"RODRIGUEZ,ART\",\"JONESALLEN,PAZZETTA\",\"GENUINE LIVING CO\",\"DECOTA,STEFAN C\",\"SOLORIO,UBALDO\",\"DUARTE,MARTHA I\",\"BONFIGLI,RANDY\",\"PEERS,STEPHAN R\",\"SADEGH,MANIJEH\",\"MILLER,MICHAEL VINCENT\",\"OLIVIERI,MATTHEW J\",\"MILLER,MARY REBECCA\",\"MAHINDA,EKATERINA\",\"KLIGERMAN,HERMAN\",\"CUMMINS,NELDRED L\",\"FELDENHEIMER,THOMAS H\",\"MURILLO,JESUS M\",\"LAWSON,GREG\",\"RAINWATER,THOMAS\",\"AGLEAM,CAROL R\",\"WELLS FARGO BK NA SE 2006-F\",\"MORTGAGE RELIEF SERVICES L\",\"TAYLOR,RUSSELL W\",\"BRONSON,BERNARD\",\"BASTANI,ALI\",\"ESTEP,DAEDRA\",\"SCHAEFER,JOHN M\",\"GREEN POINT LAND CO\",\"RODRIGUEZ,CAYETANO & LYDI\",\"MAY,ELIZABETH J\",\"OSAISAI,EDITH\",\"SANGSTER,MICHAEL & LILLIE JE\",\"CONNORS,JOHN\",\"GATES,TYRIOUS\",\"GRADEN,ANTHONY\",\"MCCOY,LAURA N\",\"BUNTING,LORENE\",\"HALLORAN,DAVID W\",\"MCCARDELL JONATHAN LIVING\",\"HOLLINS,KEVIN E\",\"AMADOR,CINDY Y\",\"LARA,ROBERTO V & JOSIE G\",\"MEJIA GEORGE TRUST\",\"CHASE,LEA\",\"LEBHERZ,JENNIFER\",\"VILLANUEVA,JOSE ALFREDO &\",\"BAUGHMAN,NINOZKA\",\"RIVERA,FRUCTUOSO\",\"TAM,GARY\",\"ALI,FARINE F\",\"COVARRUBIAS,MIGUEL\",\"MEJIA,JAMES\",\"WILLIAMS,JAMES E\",\"BELL,JERRY\",\"DUMAS,COLETTE\",\"MAI,QUYEN THI\",\"DECEJA,BERTA MAGANA\",\"HARNANDEZ,JAVIER\",\"MONTANO MARK RESTY\",\"GRANAHAN,ANDREA ELEANOR\",\"ONYACH,ABEL OPIYO\",\"IP,MONA MO YIN\",\"FUSTUKJIAN,BERJ V\",\"WINROW,DEREK K\",\"SERVIN,PABLO & DELIA\",\"MCFADDEN,ROGER G\",\"HERRERA,GLORGLO\",\"INGRAM,JAIME\",\"HIDALGO,NORA L\",\"DELA TORRE,J INES & MARIA\",\"NELSON,ROGER D\",\"FLORES,NORMA M\",\"SEPULVEDA,DANIEL\",\"ZHANG,YUNZHOU\",\"LOPEZ,MANUELA & GABRIEL\",\"CITTONI,JULIANNE K\",\"YU,KUN WEI\",\"KAILASAM,GOPALAKRISHNAN\",\"NASIM,ATASHPARVAR\",\"BUTLER,GAVERAIL L & JEFF\",\"BELYEU,JULIET B & JOE C\",\"JEFFERSON,VALVIA\",\"HURTADO,DIANA\",\"FEDERAL NATL MTG ASSN\",\"MARTINEZ,FREDY E\",\"SCHREPEL,ERIC V & CHRISTEN\",\"ODEY DOROTHY (TE)\",\"HARO-AVILA,JOSE JUAN\",\"ABRAHAM,IRVING L\",\"GEARY,HEATHER M\",\"HANSEN,LINDSAY & NELS\",\"ABRAM,CARL L\",\"RAMOS,NERY\",\"SHOLES,GARY R\",\"PEDERSON,CYDNIE MARSH\",\"THORNTON,ROBERT & MICHELL\",\"ATHENA FINANCIAL ENTERPRIS\",\"FERGUSON,DELOIS\",\"PENTAGON FCU\",\"MORRIS,JEFFREY A\",\"TRAN,GIANG T\",\"GREENPOINT LAND CO\",\"TACLAS,JOSEPH B\",\"SAKAMOTO,DEBORAH\",\"WRIGHT,WAYNE E & RHONNA Y\",\"RHOADES,LARRY THOMAS\",\"CARROLL,MAUREEN\",\"NOBLES,GRADY M & HENRY B\",\"THIONGANE,DAOUDA\",\"ROSALES,VIRGINIA & RAUL\",\"HURD,CHERYL A\",\"NICHOLSON,JOHN V & MAE LILL\",\"WILLIAMS,DARRYLIN\",\"EDWARDS,RASHOD & SHATOYA\",\"MIRANDA,ISMAEL\",\"MOTT,LISA ELIZABETH\",\"FEDERAL NATIONAL MORTGAG\",\"ESPINO,RAMON & GUADALUPE\",\"WILLIS,WALTER\",\"CERVELLI,LISA\",\"COELHO,RICHARD M\",\"CRUZ,MARIA\",\"BANK OF NEW YORK MELL 2006\",\"ROMERO,LORENA E\",\"ROLAN TIMOTHY DAVID (TE)\",\"MARTINELLI FAMILY 2004 TRUS\",\"HAYTER,PERCY\",\"TIBAY,ESMIRNA C\",\"AVIATOR PROPERTIES LLC\",\"BRAZIL,DAVID P & BILLIE J\",\"KONG,WAI KEUNG\",\"FEDERAL HM LN MTG CORP\",\"NURI,STOORAI K\",\"CURTIS-PANTORILLA,BARBARA\",\"FOGAMOMI,SHARON & SILA\",\"NUNEZ,ALEJANDRO & MARIA D\",\"PHILLIPS,RONNIE P & JANAE\",\"QUOCK,LYNETTE SANDRA\",\"GRIFFITHS,DARLA & KENT\",\"HERRERA,NATHAN & JESSICA\",\"WILLIAMS,FREDRICK & C\",\"SHARMA,DINESH & SHALINI K\",\"ROBERTS,ROSALIND H\",\"ALCARMEN,JOEL\",\"FELICIANO,GARY J\",\"BAGBY-DAVIS,CHALICE O\",\"CASTRO,JOSEPH\",\"PSF REO LLC\",\"BOTTARI MARIANNA TERESA (T\",\"PEDERSEN DENNIS LIVING TRU\",\"WERNICK-POLLETT,ARIN\",\"GARCIA,PEDRO V & ARACELI\",\"PACIFIC COAST CAPITAL INVES\",\"HUNTER,JANICE\",\"BENIN,AMADO R & JULIET S\",\"WYANT,ROBERT L & CECILIA A\",\"HEWATT,EVELINE\",\"HUANG,DANDAN\",\"DAQUIOAG,RODOLFO A & ROSA\",\"BIBIAN,CRUZ\",\"AGUILAR,MIGUEL\",\"LOGAN,TRACY\",\"SLOAN,JAC8UELINE C\",\"MUBARAK,MOHAMED M\",\"SHARMA,VIMLESH & SANGEETA\",\"SANABRIA,HUGO R & ANA MARI\",\"VINCENT SHARON M (TE)\",\"ESPINOZA,JAYMES L\",\"STEELE,DAVID L & LOUISE\",\"BREKENRIDGE PROP FUND 201\",\"TAI,CHI\",\"BAILEY,KRISTEN D & KRISTEN\",\"MORALES,MARCOS\",\"CASALE,RALPH\",\"WU,MIAOHUA\",\"POLLOCK,DESIREE\",\"HANF CAPITAL LLC\",\"GONZALEZ,ALICIA G\",\"CHAPMAN,ROGER A\",\"GARCIA,JOSE & REBECCA M\",\"CUTRIGNELLI ONOFRIO M (TE)\",\"2725 MENDOCINO AVE LLC\",\"HERMAN,ILAN\",\"CORTEZ JAVIER 2019 TRUST\",\"ALTUS,SHANNON ROGERS\",\"SECRETARY OF HOUSING & UR\",\"RAZO,FATIISHA M\",\"VAUGHNS THOMAS E & BESSIE\",\"GUADAMUZ,DOLORES S\",\"FANCY PALLAVI\",\"HERNANDEZ,REFUGIO M & MAR\",\"HENDRICKSON,ERIK\",\"P2 OAKLAND CA LLC\",\"BOSCO CREDIT LLC\",\"COLEMAN,RONALD C & IVORY\",\"2006-HE2,IXIS\",\"MUHAMMAD,KESNEY N\",\"HOLST,RON\",\"MADLEY,JASON A\",\"ALAS,ALEJANDRA I GARCIA\",\"GAO,JINGCHAO\",\"RODRIGUEZ,JUAN\",\"PEREZ,AURORA\",\"TAYLOR,DOROTHY\",\"DEUTSCHE BK NATL TRUST C 2\",\"DECKER,LYNN M\",\"FENG,LISA\",\"ARAICA,ALVARO & ALIDA M\",\"TORRES,MARION & JERRY\",\"HONG,NJOMELE\",\"MEGGERSON,TRACY A\",\"GILLIAM,GERALD & CHERICE\",\"WANG,XUANNAN\",\"WASHINGTON,PATRICIA & LOUI\",\"GREY POINT DEV LLC\",\"WERSON,ALICE MARY\",\"WILLIAMS,MILES\",\"POWELL,KAYODE\",\"JAUREGUI,REGINA\",\"JIANG,DONG\",\"VANWORMER,THOMAS DEAN\",\"PADILLA,RONALD C\",\"URIE,GERALD W\",\"JOHNSTON,RICHARD\",\"PETERSEN,GENE B\",\"ZHU,FENGKAI\",\"ZHEN,MABEL\",\"AREVALOREYES,IVON\",\"SANCHEZ,GRACIELA\",\"NERISON,LARRY G\",\"BANVELOS,LETICIA\",\"ZOU,CHAO R\",\"XU,WEIWEI\",\"EASTON,PAULA\",\"SAUERS,JANINE B\",\"WIMBERLY,JANICE MARIE TAYL\",\"OGABHAIN\",\"JOHNSON,SHAWNTATE NICOLE\",\"RYAN,GREGORY R & S V\",\"JACOBY,JOSHUA\",\"BERDAN,FRANCIS V\",\"STUDEBAKER,MICHAEL & LAUR\",\"KAHL,KATHLEEN O\",\"POPOK,WILLIAM & JACQUELINE\",\"LAM,CHAU\",\"MANN,SAHIB B\",\"PARADISE REDEVELOPMENT C\",\"LUNA,JOSE M & ROSA B\",\"LIKINS,DANIEL T\",\"PAULE,IRENEE T & LAUREN K\",\"EWAYS,KERRYN J & ROBERT W\",\"OGI,JEFFREY\",\"ELIECORP\",\"DEGUZMAN,MARIA L & JUN\",\"CRUZ,HERNA\",\"JAMES,GWENDOLYN D\",\"CHEN PI KWEN (TE)\",\"CAMACHO,ESTER S\",\"GARCIA,AMY N\",\"COLEMAN,MELVIN\",\"HUSBANDS-PALMER,LELA\",\"PADAOAN,EDGARDO Y & L R\",\"BENNETT LANE PROPERTY LLC\",\"LOPEZ,CARLOS ORTIZ & MARIA\",\"KELLEY,GUY T & KATHLEEN M\",\"UNITED HM MTG\",\"COX DERWIN ALAN (TE)\",\"CARRENO,MARIA G\",\"MAHE,TAMASO MALIA\",\"MCINTYRE,FURBIE E\",\"BARAJAS,DAVID & MARIA\",\"LAVIN TRUST\",\"ONIFADE,DELLESIA\",\"BENKO,MARIKA\",\"HOANG,TUAN & TIEN T\",\"OCHOA,IRENEO\",\"MOHEB,ALIREZA\",\"MALM,JASON A\",\"HARTMAN,JESSICA\",\"CARTER,TOUSSAINT\",\"US BK NA SERIES 2007-OA2\",\"MC DERMOTT,KEVIN R\",\"GRIGGI,ROBERT & KAREN\",\"HOLMES BONNIE M (TE)\",\"RAO,DEEPAK\",\"ROMAR R M & A M JOINT L/TR\",\"HAAS,MARA\",\"PILLAY,CHANDRA S & MOHINI L\",\"MARTINEZ,GILBERTO G\",\"MARTINEZ,JEFFREY SCOTT\",\"BLAUVELT,MARGARET J\",\"ALI,AHMED & AFROZA\",\"YOUNG,SUSAN A\",\"KUMAR,SANJAY G\",\"CATAMOUNT PROPERTIES 2018\",\"GONZALEZ,ANDRES G & SANDR\",\"FLORES,SYLVIA & RAUL\",\"SEVILLA,GIN I\",\"MIKLOS,KAMONDY\",\"CRAWFORD,TIFFANI A\",\"S GARY R & LINDA E 1998 TRUS\",\"JAIN,DEEPTI\",\"LAMBA,RAVINDER & DARBJIT\",\"YAQOOB,MOHAMMAD\",\"REX REGUM LLC\",\"CAUDLE,MICHAEL ANTHONY\",\"SON,NGOC K\",\"DAVID,ANTONIO E\",\"BENNETT,SONJI B\",\"ZOHARY,ROSS\",\"CHIARA,ALAN W & BARBARA M\",\"GREYPOINT DEV LLC\",\"FAN,CHI-KOU & LILY\",\"FILSHIE,ANDREW\",\"PENA,VICTOR H & MARIA C\",\"NASH,BRUCE W\",\"CRUISE,CAROL A\",\"YOURI,NEBONEED J & MARYAM\",\"BRIM,BRIAN D & DOUGLAS R\",\"TOWD MTG TR 2017-FRE2 TR\",\"FREMONT BANK TR\",\"FELDMAN,LINDA\",\"WATSON,SHIRLEY J\",\"SARMIENTO,ERNESTO B & LUCI\",\"MOORE,ALICE EST\",\"KIM,TAE & JUNG RAINA\",\"TIGER,JUDITH E\",\"OWNER,RECORD\",\"JOBALIA KIRTI (TE)\",\"MUSTAFA,HALIM & LU-VIVIA\",\"TARDIBUONO 2015 FAMILY TRU\",\"HERRERA,NAY O & OSCAR HEN\",\"TAYLOR,TYRONE A\",\"RODRIGUEZ,JULIO C\",\"JACKSON,DEGARTRIA G\",\"PETTET,LINDA J\",\"SMITH,RANDY & SARA\",\"MEXICANO,JOSE FRANCISCO P\",\"RAMIREZ HENRY (TE)\",\"WELLS FARGO BANK NA TR\",\"CHAVEZ,SUSAN HARVEY\",\"BONETE,JOSE A\",\"MAXSON,LAURANCE G & SUSAN\",\"AMABLE,SCOTT A & KARI R\",\"MOREHOUSE HOMES INC\",\"ALICANTE,JESUS F\",\"NGUYEN,TAM T M\",\"MOORE VICTORIA (TE)\",\"ESTILLORE,GLORIA\",\"WOLFE,WENDY B\",\"MORGAN JAMES S (TE)\",\"GOSWAMI,SANJIB\",\"BONJOUR,JEAN-PAUL\",\"BARRETO,PEDRO L\",\"BALZA ERWIN M (TE)\",\"RODARTE,TERI L\",\"MORALES,DIANA\",\"CRESTVIEW INVESTMENTS LLC\",\"CANNON,THOMAS M & RHEA V\",\"PAK,YONG KUN\",\"FU,ZENG MAO\",\"WU,SHUSHAN\",\"TRAN HOLLY LIVING TRUST\",\"SWINT,BRAD\",\"KNUTSON,ROBERT C\",\"COLLAZOS,SEGUNDO F\",\"TURNQUIST,DENISE\",\"KOCOS,NICHOLAS S & TREVA L\",\"LANE-SMITH,YOLANDA P\",\"O BRIEN,ROBERT W\",\"GOINS,VERNON C\",\"FERNANDO,MILLER\",\"HUANG,SUSHAN & MANXIA\",\"ROSENBERG BARR (TE)\",\"CARDOZA,DEREK K & SAIRA\",\"MASAGANDA,MARIA LOURDES\",\"JENSEN,ROY E & NORAH V\",\"MESELE,TSHAINESH\",\"DELAROSA ARMAND H SR (TE)\",\"MUHAMMAD,RAHMAN\",\"JACKSON,RAYMOND A & MICHE\",\"VILLA DEVELOPERS & INVESTM\",\"MORGAN NAOMI L (TE)\",\"BANK OF NEW YORK MELLON\",\"DAY-MASCARENAS,RENEE\",\"RUTH,JAMES M\",\"STARK,JACOB & JILL\",\"WHITLOCK,RAFEL F\",\"KENNEY,MARK & DANIELLE\",\"HOWARD,DAVID S\",\"OHLSSON,DIANE\",\"ZHANG,ZHI\",\"GUASTELLA,ORLANDO M & NILA\",\"ENGLE,MICHAEL J\",\"DUNBAR,TRACEY D\",\"MISLE,MARGARITA T\",\"WU VIVIAN FANG YI\",\"CHAU HIEN THE & TRAN KAREN\",\"HANSEN,KARL K\",\"LI,JIA HUI\",\"DOUBLE DOWN REAL ESTATE IN\",\"MURRAY,VICTORIA D\",\"MUSGROVE,SEAN C\",\"OLDS,BOWMAN\",\"CHOI,HANGRAK\",\"REBELO,JOSEPH G & MARY Z\",\"SUNGA,DOLORES V & JOHN M\",\"PENDELTON,BRUCE\",\"SPENCER,JOHN S & MARNIE\",\"LEE,YUE S\",\"SPURRIER,NOAH\",\"VAN,BOKKELEN JOHN R\",\"FERNANDEZ,VICTOR\",\"JENKINS,MICHAEL\",\"VASQUEZ,JORGE A\",\"CERVANTES,JESUS & LETICIA\",\"LU,LONG & THUYNGA V\",\"AL-ABOODI,BASIM\",\"CAMELLO,JOSEPH R & RENEE\",\"NIZAM,AJAZ\",\"ZENG JIBING (TE)\",\"BOGER,DONALD & SHAWN\",\"9 ARCHER LLC\",\"TEJADA,ELIZABETH P\",\"VILLAFUERTE,RAQUEL Q\",\"TIJIMO CORP\",\"JAMIE,RICARDO L\",\"BAILEY,MELVIN\",\"DIAZ,ROGELIO BASTIDA\",\"AZI,REFAEL\",\"US BK NATL ASSN SERIES 2007-\",\"ALIPATE,PAUL I & KALOLAINE\",\"KALNAR HOMES LLC\",\"JORDAN,EDWIN T\",\"KAY,MATTHEW J & KATHERINE\",\"SPIRES,BRIDGET R\",\"HARRIS,MICHAEL W\",\"LEVAN,ANSELME\",\"FINE,PEGGY PEACH\",\"CLEMENTS HLDGS LLC\",\"SPIRIT & SELF MINISTRIES NOR\",\"QUACH,CUONG H\",\"CLEMENT HOLDINGS LLC\",\"SIOSON,FRANCISCO J & PRISCI\",\"BUENSUCESOCUENCO,MIA L\",\"RAMIREZ,RAMIR F & VERLE G\",\"EASTWOOD,BRETT L\",\"KLECZEK,DAVID A\",\"BARGER,SEAN B\",\"BANK OF NEW YORK MELLON 2\",\"DANKU,ATTILA & VILMA\",\"SGT TWO LLC\",\"ROARK,MARGARET\",\"OSON,DIANE M\",\"LE,ADINE\",\"DECASAS,ALEXANDER\",\"ALWARDAT,NAYEF & SAFA\",\"INVICTUS RESIDL POOLER TRU\",\"DIAZ,RAUL Z & MIGUEL\",\"NELSON,ADELINE F\",\"FREELAND,RUBY\",\"PIRAS,PATRISHA\",\"JACKSON,STEVEN A\",\"AGUIRRE,RUMEL P & LENNIE E\",\"TERRIBERRY,WARREN S\",\"BUI,KEITH TUAN\",\"WEN,DI\",\"MCKNIGHT,ROSEMARY J\",\"MAPA,PETULIKI\",\"NGWONG,CONNIE K\",\"NEAL,CHARLES J & MEGAN\",\"JPMORGAN CHASE BANK NA\",\"SIMON,DARRYL\",\"SAMSON & LUCY FAMILY TRUST\",\"CLEMENT RICHARD G (TE)\",\"PERUN,STEVEN G\",\"GRAVELEY,BALABHADRA\",\"POLIDO,PHILLIP W & LINDA M\",\"HO,CHUNG SANG & VIRGINIA\",\"LEDOUX JENNIE (TE)\",\"TEALER\",\"THAWLEY,MICHAEL & CARLA\",\"INSIGHT INVESTING LLC\",\"SPENCE ROBERT B H LIVING TR\",\"JOHNSON,EVERETT D & STEPH\",\"SKIERSKI,ROMUALD & TERESA\",\"RUVALCABA,ARTURO & RUBEN\",\"HOUGH GEOFFREY M (TE)\",\"GONZALEZ,FROILAN\",\"SRIDHAR,THANGAPANDI & MAB\",\"MENA,LEE R & CAROLINA\",\"TOORAK CAP PTRS LLC\",\"THOMAS,DOLLY\",\"TRAN TOM HA (TE)\",\"SILVEIRA,MICHAEL G & LISA J\",\"LI,CHRISTOPHER H\",\"HUNT,THOMAS J\",\"SMITH,STEVEN R\",\"WARNER PAUL F (TE)\",\"MURATA,HIROAKI\",\"ESTEBAN\",\"RAMIREZ,JESSICA\",\"RISSMAN,PATRICIA A\",\"BENAVIDEZ,THERESE\",\"WB & LYNN LLC\",\"WASHINGTON MUTUAL BANK\",\"PAVELCHAK,GEORGE\",\"6134 HARMON LLC\",\"QUIHUIS,ROBERT A & LETICIA J\",\"SERMONE,ROGER A\",\"WILSON,GARY N\",\"ROMERO,JACQUELYN\",\"MONTERO JOSE L R (TE)\",\"HASEL,KURT A\",\"BUI,DIEM T T\",\"IRISH JAMES C (TE)\",\"BASISTA DAVID (TE)\",\"REDWOOD BPL HLDGS INC\",\"KYB HOMES LLC\",\"BARLETTA,LOUIE\",\"SIAPNO,RODRIGO R & EMILY T\",\"PETERSON,MICHAEL & TONI\",\"YOUNG,KAREN D\",\"MILANY,HOUSHANG\",\"GROSSINGER,GEORGE A\",\"TEJADA,HUGO ROMEO & KIMBE\",\"REVERSE MTG FNDG LLC\",\"WORKINGER,ROBERT W & VER\",\"MARTINEZ,JOSE S\",\"BERTINUSON,BRUCE J\",\"JERDEVA,OLGA\",\"MARTINEZ,VICTORIA\",\"FUTSCHER,JOHN D & JEANNE T\",\"WRIGHT,BARBARA\",\"YORK,ANGELA J\",\"CUNEO,JOSEF\",\"US BK NA SERIES 2007-AMC2\",\"DELARROYO,MARK W & CAROL\",\"ABRICA,EPIFANIO ALFONSO\",\"AAIA RML LLC\",\"KSHIRSAGAR,RASHMI\",\"COSTELLO,MARY T\",\"XIA,LEI\",\"BEDELL,JASON\",\"NICKHOU,AFSHIN\",\"NGUYEN,PHI & ANTONIETTA\",\"WILMINGTON SAVING FUND SO\",\"OBRIEN,WILLIAM J & WILLIAM\",\"OPPERMAN,MARC S & LYNNE S\",\"LUNETTA NANCY A TRUST\",\"CAI,MIKE\",\"MIER,LILIA SIERRA\",\"GHAJARI,LADAN\",\"DIGDIGAN,LIZA M\",\"FREGOSO,BERTHA A\",\"PURINTON JOHN D (TE)\",\"STEVENS,DAVID J\",\"RAMIREZ,JORGE\",\"MAYNC,PETER\",\"CHUNG,SEUK\",\"MUGAMBI,ALEX\",\"BELLO-ARAIZA,DEBRA L\",\"NESBITT,GEORGE J\",\"LAKEVIEW LN SERVICING LLC\",\"TIEMANN,PETER\",\"GROOMS,TROY\",\"LE HOAN (TE)\",\"BENTLEY,CHRISTOPHER C\",\"CHON,RICHARD\",\"CISNEROS,CARLA S\",\"LIGHT CASTLE PRIVATE FAMILY\",\"TINOCO,ABRAHAM\",\"WALSH FAMILY TRUST 2005\",\"HINSHAW,CAROLINE K\",\"GOLDEN EAGLE INVESTMENTS\",\"SOLANZO,HEIDI & GEORGE\",\"BOYD,DAVID S\",\"STONE,NENA\",\"CITYTECHI LLC\",\"THE BANK OF NY MELLON TR C\",\"CHENG DEAN (TE)\",\"NGO HUYNH FAMILY TRUST\",\"MULKEY,SANDRA M & GERALD\",\"SALIMEI,OZRA\",\"CHEN,XIAO YAN\",\"US BANK NATIONAL ASSOC TR\",\"LI,YEN K\",\"STRIKA,MARK & PATRICIA\",\"LEE,SON T\",\"HO,JOHNNY MON\",\"US BK NA SERIES 2005-AR2\",\"MULLER,RUSSELL J & CALENE\",\"WALLER,GLORIA J\",\"HANSON,LUISA A\",\"TOMEI,SCOTT & MICHELLE\",\"MOORE,JOHN E & LYDIA I\",\"SHISLER BRYAN B TRUST\",\"ALFARO,NANCY\",\"NGUYEN,NAM T\",\"KEARNS,CHARLES O\",\"JEWELL,MARSHA LOUISE LANE\",\"ONEAL,SANDRA L\",\"CHEN JU H LIVING TRUST\",\"ALPER,CHRISTOPHER\",\"KANGETER,LINDA MCCALL\",\"CYBULSKI,GLENN & AMY\",\"MONROE,PHYLLIS J\",\"TONG,PRISCILLA\",\"BEIDER,SERGIO & ELENA\",\"PEREDA,ARACELE\",\"TAI,PEI LIN\",\"WANG,HAIBEI\",\"WANG,DEJIA\",\"MORRISON,PATRICK L & W L\",\"MOSLEY,TIM\",\"FUNG,WAI CHUN\",\"CHEN,YAN LI\",\"KEITH,DARCY J\",\"MURTHY KAMAL (TE)\",\"MELENDEZ,GILBERT J & KERI\",\"GAMBINO,MARK P\",\"PRIMUS,ROBERT J\",\"TEAGUE,ERIN AMIEE\",\"US BANK NATIONAL ASSN\",\"GALON,JENNIFER\",\"HAMILTON,ALEXANDER E\",\"BLACKSTONE RESIDL OPERATI\",\"ESCALANTE,JUAN CARLOS & AN\",\"SKALISKY,JOHN R\",\"SCHENA,MARK A & RENE A\",\"VALADEZ,BRENDA\",\"NAHAL,PRABHJOT S\",\"LUONG,JULIE N & PETER D\",\"SUSANA A WASSMER 2018 LVG\",\"SANTOS,DON JUAN\",\"YU,ADLER W & ANNA W\",\"DEUTSCHE BANK NATIONAL C\",\"TANG,BOMAN S K & FRANCES P\",\"TRUONG,XUAN C\",\"WE,BONG MYUNG\",\"TRAN,AN THIEN\",\"LIMA,LUPE G & PAUL\",\"STEVENSON,MICHAEL\",\"BEASLEY,ANGELA R\",\"GUSTAVSON,ERIC M & JILL E\",\"DEUEL,JEFFREY M & GRETCHE\",\"US BK NA SERIES 2006-8\",\"BROWN,NIDUA S\",\"PUGLIESE,JOSEPH J\",\"CRAWFORD,THOMAS P\",\"ANZALDO,JILLIAN\",\"PROVIDENT FUNDING ASSOCIA\",\"JACQUELINE,NORMAN\",\"WHITEHOUSE,JOHN J & RAE R\",\"BAL,ALOK S\",\"CARDENAS,MARGARITA A & MA\",\"CHAN,JOHNNY\",\"ELDREDGE,JAMES\",\"MITCHELL,JOSEPH MICHAEL\",\"LE,TAM THI DUY\",\"HONCHARIW,NICHOLAS J & SHA\",\"RICHARD,CATHERINE R\",\"JWI SECURED FUND LLC\",\"KHO,RODRIGO & LORETA\",\"RPT PROPERTIES\",\"AVILA,ANTONIO\",\"BOLEANCU,ADOREAN\",\"PUCCIO,FRANK P\",\"SPIERING,CHESTER\",\"NGUYEN,HIEN T\",\"WILMINGTON TRUST NA 2015-1\",\"TIAMSON,CARLTON S\",\"VAGISHASHVARGAVI LIVING TR\",\"WHITELEY,DAVID D\",\"RICHARD,ERIC\",\"HUANG,EDWARD\",\"BRUSIL,ILONA\",\"LUO,JAMES J\",\"XU,JIA\",\"KILLINGSWORTH,RANDALL B\",\"DUNSTER,OLGA M & ROBERT S\",\"RESTORATION OF DIGNITY ANT\",\"ERNST,STEVEN R & DARCY F K\",\"BREYER,CHARLES R\",\"DUMAS,KATHLEEN C\",\"KAMPTON,WILLIAM C & SUSAN\",\"POLANSKY,JONATHAN F\",\"LHFC PROPERTIES LLC\",\"PEREZ,ADRIAN\",\"SHETLER,KATERINA P\",\"JENNINGS,MARY\",\"YAKTE PROPERTIES LLC\",\"LENCI,IVALDO & GAYLE I\",\"GUSTAVSON,MARK J\",\"LIU,JIN\",\"DEL MONTE FOODS INC\",\"ALEXANDERMAKER,YOLANDA\",\"ILLSLEY,MARK\",\"HPS VENTURES LLC\",\"NIRVANA INVESTMENT GROUP\",\"EVANS,ANDREW K\",\"FEDERAL HOME LOAN MORTGA\",\"TRAN JOHN HOANG (TE)\",\"PENDERGRASS,HAROLD J & GL\",\"DIEP,VAN K\",\"WELLS FARGO BANK NA\",\"KOO,GORDON\",\"SHEINBLATT,HARRISON J & AND\",\"DEUTSCHE BANK TRUST CO AM\",\"HUYNH MINH MY (TE)\",\"SADE RON (TE)\",\"NATIONSTAR MORTGAGE LLC\",\"KONDO,MARJORIE J\",\"TUGADE,ERNESTO T & CRISTIN\",\"BLEA,STEVEN M\",\"DEUTSCHE BANK NATIONAL TR\",\"VERNAL,RAUL A\",\"HIGH,MICHAEL & LAURIE C\",\"O CONNOR,MICHAEL\",\"KERTAYASA ROBERT (TE)\",\"RESIDENTIAL CREDIT O TRUST\",\"ALTON,PATRICIA\",\"HUANG,KAI L\",\"WEBER,HUNG & GEOFFREY L\",\"LILLIE HOMER J JR (TE)\",\"SABHARWAL\",\"PECK,DARLENE M\",\"SANTOS,THOMAS J & DIANE C\",\"BANK OF NEW YORK\",\"SHORE,JOHN M\",\"ALGAZZALI,NADEM\",\"SEITZ,SHIRLEY A\",\"YOUNG,DAVID W\",\"POWERS,ROBERT F\",\"JEPSON,JOHN A & KENNETH R\",\"ABHISHEK & SHIJIN LIVING TRU\",\"PROPERTY INVESTORS 2020 LL\",\"LARCINA,ROBERTA M\",\"NGUYEN,ADRIENNE H\",\"FREITAS,GARY\",\"ALMEIDA,ANN P & JOSE B\",\"NV WESTMONT LLC\",\"HARRISON,TREVOR S\",\"VELEZ,DAVID G\",\"SANDOVAL,ANA MARIE & ISRAE\",\"NGUYEN,MICHAEL\",\"WELLS FARGO BANK N A\",\"MCCUE,KEVIN P & KATHERINE\",\"SAHA,PRONAY & KAREN\",\"JPMORGAN,CHASE\",\"COAST PROPERTY ENTERPRIS\",\"LIU,YONG QIANG\",\"DRAKEFORD,RHONDA E & REGI\",\"VIRAY,AURORA\",\"KRIKORIAN,HAIG\",\"OZUNA,SEVERO C & SUSANA R\",\"HO,VIOLET SIU-PING & VIOLET\",\"JEREZ DONNA R (TE)\",\"HU,DANIEL C & ALICE T\",\"TOURAPIS,ALEXANDROS\",\"BORUTA,MIREK\",\"DANNA MICHAEL A (TE)\",\"JANDIAL,SIDHARTHA & PRIYANK\",\"CHEN,JIANG\",\"JABER JAMES F (TE)\",\"RUBINFELD,STEVEN M & KATHL\",\"DEHARO MANUEL (TE)\",\"WONG OF LU FAMILY TRUST\",\"WOO,CATHY A\",\"WALSH & BUCK LLC\",\"US BK NA SERIES 2006-2\",\"HAWARI,RABAB A & DERAR M\",\"TONG,SU FANG\",\"BALDOZ,EMARIE R & RODEL F\",\"ORCHARD PROPERTY LLC\",\"TOVAR,JOSE LUIS & MARIA EUG\",\"BROCK MICHAEL J (TE)\",\"LAKAMRAJU,MADHUVALLI & VE\",\"ROMSTAD,KEITH A\",\"BROWN,JOHN W & DANA L\",\"LEWENILOVO,ALLISON E CARNI\",\"US BK NA 2019-2\",\"TVC FUNDING IV REO LLC\",\"1SHARPE INCOME TRUST\",\"TOWNS,KEITH T\",\"VICTORIA CAPITAL TRUST\",\"JP MORGAN CHASE BANK\",\"MARINO,MARIO\",\"FERREIRA CARLOS A LIVING TR\",\"DANG,HOAN & DIANA\",\"PODLESNIK,DRAGAN V\",\"CHAN,ELAINE H\",\"LOEFFLER-LITTLE,BENJAMIN &\",\"BROOKS,MARIA T\",\"SILICON VLY BK\",\"EMPIRE INVESTMENTS LLC\",\"VITALE,FRANK\",\"SHAFER FAMILY TRUST\",\"DUGGAN,MARTIN & KIM S\",\"US BK NA SERIES 2007-HY6\",\"CARTMELL,RICHARD F\",\"STEELMARK MORTGAGE\",\"HARRIS,DAVID G\",\"JURAS SUZANAH M (TE)\",\"KELLY,WALTER PAUL & SUZETT\",\"KOGELNIK,ANDREAS M\",\"PASHA,ARIF & MAHJABEEN\",\"SHOUA\",\"EVES,ROBERT J\",\"PROUT,DENNIS B\",\"CWALT ALTERNATIVE LOAN\",\"WILCZAK,JUDITH A & JOSEPH L\",\"PATEL,TARUNKUMAR K\",\"CHU JEHAN PEICHUNG\",\"GREEN,CHARLES K & LINDA L\",\"KRIPALANI,KISHORE & LYNDA\",\"BANK OF NEW YORK MELL 2005\",\"BANC OF AMERICA FUNDING CO\",\"NGUYEN,TRANG D\",\"JPMORGAN CHASE BK NA\",\"GACHES GREGORY B (TE)\",\"TRIUMPH REO ASSETS LLC\",\"BOHATY VENTURES LLC\",\"TRUMAN 2016 SC6 TITLE TRUST\",\"PURI,ROHIT & DIVYA\",\"MALHOTRA,ROHIT & SAGUNA R\",\"JOHNSON,BENJAMIN C & ANITA\",\"U S BANK NA\",\"TOY,ANDREW JONG KEIN\",\"HSBC BK USA NA SERIE 2006-O\",\"SINGH JAGDEEP (TE)\",\"VAN TRAN,HIEU\",\"S & R INCOME FUND I LP\",\"JAIN,UDAY & RASHMI\",\"CALIFORNIA PACIFIC BANK\",\"AIMCO LEAHY SQUARE APARTM\"],\"title\":\"Owner\",\"value\":\"CHRISTENSEN,JAY & ANNE\",\"width\":250},\"id\":\"4213\",\"type\":\"Select\"},{\"attributes\":{\"margin\":[5,5,5,5],\"name\":\"HSpacer10804\",\"sizing_mode\":\"stretch_width\"},\"id\":\"4143\",\"type\":\"Spacer\"},{\"attributes\":{\"children\":[{\"id\":\"4213\"}],\"css_classes\":[\"panel-widget-box\"],\"margin\":[5,5,5,5],\"name\":\"WidgetBox10796\"},\"id\":\"4212\",\"type\":\"Column\"},{\"attributes\":{\"factors\":[\"4328 Edwards Ln\"],\"tags\":[[[\"Address\",\"Address\",null]]]},\"id\":\"4145\",\"type\":\"FactorRange\"},{\"attributes\":{\"children\":[{\"id\":\"4211\"},{\"id\":\"4212\"},{\"id\":\"4214\"}],\"margin\":[0,0,0,0],\"name\":\"Column10803\"},\"id\":\"4210\",\"type\":\"Column\"},{\"attributes\":{},\"id\":\"4154\",\"type\":\"CategoricalScale\"},{\"attributes\":{\"axis\":{\"id\":\"4160\"},\"dimension\":1,\"grid_line_color\":null,\"ticker\":null},\"id\":\"4162\",\"type\":\"Grid\"},{\"attributes\":{\"format\":\"%.0f\"},\"id\":\"4184\",\"type\":\"PrintfTickFormatter\"},{\"attributes\":{},\"id\":\"4163\",\"type\":\"SaveTool\"},{\"attributes\":{\"end\":0.0,\"reset_end\":0.0,\"reset_start\":-58496161.0,\"start\":-58496161.0,\"tags\":[[[\"Est Equity\",\"Est Equity\",null]]]},\"id\":\"4144\",\"type\":\"Range1d\"},{\"attributes\":{\"axis\":{\"id\":\"4156\"},\"grid_line_color\":null,\"ticker\":null},\"id\":\"4159\",\"type\":\"Grid\"},{\"attributes\":{},\"id\":\"4189\",\"type\":\"CategoricalTickFormatter\"},{\"attributes\":{\"client_comm_id\":\"b718952d27f2404f9aa883280528a709\",\"comm_id\":\"194b6301aef24b56b555b3baaf0498ca\",\"plot_id\":\"4142\"},\"id\":\"4236\",\"type\":\"panel.models.comm_manager.CommManager\"},{\"attributes\":{},\"id\":\"4200\",\"type\":\"UnionRenderers\"},{\"attributes\":{},\"id\":\"4161\",\"type\":\"CategoricalTicker\"},{\"attributes\":{\"fill_alpha\":{\"value\":0.2},\"fill_color\":{\"value\":\"blue\"},\"height\":{\"value\":0.8},\"line_alpha\":{\"value\":0.2},\"right\":{\"field\":\"Est_Equity\"},\"y\":{\"field\":\"Address\"}},\"id\":\"4181\",\"type\":\"HBar\"},{\"attributes\":{\"overlay\":{\"id\":\"4168\"}},\"id\":\"4166\",\"type\":\"BoxZoomTool\"},{\"attributes\":{\"data_source\":{\"id\":\"4176\"},\"glyph\":{\"id\":\"4179\"},\"hover_glyph\":null,\"muted_glyph\":{\"id\":\"4181\"},\"nonselection_glyph\":{\"id\":\"4180\"},\"selection_glyph\":null,\"view\":{\"id\":\"4183\"}},\"id\":\"4182\",\"type\":\"GlyphRenderer\"},{\"attributes\":{},\"id\":\"4165\",\"type\":\"WheelZoomTool\"},{\"attributes\":{\"axis_label\":\"Est Equity\",\"bounds\":\"auto\",\"formatter\":{\"id\":\"4184\"},\"major_label_orientation\":\"horizontal\",\"ticker\":{\"id\":\"4157\"}},\"id\":\"4156\",\"type\":\"LinearAxis\"},{\"attributes\":{\"margin\":[5,5,5,5],\"name\":\"HSpacer10805\",\"sizing_mode\":\"stretch_width\"},\"id\":\"4209\",\"type\":\"Spacer\"},{\"attributes\":{\"fill_alpha\":{\"value\":0.1},\"fill_color\":{\"value\":\"blue\"},\"height\":{\"value\":0.8},\"line_alpha\":{\"value\":0.1},\"right\":{\"field\":\"Est_Equity\"},\"y\":{\"field\":\"Address\"}},\"id\":\"4180\",\"type\":\"HBar\"},{\"attributes\":{\"bottom_units\":\"screen\",\"fill_alpha\":0.5,\"fill_color\":\"lightgrey\",\"left_units\":\"screen\",\"level\":\"overlay\",\"line_alpha\":1.0,\"line_color\":\"black\",\"line_dash\":[4,4],\"line_width\":2,\"right_units\":\"screen\",\"top_units\":\"screen\"},\"id\":\"4168\",\"type\":\"BoxAnnotation\"},{\"attributes\":{\"axis_label\":\"Address\",\"bounds\":\"auto\",\"formatter\":{\"id\":\"4189\"},\"major_label_orientation\":\"horizontal\",\"ticker\":{\"id\":\"4161\"}},\"id\":\"4160\",\"type\":\"CategoricalAxis\"},{\"attributes\":{\"active_drag\":\"auto\",\"active_inspect\":\"auto\",\"active_multi\":null,\"active_scroll\":\"auto\",\"active_tap\":\"auto\",\"tools\":[{\"id\":\"4146\"},{\"id\":\"4163\"},{\"id\":\"4164\"},{\"id\":\"4165\"},{\"id\":\"4166\"},{\"id\":\"4167\"}]},\"id\":\"4169\",\"type\":\"Toolbar\"},{\"attributes\":{\"source\":{\"id\":\"4176\"}},\"id\":\"4183\",\"type\":\"CDSView\"},{\"attributes\":{\"callback\":null,\"renderers\":[{\"id\":\"4182\"}],\"tags\":[\"hv_created\"],\"tooltips\":[[\"Address\",\"@{Address}\"],[\"Est Equity\",\"@{Est_Equity}\"]]},\"id\":\"4146\",\"type\":\"HoverTool\"},{\"attributes\":{\"margin\":[5,5,5,5],\"name\":\"VSpacer10802\",\"sizing_mode\":\"stretch_height\"},\"id\":\"4214\",\"type\":\"Spacer\"},{\"attributes\":{},\"id\":\"4157\",\"type\":\"BasicTicker\"},{\"attributes\":{\"fill_color\":{\"value\":\"blue\"},\"height\":{\"value\":0.8},\"right\":{\"field\":\"Est_Equity\"},\"y\":{\"field\":\"Address\"}},\"id\":\"4179\",\"type\":\"HBar\"},{\"attributes\":{},\"id\":\"4167\",\"type\":\"ResetTool\"},{\"attributes\":{\"data\":{\"Address\":[\"4328 Edwards Ln\"],\"Est_Equity\":{\"__ndarray__\":\"AAAACKXki8E=\",\"dtype\":\"float64\",\"order\":\"little\",\"shape\":[1]}},\"selected\":{\"id\":\"4177\"},\"selection_policy\":{\"id\":\"4200\"}},\"id\":\"4176\",\"type\":\"ColumnDataSource\"},{\"attributes\":{\"below\":[{\"id\":\"4156\"}],\"center\":[{\"id\":\"4159\"},{\"id\":\"4162\"}],\"left\":[{\"id\":\"4160\"}],\"margin\":[5,5,5,5],\"min_border_bottom\":10,\"min_border_left\":10,\"min_border_right\":10,\"min_border_top\":10,\"plot_height\":500,\"plot_width\":1500,\"renderers\":[{\"id\":\"4182\"}],\"sizing_mode\":\"fixed\",\"title\":{\"id\":\"4148\"},\"toolbar\":{\"id\":\"4169\"},\"x_range\":{\"id\":\"4144\"},\"x_scale\":{\"id\":\"4152\"},\"y_range\":{\"id\":\"4145\"},\"y_scale\":{\"id\":\"4154\"}},\"id\":\"4147\",\"subtype\":\"Figure\",\"type\":\"Plot\"},{\"attributes\":{},\"id\":\"4177\",\"type\":\"Selection\"},{\"attributes\":{\"margin\":[5,5,5,5],\"name\":\"VSpacer10801\",\"sizing_mode\":\"stretch_height\"},\"id\":\"4211\",\"type\":\"Spacer\"},{\"attributes\":{\"text\":\"Estimated Foreclosue Equity Value - Grouped by Owner\",\"text_color\":{\"value\":\"black\"},\"text_font_size\":{\"value\":\"12pt\"}},\"id\":\"4148\",\"type\":\"Title\"},{\"attributes\":{\"children\":[{\"id\":\"4143\"},{\"id\":\"4147\"},{\"id\":\"4209\"},{\"id\":\"4210\"}],\"margin\":[0,0,0,0],\"name\":\"Row10795\"},\"id\":\"4142\",\"type\":\"Row\"},{\"attributes\":{},\"id\":\"4152\",\"type\":\"LinearScale\"}],\"root_ids\":[\"4142\",\"4236\"]},\"title\":\"Bokeh Application\",\"version\":\"2.2.3\"}};\n",
       "    var render_items = [{\"docid\":\"2dcbfecd-d5a9-4969-925a-7af2f0acba10\",\"root_ids\":[\"4142\"],\"roots\":{\"4142\":\"e79b330a-3c03-4494-ba6f-29cd0bad9411\"}}];\n",
       "    root.Bokeh.embed.embed_items_notebook(docs_json, render_items);\n",
       "  }\n",
       "  if (root.Bokeh !== undefined && root.Bokeh.Panel !== undefined) {\n",
       "    embed_document(root);\n",
       "  } else {\n",
       "    var attempts = 0;\n",
       "    var timer = setInterval(function(root) {\n",
       "      if (root.Bokeh !== undefined && root.Bokeh.Panel !== undefined) {\n",
       "        clearInterval(timer);\n",
       "        embed_document(root);\n",
       "      } else if (document.readyState == \"complete\") {\n",
       "        attempts++;\n",
       "        if (attempts > 100) {\n",
       "          clearInterval(timer);\n",
       "          console.log(\"Bokeh: ERROR: Unable to run BokehJS code because BokehJS library is missing\");\n",
       "        }\n",
       "      }\n",
       "    }, 10, root)\n",
       "  }\n",
       "})(window);</script>"
      ],
      "text/plain": [
       ":DynamicMap   [Owner]\n",
       "   :Bars   [Address]   (Est Equity)"
      ]
     },
     "execution_count": 47,
     "metadata": {
      "application/vnd.holoviews_exec.v0+json": {
       "id": "4142"
      }
     },
     "output_type": "execute_result"
    }
   ],
   "source": [
    "foreclosure_equity_plot_city = foreclosure_df_sorted_equity[['County','City','Est Equity', 'Owner']].hvplot(\n",
    "    kind='bar',\n",
    "    height=500,\n",
    "    width=1500,\n",
    "    groupby='Owner',  \n",
    "    title='Estimated Foreclosue Equity Value - Grouped by Owner',\n",
    "    y='Est Equity',\n",
    ").opts(xformatter = '%.0f',\n",
    "      invert_axes=True,\n",
    "      color='blue')\n",
    "\n",
    "foreclosure_equity_plot_city"
   ]
  },
  {
   "cell_type": "code",
   "execution_count": null,
   "metadata": {},
   "outputs": [],
   "source": [
    "#return only rows where latitude isn't ???\n",
    "\n",
    "#foreclosure_df.loc[:, \"Latitude\"] = foreclosure_df.loc[:, \"Latitude\"].str.replace(\"?\", \"\")\n",
    "#foreclosure_df.loc[:, \"Longitude\"] = foreclosure_df.loc[:, \"Longitude\"].str.replace(\"?\", \"\")\n",
    "\n",
    "foreclosure_df = foreclosure_df.query('Latitude != \"???\"')\n",
    "\n",
    "\n",
    "#foreclosure_df['Latitude'].dropna()\n",
    "#foreclosure_df['Longitude'].dropna()\n",
    "\n",
    "\n",
    "#display(foreclosure_df.head())\n",
    "#display(foreclosure_df.tail())\n",
    "\n",
    "#display(foreclosure_df.isnull().sum())       \n",
    "#foreclosure_df.dtypes"
   ]
  },
  {
   "cell_type": "code",
   "execution_count": null,
   "metadata": {},
   "outputs": [],
   "source": [
    "# For all the rows in \"latitude\", use the astype function \n",
    "# to change the data type from Object (string) to float\n",
    "foreclosure_df.loc[:, \"Latitude\"] = foreclosure_df.loc[:, \"Latitude\"].astype(float)\n",
    "foreclosure_df.loc[:, \"Longitude\"] = foreclosure_df.loc[:, \"Longitude\"].astype(float)\n",
    "\n",
    "#display dataframes\n",
    "#display(foreclosure_df.head())\n",
    "#display(foreclosure_df.tail())\n",
    "\n",
    "#confirm float type\n",
    "#foreclosure_df.dtypes\n"
   ]
  },
  {
   "cell_type": "code",
   "execution_count": null,
   "metadata": {},
   "outputs": [],
   "source": [
    "# Create the Mapbox Scatter plot based on the most_foreclosures_df DataFrame.\n",
    "# The color parameter should be based on County\n",
    "px.scatter_mapbox(\n",
    "foreclosure_df,\n",
    "    lat='Latitude',\n",
    "    lon='Longitude',\n",
    "    zoom=8,\n",
    "    title='Foreclosures scatter plot by County',\n",
    "    color='County',\n",
    "    width=1500,\n",
    "    height=500\n",
    ")"
   ]
  },
  {
   "cell_type": "code",
   "execution_count": null,
   "metadata": {},
   "outputs": [],
   "source": [
    "# Create the Mapbox Scatter plot based on the most_foreclosures_df DataFrame.\n",
    "# The color parameter should be based on city\n",
    "px.scatter_mapbox(\n",
    "foreclosure_df,\n",
    "    lat='Latitude',\n",
    "    lon='Longitude',\n",
    "    zoom=8,\n",
    "    title='Foreclosures Scatter Plot by City',\n",
    "    color='City',\n",
    "    width=1500,\n",
    "    height=500\n",
    ")"
   ]
  },
  {
   "cell_type": "code",
   "execution_count": null,
   "metadata": {},
   "outputs": [],
   "source": [
    "# Using the `read_csv` function and Path module, read sales data \n",
    "# and create the Pandas DataFrame.\n",
    "home_sales_SF = pd.read_csv(\n",
    "    Path('../California_Real_Estate_Analysis/Resources/San_Francisco.csv'),\n",
    ")\n",
    "\n",
    "santa_rosa_sales_df = pd.read_csv(\n",
    "    Path('../California_Real_Estate_Analysis/Resources/Santa_Rosa.csv'),\n",
    ")\n",
    "\n",
    "oakland_sales_data = pd.read_csv(\n",
    "    Path('../California_Real_Estate_Analysis/Resources/Oakland.csv')\n",
    ")\n",
    "\n",
    "San_Jose_Sales_df = pd.read_csv(\n",
    "    Path('../California_Real_Estate_Analysis/Resources/San_Jose.csv'),\n",
    ")"
   ]
  },
  {
   "cell_type": "markdown",
   "metadata": {},
   "source": [
    "# SAN FRANCISCO HOUSING SALES DATA (LAST 3 MONTHS - SORTED BY PRICE)\n",
    "#  "
   ]
  },
  {
   "cell_type": "code",
   "execution_count": null,
   "metadata": {},
   "outputs": [],
   "source": [
    "#Sort home based on sales date\n",
    "home_sales_SF_sorted=home_sales_SF.sort_values('price')\n",
    "\n",
    "#Review the first and last five rows of SF Sales DataFrame\n",
    "display(home_sales_SF_sorted.head())\n",
    "display(home_sales_SF_sorted.tail())"
   ]
  },
  {
   "cell_type": "markdown",
   "metadata": {},
   "source": [
    "# SANTA ROSA HOUSING SALES DATA (LAST 3 MONTHS - SORTED BY PRICE)\n",
    "#  "
   ]
  },
  {
   "cell_type": "code",
   "execution_count": null,
   "metadata": {},
   "outputs": [],
   "source": [
    "#Review the first and last five rows of Santa Rosa Sales DataFrame\n",
    "santa_rosa_sales_df_sorted=santa_rosa_sales_df.sort_values('price')\n",
    "\n",
    "display(santa_rosa_sales_df_sorted.head())\n",
    "display(santa_rosa_sales_df_sorted.tail())"
   ]
  },
  {
   "cell_type": "markdown",
   "metadata": {},
   "source": [
    "# SAN JOSE HOUSING SALES DATA (LAST 3 MONTHS - SORTED BY DATE)\n",
    "#  "
   ]
  },
  {
   "cell_type": "code",
   "execution_count": null,
   "metadata": {},
   "outputs": [],
   "source": [
    "#Review the first and last five rows of San Jose Sales DataFrame\n",
    "San_Jose_Sales_df_sorted = San_Jose_Sales_df.sort_values('price')\n",
    "\n",
    "display(San_Jose_Sales_df_sorted.head())\n",
    "display(San_Jose_Sales_df_sorted.tail())"
   ]
  },
  {
   "cell_type": "markdown",
   "metadata": {},
   "source": [
    "# OAKLAND HOUSING SALES DATA (LAST 3 MONTHS - SORTED BY DATE)\n",
    "#  "
   ]
  },
  {
   "cell_type": "code",
   "execution_count": null,
   "metadata": {},
   "outputs": [],
   "source": [
    "#Review the first and last five rows of Oakland Sales DataFrame\n",
    "oakland_sales_data_sorted = oakland_sales_data.sort_values('price')\n",
    "\n",
    "display(oakland_sales_data_sorted.head())\n",
    "display(oakland_sales_data_sorted.tail())"
   ]
  },
  {
   "cell_type": "code",
   "execution_count": null,
   "metadata": {},
   "outputs": [],
   "source": [
    "San_Jose_Sales_df[['price', 'redfin_estimate']].hvplot(\n",
    "    height=500,\n",
    "    width=1500\n",
    ")"
   ]
  },
  {
   "cell_type": "code",
   "execution_count": null,
   "metadata": {},
   "outputs": [],
   "source": [
    "santa_rosa_sales_df[\"sold_date\"] = pd.to_datetime(santa_rosa_sales_df[\"sold_date\"])\n",
    "santa_rosa_sales_df.sort_values(by=\"sold_date\")"
   ]
  },
  {
   "cell_type": "code",
   "execution_count": null,
   "metadata": {},
   "outputs": [],
   "source": [
    "santa_rosa_sales_df_sorted[['price', 'address','property_type']].hvplot(\n",
    "    kind='bar',\n",
    "    height=500,\n",
    "    width=1500,\n",
    "    groupby='property_type',\n",
    "    \n",
    ")\n"
   ]
  },
  {
   "cell_type": "code",
   "execution_count": null,
   "metadata": {},
   "outputs": [],
   "source": [
    "home_sales_SF[['price', 'address']].hvplot(\n",
    "    kind='bar',\n",
    "    height=500,\n",
    "    width=1500,\n",
    ")"
   ]
  },
  {
   "cell_type": "code",
   "execution_count": null,
   "metadata": {},
   "outputs": [],
   "source": [
    "\n",
    "santa_rosa_sales_df_sorted[['price', 'address','property_type','bedrooms']].hvplot(\n",
    "    kind='bar',\n",
    "    height=500,\n",
    "    width=1500,\n",
    "    groupby='bedrooms',\n",
    "    \n",
    ")"
   ]
  },
  {
   "cell_type": "code",
   "execution_count": null,
   "metadata": {},
   "outputs": [],
   "source": [
    "#get summary statistics on SF sales prices\n",
    "\n",
    "home_sales_SF['price'].describe()"
   ]
  },
  {
   "cell_type": "code",
   "execution_count": null,
   "metadata": {},
   "outputs": [],
   "source": [
    "santa_rosa_sales_df['price'].describe()"
   ]
  },
  {
   "cell_type": "code",
   "execution_count": null,
   "metadata": {},
   "outputs": [],
   "source": [
    "#slice foreclosures by county and est equity\n",
    "\n",
    "\"\"\"\"foreclosures_equity_county = (\n",
    "    foreclosure_df[['County', 'Est Equity']]\n",
    ")\n",
    "\n",
    "#preview new datafram\n",
    "foreclosures_equity_county.head()\"\"\""
   ]
  },
  {
   "cell_type": "code",
   "execution_count": null,
   "metadata": {},
   "outputs": [],
   "source": []
  },
  {
   "cell_type": "code",
   "execution_count": null,
   "metadata": {},
   "outputs": [],
   "source": [
    "#convert Est to float\n",
    "#foreclosures_equity_county.loc[:, \"Est Equity\"] = foreclosures_equity_county.loc[:, \"Est Equity\"].astype(float)\n"
   ]
  },
  {
   "cell_type": "code",
   "execution_count": null,
   "metadata": {},
   "outputs": [],
   "source": [
    "total_equity_by_county = foreclosures_equity_county.groupby('County').sum()\n",
    "\n",
    "total_equity_by_county"
   ]
  },
  {
   "cell_type": "code",
   "execution_count": null,
   "metadata": {},
   "outputs": [],
   "source": [
    "total_equity_by_county.hvplot.bar(\n",
    "    x='County'\n",
    ")"
   ]
  },
  {
   "cell_type": "code",
   "execution_count": null,
   "metadata": {},
   "outputs": [],
   "source": [
    "total_equity_by_county_sorted = total_equity_by_county.sort_values('Est Equity')\n",
    "\n",
    "total_equity_by_county_sorted.hvplot.bar(\n",
    "    x='County',\n",
    "    y='Est Equity',\n",
    "    rot=90\n",
    ")"
   ]
  },
  {
   "cell_type": "code",
   "execution_count": null,
   "metadata": {},
   "outputs": [],
   "source": [
    "#slice foreclosures by county and est equity\n",
    "\n",
    "foreclosures_equity_county_value = (\n",
    "    foreclosure_df[['County', 'Est Value']]\n",
    ")\n",
    "\n",
    "#preview new datafram\n",
    "foreclosures_equity_county_value.head()"
   ]
  },
  {
   "cell_type": "code",
   "execution_count": null,
   "metadata": {},
   "outputs": [],
   "source": [
    "# For all the rows in the \"Est Equity\", use the str.replace function \n",
    "\n",
    "# to replace the \"$\" with empty strings (\"\")\n",
    "foreclosures_equity_county_value.loc[:, \"Est Value\"] = foreclosures_equity_county_value.loc[:, \"Est Value\"].str.replace(\"$\", \"\")\n",
    "\n",
    "# to replace the \",\" with empty strings (\"\")\n",
    "foreclosures_equity_county_value.loc[:, \"Est Value\"] = foreclosures_equity_county_value.loc[:, \"Est Value\"].str.replace(\",\", \"\")\n",
    "\n",
    "\n",
    "#preview new datafram\n",
    "foreclosures_equity_county_value.head()\n",
    "\n",
    "#foreclosures_equity_county.dtypes"
   ]
  },
  {
   "cell_type": "code",
   "execution_count": null,
   "metadata": {},
   "outputs": [],
   "source": [
    "display(oakland_sales_data.head())\n",
    "display(oakland_sales_data.tail())"
   ]
  },
  {
   "cell_type": "code",
   "execution_count": null,
   "metadata": {},
   "outputs": [],
   "source": [
    "bay_area_foreclosure_sliced = bay_area_foreclosure.loc[:, ['Address', 'City', 'Est Value', 'Est Equity', 'Latitude', 'Longitude' ]].dropna()"
   ]
  },
  {
   "cell_type": "code",
   "execution_count": null,
   "metadata": {},
   "outputs": [],
   "source": [
    "bay_area_foreclosure_sliced.isnull().sum()"
   ]
  },
  {
   "cell_type": "code",
   "execution_count": null,
   "metadata": {},
   "outputs": [],
   "source": [
    "display(bay_area_foreclosure_sliced.head())"
   ]
  },
  {
   "cell_type": "code",
   "execution_count": null,
   "metadata": {},
   "outputs": [],
   "source": [
    "bay_area_foreclosure_sliced[['Latitude', 'Longitude']].replace('???',\" \")"
   ]
  },
  {
   "cell_type": "code",
   "execution_count": null,
   "metadata": {},
   "outputs": [],
   "source": [
    "oakland_sales_data_sliced = oakland_sales_data.loc[:, ['address', 'latitude', 'longitude', 'price', 'redfin_estimate', 'property_type',]]"
   ]
  },
  {
   "cell_type": "code",
   "execution_count": null,
   "metadata": {},
   "outputs": [],
   "source": [
    "oakland_sales_data_sliced.dtypes"
   ]
  },
  {
   "cell_type": "code",
   "execution_count": null,
   "metadata": {},
   "outputs": [],
   "source": [
    "oakland_sales_data_sliced.isnull().sum()"
   ]
  },
  {
   "cell_type": "code",
   "execution_count": null,
   "metadata": {},
   "outputs": [],
   "source": [
    "# oakland_sales_data_sliced = oakland_sales_data_sliced.fillna('mean')"
   ]
  },
  {
   "cell_type": "code",
   "execution_count": null,
   "metadata": {},
   "outputs": [],
   "source": [
    "oakland_sales_data_sliced = oakland_sales_data_sliced.dropna()"
   ]
  },
  {
   "cell_type": "code",
   "execution_count": null,
   "metadata": {},
   "outputs": [],
   "source": [
    " oakland_sales_data_sliced.isnull().sum()"
   ]
  },
  {
   "cell_type": "code",
   "execution_count": null,
   "metadata": {},
   "outputs": [],
   "source": [
    "display(oakland_sales_data_sliced.head())"
   ]
  },
  {
   "cell_type": "code",
   "execution_count": null,
   "metadata": {},
   "outputs": [],
   "source": [
    "santa_rosa_sales_sliced = santa_rosa_sales_df.loc[:, ['address', 'latitude', 'longitude', 'price', 'redfin_estimate', 'property_type',]]"
   ]
  },
  {
   "cell_type": "code",
   "execution_count": null,
   "metadata": {},
   "outputs": [],
   "source": [
    "santa_rosa_sales_sliced.dtypes"
   ]
  },
  {
   "cell_type": "code",
   "execution_count": null,
   "metadata": {},
   "outputs": [],
   "source": [
    "santa_rosa_sales_sliced.isnull().sum()"
   ]
  },
  {
   "cell_type": "code",
   "execution_count": null,
   "metadata": {},
   "outputs": [],
   "source": [
    "santa_rosa_sales_sliced = santa_rosa_sales_sliced.dropna()"
   ]
  },
  {
   "cell_type": "code",
   "execution_count": null,
   "metadata": {},
   "outputs": [],
   "source": [
    "display(santa_rosa_sales_sliced.head())"
   ]
  },
  {
   "cell_type": "code",
   "execution_count": null,
   "metadata": {},
   "outputs": [],
   "source": [
    "bay_area_foreclosure_sliced.dtypes"
   ]
  },
  {
   "cell_type": "code",
   "execution_count": null,
   "metadata": {},
   "outputs": [],
   "source": [
    "avg_foreclosure_value_county = (\n",
    "    bay_area_foreclosure_sliced[['Est Value']]\n",
    "    .groupby('County')\n",
    "    .mean()\n",
    "    .sort_values('County')\n",
    ").round()\n",
    "display(avg_foreclosure_value_county)"
   ]
  },
  {
   "cell_type": "code",
   "execution_count": null,
   "metadata": {},
   "outputs": [],
   "source": [
    "avg_foreclosure_value_county.hvplot.bar(\n",
    "    title='Avg Foreclosure Value in the Bay Area By County',\n",
    "    rot = 90\n",
    ")"
   ]
  },
  {
   "cell_type": "code",
   "execution_count": null,
   "metadata": {},
   "outputs": [],
   "source": [
    "avg_foreclosure_value_city = (\n",
    "    bay_area_foreclosure_sliced[['Est Value','City', 'Latitude', 'Longitude']]\n",
    "    .groupby('City')\n",
    "    .mean()\n",
    "    .sort_values('City')\n",
    ").round()\n",
    "\n",
    "display(avg_foreclosure_value_city.head(10))"
   ]
  },
  {
   "cell_type": "code",
   "execution_count": null,
   "metadata": {},
   "outputs": [],
   "source": [
    "avg_foreclosure_value_city.hvplot.bar(\n",
    "    title='Avg Foreclosure Value in the Bay Area By City',\n",
    "    rot = 90\n",
    ")"
   ]
  },
  {
   "cell_type": "code",
   "execution_count": null,
   "metadata": {},
   "outputs": [],
   "source": [
    " alameda_county = bay_area_foreclosure_sliced[bay_area_foreclosure_sliced.index == 'Alameda']"
   ]
  },
  {
   "cell_type": "code",
   "execution_count": null,
   "metadata": {},
   "outputs": [],
   "source": [
    "alameda_county.head()"
   ]
  },
  {
   "cell_type": "code",
   "execution_count": null,
   "metadata": {},
   "outputs": [],
   "source": [
    "avg_alameda_foreclosure_value = (\n",
    "    alameda_county[['Est Value','City', 'Latitude', 'Longitude']]\n",
    "    .groupby('City')\n",
    "    .mean()\n",
    "    .sort_values('City')\n",
    ").round()"
   ]
  },
  {
   "cell_type": "code",
   "execution_count": null,
   "metadata": {},
   "outputs": [],
   "source": [
    "avg_alameda_foreclosure_value.hvplot.bar(\n",
    "    title='Avg Foreclosure Value in Alameda County',\n",
    "    rot = 90\n",
    ")"
   ]
  },
  {
   "cell_type": "code",
   "execution_count": null,
   "metadata": {},
   "outputs": [],
   "source": [
    "oakland_foreclosure_data = bay_area_foreclosure_sliced[bay_area_foreclosure_sliced.City == 'OAKLAND']"
   ]
  },
  {
   "cell_type": "code",
   "execution_count": null,
   "metadata": {},
   "outputs": [],
   "source": [
    "avg_oakland_foreclosure_value = (\n",
    "    oakland_foreclosure_data[['Est Value', 'Est Equity','City',]]\n",
    "    .groupby('City')\n",
    "    .mean()\n",
    "    .sort_values('City')\n",
    ").round()"
   ]
  },
  {
   "cell_type": "code",
   "execution_count": null,
   "metadata": {},
   "outputs": [],
   "source": [
    "display(avg_oakland_foreclosure_value)"
   ]
  },
  {
   "cell_type": "code",
   "execution_count": null,
   "metadata": {},
   "outputs": [],
   "source": [
    "avg_oakland_foreclosure_value.hvplot.bar(\n",
    "    title='Avg Foreclosure Value in Oakland',\n",
    "    rot = 90\n",
    ")"
   ]
  },
  {
   "cell_type": "code",
   "execution_count": null,
   "metadata": {},
   "outputs": [],
   "source": [
    "avg_oakland_sale = (\n",
    "    oakland_sales_data[['price']]\n",
    "    .mean()\n",
    ").round()"
   ]
  },
  {
   "cell_type": "code",
   "execution_count": null,
   "metadata": {},
   "outputs": [],
   "source": [
    "avg_oakland_sale.hvplot.bar(\n",
    "    title='Avg Sale price in Oakland',\n",
    "    rot = 90\n",
    ")"
   ]
  },
  {
   "cell_type": "code",
   "execution_count": null,
   "metadata": {},
   "outputs": [],
   "source": [
    "plot_oakland_foreclosues = avg_oakland_foreclosure_value.hvplot.bar(\n",
    "    title='Avg Foreclosure Value in Oakland',\n",
    "    rot = 90\n",
    ")"
   ]
  },
  {
   "cell_type": "code",
   "execution_count": null,
   "metadata": {},
   "outputs": [],
   "source": [
    "plot_oakland_sales = avg_oakland_sale.hvplot.bar(\n",
    "    title='Avg Foreclosure Value in Oakland',\n",
    "    rot = 90\n",
    ")"
   ]
  },
  {
   "cell_type": "code",
   "execution_count": null,
   "metadata": {},
   "outputs": [],
   "source": [
    "oakland_overlay_plot = plot_oakland_foreclosues * plot_oakland_sales\n",
    "\n",
    "oakland_overlay_plot.opts(\n",
    "    title=\"Average sale of a home in oakland vs the cost of a forclosed home\", \n",
    "    ylabel=\"$$$\", \n",
    "    width=1000, \n",
    "    height=500)"
   ]
  },
  {
   "cell_type": "code",
   "execution_count": null,
   "metadata": {},
   "outputs": [],
   "source": [
    "oakland_sales_data_plotted = px.scatter_mapbox(\n",
    "    oakland_sales_data_sliced,\n",
    "    lat = 'latitude',\n",
    "    lon = 'longitude',\n",
    "    color = 'property_type',\n",
    "    size = 'price',\n",
    "    size_max=50,\n",
    "    zoom=11\n",
    ")"
   ]
  },
  {
   "cell_type": "code",
   "execution_count": null,
   "metadata": {},
   "outputs": [],
   "source": [
    "sr_foreclosure_data = bay_area_foreclosure_sliced[bay_area_foreclosure_sliced.City == 'SANTA ROSA']"
   ]
  },
  {
   "cell_type": "code",
   "execution_count": null,
   "metadata": {},
   "outputs": [],
   "source": [
    "avg_sr_foreclosure_value = (\n",
    "    sr_foreclosure_data[['Est Value', 'Est Equity','City',]]\n",
    "    .groupby('City')\n",
    "    .mean()\n",
    "    .sort_values('City')\n",
    ").round()"
   ]
  },
  {
   "cell_type": "code",
   "execution_count": null,
   "metadata": {},
   "outputs": [],
   "source": [
    "display(avg_sr_foreclosure_value)"
   ]
  },
  {
   "cell_type": "code",
   "execution_count": null,
   "metadata": {},
   "outputs": [],
   "source": [
    "avg_sr_foreclosure_value.hvplot.bar(\n",
    "    title='Avg Foreclosure Value in Santa Rosa',\n",
    "    rot = 90\n",
    ")"
   ]
  },
  {
   "cell_type": "code",
   "execution_count": null,
   "metadata": {},
   "outputs": [],
   "source": [
    "avg_sr_sale = (\n",
    "    santa_rosa_sales_df[['price']]\n",
    "    .mean()\n",
    ").round()"
   ]
  },
  {
   "cell_type": "code",
   "execution_count": null,
   "metadata": {},
   "outputs": [],
   "source": [
    "avg_sr_sale.hvplot.bar(\n",
    "    title='Avg Sale price in Santa Rosa',\n",
    "    rot = 90\n",
    ")"
   ]
  },
  {
   "cell_type": "code",
   "execution_count": null,
   "metadata": {},
   "outputs": [],
   "source": [
    "plot_sr_foreclosues = avg_sr_foreclosure_value.hvplot.bar(\n",
    "    title='Avg Foreclosure Value in Santa Rosa',\n",
    "    rot = 90\n",
    ")"
   ]
  },
  {
   "cell_type": "code",
   "execution_count": null,
   "metadata": {},
   "outputs": [],
   "source": [
    "plot_sr_sales = avg_oakland_sale.hvplot.bar(\n",
    "    title='Avg Foreclosure Value in Santa Rosa',\n",
    "    rot = 90\n",
    ")"
   ]
  },
  {
   "cell_type": "code",
   "execution_count": null,
   "metadata": {},
   "outputs": [],
   "source": [
    "sr_overlay_plot = plot_sr_foreclosues * plot_sr_salessr_overlay_plot.opts(\n",
    "    title=\"Average sale of a home in Santa Rosa vs the cost of a forclosed home\", \n",
    "    ylabel=\"$$$\", \n",
    "    width=1000, \n",
    "    height=500)"
   ]
  },
  {
   "cell_type": "code",
   "execution_count": null,
   "metadata": {},
   "outputs": [],
   "source": []
  }
 ],
 "metadata": {
  "kernelspec": {
   "display_name": "Python 3",
   "language": "python",
   "name": "python3"
  },
  "language_info": {
   "codemirror_mode": {
    "name": "ipython",
    "version": 3
   },
   "file_extension": ".py",
   "mimetype": "text/x-python",
   "name": "python",
   "nbconvert_exporter": "python",
   "pygments_lexer": "ipython3",
   "version": "3.7.9"
  }
 },
 "nbformat": 4,
 "nbformat_minor": 4
}
