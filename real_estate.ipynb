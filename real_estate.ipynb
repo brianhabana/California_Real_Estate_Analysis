{
 "cells": [
  {
   "cell_type": "code",
   "execution_count": 25,
   "metadata": {},
   "outputs": [],
   "source": [
    "#import the required libraries and dependencies\n",
    "import pandas as pd\n",
    "import hvplot.pandas\n",
    "import os\n",
    "import requests\n",
    "import plotly.express as px\n",
    "\n",
    "from pathlib import Path\n",
    "from dotenv import load_dotenv"
   ]
  },
  {
   "cell_type": "code",
   "execution_count": 26,
   "metadata": {},
   "outputs": [
    {
     "data": {
      "text/plain": [
       "True"
      ]
     },
     "execution_count": 26,
     "metadata": {},
     "output_type": "execute_result"
    }
   ],
   "source": [
    "# Load the Mapbox API access token from the .env file\n",
    "load_dotenv()"
   ]
  },
  {
   "cell_type": "code",
   "execution_count": 27,
   "metadata": {},
   "outputs": [
    {
     "data": {
      "text/plain": [
       "str"
      ]
     },
     "execution_count": 27,
     "metadata": {},
     "output_type": "execute_result"
    }
   ],
   "source": [
    "# Create the Mapbox API access token variable\n",
    "map_box_api_access_token = os.getenv(\"MAPBOX_API_ACCESS_TOKEN\")\n",
    "\n",
    "# Confirm that Mapbox API access token is available by checking the type\n",
    "type(map_box_api_access_token)"
   ]
  },
  {
   "cell_type": "code",
   "execution_count": 28,
   "metadata": {},
   "outputs": [],
   "source": [
    "# Set the Mapbox API access token to the users API key\n",
    "px.set_mapbox_access_token(map_box_api_access_token)"
   ]
  },
  {
   "cell_type": "code",
   "execution_count": 29,
   "metadata": {},
   "outputs": [
    {
     "data": {
      "text/html": [
       "<div>\n",
       "<style scoped>\n",
       "    .dataframe tbody tr th:only-of-type {\n",
       "        vertical-align: middle;\n",
       "    }\n",
       "\n",
       "    .dataframe tbody tr th {\n",
       "        vertical-align: top;\n",
       "    }\n",
       "\n",
       "    .dataframe thead th {\n",
       "        text-align: right;\n",
       "    }\n",
       "</style>\n",
       "<table border=\"1\" class=\"dataframe\">\n",
       "  <thead>\n",
       "    <tr style=\"text-align: right;\">\n",
       "      <th></th>\n",
       "      <th>County</th>\n",
       "      <th>Address</th>\n",
       "      <th>City</th>\n",
       "      <th>Sq Ft</th>\n",
       "      <th>Beds</th>\n",
       "      <th>Baths</th>\n",
       "      <th>Est Value</th>\n",
       "      <th>Est Equity</th>\n",
       "      <th>Owner</th>\n",
       "      <th>Owner Occ?</th>\n",
       "      <th>Listed for Sale?</th>\n",
       "      <th>Foreclosure</th>\n",
       "      <th>Concatenated Address</th>\n",
       "      <th>Latitude</th>\n",
       "      <th>Longitude</th>\n",
       "    </tr>\n",
       "  </thead>\n",
       "  <tbody>\n",
       "    <tr>\n",
       "      <th>0</th>\n",
       "      <td>Alameda</td>\n",
       "      <td>5110 Telegraph Ave</td>\n",
       "      <td>OAKLAND</td>\n",
       "      <td>NaN</td>\n",
       "      <td>NaN</td>\n",
       "      <td>NaN</td>\n",
       "      <td>$1,329,300</td>\n",
       "      <td>$1,329,300</td>\n",
       "      <td>TELEGRAPH 2 NEUN OWNER LL</td>\n",
       "      <td>No</td>\n",
       "      <td>No</td>\n",
       "      <td>Yes</td>\n",
       "      <td>5110 Telegraph Ave OAKLAND CA</td>\n",
       "      <td>???</td>\n",
       "      <td>???</td>\n",
       "    </tr>\n",
       "    <tr>\n",
       "      <th>1</th>\n",
       "      <td>Alameda</td>\n",
       "      <td>11330 Lochard St</td>\n",
       "      <td>OAKLAND</td>\n",
       "      <td>NaN</td>\n",
       "      <td>NaN</td>\n",
       "      <td>NaN</td>\n",
       "      <td>$450,000</td>\n",
       "      <td>-$1,255,698</td>\n",
       "      <td>OWENS,LILA V</td>\n",
       "      <td>No</td>\n",
       "      <td>No</td>\n",
       "      <td>Yes</td>\n",
       "      <td>11330 Lochard St OAKLAND CA</td>\n",
       "      <td>37.7471529</td>\n",
       "      <td>-122.1303771</td>\n",
       "    </tr>\n",
       "    <tr>\n",
       "      <th>2</th>\n",
       "      <td>Alameda</td>\n",
       "      <td>3317 Elm St 102</td>\n",
       "      <td>OAKLAND</td>\n",
       "      <td>5,866</td>\n",
       "      <td>NaN</td>\n",
       "      <td>NaN</td>\n",
       "      <td>$667,526</td>\n",
       "      <td>-$18,206</td>\n",
       "      <td>ERIK,HOUSH SEP</td>\n",
       "      <td>No</td>\n",
       "      <td>No</td>\n",
       "      <td>Yes</td>\n",
       "      <td>3317 Elm St 102 OAKLAND CA</td>\n",
       "      <td>???</td>\n",
       "      <td>???</td>\n",
       "    </tr>\n",
       "    <tr>\n",
       "      <th>3</th>\n",
       "      <td>Alameda</td>\n",
       "      <td>5401 Claremont Ave</td>\n",
       "      <td>OAKLAND</td>\n",
       "      <td>2,299</td>\n",
       "      <td>3.0</td>\n",
       "      <td>2.5</td>\n",
       "      <td>$2,528,200</td>\n",
       "      <td>$2,528,200</td>\n",
       "      <td>TRIUMPH REO ASSETS LLC</td>\n",
       "      <td>No</td>\n",
       "      <td>No</td>\n",
       "      <td>Yes</td>\n",
       "      <td>5401 Claremont Ave OAKLAND CA</td>\n",
       "      <td>37.8429686</td>\n",
       "      <td>-122.2575852</td>\n",
       "    </tr>\n",
       "    <tr>\n",
       "      <th>4</th>\n",
       "      <td>Alameda</td>\n",
       "      <td>1515 E 19Th St</td>\n",
       "      <td>OAKLAND</td>\n",
       "      <td>1,123</td>\n",
       "      <td>2.0</td>\n",
       "      <td>1.0</td>\n",
       "      <td>$689,300</td>\n",
       "      <td>-$14,576</td>\n",
       "      <td>L &amp; L RESIDL PROP LLC</td>\n",
       "      <td>Yes</td>\n",
       "      <td>No</td>\n",
       "      <td>Yes</td>\n",
       "      <td>1515 E 19Th St OAKLAND CA</td>\n",
       "      <td>???</td>\n",
       "      <td>???</td>\n",
       "    </tr>\n",
       "  </tbody>\n",
       "</table>\n",
       "</div>"
      ],
      "text/plain": [
       "    County             Address     City  Sq Ft  Beds  Baths   Est Value  \\\n",
       "0  Alameda  5110 Telegraph Ave  OAKLAND    NaN   NaN    NaN  $1,329,300   \n",
       "1  Alameda    11330 Lochard St  OAKLAND    NaN   NaN    NaN    $450,000   \n",
       "2  Alameda     3317 Elm St 102  OAKLAND  5,866   NaN    NaN    $667,526   \n",
       "3  Alameda  5401 Claremont Ave  OAKLAND  2,299   3.0    2.5  $2,528,200   \n",
       "4  Alameda      1515 E 19Th St  OAKLAND  1,123   2.0    1.0    $689,300   \n",
       "\n",
       "    Est Equity                      Owner Owner Occ? Listed for Sale?  \\\n",
       "0   $1,329,300  TELEGRAPH 2 NEUN OWNER LL         No               No   \n",
       "1  -$1,255,698               OWENS,LILA V         No               No   \n",
       "2     -$18,206             ERIK,HOUSH SEP         No               No   \n",
       "3   $2,528,200     TRIUMPH REO ASSETS LLC         No               No   \n",
       "4     -$14,576      L & L RESIDL PROP LLC        Yes               No   \n",
       "\n",
       "  Foreclosure           Concatenated Address    Latitude     Longitude  \n",
       "0         Yes  5110 Telegraph Ave OAKLAND CA         ???           ???  \n",
       "1         Yes    11330 Lochard St OAKLAND CA  37.7471529  -122.1303771  \n",
       "2         Yes     3317 Elm St 102 OAKLAND CA         ???           ???  \n",
       "3         Yes  5401 Claremont Ave OAKLAND CA  37.8429686  -122.2575852  \n",
       "4         Yes      1515 E 19Th St OAKLAND CA         ???           ???  "
      ]
     },
     "metadata": {},
     "output_type": "display_data"
    },
    {
     "data": {
      "text/html": [
       "<div>\n",
       "<style scoped>\n",
       "    .dataframe tbody tr th:only-of-type {\n",
       "        vertical-align: middle;\n",
       "    }\n",
       "\n",
       "    .dataframe tbody tr th {\n",
       "        vertical-align: top;\n",
       "    }\n",
       "\n",
       "    .dataframe thead th {\n",
       "        text-align: right;\n",
       "    }\n",
       "</style>\n",
       "<table border=\"1\" class=\"dataframe\">\n",
       "  <thead>\n",
       "    <tr style=\"text-align: right;\">\n",
       "      <th></th>\n",
       "      <th>County</th>\n",
       "      <th>Address</th>\n",
       "      <th>City</th>\n",
       "      <th>Sq Ft</th>\n",
       "      <th>Beds</th>\n",
       "      <th>Baths</th>\n",
       "      <th>Est Value</th>\n",
       "      <th>Est Equity</th>\n",
       "      <th>Owner</th>\n",
       "      <th>Owner Occ?</th>\n",
       "      <th>Listed for Sale?</th>\n",
       "      <th>Foreclosure</th>\n",
       "      <th>Concatenated Address</th>\n",
       "      <th>Latitude</th>\n",
       "      <th>Longitude</th>\n",
       "    </tr>\n",
       "  </thead>\n",
       "  <tbody>\n",
       "    <tr>\n",
       "      <th>1440</th>\n",
       "      <td>Sonoma</td>\n",
       "      <td>182 Windsor River Rd</td>\n",
       "      <td>WINDSOR</td>\n",
       "      <td>1,070</td>\n",
       "      <td>NaN</td>\n",
       "      <td>NaN</td>\n",
       "      <td>$241,179</td>\n",
       "      <td>$241,179</td>\n",
       "      <td>MONSTRO LLC</td>\n",
       "      <td>No</td>\n",
       "      <td>No</td>\n",
       "      <td>Yes</td>\n",
       "      <td>182 Windsor River Rd WINDSOR CA</td>\n",
       "      <td>38.5473212</td>\n",
       "      <td>-122.8280792</td>\n",
       "    </tr>\n",
       "    <tr>\n",
       "      <th>1441</th>\n",
       "      <td>Sonoma</td>\n",
       "      <td>302 Northstar Ln</td>\n",
       "      <td>CLOVERDALE</td>\n",
       "      <td>2,050</td>\n",
       "      <td>3.0</td>\n",
       "      <td>2.0</td>\n",
       "      <td>$635,500</td>\n",
       "      <td>$295,212</td>\n",
       "      <td>SLOAN,JAC8UELINE C</td>\n",
       "      <td>Yes</td>\n",
       "      <td>No</td>\n",
       "      <td>Yes</td>\n",
       "      <td>302 Northstar Ln CLOVERDALE CA</td>\n",
       "      <td>38.7805741</td>\n",
       "      <td>-123.0167964</td>\n",
       "    </tr>\n",
       "    <tr>\n",
       "      <th>1442</th>\n",
       "      <td>Sonoma</td>\n",
       "      <td>30 Bloomfield Rd</td>\n",
       "      <td>SEBASTOPOL</td>\n",
       "      <td>800</td>\n",
       "      <td>2.0</td>\n",
       "      <td>1.0</td>\n",
       "      <td>$598,600</td>\n",
       "      <td>$283,120</td>\n",
       "      <td>PSF REO LLC</td>\n",
       "      <td>No</td>\n",
       "      <td>No</td>\n",
       "      <td>Yes</td>\n",
       "      <td>30 Bloomfield Rd SEBASTOPOL CA</td>\n",
       "      <td>???</td>\n",
       "      <td>???</td>\n",
       "    </tr>\n",
       "    <tr>\n",
       "      <th>1443</th>\n",
       "      <td>Sonoma</td>\n",
       "      <td>1821 Kelly Pl</td>\n",
       "      <td>ROHNERT PARK</td>\n",
       "      <td>2,342</td>\n",
       "      <td>4.0</td>\n",
       "      <td>3.0</td>\n",
       "      <td>$731,100</td>\n",
       "      <td>$86,545</td>\n",
       "      <td>MULINDWA,JOSEPH M</td>\n",
       "      <td>Yes</td>\n",
       "      <td>No</td>\n",
       "      <td>Yes</td>\n",
       "      <td>1821 Kelly Pl ROHNERT PARK CA</td>\n",
       "      <td>???</td>\n",
       "      <td>???</td>\n",
       "    </tr>\n",
       "    <tr>\n",
       "      <th>1444</th>\n",
       "      <td>Sonoma</td>\n",
       "      <td>1810 Kyle Pl</td>\n",
       "      <td>ROHNERT PARK</td>\n",
       "      <td>2,007</td>\n",
       "      <td>3.0</td>\n",
       "      <td>2.5</td>\n",
       "      <td>$664,400</td>\n",
       "      <td>$107,333</td>\n",
       "      <td>MORALES,MARTIN &amp; ROSELIA</td>\n",
       "      <td>No</td>\n",
       "      <td>No</td>\n",
       "      <td>Yes</td>\n",
       "      <td>1810 Kyle Pl ROHNERT PARK CA</td>\n",
       "      <td>???</td>\n",
       "      <td>???</td>\n",
       "    </tr>\n",
       "  </tbody>\n",
       "</table>\n",
       "</div>"
      ],
      "text/plain": [
       "      County               Address          City  Sq Ft  Beds  Baths  \\\n",
       "1440  Sonoma  182 Windsor River Rd       WINDSOR  1,070   NaN    NaN   \n",
       "1441  Sonoma      302 Northstar Ln    CLOVERDALE  2,050   3.0    2.0   \n",
       "1442  Sonoma      30 Bloomfield Rd    SEBASTOPOL    800   2.0    1.0   \n",
       "1443  Sonoma         1821 Kelly Pl  ROHNERT PARK  2,342   4.0    3.0   \n",
       "1444  Sonoma          1810 Kyle Pl  ROHNERT PARK  2,007   3.0    2.5   \n",
       "\n",
       "     Est Value Est Equity                     Owner Owner Occ?  \\\n",
       "1440  $241,179   $241,179               MONSTRO LLC         No   \n",
       "1441  $635,500   $295,212        SLOAN,JAC8UELINE C        Yes   \n",
       "1442  $598,600   $283,120               PSF REO LLC         No   \n",
       "1443  $731,100    $86,545         MULINDWA,JOSEPH M        Yes   \n",
       "1444  $664,400   $107,333  MORALES,MARTIN & ROSELIA         No   \n",
       "\n",
       "     Listed for Sale? Foreclosure             Concatenated Address  \\\n",
       "1440               No         Yes  182 Windsor River Rd WINDSOR CA   \n",
       "1441               No         Yes   302 Northstar Ln CLOVERDALE CA   \n",
       "1442               No         Yes   30 Bloomfield Rd SEBASTOPOL CA   \n",
       "1443               No         Yes    1821 Kelly Pl ROHNERT PARK CA   \n",
       "1444               No         Yes     1810 Kyle Pl ROHNERT PARK CA   \n",
       "\n",
       "        Latitude     Longitude  \n",
       "1440  38.5473212  -122.8280792  \n",
       "1441  38.7805741  -123.0167964  \n",
       "1442         ???           ???  \n",
       "1443         ???           ???  \n",
       "1444         ???           ???  "
      ]
     },
     "metadata": {},
     "output_type": "display_data"
    }
   ],
   "source": [
    "# Using the `read_csv` function and Path module, read `us_ca_san_francisco-addresses-county` file \n",
    "# and create the Pandas DataFrame.\n",
    "foreclosure_df = pd.read_csv(\n",
    "    Path('../California_Real_Estate_Analysis/Resources/foreclosures.csv')\n",
    ")\n",
    "\n",
    "#Review the first and last five rows of the DataFrame\n",
    "display(foreclosure_df.head())\n",
    "display(foreclosure_df.tail())"
   ]
  },
  {
   "cell_type": "code",
   "execution_count": 30,
   "metadata": {},
   "outputs": [
    {
     "data": {
      "text/html": [
       "<div>\n",
       "<style scoped>\n",
       "    .dataframe tbody tr th:only-of-type {\n",
       "        vertical-align: middle;\n",
       "    }\n",
       "\n",
       "    .dataframe tbody tr th {\n",
       "        vertical-align: top;\n",
       "    }\n",
       "\n",
       "    .dataframe thead th {\n",
       "        text-align: right;\n",
       "    }\n",
       "</style>\n",
       "<table border=\"1\" class=\"dataframe\">\n",
       "  <thead>\n",
       "    <tr style=\"text-align: right;\">\n",
       "      <th></th>\n",
       "      <th>rank</th>\n",
       "      <th>property_id</th>\n",
       "      <th>address</th>\n",
       "      <th>latitude</th>\n",
       "      <th>longitude</th>\n",
       "      <th>price</th>\n",
       "      <th>currency</th>\n",
       "      <th>bedrooms</th>\n",
       "      <th>bathrooms</th>\n",
       "      <th>area_sqft</th>\n",
       "      <th>...</th>\n",
       "      <th>property_type</th>\n",
       "      <th>property_style</th>\n",
       "      <th>sold_date</th>\n",
       "      <th>status</th>\n",
       "      <th>mls_number</th>\n",
       "      <th>image_urls</th>\n",
       "      <th>description</th>\n",
       "      <th>input_url</th>\n",
       "      <th>property_url</th>\n",
       "      <th>listing_page_url</th>\n",
       "    </tr>\n",
       "  </thead>\n",
       "  <tbody>\n",
       "    <tr>\n",
       "      <th>0</th>\n",
       "      <td>449</td>\n",
       "      <td>1271330</td>\n",
       "      <td>2510 24th Ave, San Francisco, CA 94116</td>\n",
       "      <td>37.740660</td>\n",
       "      <td>-122.480623</td>\n",
       "      <td>1451000</td>\n",
       "      <td>USD</td>\n",
       "      <td>3.0</td>\n",
       "      <td>1.0</td>\n",
       "      <td>1250.0</td>\n",
       "      <td>...</td>\n",
       "      <td>Single Family Residential</td>\n",
       "      <td>Craftsman</td>\n",
       "      <td>02-03-2021</td>\n",
       "      <td>Closed</td>\n",
       "      <td>513147</td>\n",
       "      <td>https://ssl.cdn-redfin.com/photo/9/bigphoto/14...</td>\n",
       "      <td>Affordable DETACHED Parkside home built on wid...</td>\n",
       "      <td>https://www.redfin.com/city/17151/CA/San-Franc...</td>\n",
       "      <td>https://www.redfin.com/CA/San-Francisco/2510-2...</td>\n",
       "      <td>https://www.redfin.com/city/17151/CA/San-Franc...</td>\n",
       "    </tr>\n",
       "    <tr>\n",
       "      <th>1</th>\n",
       "      <td>72</td>\n",
       "      <td>12277720</td>\n",
       "      <td>555 4th St #816, San Francisco, CA 94107</td>\n",
       "      <td>37.779397</td>\n",
       "      <td>-122.396773</td>\n",
       "      <td>740000</td>\n",
       "      <td>USD</td>\n",
       "      <td>1.0</td>\n",
       "      <td>1.0</td>\n",
       "      <td>670.0</td>\n",
       "      <td>...</td>\n",
       "      <td>Condo/Co-op</td>\n",
       "      <td>Contemporary</td>\n",
       "      <td>04-03-2021</td>\n",
       "      <td>Closed</td>\n",
       "      <td>514266</td>\n",
       "      <td>https://ssl.cdn-redfin.com/photo/9/bigphoto/26...</td>\n",
       "      <td>Penthouse level 1BR 1BR 1PKG at The Palms San ...</td>\n",
       "      <td>https://www.redfin.com/city/17151/CA/San-Franc...</td>\n",
       "      <td>https://www.redfin.com/CA/San-Francisco/555-4t...</td>\n",
       "      <td>https://www.redfin.com/city/17151/CA/San-Franc...</td>\n",
       "    </tr>\n",
       "    <tr>\n",
       "      <th>2</th>\n",
       "      <td>494</td>\n",
       "      <td>737577</td>\n",
       "      <td>1931 23rd St, San Francisco, CA 94107</td>\n",
       "      <td>37.754543</td>\n",
       "      <td>-122.399317</td>\n",
       "      <td>1535000</td>\n",
       "      <td>USD</td>\n",
       "      <td>1.0</td>\n",
       "      <td>1.5</td>\n",
       "      <td>1648.0</td>\n",
       "      <td>...</td>\n",
       "      <td>Single Family Residential</td>\n",
       "      <td>Other</td>\n",
       "      <td>01-04-2021</td>\n",
       "      <td>Closed</td>\n",
       "      <td>421523493</td>\n",
       "      <td>https://ssl.cdn-redfin.com/photo/9/bigphoto/49...</td>\n",
       "      <td>This custom-made city retreat is almost invisi...</td>\n",
       "      <td>https://www.redfin.com/city/17151/CA/San-Franc...</td>\n",
       "      <td>https://www.redfin.com/CA/San-Francisco/1931-2...</td>\n",
       "      <td>https://www.redfin.com/city/17151/CA/San-Franc...</td>\n",
       "    </tr>\n",
       "    <tr>\n",
       "      <th>3</th>\n",
       "      <td>174</td>\n",
       "      <td>113065808</td>\n",
       "      <td>338 Potrero Ave #508, San Francisco, CA 94103</td>\n",
       "      <td>37.765156</td>\n",
       "      <td>-122.407700</td>\n",
       "      <td>950000</td>\n",
       "      <td>USD</td>\n",
       "      <td>2.0</td>\n",
       "      <td>2.0</td>\n",
       "      <td>873.0</td>\n",
       "      <td>...</td>\n",
       "      <td>Condo/Co-op</td>\n",
       "      <td>Contemporary</td>\n",
       "      <td>13-05-2021</td>\n",
       "      <td>Closed</td>\n",
       "      <td>421533255</td>\n",
       "      <td>https://ssl.cdn-redfin.com/photo/9/bigphoto/25...</td>\n",
       "      <td>Chic two bedroom, two bath modern condominium ...</td>\n",
       "      <td>https://www.redfin.com/city/17151/CA/San-Franc...</td>\n",
       "      <td>https://www.redfin.com/CA/San-Francisco/338-Po...</td>\n",
       "      <td>https://www.redfin.com/city/17151/CA/San-Franc...</td>\n",
       "    </tr>\n",
       "    <tr>\n",
       "      <th>4</th>\n",
       "      <td>145</td>\n",
       "      <td>1455326</td>\n",
       "      <td>1351 Gilman Ave, San Francisco, CA 94124</td>\n",
       "      <td>37.721802</td>\n",
       "      <td>-122.394859</td>\n",
       "      <td>900000</td>\n",
       "      <td>USD</td>\n",
       "      <td>NaN</td>\n",
       "      <td>1.0</td>\n",
       "      <td>1200.0</td>\n",
       "      <td>...</td>\n",
       "      <td>Single Family Residential</td>\n",
       "      <td>NaN</td>\n",
       "      <td>24-02-2021</td>\n",
       "      <td>Sold</td>\n",
       "      <td>40931710</td>\n",
       "      <td>https://ssl.cdn-redfin.com/photo/10/bigphoto/7...</td>\n",
       "      <td>Absolute Bargain! Unbelievable Price! Great De...</td>\n",
       "      <td>https://www.redfin.com/city/17151/CA/San-Franc...</td>\n",
       "      <td>https://www.redfin.com/CA/San-Francisco/1351-G...</td>\n",
       "      <td>https://www.redfin.com/city/17151/CA/San-Franc...</td>\n",
       "    </tr>\n",
       "  </tbody>\n",
       "</table>\n",
       "<p>5 rows × 28 columns</p>\n",
       "</div>"
      ],
      "text/plain": [
       "   rank  property_id                                        address  \\\n",
       "0   449      1271330         2510 24th Ave, San Francisco, CA 94116   \n",
       "1    72     12277720       555 4th St #816, San Francisco, CA 94107   \n",
       "2   494       737577          1931 23rd St, San Francisco, CA 94107   \n",
       "3   174    113065808  338 Potrero Ave #508, San Francisco, CA 94103   \n",
       "4   145      1455326       1351 Gilman Ave, San Francisco, CA 94124   \n",
       "\n",
       "    latitude   longitude    price currency  bedrooms  bathrooms  area_sqft  \\\n",
       "0  37.740660 -122.480623  1451000      USD       3.0        1.0     1250.0   \n",
       "1  37.779397 -122.396773   740000      USD       1.0        1.0      670.0   \n",
       "2  37.754543 -122.399317  1535000      USD       1.0        1.5     1648.0   \n",
       "3  37.765156 -122.407700   950000      USD       2.0        2.0      873.0   \n",
       "4  37.721802 -122.394859   900000      USD       NaN        1.0     1200.0   \n",
       "\n",
       "   ...              property_type property_style   sold_date  status  \\\n",
       "0  ...  Single Family Residential      Craftsman  02-03-2021  Closed   \n",
       "1  ...                Condo/Co-op   Contemporary  04-03-2021  Closed   \n",
       "2  ...  Single Family Residential          Other  01-04-2021  Closed   \n",
       "3  ...                Condo/Co-op   Contemporary  13-05-2021  Closed   \n",
       "4  ...  Single Family Residential            NaN  24-02-2021    Sold   \n",
       "\n",
       "   mls_number                                         image_urls  \\\n",
       "0      513147  https://ssl.cdn-redfin.com/photo/9/bigphoto/14...   \n",
       "1      514266  https://ssl.cdn-redfin.com/photo/9/bigphoto/26...   \n",
       "2   421523493  https://ssl.cdn-redfin.com/photo/9/bigphoto/49...   \n",
       "3   421533255  https://ssl.cdn-redfin.com/photo/9/bigphoto/25...   \n",
       "4    40931710  https://ssl.cdn-redfin.com/photo/10/bigphoto/7...   \n",
       "\n",
       "                                         description  \\\n",
       "0  Affordable DETACHED Parkside home built on wid...   \n",
       "1  Penthouse level 1BR 1BR 1PKG at The Palms San ...   \n",
       "2  This custom-made city retreat is almost invisi...   \n",
       "3  Chic two bedroom, two bath modern condominium ...   \n",
       "4  Absolute Bargain! Unbelievable Price! Great De...   \n",
       "\n",
       "                                           input_url  \\\n",
       "0  https://www.redfin.com/city/17151/CA/San-Franc...   \n",
       "1  https://www.redfin.com/city/17151/CA/San-Franc...   \n",
       "2  https://www.redfin.com/city/17151/CA/San-Franc...   \n",
       "3  https://www.redfin.com/city/17151/CA/San-Franc...   \n",
       "4  https://www.redfin.com/city/17151/CA/San-Franc...   \n",
       "\n",
       "                                        property_url  \\\n",
       "0  https://www.redfin.com/CA/San-Francisco/2510-2...   \n",
       "1  https://www.redfin.com/CA/San-Francisco/555-4t...   \n",
       "2  https://www.redfin.com/CA/San-Francisco/1931-2...   \n",
       "3  https://www.redfin.com/CA/San-Francisco/338-Po...   \n",
       "4  https://www.redfin.com/CA/San-Francisco/1351-G...   \n",
       "\n",
       "                                    listing_page_url  \n",
       "0  https://www.redfin.com/city/17151/CA/San-Franc...  \n",
       "1  https://www.redfin.com/city/17151/CA/San-Franc...  \n",
       "2  https://www.redfin.com/city/17151/CA/San-Franc...  \n",
       "3  https://www.redfin.com/city/17151/CA/San-Franc...  \n",
       "4  https://www.redfin.com/city/17151/CA/San-Franc...  \n",
       "\n",
       "[5 rows x 28 columns]"
      ]
     },
     "metadata": {},
     "output_type": "display_data"
    },
    {
     "data": {
      "text/html": [
       "<div>\n",
       "<style scoped>\n",
       "    .dataframe tbody tr th:only-of-type {\n",
       "        vertical-align: middle;\n",
       "    }\n",
       "\n",
       "    .dataframe tbody tr th {\n",
       "        vertical-align: top;\n",
       "    }\n",
       "\n",
       "    .dataframe thead th {\n",
       "        text-align: right;\n",
       "    }\n",
       "</style>\n",
       "<table border=\"1\" class=\"dataframe\">\n",
       "  <thead>\n",
       "    <tr style=\"text-align: right;\">\n",
       "      <th></th>\n",
       "      <th>rank</th>\n",
       "      <th>property_id</th>\n",
       "      <th>address</th>\n",
       "      <th>latitude</th>\n",
       "      <th>longitude</th>\n",
       "      <th>price</th>\n",
       "      <th>currency</th>\n",
       "      <th>bedrooms</th>\n",
       "      <th>bathrooms</th>\n",
       "      <th>area_sqft</th>\n",
       "      <th>...</th>\n",
       "      <th>property_type</th>\n",
       "      <th>property_style</th>\n",
       "      <th>sold_date</th>\n",
       "      <th>status</th>\n",
       "      <th>mls_number</th>\n",
       "      <th>image_urls</th>\n",
       "      <th>description</th>\n",
       "      <th>input_url</th>\n",
       "      <th>property_url</th>\n",
       "      <th>listing_page_url</th>\n",
       "    </tr>\n",
       "  </thead>\n",
       "  <tbody>\n",
       "    <tr>\n",
       "      <th>548</th>\n",
       "      <td>209</td>\n",
       "      <td>575717</td>\n",
       "      <td>151 Alice B. Toklas Pl #601, San Francisco, CA...</td>\n",
       "      <td>37.785100</td>\n",
       "      <td>-122.420587</td>\n",
       "      <td>1025000</td>\n",
       "      <td>USD</td>\n",
       "      <td>1.0</td>\n",
       "      <td>1.0</td>\n",
       "      <td>933.0</td>\n",
       "      <td>...</td>\n",
       "      <td>Condo/Co-op</td>\n",
       "      <td>Contemporary</td>\n",
       "      <td>03-05-2021</td>\n",
       "      <td>Closed</td>\n",
       "      <td>421531697</td>\n",
       "      <td>https://ssl.cdn-redfin.com/photo/9/bigphoto/69...</td>\n",
       "      <td>Rarely available beautiful contemporary loft c...</td>\n",
       "      <td>https://www.redfin.com/city/17151/CA/San-Franc...</td>\n",
       "      <td>https://www.redfin.com/CA/San-Francisco/151-Al...</td>\n",
       "      <td>https://www.redfin.com/city/17151/CA/San-Franc...</td>\n",
       "    </tr>\n",
       "    <tr>\n",
       "      <th>549</th>\n",
       "      <td>10</td>\n",
       "      <td>12397900</td>\n",
       "      <td>855 Folsom St #941, San Francisco, CA 94107</td>\n",
       "      <td>37.780896</td>\n",
       "      <td>-122.401950</td>\n",
       "      <td>370000</td>\n",
       "      <td>USD</td>\n",
       "      <td>NaN</td>\n",
       "      <td>1.0</td>\n",
       "      <td>503.0</td>\n",
       "      <td>...</td>\n",
       "      <td>Condo/Co-op</td>\n",
       "      <td>Contemporary</td>\n",
       "      <td>21-04-2021</td>\n",
       "      <td>Closed</td>\n",
       "      <td>493168</td>\n",
       "      <td>https://ssl.cdn-redfin.com/photo/9/bigphoto/16...</td>\n",
       "      <td>Below Market Rate (BMR) housing opportunity av...</td>\n",
       "      <td>https://www.redfin.com/city/17151/CA/San-Franc...</td>\n",
       "      <td>https://www.redfin.com/CA/San-Francisco/855-Fo...</td>\n",
       "      <td>https://www.redfin.com/city/17151/CA/San-Franc...</td>\n",
       "    </tr>\n",
       "    <tr>\n",
       "      <th>550</th>\n",
       "      <td>381</td>\n",
       "      <td>1885093</td>\n",
       "      <td>672 Hampshire St, SAN FRANCISCO, CA 94110</td>\n",
       "      <td>37.760908</td>\n",
       "      <td>-122.408408</td>\n",
       "      <td>1350000</td>\n",
       "      <td>USD</td>\n",
       "      <td>3.0</td>\n",
       "      <td>3.5</td>\n",
       "      <td>2480.0</td>\n",
       "      <td>...</td>\n",
       "      <td>Triplex</td>\n",
       "      <td>NaN</td>\n",
       "      <td>NaN</td>\n",
       "      <td>Sold</td>\n",
       "      <td>ML81820503</td>\n",
       "      <td>https://ssl.cdn-redfin.com/photo/8/bigphoto/50...</td>\n",
       "      <td>PRICE DROPPED. Probate Sale, Court Confirmatio...</td>\n",
       "      <td>https://www.redfin.com/city/17151/CA/San-Franc...</td>\n",
       "      <td>https://www.redfin.com/CA/San-Francisco/672-Ha...</td>\n",
       "      <td>https://www.redfin.com/city/17151/CA/San-Franc...</td>\n",
       "    </tr>\n",
       "    <tr>\n",
       "      <th>551</th>\n",
       "      <td>5</td>\n",
       "      <td>1470676</td>\n",
       "      <td>134 Hartford St #136, San Francisco, CA 94114</td>\n",
       "      <td>37.760304</td>\n",
       "      <td>-122.434154</td>\n",
       "      <td>100000</td>\n",
       "      <td>USD</td>\n",
       "      <td>NaN</td>\n",
       "      <td>2.0</td>\n",
       "      <td>2000.0</td>\n",
       "      <td>...</td>\n",
       "      <td>NaN</td>\n",
       "      <td>NaN</td>\n",
       "      <td>25-03-2021</td>\n",
       "      <td>Sold</td>\n",
       "      <td>NaN</td>\n",
       "      <td>https://maps.googleapis.com/maps/api/streetvie...</td>\n",
       "      <td>NaN</td>\n",
       "      <td>https://www.redfin.com/city/17151/CA/San-Franc...</td>\n",
       "      <td>https://www.redfin.com/CA/San-Francisco/134-Ha...</td>\n",
       "      <td>https://www.redfin.com/city/17151/CA/San-Franc...</td>\n",
       "    </tr>\n",
       "    <tr>\n",
       "      <th>552</th>\n",
       "      <td>93</td>\n",
       "      <td>1687580</td>\n",
       "      <td>1129 Mendell St, San Francisco, CA 94124</td>\n",
       "      <td>37.736007</td>\n",
       "      <td>-122.388818</td>\n",
       "      <td>768000</td>\n",
       "      <td>USD</td>\n",
       "      <td>3.0</td>\n",
       "      <td>2.0</td>\n",
       "      <td>912.0</td>\n",
       "      <td>...</td>\n",
       "      <td>Single Family Residential</td>\n",
       "      <td>NaN</td>\n",
       "      <td>26-02-2021</td>\n",
       "      <td>Closed</td>\n",
       "      <td>512148</td>\n",
       "      <td>https://ssl.cdn-redfin.com/photo/9/bigphoto/14...</td>\n",
       "      <td>Completely remodeled, this ideal 3 Bed 2 Bath ...</td>\n",
       "      <td>https://www.redfin.com/city/17151/CA/San-Franc...</td>\n",
       "      <td>https://www.redfin.com/CA/San-Francisco/1129-M...</td>\n",
       "      <td>https://www.redfin.com/city/17151/CA/San-Franc...</td>\n",
       "    </tr>\n",
       "  </tbody>\n",
       "</table>\n",
       "<p>5 rows × 28 columns</p>\n",
       "</div>"
      ],
      "text/plain": [
       "     rank  property_id                                            address  \\\n",
       "548   209       575717  151 Alice B. Toklas Pl #601, San Francisco, CA...   \n",
       "549    10     12397900        855 Folsom St #941, San Francisco, CA 94107   \n",
       "550   381      1885093          672 Hampshire St, SAN FRANCISCO, CA 94110   \n",
       "551     5      1470676      134 Hartford St #136, San Francisco, CA 94114   \n",
       "552    93      1687580           1129 Mendell St, San Francisco, CA 94124   \n",
       "\n",
       "      latitude   longitude    price currency  bedrooms  bathrooms  area_sqft  \\\n",
       "548  37.785100 -122.420587  1025000      USD       1.0        1.0      933.0   \n",
       "549  37.780896 -122.401950   370000      USD       NaN        1.0      503.0   \n",
       "550  37.760908 -122.408408  1350000      USD       3.0        3.5     2480.0   \n",
       "551  37.760304 -122.434154   100000      USD       NaN        2.0     2000.0   \n",
       "552  37.736007 -122.388818   768000      USD       3.0        2.0      912.0   \n",
       "\n",
       "     ...              property_type property_style   sold_date  status  \\\n",
       "548  ...                Condo/Co-op   Contemporary  03-05-2021  Closed   \n",
       "549  ...                Condo/Co-op   Contemporary  21-04-2021  Closed   \n",
       "550  ...                    Triplex            NaN         NaN    Sold   \n",
       "551  ...                        NaN            NaN  25-03-2021    Sold   \n",
       "552  ...  Single Family Residential            NaN  26-02-2021  Closed   \n",
       "\n",
       "     mls_number                                         image_urls  \\\n",
       "548   421531697  https://ssl.cdn-redfin.com/photo/9/bigphoto/69...   \n",
       "549      493168  https://ssl.cdn-redfin.com/photo/9/bigphoto/16...   \n",
       "550  ML81820503  https://ssl.cdn-redfin.com/photo/8/bigphoto/50...   \n",
       "551         NaN  https://maps.googleapis.com/maps/api/streetvie...   \n",
       "552      512148  https://ssl.cdn-redfin.com/photo/9/bigphoto/14...   \n",
       "\n",
       "                                           description  \\\n",
       "548  Rarely available beautiful contemporary loft c...   \n",
       "549  Below Market Rate (BMR) housing opportunity av...   \n",
       "550  PRICE DROPPED. Probate Sale, Court Confirmatio...   \n",
       "551                                                NaN   \n",
       "552  Completely remodeled, this ideal 3 Bed 2 Bath ...   \n",
       "\n",
       "                                             input_url  \\\n",
       "548  https://www.redfin.com/city/17151/CA/San-Franc...   \n",
       "549  https://www.redfin.com/city/17151/CA/San-Franc...   \n",
       "550  https://www.redfin.com/city/17151/CA/San-Franc...   \n",
       "551  https://www.redfin.com/city/17151/CA/San-Franc...   \n",
       "552  https://www.redfin.com/city/17151/CA/San-Franc...   \n",
       "\n",
       "                                          property_url  \\\n",
       "548  https://www.redfin.com/CA/San-Francisco/151-Al...   \n",
       "549  https://www.redfin.com/CA/San-Francisco/855-Fo...   \n",
       "550  https://www.redfin.com/CA/San-Francisco/672-Ha...   \n",
       "551  https://www.redfin.com/CA/San-Francisco/134-Ha...   \n",
       "552  https://www.redfin.com/CA/San-Francisco/1129-M...   \n",
       "\n",
       "                                      listing_page_url  \n",
       "548  https://www.redfin.com/city/17151/CA/San-Franc...  \n",
       "549  https://www.redfin.com/city/17151/CA/San-Franc...  \n",
       "550  https://www.redfin.com/city/17151/CA/San-Franc...  \n",
       "551  https://www.redfin.com/city/17151/CA/San-Franc...  \n",
       "552  https://www.redfin.com/city/17151/CA/San-Franc...  \n",
       "\n",
       "[5 rows x 28 columns]"
      ]
     },
     "metadata": {},
     "output_type": "display_data"
    }
   ],
   "source": [
    "# Using the `read_csv` function and Path module, read `us_ca_san_francisco-addresses-county` file \n",
    "# and create the Pandas DataFrame.\n",
    "sales_SF = pd.read_csv(\n",
    "    Path('../California_Real_Estate_Analysis/Resources/San_Francisco.csv'),\n",
    ")\n",
    "\n",
    "#Review the first and last five rows of the DataFrame\n",
    "display(sales_SF.head())\n",
    "display(sales_SF.tail())"
   ]
  },
  {
   "cell_type": "code",
   "execution_count": 31,
   "metadata": {},
   "outputs": [
    {
     "data": {},
     "metadata": {},
     "output_type": "display_data"
    },
    {
     "data": {
      "application/vnd.holoviews_exec.v0+json": "",
      "text/html": [
       "<div id='1209'>\n",
       "\n",
       "\n",
       "\n",
       "\n",
       "\n",
       "  <div class=\"bk-root\" id=\"bae02ba2-e0f2-4e02-af79-af8d99bfe4b6\" data-root-id=\"1209\"></div>\n",
       "</div>\n",
       "<script type=\"application/javascript\">(function(root) {\n",
       "  function embed_document(root) {\n",
       "    var docs_json = {\"48a93eb0-a912-4225-9807-af920fb6f2a2\":{\"roots\":{\"references\":[{\"attributes\":{\"source\":{\"id\":\"1243\"}},\"id\":\"1250\",\"type\":\"CDSView\"},{\"attributes\":{\"children\":[{\"id\":\"1210\"},{\"id\":\"1214\"},{\"id\":\"1271\"}],\"margin\":[0,0,0,0],\"name\":\"Row01833\",\"tags\":[\"embedded\"]},\"id\":\"1209\",\"type\":\"Row\"},{\"attributes\":{\"data\":{\"index\":[\"0\",\"1\",\"2\",\"3\",\"4\",\"5\",\"6\",\"7\",\"8\",\"9\",\"10\",\"11\",\"12\",\"13\",\"14\",\"15\",\"16\",\"17\",\"18\",\"19\",\"20\",\"21\",\"22\",\"23\",\"24\",\"25\",\"26\",\"27\",\"28\",\"29\",\"30\",\"31\",\"32\",\"33\",\"34\",\"35\",\"36\",\"37\",\"38\",\"39\",\"40\",\"41\",\"42\",\"43\",\"44\",\"45\",\"46\",\"47\",\"48\",\"49\",\"50\",\"51\",\"52\",\"53\",\"54\",\"55\",\"56\",\"57\",\"58\",\"59\",\"60\",\"61\",\"62\",\"63\",\"64\",\"65\",\"66\",\"67\",\"68\",\"69\",\"70\",\"71\",\"72\",\"73\",\"74\",\"75\",\"76\",\"77\",\"78\",\"79\",\"80\",\"81\",\"82\",\"83\",\"84\",\"85\",\"86\",\"87\",\"88\",\"89\",\"90\",\"91\",\"92\",\"93\",\"94\",\"95\",\"96\",\"97\",\"98\",\"99\",\"100\",\"101\",\"102\",\"103\",\"104\",\"105\",\"106\",\"107\",\"108\",\"109\",\"110\",\"111\",\"112\",\"113\",\"114\",\"115\",\"116\",\"117\",\"118\",\"119\",\"120\",\"121\",\"122\",\"123\",\"124\",\"125\",\"126\",\"127\",\"128\",\"129\",\"130\",\"131\",\"132\",\"133\",\"134\",\"135\",\"136\",\"137\",\"138\",\"139\",\"140\",\"141\",\"142\",\"143\",\"144\",\"145\",\"146\",\"147\",\"148\",\"149\",\"150\",\"151\",\"152\",\"153\",\"154\",\"155\",\"156\",\"157\",\"158\",\"159\",\"160\",\"161\",\"162\",\"163\",\"164\",\"165\",\"166\",\"167\",\"168\",\"169\",\"170\",\"171\",\"172\",\"173\",\"174\",\"175\",\"176\",\"177\",\"178\",\"179\",\"180\",\"181\",\"182\",\"183\",\"184\",\"185\",\"186\",\"187\",\"188\",\"189\",\"190\",\"191\",\"192\",\"193\",\"194\",\"195\",\"196\",\"197\",\"198\",\"199\",\"200\",\"201\",\"202\",\"203\",\"204\",\"205\",\"206\",\"207\",\"208\",\"209\",\"210\",\"211\",\"212\",\"213\",\"214\",\"215\",\"216\",\"217\",\"218\",\"219\",\"220\",\"221\",\"222\",\"223\",\"224\",\"225\",\"226\",\"227\",\"228\",\"229\",\"230\",\"231\",\"232\",\"233\",\"234\",\"235\",\"236\",\"237\",\"238\",\"239\",\"240\",\"241\",\"242\",\"243\",\"244\",\"245\",\"246\",\"247\",\"248\",\"249\",\"250\",\"251\",\"252\",\"253\",\"254\",\"255\",\"256\",\"257\",\"258\",\"259\",\"260\",\"261\",\"262\",\"263\",\"264\",\"265\",\"266\",\"267\",\"268\",\"269\",\"270\",\"271\",\"272\",\"273\",\"274\",\"275\",\"276\",\"277\",\"278\",\"279\",\"280\",\"281\",\"282\",\"283\",\"284\",\"285\",\"286\",\"287\",\"288\",\"289\",\"290\",\"291\",\"292\",\"293\",\"294\",\"295\",\"296\",\"297\",\"298\",\"299\",\"300\",\"301\",\"302\",\"303\",\"304\",\"305\",\"306\",\"307\",\"308\",\"309\",\"310\",\"311\",\"312\",\"313\",\"314\",\"315\",\"316\",\"317\",\"318\",\"319\",\"320\",\"321\",\"322\",\"323\",\"324\",\"325\",\"326\",\"327\",\"328\",\"329\",\"330\",\"331\",\"332\",\"333\",\"334\",\"335\",\"336\",\"337\",\"338\",\"339\",\"340\",\"341\",\"342\",\"343\",\"344\",\"345\",\"346\",\"347\",\"348\",\"349\",\"350\",\"351\",\"352\",\"353\",\"354\",\"355\",\"356\",\"357\",\"358\",\"359\",\"360\",\"361\",\"362\",\"363\",\"364\",\"365\",\"366\",\"367\",\"368\",\"369\",\"370\",\"371\",\"372\",\"373\",\"374\",\"375\",\"376\",\"377\",\"378\",\"379\",\"380\",\"381\",\"382\",\"383\",\"384\",\"385\",\"386\",\"387\",\"388\",\"389\",\"390\",\"391\",\"392\",\"393\",\"394\",\"395\",\"396\",\"397\",\"398\",\"399\",\"400\",\"401\",\"402\",\"403\",\"404\",\"405\",\"406\",\"407\",\"408\",\"409\",\"410\",\"411\",\"412\",\"413\",\"414\",\"415\",\"416\",\"417\",\"418\",\"419\",\"420\",\"421\",\"422\",\"423\",\"424\",\"425\",\"426\",\"427\",\"428\",\"429\",\"430\",\"431\",\"432\",\"433\",\"434\",\"435\",\"436\",\"437\",\"438\",\"439\",\"440\",\"441\",\"442\",\"443\",\"444\",\"445\",\"446\",\"447\",\"448\",\"449\",\"450\",\"451\",\"452\",\"453\",\"454\",\"455\",\"456\",\"457\",\"458\",\"459\",\"460\",\"461\",\"462\",\"463\",\"464\",\"465\",\"466\",\"467\",\"468\",\"469\",\"470\",\"471\",\"472\",\"473\",\"474\",\"475\",\"476\",\"477\",\"478\",\"479\",\"480\",\"481\",\"482\",\"483\",\"484\",\"485\",\"486\",\"487\",\"488\",\"489\",\"490\",\"491\",\"492\",\"493\",\"494\",\"495\",\"496\",\"497\",\"498\",\"499\",\"500\",\"501\",\"502\",\"503\",\"504\",\"505\",\"506\",\"507\",\"508\",\"509\",\"510\",\"511\",\"512\",\"513\",\"514\",\"515\",\"516\",\"517\",\"518\",\"519\",\"520\",\"521\",\"522\",\"523\",\"524\",\"525\",\"526\",\"527\",\"528\",\"529\",\"530\",\"531\",\"532\",\"533\",\"534\",\"535\",\"536\",\"537\",\"538\",\"539\",\"540\",\"541\",\"542\",\"543\",\"544\",\"545\",\"546\",\"547\",\"548\",\"549\",\"550\",\"551\",\"552\"],\"price\":[1451000,740000,1535000,950000,900000,824978,1414394,1328000,925000,850000,630000,790000,1360000,1600000,953000,1400000,1298000,1420000,1395000,965000,1486875,712000,850000,819000,1650000,740000,740000,750000,1475000,1414952,1230000,750000,1600000,1550000,1100000,750000,1565000,1550000,1070000,630000,999990,1536607,1700403,685000,851500,1670000,780000,1177500,639000,1050000,1195000,935000,1600000,680000,498000,1330000,759000,1260000,791428,1350000,1025000,1145000,1258000,1130000,1650000,1390745,1150000,1650000,570000,925000,1430000,1195000,1360000,1320000,1640000,1025000,1495013,1650000,925000,1349000,1600000,1675000,1400000,935000,750000,759000,950000,1230000,456000,1299000,7495,1475000,1099000,1350000,1225000,875000,810000,935000,1351000,950000,1650000,680000,850000,1351000,1650000,1475000,1369876,1913314,400000,1120000,1350000,1135000,1502288,1199000,1600000,1485000,1675000,920000,1550000,760000,600000,1650000,1289000,900000,1230000,1401001,400000,1300000,915000,1095000,850000,1310000,1310000,1315000,1689000,1400000,930000,895000,1500000,999990,1258000,1600000,1420000,1050000,1475000,785000,1180000,1675000,1145000,1310000,1500000,1390745,1475000,1675000,1360000,1000000,599900,1220000,737000,1310000,1000000,810000,851500,1475000,600000,600000,875000,1004500,1550000,1230000,1340000,639000,1200000,1150000,1360000,1650000,630000,1688500,7495,1600000,750000,1502288,828000,1135000,680000,1120000,1600000,1450000,400000,1175000,1295000,1565000,1310000,1300000,1485000,1397500,1009295,1199000,850000,712000,1600000,1491272,1350000,690000,828000,1525000,860000,1100000,1395000,1320000,1265000,1230000,1675000,1250000,1340000,819000,1349000,1350000,456000,750000,712000,1070000,1360000,960000,1397500,759000,750000,1390000,1550000,925000,953000,1150000,851500,1360000,1650000,1300000,1405000,1235000,680000,1310000,1565000,1650000,1350000,1050000,599900,1535000,962000,1050000,1328000,785000,925000,1235000,311185,1150000,1100000,1295000,570000,1150000,1450000,1150000,1600000,870000,930000,915000,925000,1600000,498000,1300000,1401505,1451000,1325000,1650000,580000,370000,1425000,1600000,1089000,1125000,1289000,1025000,750000,1070000,995000,1500000,1548349,915000,1300000,1175000,1401001,800000,953000,1135000,690000,680000,1475000,1100000,768000,1145000,1025000,1398800,613827,370000,780000,685000,850000,1349000,1289000,1390000,1350000,1588751,800000,1130000,1150000,1300000,1180000,960000,1315000,311185,3783911,1310000,1398800,1100000,1397500,599900,925000,900000,1177500,995000,1150000,750000,1295000,1430000,870000,1525000,810000,1600000,1351000,311185,1004500,1525000,1298000,875000,1640000,1230000,995000,1600000,630000,1089000,1200000,935000,1299000,995000,456000,1430000,1225000,1300000,935000,1330000,1095000,1220000,1350000,1650000,1400000,737000,800000,962000,1350000,550000,1100000,1475000,1500000,1610000,1265000,1350000,1670000,1376000,1400000,1330000,860000,920000,895000,1675000,1125000,1350000,1450000,920000,925000,1258000,1525000,580000,965000,1500000,750000,1370000,1670000,1650000,1200000,740000,1050000,1250000,630000,685000,1350000,1177500,1400000,1150000,740000,950000,1100000,1195000,1525000,1395000,962000,1475000,1535000,950000,1125000,550000,785000,950000,1300000,1100000,1505000,1300000,1180000,1390000,1050000,870000,740000,1310000,580000,890887,880000,935000,965000,1025000,1100000,1100000,1100000,1265000,1330000,639000,828000,1225000,1420000,750000,860000,630000,1610000,1486875,1485000,370000,1199000,1610000,1235000,1500000,1099000,1000000,1425000,1650000,895000,1220000,1089000,1100000,1250000,1260000,1511390,1350000,1401001,1130000,1600000,1030000,925000,1451000,760000,1400000,1330000,1640000,570000,850000,1150000,1328000,1425000,850000,819000,790000,1315000,1600000,1398800,1030000,1099000,790000,999990,1030000,1320000,1004500,1260000,1350000,1688500,750000,1405000,760000,1390745,1310000,1475000,1486875,498000,370000,1376000,1405000,550000,1095000,1000000,930000,1650000,370000,2661799,1340000,1325000,1688500,1175000,1298000,1376000,680000,1475000,768000,1299000,7495,1400000,1650000,1330000,1650000,780000,850000,960000,1500000,1150000,1505000,1120000,1150000,1400000,750000,737000,690000,1000000,1650000,1000000,1500000,1025000,370000,1350000,100000,768000]},\"selected\":{\"id\":\"1244\"},\"selection_policy\":{\"id\":\"1262\"}},\"id\":\"1243\",\"type\":\"ColumnDataSource\"},{\"attributes\":{},\"id\":\"1227\",\"type\":\"BasicTicker\"},{\"attributes\":{\"axis\":{\"id\":\"1223\"},\"grid_line_color\":null,\"ticker\":null},\"id\":\"1225\",\"type\":\"Grid\"},{\"attributes\":{\"end\":4161552.6,\"reset_end\":4161552.6,\"reset_start\":0.0,\"tags\":[[[\"price\",\"price\",null]]]},\"id\":\"1212\",\"type\":\"Range1d\"},{\"attributes\":{},\"id\":\"1221\",\"type\":\"LinearScale\"},{\"attributes\":{},\"id\":\"1219\",\"type\":\"CategoricalScale\"},{\"attributes\":{},\"id\":\"1251\",\"type\":\"CategoricalTickFormatter\"},{\"attributes\":{},\"id\":\"1244\",\"type\":\"Selection\"},{\"attributes\":{\"axis_label\":\"price\",\"bounds\":\"auto\",\"formatter\":{\"id\":\"1253\"},\"major_label_orientation\":\"horizontal\",\"ticker\":{\"id\":\"1227\"}},\"id\":\"1226\",\"type\":\"LinearAxis\"},{\"attributes\":{},\"id\":\"1224\",\"type\":\"CategoricalTicker\"},{\"attributes\":{},\"id\":\"1234\",\"type\":\"ResetTool\"},{\"attributes\":{},\"id\":\"1253\",\"type\":\"BasicTickFormatter\"},{\"attributes\":{\"margin\":[5,5,5,5],\"name\":\"HSpacer01838\",\"sizing_mode\":\"stretch_width\"},\"id\":\"1271\",\"type\":\"Spacer\"},{\"attributes\":{\"axis_label\":\"\",\"bounds\":\"auto\",\"formatter\":{\"id\":\"1251\"},\"major_label_orientation\":\"horizontal\",\"ticker\":{\"id\":\"1224\"}},\"id\":\"1223\",\"type\":\"CategoricalAxis\"},{\"attributes\":{},\"id\":\"1262\",\"type\":\"UnionRenderers\"},{\"attributes\":{\"data_source\":{\"id\":\"1243\"},\"glyph\":{\"id\":\"1246\"},\"hover_glyph\":null,\"muted_glyph\":{\"id\":\"1248\"},\"nonselection_glyph\":{\"id\":\"1247\"},\"selection_glyph\":null,\"view\":{\"id\":\"1250\"}},\"id\":\"1249\",\"type\":\"GlyphRenderer\"},{\"attributes\":{\"text\":\"\",\"text_color\":{\"value\":\"black\"},\"text_font_size\":{\"value\":\"12pt\"}},\"id\":\"1215\",\"type\":\"Title\"},{\"attributes\":{\"overlay\":{\"id\":\"1235\"}},\"id\":\"1233\",\"type\":\"BoxZoomTool\"},{\"attributes\":{},\"id\":\"1232\",\"type\":\"WheelZoomTool\"},{\"attributes\":{},\"id\":\"1231\",\"type\":\"PanTool\"},{\"attributes\":{\"below\":[{\"id\":\"1223\"}],\"center\":[{\"id\":\"1225\"},{\"id\":\"1229\"}],\"left\":[{\"id\":\"1226\"}],\"margin\":[5,5,5,5],\"min_border_bottom\":10,\"min_border_left\":10,\"min_border_right\":10,\"min_border_top\":10,\"plot_height\":500,\"plot_width\":1500,\"renderers\":[{\"id\":\"1249\"}],\"sizing_mode\":\"fixed\",\"title\":{\"id\":\"1215\"},\"toolbar\":{\"id\":\"1236\"},\"x_range\":{\"id\":\"1211\"},\"x_scale\":{\"id\":\"1219\"},\"y_range\":{\"id\":\"1212\"},\"y_scale\":{\"id\":\"1221\"}},\"id\":\"1214\",\"subtype\":\"Figure\",\"type\":\"Plot\"},{\"attributes\":{},\"id\":\"1230\",\"type\":\"SaveTool\"},{\"attributes\":{\"active_drag\":\"auto\",\"active_inspect\":\"auto\",\"active_multi\":null,\"active_scroll\":\"auto\",\"active_tap\":\"auto\",\"tools\":[{\"id\":\"1213\"},{\"id\":\"1230\"},{\"id\":\"1231\"},{\"id\":\"1232\"},{\"id\":\"1233\"},{\"id\":\"1234\"}]},\"id\":\"1236\",\"type\":\"Toolbar\"},{\"attributes\":{\"callback\":null,\"renderers\":[{\"id\":\"1249\"}],\"tags\":[\"hv_created\"],\"tooltips\":[[\"index\",\"@{index}\"],[\"price\",\"@{price}\"]]},\"id\":\"1213\",\"type\":\"HoverTool\"},{\"attributes\":{\"bottom_units\":\"screen\",\"fill_alpha\":0.5,\"fill_color\":\"lightgrey\",\"left_units\":\"screen\",\"level\":\"overlay\",\"line_alpha\":1.0,\"line_color\":\"black\",\"line_dash\":[4,4],\"line_width\":2,\"right_units\":\"screen\",\"top_units\":\"screen\"},\"id\":\"1235\",\"type\":\"BoxAnnotation\"},{\"attributes\":{\"fill_alpha\":{\"value\":0.2},\"fill_color\":{\"value\":\"#30a2da\"},\"line_alpha\":{\"value\":0.2},\"top\":{\"field\":\"price\"},\"width\":{\"value\":0.8},\"x\":{\"field\":\"index\"}},\"id\":\"1248\",\"type\":\"VBar\"},{\"attributes\":{\"factors\":[\"0\",\"1\",\"2\",\"3\",\"4\",\"5\",\"6\",\"7\",\"8\",\"9\",\"10\",\"11\",\"12\",\"13\",\"14\",\"15\",\"16\",\"17\",\"18\",\"19\",\"20\",\"21\",\"22\",\"23\",\"24\",\"25\",\"26\",\"27\",\"28\",\"29\",\"30\",\"31\",\"32\",\"33\",\"34\",\"35\",\"36\",\"37\",\"38\",\"39\",\"40\",\"41\",\"42\",\"43\",\"44\",\"45\",\"46\",\"47\",\"48\",\"49\",\"50\",\"51\",\"52\",\"53\",\"54\",\"55\",\"56\",\"57\",\"58\",\"59\",\"60\",\"61\",\"62\",\"63\",\"64\",\"65\",\"66\",\"67\",\"68\",\"69\",\"70\",\"71\",\"72\",\"73\",\"74\",\"75\",\"76\",\"77\",\"78\",\"79\",\"80\",\"81\",\"82\",\"83\",\"84\",\"85\",\"86\",\"87\",\"88\",\"89\",\"90\",\"91\",\"92\",\"93\",\"94\",\"95\",\"96\",\"97\",\"98\",\"99\",\"100\",\"101\",\"102\",\"103\",\"104\",\"105\",\"106\",\"107\",\"108\",\"109\",\"110\",\"111\",\"112\",\"113\",\"114\",\"115\",\"116\",\"117\",\"118\",\"119\",\"120\",\"121\",\"122\",\"123\",\"124\",\"125\",\"126\",\"127\",\"128\",\"129\",\"130\",\"131\",\"132\",\"133\",\"134\",\"135\",\"136\",\"137\",\"138\",\"139\",\"140\",\"141\",\"142\",\"143\",\"144\",\"145\",\"146\",\"147\",\"148\",\"149\",\"150\",\"151\",\"152\",\"153\",\"154\",\"155\",\"156\",\"157\",\"158\",\"159\",\"160\",\"161\",\"162\",\"163\",\"164\",\"165\",\"166\",\"167\",\"168\",\"169\",\"170\",\"171\",\"172\",\"173\",\"174\",\"175\",\"176\",\"177\",\"178\",\"179\",\"180\",\"181\",\"182\",\"183\",\"184\",\"185\",\"186\",\"187\",\"188\",\"189\",\"190\",\"191\",\"192\",\"193\",\"194\",\"195\",\"196\",\"197\",\"198\",\"199\",\"200\",\"201\",\"202\",\"203\",\"204\",\"205\",\"206\",\"207\",\"208\",\"209\",\"210\",\"211\",\"212\",\"213\",\"214\",\"215\",\"216\",\"217\",\"218\",\"219\",\"220\",\"221\",\"222\",\"223\",\"224\",\"225\",\"226\",\"227\",\"228\",\"229\",\"230\",\"231\",\"232\",\"233\",\"234\",\"235\",\"236\",\"237\",\"238\",\"239\",\"240\",\"241\",\"242\",\"243\",\"244\",\"245\",\"246\",\"247\",\"248\",\"249\",\"250\",\"251\",\"252\",\"253\",\"254\",\"255\",\"256\",\"257\",\"258\",\"259\",\"260\",\"261\",\"262\",\"263\",\"264\",\"265\",\"266\",\"267\",\"268\",\"269\",\"270\",\"271\",\"272\",\"273\",\"274\",\"275\",\"276\",\"277\",\"278\",\"279\",\"280\",\"281\",\"282\",\"283\",\"284\",\"285\",\"286\",\"287\",\"288\",\"289\",\"290\",\"291\",\"292\",\"293\",\"294\",\"295\",\"296\",\"297\",\"298\",\"299\",\"300\",\"301\",\"302\",\"303\",\"304\",\"305\",\"306\",\"307\",\"308\",\"309\",\"310\",\"311\",\"312\",\"313\",\"314\",\"315\",\"316\",\"317\",\"318\",\"319\",\"320\",\"321\",\"322\",\"323\",\"324\",\"325\",\"326\",\"327\",\"328\",\"329\",\"330\",\"331\",\"332\",\"333\",\"334\",\"335\",\"336\",\"337\",\"338\",\"339\",\"340\",\"341\",\"342\",\"343\",\"344\",\"345\",\"346\",\"347\",\"348\",\"349\",\"350\",\"351\",\"352\",\"353\",\"354\",\"355\",\"356\",\"357\",\"358\",\"359\",\"360\",\"361\",\"362\",\"363\",\"364\",\"365\",\"366\",\"367\",\"368\",\"369\",\"370\",\"371\",\"372\",\"373\",\"374\",\"375\",\"376\",\"377\",\"378\",\"379\",\"380\",\"381\",\"382\",\"383\",\"384\",\"385\",\"386\",\"387\",\"388\",\"389\",\"390\",\"391\",\"392\",\"393\",\"394\",\"395\",\"396\",\"397\",\"398\",\"399\",\"400\",\"401\",\"402\",\"403\",\"404\",\"405\",\"406\",\"407\",\"408\",\"409\",\"410\",\"411\",\"412\",\"413\",\"414\",\"415\",\"416\",\"417\",\"418\",\"419\",\"420\",\"421\",\"422\",\"423\",\"424\",\"425\",\"426\",\"427\",\"428\",\"429\",\"430\",\"431\",\"432\",\"433\",\"434\",\"435\",\"436\",\"437\",\"438\",\"439\",\"440\",\"441\",\"442\",\"443\",\"444\",\"445\",\"446\",\"447\",\"448\",\"449\",\"450\",\"451\",\"452\",\"453\",\"454\",\"455\",\"456\",\"457\",\"458\",\"459\",\"460\",\"461\",\"462\",\"463\",\"464\",\"465\",\"466\",\"467\",\"468\",\"469\",\"470\",\"471\",\"472\",\"473\",\"474\",\"475\",\"476\",\"477\",\"478\",\"479\",\"480\",\"481\",\"482\",\"483\",\"484\",\"485\",\"486\",\"487\",\"488\",\"489\",\"490\",\"491\",\"492\",\"493\",\"494\",\"495\",\"496\",\"497\",\"498\",\"499\",\"500\",\"501\",\"502\",\"503\",\"504\",\"505\",\"506\",\"507\",\"508\",\"509\",\"510\",\"511\",\"512\",\"513\",\"514\",\"515\",\"516\",\"517\",\"518\",\"519\",\"520\",\"521\",\"522\",\"523\",\"524\",\"525\",\"526\",\"527\",\"528\",\"529\",\"530\",\"531\",\"532\",\"533\",\"534\",\"535\",\"536\",\"537\",\"538\",\"539\",\"540\",\"541\",\"542\",\"543\",\"544\",\"545\",\"546\",\"547\",\"548\",\"549\",\"550\",\"551\",\"552\"],\"tags\":[[[\"index\",\"index\",null]]]},\"id\":\"1211\",\"type\":\"FactorRange\"},{\"attributes\":{\"fill_color\":{\"value\":\"#30a2da\"},\"top\":{\"field\":\"price\"},\"width\":{\"value\":0.8},\"x\":{\"field\":\"index\"}},\"id\":\"1246\",\"type\":\"VBar\"},{\"attributes\":{\"fill_alpha\":{\"value\":0.1},\"fill_color\":{\"value\":\"#30a2da\"},\"line_alpha\":{\"value\":0.1},\"top\":{\"field\":\"price\"},\"width\":{\"value\":0.8},\"x\":{\"field\":\"index\"}},\"id\":\"1247\",\"type\":\"VBar\"},{\"attributes\":{\"margin\":[5,5,5,5],\"name\":\"HSpacer01837\",\"sizing_mode\":\"stretch_width\"},\"id\":\"1210\",\"type\":\"Spacer\"},{\"attributes\":{\"axis\":{\"id\":\"1226\"},\"dimension\":1,\"grid_line_color\":null,\"ticker\":null},\"id\":\"1229\",\"type\":\"Grid\"}],\"root_ids\":[\"1209\"]},\"title\":\"Bokeh Application\",\"version\":\"2.2.3\"}};\n",
       "    var render_items = [{\"docid\":\"48a93eb0-a912-4225-9807-af920fb6f2a2\",\"root_ids\":[\"1209\"],\"roots\":{\"1209\":\"bae02ba2-e0f2-4e02-af79-af8d99bfe4b6\"}}];\n",
       "    root.Bokeh.embed.embed_items_notebook(docs_json, render_items);\n",
       "  }\n",
       "  if (root.Bokeh !== undefined && root.Bokeh.Panel !== undefined) {\n",
       "    embed_document(root);\n",
       "  } else {\n",
       "    var attempts = 0;\n",
       "    var timer = setInterval(function(root) {\n",
       "      if (root.Bokeh !== undefined && root.Bokeh.Panel !== undefined) {\n",
       "        clearInterval(timer);\n",
       "        embed_document(root);\n",
       "      } else if (document.readyState == \"complete\") {\n",
       "        attempts++;\n",
       "        if (attempts > 100) {\n",
       "          clearInterval(timer);\n",
       "          console.log(\"Bokeh: ERROR: Unable to run BokehJS code because BokehJS library is missing\");\n",
       "        }\n",
       "      }\n",
       "    }, 10, root)\n",
       "  }\n",
       "})(window);</script>"
      ],
      "text/plain": [
       ":Bars   [index]   (price)"
      ]
     },
     "execution_count": 31,
     "metadata": {
      "application/vnd.holoviews_exec.v0+json": {
       "id": "1209"
      }
     },
     "output_type": "execute_result"
    }
   ],
   "source": [
    "sales_SF[['price', 'address']].hvplot(\n",
    "    kind='bar',\n",
    "    height=500,\n",
    "    width=1500,\n",
    ")"
   ]
  },
  {
   "cell_type": "code",
   "execution_count": 32,
   "metadata": {},
   "outputs": [
    {
     "data": {
      "text/plain": [
       "count    5.530000e+02\n",
       "mean     1.146588e+06\n",
       "std      3.666535e+05\n",
       "min      7.495000e+03\n",
       "25%      8.908870e+05\n",
       "50%      1.180000e+06\n",
       "75%      1.400000e+06\n",
       "max      3.783911e+06\n",
       "Name: price, dtype: float64"
      ]
     },
     "execution_count": 32,
     "metadata": {},
     "output_type": "execute_result"
    }
   ],
   "source": [
    "#get summary statistics on SF sales prices\n",
    "\n",
    "sales_SF['price'].describe()"
   ]
  },
  {
   "cell_type": "code",
   "execution_count": 33,
   "metadata": {},
   "outputs": [
    {
     "data": {
      "text/html": [
       "<div>\n",
       "<style scoped>\n",
       "    .dataframe tbody tr th:only-of-type {\n",
       "        vertical-align: middle;\n",
       "    }\n",
       "\n",
       "    .dataframe tbody tr th {\n",
       "        vertical-align: top;\n",
       "    }\n",
       "\n",
       "    .dataframe thead th {\n",
       "        text-align: right;\n",
       "    }\n",
       "</style>\n",
       "<table border=\"1\" class=\"dataframe\">\n",
       "  <thead>\n",
       "    <tr style=\"text-align: right;\">\n",
       "      <th></th>\n",
       "      <th>County</th>\n",
       "      <th>Address</th>\n",
       "      <th>City</th>\n",
       "      <th>Sq Ft</th>\n",
       "      <th>Beds</th>\n",
       "      <th>Baths</th>\n",
       "      <th>Est Value</th>\n",
       "      <th>Est Equity</th>\n",
       "      <th>Owner</th>\n",
       "      <th>Owner Occ?</th>\n",
       "      <th>Listed for Sale?</th>\n",
       "      <th>Foreclosure</th>\n",
       "      <th>Concatenated Address</th>\n",
       "      <th>Latitude</th>\n",
       "      <th>Longitude</th>\n",
       "    </tr>\n",
       "  </thead>\n",
       "  <tbody>\n",
       "    <tr>\n",
       "      <th>1</th>\n",
       "      <td>Alameda</td>\n",
       "      <td>11330 Lochard St</td>\n",
       "      <td>OAKLAND</td>\n",
       "      <td>NaN</td>\n",
       "      <td>NaN</td>\n",
       "      <td>NaN</td>\n",
       "      <td>$450,000</td>\n",
       "      <td>-$1,255,698</td>\n",
       "      <td>OWENS,LILA V</td>\n",
       "      <td>No</td>\n",
       "      <td>No</td>\n",
       "      <td>Yes</td>\n",
       "      <td>11330 Lochard St OAKLAND CA</td>\n",
       "      <td>37.7471529</td>\n",
       "      <td>-122.1303771</td>\n",
       "    </tr>\n",
       "    <tr>\n",
       "      <th>3</th>\n",
       "      <td>Alameda</td>\n",
       "      <td>5401 Claremont Ave</td>\n",
       "      <td>OAKLAND</td>\n",
       "      <td>2,299</td>\n",
       "      <td>3.0</td>\n",
       "      <td>2.5</td>\n",
       "      <td>$2,528,200</td>\n",
       "      <td>$2,528,200</td>\n",
       "      <td>TRIUMPH REO ASSETS LLC</td>\n",
       "      <td>No</td>\n",
       "      <td>No</td>\n",
       "      <td>Yes</td>\n",
       "      <td>5401 Claremont Ave OAKLAND CA</td>\n",
       "      <td>37.8429686</td>\n",
       "      <td>-122.2575852</td>\n",
       "    </tr>\n",
       "    <tr>\n",
       "      <th>5</th>\n",
       "      <td>Alameda</td>\n",
       "      <td>2910 E 16Th St</td>\n",
       "      <td>OAKLAND</td>\n",
       "      <td>1,551</td>\n",
       "      <td>2.0</td>\n",
       "      <td>1.5</td>\n",
       "      <td>$679,800</td>\n",
       "      <td>$139,283</td>\n",
       "      <td>CASILLAS,FIDEL P &amp; DOLORES</td>\n",
       "      <td>Yes</td>\n",
       "      <td>No</td>\n",
       "      <td>Yes</td>\n",
       "      <td>2910 E 16Th St OAKLAND CA</td>\n",
       "      <td>37.7679535</td>\n",
       "      <td>-122.2006489</td>\n",
       "    </tr>\n",
       "    <tr>\n",
       "      <th>7</th>\n",
       "      <td>Alameda</td>\n",
       "      <td>6474 Outlook Ave</td>\n",
       "      <td>OAKLAND</td>\n",
       "      <td>1,095</td>\n",
       "      <td>2.0</td>\n",
       "      <td>1.0</td>\n",
       "      <td>$711,300</td>\n",
       "      <td>-$50,348</td>\n",
       "      <td>COMMUNITY FIRST USA LLC</td>\n",
       "      <td>No</td>\n",
       "      <td>Yes</td>\n",
       "      <td>Yes</td>\n",
       "      <td>6474 Outlook Ave OAKLAND CA</td>\n",
       "      <td>37.7735287</td>\n",
       "      <td>-122.1738383</td>\n",
       "    </tr>\n",
       "    <tr>\n",
       "      <th>9</th>\n",
       "      <td>Alameda</td>\n",
       "      <td>7957 Greenly Dr</td>\n",
       "      <td>OAKLAND</td>\n",
       "      <td>849</td>\n",
       "      <td>2.0</td>\n",
       "      <td>1.0</td>\n",
       "      <td>$699,900</td>\n",
       "      <td>$374,718</td>\n",
       "      <td>JAMES,GWENDOLYN D</td>\n",
       "      <td>Yes</td>\n",
       "      <td>No</td>\n",
       "      <td>Yes</td>\n",
       "      <td>7957 Greenly Dr OAKLAND CA</td>\n",
       "      <td>37.7710906</td>\n",
       "      <td>-122.1616004</td>\n",
       "    </tr>\n",
       "  </tbody>\n",
       "</table>\n",
       "</div>"
      ],
      "text/plain": [
       "    County             Address     City  Sq Ft  Beds  Baths   Est Value  \\\n",
       "1  Alameda    11330 Lochard St  OAKLAND    NaN   NaN    NaN    $450,000   \n",
       "3  Alameda  5401 Claremont Ave  OAKLAND  2,299   3.0    2.5  $2,528,200   \n",
       "5  Alameda      2910 E 16Th St  OAKLAND  1,551   2.0    1.5    $679,800   \n",
       "7  Alameda    6474 Outlook Ave  OAKLAND  1,095   2.0    1.0    $711,300   \n",
       "9  Alameda     7957 Greenly Dr  OAKLAND    849   2.0    1.0    $699,900   \n",
       "\n",
       "    Est Equity                       Owner Owner Occ? Listed for Sale?  \\\n",
       "1  -$1,255,698                OWENS,LILA V         No               No   \n",
       "3   $2,528,200      TRIUMPH REO ASSETS LLC         No               No   \n",
       "5     $139,283  CASILLAS,FIDEL P & DOLORES        Yes               No   \n",
       "7     -$50,348     COMMUNITY FIRST USA LLC         No              Yes   \n",
       "9     $374,718           JAMES,GWENDOLYN D        Yes               No   \n",
       "\n",
       "  Foreclosure           Concatenated Address    Latitude     Longitude  \n",
       "1         Yes    11330 Lochard St OAKLAND CA  37.7471529  -122.1303771  \n",
       "3         Yes  5401 Claremont Ave OAKLAND CA  37.8429686  -122.2575852  \n",
       "5         Yes      2910 E 16Th St OAKLAND CA  37.7679535  -122.2006489  \n",
       "7         Yes    6474 Outlook Ave OAKLAND CA  37.7735287  -122.1738383  \n",
       "9         Yes     7957 Greenly Dr OAKLAND CA  37.7710906  -122.1616004  "
      ]
     },
     "metadata": {},
     "output_type": "display_data"
    },
    {
     "data": {
      "text/html": [
       "<div>\n",
       "<style scoped>\n",
       "    .dataframe tbody tr th:only-of-type {\n",
       "        vertical-align: middle;\n",
       "    }\n",
       "\n",
       "    .dataframe tbody tr th {\n",
       "        vertical-align: top;\n",
       "    }\n",
       "\n",
       "    .dataframe thead th {\n",
       "        text-align: right;\n",
       "    }\n",
       "</style>\n",
       "<table border=\"1\" class=\"dataframe\">\n",
       "  <thead>\n",
       "    <tr style=\"text-align: right;\">\n",
       "      <th></th>\n",
       "      <th>County</th>\n",
       "      <th>Address</th>\n",
       "      <th>City</th>\n",
       "      <th>Sq Ft</th>\n",
       "      <th>Beds</th>\n",
       "      <th>Baths</th>\n",
       "      <th>Est Value</th>\n",
       "      <th>Est Equity</th>\n",
       "      <th>Owner</th>\n",
       "      <th>Owner Occ?</th>\n",
       "      <th>Listed for Sale?</th>\n",
       "      <th>Foreclosure</th>\n",
       "      <th>Concatenated Address</th>\n",
       "      <th>Latitude</th>\n",
       "      <th>Longitude</th>\n",
       "    </tr>\n",
       "  </thead>\n",
       "  <tbody>\n",
       "    <tr>\n",
       "      <th>1435</th>\n",
       "      <td>Sonoma</td>\n",
       "      <td>303 Orchard Ln</td>\n",
       "      <td>PENNGROVE</td>\n",
       "      <td>1,650</td>\n",
       "      <td>3.0</td>\n",
       "      <td>2.0</td>\n",
       "      <td>$1,003,000</td>\n",
       "      <td>$803,243</td>\n",
       "      <td>CYBULSKI,GLENN &amp; AMY</td>\n",
       "      <td>Yes</td>\n",
       "      <td>No</td>\n",
       "      <td>Yes</td>\n",
       "      <td>303 Orchard Ln PENNGROVE CA</td>\n",
       "      <td>38.281236</td>\n",
       "      <td>-122.6804003</td>\n",
       "    </tr>\n",
       "    <tr>\n",
       "      <th>1438</th>\n",
       "      <td>Sonoma</td>\n",
       "      <td>7319 Witter Rd</td>\n",
       "      <td>SEBASTOPOL</td>\n",
       "      <td>1,183</td>\n",
       "      <td>4.0</td>\n",
       "      <td>1.0</td>\n",
       "      <td>$870,600</td>\n",
       "      <td>-$341,098</td>\n",
       "      <td>BLANC,SHEILA ANN</td>\n",
       "      <td>Yes</td>\n",
       "      <td>No</td>\n",
       "      <td>Yes</td>\n",
       "      <td>7319 Witter Rd SEBASTOPOL CA</td>\n",
       "      <td>38.3867484</td>\n",
       "      <td>-122.8203225</td>\n",
       "    </tr>\n",
       "    <tr>\n",
       "      <th>1439</th>\n",
       "      <td>Sonoma</td>\n",
       "      <td>10919 Rio Ruso Dr</td>\n",
       "      <td>WINDSOR</td>\n",
       "      <td>1,272</td>\n",
       "      <td>3.0</td>\n",
       "      <td>2.0</td>\n",
       "      <td>$527,000</td>\n",
       "      <td>$204,683</td>\n",
       "      <td>RIVERA,FRUCTUOSO</td>\n",
       "      <td>Yes</td>\n",
       "      <td>No</td>\n",
       "      <td>Yes</td>\n",
       "      <td>10919 Rio Ruso Dr WINDSOR CA</td>\n",
       "      <td>38.556397</td>\n",
       "      <td>-122.8232501</td>\n",
       "    </tr>\n",
       "    <tr>\n",
       "      <th>1440</th>\n",
       "      <td>Sonoma</td>\n",
       "      <td>182 Windsor River Rd</td>\n",
       "      <td>WINDSOR</td>\n",
       "      <td>1,070</td>\n",
       "      <td>NaN</td>\n",
       "      <td>NaN</td>\n",
       "      <td>$241,179</td>\n",
       "      <td>$241,179</td>\n",
       "      <td>MONSTRO LLC</td>\n",
       "      <td>No</td>\n",
       "      <td>No</td>\n",
       "      <td>Yes</td>\n",
       "      <td>182 Windsor River Rd WINDSOR CA</td>\n",
       "      <td>38.5473212</td>\n",
       "      <td>-122.8280792</td>\n",
       "    </tr>\n",
       "    <tr>\n",
       "      <th>1441</th>\n",
       "      <td>Sonoma</td>\n",
       "      <td>302 Northstar Ln</td>\n",
       "      <td>CLOVERDALE</td>\n",
       "      <td>2,050</td>\n",
       "      <td>3.0</td>\n",
       "      <td>2.0</td>\n",
       "      <td>$635,500</td>\n",
       "      <td>$295,212</td>\n",
       "      <td>SLOAN,JAC8UELINE C</td>\n",
       "      <td>Yes</td>\n",
       "      <td>No</td>\n",
       "      <td>Yes</td>\n",
       "      <td>302 Northstar Ln CLOVERDALE CA</td>\n",
       "      <td>38.7805741</td>\n",
       "      <td>-123.0167964</td>\n",
       "    </tr>\n",
       "  </tbody>\n",
       "</table>\n",
       "</div>"
      ],
      "text/plain": [
       "      County               Address        City  Sq Ft  Beds  Baths  \\\n",
       "1435  Sonoma        303 Orchard Ln   PENNGROVE  1,650   3.0    2.0   \n",
       "1438  Sonoma        7319 Witter Rd  SEBASTOPOL  1,183   4.0    1.0   \n",
       "1439  Sonoma     10919 Rio Ruso Dr     WINDSOR  1,272   3.0    2.0   \n",
       "1440  Sonoma  182 Windsor River Rd     WINDSOR  1,070   NaN    NaN   \n",
       "1441  Sonoma      302 Northstar Ln  CLOVERDALE  2,050   3.0    2.0   \n",
       "\n",
       "       Est Value Est Equity                 Owner Owner Occ? Listed for Sale?  \\\n",
       "1435  $1,003,000   $803,243  CYBULSKI,GLENN & AMY        Yes               No   \n",
       "1438    $870,600  -$341,098      BLANC,SHEILA ANN        Yes               No   \n",
       "1439    $527,000   $204,683      RIVERA,FRUCTUOSO        Yes               No   \n",
       "1440    $241,179   $241,179           MONSTRO LLC         No               No   \n",
       "1441    $635,500   $295,212    SLOAN,JAC8UELINE C        Yes               No   \n",
       "\n",
       "     Foreclosure             Concatenated Address    Latitude     Longitude  \n",
       "1435         Yes      303 Orchard Ln PENNGROVE CA   38.281236  -122.6804003  \n",
       "1438         Yes     7319 Witter Rd SEBASTOPOL CA  38.3867484  -122.8203225  \n",
       "1439         Yes     10919 Rio Ruso Dr WINDSOR CA   38.556397  -122.8232501  \n",
       "1440         Yes  182 Windsor River Rd WINDSOR CA  38.5473212  -122.8280792  \n",
       "1441         Yes   302 Northstar Ln CLOVERDALE CA  38.7805741  -123.0167964  "
      ]
     },
     "metadata": {},
     "output_type": "display_data"
    }
   ],
   "source": [
    "#replace ? in Latitute and Longitute Columns with spaces\n",
    "#foreclosure_df.loc[:, \"Latitude\"] = foreclosure_df.loc[:, \"Latitude\"].str.replace(\"?\", \"\")\n",
    "#foreclosure_df.loc[:, \"Longitude\"] = foreclosure_df.loc[:, \"Longitude\"].str.replace(\"?\", \"\")\n",
    "\n",
    "foreclosure_df = foreclosure_df.query('Latitude != \"???\"')\n",
    "\n",
    "\n",
    "#foreclosure_df['Latitude'].dropna()\n",
    "#foreclosure_df['Longitude'].dropna()\n",
    "\n",
    "\n",
    "display(foreclosure_df.head())\n",
    "display(foreclosure_df.tail())\n",
    "\n",
    "#display(foreclosure_df.isnull().sum())       \n",
    "#foreclosure_df.dtypes"
   ]
  },
  {
   "cell_type": "code",
   "execution_count": 34,
   "metadata": {},
   "outputs": [
    {
     "data": {
      "text/html": [
       "<div>\n",
       "<style scoped>\n",
       "    .dataframe tbody tr th:only-of-type {\n",
       "        vertical-align: middle;\n",
       "    }\n",
       "\n",
       "    .dataframe tbody tr th {\n",
       "        vertical-align: top;\n",
       "    }\n",
       "\n",
       "    .dataframe thead th {\n",
       "        text-align: right;\n",
       "    }\n",
       "</style>\n",
       "<table border=\"1\" class=\"dataframe\">\n",
       "  <thead>\n",
       "    <tr style=\"text-align: right;\">\n",
       "      <th></th>\n",
       "      <th>County</th>\n",
       "      <th>Address</th>\n",
       "      <th>City</th>\n",
       "      <th>Sq Ft</th>\n",
       "      <th>Beds</th>\n",
       "      <th>Baths</th>\n",
       "      <th>Est Value</th>\n",
       "      <th>Est Equity</th>\n",
       "      <th>Owner</th>\n",
       "      <th>Owner Occ?</th>\n",
       "      <th>Listed for Sale?</th>\n",
       "      <th>Foreclosure</th>\n",
       "      <th>Concatenated Address</th>\n",
       "      <th>Latitude</th>\n",
       "      <th>Longitude</th>\n",
       "    </tr>\n",
       "  </thead>\n",
       "  <tbody>\n",
       "    <tr>\n",
       "      <th>1</th>\n",
       "      <td>Alameda</td>\n",
       "      <td>11330 Lochard St</td>\n",
       "      <td>OAKLAND</td>\n",
       "      <td>NaN</td>\n",
       "      <td>NaN</td>\n",
       "      <td>NaN</td>\n",
       "      <td>$450,000</td>\n",
       "      <td>-$1,255,698</td>\n",
       "      <td>OWENS,LILA V</td>\n",
       "      <td>No</td>\n",
       "      <td>No</td>\n",
       "      <td>Yes</td>\n",
       "      <td>11330 Lochard St OAKLAND CA</td>\n",
       "      <td>37.747153</td>\n",
       "      <td>-122.130377</td>\n",
       "    </tr>\n",
       "    <tr>\n",
       "      <th>3</th>\n",
       "      <td>Alameda</td>\n",
       "      <td>5401 Claremont Ave</td>\n",
       "      <td>OAKLAND</td>\n",
       "      <td>2,299</td>\n",
       "      <td>3.0</td>\n",
       "      <td>2.5</td>\n",
       "      <td>$2,528,200</td>\n",
       "      <td>$2,528,200</td>\n",
       "      <td>TRIUMPH REO ASSETS LLC</td>\n",
       "      <td>No</td>\n",
       "      <td>No</td>\n",
       "      <td>Yes</td>\n",
       "      <td>5401 Claremont Ave OAKLAND CA</td>\n",
       "      <td>37.842969</td>\n",
       "      <td>-122.257585</td>\n",
       "    </tr>\n",
       "    <tr>\n",
       "      <th>5</th>\n",
       "      <td>Alameda</td>\n",
       "      <td>2910 E 16Th St</td>\n",
       "      <td>OAKLAND</td>\n",
       "      <td>1,551</td>\n",
       "      <td>2.0</td>\n",
       "      <td>1.5</td>\n",
       "      <td>$679,800</td>\n",
       "      <td>$139,283</td>\n",
       "      <td>CASILLAS,FIDEL P &amp; DOLORES</td>\n",
       "      <td>Yes</td>\n",
       "      <td>No</td>\n",
       "      <td>Yes</td>\n",
       "      <td>2910 E 16Th St OAKLAND CA</td>\n",
       "      <td>37.767953</td>\n",
       "      <td>-122.200649</td>\n",
       "    </tr>\n",
       "    <tr>\n",
       "      <th>7</th>\n",
       "      <td>Alameda</td>\n",
       "      <td>6474 Outlook Ave</td>\n",
       "      <td>OAKLAND</td>\n",
       "      <td>1,095</td>\n",
       "      <td>2.0</td>\n",
       "      <td>1.0</td>\n",
       "      <td>$711,300</td>\n",
       "      <td>-$50,348</td>\n",
       "      <td>COMMUNITY FIRST USA LLC</td>\n",
       "      <td>No</td>\n",
       "      <td>Yes</td>\n",
       "      <td>Yes</td>\n",
       "      <td>6474 Outlook Ave OAKLAND CA</td>\n",
       "      <td>37.773529</td>\n",
       "      <td>-122.173838</td>\n",
       "    </tr>\n",
       "    <tr>\n",
       "      <th>9</th>\n",
       "      <td>Alameda</td>\n",
       "      <td>7957 Greenly Dr</td>\n",
       "      <td>OAKLAND</td>\n",
       "      <td>849</td>\n",
       "      <td>2.0</td>\n",
       "      <td>1.0</td>\n",
       "      <td>$699,900</td>\n",
       "      <td>$374,718</td>\n",
       "      <td>JAMES,GWENDOLYN D</td>\n",
       "      <td>Yes</td>\n",
       "      <td>No</td>\n",
       "      <td>Yes</td>\n",
       "      <td>7957 Greenly Dr OAKLAND CA</td>\n",
       "      <td>37.771091</td>\n",
       "      <td>-122.161600</td>\n",
       "    </tr>\n",
       "  </tbody>\n",
       "</table>\n",
       "</div>"
      ],
      "text/plain": [
       "    County             Address     City  Sq Ft  Beds  Baths   Est Value  \\\n",
       "1  Alameda    11330 Lochard St  OAKLAND    NaN   NaN    NaN    $450,000   \n",
       "3  Alameda  5401 Claremont Ave  OAKLAND  2,299   3.0    2.5  $2,528,200   \n",
       "5  Alameda      2910 E 16Th St  OAKLAND  1,551   2.0    1.5    $679,800   \n",
       "7  Alameda    6474 Outlook Ave  OAKLAND  1,095   2.0    1.0    $711,300   \n",
       "9  Alameda     7957 Greenly Dr  OAKLAND    849   2.0    1.0    $699,900   \n",
       "\n",
       "    Est Equity                       Owner Owner Occ? Listed for Sale?  \\\n",
       "1  -$1,255,698                OWENS,LILA V         No               No   \n",
       "3   $2,528,200      TRIUMPH REO ASSETS LLC         No               No   \n",
       "5     $139,283  CASILLAS,FIDEL P & DOLORES        Yes               No   \n",
       "7     -$50,348     COMMUNITY FIRST USA LLC         No              Yes   \n",
       "9     $374,718           JAMES,GWENDOLYN D        Yes               No   \n",
       "\n",
       "  Foreclosure           Concatenated Address   Latitude   Longitude  \n",
       "1         Yes    11330 Lochard St OAKLAND CA  37.747153 -122.130377  \n",
       "3         Yes  5401 Claremont Ave OAKLAND CA  37.842969 -122.257585  \n",
       "5         Yes      2910 E 16Th St OAKLAND CA  37.767953 -122.200649  \n",
       "7         Yes    6474 Outlook Ave OAKLAND CA  37.773529 -122.173838  \n",
       "9         Yes     7957 Greenly Dr OAKLAND CA  37.771091 -122.161600  "
      ]
     },
     "metadata": {},
     "output_type": "display_data"
    },
    {
     "data": {
      "text/html": [
       "<div>\n",
       "<style scoped>\n",
       "    .dataframe tbody tr th:only-of-type {\n",
       "        vertical-align: middle;\n",
       "    }\n",
       "\n",
       "    .dataframe tbody tr th {\n",
       "        vertical-align: top;\n",
       "    }\n",
       "\n",
       "    .dataframe thead th {\n",
       "        text-align: right;\n",
       "    }\n",
       "</style>\n",
       "<table border=\"1\" class=\"dataframe\">\n",
       "  <thead>\n",
       "    <tr style=\"text-align: right;\">\n",
       "      <th></th>\n",
       "      <th>County</th>\n",
       "      <th>Address</th>\n",
       "      <th>City</th>\n",
       "      <th>Sq Ft</th>\n",
       "      <th>Beds</th>\n",
       "      <th>Baths</th>\n",
       "      <th>Est Value</th>\n",
       "      <th>Est Equity</th>\n",
       "      <th>Owner</th>\n",
       "      <th>Owner Occ?</th>\n",
       "      <th>Listed for Sale?</th>\n",
       "      <th>Foreclosure</th>\n",
       "      <th>Concatenated Address</th>\n",
       "      <th>Latitude</th>\n",
       "      <th>Longitude</th>\n",
       "    </tr>\n",
       "  </thead>\n",
       "  <tbody>\n",
       "    <tr>\n",
       "      <th>1435</th>\n",
       "      <td>Sonoma</td>\n",
       "      <td>303 Orchard Ln</td>\n",
       "      <td>PENNGROVE</td>\n",
       "      <td>1,650</td>\n",
       "      <td>3.0</td>\n",
       "      <td>2.0</td>\n",
       "      <td>$1,003,000</td>\n",
       "      <td>$803,243</td>\n",
       "      <td>CYBULSKI,GLENN &amp; AMY</td>\n",
       "      <td>Yes</td>\n",
       "      <td>No</td>\n",
       "      <td>Yes</td>\n",
       "      <td>303 Orchard Ln PENNGROVE CA</td>\n",
       "      <td>38.281236</td>\n",
       "      <td>-122.680400</td>\n",
       "    </tr>\n",
       "    <tr>\n",
       "      <th>1438</th>\n",
       "      <td>Sonoma</td>\n",
       "      <td>7319 Witter Rd</td>\n",
       "      <td>SEBASTOPOL</td>\n",
       "      <td>1,183</td>\n",
       "      <td>4.0</td>\n",
       "      <td>1.0</td>\n",
       "      <td>$870,600</td>\n",
       "      <td>-$341,098</td>\n",
       "      <td>BLANC,SHEILA ANN</td>\n",
       "      <td>Yes</td>\n",
       "      <td>No</td>\n",
       "      <td>Yes</td>\n",
       "      <td>7319 Witter Rd SEBASTOPOL CA</td>\n",
       "      <td>38.386748</td>\n",
       "      <td>-122.820323</td>\n",
       "    </tr>\n",
       "    <tr>\n",
       "      <th>1439</th>\n",
       "      <td>Sonoma</td>\n",
       "      <td>10919 Rio Ruso Dr</td>\n",
       "      <td>WINDSOR</td>\n",
       "      <td>1,272</td>\n",
       "      <td>3.0</td>\n",
       "      <td>2.0</td>\n",
       "      <td>$527,000</td>\n",
       "      <td>$204,683</td>\n",
       "      <td>RIVERA,FRUCTUOSO</td>\n",
       "      <td>Yes</td>\n",
       "      <td>No</td>\n",
       "      <td>Yes</td>\n",
       "      <td>10919 Rio Ruso Dr WINDSOR CA</td>\n",
       "      <td>38.556397</td>\n",
       "      <td>-122.823250</td>\n",
       "    </tr>\n",
       "    <tr>\n",
       "      <th>1440</th>\n",
       "      <td>Sonoma</td>\n",
       "      <td>182 Windsor River Rd</td>\n",
       "      <td>WINDSOR</td>\n",
       "      <td>1,070</td>\n",
       "      <td>NaN</td>\n",
       "      <td>NaN</td>\n",
       "      <td>$241,179</td>\n",
       "      <td>$241,179</td>\n",
       "      <td>MONSTRO LLC</td>\n",
       "      <td>No</td>\n",
       "      <td>No</td>\n",
       "      <td>Yes</td>\n",
       "      <td>182 Windsor River Rd WINDSOR CA</td>\n",
       "      <td>38.547321</td>\n",
       "      <td>-122.828079</td>\n",
       "    </tr>\n",
       "    <tr>\n",
       "      <th>1441</th>\n",
       "      <td>Sonoma</td>\n",
       "      <td>302 Northstar Ln</td>\n",
       "      <td>CLOVERDALE</td>\n",
       "      <td>2,050</td>\n",
       "      <td>3.0</td>\n",
       "      <td>2.0</td>\n",
       "      <td>$635,500</td>\n",
       "      <td>$295,212</td>\n",
       "      <td>SLOAN,JAC8UELINE C</td>\n",
       "      <td>Yes</td>\n",
       "      <td>No</td>\n",
       "      <td>Yes</td>\n",
       "      <td>302 Northstar Ln CLOVERDALE CA</td>\n",
       "      <td>38.780574</td>\n",
       "      <td>-123.016796</td>\n",
       "    </tr>\n",
       "  </tbody>\n",
       "</table>\n",
       "</div>"
      ],
      "text/plain": [
       "      County               Address        City  Sq Ft  Beds  Baths  \\\n",
       "1435  Sonoma        303 Orchard Ln   PENNGROVE  1,650   3.0    2.0   \n",
       "1438  Sonoma        7319 Witter Rd  SEBASTOPOL  1,183   4.0    1.0   \n",
       "1439  Sonoma     10919 Rio Ruso Dr     WINDSOR  1,272   3.0    2.0   \n",
       "1440  Sonoma  182 Windsor River Rd     WINDSOR  1,070   NaN    NaN   \n",
       "1441  Sonoma      302 Northstar Ln  CLOVERDALE  2,050   3.0    2.0   \n",
       "\n",
       "       Est Value Est Equity                 Owner Owner Occ? Listed for Sale?  \\\n",
       "1435  $1,003,000   $803,243  CYBULSKI,GLENN & AMY        Yes               No   \n",
       "1438    $870,600  -$341,098      BLANC,SHEILA ANN        Yes               No   \n",
       "1439    $527,000   $204,683      RIVERA,FRUCTUOSO        Yes               No   \n",
       "1440    $241,179   $241,179           MONSTRO LLC         No               No   \n",
       "1441    $635,500   $295,212    SLOAN,JAC8UELINE C        Yes               No   \n",
       "\n",
       "     Foreclosure             Concatenated Address   Latitude   Longitude  \n",
       "1435         Yes      303 Orchard Ln PENNGROVE CA  38.281236 -122.680400  \n",
       "1438         Yes     7319 Witter Rd SEBASTOPOL CA  38.386748 -122.820323  \n",
       "1439         Yes     10919 Rio Ruso Dr WINDSOR CA  38.556397 -122.823250  \n",
       "1440         Yes  182 Windsor River Rd WINDSOR CA  38.547321 -122.828079  \n",
       "1441         Yes   302 Northstar Ln CLOVERDALE CA  38.780574 -123.016796  "
      ]
     },
     "metadata": {},
     "output_type": "display_data"
    },
    {
     "data": {
      "text/plain": [
       "County                   object\n",
       "Address                  object\n",
       "City                     object\n",
       "Sq Ft                    object\n",
       "Beds                    float64\n",
       "Baths                   float64\n",
       "Est Value                object\n",
       "Est Equity               object\n",
       "Owner                    object\n",
       "Owner Occ?               object\n",
       "Listed for Sale?         object\n",
       "Foreclosure              object\n",
       "Concatenated Address     object\n",
       "Latitude                float64\n",
       "Longitude               float64\n",
       "dtype: object"
      ]
     },
     "execution_count": 34,
     "metadata": {},
     "output_type": "execute_result"
    }
   ],
   "source": [
    "# For all the rows in \"latitude\", use the astype function \n",
    "# to change the data type from Object (string) to float\n",
    "foreclosure_df.loc[:, \"Latitude\"] = foreclosure_df.loc[:, \"Latitude\"].astype(float)\n",
    "foreclosure_df.loc[:, \"Longitude\"] = foreclosure_df.loc[:, \"Longitude\"].astype(float)\n",
    "\n",
    "#display dataframes\n",
    "display(foreclosure_df.head())\n",
    "display(foreclosure_df.tail())\n",
    "\n",
    "#confirm float type\n",
    "foreclosure_df.dtypes\n"
   ]
  },
  {
   "cell_type": "code",
   "execution_count": 53,
   "metadata": {},
   "outputs": [
    {
     "data": {
      "application/vnd.plotly.v1+json": {
       "config": {
        "plotlyServerURL": "https://plot.ly"
       },
       "data": [
        {
         "hovertemplate": "County=Alameda<br>Latitude=%{lat}<br>Longitude=%{lon}<extra></extra>",
         "lat": [
          37.7471529,
          37.8429686,
          37.7679535,
          37.7735287,
          37.7710906,
          37.7475942,
          37.7376346,
          37.7550041,
          37.781885,
          37.8505918,
          37.8568993,
          37.8920331,
          37.7725177,
          37.7413888,
          37.7246633,
          37.7011386,
          37.5409294,
          37.5185415,
          37.660519,
          37.5876544,
          37.7680729,
          37.7445054,
          37.724355,
          37.584681,
          37.5561111,
          37.6999207,
          37.6841122,
          37.8025433,
          37.7113397,
          37.5249699,
          37.521693,
          37.7439982,
          37.7921439,
          37.7222721,
          37.7235325,
          37.6299665,
          37.7103414,
          37.81729075,
          37.7659463,
          37.7488172,
          37.7934663,
          37.8054198,
          37.7286345,
          37.872389,
          37.7339014,
          37.684968,
          37.5978174,
          37.7360313,
          37.7782157,
          37.762096,
          37.883711,
          37.797503,
          37.7500504,
          37.6744371,
          37.6905794,
          37.5384355,
          37.5624046,
          37.645606,
          37.7700153,
          37.7439982,
          37.7431905,
          37.8284106,
          37.7943972,
          37.8059792,
          37.7699722,
          37.7784426,
          37.7465779,
          37.6719633,
          37.6761183,
          37.6712509,
          37.6399931,
          37.7929217,
          37.606108,
          37.7511904,
          37.7764698,
          37.7782157,
          37.7593512,
          37.6939711,
          37.6674645,
          37.6606719,
          37.7164983,
          37.7550041,
          37.6507967,
          37.8502878,
          31.5956785,
          37.6641178,
          37.7607104,
          37.8381792,
          37.7056119,
          37.505246,
          37.4569196,
          37.8000321,
          37.6899653,
          37.6918008,
          37.6700588,
          37.6319518,
          37.6273545,
          37.7787131,
          37.8490759,
          37.7979395,
          37.7942343,
          37.7439982,
          37.5178259,
          37.6737048,
          37.8281259,
          37.8104121,
          37.6725809,
          37.8409682,
          43.0667033,
          37.8046584,
          37.7730318,
          37.7819671,
          37.7660145,
          37.7787131,
          37.7475942,
          37.8060642,
          37.7394275,
          37.8000145,
          37.7517602,
          37.8690688,
          37.7884998,
          37.6980985,
          37.6207763,
          37.7018449,
          37.8217733,
          37.6773466,
          37.602872,
          37.642806,
          37.6272674,
          37.55297,
          37.5838972,
          37.560802,
          37.5785339,
          37.5773087,
          37.574731,
          37.5834344,
          37.8026876,
          37.8054953,
          37.7787131,
          37.725036,
          37.7765432,
          37.5919492,
          37.6814131,
          37.860273,
          37.6399931,
          37.6945673,
          37.64845425,
          37.8366423,
          37.77848,
          37.849179,
          37.8124399,
          37.8794656,
          37.8425359,
          37.8002554,
          37.8321829,
          37.7770871,
          37.7787435,
          37.7731102,
          37.7902863,
          37.7612752,
          37.7467482,
          37.8610912,
          37.7134822,
          37.7052887,
          37.6247522,
          37.6294389,
          37.6274915,
          37.5902421,
          37.5605619,
          37.6898732,
          37.7426691,
          37.7929421,
          37.7997147,
          37.868208,
          37.8371158,
          37.6754665,
          37.6327985,
          37.5296915,
          37.6520837,
          37.6371528,
          37.6938334,
          37.726183,
          37.8034788,
          37.7505281,
          37.8292989,
          37.8389917,
          37.7496293,
          37.7676036,
          37.7504067,
          37.7310548,
          37.6648921,
          37.6269896,
          37.6464211,
          37.521693,
          37.5851299,
          37.5624722,
          37.706021,
          37.7179342,
          37.7939968,
          37.6503106,
          37.82609875,
          37.6831623,
          37.620009,
          37.6944486,
          37.4893959,
          37.7214005,
          37.4712364,
          37.6493405,
          37.5237944,
          37.5168193,
          37.83441785
         ],
         "legendgroup": "Alameda",
         "lon": [
          -122.1303771,
          -122.2575852,
          -122.2006489,
          -122.1738383,
          -122.1616004,
          -122.1774951,
          -122.1833569,
          -122.1616274,
          -122.1419927,
          -122.2808136,
          -122.2541754,
          -122.2985272,
          -122.2621463,
          -122.2439694,
          -122.146135,
          -122.0636672,
          -122.0319246,
          -121.992313,
          -122.0852481,
          -122.0798363,
          -122.1353678,
          -122.127436,
          -122.113913,
          -122.070605,
          -121.9673195,
          -122.1346176,
          -122.0592842,
          -122.2886371,
          -121.750235,
          -121.9192601,
          -121.9353026,
          -122.1534944,
          -122.2180187,
          -122.0864338,
          -121.9313001,
          -122.0695371,
          -121.862109,
          -122.2554874,
          -122.1943617,
          -122.136602,
          -122.2118012,
          -122.2819181,
          -122.1752643,
          -122.2668858,
          -122.16707,
          -122.0674552,
          -122.0255016,
          -122.2506339,
          -122.1957057,
          -122.1844618,
          -122.28913,
          -122.1769446,
          -122.1281838,
          -121.7670133,
          -121.7861294,
          -121.9557933,
          -122.0592829,
          -121.9034429,
          -122.2163687,
          -122.1534944,
          -122.1766193,
          -122.201626,
          -122.2557562,
          -122.2982572,
          -122.1819408,
          -122.1759149,
          -122.1586141,
          -122.0790561,
          -122.0933043,
          -122.0970931,
          -122.0913073,
          -122.1631864,
          -122.0927192,
          -122.1183357,
          -122.218662,
          -122.1957057,
          -122.1831629,
          -122.0691326,
          -121.8465838,
          -121.8412383,
          -121.8589773,
          -122.1616274,
          -121.8993241,
          -122.2737457,
          -84.1302491,
          -121.7748442,
          -122.1450633,
          -122.2841351,
          -122.1297125,
          -121.937908,
          -121.9263624,
          -122.2850379,
          -122.1531281,
          -122.1573441,
          -122.1420777,
          -122.0686621,
          -122.0803495,
          -122.1905906,
          -122.2544491,
          -122.2299042,
          -122.1797619,
          -122.1534944,
          -121.9302113,
          -121.7286858,
          -122.2583609,
          -122.1957132,
          -121.7638417,
          -122.2617488,
          -89.4126785,
          -122.278613,
          -122.1751085,
          -122.199831,
          -122.1677704,
          -122.1905906,
          -122.1774951,
          -122.1832659,
          -122.1854643,
          -122.1754136,
          -122.1672504,
          -122.2441513,
          -122.2777184,
          -122.1462461,
          -122.0366517,
          -122.1231998,
          -122.2805509,
          -122.1426126,
          -122.0291027,
          -122.0749744,
          -122.0841952,
          -122.0154346,
          -122.0664385,
          -121.9881722,
          -122.0417246,
          -122.0502465,
          -122.0555021,
          -122.0329924,
          -122.2830008,
          -122.2811826,
          -122.1905906,
          -122.127809,
          -122.206227,
          -122.0758694,
          -121.7834312,
          -122.2890618,
          -122.0913073,
          -121.8899533,
          -121.8881299,
          -122.2577131,
          -122.1647808,
          -122.2512465,
          -122.203971,
          -122.2610676,
          -122.2723462,
          -122.273932,
          -122.2678275,
          -122.1681382,
          -122.1935532,
          -122.2285135,
          -122.1870222,
          -122.1776032,
          -122.1707528,
          -122.2326024,
          -122.1652839,
          -122.0859249,
          -122.0846538,
          -122.0838036,
          -122.0798372,
          -122.0790623,
          -122.0235793,
          -121.8794938,
          -122.1547797,
          -122.2684086,
          -122.1721782,
          -122.2631767,
          -122.2937355,
          -122.1294864,
          -122.0606508,
          -122.0454023,
          -122.0961425,
          -122.1029695,
          -121.8910371,
          -121.8585269,
          -122.2614331,
          -122.1809333,
          -122.2703365,
          -122.2564214,
          -122.174321,
          -122.1746577,
          -122.2361259,
          -122.1785022,
          -122.1409791,
          -122.0973881,
          -122.1095388,
          -121.9353026,
          -122.0244117,
          -122.0543933,
          -121.8055143,
          -121.9336713,
          -122.2169712,
          -122.040423,
          -122.239126,
          -122.063828,
          -122.072131,
          -122.1601318,
          -121.9301814,
          -121.7289474,
          -121.9345716,
          -122.1170659,
          -122.0508382,
          -121.9429273,
          -122.2626505
         ],
         "marker": {
          "color": "#636efa"
         },
         "mode": "markers",
         "name": "Alameda",
         "showlegend": true,
         "subplot": "mapbox",
         "type": "scattermapbox"
        },
        {
         "hovertemplate": "County=Contra Costa<br>Latitude=%{lat}<br>Longitude=%{lon}<extra></extra>",
         "lat": [
          37.9115372,
          37.8941793,
          37.9211022,
          37.9319225,
          37.9849606,
          38.0064618,
          37.9884182,
          37.9662848,
          38.0155113,
          37.9710522,
          37.9854335,
          38.030308,
          37.9877875,
          37.9481281,
          37.9713373,
          37.9026535,
          37.8678091,
          37.8631465,
          37.8575414,
          37.8664553,
          37.9862513,
          37.9828087,
          37.9481279,
          37.9318513,
          37.9384266,
          37.9569654,
          37.9242335,
          37.9842454,
          37.9457602,
          37.9263451,
          37.990165,
          37.7383641,
          37.977287,
          38.0064473,
          37.9784546,
          37.9561008,
          38.0035548,
          37.9872206,
          37.9403478,
          37.9540479,
          37.9252423,
          37.7996597,
          38.004092,
          37.9403507,
          37.9985846,
          37.8193372,
          37.7485725,
          37.9115022,
          37.956835,
          38.0038645,
          38.011747,
          37.9649742,
          37.930743,
          37.9708684,
          37.9941324,
          37.9397818,
          37.9251369,
          37.9012287,
          37.82298,
          37.883649,
          37.994725,
          37.9173895,
          37.94792515,
          37.9752209,
          38.0163303,
          37.9025696,
          37.9534062,
          37.9338225,
          37.9368472,
          37.8916303,
          36.3816584,
          37.9999581,
          38.0041356,
          38.0117107,
          38.008521,
          38.0226543,
          37.9941582,
          37.9713373,
          37.9934193,
          37.8403326,
          37.860925,
          37.8295551,
          37.8441975,
          38.0130883,
          38.0089369,
          37.9724316,
          37.9321043,
          37.900754,
          38.005638,
          37.9234792,
          38.0108003,
          38.0148573,
          37.9780768,
          37.9790453,
          37.9911156,
          37.9643,
          37.9998475,
          37.9985846,
          37.9487967,
          37.9459381,
          37.7705208,
          37.8507545,
          38.0077688,
          37.9488405,
          37.9481279,
          37.9368373,
          37.9003111,
          37.9731573,
          37.9886756,
          37.9078419,
          37.944649,
          37.793132,
          37.8935196,
          38.0268239,
          37.9821884,
          37.9485162,
          37.9533763,
          37.9576294,
          37.8944977,
          37.9035869,
          37.9639051,
          37.965647,
          37.9246038,
          38.0017128,
          37.9792525,
          37.9390005,
          37.9820628,
          37.9874291,
          37.9026535,
          37.7962659,
          37.8167385,
          37.8884659,
          37.9540487,
          37.95643445,
          37.9593848,
          37.9382934,
          37.904994,
          37.9249851,
          37.9302077,
          37.9814941,
          37.9598862,
          37.9217757,
          37.9925531,
          37.9916723,
          37.9798209,
          37.9842124,
          37.9995713,
          37.9431987,
          37.9067285,
          37.9994842,
          37.9658834,
          38.0034162,
          37.9919393,
          38.0008272,
          37.9793355,
          37.9122472,
          37.8994311,
          37.892852,
          37.9122472,
          37.8010041,
          38.0156263,
          37.9879861,
          37.9534062,
          37.9737637,
          37.939933,
          37.9878881,
          37.9861868,
          38.0036463,
          37.9590729,
          37.9366001,
          38.0291784,
          37.9751693,
          37.9655811,
          38.0163303,
          38.005638,
          37.785965,
          38.0069188,
          37.9798209,
          37.9878881,
          37.9984263,
          37.9632102,
          37.9446982,
          37.9978467,
          38.0096153,
          37.9154915,
          37.9096865,
          38.0127072,
          37.9384007,
          37.9863778,
          37.9326444,
          37.7274171
         ],
         "legendgroup": "Contra Costa",
         "lon": [
          -121.5956466,
          -121.5975778,
          -121.6211056,
          -121.7494748,
          -121.7147764,
          -121.7299033,
          -121.7431661,
          -121.7584299,
          -121.8222076,
          -121.8016163,
          -121.8352246,
          -121.8883917,
          -122.0643878,
          -121.9749269,
          -122.0925157,
          -122.0545301,
          -122.0514536,
          -122.1302472,
          -122.1288445,
          -122.1531374,
          -122.2716118,
          -122.3108961,
          -122.3520858,
          -121.9288734,
          -122.3704583,
          -122.0394116,
          -122.0210642,
          -122.0714054,
          -122.0705487,
          -122.061011,
          -121.6364599,
          -121.9245684,
          -122.1006937,
          -121.9498785,
          -122.037776,
          -121.7638743,
          -121.8909881,
          -122.0801198,
          -122.3657834,
          -122.366945,
          -122.3466854,
          -121.9040015,
          -122.2997531,
          -122.3653107,
          -121.8152216,
          -121.9954181,
          -121.9388437,
          -122.3430393,
          -121.8000284,
          -121.7981106,
          -121.8959305,
          -121.992544,
          -122.0116262,
          -122.0986678,
          -121.7771758,
          -122.0360539,
          -122.1061224,
          -122.0806348,
          -121.989865,
          -122.1919977,
          -122.2878825,
          -122.2909882,
          -122.322647,
          -121.7685039,
          -122.2786439,
          -121.5896818,
          -122.3513302,
          -122.3486226,
          -122.3561981,
          -121.5954102,
          -82.4004815,
          -121.7627457,
          -121.8043868,
          -121.8013933,
          -121.7993564,
          -121.8965057,
          -121.8775058,
          -122.0925157,
          -122.0811436,
          -122.0297331,
          -122.037273,
          -122.0043476,
          -122.1366955,
          -122.2917808,
          -122.2801628,
          -122.349131,
          -122.2999132,
          -122.3049231,
          -121.7508234,
          -121.6939622,
          -121.9622134,
          -122.2788226,
          -121.9943115,
          -121.7902659,
          -121.7272371,
          -121.752342,
          -121.7885789,
          -121.8152216,
          -121.9802796,
          -122.0325264,
          -121.9804181,
          -122.1661985,
          -122.3035844,
          -122.3520816,
          -122.3520858,
          -122.3666821,
          -122.2844894,
          -121.7725036,
          -121.7284624,
          -121.6176859,
          -121.7016186,
          -121.9662112,
          -122.1102862,
          -122.25424,
          -122.3003615,
          -122.3265923,
          -121.7316601,
          -121.7570132,
          -121.6105755,
          -121.6043871,
          -121.6915372,
          -121.7922882,
          -121.7145708,
          -121.8716479,
          -122.0041197,
          -122.0716695,
          -121.771285,
          -122.0264493,
          -122.0545301,
          -121.9229957,
          -121.9594488,
          -122.2004665,
          -122.3736572,
          -122.3358557,
          -122.3504976,
          -122.3130823,
          -122.3112992,
          -122.3842432,
          -122.3420114,
          -121.7163035,
          -121.7555214,
          -121.6210559,
          -121.6943777,
          -121.6930558,
          -121.7007261,
          -121.8323031,
          -121.9064437,
          -122.3643426,
          -122.3054009,
          -121.7216594,
          -121.7663066,
          -121.789283,
          -121.7958176,
          -121.8006823,
          -121.8273765,
          -122.0599719,
          -122.0521893,
          -122.0832723,
          -122.0599719,
          -121.965692,
          -122.1276776,
          -122.1413708,
          -122.3513302,
          -122.2841306,
          -121.695546,
          -121.7139392,
          -121.8043913,
          -121.8182504,
          -121.7917498,
          -122.3543708,
          -122.2750997,
          -121.6873331,
          -121.7192647,
          -122.2786439,
          -121.7508234,
          -121.9263239,
          -122.3021341,
          -121.7007261,
          -121.7139392,
          -121.8759749,
          -122.0165355,
          -122.0311849,
          -122.239536,
          -122.2954543,
          -122.3476322,
          -122.3813985,
          -121.9648171,
          -121.6946142,
          -122.0764405,
          -121.7114688,
          -121.9346576
         ],
         "marker": {
          "color": "#EF553B"
         },
         "mode": "markers",
         "name": "Contra Costa",
         "showlegend": true,
         "subplot": "mapbox",
         "type": "scattermapbox"
        },
        {
         "hovertemplate": "County=f<br>Latitude=%{lat}<br>Longitude=%{lon}<extra></extra>",
         "lat": [
          37.9226328
         ],
         "legendgroup": "f",
         "lon": [
          -122.4992802
         ],
         "marker": {
          "color": "#00cc96"
         },
         "mode": "markers",
         "name": "f",
         "showlegend": true,
         "subplot": "mapbox",
         "type": "scattermapbox"
        },
        {
         "hovertemplate": "County=Marin<br>Latitude=%{lat}<br>Longitude=%{lon}<extra></extra>",
         "lat": [
          37.9128256,
          38.0713645,
          38.07984,
          37.9714085,
          37.9644432,
          37.9168687,
          38.0746398,
          38.019446,
          37.9841726,
          37.8730004,
          37.8742659,
          37.9949562,
          38.1192579,
          38.1059389,
          37.9866437,
          37.9735598,
          37.918225,
          38.0997681,
          38.002065,
          37.937924,
          37.8730004,
          37.9988272,
          37.9751301,
          37.9733278,
          37.9865268,
          38.1043131,
          37.9122962,
          37.8922685,
          38.0069229,
          37.9850224,
          38.250807,
          37.9719018,
          37.9816984,
          38.0877895,
          38.0096631,
          37.8601475,
          38.0034037,
          37.9278315
         ],
         "legendgroup": "Marin",
         "lon": [
          -122.5187823,
          -122.5380196,
          -122.5558017,
          -122.5653279,
          -122.4964339,
          -122.5538448,
          -122.5647352,
          -122.5367283,
          -122.5936909,
          -122.4527133,
          -122.4696283,
          -122.5769357,
          -122.6042712,
          -122.5825234,
          -122.5365133,
          -122.532427,
          -122.713097,
          -122.5777496,
          -122.6035144,
          -122.520586,
          -122.4527133,
          -122.5497652,
          -122.5016276,
          -122.4965409,
          -122.5127259,
          -122.5716066,
          -122.5399077,
          -122.5200138,
          -122.562819,
          -122.5950105,
          -122.9635453,
          -122.5379295,
          -122.5216192,
          -122.5685431,
          -122.5489424,
          -122.4956126,
          -122.5483138,
          -122.5345224
         ],
         "marker": {
          "color": "#ab63fa"
         },
         "mode": "markers",
         "name": "Marin",
         "showlegend": true,
         "subplot": "mapbox",
         "type": "scattermapbox"
        },
        {
         "hovertemplate": "County=Napa<br>Latitude=%{lat}<br>Longitude=%{lon}<extra></extra>",
         "lat": [
          38.2914669,
          38.3381257,
          38.3173418,
          38.6078148,
          38.3020342,
          38.1729794,
          38.3354723,
          38.2025657,
          38.3180877,
          38.3389896,
          38.1595736,
          38.5003695,
          38.2912163,
          38.1688418,
          38.1794266,
          38.3085506,
          38.286556,
          38.3233699,
          38.3180877,
          45.9505675,
          45.9505675,
          38.313911,
          38.286556,
          45.9505675,
          38.421552,
          38.2760673,
          38.3061464
         ],
         "legendgroup": "Napa",
         "lon": [
          -122.2829929,
          -122.3199026,
          -122.312012,
          -122.2784958,
          -122.2746002,
          -122.2619215,
          -122.3123743,
          -122.2932326,
          -122.3267307,
          -122.3149724,
          -122.2417641,
          -122.4780789,
          -122.2930375,
          -122.2606002,
          -122.2669052,
          -122.2862598,
          -122.2747543,
          -122.3184457,
          -122.3267307,
          -62.7476236,
          -62.7476236,
          -122.2758336,
          -122.2747543,
          -62.7476236,
          -122.418987,
          -122.2945802,
          -122.3062376
         ],
         "marker": {
          "color": "#FFA15A"
         },
         "mode": "markers",
         "name": "Napa",
         "showlegend": true,
         "subplot": "mapbox",
         "type": "scattermapbox"
        },
        {
         "hovertemplate": "County=San Mateo<br>Latitude=%{lat}<br>Longitude=%{lon}<extra></extra>",
         "lat": [
          37.6719303,
          37.628285,
          37.631227,
          37.5194838,
          37.4598119,
          37.5096514,
          37.4648341,
          37.7037165,
          37.473661,
          37.5546943,
          37.5511079,
          37.4645362,
          37.5830558,
          37.5369183,
          37.3270736,
          37.6655221,
          37.6401748,
          37.4618034,
          37.4772698,
          37.4538784,
          37.708215,
          37.6262252,
          37.5883257,
          37.597147,
          37.5744975,
          37.4706406,
          37.5842528,
          37.4719506,
          37.7061188,
          37.6994637,
          37.5920624,
          37.6533802,
          37.5981374,
          37.6425076,
          37.53329215,
          37.4656621,
          37.4772698,
          37.6876836,
          37.6279865,
          37.486828,
          37.4703529,
          37.6946294,
          37.6457361,
          37.6357465,
          37.5294919,
          37.530924,
          37.4382833,
          37.5634899,
          37.4565377,
          37.4867667,
          37.4656621,
          37.4513324,
          37.6464717,
          37.6573755,
          37.6916095,
          37.4534496,
          37.4534496,
          37.6540441,
          37.6071431,
          37.7080402,
          37.678223,
          37.7063408,
          45.9505675,
          37.6442435,
          37.6258586,
          37.6294522,
          37.5277926,
          37.4784005,
          37.4656621,
          37.5287964,
          37.442425,
          37.6763184,
          37.6791686,
          37.645134,
          37.6599672,
          37.6287555,
          37.6219271,
          37.43722,
          37.4369106,
          37.4729689,
          37.4700038,
          37.4468755,
          37.5406812,
          37.4717564,
          37.4772698,
          37.667267,
          37.6644424,
          37.5612492,
          37.560728,
          37.6698644,
          37.5354629
         ],
         "legendgroup": "San Mateo",
         "lon": [
          -122.4810499,
          -122.4092442,
          -122.4559123,
          -122.2823267,
          -122.1943642,
          -122.2799249,
          -122.1503873,
          -122.4243757,
          -122.1389049,
          -122.292237,
          -122.2552747,
          -122.1489006,
          -122.3614222,
          -122.2976707,
          -122.3559464,
          -122.4633994,
          -122.4320398,
          -122.138141,
          -122.135444,
          -122.1834443,
          -122.452347,
          -122.441989,
          -122.4976787,
          -122.5003609,
          -122.3813177,
          -122.1417445,
          -122.3663781,
          -122.1519599,
          -122.4677624,
          -122.4698886,
          -122.4013802,
          -122.4515611,
          -122.3961787,
          -122.4399294,
          -122.2548412,
          -122.1434177,
          -122.135444,
          -122.4889016,
          -122.4153095,
          -122.2462495,
          -122.150003,
          -122.4578354,
          -122.4754542,
          -122.4535308,
          -122.2968932,
          -122.516794,
          -122.2568786,
          -122.2965416,
          -122.1885987,
          -122.2237374,
          -122.1434177,
          -122.2080403,
          -122.4604361,
          -122.4713561,
          -122.4097888,
          -122.4331591,
          -122.4331591,
          -122.4487565,
          -122.4048902,
          -122.450713,
          -122.4869135,
          -122.4132569,
          -62.7476236,
          -122.3980377,
          -122.4508665,
          -122.4403901,
          -122.2787112,
          -122.2018083,
          -122.1434177,
          -122.2457553,
          -122.241034,
          -122.4782899,
          -122.3955333,
          -122.4716614,
          -122.4084537,
          -122.4561698,
          -122.425692,
          -122.4356122,
          -122.1956344,
          -122.1526987,
          -122.2154054,
          -122.2480182,
          -122.5056099,
          -122.1533092,
          -122.135444,
          -122.4163783,
          -122.4559925,
          -122.3088034,
          -122.3711401,
          -122.4094453,
          -122.3427965
         ],
         "marker": {
          "color": "#19d3f3"
         },
         "mode": "markers",
         "name": "San Mateo",
         "showlegend": true,
         "subplot": "mapbox",
         "type": "scattermapbox"
        },
        {
         "hovertemplate": "County=Santa Clara<br>Latitude=%{lat}<br>Longitude=%{lon}<extra></extra>",
         "lat": [
          37.4479181,
          37.3638561,
          37.3192082,
          37.319962,
          37.2474383,
          37.2196828,
          37.6719303,
          37.628285,
          37.3628642,
          37.3305519,
          37.631227,
          37.5194838,
          37.5096514,
          37.4598119,
          37.4648341,
          37.7037165,
          37.473661,
          37.3270349,
          37.3073342,
          37.3748387,
          37.3122123,
          37.2274652,
          37.3098872,
          37.31151475,
          37.2692856,
          37.4645362,
          37.5546943,
          37.3739555,
          37.5511079,
          37.5369183,
          37.5830558,
          37.3270736,
          37.6655221,
          37.3242887,
          37.2190415,
          37.2904519,
          37.3950133,
          37.6401748,
          37.2722119,
          37.2471839,
          37.4618034,
          37.2489101,
          37.3534932,
          37.2511072,
          40.30655,
          37.2733393,
          37.2379468,
          37.2631089,
          37.3232608,
          37.3628642,
          37.3203865,
          37.1211683,
          37.3088944,
          37.2569346,
          37.4772698,
          37.4538784,
          37.313383,
          37.0894218,
          37.3209172,
          37.3059602,
          37.6262252,
          37.708215,
          37.5883257,
          37.597147,
          37.5744975,
          37.4706406,
          37.5842528,
          37.4719506,
          37.3884144,
          37.415734,
          37.3912795,
          37.3708115,
          37.4458944,
          37.2708369,
          37.2765365,
          37.3465469,
          37.2883499,
          37.2523074,
          37.3487551,
          37.330906,
          37.1638333,
          37.1378833,
          37.0175829,
          37.3217697,
          37.3614732,
          37.2519664,
          37.7061188,
          37.6994637,
          37.6533802,
          37.5920624,
          37.6425076,
          37.5981374,
          37.53329215,
          37.4772698,
          37.4656621,
          37.3935456,
          37.3872911,
          37.3809178,
          37.38884695,
          37.265025,
          37.324675,
          37.3446934,
          37.3534932,
          37.3173736,
          37.3178194,
          37.3928588,
          37.222893,
          37.2235799,
          37.3909042,
          37.3910928,
          37.3068419,
          37.230084,
          37.1352817,
          37.0251277,
          37.0006335,
          37.2825136,
          37.305775,
          37.2184915,
          37.2700661,
          37.2914013,
          37.1442757,
          37.6876836,
          37.6279865,
          37.486828,
          37.4703529,
          37.395614,
          37.4186025,
          37.35639085,
          37.3553263,
          37.354346,
          37.3452755,
          37.2883964,
          37.2622889,
          37.2927536,
          37.2779776,
          37.2292422,
          37.3063953,
          37.3847011,
          37.36195475,
          37.2463229,
          37.3968871,
          37.3770258,
          37.4108251,
          37.6946294,
          37.6457361,
          37.6357465,
          37.5294919,
          37.4382833,
          37.530924,
          37.5634899,
          37.4565377,
          37.4867667,
          37.4656621,
          37.4513324,
          37.6464717,
          37.6573755,
          37.6916095,
          37.4534496,
          37.4534496,
          37.4414696,
          37.4336996,
          37.4004593,
          37.4444702,
          37.3649097,
          37.3724122,
          37.3271769,
          37.3291004,
          37.3196761,
          37.2379468,
          37.3640919,
          37.3376839,
          37.3435518,
          37.25801,
          37.2398622,
          37.2513994,
          37.3352232,
          37.3281138,
          37.2309859,
          37.4107034,
          37.4024942,
          37.3736939,
          37.3652254,
          37.2755848,
          37.3847907,
          37.2643456,
          37.2604066,
          37.2292422,
          37.2280775,
          37.2817562,
          36.9932479,
          37.3183448,
          37.3281011,
          37.0136314,
          37.3614732,
          37.2812991,
          37.2623343,
          37.0914119,
          37.0052648,
          37.6540441,
          37.6071431,
          37.7080402,
          37.678223,
          37.7063408,
          37.6442435,
          37.6258586,
          37.6294522,
          37.5277926,
          37.4784005,
          37.4656621,
          37.442425,
          37.5287964,
          37.6763184,
          37.6791686,
          37.645134,
          37.6599672,
          37.6287555,
          37.6219271,
          37.43722,
          37.4369106,
          37.4729689,
          37.4700038,
          37.4468755,
          37.5406812,
          37.4717564,
          37.4772698,
          37.3985313,
          37.3653402,
          37.3922731,
          37.37096405,
          37.3863646,
          37.3323068,
          37.3121202,
          37.3969486,
          37.3231372,
          37.3470081,
          37.3557937,
          37.3488364,
          37.3043418,
          37.3017722,
          37.3591192,
          37.3662501,
          40.305994,
          37.3174619,
          37.226852,
          37.2364532,
          37.3586186,
          37.3652254,
          37.3175037,
          37.2489566,
          37.3065292,
          37.3054844,
          37.289062,
          37.3753474,
          37.2953481,
          37.3090662,
          37.0216332,
          37.2969321,
          37.304495,
          37.2412158,
          37.1022146,
          37.3686043,
          37.3108594,
          37.4292132,
          37.0042376,
          37.4251897,
          37.2840669,
          37.667267,
          37.6644424,
          37.6698644,
          37.560728,
          37.5612492,
          37.5354629,
          37.39700365,
          37.3682673,
          37.3392587,
          37.2768005,
          37.2623892,
          37.2894819,
          37.2703616,
          37.3143836,
          37.2424564,
          37.0849335,
          37.3815582,
          37.375187,
          37.2633549,
          37.2562769,
          37.2545784,
          37.0212872,
          37.3632309,
          37.010759,
          37.3511271,
          37.4479181,
          37.3470081
         ],
         "legendgroup": "Santa Clara",
         "lon": [
          -122.1731764,
          -122.048307,
          -121.9479626,
          -122.0336021,
          -121.9041455,
          -121.950506,
          -122.4810499,
          -122.4092442,
          -121.8342028,
          -121.9039717,
          -122.4559123,
          -122.2823267,
          -122.2799249,
          -122.1943642,
          -122.1503873,
          -122.4243757,
          -122.1389049,
          -121.9502027,
          -121.925742,
          -121.835388,
          -121.7977006,
          -121.7817773,
          -121.9660689,
          -121.9981923,
          -121.8017743,
          -122.1489006,
          -122.292237,
          -122.1106515,
          -122.2552747,
          -122.2976707,
          -122.3614222,
          -122.3559464,
          -122.4633994,
          -121.8380938,
          -121.8477207,
          -121.8354229,
          -121.9481552,
          -122.4320398,
          -121.9591534,
          -122.0090498,
          -122.138141,
          -121.9549055,
          -121.8419088,
          -121.7717225,
          -89.605351,
          -121.9350822,
          -121.8865862,
          -121.9367162,
          -121.789797,
          -121.8342028,
          -121.8033328,
          -121.6554694,
          -121.8935668,
          -121.8177384,
          -122.135444,
          -122.1834443,
          -122.0113018,
          -121.6088676,
          -121.9481582,
          -121.7817889,
          -122.441989,
          -122.452347,
          -122.4976787,
          -122.5003609,
          -122.3813177,
          -122.1417445,
          -122.3663781,
          -122.1519599,
          -122.0768771,
          -122.093456,
          -122.0266266,
          -122.0642641,
          -122.1656966,
          -121.9980955,
          -121.9272659,
          -121.9441994,
          -121.9109712,
          -121.844282,
          -121.8640784,
          -121.8414038,
          -121.6479067,
          -121.6109777,
          -121.5845716,
          -121.9480922,
          -121.8397371,
          -121.9058706,
          -122.4677624,
          -122.4698886,
          -122.4515611,
          -122.4013802,
          -122.4399294,
          -122.3961787,
          -122.2548412,
          -122.135444,
          -122.1434177,
          -121.9442042,
          -122.0311437,
          -122.0777143,
          -122.0050872,
          -121.8987461,
          -121.8719586,
          -121.8594704,
          -121.8419088,
          -121.8159118,
          -121.8179944,
          -122.1057163,
          -121.9160729,
          -121.9669878,
          -121.8075231,
          -121.807207,
          -121.8036004,
          -121.8680111,
          -121.6439774,
          -121.6128693,
          -121.6011394,
          -121.858344,
          -121.7734244,
          -121.8592239,
          -121.8059647,
          -121.7729432,
          -121.6418021,
          -122.4889016,
          -122.4153095,
          -122.2462495,
          -122.150003,
          -121.9652276,
          -121.871046,
          -122.0384519,
          -122.0235153,
          -121.9457396,
          -121.9477369,
          -121.997103,
          -121.9909657,
          -121.8936849,
          -121.8722387,
          -121.7670383,
          -122.0748324,
          -121.8345925,
          -121.8051119,
          -121.8135881,
          -121.8944701,
          -121.8770387,
          -121.8715737,
          -122.4578354,
          -122.4754542,
          -122.4535308,
          -122.2968932,
          -122.2568786,
          -122.516794,
          -122.2965416,
          -122.1885987,
          -122.2237374,
          -122.1434177,
          -122.2080403,
          -122.4604361,
          -122.4713561,
          -122.4097888,
          -122.4331591,
          -122.4331591,
          -122.1382942,
          -121.8775861,
          -121.9221736,
          -122.1495782,
          -122.0638172,
          -121.872051,
          -121.9097864,
          -121.9184056,
          -121.9205125,
          -121.8865862,
          -121.8795938,
          -122.0183715,
          -122.1101898,
          -121.999412,
          -121.9902371,
          -121.8625017,
          -121.8398098,
          -121.8076156,
          -121.7617713,
          -121.8613089,
          -121.8730241,
          -121.8343282,
          -121.8157683,
          -121.8215601,
          -121.8362528,
          -121.8134438,
          -121.8155026,
          -121.7670383,
          -121.7756466,
          -121.7662181,
          -121.7129001,
          -121.7633663,
          -121.903698,
          -121.5758799,
          -121.8397371,
          -121.8579826,
          -121.8262099,
          -121.5920257,
          -121.5911049,
          -122.4487565,
          -122.4048902,
          -122.450713,
          -122.4869135,
          -122.4132569,
          -122.3980377,
          -122.4508665,
          -122.4403901,
          -122.2787112,
          -122.2018083,
          -122.1434177,
          -122.241034,
          -122.2457553,
          -122.4782899,
          -122.3955333,
          -122.4716614,
          -122.4084537,
          -122.4561698,
          -122.425692,
          -122.4356122,
          -122.1956344,
          -122.1526987,
          -122.2154054,
          -122.2480182,
          -122.5056099,
          -122.1533092,
          -122.135444,
          -121.9664301,
          -122.1344257,
          -122.0125353,
          -122.0360376,
          -121.8667583,
          -121.9192829,
          -121.9415533,
          -121.966123,
          -121.9543915,
          -121.9329193,
          -121.9723099,
          -121.8885222,
          -121.9490078,
          -121.8724465,
          -121.8468672,
          -121.8347088,
          -89.609046,
          -121.7799369,
          -121.998512,
          -121.8942691,
          -121.8096356,
          -121.8157683,
          -121.7883957,
          -121.7679888,
          -121.8450388,
          -121.8306703,
          -121.8810308,
          -121.8341603,
          -121.7560074,
          -121.7737022,
          -121.5981302,
          -121.7743508,
          -121.7917662,
          -121.8667777,
          -121.6651803,
          -121.9745504,
          -121.794734,
          -121.91311,
          -121.6233185,
          -121.9699556,
          -122.0051157,
          -122.4163783,
          -122.4559925,
          -122.4094453,
          -122.3711401,
          -122.3088034,
          -122.3427965,
          -122.1329751,
          -122.1121796,
          -122.0346488,
          -121.9731748,
          -122.031049,
          -121.8216742,
          -121.765972,
          -121.8004605,
          -121.8458751,
          -121.582308,
          -122.0162874,
          -122.059038,
          -121.9928573,
          -122.0400933,
          -121.8502451,
          -121.5902149,
          -122.1640052,
          -121.482641,
          -121.9016611,
          -122.1731764,
          -121.9329193
         ],
         "marker": {
          "color": "#FF6692"
         },
         "mode": "markers",
         "name": "Santa Clara",
         "showlegend": true,
         "subplot": "mapbox",
         "type": "scattermapbox"
        },
        {
         "hovertemplate": "County=San Francisco<br>Latitude=%{lat}<br>Longitude=%{lon}<extra></extra>",
         "lat": [
          37.725581,
          37.7125198,
          37.7847403,
          37.7853941,
          37.7674323,
          37.7287461,
          37.7488595,
          37.7126228,
          37.7143841,
          37.744211,
          37.7475619,
          37.7366479,
          37.7627923,
          37.7142979,
          37.732606,
          37.7340914,
          37.732533,
          37.7840531,
          37.7616479,
          37.7701595,
          37.7643617,
          37.7596177,
          37.7226338,
          37.789877,
          37.7705332,
          37.7604405,
          37.7337761,
          37.7370238,
          37.7908518,
          37.7111983,
          37.738156,
          37.7134559,
          37.7439541,
          37.7213224,
          37.7335102,
          37.710744,
          37.7784851,
          37.7740068,
          37.7815835,
          37.7857195,
          37.771842,
          37.7270182,
          37.71994248,
          37.7652461,
          37.734732,
          37.7175645,
          37.7342543,
          37.725642,
          37.7470732,
          37.7845326,
          37.7485563,
          37.74172335,
          37.7666701,
          37.7640329,
          37.7440364,
          37.718106,
          37.734901,
          37.73087,
          37.7366479,
          37.7323059,
          37.7196341,
          37.7343858,
          37.7935273,
          37.7754605,
          37.752923,
          37.7098691,
          37.7773172,
          37.7814848,
          37.7700691,
          37.7849039,
          37.7288536,
          37.7707283,
          37.7275872,
          37.7703288,
          37.8031282,
          37.7126663,
          37.7218605,
          37.7140738,
          37.735131,
          37.743749,
          37.7129696,
          37.7218605,
          37.8016451,
          37.7608549,
          37.719788,
          37.7983271,
          37.7773172,
          37.7709118,
          37.7795806,
          37.738156,
          37.7218429,
          37.7419564,
          37.7335102,
          37.796398,
          37.7857195,
          37.7239476
         ],
         "legendgroup": "San Francisco",
         "lon": [
          -122.3861033,
          -122.4633942,
          -122.4213962,
          -122.4086959,
          -122.4184801,
          -122.4095541,
          -122.4273323,
          -122.446214,
          -122.4113282,
          -122.412275,
          -122.5007436,
          -122.4231783,
          -122.3929587,
          -122.467124,
          -122.411128,
          -122.3911082,
          -122.398675,
          -122.4503065,
          -122.4224192,
          -122.4458163,
          -122.5029967,
          -122.4492343,
          -122.3954566,
          -122.4056291,
          -122.4436809,
          -122.4159557,
          -122.457756,
          -122.4631499,
          -122.3900082,
          -122.4070341,
          -122.410879,
          -122.436472,
          -122.4226011,
          -122.4378855,
          -122.4341673,
          -122.4142894,
          -122.4254529,
          -122.4381384,
          -122.4945314,
          -122.421209,
          -122.4317409,
          -122.4760464,
          -122.3957041,
          -122.394857,
          -122.4107421,
          -122.4037808,
          -122.3929364,
          -122.384544,
          -122.387211,
          -122.4311381,
          -122.4782467,
          -122.4658569,
          -122.43335,
          -122.3937392,
          -122.4542995,
          -122.391206,
          -122.384994,
          -122.4290075,
          -122.4231783,
          -122.4534355,
          -122.4723654,
          -122.4759048,
          -122.3975149,
          -122.4638976,
          -122.4263115,
          -122.4643886,
          -122.419609,
          -122.3894557,
          -122.4327726,
          -122.4635065,
          -122.4552944,
          -122.408147,
          -122.4574003,
          -122.4177253,
          -122.4181701,
          -122.4320301,
          -122.4531202,
          -122.4560811,
          -122.384161,
          -122.410338,
          -122.4326944,
          -122.4531202,
          -122.4034935,
          -122.4489773,
          -122.3925027,
          -122.4030871,
          -122.419609,
          -122.4483853,
          -122.4570027,
          -122.410879,
          -122.4571823,
          -122.4233467,
          -122.4341673,
          -122.4184963,
          -122.421209,
          -122.4353803
         ],
         "marker": {
          "color": "#B6E880"
         },
         "mode": "markers",
         "name": "San Francisco",
         "showlegend": true,
         "subplot": "mapbox",
         "type": "scattermapbox"
        },
        {
         "hovertemplate": "County=Solano<br>Latitude=%{lat}<br>Longitude=%{lon}<extra></extra>",
         "lat": [
          38.2611312,
          38.15255,
          38.3309245,
          38.181806,
          38.147194,
          38.072591,
          38.080986,
          38.063961,
          38.3460426,
          38.260083,
          38.451428,
          38.268267,
          38.3966161,
          38.2574592,
          45.9505675,
          38.3394807,
          38.0813486,
          38.2234744,
          38.1690575,
          38.0693068,
          38.117842,
          38.2493962,
          38.2427819,
          38.0896968,
          38.084386,
          38.3478137,
          38.271186,
          45.9505675,
          38.120225,
          38.1726804,
          38.4025859,
          38.080353,
          38.4491617,
          38.242636,
          38.145144,
          38.0647375,
          38.251,
          38.161492,
          38.179672,
          38.2566224,
          38.156889,
          45.9505675,
          38.2623665,
          38.255631,
          35.1256765,
          38.2556214,
          38.263367,
          38.121642,
          38.0942156,
          38.107033,
          38.0869191,
          38.112156,
          38.0912072,
          38.10026,
          38.0737,
          38.359956,
          38.3483282,
          38.2799478,
          38.2828459,
          38.2894588,
          38.24073665,
          38.2835808,
          38.2148019,
          38.187503,
          38.156506,
          38.122817,
          38.1940331,
          38.2747059,
          38.2654946,
          38.188214,
          38.1645146,
          38.233133,
          38.3007607,
          38.124419,
          38.064882,
          38.250694,
          38.080427,
          38.122164,
          38.338282,
          38.4667862,
          38.270275,
          38.238436,
          38.147133,
          38.1117452,
          38.212393,
          38.2403405,
          38.094986,
          38.0730454,
          38.250227,
          38.2450411,
          38.3649408,
          38.2717484,
          38.124614,
          38.366528,
          38.3443345,
          38.271689,
          38.1948186,
          38.1218925,
          38.147408,
          38.2649117,
          38.339914,
          38.3413324,
          38.2938987,
          38.1800769,
          38.398494,
          38.3994314
         ],
         "legendgroup": "Solano",
         "lon": [
          -122.0311521,
          -122.232581,
          -121.9498757,
          -121.712803,
          -122.250144,
          -122.2081653,
          -122.154181,
          -122.158611,
          -121.9599829,
          -122.036228,
          -121.84615,
          -122.016458,
          -121.9682425,
          -122.0341308,
          -62.7476236,
          -121.9601857,
          -122.2274537,
          -122.1522643,
          -122.1276578,
          -122.2225204,
          -122.221575,
          -122.0124858,
          -122.0751512,
          -122.2401609,
          -122.235244,
          -121.953797,
          -121.998083,
          -62.7476236,
          -122.263,
          -122.1290942,
          -121.981728,
          -122.224811,
          -121.8212262,
          -122.0175011,
          -122.231703,
          -122.16458,
          -121.993286,
          -122.176658,
          -121.705014,
          -122.0694285,
          -122.175847,
          -62.7476236,
          -122.0116657,
          -121.9873228,
          -80.6268261,
          -122.0088977,
          -122.043464,
          -122.243069,
          -122.2086547,
          -122.254814,
          -122.2045549,
          -122.227008,
          -122.2283403,
          -122.2009918,
          -122.157658,
          -122.006869,
          -121.9401349,
          -122.0274298,
          -122.0631907,
          -122.0297131,
          -121.9997771,
          -122.0134047,
          -122.1260367,
          -121.714963,
          -121.694803,
          -122.264997,
          -122.1425368,
          -122.0183464,
          -122.0421337,
          -121.717208,
          -122.1401321,
          -122.1327185,
          -122.0275276,
          -122.247361,
          -122.160063,
          -122.023747,
          -122.235156,
          -122.263217,
          -121.9506121,
          -121.8260449,
          -122.010942,
          -121.989643,
          -122.231064,
          -122.2392422,
          -122.1284243,
          -122.1369564,
          -122.235864,
          -122.2010219,
          -122.001917,
          -122.0203342,
          -121.9865027,
          -121.9590466,
          -122.214412,
          -121.948825,
          -121.9435009,
          -122.00405,
          -122.1464957,
          -122.2491635,
          -122.234117,
          -121.9878903,
          -121.990039,
          -121.960346,
          -122.0134262,
          -121.7193754,
          -121.9471421,
          -121.9466984
         ],
         "marker": {
          "color": "#FF97FF"
         },
         "mode": "markers",
         "name": "Solano",
         "showlegend": true,
         "subplot": "mapbox",
         "type": "scattermapbox"
        },
        {
         "hovertemplate": "County=Sonoma<br>Latitude=%{lat}<br>Longitude=%{lon}<extra></extra>",
         "lat": [
          38.2448278,
          38.2512837,
          38.5517797,
          38.4349106,
          38.478231,
          38.42742515,
          38.4134573,
          38.3272367,
          38.4531435,
          38.4660462,
          38.4487562,
          38.4054808,
          38.3447371,
          38.2975425,
          38.6094686,
          38.4458117,
          38.4464738,
          38.6111907,
          38.3556036,
          38.4845765,
          38.3676974,
          38.424888,
          38.3474827,
          38.4231889,
          38.5368622,
          38.2445651,
          38.4078304,
          38.4747147,
          38.5538729,
          38.4410548,
          38.5490962,
          38.4092271,
          38.507562,
          38.4364246,
          38.6180093,
          38.4302471,
          38.4376171,
          38.4564623,
          38.4612647,
          38.4199792,
          38.5306914,
          38.4747957,
          38.4513618,
          38.2248266,
          38.3943345,
          38.4737982,
          38.4531611,
          38.4383738,
          38.3223577,
          38.4919794,
          38.4422289,
          38.4659516,
          38.2258085,
          38.4142427,
          38.5538729,
          38.4564623,
          38.2360894,
          38.4493919,
          38.2975425,
          44.64402,
          38.5092402,
          38.4350693,
          38.4684999,
          38.2794709,
          38.7833441,
          38.4260549,
          38.46421,
          38.4507968,
          38.4410844,
          38.5406929,
          38.5465199,
          38.4639294,
          38.244957,
          38.44477,
          38.2924533,
          38.403412,
          38.3345021,
          38.8111517,
          38.297278,
          38.4399012,
          38.4409634,
          38.2539835,
          38.24272845,
          38.4591863,
          38.470069,
          38.4611119,
          38.5351538,
          38.2265021,
          38.4466566,
          38.465811,
          38.2658672,
          38.4860696,
          38.4777855,
          38.4725135,
          38.5127803,
          38.412182,
          38.2874657,
          38.281236,
          38.3867484,
          38.556397,
          38.5473212,
          38.7805741
         ],
         "legendgroup": "Sonoma",
         "lon": [
          -122.5908653,
          -122.6133849,
          -122.8227282,
          -122.7094626,
          -122.704651,
          -122.5795733,
          -122.7443867,
          -122.6977759,
          -122.7308349,
          -122.6807617,
          -122.7277173,
          -122.7262165,
          -122.6929398,
          -122.7096841,
          -122.8548614,
          -122.75353,
          -122.6162151,
          -122.8742667,
          -122.7025624,
          -122.7606035,
          -122.6839051,
          -122.7318348,
          -122.7058782,
          -122.762222,
          -122.8058028,
          -122.6100526,
          -122.7134758,
          -122.7587773,
          -122.8301346,
          -122.7187544,
          -122.820754,
          -122.7472433,
          -122.98449,
          -122.5869082,
          -122.8657511,
          -122.5892075,
          -122.7574111,
          -122.7391129,
          -122.7457503,
          -122.7661061,
          -122.7849083,
          -122.7440927,
          -122.7494205,
          -122.6612966,
          -122.8271095,
          -122.7506803,
          -122.7093718,
          -122.5864975,
          -122.7099535,
          -122.7065086,
          -122.7398967,
          -122.6338844,
          -122.6578098,
          -122.7293005,
          -122.8301346,
          -122.7391129,
          -122.6570315,
          -122.728887,
          -122.7096841,
          -72.916213,
          -122.6528874,
          -122.5964433,
          -122.7608331,
          -122.4638767,
          -123.0183213,
          -122.6668354,
          -122.7154196,
          -122.7439698,
          -122.7144795,
          -122.8205494,
          -122.8124967,
          -122.7366512,
          -122.640532,
          -122.758705,
          -122.6842034,
          -122.961881,
          -123.0471526,
          -123.0191761,
          -122.50301,
          -122.686224,
          -122.6862068,
          -122.6111735,
          -122.593792,
          -122.7640645,
          -122.703862,
          -122.6900335,
          -122.8096424,
          -122.6610333,
          -122.7543612,
          -122.683827,
          -122.6519448,
          -122.6998594,
          -122.7584176,
          -122.7366649,
          -122.9988093,
          -122.7369683,
          -122.4689353,
          -122.6804003,
          -122.8203225,
          -122.8232501,
          -122.8280792,
          -123.0167964
         ],
         "marker": {
          "color": "#FECB52"
         },
         "mode": "markers",
         "name": "Sonoma",
         "showlegend": true,
         "subplot": "mapbox",
         "type": "scattermapbox"
        }
       ],
       "layout": {
        "autosize": true,
        "legend": {
         "title": {
          "text": "County"
         },
         "tracegroupgap": 0
        },
        "mapbox": {
         "accesstoken": "pk.eyJ1IjoiYnJpYW5oYWJhbmEiLCJhIjoiY2tvZzZhaDEzMGFlNjJ3bGxmOTVyYmlmcCJ9.CpzgJ8Mq1rTxB6uUpXzDsQ",
         "bearing": 0,
         "center": {
          "lat": 37.952195965050706,
          "lon": -120.90117080124833
         },
         "domain": {
          "x": [
           0,
           1
          ],
          "y": [
           0,
           1
          ]
         },
         "pitch": 0,
         "zoom": 6.429015613183367
        },
        "template": {
         "data": {
          "bar": [
           {
            "error_x": {
             "color": "#2a3f5f"
            },
            "error_y": {
             "color": "#2a3f5f"
            },
            "marker": {
             "line": {
              "color": "#E5ECF6",
              "width": 0.5
             }
            },
            "type": "bar"
           }
          ],
          "barpolar": [
           {
            "marker": {
             "line": {
              "color": "#E5ECF6",
              "width": 0.5
             }
            },
            "type": "barpolar"
           }
          ],
          "carpet": [
           {
            "aaxis": {
             "endlinecolor": "#2a3f5f",
             "gridcolor": "white",
             "linecolor": "white",
             "minorgridcolor": "white",
             "startlinecolor": "#2a3f5f"
            },
            "baxis": {
             "endlinecolor": "#2a3f5f",
             "gridcolor": "white",
             "linecolor": "white",
             "minorgridcolor": "white",
             "startlinecolor": "#2a3f5f"
            },
            "type": "carpet"
           }
          ],
          "choropleth": [
           {
            "colorbar": {
             "outlinewidth": 0,
             "ticks": ""
            },
            "type": "choropleth"
           }
          ],
          "contour": [
           {
            "colorbar": {
             "outlinewidth": 0,
             "ticks": ""
            },
            "colorscale": [
             [
              0,
              "#0d0887"
             ],
             [
              0.1111111111111111,
              "#46039f"
             ],
             [
              0.2222222222222222,
              "#7201a8"
             ],
             [
              0.3333333333333333,
              "#9c179e"
             ],
             [
              0.4444444444444444,
              "#bd3786"
             ],
             [
              0.5555555555555556,
              "#d8576b"
             ],
             [
              0.6666666666666666,
              "#ed7953"
             ],
             [
              0.7777777777777778,
              "#fb9f3a"
             ],
             [
              0.8888888888888888,
              "#fdca26"
             ],
             [
              1,
              "#f0f921"
             ]
            ],
            "type": "contour"
           }
          ],
          "contourcarpet": [
           {
            "colorbar": {
             "outlinewidth": 0,
             "ticks": ""
            },
            "type": "contourcarpet"
           }
          ],
          "heatmap": [
           {
            "colorbar": {
             "outlinewidth": 0,
             "ticks": ""
            },
            "colorscale": [
             [
              0,
              "#0d0887"
             ],
             [
              0.1111111111111111,
              "#46039f"
             ],
             [
              0.2222222222222222,
              "#7201a8"
             ],
             [
              0.3333333333333333,
              "#9c179e"
             ],
             [
              0.4444444444444444,
              "#bd3786"
             ],
             [
              0.5555555555555556,
              "#d8576b"
             ],
             [
              0.6666666666666666,
              "#ed7953"
             ],
             [
              0.7777777777777778,
              "#fb9f3a"
             ],
             [
              0.8888888888888888,
              "#fdca26"
             ],
             [
              1,
              "#f0f921"
             ]
            ],
            "type": "heatmap"
           }
          ],
          "heatmapgl": [
           {
            "colorbar": {
             "outlinewidth": 0,
             "ticks": ""
            },
            "colorscale": [
             [
              0,
              "#0d0887"
             ],
             [
              0.1111111111111111,
              "#46039f"
             ],
             [
              0.2222222222222222,
              "#7201a8"
             ],
             [
              0.3333333333333333,
              "#9c179e"
             ],
             [
              0.4444444444444444,
              "#bd3786"
             ],
             [
              0.5555555555555556,
              "#d8576b"
             ],
             [
              0.6666666666666666,
              "#ed7953"
             ],
             [
              0.7777777777777778,
              "#fb9f3a"
             ],
             [
              0.8888888888888888,
              "#fdca26"
             ],
             [
              1,
              "#f0f921"
             ]
            ],
            "type": "heatmapgl"
           }
          ],
          "histogram": [
           {
            "marker": {
             "colorbar": {
              "outlinewidth": 0,
              "ticks": ""
             }
            },
            "type": "histogram"
           }
          ],
          "histogram2d": [
           {
            "colorbar": {
             "outlinewidth": 0,
             "ticks": ""
            },
            "colorscale": [
             [
              0,
              "#0d0887"
             ],
             [
              0.1111111111111111,
              "#46039f"
             ],
             [
              0.2222222222222222,
              "#7201a8"
             ],
             [
              0.3333333333333333,
              "#9c179e"
             ],
             [
              0.4444444444444444,
              "#bd3786"
             ],
             [
              0.5555555555555556,
              "#d8576b"
             ],
             [
              0.6666666666666666,
              "#ed7953"
             ],
             [
              0.7777777777777778,
              "#fb9f3a"
             ],
             [
              0.8888888888888888,
              "#fdca26"
             ],
             [
              1,
              "#f0f921"
             ]
            ],
            "type": "histogram2d"
           }
          ],
          "histogram2dcontour": [
           {
            "colorbar": {
             "outlinewidth": 0,
             "ticks": ""
            },
            "colorscale": [
             [
              0,
              "#0d0887"
             ],
             [
              0.1111111111111111,
              "#46039f"
             ],
             [
              0.2222222222222222,
              "#7201a8"
             ],
             [
              0.3333333333333333,
              "#9c179e"
             ],
             [
              0.4444444444444444,
              "#bd3786"
             ],
             [
              0.5555555555555556,
              "#d8576b"
             ],
             [
              0.6666666666666666,
              "#ed7953"
             ],
             [
              0.7777777777777778,
              "#fb9f3a"
             ],
             [
              0.8888888888888888,
              "#fdca26"
             ],
             [
              1,
              "#f0f921"
             ]
            ],
            "type": "histogram2dcontour"
           }
          ],
          "mesh3d": [
           {
            "colorbar": {
             "outlinewidth": 0,
             "ticks": ""
            },
            "type": "mesh3d"
           }
          ],
          "parcoords": [
           {
            "line": {
             "colorbar": {
              "outlinewidth": 0,
              "ticks": ""
             }
            },
            "type": "parcoords"
           }
          ],
          "pie": [
           {
            "automargin": true,
            "type": "pie"
           }
          ],
          "scatter": [
           {
            "marker": {
             "colorbar": {
              "outlinewidth": 0,
              "ticks": ""
             }
            },
            "type": "scatter"
           }
          ],
          "scatter3d": [
           {
            "line": {
             "colorbar": {
              "outlinewidth": 0,
              "ticks": ""
             }
            },
            "marker": {
             "colorbar": {
              "outlinewidth": 0,
              "ticks": ""
             }
            },
            "type": "scatter3d"
           }
          ],
          "scattercarpet": [
           {
            "marker": {
             "colorbar": {
              "outlinewidth": 0,
              "ticks": ""
             }
            },
            "type": "scattercarpet"
           }
          ],
          "scattergeo": [
           {
            "marker": {
             "colorbar": {
              "outlinewidth": 0,
              "ticks": ""
             }
            },
            "type": "scattergeo"
           }
          ],
          "scattergl": [
           {
            "marker": {
             "colorbar": {
              "outlinewidth": 0,
              "ticks": ""
             }
            },
            "type": "scattergl"
           }
          ],
          "scattermapbox": [
           {
            "marker": {
             "colorbar": {
              "outlinewidth": 0,
              "ticks": ""
             }
            },
            "type": "scattermapbox"
           }
          ],
          "scatterpolar": [
           {
            "marker": {
             "colorbar": {
              "outlinewidth": 0,
              "ticks": ""
             }
            },
            "type": "scatterpolar"
           }
          ],
          "scatterpolargl": [
           {
            "marker": {
             "colorbar": {
              "outlinewidth": 0,
              "ticks": ""
             }
            },
            "type": "scatterpolargl"
           }
          ],
          "scatterternary": [
           {
            "marker": {
             "colorbar": {
              "outlinewidth": 0,
              "ticks": ""
             }
            },
            "type": "scatterternary"
           }
          ],
          "surface": [
           {
            "colorbar": {
             "outlinewidth": 0,
             "ticks": ""
            },
            "colorscale": [
             [
              0,
              "#0d0887"
             ],
             [
              0.1111111111111111,
              "#46039f"
             ],
             [
              0.2222222222222222,
              "#7201a8"
             ],
             [
              0.3333333333333333,
              "#9c179e"
             ],
             [
              0.4444444444444444,
              "#bd3786"
             ],
             [
              0.5555555555555556,
              "#d8576b"
             ],
             [
              0.6666666666666666,
              "#ed7953"
             ],
             [
              0.7777777777777778,
              "#fb9f3a"
             ],
             [
              0.8888888888888888,
              "#fdca26"
             ],
             [
              1,
              "#f0f921"
             ]
            ],
            "type": "surface"
           }
          ],
          "table": [
           {
            "cells": {
             "fill": {
              "color": "#EBF0F8"
             },
             "line": {
              "color": "white"
             }
            },
            "header": {
             "fill": {
              "color": "#C8D4E3"
             },
             "line": {
              "color": "white"
             }
            },
            "type": "table"
           }
          ]
         },
         "layout": {
          "annotationdefaults": {
           "arrowcolor": "#2a3f5f",
           "arrowhead": 0,
           "arrowwidth": 1
          },
          "coloraxis": {
           "colorbar": {
            "outlinewidth": 0,
            "ticks": ""
           }
          },
          "colorscale": {
           "diverging": [
            [
             0,
             "#8e0152"
            ],
            [
             0.1,
             "#c51b7d"
            ],
            [
             0.2,
             "#de77ae"
            ],
            [
             0.3,
             "#f1b6da"
            ],
            [
             0.4,
             "#fde0ef"
            ],
            [
             0.5,
             "#f7f7f7"
            ],
            [
             0.6,
             "#e6f5d0"
            ],
            [
             0.7,
             "#b8e186"
            ],
            [
             0.8,
             "#7fbc41"
            ],
            [
             0.9,
             "#4d9221"
            ],
            [
             1,
             "#276419"
            ]
           ],
           "sequential": [
            [
             0,
             "#0d0887"
            ],
            [
             0.1111111111111111,
             "#46039f"
            ],
            [
             0.2222222222222222,
             "#7201a8"
            ],
            [
             0.3333333333333333,
             "#9c179e"
            ],
            [
             0.4444444444444444,
             "#bd3786"
            ],
            [
             0.5555555555555556,
             "#d8576b"
            ],
            [
             0.6666666666666666,
             "#ed7953"
            ],
            [
             0.7777777777777778,
             "#fb9f3a"
            ],
            [
             0.8888888888888888,
             "#fdca26"
            ],
            [
             1,
             "#f0f921"
            ]
           ],
           "sequentialminus": [
            [
             0,
             "#0d0887"
            ],
            [
             0.1111111111111111,
             "#46039f"
            ],
            [
             0.2222222222222222,
             "#7201a8"
            ],
            [
             0.3333333333333333,
             "#9c179e"
            ],
            [
             0.4444444444444444,
             "#bd3786"
            ],
            [
             0.5555555555555556,
             "#d8576b"
            ],
            [
             0.6666666666666666,
             "#ed7953"
            ],
            [
             0.7777777777777778,
             "#fb9f3a"
            ],
            [
             0.8888888888888888,
             "#fdca26"
            ],
            [
             1,
             "#f0f921"
            ]
           ]
          },
          "colorway": [
           "#636efa",
           "#EF553B",
           "#00cc96",
           "#ab63fa",
           "#FFA15A",
           "#19d3f3",
           "#FF6692",
           "#B6E880",
           "#FF97FF",
           "#FECB52"
          ],
          "font": {
           "color": "#2a3f5f"
          },
          "geo": {
           "bgcolor": "white",
           "lakecolor": "white",
           "landcolor": "#E5ECF6",
           "showlakes": true,
           "showland": true,
           "subunitcolor": "white"
          },
          "hoverlabel": {
           "align": "left"
          },
          "hovermode": "closest",
          "mapbox": {
           "style": "light"
          },
          "paper_bgcolor": "white",
          "plot_bgcolor": "#E5ECF6",
          "polar": {
           "angularaxis": {
            "gridcolor": "white",
            "linecolor": "white",
            "ticks": ""
           },
           "bgcolor": "#E5ECF6",
           "radialaxis": {
            "gridcolor": "white",
            "linecolor": "white",
            "ticks": ""
           }
          },
          "scene": {
           "xaxis": {
            "backgroundcolor": "#E5ECF6",
            "gridcolor": "white",
            "gridwidth": 2,
            "linecolor": "white",
            "showbackground": true,
            "ticks": "",
            "zerolinecolor": "white"
           },
           "yaxis": {
            "backgroundcolor": "#E5ECF6",
            "gridcolor": "white",
            "gridwidth": 2,
            "linecolor": "white",
            "showbackground": true,
            "ticks": "",
            "zerolinecolor": "white"
           },
           "zaxis": {
            "backgroundcolor": "#E5ECF6",
            "gridcolor": "white",
            "gridwidth": 2,
            "linecolor": "white",
            "showbackground": true,
            "ticks": "",
            "zerolinecolor": "white"
           }
          },
          "shapedefaults": {
           "line": {
            "color": "#2a3f5f"
           }
          },
          "ternary": {
           "aaxis": {
            "gridcolor": "white",
            "linecolor": "white",
            "ticks": ""
           },
           "baxis": {
            "gridcolor": "white",
            "linecolor": "white",
            "ticks": ""
           },
           "bgcolor": "#E5ECF6",
           "caxis": {
            "gridcolor": "white",
            "linecolor": "white",
            "ticks": ""
           }
          },
          "title": {
           "x": 0.05
          },
          "xaxis": {
           "automargin": true,
           "gridcolor": "white",
           "linecolor": "white",
           "ticks": "",
           "title": {
            "standoff": 15
           },
           "zerolinecolor": "white",
           "zerolinewidth": 2
          },
          "yaxis": {
           "automargin": true,
           "gridcolor": "white",
           "linecolor": "white",
           "ticks": "",
           "title": {
            "standoff": 15
           },
           "zerolinecolor": "white",
           "zerolinewidth": 2
          }
         }
        },
        "title": {
         "text": "Foreclosures scatter plot"
        }
       }
      },
      "image/png": "[encoded data removed]",
      "text/html": [
       "<div>                            <div id=\"1191203b-5e25-47c8-8bff-841234c0b9f4\" class=\"plotly-graph-div\" style=\"height:525px; width:100%;\"></div>            <script type=\"text/javascript\">                require([\"plotly\"], function(Plotly) {                    window.PLOTLYENV=window.PLOTLYENV || {};                                    if (document.getElementById(\"1191203b-5e25-47c8-8bff-841234c0b9f4\")) {                    Plotly.newPlot(                        \"1191203b-5e25-47c8-8bff-841234c0b9f4\",                        [{\"hovertemplate\": \"County=Alameda<br>Latitude=%{lat}<br>Longitude=%{lon}<extra></extra>\", \"lat\": [37.7471529, 37.8429686, 37.7679535, 37.7735287, 37.7710906, 37.7475942, 37.7376346, 37.7550041, 37.781885, 37.8505918, 37.8568993, 37.8920331, 37.7725177, 37.7413888, 37.7246633, 37.7011386, 37.5409294, 37.5185415, 37.660519, 37.5876544, 37.7680729, 37.7445054, 37.724355, 37.584681, 37.5561111, 37.6999207, 37.6841122, 37.8025433, 37.7113397, 37.5249699, 37.521693, 37.7439982, 37.7921439, 37.7222721, 37.7235325, 37.6299665, 37.7103414, 37.81729075, 37.7659463, 37.7488172, 37.7934663, 37.8054198, 37.7286345, 37.872389, 37.7339014, 37.684968, 37.5978174, 37.7360313, 37.7782157, 37.762096, 37.883711, 37.797503, 37.7500504, 37.6744371, 37.6905794, 37.5384355, 37.5624046, 37.645606, 37.7700153, 37.7439982, 37.7431905, 37.8284106, 37.7943972, 37.8059792, 37.7699722, 37.7784426, 37.7465779, 37.6719633, 37.6761183, 37.6712509, 37.6399931, 37.7929217, 37.606108, 37.7511904, 37.7764698, 37.7782157, 37.7593512, 37.6939711, 37.6674645, 37.6606719, 37.7164983, 37.7550041, 37.6507967, 37.8502878, 31.5956785, 37.6641178, 37.7607104, 37.8381792, 37.7056119, 37.505246, 37.4569196, 37.8000321, 37.6899653, 37.6918008, 37.6700588, 37.6319518, 37.6273545, 37.7787131, 37.8490759, 37.7979395, 37.7942343, 37.7439982, 37.5178259, 37.6737048, 37.8281259, 37.8104121, 37.6725809, 37.8409682, 43.0667033, 37.8046584, 37.7730318, 37.7819671, 37.7660145, 37.7787131, 37.7475942, 37.8060642, 37.7394275, 37.8000145, 37.7517602, 37.8690688, 37.7884998, 37.6980985, 37.6207763, 37.7018449, 37.8217733, 37.6773466, 37.602872, 37.642806, 37.6272674, 37.55297, 37.5838972, 37.560802, 37.5785339, 37.5773087, 37.574731, 37.5834344, 37.8026876, 37.8054953, 37.7787131, 37.725036, 37.7765432, 37.5919492, 37.6814131, 37.860273, 37.6399931, 37.6945673, 37.64845425, 37.8366423, 37.77848, 37.849179, 37.8124399, 37.8794656, 37.8425359, 37.8002554, 37.8321829, 37.7770871, 37.7787435, 37.7731102, 37.7902863, 37.7612752, 37.7467482, 37.8610912, 37.7134822, 37.7052887, 37.6247522, 37.6294389, 37.6274915, 37.5902421, 37.5605619, 37.6898732, 37.7426691, 37.7929421, 37.7997147, 37.868208, 37.8371158, 37.6754665, 37.6327985, 37.5296915, 37.6520837, 37.6371528, 37.6938334, 37.726183, 37.8034788, 37.7505281, 37.8292989, 37.8389917, 37.7496293, 37.7676036, 37.7504067, 37.7310548, 37.6648921, 37.6269896, 37.6464211, 37.521693, 37.5851299, 37.5624722, 37.706021, 37.7179342, 37.7939968, 37.6503106, 37.82609875, 37.6831623, 37.620009, 37.6944486, 37.4893959, 37.7214005, 37.4712364, 37.6493405, 37.5237944, 37.5168193, 37.83441785], \"legendgroup\": \"Alameda\", \"lon\": [-122.1303771, -122.2575852, -122.2006489, -122.1738383, -122.1616004, -122.1774951, -122.1833569, -122.1616274, -122.1419927, -122.2808136, -122.2541754, -122.2985272, -122.2621463, -122.2439694, -122.146135, -122.0636672, -122.0319246, -121.992313, -122.0852481, -122.0798363, -122.1353678, -122.127436, -122.113913, -122.070605, -121.9673195, -122.1346176, -122.0592842, -122.2886371, -121.750235, -121.9192601, -121.9353026, -122.1534944, -122.2180187, -122.0864338, -121.9313001, -122.0695371, -121.862109, -122.2554874, -122.1943617, -122.136602, -122.2118012, -122.2819181, -122.1752643, -122.2668858, -122.16707, -122.0674552, -122.0255016, -122.2506339, -122.1957057, -122.1844618, -122.28913, -122.1769446, -122.1281838, -121.7670133, -121.7861294, -121.9557933, -122.0592829, -121.9034429, -122.2163687, -122.1534944, -122.1766193, -122.201626, -122.2557562, -122.2982572, -122.1819408, -122.1759149, -122.1586141, -122.0790561, -122.0933043, -122.0970931, -122.0913073, -122.1631864, -122.0927192, -122.1183357, -122.218662, -122.1957057, -122.1831629, -122.0691326, -121.8465838, -121.8412383, -121.8589773, -122.1616274, -121.8993241, -122.2737457, -84.1302491, -121.7748442, -122.1450633, -122.2841351, -122.1297125, -121.937908, -121.9263624, -122.2850379, -122.1531281, -122.1573441, -122.1420777, -122.0686621, -122.0803495, -122.1905906, -122.2544491, -122.2299042, -122.1797619, -122.1534944, -121.9302113, -121.7286858, -122.2583609, -122.1957132, -121.7638417, -122.2617488, -89.4126785, -122.278613, -122.1751085, -122.199831, -122.1677704, -122.1905906, -122.1774951, -122.1832659, -122.1854643, -122.1754136, -122.1672504, -122.2441513, -122.2777184, -122.1462461, -122.0366517, -122.1231998, -122.2805509, -122.1426126, -122.0291027, -122.0749744, -122.0841952, -122.0154346, -122.0664385, -121.9881722, -122.0417246, -122.0502465, -122.0555021, -122.0329924, -122.2830008, -122.2811826, -122.1905906, -122.127809, -122.206227, -122.0758694, -121.7834312, -122.2890618, -122.0913073, -121.8899533, -121.8881299, -122.2577131, -122.1647808, -122.2512465, -122.203971, -122.2610676, -122.2723462, -122.273932, -122.2678275, -122.1681382, -122.1935532, -122.2285135, -122.1870222, -122.1776032, -122.1707528, -122.2326024, -122.1652839, -122.0859249, -122.0846538, -122.0838036, -122.0798372, -122.0790623, -122.0235793, -121.8794938, -122.1547797, -122.2684086, -122.1721782, -122.2631767, -122.2937355, -122.1294864, -122.0606508, -122.0454023, -122.0961425, -122.1029695, -121.8910371, -121.8585269, -122.2614331, -122.1809333, -122.2703365, -122.2564214, -122.174321, -122.1746577, -122.2361259, -122.1785022, -122.1409791, -122.0973881, -122.1095388, -121.9353026, -122.0244117, -122.0543933, -121.8055143, -121.9336713, -122.2169712, -122.040423, -122.239126, -122.063828, -122.072131, -122.1601318, -121.9301814, -121.7289474, -121.9345716, -122.1170659, -122.0508382, -121.9429273, -122.2626505], \"marker\": {\"color\": \"#636efa\"}, \"mode\": \"markers\", \"name\": \"Alameda\", \"showlegend\": true, \"subplot\": \"mapbox\", \"type\": \"scattermapbox\"}, {\"hovertemplate\": \"County=Contra Costa<br>Latitude=%{lat}<br>Longitude=%{lon}<extra></extra>\", \"lat\": [37.9115372, 37.8941793, 37.9211022, 37.9319225, 37.9849606, 38.0064618, 37.9884182, 37.9662848, 38.0155113, 37.9710522, 37.9854335, 38.030308, 37.9877875, 37.9481281, 37.9713373, 37.9026535, 37.8678091, 37.8631465, 37.8575414, 37.8664553, 37.9862513, 37.9828087, 37.9481279, 37.9318513, 37.9384266, 37.9569654, 37.9242335, 37.9842454, 37.9457602, 37.9263451, 37.990165, 37.7383641, 37.977287, 38.0064473, 37.9784546, 37.9561008, 38.0035548, 37.9872206, 37.9403478, 37.9540479, 37.9252423, 37.7996597, 38.004092, 37.9403507, 37.9985846, 37.8193372, 37.7485725, 37.9115022, 37.956835, 38.0038645, 38.011747, 37.9649742, 37.930743, 37.9708684, 37.9941324, 37.9397818, 37.9251369, 37.9012287, 37.82298, 37.883649, 37.994725, 37.9173895, 37.94792515, 37.9752209, 38.0163303, 37.9025696, 37.9534062, 37.9338225, 37.9368472, 37.8916303, 36.3816584, 37.9999581, 38.0041356, 38.0117107, 38.008521, 38.0226543, 37.9941582, 37.9713373, 37.9934193, 37.8403326, 37.860925, 37.8295551, 37.8441975, 38.0130883, 38.0089369, 37.9724316, 37.9321043, 37.900754, 38.005638, 37.9234792, 38.0108003, 38.0148573, 37.9780768, 37.9790453, 37.9911156, 37.9643, 37.9998475, 37.9985846, 37.9487967, 37.9459381, 37.7705208, 37.8507545, 38.0077688, 37.9488405, 37.9481279, 37.9368373, 37.9003111, 37.9731573, 37.9886756, 37.9078419, 37.944649, 37.793132, 37.8935196, 38.0268239, 37.9821884, 37.9485162, 37.9533763, 37.9576294, 37.8944977, 37.9035869, 37.9639051, 37.965647, 37.9246038, 38.0017128, 37.9792525, 37.9390005, 37.9820628, 37.9874291, 37.9026535, 37.7962659, 37.8167385, 37.8884659, 37.9540487, 37.95643445, 37.9593848, 37.9382934, 37.904994, 37.9249851, 37.9302077, 37.9814941, 37.9598862, 37.9217757, 37.9925531, 37.9916723, 37.9798209, 37.9842124, 37.9995713, 37.9431987, 37.9067285, 37.9994842, 37.9658834, 38.0034162, 37.9919393, 38.0008272, 37.9793355, 37.9122472, 37.8994311, 37.892852, 37.9122472, 37.8010041, 38.0156263, 37.9879861, 37.9534062, 37.9737637, 37.939933, 37.9878881, 37.9861868, 38.0036463, 37.9590729, 37.9366001, 38.0291784, 37.9751693, 37.9655811, 38.0163303, 38.005638, 37.785965, 38.0069188, 37.9798209, 37.9878881, 37.9984263, 37.9632102, 37.9446982, 37.9978467, 38.0096153, 37.9154915, 37.9096865, 38.0127072, 37.9384007, 37.9863778, 37.9326444, 37.7274171], \"legendgroup\": \"Contra Costa\", \"lon\": [-121.5956466, -121.5975778, -121.6211056, -121.7494748, -121.7147764, -121.7299033, -121.7431661, -121.7584299, -121.8222076, -121.8016163, -121.8352246, -121.8883917, -122.0643878, -121.9749269, -122.0925157, -122.0545301, -122.0514536, -122.1302472, -122.1288445, -122.1531374, -122.2716118, -122.3108961, -122.3520858, -121.9288734, -122.3704583, -122.0394116, -122.0210642, -122.0714054, -122.0705487, -122.061011, -121.6364599, -121.9245684, -122.1006937, -121.9498785, -122.037776, -121.7638743, -121.8909881, -122.0801198, -122.3657834, -122.366945, -122.3466854, -121.9040015, -122.2997531, -122.3653107, -121.8152216, -121.9954181, -121.9388437, -122.3430393, -121.8000284, -121.7981106, -121.8959305, -121.992544, -122.0116262, -122.0986678, -121.7771758, -122.0360539, -122.1061224, -122.0806348, -121.989865, -122.1919977, -122.2878825, -122.2909882, -122.322647, -121.7685039, -122.2786439, -121.5896818, -122.3513302, -122.3486226, -122.3561981, -121.5954102, -82.4004815, -121.7627457, -121.8043868, -121.8013933, -121.7993564, -121.8965057, -121.8775058, -122.0925157, -122.0811436, -122.0297331, -122.037273, -122.0043476, -122.1366955, -122.2917808, -122.2801628, -122.349131, -122.2999132, -122.3049231, -121.7508234, -121.6939622, -121.9622134, -122.2788226, -121.9943115, -121.7902659, -121.7272371, -121.752342, -121.7885789, -121.8152216, -121.9802796, -122.0325264, -121.9804181, -122.1661985, -122.3035844, -122.3520816, -122.3520858, -122.3666821, -122.2844894, -121.7725036, -121.7284624, -121.6176859, -121.7016186, -121.9662112, -122.1102862, -122.25424, -122.3003615, -122.3265923, -121.7316601, -121.7570132, -121.6105755, -121.6043871, -121.6915372, -121.7922882, -121.7145708, -121.8716479, -122.0041197, -122.0716695, -121.771285, -122.0264493, -122.0545301, -121.9229957, -121.9594488, -122.2004665, -122.3736572, -122.3358557, -122.3504976, -122.3130823, -122.3112992, -122.3842432, -122.3420114, -121.7163035, -121.7555214, -121.6210559, -121.6943777, -121.6930558, -121.7007261, -121.8323031, -121.9064437, -122.3643426, -122.3054009, -121.7216594, -121.7663066, -121.789283, -121.7958176, -121.8006823, -121.8273765, -122.0599719, -122.0521893, -122.0832723, -122.0599719, -121.965692, -122.1276776, -122.1413708, -122.3513302, -122.2841306, -121.695546, -121.7139392, -121.8043913, -121.8182504, -121.7917498, -122.3543708, -122.2750997, -121.6873331, -121.7192647, -122.2786439, -121.7508234, -121.9263239, -122.3021341, -121.7007261, -121.7139392, -121.8759749, -122.0165355, -122.0311849, -122.239536, -122.2954543, -122.3476322, -122.3813985, -121.9648171, -121.6946142, -122.0764405, -121.7114688, -121.9346576], \"marker\": {\"color\": \"#EF553B\"}, \"mode\": \"markers\", \"name\": \"Contra Costa\", \"showlegend\": true, \"subplot\": \"mapbox\", \"type\": \"scattermapbox\"}, {\"hovertemplate\": \"County=f<br>Latitude=%{lat}<br>Longitude=%{lon}<extra></extra>\", \"lat\": [37.9226328], \"legendgroup\": \"f\", \"lon\": [-122.4992802], \"marker\": {\"color\": \"#00cc96\"}, \"mode\": \"markers\", \"name\": \"f\", \"showlegend\": true, \"subplot\": \"mapbox\", \"type\": \"scattermapbox\"}, {\"hovertemplate\": \"County=Marin<br>Latitude=%{lat}<br>Longitude=%{lon}<extra></extra>\", \"lat\": [37.9128256, 38.0713645, 38.07984, 37.9714085, 37.9644432, 37.9168687, 38.0746398, 38.019446, 37.9841726, 37.8730004, 37.8742659, 37.9949562, 38.1192579, 38.1059389, 37.9866437, 37.9735598, 37.918225, 38.0997681, 38.002065, 37.937924, 37.8730004, 37.9988272, 37.9751301, 37.9733278, 37.9865268, 38.1043131, 37.9122962, 37.8922685, 38.0069229, 37.9850224, 38.250807, 37.9719018, 37.9816984, 38.0877895, 38.0096631, 37.8601475, 38.0034037, 37.9278315], \"legendgroup\": \"Marin\", \"lon\": [-122.5187823, -122.5380196, -122.5558017, -122.5653279, -122.4964339, -122.5538448, -122.5647352, -122.5367283, -122.5936909, -122.4527133, -122.4696283, -122.5769357, -122.6042712, -122.5825234, -122.5365133, -122.532427, -122.713097, -122.5777496, -122.6035144, -122.520586, -122.4527133, -122.5497652, -122.5016276, -122.4965409, -122.5127259, -122.5716066, -122.5399077, -122.5200138, -122.562819, -122.5950105, -122.9635453, -122.5379295, -122.5216192, -122.5685431, -122.5489424, -122.4956126, -122.5483138, -122.5345224], \"marker\": {\"color\": \"#ab63fa\"}, \"mode\": \"markers\", \"name\": \"Marin\", \"showlegend\": true, \"subplot\": \"mapbox\", \"type\": \"scattermapbox\"}, {\"hovertemplate\": \"County=Napa<br>Latitude=%{lat}<br>Longitude=%{lon}<extra></extra>\", \"lat\": [38.2914669, 38.3381257, 38.3173418, 38.6078148, 38.3020342, 38.1729794, 38.3354723, 38.2025657, 38.3180877, 38.3389896, 38.1595736, 38.5003695, 38.2912163, 38.1688418, 38.1794266, 38.3085506, 38.286556, 38.3233699, 38.3180877, 45.9505675, 45.9505675, 38.313911, 38.286556, 45.9505675, 38.421552, 38.2760673, 38.3061464], \"legendgroup\": \"Napa\", \"lon\": [-122.2829929, -122.3199026, -122.312012, -122.2784958, -122.2746002, -122.2619215, -122.3123743, -122.2932326, -122.3267307, -122.3149724, -122.2417641, -122.4780789, -122.2930375, -122.2606002, -122.2669052, -122.2862598, -122.2747543, -122.3184457, -122.3267307, -62.7476236, -62.7476236, -122.2758336, -122.2747543, -62.7476236, -122.418987, -122.2945802, -122.3062376], \"marker\": {\"color\": \"#FFA15A\"}, \"mode\": \"markers\", \"name\": \"Napa\", \"showlegend\": true, \"subplot\": \"mapbox\", \"type\": \"scattermapbox\"}, {\"hovertemplate\": \"County=San Mateo<br>Latitude=%{lat}<br>Longitude=%{lon}<extra></extra>\", \"lat\": [37.6719303, 37.628285, 37.631227, 37.5194838, 37.4598119, 37.5096514, 37.4648341, 37.7037165, 37.473661, 37.5546943, 37.5511079, 37.4645362, 37.5830558, 37.5369183, 37.3270736, 37.6655221, 37.6401748, 37.4618034, 37.4772698, 37.4538784, 37.708215, 37.6262252, 37.5883257, 37.597147, 37.5744975, 37.4706406, 37.5842528, 37.4719506, 37.7061188, 37.6994637, 37.5920624, 37.6533802, 37.5981374, 37.6425076, 37.53329215, 37.4656621, 37.4772698, 37.6876836, 37.6279865, 37.486828, 37.4703529, 37.6946294, 37.6457361, 37.6357465, 37.5294919, 37.530924, 37.4382833, 37.5634899, 37.4565377, 37.4867667, 37.4656621, 37.4513324, 37.6464717, 37.6573755, 37.6916095, 37.4534496, 37.4534496, 37.6540441, 37.6071431, 37.7080402, 37.678223, 37.7063408, 45.9505675, 37.6442435, 37.6258586, 37.6294522, 37.5277926, 37.4784005, 37.4656621, 37.5287964, 37.442425, 37.6763184, 37.6791686, 37.645134, 37.6599672, 37.6287555, 37.6219271, 37.43722, 37.4369106, 37.4729689, 37.4700038, 37.4468755, 37.5406812, 37.4717564, 37.4772698, 37.667267, 37.6644424, 37.5612492, 37.560728, 37.6698644, 37.5354629], \"legendgroup\": \"San Mateo\", \"lon\": [-122.4810499, -122.4092442, -122.4559123, -122.2823267, -122.1943642, -122.2799249, -122.1503873, -122.4243757, -122.1389049, -122.292237, -122.2552747, -122.1489006, -122.3614222, -122.2976707, -122.3559464, -122.4633994, -122.4320398, -122.138141, -122.135444, -122.1834443, -122.452347, -122.441989, -122.4976787, -122.5003609, -122.3813177, -122.1417445, -122.3663781, -122.1519599, -122.4677624, -122.4698886, -122.4013802, -122.4515611, -122.3961787, -122.4399294, -122.2548412, -122.1434177, -122.135444, -122.4889016, -122.4153095, -122.2462495, -122.150003, -122.4578354, -122.4754542, -122.4535308, -122.2968932, -122.516794, -122.2568786, -122.2965416, -122.1885987, -122.2237374, -122.1434177, -122.2080403, -122.4604361, -122.4713561, -122.4097888, -122.4331591, -122.4331591, -122.4487565, -122.4048902, -122.450713, -122.4869135, -122.4132569, -62.7476236, -122.3980377, -122.4508665, -122.4403901, -122.2787112, -122.2018083, -122.1434177, -122.2457553, -122.241034, -122.4782899, -122.3955333, -122.4716614, -122.4084537, -122.4561698, -122.425692, -122.4356122, -122.1956344, -122.1526987, -122.2154054, -122.2480182, -122.5056099, -122.1533092, -122.135444, -122.4163783, -122.4559925, -122.3088034, -122.3711401, -122.4094453, -122.3427965], \"marker\": {\"color\": \"#19d3f3\"}, \"mode\": \"markers\", \"name\": \"San Mateo\", \"showlegend\": true, \"subplot\": \"mapbox\", \"type\": \"scattermapbox\"}, {\"hovertemplate\": \"County=Santa Clara<br>Latitude=%{lat}<br>Longitude=%{lon}<extra></extra>\", \"lat\": [37.4479181, 37.3638561, 37.3192082, 37.319962, 37.2474383, 37.2196828, 37.6719303, 37.628285, 37.3628642, 37.3305519, 37.631227, 37.5194838, 37.5096514, 37.4598119, 37.4648341, 37.7037165, 37.473661, 37.3270349, 37.3073342, 37.3748387, 37.3122123, 37.2274652, 37.3098872, 37.31151475, 37.2692856, 37.4645362, 37.5546943, 37.3739555, 37.5511079, 37.5369183, 37.5830558, 37.3270736, 37.6655221, 37.3242887, 37.2190415, 37.2904519, 37.3950133, 37.6401748, 37.2722119, 37.2471839, 37.4618034, 37.2489101, 37.3534932, 37.2511072, 40.30655, 37.2733393, 37.2379468, 37.2631089, 37.3232608, 37.3628642, 37.3203865, 37.1211683, 37.3088944, 37.2569346, 37.4772698, 37.4538784, 37.313383, 37.0894218, 37.3209172, 37.3059602, 37.6262252, 37.708215, 37.5883257, 37.597147, 37.5744975, 37.4706406, 37.5842528, 37.4719506, 37.3884144, 37.415734, 37.3912795, 37.3708115, 37.4458944, 37.2708369, 37.2765365, 37.3465469, 37.2883499, 37.2523074, 37.3487551, 37.330906, 37.1638333, 37.1378833, 37.0175829, 37.3217697, 37.3614732, 37.2519664, 37.7061188, 37.6994637, 37.6533802, 37.5920624, 37.6425076, 37.5981374, 37.53329215, 37.4772698, 37.4656621, 37.3935456, 37.3872911, 37.3809178, 37.38884695, 37.265025, 37.324675, 37.3446934, 37.3534932, 37.3173736, 37.3178194, 37.3928588, 37.222893, 37.2235799, 37.3909042, 37.3910928, 37.3068419, 37.230084, 37.1352817, 37.0251277, 37.0006335, 37.2825136, 37.305775, 37.2184915, 37.2700661, 37.2914013, 37.1442757, 37.6876836, 37.6279865, 37.486828, 37.4703529, 37.395614, 37.4186025, 37.35639085, 37.3553263, 37.354346, 37.3452755, 37.2883964, 37.2622889, 37.2927536, 37.2779776, 37.2292422, 37.3063953, 37.3847011, 37.36195475, 37.2463229, 37.3968871, 37.3770258, 37.4108251, 37.6946294, 37.6457361, 37.6357465, 37.5294919, 37.4382833, 37.530924, 37.5634899, 37.4565377, 37.4867667, 37.4656621, 37.4513324, 37.6464717, 37.6573755, 37.6916095, 37.4534496, 37.4534496, 37.4414696, 37.4336996, 37.4004593, 37.4444702, 37.3649097, 37.3724122, 37.3271769, 37.3291004, 37.3196761, 37.2379468, 37.3640919, 37.3376839, 37.3435518, 37.25801, 37.2398622, 37.2513994, 37.3352232, 37.3281138, 37.2309859, 37.4107034, 37.4024942, 37.3736939, 37.3652254, 37.2755848, 37.3847907, 37.2643456, 37.2604066, 37.2292422, 37.2280775, 37.2817562, 36.9932479, 37.3183448, 37.3281011, 37.0136314, 37.3614732, 37.2812991, 37.2623343, 37.0914119, 37.0052648, 37.6540441, 37.6071431, 37.7080402, 37.678223, 37.7063408, 37.6442435, 37.6258586, 37.6294522, 37.5277926, 37.4784005, 37.4656621, 37.442425, 37.5287964, 37.6763184, 37.6791686, 37.645134, 37.6599672, 37.6287555, 37.6219271, 37.43722, 37.4369106, 37.4729689, 37.4700038, 37.4468755, 37.5406812, 37.4717564, 37.4772698, 37.3985313, 37.3653402, 37.3922731, 37.37096405, 37.3863646, 37.3323068, 37.3121202, 37.3969486, 37.3231372, 37.3470081, 37.3557937, 37.3488364, 37.3043418, 37.3017722, 37.3591192, 37.3662501, 40.305994, 37.3174619, 37.226852, 37.2364532, 37.3586186, 37.3652254, 37.3175037, 37.2489566, 37.3065292, 37.3054844, 37.289062, 37.3753474, 37.2953481, 37.3090662, 37.0216332, 37.2969321, 37.304495, 37.2412158, 37.1022146, 37.3686043, 37.3108594, 37.4292132, 37.0042376, 37.4251897, 37.2840669, 37.667267, 37.6644424, 37.6698644, 37.560728, 37.5612492, 37.5354629, 37.39700365, 37.3682673, 37.3392587, 37.2768005, 37.2623892, 37.2894819, 37.2703616, 37.3143836, 37.2424564, 37.0849335, 37.3815582, 37.375187, 37.2633549, 37.2562769, 37.2545784, 37.0212872, 37.3632309, 37.010759, 37.3511271, 37.4479181, 37.3470081], \"legendgroup\": \"Santa Clara\", \"lon\": [-122.1731764, -122.048307, -121.9479626, -122.0336021, -121.9041455, -121.950506, -122.4810499, -122.4092442, -121.8342028, -121.9039717, -122.4559123, -122.2823267, -122.2799249, -122.1943642, -122.1503873, -122.4243757, -122.1389049, -121.9502027, -121.925742, -121.835388, -121.7977006, -121.7817773, -121.9660689, -121.9981923, -121.8017743, -122.1489006, -122.292237, -122.1106515, -122.2552747, -122.2976707, -122.3614222, -122.3559464, -122.4633994, -121.8380938, -121.8477207, -121.8354229, -121.9481552, -122.4320398, -121.9591534, -122.0090498, -122.138141, -121.9549055, -121.8419088, -121.7717225, -89.605351, -121.9350822, -121.8865862, -121.9367162, -121.789797, -121.8342028, -121.8033328, -121.6554694, -121.8935668, -121.8177384, -122.135444, -122.1834443, -122.0113018, -121.6088676, -121.9481582, -121.7817889, -122.441989, -122.452347, -122.4976787, -122.5003609, -122.3813177, -122.1417445, -122.3663781, -122.1519599, -122.0768771, -122.093456, -122.0266266, -122.0642641, -122.1656966, -121.9980955, -121.9272659, -121.9441994, -121.9109712, -121.844282, -121.8640784, -121.8414038, -121.6479067, -121.6109777, -121.5845716, -121.9480922, -121.8397371, -121.9058706, -122.4677624, -122.4698886, -122.4515611, -122.4013802, -122.4399294, -122.3961787, -122.2548412, -122.135444, -122.1434177, -121.9442042, -122.0311437, -122.0777143, -122.0050872, -121.8987461, -121.8719586, -121.8594704, -121.8419088, -121.8159118, -121.8179944, -122.1057163, -121.9160729, -121.9669878, -121.8075231, -121.807207, -121.8036004, -121.8680111, -121.6439774, -121.6128693, -121.6011394, -121.858344, -121.7734244, -121.8592239, -121.8059647, -121.7729432, -121.6418021, -122.4889016, -122.4153095, -122.2462495, -122.150003, -121.9652276, -121.871046, -122.0384519, -122.0235153, -121.9457396, -121.9477369, -121.997103, -121.9909657, -121.8936849, -121.8722387, -121.7670383, -122.0748324, -121.8345925, -121.8051119, -121.8135881, -121.8944701, -121.8770387, -121.8715737, -122.4578354, -122.4754542, -122.4535308, -122.2968932, -122.2568786, -122.516794, -122.2965416, -122.1885987, -122.2237374, -122.1434177, -122.2080403, -122.4604361, -122.4713561, -122.4097888, -122.4331591, -122.4331591, -122.1382942, -121.8775861, -121.9221736, -122.1495782, -122.0638172, -121.872051, -121.9097864, -121.9184056, -121.9205125, -121.8865862, -121.8795938, -122.0183715, -122.1101898, -121.999412, -121.9902371, -121.8625017, -121.8398098, -121.8076156, -121.7617713, -121.8613089, -121.8730241, -121.8343282, -121.8157683, -121.8215601, -121.8362528, -121.8134438, -121.8155026, -121.7670383, -121.7756466, -121.7662181, -121.7129001, -121.7633663, -121.903698, -121.5758799, -121.8397371, -121.8579826, -121.8262099, -121.5920257, -121.5911049, -122.4487565, -122.4048902, -122.450713, -122.4869135, -122.4132569, -122.3980377, -122.4508665, -122.4403901, -122.2787112, -122.2018083, -122.1434177, -122.241034, -122.2457553, -122.4782899, -122.3955333, -122.4716614, -122.4084537, -122.4561698, -122.425692, -122.4356122, -122.1956344, -122.1526987, -122.2154054, -122.2480182, -122.5056099, -122.1533092, -122.135444, -121.9664301, -122.1344257, -122.0125353, -122.0360376, -121.8667583, -121.9192829, -121.9415533, -121.966123, -121.9543915, -121.9329193, -121.9723099, -121.8885222, -121.9490078, -121.8724465, -121.8468672, -121.8347088, -89.609046, -121.7799369, -121.998512, -121.8942691, -121.8096356, -121.8157683, -121.7883957, -121.7679888, -121.8450388, -121.8306703, -121.8810308, -121.8341603, -121.7560074, -121.7737022, -121.5981302, -121.7743508, -121.7917662, -121.8667777, -121.6651803, -121.9745504, -121.794734, -121.91311, -121.6233185, -121.9699556, -122.0051157, -122.4163783, -122.4559925, -122.4094453, -122.3711401, -122.3088034, -122.3427965, -122.1329751, -122.1121796, -122.0346488, -121.9731748, -122.031049, -121.8216742, -121.765972, -121.8004605, -121.8458751, -121.582308, -122.0162874, -122.059038, -121.9928573, -122.0400933, -121.8502451, -121.5902149, -122.1640052, -121.482641, -121.9016611, -122.1731764, -121.9329193], \"marker\": {\"color\": \"#FF6692\"}, \"mode\": \"markers\", \"name\": \"Santa Clara\", \"showlegend\": true, \"subplot\": \"mapbox\", \"type\": \"scattermapbox\"}, {\"hovertemplate\": \"County=San Francisco<br>Latitude=%{lat}<br>Longitude=%{lon}<extra></extra>\", \"lat\": [37.725581, 37.7125198, 37.7847403, 37.7853941, 37.7674323, 37.7287461, 37.7488595, 37.7126228, 37.7143841, 37.744211, 37.7475619, 37.7366479, 37.7627923, 37.7142979, 37.732606, 37.7340914, 37.732533, 37.7840531, 37.7616479, 37.7701595, 37.7643617, 37.7596177, 37.7226338, 37.789877, 37.7705332, 37.7604405, 37.7337761, 37.7370238, 37.7908518, 37.7111983, 37.738156, 37.7134559, 37.7439541, 37.7213224, 37.7335102, 37.710744, 37.7784851, 37.7740068, 37.7815835, 37.7857195, 37.771842, 37.7270182, 37.71994248, 37.7652461, 37.734732, 37.7175645, 37.7342543, 37.725642, 37.7470732, 37.7845326, 37.7485563, 37.74172335, 37.7666701, 37.7640329, 37.7440364, 37.718106, 37.734901, 37.73087, 37.7366479, 37.7323059, 37.7196341, 37.7343858, 37.7935273, 37.7754605, 37.752923, 37.7098691, 37.7773172, 37.7814848, 37.7700691, 37.7849039, 37.7288536, 37.7707283, 37.7275872, 37.7703288, 37.8031282, 37.7126663, 37.7218605, 37.7140738, 37.735131, 37.743749, 37.7129696, 37.7218605, 37.8016451, 37.7608549, 37.719788, 37.7983271, 37.7773172, 37.7709118, 37.7795806, 37.738156, 37.7218429, 37.7419564, 37.7335102, 37.796398, 37.7857195, 37.7239476], \"legendgroup\": \"San Francisco\", \"lon\": [-122.3861033, -122.4633942, -122.4213962, -122.4086959, -122.4184801, -122.4095541, -122.4273323, -122.446214, -122.4113282, -122.412275, -122.5007436, -122.4231783, -122.3929587, -122.467124, -122.411128, -122.3911082, -122.398675, -122.4503065, -122.4224192, -122.4458163, -122.5029967, -122.4492343, -122.3954566, -122.4056291, -122.4436809, -122.4159557, -122.457756, -122.4631499, -122.3900082, -122.4070341, -122.410879, -122.436472, -122.4226011, -122.4378855, -122.4341673, -122.4142894, -122.4254529, -122.4381384, -122.4945314, -122.421209, -122.4317409, -122.4760464, -122.3957041, -122.394857, -122.4107421, -122.4037808, -122.3929364, -122.384544, -122.387211, -122.4311381, -122.4782467, -122.4658569, -122.43335, -122.3937392, -122.4542995, -122.391206, -122.384994, -122.4290075, -122.4231783, -122.4534355, -122.4723654, -122.4759048, -122.3975149, -122.4638976, -122.4263115, -122.4643886, -122.419609, -122.3894557, -122.4327726, -122.4635065, -122.4552944, -122.408147, -122.4574003, -122.4177253, -122.4181701, -122.4320301, -122.4531202, -122.4560811, -122.384161, -122.410338, -122.4326944, -122.4531202, -122.4034935, -122.4489773, -122.3925027, -122.4030871, -122.419609, -122.4483853, -122.4570027, -122.410879, -122.4571823, -122.4233467, -122.4341673, -122.4184963, -122.421209, -122.4353803], \"marker\": {\"color\": \"#B6E880\"}, \"mode\": \"markers\", \"name\": \"San Francisco\", \"showlegend\": true, \"subplot\": \"mapbox\", \"type\": \"scattermapbox\"}, {\"hovertemplate\": \"County=Solano<br>Latitude=%{lat}<br>Longitude=%{lon}<extra></extra>\", \"lat\": [38.2611312, 38.15255, 38.3309245, 38.181806, 38.147194, 38.072591, 38.080986, 38.063961, 38.3460426, 38.260083, 38.451428, 38.268267, 38.3966161, 38.2574592, 45.9505675, 38.3394807, 38.0813486, 38.2234744, 38.1690575, 38.0693068, 38.117842, 38.2493962, 38.2427819, 38.0896968, 38.084386, 38.3478137, 38.271186, 45.9505675, 38.120225, 38.1726804, 38.4025859, 38.080353, 38.4491617, 38.242636, 38.145144, 38.0647375, 38.251, 38.161492, 38.179672, 38.2566224, 38.156889, 45.9505675, 38.2623665, 38.255631, 35.1256765, 38.2556214, 38.263367, 38.121642, 38.0942156, 38.107033, 38.0869191, 38.112156, 38.0912072, 38.10026, 38.0737, 38.359956, 38.3483282, 38.2799478, 38.2828459, 38.2894588, 38.24073665, 38.2835808, 38.2148019, 38.187503, 38.156506, 38.122817, 38.1940331, 38.2747059, 38.2654946, 38.188214, 38.1645146, 38.233133, 38.3007607, 38.124419, 38.064882, 38.250694, 38.080427, 38.122164, 38.338282, 38.4667862, 38.270275, 38.238436, 38.147133, 38.1117452, 38.212393, 38.2403405, 38.094986, 38.0730454, 38.250227, 38.2450411, 38.3649408, 38.2717484, 38.124614, 38.366528, 38.3443345, 38.271689, 38.1948186, 38.1218925, 38.147408, 38.2649117, 38.339914, 38.3413324, 38.2938987, 38.1800769, 38.398494, 38.3994314], \"legendgroup\": \"Solano\", \"lon\": [-122.0311521, -122.232581, -121.9498757, -121.712803, -122.250144, -122.2081653, -122.154181, -122.158611, -121.9599829, -122.036228, -121.84615, -122.016458, -121.9682425, -122.0341308, -62.7476236, -121.9601857, -122.2274537, -122.1522643, -122.1276578, -122.2225204, -122.221575, -122.0124858, -122.0751512, -122.2401609, -122.235244, -121.953797, -121.998083, -62.7476236, -122.263, -122.1290942, -121.981728, -122.224811, -121.8212262, -122.0175011, -122.231703, -122.16458, -121.993286, -122.176658, -121.705014, -122.0694285, -122.175847, -62.7476236, -122.0116657, -121.9873228, -80.6268261, -122.0088977, -122.043464, -122.243069, -122.2086547, -122.254814, -122.2045549, -122.227008, -122.2283403, -122.2009918, -122.157658, -122.006869, -121.9401349, -122.0274298, -122.0631907, -122.0297131, -121.9997771, -122.0134047, -122.1260367, -121.714963, -121.694803, -122.264997, -122.1425368, -122.0183464, -122.0421337, -121.717208, -122.1401321, -122.1327185, -122.0275276, -122.247361, -122.160063, -122.023747, -122.235156, -122.263217, -121.9506121, -121.8260449, -122.010942, -121.989643, -122.231064, -122.2392422, -122.1284243, -122.1369564, -122.235864, -122.2010219, -122.001917, -122.0203342, -121.9865027, -121.9590466, -122.214412, -121.948825, -121.9435009, -122.00405, -122.1464957, -122.2491635, -122.234117, -121.9878903, -121.990039, -121.960346, -122.0134262, -121.7193754, -121.9471421, -121.9466984], \"marker\": {\"color\": \"#FF97FF\"}, \"mode\": \"markers\", \"name\": \"Solano\", \"showlegend\": true, \"subplot\": \"mapbox\", \"type\": \"scattermapbox\"}, {\"hovertemplate\": \"County=Sonoma<br>Latitude=%{lat}<br>Longitude=%{lon}<extra></extra>\", \"lat\": [38.2448278, 38.2512837, 38.5517797, 38.4349106, 38.478231, 38.42742515, 38.4134573, 38.3272367, 38.4531435, 38.4660462, 38.4487562, 38.4054808, 38.3447371, 38.2975425, 38.6094686, 38.4458117, 38.4464738, 38.6111907, 38.3556036, 38.4845765, 38.3676974, 38.424888, 38.3474827, 38.4231889, 38.5368622, 38.2445651, 38.4078304, 38.4747147, 38.5538729, 38.4410548, 38.5490962, 38.4092271, 38.507562, 38.4364246, 38.6180093, 38.4302471, 38.4376171, 38.4564623, 38.4612647, 38.4199792, 38.5306914, 38.4747957, 38.4513618, 38.2248266, 38.3943345, 38.4737982, 38.4531611, 38.4383738, 38.3223577, 38.4919794, 38.4422289, 38.4659516, 38.2258085, 38.4142427, 38.5538729, 38.4564623, 38.2360894, 38.4493919, 38.2975425, 44.64402, 38.5092402, 38.4350693, 38.4684999, 38.2794709, 38.7833441, 38.4260549, 38.46421, 38.4507968, 38.4410844, 38.5406929, 38.5465199, 38.4639294, 38.244957, 38.44477, 38.2924533, 38.403412, 38.3345021, 38.8111517, 38.297278, 38.4399012, 38.4409634, 38.2539835, 38.24272845, 38.4591863, 38.470069, 38.4611119, 38.5351538, 38.2265021, 38.4466566, 38.465811, 38.2658672, 38.4860696, 38.4777855, 38.4725135, 38.5127803, 38.412182, 38.2874657, 38.281236, 38.3867484, 38.556397, 38.5473212, 38.7805741], \"legendgroup\": \"Sonoma\", \"lon\": [-122.5908653, -122.6133849, -122.8227282, -122.7094626, -122.704651, -122.5795733, -122.7443867, -122.6977759, -122.7308349, -122.6807617, -122.7277173, -122.7262165, -122.6929398, -122.7096841, -122.8548614, -122.75353, -122.6162151, -122.8742667, -122.7025624, -122.7606035, -122.6839051, -122.7318348, -122.7058782, -122.762222, -122.8058028, -122.6100526, -122.7134758, -122.7587773, -122.8301346, -122.7187544, -122.820754, -122.7472433, -122.98449, -122.5869082, -122.8657511, -122.5892075, -122.7574111, -122.7391129, -122.7457503, -122.7661061, -122.7849083, -122.7440927, -122.7494205, -122.6612966, -122.8271095, -122.7506803, -122.7093718, -122.5864975, -122.7099535, -122.7065086, -122.7398967, -122.6338844, -122.6578098, -122.7293005, -122.8301346, -122.7391129, -122.6570315, -122.728887, -122.7096841, -72.916213, -122.6528874, -122.5964433, -122.7608331, -122.4638767, -123.0183213, -122.6668354, -122.7154196, -122.7439698, -122.7144795, -122.8205494, -122.8124967, -122.7366512, -122.640532, -122.758705, -122.6842034, -122.961881, -123.0471526, -123.0191761, -122.50301, -122.686224, -122.6862068, -122.6111735, -122.593792, -122.7640645, -122.703862, -122.6900335, -122.8096424, -122.6610333, -122.7543612, -122.683827, -122.6519448, -122.6998594, -122.7584176, -122.7366649, -122.9988093, -122.7369683, -122.4689353, -122.6804003, -122.8203225, -122.8232501, -122.8280792, -123.0167964], \"marker\": {\"color\": \"#FECB52\"}, \"mode\": \"markers\", \"name\": \"Sonoma\", \"showlegend\": true, \"subplot\": \"mapbox\", \"type\": \"scattermapbox\"}],                        {\"legend\": {\"title\": {\"text\": \"County\"}, \"tracegroupgap\": 0}, \"mapbox\": {\"accesstoken\": \"pk.eyJ1IjoiYnJpYW5oYWJhbmEiLCJhIjoiY2tvZzZhaDEzMGFlNjJ3bGxmOTVyYmlmcCJ9.CpzgJ8Mq1rTxB6uUpXzDsQ\", \"center\": {\"lat\": 37.845397333200765, \"lon\": -121.59581818062301}, \"domain\": {\"x\": [0.0, 1.0], \"y\": [0.0, 1.0]}, \"zoom\": 8}, \"template\": {\"data\": {\"bar\": [{\"error_x\": {\"color\": \"#2a3f5f\"}, \"error_y\": {\"color\": \"#2a3f5f\"}, \"marker\": {\"line\": {\"color\": \"#E5ECF6\", \"width\": 0.5}}, \"type\": \"bar\"}], \"barpolar\": [{\"marker\": {\"line\": {\"color\": \"#E5ECF6\", \"width\": 0.5}}, \"type\": \"barpolar\"}], \"carpet\": [{\"aaxis\": {\"endlinecolor\": \"#2a3f5f\", \"gridcolor\": \"white\", \"linecolor\": \"white\", \"minorgridcolor\": \"white\", \"startlinecolor\": \"#2a3f5f\"}, \"baxis\": {\"endlinecolor\": \"#2a3f5f\", \"gridcolor\": \"white\", \"linecolor\": \"white\", \"minorgridcolor\": \"white\", \"startlinecolor\": \"#2a3f5f\"}, \"type\": \"carpet\"}], \"choropleth\": [{\"colorbar\": {\"outlinewidth\": 0, \"ticks\": \"\"}, \"type\": \"choropleth\"}], \"contour\": [{\"colorbar\": {\"outlinewidth\": 0, \"ticks\": \"\"}, \"colorscale\": [[0.0, \"#0d0887\"], [0.1111111111111111, \"#46039f\"], [0.2222222222222222, \"#7201a8\"], [0.3333333333333333, \"#9c179e\"], [0.4444444444444444, \"#bd3786\"], [0.5555555555555556, \"#d8576b\"], [0.6666666666666666, \"#ed7953\"], [0.7777777777777778, \"#fb9f3a\"], [0.8888888888888888, \"#fdca26\"], [1.0, \"#f0f921\"]], \"type\": \"contour\"}], \"contourcarpet\": [{\"colorbar\": {\"outlinewidth\": 0, \"ticks\": \"\"}, \"type\": \"contourcarpet\"}], \"heatmap\": [{\"colorbar\": {\"outlinewidth\": 0, \"ticks\": \"\"}, \"colorscale\": [[0.0, \"#0d0887\"], [0.1111111111111111, \"#46039f\"], [0.2222222222222222, \"#7201a8\"], [0.3333333333333333, \"#9c179e\"], [0.4444444444444444, \"#bd3786\"], [0.5555555555555556, \"#d8576b\"], [0.6666666666666666, \"#ed7953\"], [0.7777777777777778, \"#fb9f3a\"], [0.8888888888888888, \"#fdca26\"], [1.0, \"#f0f921\"]], \"type\": \"heatmap\"}], \"heatmapgl\": [{\"colorbar\": {\"outlinewidth\": 0, \"ticks\": \"\"}, \"colorscale\": [[0.0, \"#0d0887\"], [0.1111111111111111, \"#46039f\"], [0.2222222222222222, \"#7201a8\"], [0.3333333333333333, \"#9c179e\"], [0.4444444444444444, \"#bd3786\"], [0.5555555555555556, \"#d8576b\"], [0.6666666666666666, \"#ed7953\"], [0.7777777777777778, \"#fb9f3a\"], [0.8888888888888888, \"#fdca26\"], [1.0, \"#f0f921\"]], \"type\": \"heatmapgl\"}], \"histogram\": [{\"marker\": {\"colorbar\": {\"outlinewidth\": 0, \"ticks\": \"\"}}, \"type\": \"histogram\"}], \"histogram2d\": [{\"colorbar\": {\"outlinewidth\": 0, \"ticks\": \"\"}, \"colorscale\": [[0.0, \"#0d0887\"], [0.1111111111111111, \"#46039f\"], [0.2222222222222222, \"#7201a8\"], [0.3333333333333333, \"#9c179e\"], [0.4444444444444444, \"#bd3786\"], [0.5555555555555556, \"#d8576b\"], [0.6666666666666666, \"#ed7953\"], [0.7777777777777778, \"#fb9f3a\"], [0.8888888888888888, \"#fdca26\"], [1.0, \"#f0f921\"]], \"type\": \"histogram2d\"}], \"histogram2dcontour\": [{\"colorbar\": {\"outlinewidth\": 0, \"ticks\": \"\"}, \"colorscale\": [[0.0, \"#0d0887\"], [0.1111111111111111, \"#46039f\"], [0.2222222222222222, \"#7201a8\"], [0.3333333333333333, \"#9c179e\"], [0.4444444444444444, \"#bd3786\"], [0.5555555555555556, \"#d8576b\"], [0.6666666666666666, \"#ed7953\"], [0.7777777777777778, \"#fb9f3a\"], [0.8888888888888888, \"#fdca26\"], [1.0, \"#f0f921\"]], \"type\": \"histogram2dcontour\"}], \"mesh3d\": [{\"colorbar\": {\"outlinewidth\": 0, \"ticks\": \"\"}, \"type\": \"mesh3d\"}], \"parcoords\": [{\"line\": {\"colorbar\": {\"outlinewidth\": 0, \"ticks\": \"\"}}, \"type\": \"parcoords\"}], \"pie\": [{\"automargin\": true, \"type\": \"pie\"}], \"scatter\": [{\"marker\": {\"colorbar\": {\"outlinewidth\": 0, \"ticks\": \"\"}}, \"type\": \"scatter\"}], \"scatter3d\": [{\"line\": {\"colorbar\": {\"outlinewidth\": 0, \"ticks\": \"\"}}, \"marker\": {\"colorbar\": {\"outlinewidth\": 0, \"ticks\": \"\"}}, \"type\": \"scatter3d\"}], \"scattercarpet\": [{\"marker\": {\"colorbar\": {\"outlinewidth\": 0, \"ticks\": \"\"}}, \"type\": \"scattercarpet\"}], \"scattergeo\": [{\"marker\": {\"colorbar\": {\"outlinewidth\": 0, \"ticks\": \"\"}}, \"type\": \"scattergeo\"}], \"scattergl\": [{\"marker\": {\"colorbar\": {\"outlinewidth\": 0, \"ticks\": \"\"}}, \"type\": \"scattergl\"}], \"scattermapbox\": [{\"marker\": {\"colorbar\": {\"outlinewidth\": 0, \"ticks\": \"\"}}, \"type\": \"scattermapbox\"}], \"scatterpolar\": [{\"marker\": {\"colorbar\": {\"outlinewidth\": 0, \"ticks\": \"\"}}, \"type\": \"scatterpolar\"}], \"scatterpolargl\": [{\"marker\": {\"colorbar\": {\"outlinewidth\": 0, \"ticks\": \"\"}}, \"type\": \"scatterpolargl\"}], \"scatterternary\": [{\"marker\": {\"colorbar\": {\"outlinewidth\": 0, \"ticks\": \"\"}}, \"type\": \"scatterternary\"}], \"surface\": [{\"colorbar\": {\"outlinewidth\": 0, \"ticks\": \"\"}, \"colorscale\": [[0.0, \"#0d0887\"], [0.1111111111111111, \"#46039f\"], [0.2222222222222222, \"#7201a8\"], [0.3333333333333333, \"#9c179e\"], [0.4444444444444444, \"#bd3786\"], [0.5555555555555556, \"#d8576b\"], [0.6666666666666666, \"#ed7953\"], [0.7777777777777778, \"#fb9f3a\"], [0.8888888888888888, \"#fdca26\"], [1.0, \"#f0f921\"]], \"type\": \"surface\"}], \"table\": [{\"cells\": {\"fill\": {\"color\": \"#EBF0F8\"}, \"line\": {\"color\": \"white\"}}, \"header\": {\"fill\": {\"color\": \"#C8D4E3\"}, \"line\": {\"color\": \"white\"}}, \"type\": \"table\"}]}, \"layout\": {\"annotationdefaults\": {\"arrowcolor\": \"#2a3f5f\", \"arrowhead\": 0, \"arrowwidth\": 1}, \"coloraxis\": {\"colorbar\": {\"outlinewidth\": 0, \"ticks\": \"\"}}, \"colorscale\": {\"diverging\": [[0, \"#8e0152\"], [0.1, \"#c51b7d\"], [0.2, \"#de77ae\"], [0.3, \"#f1b6da\"], [0.4, \"#fde0ef\"], [0.5, \"#f7f7f7\"], [0.6, \"#e6f5d0\"], [0.7, \"#b8e186\"], [0.8, \"#7fbc41\"], [0.9, \"#4d9221\"], [1, \"#276419\"]], \"sequential\": [[0.0, \"#0d0887\"], [0.1111111111111111, \"#46039f\"], [0.2222222222222222, \"#7201a8\"], [0.3333333333333333, \"#9c179e\"], [0.4444444444444444, \"#bd3786\"], [0.5555555555555556, \"#d8576b\"], [0.6666666666666666, \"#ed7953\"], [0.7777777777777778, \"#fb9f3a\"], [0.8888888888888888, \"#fdca26\"], [1.0, \"#f0f921\"]], \"sequentialminus\": [[0.0, \"#0d0887\"], [0.1111111111111111, \"#46039f\"], [0.2222222222222222, \"#7201a8\"], [0.3333333333333333, \"#9c179e\"], [0.4444444444444444, \"#bd3786\"], [0.5555555555555556, \"#d8576b\"], [0.6666666666666666, \"#ed7953\"], [0.7777777777777778, \"#fb9f3a\"], [0.8888888888888888, \"#fdca26\"], [1.0, \"#f0f921\"]]}, \"colorway\": [\"#636efa\", \"#EF553B\", \"#00cc96\", \"#ab63fa\", \"#FFA15A\", \"#19d3f3\", \"#FF6692\", \"#B6E880\", \"#FF97FF\", \"#FECB52\"], \"font\": {\"color\": \"#2a3f5f\"}, \"geo\": {\"bgcolor\": \"white\", \"lakecolor\": \"white\", \"landcolor\": \"#E5ECF6\", \"showlakes\": true, \"showland\": true, \"subunitcolor\": \"white\"}, \"hoverlabel\": {\"align\": \"left\"}, \"hovermode\": \"closest\", \"mapbox\": {\"style\": \"light\"}, \"paper_bgcolor\": \"white\", \"plot_bgcolor\": \"#E5ECF6\", \"polar\": {\"angularaxis\": {\"gridcolor\": \"white\", \"linecolor\": \"white\", \"ticks\": \"\"}, \"bgcolor\": \"#E5ECF6\", \"radialaxis\": {\"gridcolor\": \"white\", \"linecolor\": \"white\", \"ticks\": \"\"}}, \"scene\": {\"xaxis\": {\"backgroundcolor\": \"#E5ECF6\", \"gridcolor\": \"white\", \"gridwidth\": 2, \"linecolor\": \"white\", \"showbackground\": true, \"ticks\": \"\", \"zerolinecolor\": \"white\"}, \"yaxis\": {\"backgroundcolor\": \"#E5ECF6\", \"gridcolor\": \"white\", \"gridwidth\": 2, \"linecolor\": \"white\", \"showbackground\": true, \"ticks\": \"\", \"zerolinecolor\": \"white\"}, \"zaxis\": {\"backgroundcolor\": \"#E5ECF6\", \"gridcolor\": \"white\", \"gridwidth\": 2, \"linecolor\": \"white\", \"showbackground\": true, \"ticks\": \"\", \"zerolinecolor\": \"white\"}}, \"shapedefaults\": {\"line\": {\"color\": \"#2a3f5f\"}}, \"ternary\": {\"aaxis\": {\"gridcolor\": \"white\", \"linecolor\": \"white\", \"ticks\": \"\"}, \"baxis\": {\"gridcolor\": \"white\", \"linecolor\": \"white\", \"ticks\": \"\"}, \"bgcolor\": \"#E5ECF6\", \"caxis\": {\"gridcolor\": \"white\", \"linecolor\": \"white\", \"ticks\": \"\"}}, \"title\": {\"x\": 0.05}, \"xaxis\": {\"automargin\": true, \"gridcolor\": \"white\", \"linecolor\": \"white\", \"ticks\": \"\", \"title\": {\"standoff\": 15}, \"zerolinecolor\": \"white\", \"zerolinewidth\": 2}, \"yaxis\": {\"automargin\": true, \"gridcolor\": \"white\", \"linecolor\": \"white\", \"ticks\": \"\", \"title\": {\"standoff\": 15}, \"zerolinecolor\": \"white\", \"zerolinewidth\": 2}}}, \"title\": {\"text\": \"Foreclosures scatter plot\"}},                        {\"responsive\": true}                    ).then(function(){\n",
       "                            \n",
       "var gd = document.getElementById('1191203b-5e25-47c8-8bff-841234c0b9f4');\n",
       "var x = new MutationObserver(function (mutations, observer) {{\n",
       "        var display = window.getComputedStyle(gd).display;\n",
       "        if (!display || display === 'none') {{\n",
       "            console.log([gd, 'removed!']);\n",
       "            Plotly.purge(gd);\n",
       "            observer.disconnect();\n",
       "        }}\n",
       "}});\n",
       "\n",
       "// Listen for the removal of the full notebook cells\n",
       "var notebookContainer = gd.closest('#notebook-container');\n",
       "if (notebookContainer) {{\n",
       "    x.observe(notebookContainer, {childList: true});\n",
       "}}\n",
       "\n",
       "// Listen for the clearing of the current output cell\n",
       "var outputEl = gd.closest('.output');\n",
       "if (outputEl) {{\n",
       "    x.observe(outputEl, {childList: true});\n",
       "}}\n",
       "\n",
       "                        })                };                });            </script>        </div>"
      ]
     },
     "metadata": {},
     "output_type": "display_data"
    }
   ],
   "source": [
    "# Create the Mapbox Scatter plot based on the most_foreclosures_df DataFrame.\n",
    "# The color parameter should be based on County\n",
    "px.scatter_mapbox(\n",
    "foreclosure_df,\n",
    "    lat='Latitude',\n",
    "    lon='Longitude',\n",
    "    zoom=8,\n",
    "    title='Foreclosures scatter plot',\n",
    "    color='County'\n",
    ")"
   ]
  },
  {
   "cell_type": "code",
   "execution_count": 50,
   "metadata": {},
   "outputs": [
    {
     "data": {
      "application/vnd.plotly.v1+json": {
       "config": {
        "plotlyServerURL": "https://plot.ly"
       },
       "data": [
        {
         "hovertemplate": "City=OAKLAND<br>Latitude=%{lat}<br>Longitude=%{lon}<extra></extra>",
         "lat": [
          37.7471529,
          37.8429686,
          37.7679535,
          37.7735287,
          37.7710906,
          37.7475942,
          37.7376346,
          37.7550041,
          37.781885,
          37.7680729,
          37.7445054,
          37.8025433,
          37.7439982,
          37.7921439,
          37.81729075,
          37.7659463,
          37.7488172,
          37.7934663,
          37.8054198,
          37.7286345,
          37.7782157,
          37.762096,
          37.797503,
          37.7500504,
          37.7700153,
          37.7439982,
          37.7431905,
          37.8284106,
          37.7943972,
          37.8059792,
          37.7699722,
          37.7784426,
          37.7465779,
          37.7929217,
          37.7511904,
          37.7764698,
          37.7782157,
          37.7593512,
          37.7550041,
          37.7607104,
          37.8000321,
          37.7787131,
          37.8490759,
          37.7979395,
          37.7942343,
          37.7439982,
          37.8281259,
          37.8104121,
          37.8409682,
          43.0667033,
          37.8046584,
          37.7730318,
          37.7819671,
          37.7660145,
          37.7787131,
          37.7475942,
          37.8060642,
          37.7394275,
          37.8000145,
          37.7517602,
          37.8217733,
          37.8026876,
          37.8054953,
          37.7787131,
          37.7765432,
          37.8366423,
          37.77848,
          37.849179,
          37.8124399,
          37.8425359,
          37.8002554,
          37.8321829,
          37.7770871,
          37.7787435,
          37.7731102,
          37.7902863,
          37.7612752,
          37.7467482,
          37.8610912,
          37.7426691,
          37.7929421,
          37.7997147,
          37.8034788,
          37.7505281,
          37.8292989,
          37.8389917,
          37.7496293,
          37.7676036,
          37.7310548,
          37.7939968,
          37.83441785
         ],
         "legendgroup": "OAKLAND",
         "lon": [
          -122.1303771,
          -122.2575852,
          -122.2006489,
          -122.1738383,
          -122.1616004,
          -122.1774951,
          -122.1833569,
          -122.1616274,
          -122.1419927,
          -122.1353678,
          -122.127436,
          -122.2886371,
          -122.1534944,
          -122.2180187,
          -122.2554874,
          -122.1943617,
          -122.136602,
          -122.2118012,
          -122.2819181,
          -122.1752643,
          -122.1957057,
          -122.1844618,
          -122.1769446,
          -122.1281838,
          -122.2163687,
          -122.1534944,
          -122.1766193,
          -122.201626,
          -122.2557562,
          -122.2982572,
          -122.1819408,
          -122.1759149,
          -122.1586141,
          -122.1631864,
          -122.1183357,
          -122.218662,
          -122.1957057,
          -122.1831629,
          -122.1616274,
          -122.1450633,
          -122.2850379,
          -122.1905906,
          -122.2544491,
          -122.2299042,
          -122.1797619,
          -122.1534944,
          -122.2583609,
          -122.1957132,
          -122.2617488,
          -89.4126785,
          -122.278613,
          -122.1751085,
          -122.199831,
          -122.1677704,
          -122.1905906,
          -122.1774951,
          -122.1832659,
          -122.1854643,
          -122.1754136,
          -122.1672504,
          -122.2805509,
          -122.2830008,
          -122.2811826,
          -122.1905906,
          -122.206227,
          -122.2577131,
          -122.1647808,
          -122.2512465,
          -122.203971,
          -122.2723462,
          -122.273932,
          -122.2678275,
          -122.1681382,
          -122.1935532,
          -122.2285135,
          -122.1870222,
          -122.1776032,
          -122.1707528,
          -122.2326024,
          -122.1547797,
          -122.2684086,
          -122.1721782,
          -122.2614331,
          -122.1809333,
          -122.2703365,
          -122.2564214,
          -122.174321,
          -122.1746577,
          -122.1785022,
          -122.2169712,
          -122.2626505
         ],
         "marker": {
          "color": "#636efa"
         },
         "mode": "markers",
         "name": "OAKLAND",
         "showlegend": true,
         "subplot": "mapbox",
         "type": "scattermapbox"
        },
        {
         "hovertemplate": "City=BERKELEY<br>Latitude=%{lat}<br>Longitude=%{lon}<extra></extra>",
         "lat": [
          37.8505918,
          37.8568993,
          37.872389,
          37.883711,
          37.8502878,
          37.8690688,
          37.860273,
          37.8794656,
          37.868208
         ],
         "legendgroup": "BERKELEY",
         "lon": [
          -122.2808136,
          -122.2541754,
          -122.2668858,
          -122.28913,
          -122.2737457,
          -122.2441513,
          -122.2890618,
          -122.2610676,
          -122.2631767
         ],
         "marker": {
          "color": "#EF553B"
         },
         "mode": "markers",
         "name": "BERKELEY",
         "showlegend": true,
         "subplot": "mapbox",
         "type": "scattermapbox"
        },
        {
         "hovertemplate": "City=ALBANY<br>Latitude=%{lat}<br>Longitude=%{lon}<extra></extra>",
         "lat": [
          37.8920331,
          31.5956785
         ],
         "legendgroup": "ALBANY",
         "lon": [
          -122.2985272,
          -84.1302491
         ],
         "marker": {
          "color": "#00cc96"
         },
         "mode": "markers",
         "name": "ALBANY",
         "showlegend": true,
         "subplot": "mapbox",
         "type": "scattermapbox"
        },
        {
         "hovertemplate": "City=ALAMEDA<br>Latitude=%{lat}<br>Longitude=%{lon}<extra></extra>",
         "lat": [
          37.7725177,
          37.7413888,
          37.660519,
          37.7360313,
          37.7884998,
          37.7504067
         ],
         "legendgroup": "ALAMEDA",
         "lon": [
          -122.2621463,
          -122.2439694,
          -122.0852481,
          -122.2506339,
          -122.2777184,
          -122.2361259
         ],
         "marker": {
          "color": "#ab63fa"
         },
         "mode": "markers",
         "name": "ALAMEDA",
         "showlegend": true,
         "subplot": "mapbox",
         "type": "scattermapbox"
        },
        {
         "hovertemplate": "City=SAN LEANDRO<br>Latitude=%{lat}<br>Longitude=%{lon}<extra></extra>",
         "lat": [
          37.7246633,
          37.724355,
          37.6999207,
          37.7339014,
          37.7056119,
          37.6899653,
          37.6918008,
          37.6980985,
          37.7018449,
          37.725036,
          37.7134822,
          37.6944486
         ],
         "legendgroup": "SAN LEANDRO",
         "lon": [
          -122.146135,
          -122.113913,
          -122.1346176,
          -122.16707,
          -122.1297125,
          -122.1531281,
          -122.1573441,
          -122.1462461,
          -122.1231998,
          -122.127809,
          -122.1652839,
          -122.1601318
         ],
         "marker": {
          "color": "#FFA15A"
         },
         "mode": "markers",
         "name": "SAN LEANDRO",
         "showlegend": true,
         "subplot": "mapbox",
         "type": "scattermapbox"
        },
        {
         "hovertemplate": "City=CASTRO VALLEY<br>Latitude=%{lat}<br>Longitude=%{lon}<extra></extra>",
         "lat": [
          37.7011386,
          37.7222721,
          37.684968,
          37.6939711,
          37.7052887
         ],
         "legendgroup": "CASTRO VALLEY",
         "lon": [
          -122.0636672,
          -122.0864338,
          -122.0674552,
          -122.0691326,
          -122.0859249
         ],
         "marker": {
          "color": "#19d3f3"
         },
         "mode": "markers",
         "name": "CASTRO VALLEY",
         "showlegend": true,
         "subplot": "mapbox",
         "type": "scattermapbox"
        },
        {
         "hovertemplate": "City=NEWARK<br>Latitude=%{lat}<br>Longitude=%{lon}<extra></extra>",
         "lat": [
          37.5409294,
          37.5185415,
          37.5296915,
          37.5237944
         ],
         "legendgroup": "NEWARK",
         "lon": [
          -122.0319246,
          -121.992313,
          -122.0454023,
          -122.0508382
         ],
         "marker": {
          "color": "#FF6692"
         },
         "mode": "markers",
         "name": "NEWARK",
         "showlegend": true,
         "subplot": "mapbox",
         "type": "scattermapbox"
        },
        {
         "hovertemplate": "City=UNION CITY<br>Latitude=%{lat}<br>Longitude=%{lon}<extra></extra>",
         "lat": [
          37.5876544,
          37.584681,
          37.5978174,
          37.602872,
          37.5838972,
          37.5919492,
          37.5902421,
          37.521693
         ],
         "legendgroup": "UNION CITY",
         "lon": [
          -122.0798363,
          -122.070605,
          -122.0255016,
          -122.0291027,
          -122.0664385,
          -122.0758694,
          -122.0790623,
          -121.9353026
         ],
         "marker": {
          "color": "#B6E880"
         },
         "mode": "markers",
         "name": "UNION CITY",
         "showlegend": true,
         "subplot": "mapbox",
         "type": "scattermapbox"
        },
        {
         "hovertemplate": "City=FREMONT<br>Latitude=%{lat}<br>Longitude=%{lon}<extra></extra>",
         "lat": [
          37.5561111,
          37.5249699,
          37.521693,
          37.5384355,
          37.5624046,
          37.505246,
          37.4569196,
          37.5178259,
          37.55297,
          37.560802,
          37.5785339,
          37.5773087,
          37.574731,
          37.5834344,
          37.5605619,
          37.5851299,
          37.5624722,
          37.4893959,
          37.4712364,
          37.5168193
         ],
         "legendgroup": "FREMONT",
         "lon": [
          -121.9673195,
          -121.9192601,
          -121.9353026,
          -121.9557933,
          -122.0592829,
          -121.937908,
          -121.9263624,
          -121.9302113,
          -122.0154346,
          -121.9881722,
          -122.0417246,
          -122.0502465,
          -122.0555021,
          -122.0329924,
          -122.0235793,
          -122.0244117,
          -122.0543933,
          -121.9301814,
          -121.9345716,
          -121.9429273
         ],
         "marker": {
          "color": "#FF97FF"
         },
         "mode": "markers",
         "name": "FREMONT",
         "showlegend": true,
         "subplot": "mapbox",
         "type": "scattermapbox"
        },
        {
         "hovertemplate": "City=HAYWARD<br>Latitude=%{lat}<br>Longitude=%{lon}<extra></extra>",
         "lat": [
          37.6841122,
          37.6299665,
          37.6719633,
          37.6761183,
          37.6712509,
          37.6399931,
          37.606108,
          37.6319518,
          37.6273545,
          37.6207763,
          37.642806,
          37.6272674,
          37.6399931,
          37.6247522,
          37.6294389,
          37.6274915,
          37.6327985,
          37.6520837,
          37.6371528,
          37.6269896,
          37.6464211,
          37.6503106,
          37.6831623,
          37.620009,
          37.6493405
         ],
         "legendgroup": "HAYWARD",
         "lon": [
          -122.0592842,
          -122.0695371,
          -122.0790561,
          -122.0933043,
          -122.0970931,
          -122.0913073,
          -122.0927192,
          -122.0686621,
          -122.0803495,
          -122.0366517,
          -122.0749744,
          -122.0841952,
          -122.0913073,
          -122.0846538,
          -122.0838036,
          -122.0798372,
          -122.0606508,
          -122.0961425,
          -122.1029695,
          -122.0973881,
          -122.1095388,
          -122.040423,
          -122.063828,
          -122.072131,
          -122.1170659
         ],
         "marker": {
          "color": "#FECB52"
         },
         "mode": "markers",
         "name": "HAYWARD",
         "showlegend": true,
         "subplot": "mapbox",
         "type": "scattermapbox"
        },
        {
         "hovertemplate": "City=LIVERMORE<br>Latitude=%{lat}<br>Longitude=%{lon}<extra></extra>",
         "lat": [
          37.7113397,
          37.6744371,
          37.6905794,
          37.6641178,
          37.6737048,
          37.6725809,
          37.6814131,
          37.706021,
          37.7214005
         ],
         "legendgroup": "LIVERMORE",
         "lon": [
          -121.750235,
          -121.7670133,
          -121.7861294,
          -121.7748442,
          -121.7286858,
          -121.7638417,
          -121.7834312,
          -121.8055143,
          -121.7289474
         ],
         "marker": {
          "color": "#636efa"
         },
         "mode": "markers",
         "name": "LIVERMORE",
         "showlegend": true,
         "subplot": "mapbox",
         "type": "scattermapbox"
        },
        {
         "hovertemplate": "City=DUBLIN<br>Latitude=%{lat}<br>Longitude=%{lon}<extra></extra>",
         "lat": [
          37.7235325,
          37.7103414,
          37.7164983,
          37.726183,
          37.7179342
         ],
         "legendgroup": "DUBLIN",
         "lon": [
          -121.9313001,
          -121.862109,
          -121.8589773,
          -121.8585269,
          -121.9336713
         ],
         "marker": {
          "color": "#EF553B"
         },
         "mode": "markers",
         "name": "DUBLIN",
         "showlegend": true,
         "subplot": "mapbox",
         "type": "scattermapbox"
        },
        {
         "hovertemplate": "City=PLEASANTON<br>Latitude=%{lat}<br>Longitude=%{lon}<extra></extra>",
         "lat": [
          37.645606,
          37.6674645,
          37.6606719,
          37.6507967,
          37.6945673,
          37.64845425,
          37.6898732,
          37.6938334
         ],
         "legendgroup": "PLEASANTON",
         "lon": [
          -121.9034429,
          -121.8465838,
          -121.8412383,
          -121.8993241,
          -121.8899533,
          -121.8881299,
          -121.8794938,
          -121.8910371
         ],
         "marker": {
          "color": "#00cc96"
         },
         "mode": "markers",
         "name": "PLEASANTON",
         "showlegend": true,
         "subplot": "mapbox",
         "type": "scattermapbox"
        },
        {
         "hovertemplate": "City=EMERYVILLE<br>Latitude=%{lat}<br>Longitude=%{lon}<extra></extra>",
         "lat": [
          37.8381792,
          37.8371158
         ],
         "legendgroup": "EMERYVILLE",
         "lon": [
          -122.2841351,
          -122.2937355
         ],
         "marker": {
          "color": "#ab63fa"
         },
         "mode": "markers",
         "name": "EMERYVILLE",
         "showlegend": true,
         "subplot": "mapbox",
         "type": "scattermapbox"
        },
        {
         "hovertemplate": "City=SAN LORENZO<br>Latitude=%{lat}<br>Longitude=%{lon}<extra></extra>",
         "lat": [
          37.6700588,
          37.6773466,
          37.6754665,
          37.6648921
         ],
         "legendgroup": "SAN LORENZO",
         "lon": [
          -122.1420777,
          -122.1426126,
          -122.1294864,
          -122.1409791
         ],
         "marker": {
          "color": "#FFA15A"
         },
         "mode": "markers",
         "name": "SAN LORENZO",
         "showlegend": true,
         "subplot": "mapbox",
         "type": "scattermapbox"
        },
        {
         "hovertemplate": "City=PIEDMONT<br>Latitude=%{lat}<br>Longitude=%{lon}<extra></extra>",
         "lat": [
          37.82609875
         ],
         "legendgroup": "PIEDMONT",
         "lon": [
          -122.239126
         ],
         "marker": {
          "color": "#19d3f3"
         },
         "mode": "markers",
         "name": "PIEDMONT",
         "showlegend": true,
         "subplot": "mapbox",
         "type": "scattermapbox"
        },
        {
         "hovertemplate": "City=DISCOVERY BAY<br>Latitude=%{lat}<br>Longitude=%{lon}<extra></extra>",
         "lat": [
          37.9115372,
          37.8941793,
          37.9211022,
          37.9569654,
          37.9025696,
          37.8916303,
          37.9078419,
          37.8944977,
          37.9035869,
          37.9217757
         ],
         "legendgroup": "DISCOVERY BAY",
         "lon": [
          -121.5956466,
          -121.5975778,
          -121.6211056,
          -122.0394116,
          -121.5896818,
          -121.5954102,
          -121.6176859,
          -121.6105755,
          -121.6043871,
          -121.6210559
         ],
         "marker": {
          "color": "#FF6692"
         },
         "mode": "markers",
         "name": "DISCOVERY BAY",
         "showlegend": true,
         "subplot": "mapbox",
         "type": "scattermapbox"
        },
        {
         "hovertemplate": "City=BRENTWOOD<br>Latitude=%{lat}<br>Longitude=%{lon}<extra></extra>",
         "lat": [
          37.9319225,
          36.3816584,
          37.9234792,
          37.944649,
          37.9533763,
          37.9639051,
          37.9246038,
          37.939933,
          37.9655811,
          37.9384007,
          37.9326444
         ],
         "legendgroup": "BRENTWOOD",
         "lon": [
          -121.7494748,
          -82.4004815,
          -121.6939622,
          -121.7016186,
          -121.7316601,
          -121.6915372,
          -121.7145708,
          -121.695546,
          -121.7192647,
          -121.6946142,
          -121.7114688
         ],
         "marker": {
          "color": "#B6E880"
         },
         "mode": "markers",
         "name": "BRENTWOOD",
         "showlegend": true,
         "subplot": "mapbox",
         "type": "scattermapbox"
        },
        {
         "hovertemplate": "City=OAKLEY<br>Latitude=%{lat}<br>Longitude=%{lon}<extra></extra>",
         "lat": [
          37.9849606,
          38.0064618,
          37.9884182,
          37.990165,
          38.005638,
          37.9911156,
          37.9886756,
          37.9814941,
          37.9925531,
          37.9916723,
          37.9798209,
          37.9994842,
          37.9878881,
          37.9751693,
          38.005638,
          37.9798209,
          37.9878881
         ],
         "legendgroup": "OAKLEY",
         "lon": [
          -121.7147764,
          -121.7299033,
          -121.7431661,
          -121.6364599,
          -121.7508234,
          -121.7272371,
          -121.7284624,
          -121.7163035,
          -121.6943777,
          -121.6930558,
          -121.7007261,
          -121.7216594,
          -121.7139392,
          -121.6873331,
          -121.7508234,
          -121.7007261,
          -121.7139392
         ],
         "marker": {
          "color": "#FF97FF"
         },
         "mode": "markers",
         "name": "OAKLEY",
         "showlegend": true,
         "subplot": "mapbox",
         "type": "scattermapbox"
        },
        {
         "hovertemplate": "City=ANTIOCH<br>Latitude=%{lat}<br>Longitude=%{lon}<extra></extra>",
         "lat": [
          37.9662848,
          38.0155113,
          37.9710522,
          37.9854335,
          37.9561008,
          37.9985846,
          37.956835,
          38.0038645,
          37.9941324,
          37.9752209,
          37.9999581,
          38.0041356,
          38.0117107,
          38.008521,
          37.9790453,
          37.9643,
          37.9998475,
          37.9985846,
          37.9731573,
          37.9576294,
          37.965647,
          37.9820628,
          37.9598862,
          37.9842124,
          37.9658834,
          38.0034162,
          37.9919393,
          38.0008272,
          37.9793355,
          37.9861868,
          38.0036463,
          37.9590729
         ],
         "legendgroup": "ANTIOCH",
         "lon": [
          -121.7584299,
          -121.8222076,
          -121.8016163,
          -121.8352246,
          -121.7638743,
          -121.8152216,
          -121.8000284,
          -121.7981106,
          -121.7771758,
          -121.7685039,
          -121.7627457,
          -121.8043868,
          -121.8013933,
          -121.7993564,
          -121.7902659,
          -121.752342,
          -121.7885789,
          -121.8152216,
          -121.7725036,
          -121.7570132,
          -121.7922882,
          -121.771285,
          -121.7555214,
          -121.8323031,
          -121.7663066,
          -121.789283,
          -121.7958176,
          -121.8006823,
          -121.8273765,
          -121.8043913,
          -121.8182504,
          -121.7917498
         ],
         "marker": {
          "color": "#FECB52"
         },
         "mode": "markers",
         "name": "ANTIOCH",
         "showlegend": true,
         "subplot": "mapbox",
         "type": "scattermapbox"
        },
        {
         "hovertemplate": "City=PITTSBURG<br>Latitude=%{lat}<br>Longitude=%{lon}<extra></extra>",
         "lat": [
          38.030308,
          38.0064473,
          38.0035548,
          38.011747,
          38.0226543,
          37.9941582,
          38.0108003,
          38.0017128,
          37.9995713,
          37.9984263,
          38.0127072
         ],
         "legendgroup": "PITTSBURG",
         "lon": [
          -121.8883917,
          -121.9498785,
          -121.8909881,
          -121.8959305,
          -121.8965057,
          -121.8775058,
          -121.9622134,
          -121.8716479,
          -121.9064437,
          -121.8759749,
          -121.9648171
         ],
         "marker": {
          "color": "#636efa"
         },
         "mode": "markers",
         "name": "PITTSBURG",
         "showlegend": true,
         "subplot": "mapbox",
         "type": "scattermapbox"
        },
        {
         "hovertemplate": "City=CONCORD<br>Latitude=%{lat}<br>Longitude=%{lon}<extra></extra>",
         "lat": [
          37.9877875,
          37.9481281,
          37.9784546,
          37.9649742,
          37.9397818,
          37.9780768,
          37.9487967,
          37.9459381,
          37.9792525,
          37.9874291,
          37.9632102,
          37.9446982
         ],
         "legendgroup": "CONCORD",
         "lon": [
          -122.0643878,
          -121.9749269,
          -122.037776,
          -121.992544,
          -122.0360539,
          -121.9943115,
          -121.9802796,
          -122.0325264,
          -122.0041197,
          -122.0264493,
          -122.0165355,
          -122.0311849
         ],
         "marker": {
          "color": "#EF553B"
         },
         "mode": "markers",
         "name": "CONCORD",
         "showlegend": true,
         "subplot": "mapbox",
         "type": "scattermapbox"
        },
        {
         "hovertemplate": "City=PLEASANT HILL<br>Latitude=%{lat}<br>Longitude=%{lon}<extra></extra>",
         "lat": [
          37.9713373,
          37.9457602,
          37.9708684,
          37.9713373,
          37.9390005
         ],
         "legendgroup": "PLEASANT HILL",
         "lon": [
          -122.0925157,
          -122.0705487,
          -122.0986678,
          -122.0925157,
          -122.0716695
         ],
         "marker": {
          "color": "#00cc96"
         },
         "mode": "markers",
         "name": "PLEASANT HILL",
         "showlegend": true,
         "subplot": "mapbox",
         "type": "scattermapbox"
        },
        {
         "hovertemplate": "City=WALNUT CREEK<br>Latitude=%{lat}<br>Longitude=%{lon}<extra></extra>",
         "lat": [
          37.9026535,
          37.9242335,
          37.9263451,
          37.930743,
          37.9012287,
          37.9026535,
          37.9122472,
          37.8994311,
          37.9122472
         ],
         "legendgroup": "WALNUT CREEK",
         "lon": [
          -122.0545301,
          -122.0210642,
          -122.061011,
          -122.0116262,
          -122.0806348,
          -122.0545301,
          -122.0599719,
          -122.0521893,
          -122.0599719
         ],
         "marker": {
          "color": "#ab63fa"
         },
         "mode": "markers",
         "name": "WALNUT CREEK",
         "showlegend": true,
         "subplot": "mapbox",
         "type": "scattermapbox"
        },
        {
         "hovertemplate": "City=ALAMO<br>Latitude=%{lat}<br>Longitude=%{lon}<extra></extra>",
         "lat": [
          37.8678091,
          37.8403326,
          37.860925
         ],
         "legendgroup": "ALAMO",
         "lon": [
          -122.0514536,
          -122.0297331,
          -122.037273
         ],
         "marker": {
          "color": "#FFA15A"
         },
         "mode": "markers",
         "name": "ALAMO",
         "showlegend": true,
         "subplot": "mapbox",
         "type": "scattermapbox"
        },
        {
         "hovertemplate": "City=MORAGA<br>Latitude=%{lat}<br>Longitude=%{lon}<extra></extra>",
         "lat": [
          37.8631465,
          37.8575414,
          37.8441975
         ],
         "legendgroup": "MORAGA",
         "lon": [
          -122.1302472,
          -122.1288445,
          -122.1366955
         ],
         "marker": {
          "color": "#19d3f3"
         },
         "mode": "markers",
         "name": "MORAGA",
         "showlegend": true,
         "subplot": "mapbox",
         "type": "scattermapbox"
        },
        {
         "hovertemplate": "City=ORINDA<br>Latitude=%{lat}<br>Longitude=%{lon}<extra></extra>",
         "lat": [
          37.8664553,
          37.883649,
          37.8507545,
          37.8884659
         ],
         "legendgroup": "ORINDA",
         "lon": [
          -122.1531374,
          -122.1919977,
          -122.1661985,
          -122.2004665
         ],
         "marker": {
          "color": "#FF6692"
         },
         "mode": "markers",
         "name": "ORINDA",
         "showlegend": true,
         "subplot": "mapbox",
         "type": "scattermapbox"
        },
        {
         "hovertemplate": "City=PINOLE<br>Latitude=%{lat}<br>Longitude=%{lon}<extra></extra>",
         "lat": [
          37.9862513,
          38.004092,
          37.994725,
          38.0077688,
          38.0069188,
          38.0096153
         ],
         "legendgroup": "PINOLE",
         "lon": [
          -122.2716118,
          -122.2997531,
          -122.2878825,
          -122.3035844,
          -122.3021341,
          -122.2954543
         ],
         "marker": {
          "color": "#B6E880"
         },
         "mode": "markers",
         "name": "PINOLE",
         "showlegend": true,
         "subplot": "mapbox",
         "type": "scattermapbox"
        },
        {
         "hovertemplate": "City=EL SOBRANTE<br>Latitude=%{lat}<br>Longitude=%{lon}<extra></extra>",
         "lat": [
          37.9828087,
          37.9481279,
          37.9821884,
          37.9737637
         ],
         "legendgroup": "EL SOBRANTE",
         "lon": [
          -122.3108961,
          -122.3520858,
          -122.3003615,
          -122.2841306
         ],
         "marker": {
          "color": "#FF97FF"
         },
         "mode": "markers",
         "name": "EL SOBRANTE",
         "showlegend": true,
         "subplot": "mapbox",
         "type": "scattermapbox"
        },
        {
         "hovertemplate": "City=RICHMOND<br>Latitude=%{lat}<br>Longitude=%{lon}<extra></extra>",
         "lat": [
          37.9318513,
          37.9403478,
          37.9540479,
          37.9252423,
          37.9403507,
          37.9115022,
          37.94792515,
          37.9338225,
          37.9368472,
          37.9488405,
          37.9481279,
          37.9368373,
          37.9485162,
          37.9540487,
          37.904994,
          37.9249851,
          37.9302077,
          37.9431987,
          37.9067285,
          37.9366001,
          37.9154915,
          37.9096865
         ],
         "legendgroup": "RICHMOND",
         "lon": [
          -121.9288734,
          -122.3657834,
          -122.366945,
          -122.3466854,
          -122.3653107,
          -122.3430393,
          -122.322647,
          -122.3486226,
          -122.3561981,
          -122.3520816,
          -122.3520858,
          -122.3666821,
          -122.3265923,
          -122.3736572,
          -122.3112992,
          -122.3842432,
          -122.3420114,
          -122.3643426,
          -122.3054009,
          -122.3543708,
          -122.3476322,
          -122.3813985
         ],
         "marker": {
          "color": "#FECB52"
         },
         "mode": "markers",
         "name": "RICHMOND",
         "showlegend": true,
         "subplot": "mapbox",
         "type": "scattermapbox"
        },
        {
         "hovertemplate": "City=CLAYTON<br>Latitude=%{lat}<br>Longitude=%{lon}<extra></extra>",
         "lat": [
          37.9384266
         ],
         "legendgroup": "CLAYTON",
         "lon": [
          -122.3704583
         ],
         "marker": {
          "color": "#636efa"
         },
         "mode": "markers",
         "name": "CLAYTON",
         "showlegend": true,
         "subplot": "mapbox",
         "type": "scattermapbox"
        },
        {
         "hovertemplate": "City=PACHECO<br>Latitude=%{lat}<br>Longitude=%{lon}<extra></extra>",
         "lat": [
          37.9842454,
          37.9863778
         ],
         "legendgroup": "PACHECO",
         "lon": [
          -122.0714054,
          -122.0764405
         ],
         "marker": {
          "color": "#EF553B"
         },
         "mode": "markers",
         "name": "PACHECO",
         "showlegend": true,
         "subplot": "mapbox",
         "type": "scattermapbox"
        },
        {
         "hovertemplate": "City=SAN RAMON<br>Latitude=%{lat}<br>Longitude=%{lon}<extra></extra>",
         "lat": [
          37.7383641,
          37.7485725,
          37.7705208,
          37.785965,
          37.7274171
         ],
         "legendgroup": "SAN RAMON",
         "lon": [
          -121.9245684,
          -121.9388437,
          -121.9804181,
          -121.9263239,
          -121.9346576
         ],
         "marker": {
          "color": "#00cc96"
         },
         "mode": "markers",
         "name": "SAN RAMON",
         "showlegend": true,
         "subplot": "mapbox",
         "type": "scattermapbox"
        },
        {
         "hovertemplate": "City=MARTINEZ<br>Latitude=%{lat}<br>Longitude=%{lon}<extra></extra>",
         "lat": [
          37.977287,
          37.9872206,
          37.9934193,
          38.0156263,
          37.9879861
         ],
         "legendgroup": "MARTINEZ",
         "lon": [
          -122.1006937,
          -122.0801198,
          -122.0811436,
          -122.1276776,
          -122.1413708
         ],
         "marker": {
          "color": "#ab63fa"
         },
         "mode": "markers",
         "name": "MARTINEZ",
         "showlegend": true,
         "subplot": "mapbox",
         "type": "scattermapbox"
        },
        {
         "hovertemplate": "City=DANVILLE<br>Latitude=%{lat}<br>Longitude=%{lon}<extra></extra>",
         "lat": [
          37.7996597,
          37.8193372,
          37.82298,
          37.8295551,
          37.793132,
          37.7962659,
          37.8167385,
          37.8010041
         ],
         "legendgroup": "DANVILLE",
         "lon": [
          -121.9040015,
          -121.9954181,
          -121.989865,
          -122.0043476,
          -121.9662112,
          -121.9229957,
          -121.9594488,
          -121.965692
         ],
         "marker": {
          "color": "#FFA15A"
         },
         "mode": "markers",
         "name": "DANVILLE",
         "showlegend": true,
         "subplot": "mapbox",
         "type": "scattermapbox"
        },
        {
         "hovertemplate": "City=LAFAYETTE<br>Latitude=%{lat}<br>Longitude=%{lon}<extra></extra>",
         "lat": [
          37.9251369,
          37.8935196,
          37.892852
         ],
         "legendgroup": "LAFAYETTE",
         "lon": [
          -122.1061224,
          -122.1102862,
          -122.0832723
         ],
         "marker": {
          "color": "#19d3f3"
         },
         "mode": "markers",
         "name": "LAFAYETTE",
         "showlegend": true,
         "subplot": "mapbox",
         "type": "scattermapbox"
        },
        {
         "hovertemplate": "City=EL CERRITO<br>Latitude=%{lat}<br>Longitude=%{lon}<extra></extra>",
         "lat": [
          37.9173895,
          37.9321043,
          37.900754,
          37.9382934
         ],
         "legendgroup": "EL CERRITO",
         "lon": [
          -122.2909882,
          -122.2999132,
          -122.3049231,
          -122.3130823
         ],
         "marker": {
          "color": "#FF6692"
         },
         "mode": "markers",
         "name": "EL CERRITO",
         "showlegend": true,
         "subplot": "mapbox",
         "type": "scattermapbox"
        },
        {
         "hovertemplate": "City=HERCULES<br>Latitude=%{lat}<br>Longitude=%{lon}<extra></extra>",
         "lat": [
          38.0163303,
          38.0130883,
          38.0089369,
          38.0148573,
          38.0291784,
          38.0163303,
          37.9978467
         ],
         "legendgroup": "HERCULES",
         "lon": [
          -122.2786439,
          -122.2917808,
          -122.2801628,
          -122.2788226,
          -122.2750997,
          -122.2786439,
          -122.239536
         ],
         "marker": {
          "color": "#B6E880"
         },
         "mode": "markers",
         "name": "HERCULES",
         "showlegend": true,
         "subplot": "mapbox",
         "type": "scattermapbox"
        },
        {
         "hovertemplate": "City=SAN PABLO<br>Latitude=%{lat}<br>Longitude=%{lon}<extra></extra>",
         "lat": [
          37.9534062,
          37.9724316,
          37.95643445,
          37.9593848,
          37.9534062
         ],
         "legendgroup": "SAN PABLO",
         "lon": [
          -122.3513302,
          -122.349131,
          -122.3358557,
          -122.3504976,
          -122.3513302
         ],
         "marker": {
          "color": "#FF97FF"
         },
         "mode": "markers",
         "name": "SAN PABLO",
         "showlegend": true,
         "subplot": "mapbox",
         "type": "scattermapbox"
        },
        {
         "hovertemplate": "City=KENSINGTON<br>Latitude=%{lat}<br>Longitude=%{lon}<extra></extra>",
         "lat": [
          37.9003111
         ],
         "legendgroup": "KENSINGTON",
         "lon": [
          -122.2844894
         ],
         "marker": {
          "color": "#FECB52"
         },
         "mode": "markers",
         "name": "KENSINGTON",
         "showlegend": true,
         "subplot": "mapbox",
         "type": "scattermapbox"
        },
        {
         "hovertemplate": "City=RODEO<br>Latitude=%{lat}<br>Longitude=%{lon}<extra></extra>",
         "lat": [
          38.0268239
         ],
         "legendgroup": "RODEO",
         "lon": [
          -122.25424
         ],
         "marker": {
          "color": "#636efa"
         },
         "mode": "markers",
         "name": "RODEO",
         "showlegend": true,
         "subplot": "mapbox",
         "type": "scattermapbox"
        },
        {
         "hovertemplate": "City=CORTE MADERA<br>Latitude=%{lat}<br>Longitude=%{lon}<extra></extra>",
         "lat": [
          37.9226328
         ],
         "legendgroup": "CORTE MADERA",
         "lon": [
          -122.4992802
         ],
         "marker": {
          "color": "#EF553B"
         },
         "mode": "markers",
         "name": "CORTE MADERA",
         "showlegend": true,
         "subplot": "mapbox",
         "type": "scattermapbox"
        },
        {
         "hovertemplate": "City=MILL VALLEY<br>Latitude=%{lat}<br>Longitude=%{lon}<extra></extra>",
         "lat": [
          37.9128256,
          37.9168687,
          37.9122962,
          37.8922685
         ],
         "legendgroup": "MILL VALLEY",
         "lon": [
          -122.5187823,
          -122.5538448,
          -122.5399077,
          -122.5200138
         ],
         "marker": {
          "color": "#00cc96"
         },
         "mode": "markers",
         "name": "MILL VALLEY",
         "showlegend": true,
         "subplot": "mapbox",
         "type": "scattermapbox"
        },
        {
         "hovertemplate": "City=NOVATO<br>Latitude=%{lat}<br>Longitude=%{lon}<extra></extra>",
         "lat": [
          38.0713645,
          38.07984,
          38.0746398,
          38.1192579,
          38.1059389,
          38.0997681,
          38.1043131,
          38.0877895
         ],
         "legendgroup": "NOVATO",
         "lon": [
          -122.5380196,
          -122.5558017,
          -122.5647352,
          -122.6042712,
          -122.5825234,
          -122.5777496,
          -122.5716066,
          -122.5685431
         ],
         "marker": {
          "color": "#ab63fa"
         },
         "mode": "markers",
         "name": "NOVATO",
         "showlegend": true,
         "subplot": "mapbox",
         "type": "scattermapbox"
        },
        {
         "hovertemplate": "City=SAN ANSELMO<br>Latitude=%{lat}<br>Longitude=%{lon}<extra></extra>",
         "lat": [
          37.9714085,
          37.9949562
         ],
         "legendgroup": "SAN ANSELMO",
         "lon": [
          -122.5653279,
          -122.5769357
         ],
         "marker": {
          "color": "#FFA15A"
         },
         "mode": "markers",
         "name": "SAN ANSELMO",
         "showlegend": true,
         "subplot": "mapbox",
         "type": "scattermapbox"
        },
        {
         "hovertemplate": "City=SAN RAFAEL<br>Latitude=%{lat}<br>Longitude=%{lon}<extra></extra>",
         "lat": [
          37.9644432,
          38.019446,
          37.9866437,
          37.9735598,
          37.9988272,
          37.9751301,
          37.9733278,
          37.9865268,
          38.0069229,
          37.9719018,
          37.9816984,
          38.0096631,
          38.0034037
         ],
         "legendgroup": "SAN RAFAEL",
         "lon": [
          -122.4964339,
          -122.5367283,
          -122.5365133,
          -122.532427,
          -122.5497652,
          -122.5016276,
          -122.4965409,
          -122.5127259,
          -122.562819,
          -122.5379295,
          -122.5216192,
          -122.5489424,
          -122.5483138
         ],
         "marker": {
          "color": "#19d3f3"
         },
         "mode": "markers",
         "name": "SAN RAFAEL",
         "showlegend": true,
         "subplot": "mapbox",
         "type": "scattermapbox"
        },
        {
         "hovertemplate": "City=FAIRFAX<br>Latitude=%{lat}<br>Longitude=%{lon}<extra></extra>",
         "lat": [
          37.9841726,
          38.002065,
          37.9850224
         ],
         "legendgroup": "FAIRFAX",
         "lon": [
          -122.5936909,
          -122.6035144,
          -122.5950105
         ],
         "marker": {
          "color": "#FF6692"
         },
         "mode": "markers",
         "name": "FAIRFAX",
         "showlegend": true,
         "subplot": "mapbox",
         "type": "scattermapbox"
        },
        {
         "hovertemplate": "City=TIBURON<br>Latitude=%{lat}<br>Longitude=%{lon}<extra></extra>",
         "lat": [
          37.8730004,
          37.8730004
         ],
         "legendgroup": "TIBURON",
         "lon": [
          -122.4527133,
          -122.4527133
         ],
         "marker": {
          "color": "#B6E880"
         },
         "mode": "markers",
         "name": "TIBURON",
         "showlegend": true,
         "subplot": "mapbox",
         "type": "scattermapbox"
        },
        {
         "hovertemplate": "City=BELVEDERE<br>Latitude=%{lat}<br>Longitude=%{lon}<extra></extra>",
         "lat": [
          37.8742659
         ],
         "legendgroup": "BELVEDERE",
         "lon": [
          -122.4696283
         ],
         "marker": {
          "color": "#FF97FF"
         },
         "mode": "markers",
         "name": "BELVEDERE",
         "showlegend": true,
         "subplot": "mapbox",
         "type": "scattermapbox"
        },
        {
         "hovertemplate": "City=BOLINAS<br>Latitude=%{lat}<br>Longitude=%{lon}<extra></extra>",
         "lat": [
          37.918225
         ],
         "legendgroup": "BOLINAS",
         "lon": [
          -122.713097
         ],
         "marker": {
          "color": "#FECB52"
         },
         "mode": "markers",
         "name": "BOLINAS",
         "showlegend": true,
         "subplot": "mapbox",
         "type": "scattermapbox"
        },
        {
         "hovertemplate": "City=GREENBRAE<br>Latitude=%{lat}<br>Longitude=%{lon}<extra></extra>",
         "lat": [
          37.937924
         ],
         "legendgroup": "GREENBRAE",
         "lon": [
          -122.520586
         ],
         "marker": {
          "color": "#636efa"
         },
         "mode": "markers",
         "name": "GREENBRAE",
         "showlegend": true,
         "subplot": "mapbox",
         "type": "scattermapbox"
        },
        {
         "hovertemplate": "City=DILLON BEACH<br>Latitude=%{lat}<br>Longitude=%{lon}<extra></extra>",
         "lat": [
          38.250807
         ],
         "legendgroup": "DILLON BEACH",
         "lon": [
          -122.9635453
         ],
         "marker": {
          "color": "#EF553B"
         },
         "mode": "markers",
         "name": "DILLON BEACH",
         "showlegend": true,
         "subplot": "mapbox",
         "type": "scattermapbox"
        },
        {
         "hovertemplate": "City=SAUSALITO<br>Latitude=%{lat}<br>Longitude=%{lon}<extra></extra>",
         "lat": [
          37.8601475
         ],
         "legendgroup": "SAUSALITO",
         "lon": [
          -122.4956126
         ],
         "marker": {
          "color": "#00cc96"
         },
         "mode": "markers",
         "name": "SAUSALITO",
         "showlegend": true,
         "subplot": "mapbox",
         "type": "scattermapbox"
        },
        {
         "hovertemplate": "City=LARKSPUR<br>Latitude=%{lat}<br>Longitude=%{lon}<extra></extra>",
         "lat": [
          37.9278315
         ],
         "legendgroup": "LARKSPUR",
         "lon": [
          -122.5345224
         ],
         "marker": {
          "color": "#ab63fa"
         },
         "mode": "markers",
         "name": "LARKSPUR",
         "showlegend": true,
         "subplot": "mapbox",
         "type": "scattermapbox"
        },
        {
         "hovertemplate": "City=NAPA<br>Latitude=%{lat}<br>Longitude=%{lon}<extra></extra>",
         "lat": [
          38.2914669,
          38.3381257,
          38.3173418,
          38.6078148,
          38.3020342,
          38.3354723,
          38.3180877,
          38.3389896,
          38.2912163,
          38.3085506,
          38.286556,
          38.3233699,
          38.3180877,
          38.313911,
          38.286556,
          38.421552,
          38.2760673,
          38.3061464
         ],
         "legendgroup": "NAPA",
         "lon": [
          -122.2829929,
          -122.3199026,
          -122.312012,
          -122.2784958,
          -122.2746002,
          -122.3123743,
          -122.3267307,
          -122.3149724,
          -122.2930375,
          -122.2862598,
          -122.2747543,
          -122.3184457,
          -122.3267307,
          -122.2758336,
          -122.2747543,
          -122.418987,
          -122.2945802,
          -122.3062376
         ],
         "marker": {
          "color": "#FFA15A"
         },
         "mode": "markers",
         "name": "NAPA",
         "showlegend": true,
         "subplot": "mapbox",
         "type": "scattermapbox"
        },
        {
         "hovertemplate": "City=AMERICAN CANYON<br>Latitude=%{lat}<br>Longitude=%{lon}<extra></extra>",
         "lat": [
          38.1729794,
          38.2025657,
          38.1595736,
          38.1688418,
          38.1794266
         ],
         "legendgroup": "AMERICAN CANYON",
         "lon": [
          -122.2619215,
          -122.2932326,
          -122.2417641,
          -122.2606002,
          -122.2669052
         ],
         "marker": {
          "color": "#19d3f3"
         },
         "mode": "markers",
         "name": "AMERICAN CANYON",
         "showlegend": true,
         "subplot": "mapbox",
         "type": "scattermapbox"
        },
        {
         "hovertemplate": "City=SAINT HELENA<br>Latitude=%{lat}<br>Longitude=%{lon}<extra></extra>",
         "lat": [
          38.5003695
         ],
         "legendgroup": "SAINT HELENA",
         "lon": [
          -122.4780789
         ],
         "marker": {
          "color": "#FF6692"
         },
         "mode": "markers",
         "name": "SAINT HELENA",
         "showlegend": true,
         "subplot": "mapbox",
         "type": "scattermapbox"
        },
        {
         "hovertemplate": "City=Unknown<br>Latitude=%{lat}<br>Longitude=%{lon}<extra></extra>",
         "lat": [
          45.9505675,
          45.9505675,
          45.9505675,
          45.9505675,
          45.9505675,
          45.9505675,
          45.9505675
         ],
         "legendgroup": "Unknown",
         "lon": [
          -62.7476236,
          -62.7476236,
          -62.7476236,
          -62.7476236,
          -62.7476236,
          -62.7476236,
          -62.7476236
         ],
         "marker": {
          "color": "#B6E880"
         },
         "mode": "markers",
         "name": "Unknown",
         "showlegend": true,
         "subplot": "mapbox",
         "type": "scattermapbox"
        },
        {
         "hovertemplate": "City=DALY CITY<br>Latitude=%{lat}<br>Longitude=%{lon}<extra></extra>",
         "lat": [
          37.6719303,
          37.7037165,
          37.6655221,
          37.6262252,
          37.7061188,
          37.6994637,
          37.6876836,
          37.6573755,
          37.7080402,
          37.678223,
          37.7063408,
          37.6763184,
          37.6644424,
          37.2196828,
          37.7037165,
          37.6262252,
          37.7061188,
          37.6994637,
          37.6876836,
          37.6946294,
          37.6573755,
          37.7080402,
          37.678223,
          37.7063408,
          37.6763184
         ],
         "legendgroup": "DALY CITY",
         "lon": [
          -122.4810499,
          -122.4243757,
          -122.4633994,
          -122.441989,
          -122.4677624,
          -122.4698886,
          -122.4889016,
          -122.4713561,
          -122.450713,
          -122.4869135,
          -122.4132569,
          -122.4782899,
          -122.4559925,
          -121.950506,
          -122.4243757,
          -122.441989,
          -122.4677624,
          -122.4698886,
          -122.4889016,
          -122.4578354,
          -122.4713561,
          -122.450713,
          -122.4869135,
          -122.4132569,
          -122.4782899
         ],
         "marker": {
          "color": "#FF97FF"
         },
         "mode": "markers",
         "name": "DALY CITY",
         "showlegend": true,
         "subplot": "mapbox",
         "type": "scattermapbox"
        },
        {
         "hovertemplate": "City=SAN BRUNO<br>Latitude=%{lat}<br>Longitude=%{lon}<extra></extra>",
         "lat": [
          37.628285,
          37.631227,
          37.708215,
          37.6279865,
          37.6357465,
          37.6258586,
          37.6294522,
          37.6287555,
          37.6219271,
          37.6719303,
          37.3305519,
          37.3059602,
          37.6279865,
          37.6357465,
          37.6258586,
          37.6294522,
          37.6287555,
          37.6219271
         ],
         "legendgroup": "SAN BRUNO",
         "lon": [
          -122.4092442,
          -122.4559123,
          -122.452347,
          -122.4153095,
          -122.4535308,
          -122.4508665,
          -122.4403901,
          -122.4561698,
          -122.425692,
          -122.4810499,
          -121.9039717,
          -121.7817889,
          -122.4153095,
          -122.4535308,
          -122.4508665,
          -122.4403901,
          -122.4561698,
          -122.425692
         ],
         "marker": {
          "color": "#FECB52"
         },
         "mode": "markers",
         "name": "SAN BRUNO",
         "showlegend": true,
         "subplot": "mapbox",
         "type": "scattermapbox"
        },
        {
         "hovertemplate": "City=BELMONT<br>Latitude=%{lat}<br>Longitude=%{lon}<extra></extra>",
         "lat": [
          37.5194838,
          37.5277926,
          37.631227,
          37.5277926
         ],
         "legendgroup": "BELMONT",
         "lon": [
          -122.2823267,
          -122.2787112,
          -122.4559123,
          -122.2787112
         ],
         "marker": {
          "color": "#636efa"
         },
         "mode": "markers",
         "name": "BELMONT",
         "showlegend": true,
         "subplot": "mapbox",
         "type": "scattermapbox"
        },
        {
         "hovertemplate": "City=SAN CARLOS<br>Latitude=%{lat}<br>Longitude=%{lon}<extra></extra>",
         "lat": [
          37.4598119,
          37.5194838
         ],
         "legendgroup": "SAN CARLOS",
         "lon": [
          -122.1943642,
          -122.2823267
         ],
         "marker": {
          "color": "#EF553B"
         },
         "mode": "markers",
         "name": "SAN CARLOS",
         "showlegend": true,
         "subplot": "mapbox",
         "type": "scattermapbox"
        },
        {
         "hovertemplate": "City=MENLO PARK<br>Latitude=%{lat}<br>Longitude=%{lon}<extra></extra>",
         "lat": [
          37.5096514,
          37.4565377,
          37.4369106,
          37.5354629,
          37.5096514,
          37.4565377,
          37.4369106,
          37.4479181
         ],
         "legendgroup": "MENLO PARK",
         "lon": [
          -122.2799249,
          -122.1885987,
          -122.1956344,
          -122.3427965,
          -122.2799249,
          -122.1885987,
          -122.1956344,
          -122.1731764
         ],
         "marker": {
          "color": "#00cc96"
         },
         "mode": "markers",
         "name": "MENLO PARK",
         "showlegend": true,
         "subplot": "mapbox",
         "type": "scattermapbox"
        },
        {
         "hovertemplate": "City=EAST PALO ALTO<br>Latitude=%{lat}<br>Longitude=%{lon}<extra></extra>",
         "lat": [
          37.4648341,
          37.473661,
          37.5511079,
          37.4618034,
          37.4772698,
          37.4706406,
          37.4719506,
          37.4656621,
          37.4772698,
          37.4703529,
          37.4656621,
          37.4656621,
          37.4729689,
          37.4717564,
          37.4772698,
          37.4598119,
          37.473661,
          37.5546943,
          37.2569346,
          37.5744975,
          37.5842528,
          37.4772698,
          37.4656621,
          37.4703529,
          37.4656621,
          37.4656621,
          37.4729689,
          37.4717564,
          37.4772698
         ],
         "legendgroup": "EAST PALO ALTO",
         "lon": [
          -122.1503873,
          -122.1389049,
          -122.2552747,
          -122.138141,
          -122.135444,
          -122.1417445,
          -122.1519599,
          -122.1434177,
          -122.135444,
          -122.150003,
          -122.1434177,
          -122.1434177,
          -122.1526987,
          -122.1533092,
          -122.135444,
          -122.1943642,
          -122.1389049,
          -122.292237,
          -121.8177384,
          -122.3813177,
          -122.3663781,
          -122.135444,
          -122.1434177,
          -122.150003,
          -122.1434177,
          -122.1434177,
          -122.1526987,
          -122.1533092,
          -122.135444
         ],
         "marker": {
          "color": "#ab63fa"
         },
         "mode": "markers",
         "name": "EAST PALO ALTO",
         "showlegend": true,
         "subplot": "mapbox",
         "type": "scattermapbox"
        },
        {
         "hovertemplate": "City=SAN MATEO<br>Latitude=%{lat}<br>Longitude=%{lon}<extra></extra>",
         "lat": [
          37.5546943,
          37.5830558,
          37.5634899,
          37.560728,
          37.4645362,
          37.5511079,
          37.3270736,
          37.4772698,
          37.5294919,
          37.5634899,
          37.5612492
         ],
         "legendgroup": "SAN MATEO",
         "lon": [
          -122.292237,
          -122.3614222,
          -122.2965416,
          -122.3711401,
          -122.1489006,
          -122.2552747,
          -122.3559464,
          -122.135444,
          -122.2968932,
          -122.2965416,
          -122.3088034
         ],
         "marker": {
          "color": "#FFA15A"
         },
         "mode": "markers",
         "name": "SAN MATEO",
         "showlegend": true,
         "subplot": "mapbox",
         "type": "scattermapbox"
        },
        {
         "hovertemplate": "City=FOSTER CITY<br>Latitude=%{lat}<br>Longitude=%{lon}<extra></extra>",
         "lat": [
          37.4645362,
          37.3739555
         ],
         "legendgroup": "FOSTER CITY",
         "lon": [
          -122.1489006,
          -122.1106515
         ],
         "marker": {
          "color": "#19d3f3"
         },
         "mode": "markers",
         "name": "FOSTER CITY",
         "showlegend": true,
         "subplot": "mapbox",
         "type": "scattermapbox"
        },
        {
         "hovertemplate": "City=BURLINGAME<br>Latitude=%{lat}<br>Longitude=%{lon}<extra></extra>",
         "lat": [
          37.5369183,
          37.5744975,
          37.5842528,
          37.5369183,
          37.597147
         ],
         "legendgroup": "BURLINGAME",
         "lon": [
          -122.2976707,
          -122.3813177,
          -122.3663781,
          -122.2976707,
          -122.5003609
         ],
         "marker": {
          "color": "#FF6692"
         },
         "mode": "markers",
         "name": "BURLINGAME",
         "showlegend": true,
         "subplot": "mapbox",
         "type": "scattermapbox"
        },
        {
         "hovertemplate": "City=SAN GREGORIO<br>Latitude=%{lat}<br>Longitude=%{lon}<extra></extra>",
         "lat": [
          37.3270736,
          37.5830558
         ],
         "legendgroup": "SAN GREGORIO",
         "lon": [
          -122.3559464,
          -122.3614222
         ],
         "marker": {
          "color": "#B6E880"
         },
         "mode": "markers",
         "name": "SAN GREGORIO",
         "showlegend": true,
         "subplot": "mapbox",
         "type": "scattermapbox"
        },
        {
         "hovertemplate": "City=SOUTH SAN FRANCISCO<br>Latitude=%{lat}<br>Longitude=%{lon}<extra></extra>",
         "lat": [
          37.6401748,
          37.5920624,
          37.5981374,
          37.6946294,
          37.6464717,
          37.6540441,
          37.6442435,
          37.6599672,
          37.667267,
          37.4648341,
          37.2904519,
          37.6533802,
          37.6425076,
          37.6464717,
          37.6540441,
          37.6442435,
          37.6599672,
          37.667267,
          37.6644424,
          37.6698644
         ],
         "legendgroup": "SOUTH SAN FRANCISCO",
         "lon": [
          -122.4320398,
          -122.4013802,
          -122.3961787,
          -122.4578354,
          -122.4604361,
          -122.4487565,
          -122.3980377,
          -122.4084537,
          -122.4163783,
          -122.1503873,
          -121.8354229,
          -122.4515611,
          -122.4399294,
          -122.4604361,
          -122.4487565,
          -122.3980377,
          -122.4084537,
          -122.4163783,
          -122.4559925,
          -122.4094453
         ],
         "marker": {
          "color": "#FF97FF"
         },
         "mode": "markers",
         "name": "SOUTH SAN FRANCISCO",
         "showlegend": true,
         "subplot": "mapbox",
         "type": "scattermapbox"
        },
        {
         "hovertemplate": "City=ATHERTON<br>Latitude=%{lat}<br>Longitude=%{lon}<extra></extra>",
         "lat": [
          37.4538784,
          37.4513324,
          37.4538784,
          37.4513324
         ],
         "legendgroup": "ATHERTON",
         "lon": [
          -122.1834443,
          -122.2080403,
          -122.1834443,
          -122.2080403
         ],
         "marker": {
          "color": "#FECB52"
         },
         "mode": "markers",
         "name": "ATHERTON",
         "showlegend": true,
         "subplot": "mapbox",
         "type": "scattermapbox"
        },
        {
         "hovertemplate": "City=PACIFICA<br>Latitude=%{lat}<br>Longitude=%{lon}<extra></extra>",
         "lat": [
          37.5883257,
          37.597147,
          37.6457361,
          37.645134,
          37.708215,
          37.5883257,
          37.6457361,
          37.645134
         ],
         "legendgroup": "PACIFICA",
         "lon": [
          -122.4976787,
          -122.5003609,
          -122.4754542,
          -122.4716614,
          -122.452347,
          -122.4976787,
          -122.4754542,
          -122.4716614
         ],
         "marker": {
          "color": "#636efa"
         },
         "mode": "markers",
         "name": "PACIFICA",
         "showlegend": true,
         "subplot": "mapbox",
         "type": "scattermapbox"
        },
        {
         "hovertemplate": "City=MILLBRAE<br>Latitude=%{lat}<br>Longitude=%{lon}<extra></extra>",
         "lat": [
          37.6533802,
          37.6425076,
          37.6071431,
          37.5920624,
          37.5981374,
          37.6071431
         ],
         "legendgroup": "MILLBRAE",
         "lon": [
          -122.4515611,
          -122.4399294,
          -122.4048902,
          -122.4013802,
          -122.3961787,
          -122.4048902
         ],
         "marker": {
          "color": "#EF553B"
         },
         "mode": "markers",
         "name": "MILLBRAE",
         "showlegend": true,
         "subplot": "mapbox",
         "type": "scattermapbox"
        },
        {
         "hovertemplate": "City=EL GRANADA<br>Latitude=%{lat}<br>Longitude=%{lon}<extra></extra>",
         "lat": [
          37.53329215
         ],
         "legendgroup": "EL GRANADA",
         "lon": [
          -122.2548412
         ],
         "marker": {
          "color": "#00cc96"
         },
         "mode": "markers",
         "name": "EL GRANADA",
         "showlegend": true,
         "subplot": "mapbox",
         "type": "scattermapbox"
        },
        {
         "hovertemplate": "City=REDWOOD CITY<br>Latitude=%{lat}<br>Longitude=%{lon}<extra></extra>",
         "lat": [
          37.486828,
          37.5294919,
          37.4867667,
          37.4784005,
          37.442425,
          37.4700038,
          37.53329215,
          37.486828,
          37.4867667,
          37.4784005,
          37.5287964,
          37.4700038
         ],
         "legendgroup": "REDWOOD CITY",
         "lon": [
          -122.2462495,
          -122.2968932,
          -122.2237374,
          -122.2018083,
          -122.241034,
          -122.2154054,
          -122.2548412,
          -122.2462495,
          -122.2237374,
          -122.2018083,
          -122.2457553,
          -122.2154054
         ],
         "marker": {
          "color": "#ab63fa"
         },
         "mode": "markers",
         "name": "REDWOOD CITY",
         "showlegend": true,
         "subplot": "mapbox",
         "type": "scattermapbox"
        },
        {
         "hovertemplate": "City=WOODSIDE<br>Latitude=%{lat}<br>Longitude=%{lon}<extra></extra>",
         "lat": [
          37.530924,
          37.5287964,
          37.4468755,
          37.4382833,
          37.442425,
          37.4468755
         ],
         "legendgroup": "WOODSIDE",
         "lon": [
          -122.516794,
          -122.2457553,
          -122.2480182,
          -122.2568786,
          -122.241034,
          -122.2480182
         ],
         "marker": {
          "color": "#FFA15A"
         },
         "mode": "markers",
         "name": "WOODSIDE",
         "showlegend": true,
         "subplot": "mapbox",
         "type": "scattermapbox"
        },
        {
         "hovertemplate": "City=MOSS BEACH<br>Latitude=%{lat}<br>Longitude=%{lon}<extra></extra>",
         "lat": [
          37.4382833,
          37.530924
         ],
         "legendgroup": "MOSS BEACH",
         "lon": [
          -122.2568786,
          -122.516794
         ],
         "marker": {
          "color": "#19d3f3"
         },
         "mode": "markers",
         "name": "MOSS BEACH",
         "showlegend": true,
         "subplot": "mapbox",
         "type": "scattermapbox"
        },
        {
         "hovertemplate": "City=BRISBANE<br>Latitude=%{lat}<br>Longitude=%{lon}<extra></extra>",
         "lat": [
          37.6916095,
          37.6791686,
          37.6916095,
          37.6791686
         ],
         "legendgroup": "BRISBANE",
         "lon": [
          -122.4097888,
          -122.3955333,
          -122.4097888,
          -122.3955333
         ],
         "marker": {
          "color": "#FF6692"
         },
         "mode": "markers",
         "name": "BRISBANE",
         "showlegend": true,
         "subplot": "mapbox",
         "type": "scattermapbox"
        },
        {
         "hovertemplate": "City=HALF MOON BAY<br>Latitude=%{lat}<br>Longitude=%{lon}<extra></extra>",
         "lat": [
          37.4534496,
          37.4534496,
          37.43722,
          37.4706406,
          37.4534496,
          37.4534496,
          37.43722
         ],
         "legendgroup": "HALF MOON BAY",
         "lon": [
          -122.4331591,
          -122.4331591,
          -122.4356122,
          -122.1417445,
          -122.4331591,
          -122.4331591,
          -122.4356122
         ],
         "marker": {
          "color": "#B6E880"
         },
         "mode": "markers",
         "name": "HALF MOON BAY",
         "showlegend": true,
         "subplot": "mapbox",
         "type": "scattermapbox"
        },
        {
         "hovertemplate": "City=MONTARA<br>Latitude=%{lat}<br>Longitude=%{lon}<extra></extra>",
         "lat": [
          37.5406812,
          37.5406812
         ],
         "legendgroup": "MONTARA",
         "lon": [
          -122.5056099,
          -122.5056099
         ],
         "marker": {
          "color": "#FF97FF"
         },
         "mode": "markers",
         "name": "MONTARA",
         "showlegend": true,
         "subplot": "mapbox",
         "type": "scattermapbox"
        },
        {
         "hovertemplate": "City=HILLSBOROUGH<br>Latitude=%{lat}<br>Longitude=%{lon}<extra></extra>",
         "lat": [
          37.5612492,
          37.6698644,
          37.560728,
          37.5354629
         ],
         "legendgroup": "HILLSBOROUGH",
         "lon": [
          -122.3088034,
          -122.4094453,
          -122.3711401,
          -122.3427965
         ],
         "marker": {
          "color": "#FECB52"
         },
         "mode": "markers",
         "name": "HILLSBOROUGH",
         "showlegend": true,
         "subplot": "mapbox",
         "type": "scattermapbox"
        },
        {
         "hovertemplate": "City=SUNNYVALE<br>Latitude=%{lat}<br>Longitude=%{lon}<extra></extra>",
         "lat": [
          37.4479181,
          37.3708115,
          37.3872911,
          37.38884695,
          37.35639085,
          37.3553263,
          37.3376839,
          37.3922731,
          37.37096405,
          37.3815582
         ],
         "legendgroup": "SUNNYVALE",
         "lon": [
          -122.1731764,
          -122.0642641,
          -122.0311437,
          -122.0050872,
          -122.0384519,
          -122.0235153,
          -122.0183715,
          -122.0125353,
          -122.0360376,
          -122.0162874
         ],
         "marker": {
          "color": "#636efa"
         },
         "mode": "markers",
         "name": "SUNNYVALE",
         "showlegend": true,
         "subplot": "mapbox",
         "type": "scattermapbox"
        },
        {
         "hovertemplate": "City=SAN JOSE<br>Latitude=%{lat}<br>Longitude=%{lon}<extra></extra>",
         "lat": [
          37.3638561,
          37.2474383,
          37.628285,
          37.3628642,
          37.3270349,
          37.3073342,
          37.3748387,
          37.3122123,
          37.2274652,
          37.31151475,
          37.3242887,
          37.2190415,
          37.6401748,
          37.2489101,
          37.3534932,
          37.2511072,
          40.30655,
          37.2733393,
          37.2379468,
          37.2631089,
          37.3232608,
          37.3628642,
          37.1211683,
          37.3088944,
          37.313383,
          37.3209172,
          37.3465469,
          37.2883499,
          37.2523074,
          37.3487551,
          37.330906,
          37.3217697,
          37.3614732,
          37.2519664,
          37.265025,
          37.324675,
          37.3446934,
          37.3534932,
          37.3173736,
          37.3178194,
          37.3909042,
          37.3910928,
          37.3068419,
          37.230084,
          37.2825136,
          37.305775,
          37.2184915,
          37.2700661,
          37.2914013,
          37.2927536,
          37.2779776,
          37.2292422,
          37.3847011,
          37.36195475,
          37.2463229,
          37.3968871,
          37.3770258,
          37.4108251,
          37.4004593,
          37.3724122,
          37.3271769,
          37.3291004,
          37.3196761,
          37.2379468,
          37.3640919,
          37.2513994,
          37.3352232,
          37.3281138,
          37.2309859,
          37.4107034,
          37.4024942,
          37.3736939,
          37.3652254,
          37.2755848,
          37.3847907,
          37.2643456,
          37.2604066,
          37.2292422,
          37.2280775,
          37.2817562,
          37.3183448,
          37.3281011,
          37.3614732,
          37.2812991,
          37.2623343,
          37.3863646,
          37.3323068,
          37.3121202,
          37.3231372,
          37.3488364,
          37.3043418,
          37.3017722,
          37.3591192,
          37.3662501,
          40.305994,
          37.3174619,
          37.2364532,
          37.3586186,
          37.3652254,
          37.3175037,
          37.2489566,
          37.3065292,
          37.3054844,
          37.289062,
          37.3753474,
          37.2953481,
          37.3090662,
          37.2969321,
          37.304495,
          37.2412158,
          37.3108594,
          37.2894819,
          37.2703616,
          37.3143836,
          37.2424564,
          37.2545784,
          37.3511271
         ],
         "legendgroup": "SAN JOSE",
         "lon": [
          -122.048307,
          -121.9041455,
          -122.4092442,
          -121.8342028,
          -121.9502027,
          -121.925742,
          -121.835388,
          -121.7977006,
          -121.7817773,
          -121.9981923,
          -121.8380938,
          -121.8477207,
          -122.4320398,
          -121.9549055,
          -121.8419088,
          -121.7717225,
          -89.605351,
          -121.9350822,
          -121.8865862,
          -121.9367162,
          -121.789797,
          -121.8342028,
          -121.6554694,
          -121.8935668,
          -122.0113018,
          -121.9481582,
          -121.9441994,
          -121.9109712,
          -121.844282,
          -121.8640784,
          -121.8414038,
          -121.9480922,
          -121.8397371,
          -121.9058706,
          -121.8987461,
          -121.8719586,
          -121.8594704,
          -121.8419088,
          -121.8159118,
          -121.8179944,
          -121.8075231,
          -121.807207,
          -121.8036004,
          -121.8680111,
          -121.858344,
          -121.7734244,
          -121.8592239,
          -121.8059647,
          -121.7729432,
          -121.8936849,
          -121.8722387,
          -121.7670383,
          -121.8345925,
          -121.8051119,
          -121.8135881,
          -121.8944701,
          -121.8770387,
          -121.8715737,
          -121.9221736,
          -121.872051,
          -121.9097864,
          -121.9184056,
          -121.9205125,
          -121.8865862,
          -121.8795938,
          -121.8625017,
          -121.8398098,
          -121.8076156,
          -121.7617713,
          -121.8613089,
          -121.8730241,
          -121.8343282,
          -121.8157683,
          -121.8215601,
          -121.8362528,
          -121.8134438,
          -121.8155026,
          -121.7670383,
          -121.7756466,
          -121.7662181,
          -121.7633663,
          -121.903698,
          -121.8397371,
          -121.8579826,
          -121.8262099,
          -121.8667583,
          -121.9192829,
          -121.9415533,
          -121.9543915,
          -121.8885222,
          -121.9490078,
          -121.8724465,
          -121.8468672,
          -121.8347088,
          -89.609046,
          -121.7799369,
          -121.8942691,
          -121.8096356,
          -121.8157683,
          -121.7883957,
          -121.7679888,
          -121.8450388,
          -121.8306703,
          -121.8810308,
          -121.8341603,
          -121.7560074,
          -121.7737022,
          -121.7743508,
          -121.7917662,
          -121.8667777,
          -121.794734,
          -121.8216742,
          -121.765972,
          -121.8004605,
          -121.8458751,
          -121.8502451,
          -121.9016611
         ],
         "marker": {
          "color": "#EF553B"
         },
         "mode": "markers",
         "name": "SAN JOSE",
         "showlegend": true,
         "subplot": "mapbox",
         "type": "scattermapbox"
        },
        {
         "hovertemplate": "City=CUPERTINO<br>Latitude=%{lat}<br>Longitude=%{lon}<extra></extra>",
         "lat": [
          37.3192082,
          37.3098872,
          37.3063953,
          37.3392587
         ],
         "legendgroup": "CUPERTINO",
         "lon": [
          -121.9479626,
          -121.9660689,
          -122.0748324,
          -122.0346488
         ],
         "marker": {
          "color": "#00cc96"
         },
         "mode": "markers",
         "name": "CUPERTINO",
         "showlegend": true,
         "subplot": "mapbox",
         "type": "scattermapbox"
        },
        {
         "hovertemplate": "City=LOS GATOS<br>Latitude=%{lat}<br>Longitude=%{lon}<extra></extra>",
         "lat": [
          37.319962,
          37.4618034,
          37.222893,
          37.2235799,
          37.2622889,
          37.226852
         ],
         "legendgroup": "LOS GATOS",
         "lon": [
          -122.0336021,
          -122.138141,
          -121.9160729,
          -121.9669878,
          -121.9909657,
          -121.998512
         ],
         "marker": {
          "color": "#ab63fa"
         },
         "mode": "markers",
         "name": "LOS GATOS",
         "showlegend": true,
         "subplot": "mapbox",
         "type": "scattermapbox"
        },
        {
         "hovertemplate": "City=LOS ALTOS<br>Latitude=%{lat}<br>Longitude=%{lon}<extra></extra>",
         "lat": [
          37.2692856,
          37.3928588,
          37.3682673
         ],
         "legendgroup": "LOS ALTOS",
         "lon": [
          -121.8017743,
          -122.1057163,
          -122.1121796
         ],
         "marker": {
          "color": "#FFA15A"
         },
         "mode": "markers",
         "name": "LOS ALTOS",
         "showlegend": true,
         "subplot": "mapbox",
         "type": "scattermapbox"
        },
        {
         "hovertemplate": "City=MOUNTAIN VIEW<br>Latitude=%{lat}<br>Longitude=%{lon}<extra></extra>",
         "lat": [
          37.6655221,
          37.4719506,
          37.3884144,
          37.3912795,
          37.3809178,
          37.3649097,
          37.375187
         ],
         "legendgroup": "MOUNTAIN VIEW",
         "lon": [
          -122.4633994,
          -122.1519599,
          -122.0768771,
          -122.0266266,
          -122.0777143,
          -122.0638172,
          -122.059038
         ],
         "marker": {
          "color": "#19d3f3"
         },
         "mode": "markers",
         "name": "MOUNTAIN VIEW",
         "showlegend": true,
         "subplot": "mapbox",
         "type": "scattermapbox"
        },
        {
         "hovertemplate": "City=SANTA CLARA<br>Latitude=%{lat}<br>Longitude=%{lon}<extra></extra>",
         "lat": [
          37.3950133,
          37.4458944,
          37.2708369,
          37.3935456,
          37.395614,
          37.354346,
          37.3452755,
          37.3985313,
          37.3969486,
          37.3470081,
          37.3557937,
          37.3686043,
          37.3470081
         ],
         "legendgroup": "SANTA CLARA",
         "lon": [
          -121.9481552,
          -122.1656966,
          -121.9980955,
          -121.9442042,
          -121.9652276,
          -121.9457396,
          -121.9477369,
          -121.9664301,
          -121.966123,
          -121.9329193,
          -121.9723099,
          -121.9745504,
          -121.9329193
         ],
         "marker": {
          "color": "#FF6692"
         },
         "mode": "markers",
         "name": "SANTA CLARA",
         "showlegend": true,
         "subplot": "mapbox",
         "type": "scattermapbox"
        },
        {
         "hovertemplate": "City=SARATOGA<br>Latitude=%{lat}<br>Longitude=%{lon}<extra></extra>",
         "lat": [
          37.2722119,
          37.2765365,
          37.2883964,
          37.25801,
          37.2840669,
          37.2623892,
          37.2633549,
          37.2562769
         ],
         "legendgroup": "SARATOGA",
         "lon": [
          -121.9591534,
          -121.9272659,
          -121.997103,
          -121.999412,
          -122.0051157,
          -122.031049,
          -121.9928573,
          -122.0400933
         ],
         "marker": {
          "color": "#B6E880"
         },
         "mode": "markers",
         "name": "SARATOGA",
         "showlegend": true,
         "subplot": "mapbox",
         "type": "scattermapbox"
        },
        {
         "hovertemplate": "City=CAMPBELL<br>Latitude=%{lat}<br>Longitude=%{lon}<extra></extra>",
         "lat": [
          37.2471839,
          37.2768005
         ],
         "legendgroup": "CAMPBELL",
         "lon": [
          -122.0090498,
          -121.9731748
         ],
         "marker": {
          "color": "#FF97FF"
         },
         "mode": "markers",
         "name": "CAMPBELL",
         "showlegend": true,
         "subplot": "mapbox",
         "type": "scattermapbox"
        },
        {
         "hovertemplate": "City=MORGAN HILL<br>Latitude=%{lat}<br>Longitude=%{lon}<extra></extra>",
         "lat": [
          37.3203865,
          37.1638333,
          37.1378833,
          37.1352817,
          37.1442757,
          37.1022146
         ],
         "legendgroup": "MORGAN HILL",
         "lon": [
          -121.8033328,
          -121.6479067,
          -121.6109777,
          -121.6439774,
          -121.6418021,
          -121.6651803
         ],
         "marker": {
          "color": "#FECB52"
         },
         "mode": "markers",
         "name": "MORGAN HILL",
         "showlegend": true,
         "subplot": "mapbox",
         "type": "scattermapbox"
        },
        {
         "hovertemplate": "City=SAN MARTIN<br>Latitude=%{lat}<br>Longitude=%{lon}<extra></extra>",
         "lat": [
          37.0894218,
          37.0914119,
          37.0849335
         ],
         "legendgroup": "SAN MARTIN",
         "lon": [
          -121.6088676,
          -121.5920257,
          -121.582308
         ],
         "marker": {
          "color": "#636efa"
         },
         "mode": "markers",
         "name": "SAN MARTIN",
         "showlegend": true,
         "subplot": "mapbox",
         "type": "scattermapbox"
        },
        {
         "hovertemplate": "City=PALO ALTO<br>Latitude=%{lat}<br>Longitude=%{lon}<extra></extra>",
         "lat": [
          37.415734,
          37.4414696,
          37.4444702,
          37.39700365
         ],
         "legendgroup": "PALO ALTO",
         "lon": [
          -122.093456,
          -122.1382942,
          -122.1495782,
          -122.1329751
         ],
         "marker": {
          "color": "#EF553B"
         },
         "mode": "markers",
         "name": "PALO ALTO",
         "showlegend": true,
         "subplot": "mapbox",
         "type": "scattermapbox"
        },
        {
         "hovertemplate": "City=GILROY<br>Latitude=%{lat}<br>Longitude=%{lon}<extra></extra>",
         "lat": [
          37.0175829,
          37.0251277,
          37.0006335,
          36.9932479,
          37.0136314,
          37.0052648,
          37.0216332,
          37.0042376,
          37.0212872,
          37.010759
         ],
         "legendgroup": "GILROY",
         "lon": [
          -121.5845716,
          -121.6128693,
          -121.6011394,
          -121.7129001,
          -121.5758799,
          -121.5911049,
          -121.5981302,
          -121.6233185,
          -121.5902149,
          -121.482641
         ],
         "marker": {
          "color": "#00cc96"
         },
         "mode": "markers",
         "name": "GILROY",
         "showlegend": true,
         "subplot": "mapbox",
         "type": "scattermapbox"
        },
        {
         "hovertemplate": "City=MILPITAS<br>Latitude=%{lat}<br>Longitude=%{lon}<extra></extra>",
         "lat": [
          37.4186025,
          37.4336996,
          37.4292132
         ],
         "legendgroup": "MILPITAS",
         "lon": [
          -121.871046,
          -121.8775861,
          -121.91311
         ],
         "marker": {
          "color": "#ab63fa"
         },
         "mode": "markers",
         "name": "MILPITAS",
         "showlegend": true,
         "subplot": "mapbox",
         "type": "scattermapbox"
        },
        {
         "hovertemplate": "City=LOS ALTOS HILLS<br>Latitude=%{lat}<br>Longitude=%{lon}<extra></extra>",
         "lat": [
          37.3435518,
          37.3653402,
          37.3632309
         ],
         "legendgroup": "LOS ALTOS HILLS",
         "lon": [
          -122.1101898,
          -122.1344257,
          -122.1640052
         ],
         "marker": {
          "color": "#FFA15A"
         },
         "mode": "markers",
         "name": "LOS ALTOS HILLS",
         "showlegend": true,
         "subplot": "mapbox",
         "type": "scattermapbox"
        },
        {
         "hovertemplate": "City=MONTE SERENO<br>Latitude=%{lat}<br>Longitude=%{lon}<extra></extra>",
         "lat": [
          37.2398622
         ],
         "legendgroup": "MONTE SERENO",
         "lon": [
          -121.9902371
         ],
         "marker": {
          "color": "#19d3f3"
         },
         "mode": "markers",
         "name": "MONTE SERENO",
         "showlegend": true,
         "subplot": "mapbox",
         "type": "scattermapbox"
        },
        {
         "hovertemplate": "City=ALVISO<br>Latitude=%{lat}<br>Longitude=%{lon}<extra></extra>",
         "lat": [
          37.4251897
         ],
         "legendgroup": "ALVISO",
         "lon": [
          -121.9699556
         ],
         "marker": {
          "color": "#FF6692"
         },
         "mode": "markers",
         "name": "ALVISO",
         "showlegend": true,
         "subplot": "mapbox",
         "type": "scattermapbox"
        },
        {
         "hovertemplate": "City=SAN FRANCISCO<br>Latitude=%{lat}<br>Longitude=%{lon}<extra></extra>",
         "lat": [
          37.725581,
          37.7125198,
          37.7847403,
          37.7853941,
          37.7674323,
          37.7287461,
          37.7488595,
          37.7126228,
          37.7143841,
          37.744211,
          37.7475619,
          37.7366479,
          37.7627923,
          37.7142979,
          37.732606,
          37.7340914,
          37.732533,
          37.7840531,
          37.7616479,
          37.7701595,
          37.7643617,
          37.7596177,
          37.7226338,
          37.789877,
          37.7705332,
          37.7604405,
          37.7337761,
          37.7370238,
          37.7908518,
          37.7111983,
          37.738156,
          37.7134559,
          37.7439541,
          37.7213224,
          37.7335102,
          37.710744,
          37.7784851,
          37.7740068,
          37.7815835,
          37.7857195,
          37.771842,
          37.7270182,
          37.71994248,
          37.7652461,
          37.734732,
          37.7175645,
          37.7342543,
          37.725642,
          37.7470732,
          37.7845326,
          37.7485563,
          37.74172335,
          37.7666701,
          37.7640329,
          37.7440364,
          37.718106,
          37.734901,
          37.73087,
          37.7366479,
          37.7323059,
          37.7196341,
          37.7343858,
          37.7935273,
          37.7754605,
          37.752923,
          37.7098691,
          37.7773172,
          37.7814848,
          37.7700691,
          37.7849039,
          37.7288536,
          37.7707283,
          37.7275872,
          37.7703288,
          37.8031282,
          37.7126663,
          37.7218605,
          37.7140738,
          37.735131,
          37.743749,
          37.7129696,
          37.7218605,
          37.8016451,
          37.7608549,
          37.719788,
          37.7983271,
          37.7773172,
          37.7709118,
          37.7795806,
          37.738156,
          37.7218429,
          37.7419564,
          37.7335102,
          37.796398,
          37.7857195,
          37.7239476
         ],
         "legendgroup": "SAN FRANCISCO",
         "lon": [
          -122.3861033,
          -122.4633942,
          -122.4213962,
          -122.4086959,
          -122.4184801,
          -122.4095541,
          -122.4273323,
          -122.446214,
          -122.4113282,
          -122.412275,
          -122.5007436,
          -122.4231783,
          -122.3929587,
          -122.467124,
          -122.411128,
          -122.3911082,
          -122.398675,
          -122.4503065,
          -122.4224192,
          -122.4458163,
          -122.5029967,
          -122.4492343,
          -122.3954566,
          -122.4056291,
          -122.4436809,
          -122.4159557,
          -122.457756,
          -122.4631499,
          -122.3900082,
          -122.4070341,
          -122.410879,
          -122.436472,
          -122.4226011,
          -122.4378855,
          -122.4341673,
          -122.4142894,
          -122.4254529,
          -122.4381384,
          -122.4945314,
          -122.421209,
          -122.4317409,
          -122.4760464,
          -122.3957041,
          -122.394857,
          -122.4107421,
          -122.4037808,
          -122.3929364,
          -122.384544,
          -122.387211,
          -122.4311381,
          -122.4782467,
          -122.4658569,
          -122.43335,
          -122.3937392,
          -122.4542995,
          -122.391206,
          -122.384994,
          -122.4290075,
          -122.4231783,
          -122.4534355,
          -122.4723654,
          -122.4759048,
          -122.3975149,
          -122.4638976,
          -122.4263115,
          -122.4643886,
          -122.419609,
          -122.3894557,
          -122.4327726,
          -122.4635065,
          -122.4552944,
          -122.408147,
          -122.4574003,
          -122.4177253,
          -122.4181701,
          -122.4320301,
          -122.4531202,
          -122.4560811,
          -122.384161,
          -122.410338,
          -122.4326944,
          -122.4531202,
          -122.4034935,
          -122.4489773,
          -122.3925027,
          -122.4030871,
          -122.419609,
          -122.4483853,
          -122.4570027,
          -122.410879,
          -122.4571823,
          -122.4233467,
          -122.4341673,
          -122.4184963,
          -122.421209,
          -122.4353803
         ],
         "marker": {
          "color": "#B6E880"
         },
         "mode": "markers",
         "name": "SAN FRANCISCO",
         "showlegend": true,
         "subplot": "mapbox",
         "type": "scattermapbox"
        },
        {
         "hovertemplate": "City=FAIRFIELD<br>Latitude=%{lat}<br>Longitude=%{lon}<extra></extra>",
         "lat": [
          38.2611312,
          38.260083,
          38.268267,
          38.2574592,
          38.2234744,
          38.1690575,
          38.2427819,
          38.271186,
          38.1726804,
          38.2566224,
          38.2623665,
          35.1256765,
          38.263367,
          38.2799478,
          38.2828459,
          38.2894588,
          38.2835808,
          38.2148019,
          38.1940331,
          38.2747059,
          38.2654946,
          38.1645146,
          38.233133,
          38.3007607,
          38.270275,
          38.212393,
          38.2403405,
          38.2717484,
          38.271689,
          38.1948186,
          38.2649117,
          38.2938987
         ],
         "legendgroup": "FAIRFIELD",
         "lon": [
          -122.0311521,
          -122.036228,
          -122.016458,
          -122.0341308,
          -122.1522643,
          -122.1276578,
          -122.0751512,
          -121.998083,
          -122.1290942,
          -122.0694285,
          -122.0116657,
          -80.6268261,
          -122.043464,
          -122.0274298,
          -122.0631907,
          -122.0297131,
          -122.0134047,
          -122.1260367,
          -122.1425368,
          -122.0183464,
          -122.0421337,
          -122.1401321,
          -122.1327185,
          -122.0275276,
          -122.010942,
          -122.1284243,
          -122.1369564,
          -121.9590466,
          -122.00405,
          -122.1464957,
          -121.9878903,
          -122.0134262
         ],
         "marker": {
          "color": "#FF97FF"
         },
         "mode": "markers",
         "name": "FAIRFIELD",
         "showlegend": true,
         "subplot": "mapbox",
         "type": "scattermapbox"
        },
        {
         "hovertemplate": "City=VALLEJO<br>Latitude=%{lat}<br>Longitude=%{lon}<extra></extra>",
         "lat": [
          38.15255,
          38.147194,
          38.072591,
          38.0813486,
          38.0693068,
          38.117842,
          38.0896968,
          38.084386,
          38.120225,
          38.080353,
          38.145144,
          38.161492,
          38.156889,
          38.121642,
          38.0942156,
          38.107033,
          38.0869191,
          38.112156,
          38.0912072,
          38.10026,
          38.122817,
          38.124419,
          38.080427,
          38.122164,
          38.147133,
          38.1117452,
          38.094986,
          38.0730454,
          38.124614,
          38.1218925,
          38.147408
         ],
         "legendgroup": "VALLEJO",
         "lon": [
          -122.232581,
          -122.250144,
          -122.2081653,
          -122.2274537,
          -122.2225204,
          -122.221575,
          -122.2401609,
          -122.235244,
          -122.263,
          -122.224811,
          -122.231703,
          -122.176658,
          -122.175847,
          -122.243069,
          -122.2086547,
          -122.254814,
          -122.2045549,
          -122.227008,
          -122.2283403,
          -122.2009918,
          -122.264997,
          -122.247361,
          -122.235156,
          -122.263217,
          -122.231064,
          -122.2392422,
          -122.235864,
          -122.2010219,
          -122.214412,
          -122.2491635,
          -122.234117
         ],
         "marker": {
          "color": "#FECB52"
         },
         "mode": "markers",
         "name": "VALLEJO",
         "showlegend": true,
         "subplot": "mapbox",
         "type": "scattermapbox"
        },
        {
         "hovertemplate": "City=VACAVILLE<br>Latitude=%{lat}<br>Longitude=%{lon}<extra></extra>",
         "lat": [
          38.3309245,
          38.3460426,
          38.3966161,
          38.3394807,
          38.3478137,
          38.4025859,
          38.359956,
          38.3483282,
          38.338282,
          38.3649408,
          38.366528,
          38.3443345,
          38.339914,
          38.3413324,
          38.398494,
          38.3994314
         ],
         "legendgroup": "VACAVILLE",
         "lon": [
          -121.9498757,
          -121.9599829,
          -121.9682425,
          -121.9601857,
          -121.953797,
          -121.981728,
          -122.006869,
          -121.9401349,
          -121.9506121,
          -121.9865027,
          -121.948825,
          -121.9435009,
          -121.990039,
          -121.960346,
          -121.9471421,
          -121.9466984
         ],
         "marker": {
          "color": "#636efa"
         },
         "mode": "markers",
         "name": "VACAVILLE",
         "showlegend": true,
         "subplot": "mapbox",
         "type": "scattermapbox"
        },
        {
         "hovertemplate": "City=RIO VISTA<br>Latitude=%{lat}<br>Longitude=%{lon}<extra></extra>",
         "lat": [
          38.181806,
          38.179672,
          38.187503,
          38.156506,
          38.188214,
          38.1800769
         ],
         "legendgroup": "RIO VISTA",
         "lon": [
          -121.712803,
          -121.705014,
          -121.714963,
          -121.694803,
          -121.717208,
          -121.7193754
         ],
         "marker": {
          "color": "#EF553B"
         },
         "mode": "markers",
         "name": "RIO VISTA",
         "showlegend": true,
         "subplot": "mapbox",
         "type": "scattermapbox"
        },
        {
         "hovertemplate": "City=BENICIA<br>Latitude=%{lat}<br>Longitude=%{lon}<extra></extra>",
         "lat": [
          38.080986,
          38.063961,
          38.0647375,
          38.0737,
          38.064882
         ],
         "legendgroup": "BENICIA",
         "lon": [
          -122.154181,
          -122.158611,
          -122.16458,
          -122.157658,
          -122.160063
         ],
         "marker": {
          "color": "#00cc96"
         },
         "mode": "markers",
         "name": "BENICIA",
         "showlegend": true,
         "subplot": "mapbox",
         "type": "scattermapbox"
        },
        {
         "hovertemplate": "City=DIXON<br>Latitude=%{lat}<br>Longitude=%{lon}<extra></extra>",
         "lat": [
          38.451428,
          38.4491617,
          38.4667862
         ],
         "legendgroup": "DIXON",
         "lon": [
          -121.84615,
          -121.8212262,
          -121.8260449
         ],
         "marker": {
          "color": "#ab63fa"
         },
         "mode": "markers",
         "name": "DIXON",
         "showlegend": true,
         "subplot": "mapbox",
         "type": "scattermapbox"
        },
        {
         "hovertemplate": "City=SUISUN CITY<br>Latitude=%{lat}<br>Longitude=%{lon}<extra></extra>",
         "lat": [
          38.2493962,
          38.242636,
          38.251,
          38.255631,
          38.2556214,
          38.24073665,
          38.250694,
          38.238436,
          38.250227,
          38.2450411
         ],
         "legendgroup": "SUISUN CITY",
         "lon": [
          -122.0124858,
          -122.0175011,
          -121.993286,
          -121.9873228,
          -122.0088977,
          -121.9997771,
          -122.023747,
          -121.989643,
          -122.001917,
          -122.0203342
         ],
         "marker": {
          "color": "#FFA15A"
         },
         "mode": "markers",
         "name": "SUISUN CITY",
         "showlegend": true,
         "subplot": "mapbox",
         "type": "scattermapbox"
        },
        {
         "hovertemplate": "City=PETALUMA<br>Latitude=%{lat}<br>Longitude=%{lon}<extra></extra>",
         "lat": [
          38.2448278,
          38.2512837,
          38.2445651,
          38.2248266,
          38.2258085,
          38.2360894,
          38.244957,
          38.2539835,
          38.24272845,
          38.2265021,
          38.2658672
         ],
         "legendgroup": "PETALUMA",
         "lon": [
          -122.5908653,
          -122.6133849,
          -122.6100526,
          -122.6612966,
          -122.6578098,
          -122.6570315,
          -122.640532,
          -122.6111735,
          -122.593792,
          -122.6610333,
          -122.6519448
         ],
         "marker": {
          "color": "#19d3f3"
         },
         "mode": "markers",
         "name": "PETALUMA",
         "showlegend": true,
         "subplot": "mapbox",
         "type": "scattermapbox"
        },
        {
         "hovertemplate": "City=WINDSOR<br>Latitude=%{lat}<br>Longitude=%{lon}<extra></extra>",
         "lat": [
          38.5517797,
          38.5368622,
          38.5538729,
          38.5490962,
          38.5306914,
          38.5538729,
          38.5406929,
          38.5465199,
          38.5351538,
          38.556397,
          38.5473212
         ],
         "legendgroup": "WINDSOR",
         "lon": [
          -122.8227282,
          -122.8058028,
          -122.8301346,
          -122.820754,
          -122.7849083,
          -122.8301346,
          -122.8205494,
          -122.8124967,
          -122.8096424,
          -122.8232501,
          -122.8280792
         ],
         "marker": {
          "color": "#FF6692"
         },
         "mode": "markers",
         "name": "WINDSOR",
         "showlegend": true,
         "subplot": "mapbox",
         "type": "scattermapbox"
        },
        {
         "hovertemplate": "City=SANTA ROSA<br>Latitude=%{lat}<br>Longitude=%{lon}<extra></extra>",
         "lat": [
          38.4349106,
          38.478231,
          38.42742515,
          38.4134573,
          38.4531435,
          38.4660462,
          38.4487562,
          38.4054808,
          38.4458117,
          38.4464738,
          38.4845765,
          38.424888,
          38.4231889,
          38.4078304,
          38.4747147,
          38.4410548,
          38.4092271,
          38.4364246,
          38.4302471,
          38.4376171,
          38.4564623,
          38.4612647,
          38.4199792,
          38.4747957,
          38.4513618,
          38.4737982,
          38.4531611,
          38.4383738,
          38.4919794,
          38.4422289,
          38.4659516,
          38.4142427,
          38.4564623,
          38.4493919,
          38.5092402,
          38.4350693,
          38.4684999,
          38.4260549,
          38.46421,
          38.4507968,
          38.4410844,
          38.44477,
          38.4399012,
          38.4409634,
          38.4591863,
          38.470069,
          38.4611119,
          38.4466566,
          38.465811,
          38.4860696,
          38.4777855,
          38.4725135,
          38.412182
         ],
         "legendgroup": "SANTA ROSA",
         "lon": [
          -122.7094626,
          -122.704651,
          -122.5795733,
          -122.7443867,
          -122.7308349,
          -122.6807617,
          -122.7277173,
          -122.7262165,
          -122.75353,
          -122.6162151,
          -122.7606035,
          -122.7318348,
          -122.762222,
          -122.7134758,
          -122.7587773,
          -122.7187544,
          -122.7472433,
          -122.5869082,
          -122.5892075,
          -122.7574111,
          -122.7391129,
          -122.7457503,
          -122.7661061,
          -122.7440927,
          -122.7494205,
          -122.7506803,
          -122.7093718,
          -122.5864975,
          -122.7065086,
          -122.7398967,
          -122.6338844,
          -122.7293005,
          -122.7391129,
          -122.728887,
          -122.6528874,
          -122.5964433,
          -122.7608331,
          -122.6668354,
          -122.7154196,
          -122.7439698,
          -122.7144795,
          -122.758705,
          -122.686224,
          -122.6862068,
          -122.7640645,
          -122.703862,
          -122.6900335,
          -122.7543612,
          -122.683827,
          -122.6998594,
          -122.7584176,
          -122.7366649,
          -122.7369683
         ],
         "marker": {
          "color": "#B6E880"
         },
         "mode": "markers",
         "name": "SANTA ROSA",
         "showlegend": true,
         "subplot": "mapbox",
         "type": "scattermapbox"
        },
        {
         "hovertemplate": "City=COTATI<br>Latitude=%{lat}<br>Longitude=%{lon}<extra></extra>",
         "lat": [
          38.3272367,
          38.2975425,
          38.3223577,
          38.2975425
         ],
         "legendgroup": "COTATI",
         "lon": [
          -122.6977759,
          -122.7096841,
          -122.7099535,
          -122.7096841
         ],
         "marker": {
          "color": "#FF97FF"
         },
         "mode": "markers",
         "name": "COTATI",
         "showlegend": true,
         "subplot": "mapbox",
         "type": "scattermapbox"
        },
        {
         "hovertemplate": "City=ROHNERT PARK<br>Latitude=%{lat}<br>Longitude=%{lon}<extra></extra>",
         "lat": [
          38.3447371,
          38.3556036,
          38.3676974,
          38.3474827
         ],
         "legendgroup": "ROHNERT PARK",
         "lon": [
          -122.6929398,
          -122.7025624,
          -122.6839051,
          -122.7058782
         ],
         "marker": {
          "color": "#FECB52"
         },
         "mode": "markers",
         "name": "ROHNERT PARK",
         "showlegend": true,
         "subplot": "mapbox",
         "type": "scattermapbox"
        },
        {
         "hovertemplate": "City=HEALDSBURG<br>Latitude=%{lat}<br>Longitude=%{lon}<extra></extra>",
         "lat": [
          38.6094686,
          38.6111907,
          38.6180093
         ],
         "legendgroup": "HEALDSBURG",
         "lon": [
          -122.8548614,
          -122.8742667,
          -122.8657511
         ],
         "marker": {
          "color": "#636efa"
         },
         "mode": "markers",
         "name": "HEALDSBURG",
         "showlegend": true,
         "subplot": "mapbox",
         "type": "scattermapbox"
        },
        {
         "hovertemplate": "City=GUERNEVILLE<br>Latitude=%{lat}<br>Longitude=%{lon}<extra></extra>",
         "lat": [
          38.507562,
          38.5127803
         ],
         "legendgroup": "GUERNEVILLE",
         "lon": [
          -122.98449,
          -122.9988093
         ],
         "marker": {
          "color": "#EF553B"
         },
         "mode": "markers",
         "name": "GUERNEVILLE",
         "showlegend": true,
         "subplot": "mapbox",
         "type": "scattermapbox"
        },
        {
         "hovertemplate": "City=SEBASTOPOL<br>Latitude=%{lat}<br>Longitude=%{lon}<extra></extra>",
         "lat": [
          38.3943345,
          38.3867484
         ],
         "legendgroup": "SEBASTOPOL",
         "lon": [
          -122.8271095,
          -122.8203225
         ],
         "marker": {
          "color": "#00cc96"
         },
         "mode": "markers",
         "name": "SEBASTOPOL",
         "showlegend": true,
         "subplot": "mapbox",
         "type": "scattermapbox"
        },
        {
         "hovertemplate": "City=CLOVERDALE<br>Latitude=%{lat}<br>Longitude=%{lon}<extra></extra>",
         "lat": [
          44.64402,
          38.7833441,
          38.8111517,
          38.7805741
         ],
         "legendgroup": "CLOVERDALE",
         "lon": [
          -72.916213,
          -123.0183213,
          -123.0191761,
          -123.0167964
         ],
         "marker": {
          "color": "#ab63fa"
         },
         "mode": "markers",
         "name": "CLOVERDALE",
         "showlegend": true,
         "subplot": "mapbox",
         "type": "scattermapbox"
        },
        {
         "hovertemplate": "City=SONOMA<br>Latitude=%{lat}<br>Longitude=%{lon}<extra></extra>",
         "lat": [
          38.2794709,
          38.4639294,
          38.297278,
          38.2874657
         ],
         "legendgroup": "SONOMA",
         "lon": [
          -122.4638767,
          -122.7366512,
          -122.50301,
          -122.4689353
         ],
         "marker": {
          "color": "#FFA15A"
         },
         "mode": "markers",
         "name": "SONOMA",
         "showlegend": true,
         "subplot": "mapbox",
         "type": "scattermapbox"
        },
        {
         "hovertemplate": "City=PENNGROVE<br>Latitude=%{lat}<br>Longitude=%{lon}<extra></extra>",
         "lat": [
          38.2924533,
          38.281236
         ],
         "legendgroup": "PENNGROVE",
         "lon": [
          -122.6842034,
          -122.6804003
         ],
         "marker": {
          "color": "#19d3f3"
         },
         "mode": "markers",
         "name": "PENNGROVE",
         "showlegend": true,
         "subplot": "mapbox",
         "type": "scattermapbox"
        },
        {
         "hovertemplate": "City=OCCIDENTAL<br>Latitude=%{lat}<br>Longitude=%{lon}<extra></extra>",
         "lat": [
          38.403412
         ],
         "legendgroup": "OCCIDENTAL",
         "lon": [
          -122.961881
         ],
         "marker": {
          "color": "#FF6692"
         },
         "mode": "markers",
         "name": "OCCIDENTAL",
         "showlegend": true,
         "subplot": "mapbox",
         "type": "scattermapbox"
        },
        {
         "hovertemplate": "City=BODEGA BAY<br>Latitude=%{lat}<br>Longitude=%{lon}<extra></extra>",
         "lat": [
          38.3345021
         ],
         "legendgroup": "BODEGA BAY",
         "lon": [
          -123.0471526
         ],
         "marker": {
          "color": "#B6E880"
         },
         "mode": "markers",
         "name": "BODEGA BAY",
         "showlegend": true,
         "subplot": "mapbox",
         "type": "scattermapbox"
        }
       ],
       "layout": {
        "autosize": true,
        "legend": {
         "title": {
          "text": "City"
         },
         "tracegroupgap": 0
        },
        "mapbox": {
         "accesstoken": "pk.eyJ1IjoiYnJpYW5oYWJhbmEiLCJhIjoiY2tvZzZhaDEzMGFlNjJ3bGxmOTVyYmlmcCJ9.CpzgJ8Mq1rTxB6uUpXzDsQ",
         "bearing": 0,
         "center": {
          "lat": 37.76101361851751,
          "lon": -122.23860769346959
         },
         "domain": {
          "x": [
           0,
           1
          ],
          "y": [
           0,
           1
          ]
         },
         "pitch": 0,
         "zoom": 12.869627452828608
        },
        "template": {
         "data": {
          "bar": [
           {
            "error_x": {
             "color": "#2a3f5f"
            },
            "error_y": {
             "color": "#2a3f5f"
            },
            "marker": {
             "line": {
              "color": "#E5ECF6",
              "width": 0.5
             }
            },
            "type": "bar"
           }
          ],
          "barpolar": [
           {
            "marker": {
             "line": {
              "color": "#E5ECF6",
              "width": 0.5
             }
            },
            "type": "barpolar"
           }
          ],
          "carpet": [
           {
            "aaxis": {
             "endlinecolor": "#2a3f5f",
             "gridcolor": "white",
             "linecolor": "white",
             "minorgridcolor": "white",
             "startlinecolor": "#2a3f5f"
            },
            "baxis": {
             "endlinecolor": "#2a3f5f",
             "gridcolor": "white",
             "linecolor": "white",
             "minorgridcolor": "white",
             "startlinecolor": "#2a3f5f"
            },
            "type": "carpet"
           }
          ],
          "choropleth": [
           {
            "colorbar": {
             "outlinewidth": 0,
             "ticks": ""
            },
            "type": "choropleth"
           }
          ],
          "contour": [
           {
            "colorbar": {
             "outlinewidth": 0,
             "ticks": ""
            },
            "colorscale": [
             [
              0,
              "#0d0887"
             ],
             [
              0.1111111111111111,
              "#46039f"
             ],
             [
              0.2222222222222222,
              "#7201a8"
             ],
             [
              0.3333333333333333,
              "#9c179e"
             ],
             [
              0.4444444444444444,
              "#bd3786"
             ],
             [
              0.5555555555555556,
              "#d8576b"
             ],
             [
              0.6666666666666666,
              "#ed7953"
             ],
             [
              0.7777777777777778,
              "#fb9f3a"
             ],
             [
              0.8888888888888888,
              "#fdca26"
             ],
             [
              1,
              "#f0f921"
             ]
            ],
            "type": "contour"
           }
          ],
          "contourcarpet": [
           {
            "colorbar": {
             "outlinewidth": 0,
             "ticks": ""
            },
            "type": "contourcarpet"
           }
          ],
          "heatmap": [
           {
            "colorbar": {
             "outlinewidth": 0,
             "ticks": ""
            },
            "colorscale": [
             [
              0,
              "#0d0887"
             ],
             [
              0.1111111111111111,
              "#46039f"
             ],
             [
              0.2222222222222222,
              "#7201a8"
             ],
             [
              0.3333333333333333,
              "#9c179e"
             ],
             [
              0.4444444444444444,
              "#bd3786"
             ],
             [
              0.5555555555555556,
              "#d8576b"
             ],
             [
              0.6666666666666666,
              "#ed7953"
             ],
             [
              0.7777777777777778,
              "#fb9f3a"
             ],
             [
              0.8888888888888888,
              "#fdca26"
             ],
             [
              1,
              "#f0f921"
             ]
            ],
            "type": "heatmap"
           }
          ],
          "heatmapgl": [
           {
            "colorbar": {
             "outlinewidth": 0,
             "ticks": ""
            },
            "colorscale": [
             [
              0,
              "#0d0887"
             ],
             [
              0.1111111111111111,
              "#46039f"
             ],
             [
              0.2222222222222222,
              "#7201a8"
             ],
             [
              0.3333333333333333,
              "#9c179e"
             ],
             [
              0.4444444444444444,
              "#bd3786"
             ],
             [
              0.5555555555555556,
              "#d8576b"
             ],
             [
              0.6666666666666666,
              "#ed7953"
             ],
             [
              0.7777777777777778,
              "#fb9f3a"
             ],
             [
              0.8888888888888888,
              "#fdca26"
             ],
             [
              1,
              "#f0f921"
             ]
            ],
            "type": "heatmapgl"
           }
          ],
          "histogram": [
           {
            "marker": {
             "colorbar": {
              "outlinewidth": 0,
              "ticks": ""
             }
            },
            "type": "histogram"
           }
          ],
          "histogram2d": [
           {
            "colorbar": {
             "outlinewidth": 0,
             "ticks": ""
            },
            "colorscale": [
             [
              0,
              "#0d0887"
             ],
             [
              0.1111111111111111,
              "#46039f"
             ],
             [
              0.2222222222222222,
              "#7201a8"
             ],
             [
              0.3333333333333333,
              "#9c179e"
             ],
             [
              0.4444444444444444,
              "#bd3786"
             ],
             [
              0.5555555555555556,
              "#d8576b"
             ],
             [
              0.6666666666666666,
              "#ed7953"
             ],
             [
              0.7777777777777778,
              "#fb9f3a"
             ],
             [
              0.8888888888888888,
              "#fdca26"
             ],
             [
              1,
              "#f0f921"
             ]
            ],
            "type": "histogram2d"
           }
          ],
          "histogram2dcontour": [
           {
            "colorbar": {
             "outlinewidth": 0,
             "ticks": ""
            },
            "colorscale": [
             [
              0,
              "#0d0887"
             ],
             [
              0.1111111111111111,
              "#46039f"
             ],
             [
              0.2222222222222222,
              "#7201a8"
             ],
             [
              0.3333333333333333,
              "#9c179e"
             ],
             [
              0.4444444444444444,
              "#bd3786"
             ],
             [
              0.5555555555555556,
              "#d8576b"
             ],
             [
              0.6666666666666666,
              "#ed7953"
             ],
             [
              0.7777777777777778,
              "#fb9f3a"
             ],
             [
              0.8888888888888888,
              "#fdca26"
             ],
             [
              1,
              "#f0f921"
             ]
            ],
            "type": "histogram2dcontour"
           }
          ],
          "mesh3d": [
           {
            "colorbar": {
             "outlinewidth": 0,
             "ticks": ""
            },
            "type": "mesh3d"
           }
          ],
          "parcoords": [
           {
            "line": {
             "colorbar": {
              "outlinewidth": 0,
              "ticks": ""
             }
            },
            "type": "parcoords"
           }
          ],
          "pie": [
           {
            "automargin": true,
            "type": "pie"
           }
          ],
          "scatter": [
           {
            "marker": {
             "colorbar": {
              "outlinewidth": 0,
              "ticks": ""
             }
            },
            "type": "scatter"
           }
          ],
          "scatter3d": [
           {
            "line": {
             "colorbar": {
              "outlinewidth": 0,
              "ticks": ""
             }
            },
            "marker": {
             "colorbar": {
              "outlinewidth": 0,
              "ticks": ""
             }
            },
            "type": "scatter3d"
           }
          ],
          "scattercarpet": [
           {
            "marker": {
             "colorbar": {
              "outlinewidth": 0,
              "ticks": ""
             }
            },
            "type": "scattercarpet"
           }
          ],
          "scattergeo": [
           {
            "marker": {
             "colorbar": {
              "outlinewidth": 0,
              "ticks": ""
             }
            },
            "type": "scattergeo"
           }
          ],
          "scattergl": [
           {
            "marker": {
             "colorbar": {
              "outlinewidth": 0,
              "ticks": ""
             }
            },
            "type": "scattergl"
           }
          ],
          "scattermapbox": [
           {
            "marker": {
             "colorbar": {
              "outlinewidth": 0,
              "ticks": ""
             }
            },
            "type": "scattermapbox"
           }
          ],
          "scatterpolar": [
           {
            "marker": {
             "colorbar": {
              "outlinewidth": 0,
              "ticks": ""
             }
            },
            "type": "scatterpolar"
           }
          ],
          "scatterpolargl": [
           {
            "marker": {
             "colorbar": {
              "outlinewidth": 0,
              "ticks": ""
             }
            },
            "type": "scatterpolargl"
           }
          ],
          "scatterternary": [
           {
            "marker": {
             "colorbar": {
              "outlinewidth": 0,
              "ticks": ""
             }
            },
            "type": "scatterternary"
           }
          ],
          "surface": [
           {
            "colorbar": {
             "outlinewidth": 0,
             "ticks": ""
            },
            "colorscale": [
             [
              0,
              "#0d0887"
             ],
             [
              0.1111111111111111,
              "#46039f"
             ],
             [
              0.2222222222222222,
              "#7201a8"
             ],
             [
              0.3333333333333333,
              "#9c179e"
             ],
             [
              0.4444444444444444,
              "#bd3786"
             ],
             [
              0.5555555555555556,
              "#d8576b"
             ],
             [
              0.6666666666666666,
              "#ed7953"
             ],
             [
              0.7777777777777778,
              "#fb9f3a"
             ],
             [
              0.8888888888888888,
              "#fdca26"
             ],
             [
              1,
              "#f0f921"
             ]
            ],
            "type": "surface"
           }
          ],
          "table": [
           {
            "cells": {
             "fill": {
              "color": "#EBF0F8"
             },
             "line": {
              "color": "white"
             }
            },
            "header": {
             "fill": {
              "color": "#C8D4E3"
             },
             "line": {
              "color": "white"
             }
            },
            "type": "table"
           }
          ]
         },
         "layout": {
          "annotationdefaults": {
           "arrowcolor": "#2a3f5f",
           "arrowhead": 0,
           "arrowwidth": 1
          },
          "coloraxis": {
           "colorbar": {
            "outlinewidth": 0,
            "ticks": ""
           }
          },
          "colorscale": {
           "diverging": [
            [
             0,
             "#8e0152"
            ],
            [
             0.1,
             "#c51b7d"
            ],
            [
             0.2,
             "#de77ae"
            ],
            [
             0.3,
             "#f1b6da"
            ],
            [
             0.4,
             "#fde0ef"
            ],
            [
             0.5,
             "#f7f7f7"
            ],
            [
             0.6,
             "#e6f5d0"
            ],
            [
             0.7,
             "#b8e186"
            ],
            [
             0.8,
             "#7fbc41"
            ],
            [
             0.9,
             "#4d9221"
            ],
            [
             1,
             "#276419"
            ]
           ],
           "sequential": [
            [
             0,
             "#0d0887"
            ],
            [
             0.1111111111111111,
             "#46039f"
            ],
            [
             0.2222222222222222,
             "#7201a8"
            ],
            [
             0.3333333333333333,
             "#9c179e"
            ],
            [
             0.4444444444444444,
             "#bd3786"
            ],
            [
             0.5555555555555556,
             "#d8576b"
            ],
            [
             0.6666666666666666,
             "#ed7953"
            ],
            [
             0.7777777777777778,
             "#fb9f3a"
            ],
            [
             0.8888888888888888,
             "#fdca26"
            ],
            [
             1,
             "#f0f921"
            ]
           ],
           "sequentialminus": [
            [
             0,
             "#0d0887"
            ],
            [
             0.1111111111111111,
             "#46039f"
            ],
            [
             0.2222222222222222,
             "#7201a8"
            ],
            [
             0.3333333333333333,
             "#9c179e"
            ],
            [
             0.4444444444444444,
             "#bd3786"
            ],
            [
             0.5555555555555556,
             "#d8576b"
            ],
            [
             0.6666666666666666,
             "#ed7953"
            ],
            [
             0.7777777777777778,
             "#fb9f3a"
            ],
            [
             0.8888888888888888,
             "#fdca26"
            ],
            [
             1,
             "#f0f921"
            ]
           ]
          },
          "colorway": [
           "#636efa",
           "#EF553B",
           "#00cc96",
           "#ab63fa",
           "#FFA15A",
           "#19d3f3",
           "#FF6692",
           "#B6E880",
           "#FF97FF",
           "#FECB52"
          ],
          "font": {
           "color": "#2a3f5f"
          },
          "geo": {
           "bgcolor": "white",
           "lakecolor": "white",
           "landcolor": "#E5ECF6",
           "showlakes": true,
           "showland": true,
           "subunitcolor": "white"
          },
          "hoverlabel": {
           "align": "left"
          },
          "hovermode": "closest",
          "mapbox": {
           "style": "light"
          },
          "paper_bgcolor": "white",
          "plot_bgcolor": "#E5ECF6",
          "polar": {
           "angularaxis": {
            "gridcolor": "white",
            "linecolor": "white",
            "ticks": ""
           },
           "bgcolor": "#E5ECF6",
           "radialaxis": {
            "gridcolor": "white",
            "linecolor": "white",
            "ticks": ""
           }
          },
          "scene": {
           "xaxis": {
            "backgroundcolor": "#E5ECF6",
            "gridcolor": "white",
            "gridwidth": 2,
            "linecolor": "white",
            "showbackground": true,
            "ticks": "",
            "zerolinecolor": "white"
           },
           "yaxis": {
            "backgroundcolor": "#E5ECF6",
            "gridcolor": "white",
            "gridwidth": 2,
            "linecolor": "white",
            "showbackground": true,
            "ticks": "",
            "zerolinecolor": "white"
           },
           "zaxis": {
            "backgroundcolor": "#E5ECF6",
            "gridcolor": "white",
            "gridwidth": 2,
            "linecolor": "white",
            "showbackground": true,
            "ticks": "",
            "zerolinecolor": "white"
           }
          },
          "shapedefaults": {
           "line": {
            "color": "#2a3f5f"
           }
          },
          "ternary": {
           "aaxis": {
            "gridcolor": "white",
            "linecolor": "white",
            "ticks": ""
           },
           "baxis": {
            "gridcolor": "white",
            "linecolor": "white",
            "ticks": ""
           },
           "bgcolor": "#E5ECF6",
           "caxis": {
            "gridcolor": "white",
            "linecolor": "white",
            "ticks": ""
           }
          },
          "title": {
           "x": 0.05
          },
          "xaxis": {
           "automargin": true,
           "gridcolor": "white",
           "linecolor": "white",
           "ticks": "",
           "title": {
            "standoff": 15
           },
           "zerolinecolor": "white",
           "zerolinewidth": 2
          },
          "yaxis": {
           "automargin": true,
           "gridcolor": "white",
           "linecolor": "white",
           "ticks": "",
           "title": {
            "standoff": 15
           },
           "zerolinecolor": "white",
           "zerolinewidth": 2
          }
         }
        },
        "title": {
         "text": "Foreclosures scatter plot"
        }
       }
      },
      "image/png": "[encoded data removed]",
      "text/html": [
       "<div>                            <div id=\"c5f01c02-6635-4398-8a3f-7b0e21b10dec\" class=\"plotly-graph-div\" style=\"height:525px; width:100%;\"></div>            <script type=\"text/javascript\">                require([\"plotly\"], function(Plotly) {                    window.PLOTLYENV=window.PLOTLYENV || {};                                    if (document.getElementById(\"c5f01c02-6635-4398-8a3f-7b0e21b10dec\")) {                    Plotly.newPlot(                        \"c5f01c02-6635-4398-8a3f-7b0e21b10dec\",                        [{\"hovertemplate\": \"City=OAKLAND<br>Latitude=%{lat}<br>Longitude=%{lon}<extra></extra>\", \"lat\": [37.7471529, 37.8429686, 37.7679535, 37.7735287, 37.7710906, 37.7475942, 37.7376346, 37.7550041, 37.781885, 37.7680729, 37.7445054, 37.8025433, 37.7439982, 37.7921439, 37.81729075, 37.7659463, 37.7488172, 37.7934663, 37.8054198, 37.7286345, 37.7782157, 37.762096, 37.797503, 37.7500504, 37.7700153, 37.7439982, 37.7431905, 37.8284106, 37.7943972, 37.8059792, 37.7699722, 37.7784426, 37.7465779, 37.7929217, 37.7511904, 37.7764698, 37.7782157, 37.7593512, 37.7550041, 37.7607104, 37.8000321, 37.7787131, 37.8490759, 37.7979395, 37.7942343, 37.7439982, 37.8281259, 37.8104121, 37.8409682, 43.0667033, 37.8046584, 37.7730318, 37.7819671, 37.7660145, 37.7787131, 37.7475942, 37.8060642, 37.7394275, 37.8000145, 37.7517602, 37.8217733, 37.8026876, 37.8054953, 37.7787131, 37.7765432, 37.8366423, 37.77848, 37.849179, 37.8124399, 37.8425359, 37.8002554, 37.8321829, 37.7770871, 37.7787435, 37.7731102, 37.7902863, 37.7612752, 37.7467482, 37.8610912, 37.7426691, 37.7929421, 37.7997147, 37.8034788, 37.7505281, 37.8292989, 37.8389917, 37.7496293, 37.7676036, 37.7310548, 37.7939968, 37.83441785], \"legendgroup\": \"OAKLAND\", \"lon\": [-122.1303771, -122.2575852, -122.2006489, -122.1738383, -122.1616004, -122.1774951, -122.1833569, -122.1616274, -122.1419927, -122.1353678, -122.127436, -122.2886371, -122.1534944, -122.2180187, -122.2554874, -122.1943617, -122.136602, -122.2118012, -122.2819181, -122.1752643, -122.1957057, -122.1844618, -122.1769446, -122.1281838, -122.2163687, -122.1534944, -122.1766193, -122.201626, -122.2557562, -122.2982572, -122.1819408, -122.1759149, -122.1586141, -122.1631864, -122.1183357, -122.218662, -122.1957057, -122.1831629, -122.1616274, -122.1450633, -122.2850379, -122.1905906, -122.2544491, -122.2299042, -122.1797619, -122.1534944, -122.2583609, -122.1957132, -122.2617488, -89.4126785, -122.278613, -122.1751085, -122.199831, -122.1677704, -122.1905906, -122.1774951, -122.1832659, -122.1854643, -122.1754136, -122.1672504, -122.2805509, -122.2830008, -122.2811826, -122.1905906, -122.206227, -122.2577131, -122.1647808, -122.2512465, -122.203971, -122.2723462, -122.273932, -122.2678275, -122.1681382, -122.1935532, -122.2285135, -122.1870222, -122.1776032, -122.1707528, -122.2326024, -122.1547797, -122.2684086, -122.1721782, -122.2614331, -122.1809333, -122.2703365, -122.2564214, -122.174321, -122.1746577, -122.1785022, -122.2169712, -122.2626505], \"marker\": {\"color\": \"#636efa\"}, \"mode\": \"markers\", \"name\": \"OAKLAND\", \"showlegend\": true, \"subplot\": \"mapbox\", \"type\": \"scattermapbox\"}, {\"hovertemplate\": \"City=BERKELEY<br>Latitude=%{lat}<br>Longitude=%{lon}<extra></extra>\", \"lat\": [37.8505918, 37.8568993, 37.872389, 37.883711, 37.8502878, 37.8690688, 37.860273, 37.8794656, 37.868208], \"legendgroup\": \"BERKELEY\", \"lon\": [-122.2808136, -122.2541754, -122.2668858, -122.28913, -122.2737457, -122.2441513, -122.2890618, -122.2610676, -122.2631767], \"marker\": {\"color\": \"#EF553B\"}, \"mode\": \"markers\", \"name\": \"BERKELEY\", \"showlegend\": true, \"subplot\": \"mapbox\", \"type\": \"scattermapbox\"}, {\"hovertemplate\": \"City=ALBANY<br>Latitude=%{lat}<br>Longitude=%{lon}<extra></extra>\", \"lat\": [37.8920331, 31.5956785], \"legendgroup\": \"ALBANY\", \"lon\": [-122.2985272, -84.1302491], \"marker\": {\"color\": \"#00cc96\"}, \"mode\": \"markers\", \"name\": \"ALBANY\", \"showlegend\": true, \"subplot\": \"mapbox\", \"type\": \"scattermapbox\"}, {\"hovertemplate\": \"City=ALAMEDA<br>Latitude=%{lat}<br>Longitude=%{lon}<extra></extra>\", \"lat\": [37.7725177, 37.7413888, 37.660519, 37.7360313, 37.7884998, 37.7504067], \"legendgroup\": \"ALAMEDA\", \"lon\": [-122.2621463, -122.2439694, -122.0852481, -122.2506339, -122.2777184, -122.2361259], \"marker\": {\"color\": \"#ab63fa\"}, \"mode\": \"markers\", \"name\": \"ALAMEDA\", \"showlegend\": true, \"subplot\": \"mapbox\", \"type\": \"scattermapbox\"}, {\"hovertemplate\": \"City=SAN LEANDRO<br>Latitude=%{lat}<br>Longitude=%{lon}<extra></extra>\", \"lat\": [37.7246633, 37.724355, 37.6999207, 37.7339014, 37.7056119, 37.6899653, 37.6918008, 37.6980985, 37.7018449, 37.725036, 37.7134822, 37.6944486], \"legendgroup\": \"SAN LEANDRO\", \"lon\": [-122.146135, -122.113913, -122.1346176, -122.16707, -122.1297125, -122.1531281, -122.1573441, -122.1462461, -122.1231998, -122.127809, -122.1652839, -122.1601318], \"marker\": {\"color\": \"#FFA15A\"}, \"mode\": \"markers\", \"name\": \"SAN LEANDRO\", \"showlegend\": true, \"subplot\": \"mapbox\", \"type\": \"scattermapbox\"}, {\"hovertemplate\": \"City=CASTRO VALLEY<br>Latitude=%{lat}<br>Longitude=%{lon}<extra></extra>\", \"lat\": [37.7011386, 37.7222721, 37.684968, 37.6939711, 37.7052887], \"legendgroup\": \"CASTRO VALLEY\", \"lon\": [-122.0636672, -122.0864338, -122.0674552, -122.0691326, -122.0859249], \"marker\": {\"color\": \"#19d3f3\"}, \"mode\": \"markers\", \"name\": \"CASTRO VALLEY\", \"showlegend\": true, \"subplot\": \"mapbox\", \"type\": \"scattermapbox\"}, {\"hovertemplate\": \"City=NEWARK<br>Latitude=%{lat}<br>Longitude=%{lon}<extra></extra>\", \"lat\": [37.5409294, 37.5185415, 37.5296915, 37.5237944], \"legendgroup\": \"NEWARK\", \"lon\": [-122.0319246, -121.992313, -122.0454023, -122.0508382], \"marker\": {\"color\": \"#FF6692\"}, \"mode\": \"markers\", \"name\": \"NEWARK\", \"showlegend\": true, \"subplot\": \"mapbox\", \"type\": \"scattermapbox\"}, {\"hovertemplate\": \"City=UNION CITY<br>Latitude=%{lat}<br>Longitude=%{lon}<extra></extra>\", \"lat\": [37.5876544, 37.584681, 37.5978174, 37.602872, 37.5838972, 37.5919492, 37.5902421, 37.521693], \"legendgroup\": \"UNION CITY\", \"lon\": [-122.0798363, -122.070605, -122.0255016, -122.0291027, -122.0664385, -122.0758694, -122.0790623, -121.9353026], \"marker\": {\"color\": \"#B6E880\"}, \"mode\": \"markers\", \"name\": \"UNION CITY\", \"showlegend\": true, \"subplot\": \"mapbox\", \"type\": \"scattermapbox\"}, {\"hovertemplate\": \"City=FREMONT<br>Latitude=%{lat}<br>Longitude=%{lon}<extra></extra>\", \"lat\": [37.5561111, 37.5249699, 37.521693, 37.5384355, 37.5624046, 37.505246, 37.4569196, 37.5178259, 37.55297, 37.560802, 37.5785339, 37.5773087, 37.574731, 37.5834344, 37.5605619, 37.5851299, 37.5624722, 37.4893959, 37.4712364, 37.5168193], \"legendgroup\": \"FREMONT\", \"lon\": [-121.9673195, -121.9192601, -121.9353026, -121.9557933, -122.0592829, -121.937908, -121.9263624, -121.9302113, -122.0154346, -121.9881722, -122.0417246, -122.0502465, -122.0555021, -122.0329924, -122.0235793, -122.0244117, -122.0543933, -121.9301814, -121.9345716, -121.9429273], \"marker\": {\"color\": \"#FF97FF\"}, \"mode\": \"markers\", \"name\": \"FREMONT\", \"showlegend\": true, \"subplot\": \"mapbox\", \"type\": \"scattermapbox\"}, {\"hovertemplate\": \"City=HAYWARD<br>Latitude=%{lat}<br>Longitude=%{lon}<extra></extra>\", \"lat\": [37.6841122, 37.6299665, 37.6719633, 37.6761183, 37.6712509, 37.6399931, 37.606108, 37.6319518, 37.6273545, 37.6207763, 37.642806, 37.6272674, 37.6399931, 37.6247522, 37.6294389, 37.6274915, 37.6327985, 37.6520837, 37.6371528, 37.6269896, 37.6464211, 37.6503106, 37.6831623, 37.620009, 37.6493405], \"legendgroup\": \"HAYWARD\", \"lon\": [-122.0592842, -122.0695371, -122.0790561, -122.0933043, -122.0970931, -122.0913073, -122.0927192, -122.0686621, -122.0803495, -122.0366517, -122.0749744, -122.0841952, -122.0913073, -122.0846538, -122.0838036, -122.0798372, -122.0606508, -122.0961425, -122.1029695, -122.0973881, -122.1095388, -122.040423, -122.063828, -122.072131, -122.1170659], \"marker\": {\"color\": \"#FECB52\"}, \"mode\": \"markers\", \"name\": \"HAYWARD\", \"showlegend\": true, \"subplot\": \"mapbox\", \"type\": \"scattermapbox\"}, {\"hovertemplate\": \"City=LIVERMORE<br>Latitude=%{lat}<br>Longitude=%{lon}<extra></extra>\", \"lat\": [37.7113397, 37.6744371, 37.6905794, 37.6641178, 37.6737048, 37.6725809, 37.6814131, 37.706021, 37.7214005], \"legendgroup\": \"LIVERMORE\", \"lon\": [-121.750235, -121.7670133, -121.7861294, -121.7748442, -121.7286858, -121.7638417, -121.7834312, -121.8055143, -121.7289474], \"marker\": {\"color\": \"#636efa\"}, \"mode\": \"markers\", \"name\": \"LIVERMORE\", \"showlegend\": true, \"subplot\": \"mapbox\", \"type\": \"scattermapbox\"}, {\"hovertemplate\": \"City=DUBLIN<br>Latitude=%{lat}<br>Longitude=%{lon}<extra></extra>\", \"lat\": [37.7235325, 37.7103414, 37.7164983, 37.726183, 37.7179342], \"legendgroup\": \"DUBLIN\", \"lon\": [-121.9313001, -121.862109, -121.8589773, -121.8585269, -121.9336713], \"marker\": {\"color\": \"#EF553B\"}, \"mode\": \"markers\", \"name\": \"DUBLIN\", \"showlegend\": true, \"subplot\": \"mapbox\", \"type\": \"scattermapbox\"}, {\"hovertemplate\": \"City=PLEASANTON<br>Latitude=%{lat}<br>Longitude=%{lon}<extra></extra>\", \"lat\": [37.645606, 37.6674645, 37.6606719, 37.6507967, 37.6945673, 37.64845425, 37.6898732, 37.6938334], \"legendgroup\": \"PLEASANTON\", \"lon\": [-121.9034429, -121.8465838, -121.8412383, -121.8993241, -121.8899533, -121.8881299, -121.8794938, -121.8910371], \"marker\": {\"color\": \"#00cc96\"}, \"mode\": \"markers\", \"name\": \"PLEASANTON\", \"showlegend\": true, \"subplot\": \"mapbox\", \"type\": \"scattermapbox\"}, {\"hovertemplate\": \"City=EMERYVILLE<br>Latitude=%{lat}<br>Longitude=%{lon}<extra></extra>\", \"lat\": [37.8381792, 37.8371158], \"legendgroup\": \"EMERYVILLE\", \"lon\": [-122.2841351, -122.2937355], \"marker\": {\"color\": \"#ab63fa\"}, \"mode\": \"markers\", \"name\": \"EMERYVILLE\", \"showlegend\": true, \"subplot\": \"mapbox\", \"type\": \"scattermapbox\"}, {\"hovertemplate\": \"City=SAN LORENZO<br>Latitude=%{lat}<br>Longitude=%{lon}<extra></extra>\", \"lat\": [37.6700588, 37.6773466, 37.6754665, 37.6648921], \"legendgroup\": \"SAN LORENZO\", \"lon\": [-122.1420777, -122.1426126, -122.1294864, -122.1409791], \"marker\": {\"color\": \"#FFA15A\"}, \"mode\": \"markers\", \"name\": \"SAN LORENZO\", \"showlegend\": true, \"subplot\": \"mapbox\", \"type\": \"scattermapbox\"}, {\"hovertemplate\": \"City=PIEDMONT<br>Latitude=%{lat}<br>Longitude=%{lon}<extra></extra>\", \"lat\": [37.82609875], \"legendgroup\": \"PIEDMONT\", \"lon\": [-122.239126], \"marker\": {\"color\": \"#19d3f3\"}, \"mode\": \"markers\", \"name\": \"PIEDMONT\", \"showlegend\": true, \"subplot\": \"mapbox\", \"type\": \"scattermapbox\"}, {\"hovertemplate\": \"City=DISCOVERY BAY<br>Latitude=%{lat}<br>Longitude=%{lon}<extra></extra>\", \"lat\": [37.9115372, 37.8941793, 37.9211022, 37.9569654, 37.9025696, 37.8916303, 37.9078419, 37.8944977, 37.9035869, 37.9217757], \"legendgroup\": \"DISCOVERY BAY\", \"lon\": [-121.5956466, -121.5975778, -121.6211056, -122.0394116, -121.5896818, -121.5954102, -121.6176859, -121.6105755, -121.6043871, -121.6210559], \"marker\": {\"color\": \"#FF6692\"}, \"mode\": \"markers\", \"name\": \"DISCOVERY BAY\", \"showlegend\": true, \"subplot\": \"mapbox\", \"type\": \"scattermapbox\"}, {\"hovertemplate\": \"City=BRENTWOOD<br>Latitude=%{lat}<br>Longitude=%{lon}<extra></extra>\", \"lat\": [37.9319225, 36.3816584, 37.9234792, 37.944649, 37.9533763, 37.9639051, 37.9246038, 37.939933, 37.9655811, 37.9384007, 37.9326444], \"legendgroup\": \"BRENTWOOD\", \"lon\": [-121.7494748, -82.4004815, -121.6939622, -121.7016186, -121.7316601, -121.6915372, -121.7145708, -121.695546, -121.7192647, -121.6946142, -121.7114688], \"marker\": {\"color\": \"#B6E880\"}, \"mode\": \"markers\", \"name\": \"BRENTWOOD\", \"showlegend\": true, \"subplot\": \"mapbox\", \"type\": \"scattermapbox\"}, {\"hovertemplate\": \"City=OAKLEY<br>Latitude=%{lat}<br>Longitude=%{lon}<extra></extra>\", \"lat\": [37.9849606, 38.0064618, 37.9884182, 37.990165, 38.005638, 37.9911156, 37.9886756, 37.9814941, 37.9925531, 37.9916723, 37.9798209, 37.9994842, 37.9878881, 37.9751693, 38.005638, 37.9798209, 37.9878881], \"legendgroup\": \"OAKLEY\", \"lon\": [-121.7147764, -121.7299033, -121.7431661, -121.6364599, -121.7508234, -121.7272371, -121.7284624, -121.7163035, -121.6943777, -121.6930558, -121.7007261, -121.7216594, -121.7139392, -121.6873331, -121.7508234, -121.7007261, -121.7139392], \"marker\": {\"color\": \"#FF97FF\"}, \"mode\": \"markers\", \"name\": \"OAKLEY\", \"showlegend\": true, \"subplot\": \"mapbox\", \"type\": \"scattermapbox\"}, {\"hovertemplate\": \"City=ANTIOCH<br>Latitude=%{lat}<br>Longitude=%{lon}<extra></extra>\", \"lat\": [37.9662848, 38.0155113, 37.9710522, 37.9854335, 37.9561008, 37.9985846, 37.956835, 38.0038645, 37.9941324, 37.9752209, 37.9999581, 38.0041356, 38.0117107, 38.008521, 37.9790453, 37.9643, 37.9998475, 37.9985846, 37.9731573, 37.9576294, 37.965647, 37.9820628, 37.9598862, 37.9842124, 37.9658834, 38.0034162, 37.9919393, 38.0008272, 37.9793355, 37.9861868, 38.0036463, 37.9590729], \"legendgroup\": \"ANTIOCH\", \"lon\": [-121.7584299, -121.8222076, -121.8016163, -121.8352246, -121.7638743, -121.8152216, -121.8000284, -121.7981106, -121.7771758, -121.7685039, -121.7627457, -121.8043868, -121.8013933, -121.7993564, -121.7902659, -121.752342, -121.7885789, -121.8152216, -121.7725036, -121.7570132, -121.7922882, -121.771285, -121.7555214, -121.8323031, -121.7663066, -121.789283, -121.7958176, -121.8006823, -121.8273765, -121.8043913, -121.8182504, -121.7917498], \"marker\": {\"color\": \"#FECB52\"}, \"mode\": \"markers\", \"name\": \"ANTIOCH\", \"showlegend\": true, \"subplot\": \"mapbox\", \"type\": \"scattermapbox\"}, {\"hovertemplate\": \"City=PITTSBURG<br>Latitude=%{lat}<br>Longitude=%{lon}<extra></extra>\", \"lat\": [38.030308, 38.0064473, 38.0035548, 38.011747, 38.0226543, 37.9941582, 38.0108003, 38.0017128, 37.9995713, 37.9984263, 38.0127072], \"legendgroup\": \"PITTSBURG\", \"lon\": [-121.8883917, -121.9498785, -121.8909881, -121.8959305, -121.8965057, -121.8775058, -121.9622134, -121.8716479, -121.9064437, -121.8759749, -121.9648171], \"marker\": {\"color\": \"#636efa\"}, \"mode\": \"markers\", \"name\": \"PITTSBURG\", \"showlegend\": true, \"subplot\": \"mapbox\", \"type\": \"scattermapbox\"}, {\"hovertemplate\": \"City=CONCORD<br>Latitude=%{lat}<br>Longitude=%{lon}<extra></extra>\", \"lat\": [37.9877875, 37.9481281, 37.9784546, 37.9649742, 37.9397818, 37.9780768, 37.9487967, 37.9459381, 37.9792525, 37.9874291, 37.9632102, 37.9446982], \"legendgroup\": \"CONCORD\", \"lon\": [-122.0643878, -121.9749269, -122.037776, -121.992544, -122.0360539, -121.9943115, -121.9802796, -122.0325264, -122.0041197, -122.0264493, -122.0165355, -122.0311849], \"marker\": {\"color\": \"#EF553B\"}, \"mode\": \"markers\", \"name\": \"CONCORD\", \"showlegend\": true, \"subplot\": \"mapbox\", \"type\": \"scattermapbox\"}, {\"hovertemplate\": \"City=PLEASANT HILL<br>Latitude=%{lat}<br>Longitude=%{lon}<extra></extra>\", \"lat\": [37.9713373, 37.9457602, 37.9708684, 37.9713373, 37.9390005], \"legendgroup\": \"PLEASANT HILL\", \"lon\": [-122.0925157, -122.0705487, -122.0986678, -122.0925157, -122.0716695], \"marker\": {\"color\": \"#00cc96\"}, \"mode\": \"markers\", \"name\": \"PLEASANT HILL\", \"showlegend\": true, \"subplot\": \"mapbox\", \"type\": \"scattermapbox\"}, {\"hovertemplate\": \"City=WALNUT CREEK<br>Latitude=%{lat}<br>Longitude=%{lon}<extra></extra>\", \"lat\": [37.9026535, 37.9242335, 37.9263451, 37.930743, 37.9012287, 37.9026535, 37.9122472, 37.8994311, 37.9122472], \"legendgroup\": \"WALNUT CREEK\", \"lon\": [-122.0545301, -122.0210642, -122.061011, -122.0116262, -122.0806348, -122.0545301, -122.0599719, -122.0521893, -122.0599719], \"marker\": {\"color\": \"#ab63fa\"}, \"mode\": \"markers\", \"name\": \"WALNUT CREEK\", \"showlegend\": true, \"subplot\": \"mapbox\", \"type\": \"scattermapbox\"}, {\"hovertemplate\": \"City=ALAMO<br>Latitude=%{lat}<br>Longitude=%{lon}<extra></extra>\", \"lat\": [37.8678091, 37.8403326, 37.860925], \"legendgroup\": \"ALAMO\", \"lon\": [-122.0514536, -122.0297331, -122.037273], \"marker\": {\"color\": \"#FFA15A\"}, \"mode\": \"markers\", \"name\": \"ALAMO\", \"showlegend\": true, \"subplot\": \"mapbox\", \"type\": \"scattermapbox\"}, {\"hovertemplate\": \"City=MORAGA<br>Latitude=%{lat}<br>Longitude=%{lon}<extra></extra>\", \"lat\": [37.8631465, 37.8575414, 37.8441975], \"legendgroup\": \"MORAGA\", \"lon\": [-122.1302472, -122.1288445, -122.1366955], \"marker\": {\"color\": \"#19d3f3\"}, \"mode\": \"markers\", \"name\": \"MORAGA\", \"showlegend\": true, \"subplot\": \"mapbox\", \"type\": \"scattermapbox\"}, {\"hovertemplate\": \"City=ORINDA<br>Latitude=%{lat}<br>Longitude=%{lon}<extra></extra>\", \"lat\": [37.8664553, 37.883649, 37.8507545, 37.8884659], \"legendgroup\": \"ORINDA\", \"lon\": [-122.1531374, -122.1919977, -122.1661985, -122.2004665], \"marker\": {\"color\": \"#FF6692\"}, \"mode\": \"markers\", \"name\": \"ORINDA\", \"showlegend\": true, \"subplot\": \"mapbox\", \"type\": \"scattermapbox\"}, {\"hovertemplate\": \"City=PINOLE<br>Latitude=%{lat}<br>Longitude=%{lon}<extra></extra>\", \"lat\": [37.9862513, 38.004092, 37.994725, 38.0077688, 38.0069188, 38.0096153], \"legendgroup\": \"PINOLE\", \"lon\": [-122.2716118, -122.2997531, -122.2878825, -122.3035844, -122.3021341, -122.2954543], \"marker\": {\"color\": \"#B6E880\"}, \"mode\": \"markers\", \"name\": \"PINOLE\", \"showlegend\": true, \"subplot\": \"mapbox\", \"type\": \"scattermapbox\"}, {\"hovertemplate\": \"City=EL SOBRANTE<br>Latitude=%{lat}<br>Longitude=%{lon}<extra></extra>\", \"lat\": [37.9828087, 37.9481279, 37.9821884, 37.9737637], \"legendgroup\": \"EL SOBRANTE\", \"lon\": [-122.3108961, -122.3520858, -122.3003615, -122.2841306], \"marker\": {\"color\": \"#FF97FF\"}, \"mode\": \"markers\", \"name\": \"EL SOBRANTE\", \"showlegend\": true, \"subplot\": \"mapbox\", \"type\": \"scattermapbox\"}, {\"hovertemplate\": \"City=RICHMOND<br>Latitude=%{lat}<br>Longitude=%{lon}<extra></extra>\", \"lat\": [37.9318513, 37.9403478, 37.9540479, 37.9252423, 37.9403507, 37.9115022, 37.94792515, 37.9338225, 37.9368472, 37.9488405, 37.9481279, 37.9368373, 37.9485162, 37.9540487, 37.904994, 37.9249851, 37.9302077, 37.9431987, 37.9067285, 37.9366001, 37.9154915, 37.9096865], \"legendgroup\": \"RICHMOND\", \"lon\": [-121.9288734, -122.3657834, -122.366945, -122.3466854, -122.3653107, -122.3430393, -122.322647, -122.3486226, -122.3561981, -122.3520816, -122.3520858, -122.3666821, -122.3265923, -122.3736572, -122.3112992, -122.3842432, -122.3420114, -122.3643426, -122.3054009, -122.3543708, -122.3476322, -122.3813985], \"marker\": {\"color\": \"#FECB52\"}, \"mode\": \"markers\", \"name\": \"RICHMOND\", \"showlegend\": true, \"subplot\": \"mapbox\", \"type\": \"scattermapbox\"}, {\"hovertemplate\": \"City=CLAYTON<br>Latitude=%{lat}<br>Longitude=%{lon}<extra></extra>\", \"lat\": [37.9384266], \"legendgroup\": \"CLAYTON\", \"lon\": [-122.3704583], \"marker\": {\"color\": \"#636efa\"}, \"mode\": \"markers\", \"name\": \"CLAYTON\", \"showlegend\": true, \"subplot\": \"mapbox\", \"type\": \"scattermapbox\"}, {\"hovertemplate\": \"City=PACHECO<br>Latitude=%{lat}<br>Longitude=%{lon}<extra></extra>\", \"lat\": [37.9842454, 37.9863778], \"legendgroup\": \"PACHECO\", \"lon\": [-122.0714054, -122.0764405], \"marker\": {\"color\": \"#EF553B\"}, \"mode\": \"markers\", \"name\": \"PACHECO\", \"showlegend\": true, \"subplot\": \"mapbox\", \"type\": \"scattermapbox\"}, {\"hovertemplate\": \"City=SAN RAMON<br>Latitude=%{lat}<br>Longitude=%{lon}<extra></extra>\", \"lat\": [37.7383641, 37.7485725, 37.7705208, 37.785965, 37.7274171], \"legendgroup\": \"SAN RAMON\", \"lon\": [-121.9245684, -121.9388437, -121.9804181, -121.9263239, -121.9346576], \"marker\": {\"color\": \"#00cc96\"}, \"mode\": \"markers\", \"name\": \"SAN RAMON\", \"showlegend\": true, \"subplot\": \"mapbox\", \"type\": \"scattermapbox\"}, {\"hovertemplate\": \"City=MARTINEZ<br>Latitude=%{lat}<br>Longitude=%{lon}<extra></extra>\", \"lat\": [37.977287, 37.9872206, 37.9934193, 38.0156263, 37.9879861], \"legendgroup\": \"MARTINEZ\", \"lon\": [-122.1006937, -122.0801198, -122.0811436, -122.1276776, -122.1413708], \"marker\": {\"color\": \"#ab63fa\"}, \"mode\": \"markers\", \"name\": \"MARTINEZ\", \"showlegend\": true, \"subplot\": \"mapbox\", \"type\": \"scattermapbox\"}, {\"hovertemplate\": \"City=DANVILLE<br>Latitude=%{lat}<br>Longitude=%{lon}<extra></extra>\", \"lat\": [37.7996597, 37.8193372, 37.82298, 37.8295551, 37.793132, 37.7962659, 37.8167385, 37.8010041], \"legendgroup\": \"DANVILLE\", \"lon\": [-121.9040015, -121.9954181, -121.989865, -122.0043476, -121.9662112, -121.9229957, -121.9594488, -121.965692], \"marker\": {\"color\": \"#FFA15A\"}, \"mode\": \"markers\", \"name\": \"DANVILLE\", \"showlegend\": true, \"subplot\": \"mapbox\", \"type\": \"scattermapbox\"}, {\"hovertemplate\": \"City=LAFAYETTE<br>Latitude=%{lat}<br>Longitude=%{lon}<extra></extra>\", \"lat\": [37.9251369, 37.8935196, 37.892852], \"legendgroup\": \"LAFAYETTE\", \"lon\": [-122.1061224, -122.1102862, -122.0832723], \"marker\": {\"color\": \"#19d3f3\"}, \"mode\": \"markers\", \"name\": \"LAFAYETTE\", \"showlegend\": true, \"subplot\": \"mapbox\", \"type\": \"scattermapbox\"}, {\"hovertemplate\": \"City=EL CERRITO<br>Latitude=%{lat}<br>Longitude=%{lon}<extra></extra>\", \"lat\": [37.9173895, 37.9321043, 37.900754, 37.9382934], \"legendgroup\": \"EL CERRITO\", \"lon\": [-122.2909882, -122.2999132, -122.3049231, -122.3130823], \"marker\": {\"color\": \"#FF6692\"}, \"mode\": \"markers\", \"name\": \"EL CERRITO\", \"showlegend\": true, \"subplot\": \"mapbox\", \"type\": \"scattermapbox\"}, {\"hovertemplate\": \"City=HERCULES<br>Latitude=%{lat}<br>Longitude=%{lon}<extra></extra>\", \"lat\": [38.0163303, 38.0130883, 38.0089369, 38.0148573, 38.0291784, 38.0163303, 37.9978467], \"legendgroup\": \"HERCULES\", \"lon\": [-122.2786439, -122.2917808, -122.2801628, -122.2788226, -122.2750997, -122.2786439, -122.239536], \"marker\": {\"color\": \"#B6E880\"}, \"mode\": \"markers\", \"name\": \"HERCULES\", \"showlegend\": true, \"subplot\": \"mapbox\", \"type\": \"scattermapbox\"}, {\"hovertemplate\": \"City=SAN PABLO<br>Latitude=%{lat}<br>Longitude=%{lon}<extra></extra>\", \"lat\": [37.9534062, 37.9724316, 37.95643445, 37.9593848, 37.9534062], \"legendgroup\": \"SAN PABLO\", \"lon\": [-122.3513302, -122.349131, -122.3358557, -122.3504976, -122.3513302], \"marker\": {\"color\": \"#FF97FF\"}, \"mode\": \"markers\", \"name\": \"SAN PABLO\", \"showlegend\": true, \"subplot\": \"mapbox\", \"type\": \"scattermapbox\"}, {\"hovertemplate\": \"City=KENSINGTON<br>Latitude=%{lat}<br>Longitude=%{lon}<extra></extra>\", \"lat\": [37.9003111], \"legendgroup\": \"KENSINGTON\", \"lon\": [-122.2844894], \"marker\": {\"color\": \"#FECB52\"}, \"mode\": \"markers\", \"name\": \"KENSINGTON\", \"showlegend\": true, \"subplot\": \"mapbox\", \"type\": \"scattermapbox\"}, {\"hovertemplate\": \"City=RODEO<br>Latitude=%{lat}<br>Longitude=%{lon}<extra></extra>\", \"lat\": [38.0268239], \"legendgroup\": \"RODEO\", \"lon\": [-122.25424], \"marker\": {\"color\": \"#636efa\"}, \"mode\": \"markers\", \"name\": \"RODEO\", \"showlegend\": true, \"subplot\": \"mapbox\", \"type\": \"scattermapbox\"}, {\"hovertemplate\": \"City=CORTE MADERA<br>Latitude=%{lat}<br>Longitude=%{lon}<extra></extra>\", \"lat\": [37.9226328], \"legendgroup\": \"CORTE MADERA\", \"lon\": [-122.4992802], \"marker\": {\"color\": \"#EF553B\"}, \"mode\": \"markers\", \"name\": \"CORTE MADERA\", \"showlegend\": true, \"subplot\": \"mapbox\", \"type\": \"scattermapbox\"}, {\"hovertemplate\": \"City=MILL VALLEY<br>Latitude=%{lat}<br>Longitude=%{lon}<extra></extra>\", \"lat\": [37.9128256, 37.9168687, 37.9122962, 37.8922685], \"legendgroup\": \"MILL VALLEY\", \"lon\": [-122.5187823, -122.5538448, -122.5399077, -122.5200138], \"marker\": {\"color\": \"#00cc96\"}, \"mode\": \"markers\", \"name\": \"MILL VALLEY\", \"showlegend\": true, \"subplot\": \"mapbox\", \"type\": \"scattermapbox\"}, {\"hovertemplate\": \"City=NOVATO<br>Latitude=%{lat}<br>Longitude=%{lon}<extra></extra>\", \"lat\": [38.0713645, 38.07984, 38.0746398, 38.1192579, 38.1059389, 38.0997681, 38.1043131, 38.0877895], \"legendgroup\": \"NOVATO\", \"lon\": [-122.5380196, -122.5558017, -122.5647352, -122.6042712, -122.5825234, -122.5777496, -122.5716066, -122.5685431], \"marker\": {\"color\": \"#ab63fa\"}, \"mode\": \"markers\", \"name\": \"NOVATO\", \"showlegend\": true, \"subplot\": \"mapbox\", \"type\": \"scattermapbox\"}, {\"hovertemplate\": \"City=SAN ANSELMO<br>Latitude=%{lat}<br>Longitude=%{lon}<extra></extra>\", \"lat\": [37.9714085, 37.9949562], \"legendgroup\": \"SAN ANSELMO\", \"lon\": [-122.5653279, -122.5769357], \"marker\": {\"color\": \"#FFA15A\"}, \"mode\": \"markers\", \"name\": \"SAN ANSELMO\", \"showlegend\": true, \"subplot\": \"mapbox\", \"type\": \"scattermapbox\"}, {\"hovertemplate\": \"City=SAN RAFAEL<br>Latitude=%{lat}<br>Longitude=%{lon}<extra></extra>\", \"lat\": [37.9644432, 38.019446, 37.9866437, 37.9735598, 37.9988272, 37.9751301, 37.9733278, 37.9865268, 38.0069229, 37.9719018, 37.9816984, 38.0096631, 38.0034037], \"legendgroup\": \"SAN RAFAEL\", \"lon\": [-122.4964339, -122.5367283, -122.5365133, -122.532427, -122.5497652, -122.5016276, -122.4965409, -122.5127259, -122.562819, -122.5379295, -122.5216192, -122.5489424, -122.5483138], \"marker\": {\"color\": \"#19d3f3\"}, \"mode\": \"markers\", \"name\": \"SAN RAFAEL\", \"showlegend\": true, \"subplot\": \"mapbox\", \"type\": \"scattermapbox\"}, {\"hovertemplate\": \"City=FAIRFAX<br>Latitude=%{lat}<br>Longitude=%{lon}<extra></extra>\", \"lat\": [37.9841726, 38.002065, 37.9850224], \"legendgroup\": \"FAIRFAX\", \"lon\": [-122.5936909, -122.6035144, -122.5950105], \"marker\": {\"color\": \"#FF6692\"}, \"mode\": \"markers\", \"name\": \"FAIRFAX\", \"showlegend\": true, \"subplot\": \"mapbox\", \"type\": \"scattermapbox\"}, {\"hovertemplate\": \"City=TIBURON<br>Latitude=%{lat}<br>Longitude=%{lon}<extra></extra>\", \"lat\": [37.8730004, 37.8730004], \"legendgroup\": \"TIBURON\", \"lon\": [-122.4527133, -122.4527133], \"marker\": {\"color\": \"#B6E880\"}, \"mode\": \"markers\", \"name\": \"TIBURON\", \"showlegend\": true, \"subplot\": \"mapbox\", \"type\": \"scattermapbox\"}, {\"hovertemplate\": \"City=BELVEDERE<br>Latitude=%{lat}<br>Longitude=%{lon}<extra></extra>\", \"lat\": [37.8742659], \"legendgroup\": \"BELVEDERE\", \"lon\": [-122.4696283], \"marker\": {\"color\": \"#FF97FF\"}, \"mode\": \"markers\", \"name\": \"BELVEDERE\", \"showlegend\": true, \"subplot\": \"mapbox\", \"type\": \"scattermapbox\"}, {\"hovertemplate\": \"City=BOLINAS<br>Latitude=%{lat}<br>Longitude=%{lon}<extra></extra>\", \"lat\": [37.918225], \"legendgroup\": \"BOLINAS\", \"lon\": [-122.713097], \"marker\": {\"color\": \"#FECB52\"}, \"mode\": \"markers\", \"name\": \"BOLINAS\", \"showlegend\": true, \"subplot\": \"mapbox\", \"type\": \"scattermapbox\"}, {\"hovertemplate\": \"City=GREENBRAE<br>Latitude=%{lat}<br>Longitude=%{lon}<extra></extra>\", \"lat\": [37.937924], \"legendgroup\": \"GREENBRAE\", \"lon\": [-122.520586], \"marker\": {\"color\": \"#636efa\"}, \"mode\": \"markers\", \"name\": \"GREENBRAE\", \"showlegend\": true, \"subplot\": \"mapbox\", \"type\": \"scattermapbox\"}, {\"hovertemplate\": \"City=DILLON BEACH<br>Latitude=%{lat}<br>Longitude=%{lon}<extra></extra>\", \"lat\": [38.250807], \"legendgroup\": \"DILLON BEACH\", \"lon\": [-122.9635453], \"marker\": {\"color\": \"#EF553B\"}, \"mode\": \"markers\", \"name\": \"DILLON BEACH\", \"showlegend\": true, \"subplot\": \"mapbox\", \"type\": \"scattermapbox\"}, {\"hovertemplate\": \"City=SAUSALITO<br>Latitude=%{lat}<br>Longitude=%{lon}<extra></extra>\", \"lat\": [37.8601475], \"legendgroup\": \"SAUSALITO\", \"lon\": [-122.4956126], \"marker\": {\"color\": \"#00cc96\"}, \"mode\": \"markers\", \"name\": \"SAUSALITO\", \"showlegend\": true, \"subplot\": \"mapbox\", \"type\": \"scattermapbox\"}, {\"hovertemplate\": \"City=LARKSPUR<br>Latitude=%{lat}<br>Longitude=%{lon}<extra></extra>\", \"lat\": [37.9278315], \"legendgroup\": \"LARKSPUR\", \"lon\": [-122.5345224], \"marker\": {\"color\": \"#ab63fa\"}, \"mode\": \"markers\", \"name\": \"LARKSPUR\", \"showlegend\": true, \"subplot\": \"mapbox\", \"type\": \"scattermapbox\"}, {\"hovertemplate\": \"City=NAPA<br>Latitude=%{lat}<br>Longitude=%{lon}<extra></extra>\", \"lat\": [38.2914669, 38.3381257, 38.3173418, 38.6078148, 38.3020342, 38.3354723, 38.3180877, 38.3389896, 38.2912163, 38.3085506, 38.286556, 38.3233699, 38.3180877, 38.313911, 38.286556, 38.421552, 38.2760673, 38.3061464], \"legendgroup\": \"NAPA\", \"lon\": [-122.2829929, -122.3199026, -122.312012, -122.2784958, -122.2746002, -122.3123743, -122.3267307, -122.3149724, -122.2930375, -122.2862598, -122.2747543, -122.3184457, -122.3267307, -122.2758336, -122.2747543, -122.418987, -122.2945802, -122.3062376], \"marker\": {\"color\": \"#FFA15A\"}, \"mode\": \"markers\", \"name\": \"NAPA\", \"showlegend\": true, \"subplot\": \"mapbox\", \"type\": \"scattermapbox\"}, {\"hovertemplate\": \"City=AMERICAN CANYON<br>Latitude=%{lat}<br>Longitude=%{lon}<extra></extra>\", \"lat\": [38.1729794, 38.2025657, 38.1595736, 38.1688418, 38.1794266], \"legendgroup\": \"AMERICAN CANYON\", \"lon\": [-122.2619215, -122.2932326, -122.2417641, -122.2606002, -122.2669052], \"marker\": {\"color\": \"#19d3f3\"}, \"mode\": \"markers\", \"name\": \"AMERICAN CANYON\", \"showlegend\": true, \"subplot\": \"mapbox\", \"type\": \"scattermapbox\"}, {\"hovertemplate\": \"City=SAINT HELENA<br>Latitude=%{lat}<br>Longitude=%{lon}<extra></extra>\", \"lat\": [38.5003695], \"legendgroup\": \"SAINT HELENA\", \"lon\": [-122.4780789], \"marker\": {\"color\": \"#FF6692\"}, \"mode\": \"markers\", \"name\": \"SAINT HELENA\", \"showlegend\": true, \"subplot\": \"mapbox\", \"type\": \"scattermapbox\"}, {\"hovertemplate\": \"City=Unknown<br>Latitude=%{lat}<br>Longitude=%{lon}<extra></extra>\", \"lat\": [45.9505675, 45.9505675, 45.9505675, 45.9505675, 45.9505675, 45.9505675, 45.9505675], \"legendgroup\": \"Unknown\", \"lon\": [-62.7476236, -62.7476236, -62.7476236, -62.7476236, -62.7476236, -62.7476236, -62.7476236], \"marker\": {\"color\": \"#B6E880\"}, \"mode\": \"markers\", \"name\": \"Unknown\", \"showlegend\": true, \"subplot\": \"mapbox\", \"type\": \"scattermapbox\"}, {\"hovertemplate\": \"City=DALY CITY<br>Latitude=%{lat}<br>Longitude=%{lon}<extra></extra>\", \"lat\": [37.6719303, 37.7037165, 37.6655221, 37.6262252, 37.7061188, 37.6994637, 37.6876836, 37.6573755, 37.7080402, 37.678223, 37.7063408, 37.6763184, 37.6644424, 37.2196828, 37.7037165, 37.6262252, 37.7061188, 37.6994637, 37.6876836, 37.6946294, 37.6573755, 37.7080402, 37.678223, 37.7063408, 37.6763184], \"legendgroup\": \"DALY CITY\", \"lon\": [-122.4810499, -122.4243757, -122.4633994, -122.441989, -122.4677624, -122.4698886, -122.4889016, -122.4713561, -122.450713, -122.4869135, -122.4132569, -122.4782899, -122.4559925, -121.950506, -122.4243757, -122.441989, -122.4677624, -122.4698886, -122.4889016, -122.4578354, -122.4713561, -122.450713, -122.4869135, -122.4132569, -122.4782899], \"marker\": {\"color\": \"#FF97FF\"}, \"mode\": \"markers\", \"name\": \"DALY CITY\", \"showlegend\": true, \"subplot\": \"mapbox\", \"type\": \"scattermapbox\"}, {\"hovertemplate\": \"City=SAN BRUNO<br>Latitude=%{lat}<br>Longitude=%{lon}<extra></extra>\", \"lat\": [37.628285, 37.631227, 37.708215, 37.6279865, 37.6357465, 37.6258586, 37.6294522, 37.6287555, 37.6219271, 37.6719303, 37.3305519, 37.3059602, 37.6279865, 37.6357465, 37.6258586, 37.6294522, 37.6287555, 37.6219271], \"legendgroup\": \"SAN BRUNO\", \"lon\": [-122.4092442, -122.4559123, -122.452347, -122.4153095, -122.4535308, -122.4508665, -122.4403901, -122.4561698, -122.425692, -122.4810499, -121.9039717, -121.7817889, -122.4153095, -122.4535308, -122.4508665, -122.4403901, -122.4561698, -122.425692], \"marker\": {\"color\": \"#FECB52\"}, \"mode\": \"markers\", \"name\": \"SAN BRUNO\", \"showlegend\": true, \"subplot\": \"mapbox\", \"type\": \"scattermapbox\"}, {\"hovertemplate\": \"City=BELMONT<br>Latitude=%{lat}<br>Longitude=%{lon}<extra></extra>\", \"lat\": [37.5194838, 37.5277926, 37.631227, 37.5277926], \"legendgroup\": \"BELMONT\", \"lon\": [-122.2823267, -122.2787112, -122.4559123, -122.2787112], \"marker\": {\"color\": \"#636efa\"}, \"mode\": \"markers\", \"name\": \"BELMONT\", \"showlegend\": true, \"subplot\": \"mapbox\", \"type\": \"scattermapbox\"}, {\"hovertemplate\": \"City=SAN CARLOS<br>Latitude=%{lat}<br>Longitude=%{lon}<extra></extra>\", \"lat\": [37.4598119, 37.5194838], \"legendgroup\": \"SAN CARLOS\", \"lon\": [-122.1943642, -122.2823267], \"marker\": {\"color\": \"#EF553B\"}, \"mode\": \"markers\", \"name\": \"SAN CARLOS\", \"showlegend\": true, \"subplot\": \"mapbox\", \"type\": \"scattermapbox\"}, {\"hovertemplate\": \"City=MENLO PARK<br>Latitude=%{lat}<br>Longitude=%{lon}<extra></extra>\", \"lat\": [37.5096514, 37.4565377, 37.4369106, 37.5354629, 37.5096514, 37.4565377, 37.4369106, 37.4479181], \"legendgroup\": \"MENLO PARK\", \"lon\": [-122.2799249, -122.1885987, -122.1956344, -122.3427965, -122.2799249, -122.1885987, -122.1956344, -122.1731764], \"marker\": {\"color\": \"#00cc96\"}, \"mode\": \"markers\", \"name\": \"MENLO PARK\", \"showlegend\": true, \"subplot\": \"mapbox\", \"type\": \"scattermapbox\"}, {\"hovertemplate\": \"City=EAST PALO ALTO<br>Latitude=%{lat}<br>Longitude=%{lon}<extra></extra>\", \"lat\": [37.4648341, 37.473661, 37.5511079, 37.4618034, 37.4772698, 37.4706406, 37.4719506, 37.4656621, 37.4772698, 37.4703529, 37.4656621, 37.4656621, 37.4729689, 37.4717564, 37.4772698, 37.4598119, 37.473661, 37.5546943, 37.2569346, 37.5744975, 37.5842528, 37.4772698, 37.4656621, 37.4703529, 37.4656621, 37.4656621, 37.4729689, 37.4717564, 37.4772698], \"legendgroup\": \"EAST PALO ALTO\", \"lon\": [-122.1503873, -122.1389049, -122.2552747, -122.138141, -122.135444, -122.1417445, -122.1519599, -122.1434177, -122.135444, -122.150003, -122.1434177, -122.1434177, -122.1526987, -122.1533092, -122.135444, -122.1943642, -122.1389049, -122.292237, -121.8177384, -122.3813177, -122.3663781, -122.135444, -122.1434177, -122.150003, -122.1434177, -122.1434177, -122.1526987, -122.1533092, -122.135444], \"marker\": {\"color\": \"#ab63fa\"}, \"mode\": \"markers\", \"name\": \"EAST PALO ALTO\", \"showlegend\": true, \"subplot\": \"mapbox\", \"type\": \"scattermapbox\"}, {\"hovertemplate\": \"City=SAN MATEO<br>Latitude=%{lat}<br>Longitude=%{lon}<extra></extra>\", \"lat\": [37.5546943, 37.5830558, 37.5634899, 37.560728, 37.4645362, 37.5511079, 37.3270736, 37.4772698, 37.5294919, 37.5634899, 37.5612492], \"legendgroup\": \"SAN MATEO\", \"lon\": [-122.292237, -122.3614222, -122.2965416, -122.3711401, -122.1489006, -122.2552747, -122.3559464, -122.135444, -122.2968932, -122.2965416, -122.3088034], \"marker\": {\"color\": \"#FFA15A\"}, \"mode\": \"markers\", \"name\": \"SAN MATEO\", \"showlegend\": true, \"subplot\": \"mapbox\", \"type\": \"scattermapbox\"}, {\"hovertemplate\": \"City=FOSTER CITY<br>Latitude=%{lat}<br>Longitude=%{lon}<extra></extra>\", \"lat\": [37.4645362, 37.3739555], \"legendgroup\": \"FOSTER CITY\", \"lon\": [-122.1489006, -122.1106515], \"marker\": {\"color\": \"#19d3f3\"}, \"mode\": \"markers\", \"name\": \"FOSTER CITY\", \"showlegend\": true, \"subplot\": \"mapbox\", \"type\": \"scattermapbox\"}, {\"hovertemplate\": \"City=BURLINGAME<br>Latitude=%{lat}<br>Longitude=%{lon}<extra></extra>\", \"lat\": [37.5369183, 37.5744975, 37.5842528, 37.5369183, 37.597147], \"legendgroup\": \"BURLINGAME\", \"lon\": [-122.2976707, -122.3813177, -122.3663781, -122.2976707, -122.5003609], \"marker\": {\"color\": \"#FF6692\"}, \"mode\": \"markers\", \"name\": \"BURLINGAME\", \"showlegend\": true, \"subplot\": \"mapbox\", \"type\": \"scattermapbox\"}, {\"hovertemplate\": \"City=SAN GREGORIO<br>Latitude=%{lat}<br>Longitude=%{lon}<extra></extra>\", \"lat\": [37.3270736, 37.5830558], \"legendgroup\": \"SAN GREGORIO\", \"lon\": [-122.3559464, -122.3614222], \"marker\": {\"color\": \"#B6E880\"}, \"mode\": \"markers\", \"name\": \"SAN GREGORIO\", \"showlegend\": true, \"subplot\": \"mapbox\", \"type\": \"scattermapbox\"}, {\"hovertemplate\": \"City=SOUTH SAN FRANCISCO<br>Latitude=%{lat}<br>Longitude=%{lon}<extra></extra>\", \"lat\": [37.6401748, 37.5920624, 37.5981374, 37.6946294, 37.6464717, 37.6540441, 37.6442435, 37.6599672, 37.667267, 37.4648341, 37.2904519, 37.6533802, 37.6425076, 37.6464717, 37.6540441, 37.6442435, 37.6599672, 37.667267, 37.6644424, 37.6698644], \"legendgroup\": \"SOUTH SAN FRANCISCO\", \"lon\": [-122.4320398, -122.4013802, -122.3961787, -122.4578354, -122.4604361, -122.4487565, -122.3980377, -122.4084537, -122.4163783, -122.1503873, -121.8354229, -122.4515611, -122.4399294, -122.4604361, -122.4487565, -122.3980377, -122.4084537, -122.4163783, -122.4559925, -122.4094453], \"marker\": {\"color\": \"#FF97FF\"}, \"mode\": \"markers\", \"name\": \"SOUTH SAN FRANCISCO\", \"showlegend\": true, \"subplot\": \"mapbox\", \"type\": \"scattermapbox\"}, {\"hovertemplate\": \"City=ATHERTON<br>Latitude=%{lat}<br>Longitude=%{lon}<extra></extra>\", \"lat\": [37.4538784, 37.4513324, 37.4538784, 37.4513324], \"legendgroup\": \"ATHERTON\", \"lon\": [-122.1834443, -122.2080403, -122.1834443, -122.2080403], \"marker\": {\"color\": \"#FECB52\"}, \"mode\": \"markers\", \"name\": \"ATHERTON\", \"showlegend\": true, \"subplot\": \"mapbox\", \"type\": \"scattermapbox\"}, {\"hovertemplate\": \"City=PACIFICA<br>Latitude=%{lat}<br>Longitude=%{lon}<extra></extra>\", \"lat\": [37.5883257, 37.597147, 37.6457361, 37.645134, 37.708215, 37.5883257, 37.6457361, 37.645134], \"legendgroup\": \"PACIFICA\", \"lon\": [-122.4976787, -122.5003609, -122.4754542, -122.4716614, -122.452347, -122.4976787, -122.4754542, -122.4716614], \"marker\": {\"color\": \"#636efa\"}, \"mode\": \"markers\", \"name\": \"PACIFICA\", \"showlegend\": true, \"subplot\": \"mapbox\", \"type\": \"scattermapbox\"}, {\"hovertemplate\": \"City=MILLBRAE<br>Latitude=%{lat}<br>Longitude=%{lon}<extra></extra>\", \"lat\": [37.6533802, 37.6425076, 37.6071431, 37.5920624, 37.5981374, 37.6071431], \"legendgroup\": \"MILLBRAE\", \"lon\": [-122.4515611, -122.4399294, -122.4048902, -122.4013802, -122.3961787, -122.4048902], \"marker\": {\"color\": \"#EF553B\"}, \"mode\": \"markers\", \"name\": \"MILLBRAE\", \"showlegend\": true, \"subplot\": \"mapbox\", \"type\": \"scattermapbox\"}, {\"hovertemplate\": \"City=EL GRANADA<br>Latitude=%{lat}<br>Longitude=%{lon}<extra></extra>\", \"lat\": [37.53329215], \"legendgroup\": \"EL GRANADA\", \"lon\": [-122.2548412], \"marker\": {\"color\": \"#00cc96\"}, \"mode\": \"markers\", \"name\": \"EL GRANADA\", \"showlegend\": true, \"subplot\": \"mapbox\", \"type\": \"scattermapbox\"}, {\"hovertemplate\": \"City=REDWOOD CITY<br>Latitude=%{lat}<br>Longitude=%{lon}<extra></extra>\", \"lat\": [37.486828, 37.5294919, 37.4867667, 37.4784005, 37.442425, 37.4700038, 37.53329215, 37.486828, 37.4867667, 37.4784005, 37.5287964, 37.4700038], \"legendgroup\": \"REDWOOD CITY\", \"lon\": [-122.2462495, -122.2968932, -122.2237374, -122.2018083, -122.241034, -122.2154054, -122.2548412, -122.2462495, -122.2237374, -122.2018083, -122.2457553, -122.2154054], \"marker\": {\"color\": \"#ab63fa\"}, \"mode\": \"markers\", \"name\": \"REDWOOD CITY\", \"showlegend\": true, \"subplot\": \"mapbox\", \"type\": \"scattermapbox\"}, {\"hovertemplate\": \"City=WOODSIDE<br>Latitude=%{lat}<br>Longitude=%{lon}<extra></extra>\", \"lat\": [37.530924, 37.5287964, 37.4468755, 37.4382833, 37.442425, 37.4468755], \"legendgroup\": \"WOODSIDE\", \"lon\": [-122.516794, -122.2457553, -122.2480182, -122.2568786, -122.241034, -122.2480182], \"marker\": {\"color\": \"#FFA15A\"}, \"mode\": \"markers\", \"name\": \"WOODSIDE\", \"showlegend\": true, \"subplot\": \"mapbox\", \"type\": \"scattermapbox\"}, {\"hovertemplate\": \"City=MOSS BEACH<br>Latitude=%{lat}<br>Longitude=%{lon}<extra></extra>\", \"lat\": [37.4382833, 37.530924], \"legendgroup\": \"MOSS BEACH\", \"lon\": [-122.2568786, -122.516794], \"marker\": {\"color\": \"#19d3f3\"}, \"mode\": \"markers\", \"name\": \"MOSS BEACH\", \"showlegend\": true, \"subplot\": \"mapbox\", \"type\": \"scattermapbox\"}, {\"hovertemplate\": \"City=BRISBANE<br>Latitude=%{lat}<br>Longitude=%{lon}<extra></extra>\", \"lat\": [37.6916095, 37.6791686, 37.6916095, 37.6791686], \"legendgroup\": \"BRISBANE\", \"lon\": [-122.4097888, -122.3955333, -122.4097888, -122.3955333], \"marker\": {\"color\": \"#FF6692\"}, \"mode\": \"markers\", \"name\": \"BRISBANE\", \"showlegend\": true, \"subplot\": \"mapbox\", \"type\": \"scattermapbox\"}, {\"hovertemplate\": \"City=HALF MOON BAY<br>Latitude=%{lat}<br>Longitude=%{lon}<extra></extra>\", \"lat\": [37.4534496, 37.4534496, 37.43722, 37.4706406, 37.4534496, 37.4534496, 37.43722], \"legendgroup\": \"HALF MOON BAY\", \"lon\": [-122.4331591, -122.4331591, -122.4356122, -122.1417445, -122.4331591, -122.4331591, -122.4356122], \"marker\": {\"color\": \"#B6E880\"}, \"mode\": \"markers\", \"name\": \"HALF MOON BAY\", \"showlegend\": true, \"subplot\": \"mapbox\", \"type\": \"scattermapbox\"}, {\"hovertemplate\": \"City=MONTARA<br>Latitude=%{lat}<br>Longitude=%{lon}<extra></extra>\", \"lat\": [37.5406812, 37.5406812], \"legendgroup\": \"MONTARA\", \"lon\": [-122.5056099, -122.5056099], \"marker\": {\"color\": \"#FF97FF\"}, \"mode\": \"markers\", \"name\": \"MONTARA\", \"showlegend\": true, \"subplot\": \"mapbox\", \"type\": \"scattermapbox\"}, {\"hovertemplate\": \"City=HILLSBOROUGH<br>Latitude=%{lat}<br>Longitude=%{lon}<extra></extra>\", \"lat\": [37.5612492, 37.6698644, 37.560728, 37.5354629], \"legendgroup\": \"HILLSBOROUGH\", \"lon\": [-122.3088034, -122.4094453, -122.3711401, -122.3427965], \"marker\": {\"color\": \"#FECB52\"}, \"mode\": \"markers\", \"name\": \"HILLSBOROUGH\", \"showlegend\": true, \"subplot\": \"mapbox\", \"type\": \"scattermapbox\"}, {\"hovertemplate\": \"City=SUNNYVALE<br>Latitude=%{lat}<br>Longitude=%{lon}<extra></extra>\", \"lat\": [37.4479181, 37.3708115, 37.3872911, 37.38884695, 37.35639085, 37.3553263, 37.3376839, 37.3922731, 37.37096405, 37.3815582], \"legendgroup\": \"SUNNYVALE\", \"lon\": [-122.1731764, -122.0642641, -122.0311437, -122.0050872, -122.0384519, -122.0235153, -122.0183715, -122.0125353, -122.0360376, -122.0162874], \"marker\": {\"color\": \"#636efa\"}, \"mode\": \"markers\", \"name\": \"SUNNYVALE\", \"showlegend\": true, \"subplot\": \"mapbox\", \"type\": \"scattermapbox\"}, {\"hovertemplate\": \"City=SAN JOSE<br>Latitude=%{lat}<br>Longitude=%{lon}<extra></extra>\", \"lat\": [37.3638561, 37.2474383, 37.628285, 37.3628642, 37.3270349, 37.3073342, 37.3748387, 37.3122123, 37.2274652, 37.31151475, 37.3242887, 37.2190415, 37.6401748, 37.2489101, 37.3534932, 37.2511072, 40.30655, 37.2733393, 37.2379468, 37.2631089, 37.3232608, 37.3628642, 37.1211683, 37.3088944, 37.313383, 37.3209172, 37.3465469, 37.2883499, 37.2523074, 37.3487551, 37.330906, 37.3217697, 37.3614732, 37.2519664, 37.265025, 37.324675, 37.3446934, 37.3534932, 37.3173736, 37.3178194, 37.3909042, 37.3910928, 37.3068419, 37.230084, 37.2825136, 37.305775, 37.2184915, 37.2700661, 37.2914013, 37.2927536, 37.2779776, 37.2292422, 37.3847011, 37.36195475, 37.2463229, 37.3968871, 37.3770258, 37.4108251, 37.4004593, 37.3724122, 37.3271769, 37.3291004, 37.3196761, 37.2379468, 37.3640919, 37.2513994, 37.3352232, 37.3281138, 37.2309859, 37.4107034, 37.4024942, 37.3736939, 37.3652254, 37.2755848, 37.3847907, 37.2643456, 37.2604066, 37.2292422, 37.2280775, 37.2817562, 37.3183448, 37.3281011, 37.3614732, 37.2812991, 37.2623343, 37.3863646, 37.3323068, 37.3121202, 37.3231372, 37.3488364, 37.3043418, 37.3017722, 37.3591192, 37.3662501, 40.305994, 37.3174619, 37.2364532, 37.3586186, 37.3652254, 37.3175037, 37.2489566, 37.3065292, 37.3054844, 37.289062, 37.3753474, 37.2953481, 37.3090662, 37.2969321, 37.304495, 37.2412158, 37.3108594, 37.2894819, 37.2703616, 37.3143836, 37.2424564, 37.2545784, 37.3511271], \"legendgroup\": \"SAN JOSE\", \"lon\": [-122.048307, -121.9041455, -122.4092442, -121.8342028, -121.9502027, -121.925742, -121.835388, -121.7977006, -121.7817773, -121.9981923, -121.8380938, -121.8477207, -122.4320398, -121.9549055, -121.8419088, -121.7717225, -89.605351, -121.9350822, -121.8865862, -121.9367162, -121.789797, -121.8342028, -121.6554694, -121.8935668, -122.0113018, -121.9481582, -121.9441994, -121.9109712, -121.844282, -121.8640784, -121.8414038, -121.9480922, -121.8397371, -121.9058706, -121.8987461, -121.8719586, -121.8594704, -121.8419088, -121.8159118, -121.8179944, -121.8075231, -121.807207, -121.8036004, -121.8680111, -121.858344, -121.7734244, -121.8592239, -121.8059647, -121.7729432, -121.8936849, -121.8722387, -121.7670383, -121.8345925, -121.8051119, -121.8135881, -121.8944701, -121.8770387, -121.8715737, -121.9221736, -121.872051, -121.9097864, -121.9184056, -121.9205125, -121.8865862, -121.8795938, -121.8625017, -121.8398098, -121.8076156, -121.7617713, -121.8613089, -121.8730241, -121.8343282, -121.8157683, -121.8215601, -121.8362528, -121.8134438, -121.8155026, -121.7670383, -121.7756466, -121.7662181, -121.7633663, -121.903698, -121.8397371, -121.8579826, -121.8262099, -121.8667583, -121.9192829, -121.9415533, -121.9543915, -121.8885222, -121.9490078, -121.8724465, -121.8468672, -121.8347088, -89.609046, -121.7799369, -121.8942691, -121.8096356, -121.8157683, -121.7883957, -121.7679888, -121.8450388, -121.8306703, -121.8810308, -121.8341603, -121.7560074, -121.7737022, -121.7743508, -121.7917662, -121.8667777, -121.794734, -121.8216742, -121.765972, -121.8004605, -121.8458751, -121.8502451, -121.9016611], \"marker\": {\"color\": \"#EF553B\"}, \"mode\": \"markers\", \"name\": \"SAN JOSE\", \"showlegend\": true, \"subplot\": \"mapbox\", \"type\": \"scattermapbox\"}, {\"hovertemplate\": \"City=CUPERTINO<br>Latitude=%{lat}<br>Longitude=%{lon}<extra></extra>\", \"lat\": [37.3192082, 37.3098872, 37.3063953, 37.3392587], \"legendgroup\": \"CUPERTINO\", \"lon\": [-121.9479626, -121.9660689, -122.0748324, -122.0346488], \"marker\": {\"color\": \"#00cc96\"}, \"mode\": \"markers\", \"name\": \"CUPERTINO\", \"showlegend\": true, \"subplot\": \"mapbox\", \"type\": \"scattermapbox\"}, {\"hovertemplate\": \"City=LOS GATOS<br>Latitude=%{lat}<br>Longitude=%{lon}<extra></extra>\", \"lat\": [37.319962, 37.4618034, 37.222893, 37.2235799, 37.2622889, 37.226852], \"legendgroup\": \"LOS GATOS\", \"lon\": [-122.0336021, -122.138141, -121.9160729, -121.9669878, -121.9909657, -121.998512], \"marker\": {\"color\": \"#ab63fa\"}, \"mode\": \"markers\", \"name\": \"LOS GATOS\", \"showlegend\": true, \"subplot\": \"mapbox\", \"type\": \"scattermapbox\"}, {\"hovertemplate\": \"City=LOS ALTOS<br>Latitude=%{lat}<br>Longitude=%{lon}<extra></extra>\", \"lat\": [37.2692856, 37.3928588, 37.3682673], \"legendgroup\": \"LOS ALTOS\", \"lon\": [-121.8017743, -122.1057163, -122.1121796], \"marker\": {\"color\": \"#FFA15A\"}, \"mode\": \"markers\", \"name\": \"LOS ALTOS\", \"showlegend\": true, \"subplot\": \"mapbox\", \"type\": \"scattermapbox\"}, {\"hovertemplate\": \"City=MOUNTAIN VIEW<br>Latitude=%{lat}<br>Longitude=%{lon}<extra></extra>\", \"lat\": [37.6655221, 37.4719506, 37.3884144, 37.3912795, 37.3809178, 37.3649097, 37.375187], \"legendgroup\": \"MOUNTAIN VIEW\", \"lon\": [-122.4633994, -122.1519599, -122.0768771, -122.0266266, -122.0777143, -122.0638172, -122.059038], \"marker\": {\"color\": \"#19d3f3\"}, \"mode\": \"markers\", \"name\": \"MOUNTAIN VIEW\", \"showlegend\": true, \"subplot\": \"mapbox\", \"type\": \"scattermapbox\"}, {\"hovertemplate\": \"City=SANTA CLARA<br>Latitude=%{lat}<br>Longitude=%{lon}<extra></extra>\", \"lat\": [37.3950133, 37.4458944, 37.2708369, 37.3935456, 37.395614, 37.354346, 37.3452755, 37.3985313, 37.3969486, 37.3470081, 37.3557937, 37.3686043, 37.3470081], \"legendgroup\": \"SANTA CLARA\", \"lon\": [-121.9481552, -122.1656966, -121.9980955, -121.9442042, -121.9652276, -121.9457396, -121.9477369, -121.9664301, -121.966123, -121.9329193, -121.9723099, -121.9745504, -121.9329193], \"marker\": {\"color\": \"#FF6692\"}, \"mode\": \"markers\", \"name\": \"SANTA CLARA\", \"showlegend\": true, \"subplot\": \"mapbox\", \"type\": \"scattermapbox\"}, {\"hovertemplate\": \"City=SARATOGA<br>Latitude=%{lat}<br>Longitude=%{lon}<extra></extra>\", \"lat\": [37.2722119, 37.2765365, 37.2883964, 37.25801, 37.2840669, 37.2623892, 37.2633549, 37.2562769], \"legendgroup\": \"SARATOGA\", \"lon\": [-121.9591534, -121.9272659, -121.997103, -121.999412, -122.0051157, -122.031049, -121.9928573, -122.0400933], \"marker\": {\"color\": \"#B6E880\"}, \"mode\": \"markers\", \"name\": \"SARATOGA\", \"showlegend\": true, \"subplot\": \"mapbox\", \"type\": \"scattermapbox\"}, {\"hovertemplate\": \"City=CAMPBELL<br>Latitude=%{lat}<br>Longitude=%{lon}<extra></extra>\", \"lat\": [37.2471839, 37.2768005], \"legendgroup\": \"CAMPBELL\", \"lon\": [-122.0090498, -121.9731748], \"marker\": {\"color\": \"#FF97FF\"}, \"mode\": \"markers\", \"name\": \"CAMPBELL\", \"showlegend\": true, \"subplot\": \"mapbox\", \"type\": \"scattermapbox\"}, {\"hovertemplate\": \"City=MORGAN HILL<br>Latitude=%{lat}<br>Longitude=%{lon}<extra></extra>\", \"lat\": [37.3203865, 37.1638333, 37.1378833, 37.1352817, 37.1442757, 37.1022146], \"legendgroup\": \"MORGAN HILL\", \"lon\": [-121.8033328, -121.6479067, -121.6109777, -121.6439774, -121.6418021, -121.6651803], \"marker\": {\"color\": \"#FECB52\"}, \"mode\": \"markers\", \"name\": \"MORGAN HILL\", \"showlegend\": true, \"subplot\": \"mapbox\", \"type\": \"scattermapbox\"}, {\"hovertemplate\": \"City=SAN MARTIN<br>Latitude=%{lat}<br>Longitude=%{lon}<extra></extra>\", \"lat\": [37.0894218, 37.0914119, 37.0849335], \"legendgroup\": \"SAN MARTIN\", \"lon\": [-121.6088676, -121.5920257, -121.582308], \"marker\": {\"color\": \"#636efa\"}, \"mode\": \"markers\", \"name\": \"SAN MARTIN\", \"showlegend\": true, \"subplot\": \"mapbox\", \"type\": \"scattermapbox\"}, {\"hovertemplate\": \"City=PALO ALTO<br>Latitude=%{lat}<br>Longitude=%{lon}<extra></extra>\", \"lat\": [37.415734, 37.4414696, 37.4444702, 37.39700365], \"legendgroup\": \"PALO ALTO\", \"lon\": [-122.093456, -122.1382942, -122.1495782, -122.1329751], \"marker\": {\"color\": \"#EF553B\"}, \"mode\": \"markers\", \"name\": \"PALO ALTO\", \"showlegend\": true, \"subplot\": \"mapbox\", \"type\": \"scattermapbox\"}, {\"hovertemplate\": \"City=GILROY<br>Latitude=%{lat}<br>Longitude=%{lon}<extra></extra>\", \"lat\": [37.0175829, 37.0251277, 37.0006335, 36.9932479, 37.0136314, 37.0052648, 37.0216332, 37.0042376, 37.0212872, 37.010759], \"legendgroup\": \"GILROY\", \"lon\": [-121.5845716, -121.6128693, -121.6011394, -121.7129001, -121.5758799, -121.5911049, -121.5981302, -121.6233185, -121.5902149, -121.482641], \"marker\": {\"color\": \"#00cc96\"}, \"mode\": \"markers\", \"name\": \"GILROY\", \"showlegend\": true, \"subplot\": \"mapbox\", \"type\": \"scattermapbox\"}, {\"hovertemplate\": \"City=MILPITAS<br>Latitude=%{lat}<br>Longitude=%{lon}<extra></extra>\", \"lat\": [37.4186025, 37.4336996, 37.4292132], \"legendgroup\": \"MILPITAS\", \"lon\": [-121.871046, -121.8775861, -121.91311], \"marker\": {\"color\": \"#ab63fa\"}, \"mode\": \"markers\", \"name\": \"MILPITAS\", \"showlegend\": true, \"subplot\": \"mapbox\", \"type\": \"scattermapbox\"}, {\"hovertemplate\": \"City=LOS ALTOS HILLS<br>Latitude=%{lat}<br>Longitude=%{lon}<extra></extra>\", \"lat\": [37.3435518, 37.3653402, 37.3632309], \"legendgroup\": \"LOS ALTOS HILLS\", \"lon\": [-122.1101898, -122.1344257, -122.1640052], \"marker\": {\"color\": \"#FFA15A\"}, \"mode\": \"markers\", \"name\": \"LOS ALTOS HILLS\", \"showlegend\": true, \"subplot\": \"mapbox\", \"type\": \"scattermapbox\"}, {\"hovertemplate\": \"City=MONTE SERENO<br>Latitude=%{lat}<br>Longitude=%{lon}<extra></extra>\", \"lat\": [37.2398622], \"legendgroup\": \"MONTE SERENO\", \"lon\": [-121.9902371], \"marker\": {\"color\": \"#19d3f3\"}, \"mode\": \"markers\", \"name\": \"MONTE SERENO\", \"showlegend\": true, \"subplot\": \"mapbox\", \"type\": \"scattermapbox\"}, {\"hovertemplate\": \"City=ALVISO<br>Latitude=%{lat}<br>Longitude=%{lon}<extra></extra>\", \"lat\": [37.4251897], \"legendgroup\": \"ALVISO\", \"lon\": [-121.9699556], \"marker\": {\"color\": \"#FF6692\"}, \"mode\": \"markers\", \"name\": \"ALVISO\", \"showlegend\": true, \"subplot\": \"mapbox\", \"type\": \"scattermapbox\"}, {\"hovertemplate\": \"City=SAN FRANCISCO<br>Latitude=%{lat}<br>Longitude=%{lon}<extra></extra>\", \"lat\": [37.725581, 37.7125198, 37.7847403, 37.7853941, 37.7674323, 37.7287461, 37.7488595, 37.7126228, 37.7143841, 37.744211, 37.7475619, 37.7366479, 37.7627923, 37.7142979, 37.732606, 37.7340914, 37.732533, 37.7840531, 37.7616479, 37.7701595, 37.7643617, 37.7596177, 37.7226338, 37.789877, 37.7705332, 37.7604405, 37.7337761, 37.7370238, 37.7908518, 37.7111983, 37.738156, 37.7134559, 37.7439541, 37.7213224, 37.7335102, 37.710744, 37.7784851, 37.7740068, 37.7815835, 37.7857195, 37.771842, 37.7270182, 37.71994248, 37.7652461, 37.734732, 37.7175645, 37.7342543, 37.725642, 37.7470732, 37.7845326, 37.7485563, 37.74172335, 37.7666701, 37.7640329, 37.7440364, 37.718106, 37.734901, 37.73087, 37.7366479, 37.7323059, 37.7196341, 37.7343858, 37.7935273, 37.7754605, 37.752923, 37.7098691, 37.7773172, 37.7814848, 37.7700691, 37.7849039, 37.7288536, 37.7707283, 37.7275872, 37.7703288, 37.8031282, 37.7126663, 37.7218605, 37.7140738, 37.735131, 37.743749, 37.7129696, 37.7218605, 37.8016451, 37.7608549, 37.719788, 37.7983271, 37.7773172, 37.7709118, 37.7795806, 37.738156, 37.7218429, 37.7419564, 37.7335102, 37.796398, 37.7857195, 37.7239476], \"legendgroup\": \"SAN FRANCISCO\", \"lon\": [-122.3861033, -122.4633942, -122.4213962, -122.4086959, -122.4184801, -122.4095541, -122.4273323, -122.446214, -122.4113282, -122.412275, -122.5007436, -122.4231783, -122.3929587, -122.467124, -122.411128, -122.3911082, -122.398675, -122.4503065, -122.4224192, -122.4458163, -122.5029967, -122.4492343, -122.3954566, -122.4056291, -122.4436809, -122.4159557, -122.457756, -122.4631499, -122.3900082, -122.4070341, -122.410879, -122.436472, -122.4226011, -122.4378855, -122.4341673, -122.4142894, -122.4254529, -122.4381384, -122.4945314, -122.421209, -122.4317409, -122.4760464, -122.3957041, -122.394857, -122.4107421, -122.4037808, -122.3929364, -122.384544, -122.387211, -122.4311381, -122.4782467, -122.4658569, -122.43335, -122.3937392, -122.4542995, -122.391206, -122.384994, -122.4290075, -122.4231783, -122.4534355, -122.4723654, -122.4759048, -122.3975149, -122.4638976, -122.4263115, -122.4643886, -122.419609, -122.3894557, -122.4327726, -122.4635065, -122.4552944, -122.408147, -122.4574003, -122.4177253, -122.4181701, -122.4320301, -122.4531202, -122.4560811, -122.384161, -122.410338, -122.4326944, -122.4531202, -122.4034935, -122.4489773, -122.3925027, -122.4030871, -122.419609, -122.4483853, -122.4570027, -122.410879, -122.4571823, -122.4233467, -122.4341673, -122.4184963, -122.421209, -122.4353803], \"marker\": {\"color\": \"#B6E880\"}, \"mode\": \"markers\", \"name\": \"SAN FRANCISCO\", \"showlegend\": true, \"subplot\": \"mapbox\", \"type\": \"scattermapbox\"}, {\"hovertemplate\": \"City=FAIRFIELD<br>Latitude=%{lat}<br>Longitude=%{lon}<extra></extra>\", \"lat\": [38.2611312, 38.260083, 38.268267, 38.2574592, 38.2234744, 38.1690575, 38.2427819, 38.271186, 38.1726804, 38.2566224, 38.2623665, 35.1256765, 38.263367, 38.2799478, 38.2828459, 38.2894588, 38.2835808, 38.2148019, 38.1940331, 38.2747059, 38.2654946, 38.1645146, 38.233133, 38.3007607, 38.270275, 38.212393, 38.2403405, 38.2717484, 38.271689, 38.1948186, 38.2649117, 38.2938987], \"legendgroup\": \"FAIRFIELD\", \"lon\": [-122.0311521, -122.036228, -122.016458, -122.0341308, -122.1522643, -122.1276578, -122.0751512, -121.998083, -122.1290942, -122.0694285, -122.0116657, -80.6268261, -122.043464, -122.0274298, -122.0631907, -122.0297131, -122.0134047, -122.1260367, -122.1425368, -122.0183464, -122.0421337, -122.1401321, -122.1327185, -122.0275276, -122.010942, -122.1284243, -122.1369564, -121.9590466, -122.00405, -122.1464957, -121.9878903, -122.0134262], \"marker\": {\"color\": \"#FF97FF\"}, \"mode\": \"markers\", \"name\": \"FAIRFIELD\", \"showlegend\": true, \"subplot\": \"mapbox\", \"type\": \"scattermapbox\"}, {\"hovertemplate\": \"City=VALLEJO<br>Latitude=%{lat}<br>Longitude=%{lon}<extra></extra>\", \"lat\": [38.15255, 38.147194, 38.072591, 38.0813486, 38.0693068, 38.117842, 38.0896968, 38.084386, 38.120225, 38.080353, 38.145144, 38.161492, 38.156889, 38.121642, 38.0942156, 38.107033, 38.0869191, 38.112156, 38.0912072, 38.10026, 38.122817, 38.124419, 38.080427, 38.122164, 38.147133, 38.1117452, 38.094986, 38.0730454, 38.124614, 38.1218925, 38.147408], \"legendgroup\": \"VALLEJO\", \"lon\": [-122.232581, -122.250144, -122.2081653, -122.2274537, -122.2225204, -122.221575, -122.2401609, -122.235244, -122.263, -122.224811, -122.231703, -122.176658, -122.175847, -122.243069, -122.2086547, -122.254814, -122.2045549, -122.227008, -122.2283403, -122.2009918, -122.264997, -122.247361, -122.235156, -122.263217, -122.231064, -122.2392422, -122.235864, -122.2010219, -122.214412, -122.2491635, -122.234117], \"marker\": {\"color\": \"#FECB52\"}, \"mode\": \"markers\", \"name\": \"VALLEJO\", \"showlegend\": true, \"subplot\": \"mapbox\", \"type\": \"scattermapbox\"}, {\"hovertemplate\": \"City=VACAVILLE<br>Latitude=%{lat}<br>Longitude=%{lon}<extra></extra>\", \"lat\": [38.3309245, 38.3460426, 38.3966161, 38.3394807, 38.3478137, 38.4025859, 38.359956, 38.3483282, 38.338282, 38.3649408, 38.366528, 38.3443345, 38.339914, 38.3413324, 38.398494, 38.3994314], \"legendgroup\": \"VACAVILLE\", \"lon\": [-121.9498757, -121.9599829, -121.9682425, -121.9601857, -121.953797, -121.981728, -122.006869, -121.9401349, -121.9506121, -121.9865027, -121.948825, -121.9435009, -121.990039, -121.960346, -121.9471421, -121.9466984], \"marker\": {\"color\": \"#636efa\"}, \"mode\": \"markers\", \"name\": \"VACAVILLE\", \"showlegend\": true, \"subplot\": \"mapbox\", \"type\": \"scattermapbox\"}, {\"hovertemplate\": \"City=RIO VISTA<br>Latitude=%{lat}<br>Longitude=%{lon}<extra></extra>\", \"lat\": [38.181806, 38.179672, 38.187503, 38.156506, 38.188214, 38.1800769], \"legendgroup\": \"RIO VISTA\", \"lon\": [-121.712803, -121.705014, -121.714963, -121.694803, -121.717208, -121.7193754], \"marker\": {\"color\": \"#EF553B\"}, \"mode\": \"markers\", \"name\": \"RIO VISTA\", \"showlegend\": true, \"subplot\": \"mapbox\", \"type\": \"scattermapbox\"}, {\"hovertemplate\": \"City=BENICIA<br>Latitude=%{lat}<br>Longitude=%{lon}<extra></extra>\", \"lat\": [38.080986, 38.063961, 38.0647375, 38.0737, 38.064882], \"legendgroup\": \"BENICIA\", \"lon\": [-122.154181, -122.158611, -122.16458, -122.157658, -122.160063], \"marker\": {\"color\": \"#00cc96\"}, \"mode\": \"markers\", \"name\": \"BENICIA\", \"showlegend\": true, \"subplot\": \"mapbox\", \"type\": \"scattermapbox\"}, {\"hovertemplate\": \"City=DIXON<br>Latitude=%{lat}<br>Longitude=%{lon}<extra></extra>\", \"lat\": [38.451428, 38.4491617, 38.4667862], \"legendgroup\": \"DIXON\", \"lon\": [-121.84615, -121.8212262, -121.8260449], \"marker\": {\"color\": \"#ab63fa\"}, \"mode\": \"markers\", \"name\": \"DIXON\", \"showlegend\": true, \"subplot\": \"mapbox\", \"type\": \"scattermapbox\"}, {\"hovertemplate\": \"City=SUISUN CITY<br>Latitude=%{lat}<br>Longitude=%{lon}<extra></extra>\", \"lat\": [38.2493962, 38.242636, 38.251, 38.255631, 38.2556214, 38.24073665, 38.250694, 38.238436, 38.250227, 38.2450411], \"legendgroup\": \"SUISUN CITY\", \"lon\": [-122.0124858, -122.0175011, -121.993286, -121.9873228, -122.0088977, -121.9997771, -122.023747, -121.989643, -122.001917, -122.0203342], \"marker\": {\"color\": \"#FFA15A\"}, \"mode\": \"markers\", \"name\": \"SUISUN CITY\", \"showlegend\": true, \"subplot\": \"mapbox\", \"type\": \"scattermapbox\"}, {\"hovertemplate\": \"City=PETALUMA<br>Latitude=%{lat}<br>Longitude=%{lon}<extra></extra>\", \"lat\": [38.2448278, 38.2512837, 38.2445651, 38.2248266, 38.2258085, 38.2360894, 38.244957, 38.2539835, 38.24272845, 38.2265021, 38.2658672], \"legendgroup\": \"PETALUMA\", \"lon\": [-122.5908653, -122.6133849, -122.6100526, -122.6612966, -122.6578098, -122.6570315, -122.640532, -122.6111735, -122.593792, -122.6610333, -122.6519448], \"marker\": {\"color\": \"#19d3f3\"}, \"mode\": \"markers\", \"name\": \"PETALUMA\", \"showlegend\": true, \"subplot\": \"mapbox\", \"type\": \"scattermapbox\"}, {\"hovertemplate\": \"City=WINDSOR<br>Latitude=%{lat}<br>Longitude=%{lon}<extra></extra>\", \"lat\": [38.5517797, 38.5368622, 38.5538729, 38.5490962, 38.5306914, 38.5538729, 38.5406929, 38.5465199, 38.5351538, 38.556397, 38.5473212], \"legendgroup\": \"WINDSOR\", \"lon\": [-122.8227282, -122.8058028, -122.8301346, -122.820754, -122.7849083, -122.8301346, -122.8205494, -122.8124967, -122.8096424, -122.8232501, -122.8280792], \"marker\": {\"color\": \"#FF6692\"}, \"mode\": \"markers\", \"name\": \"WINDSOR\", \"showlegend\": true, \"subplot\": \"mapbox\", \"type\": \"scattermapbox\"}, {\"hovertemplate\": \"City=SANTA ROSA<br>Latitude=%{lat}<br>Longitude=%{lon}<extra></extra>\", \"lat\": [38.4349106, 38.478231, 38.42742515, 38.4134573, 38.4531435, 38.4660462, 38.4487562, 38.4054808, 38.4458117, 38.4464738, 38.4845765, 38.424888, 38.4231889, 38.4078304, 38.4747147, 38.4410548, 38.4092271, 38.4364246, 38.4302471, 38.4376171, 38.4564623, 38.4612647, 38.4199792, 38.4747957, 38.4513618, 38.4737982, 38.4531611, 38.4383738, 38.4919794, 38.4422289, 38.4659516, 38.4142427, 38.4564623, 38.4493919, 38.5092402, 38.4350693, 38.4684999, 38.4260549, 38.46421, 38.4507968, 38.4410844, 38.44477, 38.4399012, 38.4409634, 38.4591863, 38.470069, 38.4611119, 38.4466566, 38.465811, 38.4860696, 38.4777855, 38.4725135, 38.412182], \"legendgroup\": \"SANTA ROSA\", \"lon\": [-122.7094626, -122.704651, -122.5795733, -122.7443867, -122.7308349, -122.6807617, -122.7277173, -122.7262165, -122.75353, -122.6162151, -122.7606035, -122.7318348, -122.762222, -122.7134758, -122.7587773, -122.7187544, -122.7472433, -122.5869082, -122.5892075, -122.7574111, -122.7391129, -122.7457503, -122.7661061, -122.7440927, -122.7494205, -122.7506803, -122.7093718, -122.5864975, -122.7065086, -122.7398967, -122.6338844, -122.7293005, -122.7391129, -122.728887, -122.6528874, -122.5964433, -122.7608331, -122.6668354, -122.7154196, -122.7439698, -122.7144795, -122.758705, -122.686224, -122.6862068, -122.7640645, -122.703862, -122.6900335, -122.7543612, -122.683827, -122.6998594, -122.7584176, -122.7366649, -122.7369683], \"marker\": {\"color\": \"#B6E880\"}, \"mode\": \"markers\", \"name\": \"SANTA ROSA\", \"showlegend\": true, \"subplot\": \"mapbox\", \"type\": \"scattermapbox\"}, {\"hovertemplate\": \"City=COTATI<br>Latitude=%{lat}<br>Longitude=%{lon}<extra></extra>\", \"lat\": [38.3272367, 38.2975425, 38.3223577, 38.2975425], \"legendgroup\": \"COTATI\", \"lon\": [-122.6977759, -122.7096841, -122.7099535, -122.7096841], \"marker\": {\"color\": \"#FF97FF\"}, \"mode\": \"markers\", \"name\": \"COTATI\", \"showlegend\": true, \"subplot\": \"mapbox\", \"type\": \"scattermapbox\"}, {\"hovertemplate\": \"City=ROHNERT PARK<br>Latitude=%{lat}<br>Longitude=%{lon}<extra></extra>\", \"lat\": [38.3447371, 38.3556036, 38.3676974, 38.3474827], \"legendgroup\": \"ROHNERT PARK\", \"lon\": [-122.6929398, -122.7025624, -122.6839051, -122.7058782], \"marker\": {\"color\": \"#FECB52\"}, \"mode\": \"markers\", \"name\": \"ROHNERT PARK\", \"showlegend\": true, \"subplot\": \"mapbox\", \"type\": \"scattermapbox\"}, {\"hovertemplate\": \"City=HEALDSBURG<br>Latitude=%{lat}<br>Longitude=%{lon}<extra></extra>\", \"lat\": [38.6094686, 38.6111907, 38.6180093], \"legendgroup\": \"HEALDSBURG\", \"lon\": [-122.8548614, -122.8742667, -122.8657511], \"marker\": {\"color\": \"#636efa\"}, \"mode\": \"markers\", \"name\": \"HEALDSBURG\", \"showlegend\": true, \"subplot\": \"mapbox\", \"type\": \"scattermapbox\"}, {\"hovertemplate\": \"City=GUERNEVILLE<br>Latitude=%{lat}<br>Longitude=%{lon}<extra></extra>\", \"lat\": [38.507562, 38.5127803], \"legendgroup\": \"GUERNEVILLE\", \"lon\": [-122.98449, -122.9988093], \"marker\": {\"color\": \"#EF553B\"}, \"mode\": \"markers\", \"name\": \"GUERNEVILLE\", \"showlegend\": true, \"subplot\": \"mapbox\", \"type\": \"scattermapbox\"}, {\"hovertemplate\": \"City=SEBASTOPOL<br>Latitude=%{lat}<br>Longitude=%{lon}<extra></extra>\", \"lat\": [38.3943345, 38.3867484], \"legendgroup\": \"SEBASTOPOL\", \"lon\": [-122.8271095, -122.8203225], \"marker\": {\"color\": \"#00cc96\"}, \"mode\": \"markers\", \"name\": \"SEBASTOPOL\", \"showlegend\": true, \"subplot\": \"mapbox\", \"type\": \"scattermapbox\"}, {\"hovertemplate\": \"City=CLOVERDALE<br>Latitude=%{lat}<br>Longitude=%{lon}<extra></extra>\", \"lat\": [44.64402, 38.7833441, 38.8111517, 38.7805741], \"legendgroup\": \"CLOVERDALE\", \"lon\": [-72.916213, -123.0183213, -123.0191761, -123.0167964], \"marker\": {\"color\": \"#ab63fa\"}, \"mode\": \"markers\", \"name\": \"CLOVERDALE\", \"showlegend\": true, \"subplot\": \"mapbox\", \"type\": \"scattermapbox\"}, {\"hovertemplate\": \"City=SONOMA<br>Latitude=%{lat}<br>Longitude=%{lon}<extra></extra>\", \"lat\": [38.2794709, 38.4639294, 38.297278, 38.2874657], \"legendgroup\": \"SONOMA\", \"lon\": [-122.4638767, -122.7366512, -122.50301, -122.4689353], \"marker\": {\"color\": \"#FFA15A\"}, \"mode\": \"markers\", \"name\": \"SONOMA\", \"showlegend\": true, \"subplot\": \"mapbox\", \"type\": \"scattermapbox\"}, {\"hovertemplate\": \"City=PENNGROVE<br>Latitude=%{lat}<br>Longitude=%{lon}<extra></extra>\", \"lat\": [38.2924533, 38.281236], \"legendgroup\": \"PENNGROVE\", \"lon\": [-122.6842034, -122.6804003], \"marker\": {\"color\": \"#19d3f3\"}, \"mode\": \"markers\", \"name\": \"PENNGROVE\", \"showlegend\": true, \"subplot\": \"mapbox\", \"type\": \"scattermapbox\"}, {\"hovertemplate\": \"City=OCCIDENTAL<br>Latitude=%{lat}<br>Longitude=%{lon}<extra></extra>\", \"lat\": [38.403412], \"legendgroup\": \"OCCIDENTAL\", \"lon\": [-122.961881], \"marker\": {\"color\": \"#FF6692\"}, \"mode\": \"markers\", \"name\": \"OCCIDENTAL\", \"showlegend\": true, \"subplot\": \"mapbox\", \"type\": \"scattermapbox\"}, {\"hovertemplate\": \"City=BODEGA BAY<br>Latitude=%{lat}<br>Longitude=%{lon}<extra></extra>\", \"lat\": [38.3345021], \"legendgroup\": \"BODEGA BAY\", \"lon\": [-123.0471526], \"marker\": {\"color\": \"#B6E880\"}, \"mode\": \"markers\", \"name\": \"BODEGA BAY\", \"showlegend\": true, \"subplot\": \"mapbox\", \"type\": \"scattermapbox\"}],                        {\"legend\": {\"title\": {\"text\": \"City\"}, \"tracegroupgap\": 0}, \"mapbox\": {\"accesstoken\": \"pk.eyJ1IjoiYnJpYW5oYWJhbmEiLCJhIjoiY2tvZzZhaDEzMGFlNjJ3bGxmOTVyYmlmcCJ9.CpzgJ8Mq1rTxB6uUpXzDsQ\", \"center\": {\"lat\": 37.845397333200765, \"lon\": -121.59581818062301}, \"domain\": {\"x\": [0.0, 1.0], \"y\": [0.0, 1.0]}, \"zoom\": 8}, \"template\": {\"data\": {\"bar\": [{\"error_x\": {\"color\": \"#2a3f5f\"}, \"error_y\": {\"color\": \"#2a3f5f\"}, \"marker\": {\"line\": {\"color\": \"#E5ECF6\", \"width\": 0.5}}, \"type\": \"bar\"}], \"barpolar\": [{\"marker\": {\"line\": {\"color\": \"#E5ECF6\", \"width\": 0.5}}, \"type\": \"barpolar\"}], \"carpet\": [{\"aaxis\": {\"endlinecolor\": \"#2a3f5f\", \"gridcolor\": \"white\", \"linecolor\": \"white\", \"minorgridcolor\": \"white\", \"startlinecolor\": \"#2a3f5f\"}, \"baxis\": {\"endlinecolor\": \"#2a3f5f\", \"gridcolor\": \"white\", \"linecolor\": \"white\", \"minorgridcolor\": \"white\", \"startlinecolor\": \"#2a3f5f\"}, \"type\": \"carpet\"}], \"choropleth\": [{\"colorbar\": {\"outlinewidth\": 0, \"ticks\": \"\"}, \"type\": \"choropleth\"}], \"contour\": [{\"colorbar\": {\"outlinewidth\": 0, \"ticks\": \"\"}, \"colorscale\": [[0.0, \"#0d0887\"], [0.1111111111111111, \"#46039f\"], [0.2222222222222222, \"#7201a8\"], [0.3333333333333333, \"#9c179e\"], [0.4444444444444444, \"#bd3786\"], [0.5555555555555556, \"#d8576b\"], [0.6666666666666666, \"#ed7953\"], [0.7777777777777778, \"#fb9f3a\"], [0.8888888888888888, \"#fdca26\"], [1.0, \"#f0f921\"]], \"type\": \"contour\"}], \"contourcarpet\": [{\"colorbar\": {\"outlinewidth\": 0, \"ticks\": \"\"}, \"type\": \"contourcarpet\"}], \"heatmap\": [{\"colorbar\": {\"outlinewidth\": 0, \"ticks\": \"\"}, \"colorscale\": [[0.0, \"#0d0887\"], [0.1111111111111111, \"#46039f\"], [0.2222222222222222, \"#7201a8\"], [0.3333333333333333, \"#9c179e\"], [0.4444444444444444, \"#bd3786\"], [0.5555555555555556, \"#d8576b\"], [0.6666666666666666, \"#ed7953\"], [0.7777777777777778, \"#fb9f3a\"], [0.8888888888888888, \"#fdca26\"], [1.0, \"#f0f921\"]], \"type\": \"heatmap\"}], \"heatmapgl\": [{\"colorbar\": {\"outlinewidth\": 0, \"ticks\": \"\"}, \"colorscale\": [[0.0, \"#0d0887\"], [0.1111111111111111, \"#46039f\"], [0.2222222222222222, \"#7201a8\"], [0.3333333333333333, \"#9c179e\"], [0.4444444444444444, \"#bd3786\"], [0.5555555555555556, \"#d8576b\"], [0.6666666666666666, \"#ed7953\"], [0.7777777777777778, \"#fb9f3a\"], [0.8888888888888888, \"#fdca26\"], [1.0, \"#f0f921\"]], \"type\": \"heatmapgl\"}], \"histogram\": [{\"marker\": {\"colorbar\": {\"outlinewidth\": 0, \"ticks\": \"\"}}, \"type\": \"histogram\"}], \"histogram2d\": [{\"colorbar\": {\"outlinewidth\": 0, \"ticks\": \"\"}, \"colorscale\": [[0.0, \"#0d0887\"], [0.1111111111111111, \"#46039f\"], [0.2222222222222222, \"#7201a8\"], [0.3333333333333333, \"#9c179e\"], [0.4444444444444444, \"#bd3786\"], [0.5555555555555556, \"#d8576b\"], [0.6666666666666666, \"#ed7953\"], [0.7777777777777778, \"#fb9f3a\"], [0.8888888888888888, \"#fdca26\"], [1.0, \"#f0f921\"]], \"type\": \"histogram2d\"}], \"histogram2dcontour\": [{\"colorbar\": {\"outlinewidth\": 0, \"ticks\": \"\"}, \"colorscale\": [[0.0, \"#0d0887\"], [0.1111111111111111, \"#46039f\"], [0.2222222222222222, \"#7201a8\"], [0.3333333333333333, \"#9c179e\"], [0.4444444444444444, \"#bd3786\"], [0.5555555555555556, \"#d8576b\"], [0.6666666666666666, \"#ed7953\"], [0.7777777777777778, \"#fb9f3a\"], [0.8888888888888888, \"#fdca26\"], [1.0, \"#f0f921\"]], \"type\": \"histogram2dcontour\"}], \"mesh3d\": [{\"colorbar\": {\"outlinewidth\": 0, \"ticks\": \"\"}, \"type\": \"mesh3d\"}], \"parcoords\": [{\"line\": {\"colorbar\": {\"outlinewidth\": 0, \"ticks\": \"\"}}, \"type\": \"parcoords\"}], \"pie\": [{\"automargin\": true, \"type\": \"pie\"}], \"scatter\": [{\"marker\": {\"colorbar\": {\"outlinewidth\": 0, \"ticks\": \"\"}}, \"type\": \"scatter\"}], \"scatter3d\": [{\"line\": {\"colorbar\": {\"outlinewidth\": 0, \"ticks\": \"\"}}, \"marker\": {\"colorbar\": {\"outlinewidth\": 0, \"ticks\": \"\"}}, \"type\": \"scatter3d\"}], \"scattercarpet\": [{\"marker\": {\"colorbar\": {\"outlinewidth\": 0, \"ticks\": \"\"}}, \"type\": \"scattercarpet\"}], \"scattergeo\": [{\"marker\": {\"colorbar\": {\"outlinewidth\": 0, \"ticks\": \"\"}}, \"type\": \"scattergeo\"}], \"scattergl\": [{\"marker\": {\"colorbar\": {\"outlinewidth\": 0, \"ticks\": \"\"}}, \"type\": \"scattergl\"}], \"scattermapbox\": [{\"marker\": {\"colorbar\": {\"outlinewidth\": 0, \"ticks\": \"\"}}, \"type\": \"scattermapbox\"}], \"scatterpolar\": [{\"marker\": {\"colorbar\": {\"outlinewidth\": 0, \"ticks\": \"\"}}, \"type\": \"scatterpolar\"}], \"scatterpolargl\": [{\"marker\": {\"colorbar\": {\"outlinewidth\": 0, \"ticks\": \"\"}}, \"type\": \"scatterpolargl\"}], \"scatterternary\": [{\"marker\": {\"colorbar\": {\"outlinewidth\": 0, \"ticks\": \"\"}}, \"type\": \"scatterternary\"}], \"surface\": [{\"colorbar\": {\"outlinewidth\": 0, \"ticks\": \"\"}, \"colorscale\": [[0.0, \"#0d0887\"], [0.1111111111111111, \"#46039f\"], [0.2222222222222222, \"#7201a8\"], [0.3333333333333333, \"#9c179e\"], [0.4444444444444444, \"#bd3786\"], [0.5555555555555556, \"#d8576b\"], [0.6666666666666666, \"#ed7953\"], [0.7777777777777778, \"#fb9f3a\"], [0.8888888888888888, \"#fdca26\"], [1.0, \"#f0f921\"]], \"type\": \"surface\"}], \"table\": [{\"cells\": {\"fill\": {\"color\": \"#EBF0F8\"}, \"line\": {\"color\": \"white\"}}, \"header\": {\"fill\": {\"color\": \"#C8D4E3\"}, \"line\": {\"color\": \"white\"}}, \"type\": \"table\"}]}, \"layout\": {\"annotationdefaults\": {\"arrowcolor\": \"#2a3f5f\", \"arrowhead\": 0, \"arrowwidth\": 1}, \"coloraxis\": {\"colorbar\": {\"outlinewidth\": 0, \"ticks\": \"\"}}, \"colorscale\": {\"diverging\": [[0, \"#8e0152\"], [0.1, \"#c51b7d\"], [0.2, \"#de77ae\"], [0.3, \"#f1b6da\"], [0.4, \"#fde0ef\"], [0.5, \"#f7f7f7\"], [0.6, \"#e6f5d0\"], [0.7, \"#b8e186\"], [0.8, \"#7fbc41\"], [0.9, \"#4d9221\"], [1, \"#276419\"]], \"sequential\": [[0.0, \"#0d0887\"], [0.1111111111111111, \"#46039f\"], [0.2222222222222222, \"#7201a8\"], [0.3333333333333333, \"#9c179e\"], [0.4444444444444444, \"#bd3786\"], [0.5555555555555556, \"#d8576b\"], [0.6666666666666666, \"#ed7953\"], [0.7777777777777778, \"#fb9f3a\"], [0.8888888888888888, \"#fdca26\"], [1.0, \"#f0f921\"]], \"sequentialminus\": [[0.0, \"#0d0887\"], [0.1111111111111111, \"#46039f\"], [0.2222222222222222, \"#7201a8\"], [0.3333333333333333, \"#9c179e\"], [0.4444444444444444, \"#bd3786\"], [0.5555555555555556, \"#d8576b\"], [0.6666666666666666, \"#ed7953\"], [0.7777777777777778, \"#fb9f3a\"], [0.8888888888888888, \"#fdca26\"], [1.0, \"#f0f921\"]]}, \"colorway\": [\"#636efa\", \"#EF553B\", \"#00cc96\", \"#ab63fa\", \"#FFA15A\", \"#19d3f3\", \"#FF6692\", \"#B6E880\", \"#FF97FF\", \"#FECB52\"], \"font\": {\"color\": \"#2a3f5f\"}, \"geo\": {\"bgcolor\": \"white\", \"lakecolor\": \"white\", \"landcolor\": \"#E5ECF6\", \"showlakes\": true, \"showland\": true, \"subunitcolor\": \"white\"}, \"hoverlabel\": {\"align\": \"left\"}, \"hovermode\": \"closest\", \"mapbox\": {\"style\": \"light\"}, \"paper_bgcolor\": \"white\", \"plot_bgcolor\": \"#E5ECF6\", \"polar\": {\"angularaxis\": {\"gridcolor\": \"white\", \"linecolor\": \"white\", \"ticks\": \"\"}, \"bgcolor\": \"#E5ECF6\", \"radialaxis\": {\"gridcolor\": \"white\", \"linecolor\": \"white\", \"ticks\": \"\"}}, \"scene\": {\"xaxis\": {\"backgroundcolor\": \"#E5ECF6\", \"gridcolor\": \"white\", \"gridwidth\": 2, \"linecolor\": \"white\", \"showbackground\": true, \"ticks\": \"\", \"zerolinecolor\": \"white\"}, \"yaxis\": {\"backgroundcolor\": \"#E5ECF6\", \"gridcolor\": \"white\", \"gridwidth\": 2, \"linecolor\": \"white\", \"showbackground\": true, \"ticks\": \"\", \"zerolinecolor\": \"white\"}, \"zaxis\": {\"backgroundcolor\": \"#E5ECF6\", \"gridcolor\": \"white\", \"gridwidth\": 2, \"linecolor\": \"white\", \"showbackground\": true, \"ticks\": \"\", \"zerolinecolor\": \"white\"}}, \"shapedefaults\": {\"line\": {\"color\": \"#2a3f5f\"}}, \"ternary\": {\"aaxis\": {\"gridcolor\": \"white\", \"linecolor\": \"white\", \"ticks\": \"\"}, \"baxis\": {\"gridcolor\": \"white\", \"linecolor\": \"white\", \"ticks\": \"\"}, \"bgcolor\": \"#E5ECF6\", \"caxis\": {\"gridcolor\": \"white\", \"linecolor\": \"white\", \"ticks\": \"\"}}, \"title\": {\"x\": 0.05}, \"xaxis\": {\"automargin\": true, \"gridcolor\": \"white\", \"linecolor\": \"white\", \"ticks\": \"\", \"title\": {\"standoff\": 15}, \"zerolinecolor\": \"white\", \"zerolinewidth\": 2}, \"yaxis\": {\"automargin\": true, \"gridcolor\": \"white\", \"linecolor\": \"white\", \"ticks\": \"\", \"title\": {\"standoff\": 15}, \"zerolinecolor\": \"white\", \"zerolinewidth\": 2}}}, \"title\": {\"text\": \"Foreclosures scatter plot\"}},                        {\"responsive\": true}                    ).then(function(){\n",
       "                            \n",
       "var gd = document.getElementById('c5f01c02-6635-4398-8a3f-7b0e21b10dec');\n",
       "var x = new MutationObserver(function (mutations, observer) {{\n",
       "        var display = window.getComputedStyle(gd).display;\n",
       "        if (!display || display === 'none') {{\n",
       "            console.log([gd, 'removed!']);\n",
       "            Plotly.purge(gd);\n",
       "            observer.disconnect();\n",
       "        }}\n",
       "}});\n",
       "\n",
       "// Listen for the removal of the full notebook cells\n",
       "var notebookContainer = gd.closest('#notebook-container');\n",
       "if (notebookContainer) {{\n",
       "    x.observe(notebookContainer, {childList: true});\n",
       "}}\n",
       "\n",
       "// Listen for the clearing of the current output cell\n",
       "var outputEl = gd.closest('.output');\n",
       "if (outputEl) {{\n",
       "    x.observe(outputEl, {childList: true});\n",
       "}}\n",
       "\n",
       "                        })                };                });            </script>        </div>"
      ]
     },
     "metadata": {},
     "output_type": "display_data"
    }
   ],
   "source": [
    "# Create the Mapbox Scatter plot based on the most_foreclosures_df DataFrame.\n",
    "# The color parameter should be based on city\n",
    "px.scatter_mapbox(\n",
    "foreclosure_df,\n",
    "    lat='Latitude',\n",
    "    lon='Longitude',\n",
    "    zoom=8,\n",
    "    title='Foreclosures scatter plot',\n",
    "    color='City',\n",
    ")"
   ]
  },
  {
   "cell_type": "code",
   "execution_count": 54,
   "metadata": {},
   "outputs": [
    {
     "ename": "ValueError",
     "evalue": "Value of 'color' is not the name of a column in 'data_frame'. Expected one of ['County', 'Address', 'City', 'Sq Ft', 'Beds', 'Baths', 'Est Value', 'Est Equity', 'Owner', 'Owner Occ?', 'Listed for Sale?', 'Foreclosure', 'Concatenated Address', 'Latitude', 'Longitude'] but received: Owner Occ",
     "output_type": "error",
     "traceback": [
      "\u001b[0;31m---------------------------------------------------------------------------\u001b[0m",
      "\u001b[0;31mValueError\u001b[0m                                Traceback (most recent call last)",
      "\u001b[0;32m<ipython-input-54-0660107a8bb3>\u001b[0m in \u001b[0;36m<module>\u001b[0;34m\u001b[0m\n\u001b[1;32m      7\u001b[0m     \u001b[0mzoom\u001b[0m\u001b[0;34m=\u001b[0m\u001b[0;36m8\u001b[0m\u001b[0;34m,\u001b[0m\u001b[0;34m\u001b[0m\u001b[0;34m\u001b[0m\u001b[0m\n\u001b[1;32m      8\u001b[0m     \u001b[0mtitle\u001b[0m\u001b[0;34m=\u001b[0m\u001b[0;34m'Foreclosures scatter plot'\u001b[0m\u001b[0;34m,\u001b[0m\u001b[0;34m\u001b[0m\u001b[0;34m\u001b[0m\u001b[0m\n\u001b[0;32m----> 9\u001b[0;31m     \u001b[0mcolor\u001b[0m\u001b[0;34m=\u001b[0m\u001b[0;34m'Owner Occ'\u001b[0m\u001b[0;34m,\u001b[0m\u001b[0;34m\u001b[0m\u001b[0;34m\u001b[0m\u001b[0m\n\u001b[0m\u001b[1;32m     10\u001b[0m )\n",
      "\u001b[0;32m~/opt/anaconda3/envs/dev/lib/python3.7/site-packages/plotly/express/_chart_types.py\u001b[0m in \u001b[0;36mscatter_mapbox\u001b[0;34m(data_frame, lat, lon, color, text, hover_name, hover_data, custom_data, size, animation_frame, animation_group, category_orders, labels, color_discrete_sequence, color_discrete_map, color_continuous_scale, range_color, color_continuous_midpoint, opacity, size_max, zoom, center, mapbox_style, title, template, width, height)\u001b[0m\n\u001b[1;32m   1124\u001b[0m     \u001b[0msymbol\u001b[0m \u001b[0mmark\u001b[0m \u001b[0mon\u001b[0m \u001b[0ma\u001b[0m \u001b[0mMapbox\u001b[0m \u001b[0mmap\u001b[0m\u001b[0;34m.\u001b[0m\u001b[0;34m\u001b[0m\u001b[0;34m\u001b[0m\u001b[0m\n\u001b[1;32m   1125\u001b[0m     \"\"\"\n\u001b[0;32m-> 1126\u001b[0;31m     \u001b[0;32mreturn\u001b[0m \u001b[0mmake_figure\u001b[0m\u001b[0;34m(\u001b[0m\u001b[0margs\u001b[0m\u001b[0;34m=\u001b[0m\u001b[0mlocals\u001b[0m\u001b[0;34m(\u001b[0m\u001b[0;34m)\u001b[0m\u001b[0;34m,\u001b[0m \u001b[0mconstructor\u001b[0m\u001b[0;34m=\u001b[0m\u001b[0mgo\u001b[0m\u001b[0;34m.\u001b[0m\u001b[0mScattermapbox\u001b[0m\u001b[0;34m)\u001b[0m\u001b[0;34m\u001b[0m\u001b[0;34m\u001b[0m\u001b[0m\n\u001b[0m\u001b[1;32m   1127\u001b[0m \u001b[0;34m\u001b[0m\u001b[0m\n\u001b[1;32m   1128\u001b[0m \u001b[0;34m\u001b[0m\u001b[0m\n",
      "\u001b[0;32m~/opt/anaconda3/envs/dev/lib/python3.7/site-packages/plotly/express/_core.py\u001b[0m in \u001b[0;36mmake_figure\u001b[0;34m(args, constructor, trace_patch, layout_patch)\u001b[0m\n\u001b[1;32m   1822\u001b[0m     \u001b[0mapply_default_cascade\u001b[0m\u001b[0;34m(\u001b[0m\u001b[0margs\u001b[0m\u001b[0;34m)\u001b[0m\u001b[0;34m\u001b[0m\u001b[0;34m\u001b[0m\u001b[0m\n\u001b[1;32m   1823\u001b[0m \u001b[0;34m\u001b[0m\u001b[0m\n\u001b[0;32m-> 1824\u001b[0;31m     \u001b[0margs\u001b[0m \u001b[0;34m=\u001b[0m \u001b[0mbuild_dataframe\u001b[0m\u001b[0;34m(\u001b[0m\u001b[0margs\u001b[0m\u001b[0;34m,\u001b[0m \u001b[0mconstructor\u001b[0m\u001b[0;34m)\u001b[0m\u001b[0;34m\u001b[0m\u001b[0;34m\u001b[0m\u001b[0m\n\u001b[0m\u001b[1;32m   1825\u001b[0m     \u001b[0;32mif\u001b[0m \u001b[0mconstructor\u001b[0m \u001b[0;32min\u001b[0m \u001b[0;34m[\u001b[0m\u001b[0mgo\u001b[0m\u001b[0;34m.\u001b[0m\u001b[0mTreemap\u001b[0m\u001b[0;34m,\u001b[0m \u001b[0mgo\u001b[0m\u001b[0;34m.\u001b[0m\u001b[0mSunburst\u001b[0m\u001b[0;34m]\u001b[0m \u001b[0;32mand\u001b[0m \u001b[0margs\u001b[0m\u001b[0;34m[\u001b[0m\u001b[0;34m\"path\"\u001b[0m\u001b[0;34m]\u001b[0m \u001b[0;32mis\u001b[0m \u001b[0;32mnot\u001b[0m \u001b[0;32mNone\u001b[0m\u001b[0;34m:\u001b[0m\u001b[0;34m\u001b[0m\u001b[0;34m\u001b[0m\u001b[0m\n\u001b[1;32m   1826\u001b[0m         \u001b[0margs\u001b[0m \u001b[0;34m=\u001b[0m \u001b[0mprocess_dataframe_hierarchy\u001b[0m\u001b[0;34m(\u001b[0m\u001b[0margs\u001b[0m\u001b[0;34m)\u001b[0m\u001b[0;34m\u001b[0m\u001b[0;34m\u001b[0m\u001b[0m\n",
      "\u001b[0;32m~/opt/anaconda3/envs/dev/lib/python3.7/site-packages/plotly/express/_core.py\u001b[0m in \u001b[0;36mbuild_dataframe\u001b[0;34m(args, constructor)\u001b[0m\n\u001b[1;32m   1347\u001b[0m \u001b[0;34m\u001b[0m\u001b[0m\n\u001b[1;32m   1348\u001b[0m     df_output, wide_id_vars = process_args_into_dataframe(\n\u001b[0;32m-> 1349\u001b[0;31m         \u001b[0margs\u001b[0m\u001b[0;34m,\u001b[0m \u001b[0mwide_mode\u001b[0m\u001b[0;34m,\u001b[0m \u001b[0mvar_name\u001b[0m\u001b[0;34m,\u001b[0m \u001b[0mvalue_name\u001b[0m\u001b[0;34m\u001b[0m\u001b[0;34m\u001b[0m\u001b[0m\n\u001b[0m\u001b[1;32m   1350\u001b[0m     )\n\u001b[1;32m   1351\u001b[0m \u001b[0;34m\u001b[0m\u001b[0m\n",
      "\u001b[0;32m~/opt/anaconda3/envs/dev/lib/python3.7/site-packages/plotly/express/_core.py\u001b[0m in \u001b[0;36mprocess_args_into_dataframe\u001b[0;34m(args, wide_mode, var_name, value_name)\u001b[0m\n\u001b[1;32m   1152\u001b[0m                         \u001b[0;32mif\u001b[0m \u001b[0margument\u001b[0m \u001b[0;34m==\u001b[0m \u001b[0;34m\"index\"\u001b[0m\u001b[0;34m:\u001b[0m\u001b[0;34m\u001b[0m\u001b[0;34m\u001b[0m\u001b[0m\n\u001b[1;32m   1153\u001b[0m                             \u001b[0merr_msg\u001b[0m \u001b[0;34m+=\u001b[0m \u001b[0;34m\"\\n To use the index, pass it in directly as `df.index`.\"\u001b[0m\u001b[0;34m\u001b[0m\u001b[0;34m\u001b[0m\u001b[0m\n\u001b[0;32m-> 1154\u001b[0;31m                         \u001b[0;32mraise\u001b[0m \u001b[0mValueError\u001b[0m\u001b[0;34m(\u001b[0m\u001b[0merr_msg\u001b[0m\u001b[0;34m)\u001b[0m\u001b[0;34m\u001b[0m\u001b[0;34m\u001b[0m\u001b[0m\n\u001b[0m\u001b[1;32m   1155\u001b[0m                 \u001b[0;32melif\u001b[0m \u001b[0mlength\u001b[0m \u001b[0;32mand\u001b[0m \u001b[0mlen\u001b[0m\u001b[0;34m(\u001b[0m\u001b[0mdf_input\u001b[0m\u001b[0;34m[\u001b[0m\u001b[0margument\u001b[0m\u001b[0;34m]\u001b[0m\u001b[0;34m)\u001b[0m \u001b[0;34m!=\u001b[0m \u001b[0mlength\u001b[0m\u001b[0;34m:\u001b[0m\u001b[0;34m\u001b[0m\u001b[0;34m\u001b[0m\u001b[0m\n\u001b[1;32m   1156\u001b[0m                     raise ValueError(\n",
      "\u001b[0;31mValueError\u001b[0m: Value of 'color' is not the name of a column in 'data_frame'. Expected one of ['County', 'Address', 'City', 'Sq Ft', 'Beds', 'Baths', 'Est Value', 'Est Equity', 'Owner', 'Owner Occ?', 'Listed for Sale?', 'Foreclosure', 'Concatenated Address', 'Latitude', 'Longitude'] but received: Owner Occ"
     ]
    }
   ],
   "source": [
    "# Create the Mapbox Scatter plot based on the most_foreclosures_df DataFrame.\n",
    "# The color parameter should be based on city\n",
    "px.scatter_mapbox(\n",
    "foreclosure_df,\n",
    "    lat='Latitude',\n",
    "    lon='Longitude',\n",
    "    zoom=8,\n",
    "    title='Foreclosures scatter plot',\n",
    "    color='Owner Occ',\n",
    ")"
   ]
  },
  {
   "cell_type": "code",
   "execution_count": null,
   "metadata": {},
   "outputs": [],
   "source": []
  }
 ],
 "metadata": {
  "kernelspec": {
   "display_name": "Python 3",
   "language": "python",
   "name": "python3"
  },
  "language_info": {
   "codemirror_mode": {
    "name": "ipython",
    "version": 3
   },
   "file_extension": ".py",
   "mimetype": "text/x-python",
   "name": "python",
   "nbconvert_exporter": "python",
   "pygments_lexer": "ipython3",
   "version": "3.7.9"
  }
 },
 "nbformat": 4,
 "nbformat_minor": 4
}
